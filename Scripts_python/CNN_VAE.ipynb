{
 "cells": [
  {
   "cell_type": "markdown",
   "id": "aa72cc7a-dd83-4517-a483-1684610df5e1",
   "metadata": {},
   "source": [
    "### Treat FC as an \"image\" — symmetric, structured matrix with spatial meaning\n",
    "* Learn local motifs or modular structures in brain connectivity"
   ]
  },
  {
   "cell_type": "code",
   "execution_count": null,
   "id": "47d8da30-9873-45a8-b818-4939a3233a27",
   "metadata": {},
   "outputs": [],
   "source": [
    "class CNNEncoder(nn.Module):\n",
    "    def __init__(self, latent_dim):\n",
    "        super().__init__()\n",
    "        self.conv = nn.Sequential(\n",
    "            nn.Conv2d(1, 16, kernel_size=3, padding=1),\n",
    "            nn.ReLU(),\n",
    "            nn.MaxPool2d(2),  # output: 45x45\n",
    "            nn.Conv2d(16, 32, kernel_size=3, padding=1),\n",
    "            nn.ReLU(),\n",
    "            nn.MaxPool2d(3)   # output: 15x15\n",
    "        )\n",
    "        self.fc_mu = nn.Linear(32 * 15 * 15, latent_dim)\n",
    "        self.fc_logvar = nn.Linear(32 * 15 * 15, latent_dim)\n",
    "\n",
    "    def forward(self, x):  # x shape: (batch, 1, 90, 90)\n",
    "        h = self.conv(x)\n",
    "        h = h.view(h.size(0), -1)\n",
    "        return self.fc_mu(h), self.fc_logvar(h)\n"
   ]
  }
 ],
 "metadata": {
  "kernelspec": {
   "display_name": "Python 3 (ipykernel)",
   "language": "python",
   "name": "python3"
  },
  "language_info": {
   "codemirror_mode": {
    "name": "ipython",
    "version": 3
   },
   "file_extension": ".py",
   "mimetype": "text/x-python",
   "name": "python",
   "nbconvert_exporter": "python",
   "pygments_lexer": "ipython3",
   "version": "3.13.3"
  }
 },
 "nbformat": 4,
 "nbformat_minor": 5
}
