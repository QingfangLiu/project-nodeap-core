{
 "cells": [
  {
   "cell_type": "markdown",
   "id": "60068954-81bc-4682-85d1-adbfe301b900",
   "metadata": {},
   "source": [
    "### this script is trying to apply VAE to session-wise functional connectivity patterns\n",
    "\n",
    "* functional connectivity patterns are derived from AAL atlas with 170 ROIs\n",
    "* FC is calculated among 170 AAL ROIs (170*170 matrix) with NAN values\n"
   ]
  },
  {
   "cell_type": "code",
   "execution_count": 18,
   "id": "8004c283-162a-43f1-ae97-3d7c5dadcdb9",
   "metadata": {},
   "outputs": [],
   "source": [
    "import numpy as np\n",
    "from scipy.io import loadmat\n",
    "import nibabel as nib\n",
    "import pandas as pd\n",
    "import os\n",
    "from pathlib import Path\n",
    "import matplotlib.pyplot as plt"
   ]
  },
  {
   "cell_type": "code",
   "execution_count": 19,
   "id": "e63bf29d-56a8-4165-bccd-de3d8d15a8f1",
   "metadata": {},
   "outputs": [],
   "source": [
    "import torch\n",
    "import torch.nn as nn\n",
    "import torch.nn.functional as F"
   ]
  },
  {
   "cell_type": "code",
   "execution_count": 20,
   "id": "b2a3da6a-908c-4ce9-aea8-c471301acfaa",
   "metadata": {},
   "outputs": [],
   "source": [
    "from sklearn import datasets, svm\n",
    "from sklearn.feature_selection import SelectPercentile, f_classif\n",
    "from sklearn.pipeline import Pipeline\n",
    "from sklearn.preprocessing import StandardScaler\n",
    "from sklearn.svm import SVC\n",
    "from sklearn.inspection import DecisionBoundaryDisplay\n",
    "\n",
    "from sklearn.linear_model import LogisticRegression\n",
    "from sklearn.model_selection import train_test_split\n",
    "from sklearn.metrics import accuracy_score, classification_report\n",
    "from sklearn.metrics import confusion_matrix, ConfusionMatrixDisplay\n",
    "from sklearn.model_selection import cross_val_score\n",
    "from sklearn.model_selection import GroupKFold"
   ]
  },
  {
   "cell_type": "code",
   "execution_count": 21,
   "id": "ac1f6dd8-4bc6-422c-8577-8df2bb4e2cf4",
   "metadata": {},
   "outputs": [],
   "source": [
    "from sklearn.manifold import TSNE\n",
    "import umap.umap_ as umap"
   ]
  },
  {
   "cell_type": "code",
   "execution_count": 22,
   "id": "88aa0431-5e62-4823-8749-165b89cd8fc1",
   "metadata": {},
   "outputs": [],
   "source": [
    "# Load subject info\n",
    "SubInfo = pd.read_excel('/Users/liuq13/NODEAP_scripts/ProcessedData/SubConds.xlsx')\n",
    "Subs = SubInfo[SubInfo['Include'] == 1]['SubID']\n",
    "base_nifti_folder = '/Volumes/X9Pro/NODEAP/FuncConn_AAL_PAID'\n",
    "sessions = ['D0', 'S1D1', 'S1D2', 'S2D1', 'S2D2', 'S3D1', 'S3D2']"
   ]
  },
  {
   "cell_type": "code",
   "execution_count": 23,
   "id": "38c63e29-594d-47d5-bd01-cdfd1bfd1bfb",
   "metadata": {},
   "outputs": [
    {
     "data": {
      "text/html": [
       "<div>\n",
       "<style scoped>\n",
       "    .dataframe tbody tr th:only-of-type {\n",
       "        vertical-align: middle;\n",
       "    }\n",
       "\n",
       "    .dataframe tbody tr th {\n",
       "        vertical-align: top;\n",
       "    }\n",
       "\n",
       "    .dataframe thead th {\n",
       "        text-align: right;\n",
       "    }\n",
       "</style>\n",
       "<table border=\"1\" class=\"dataframe\">\n",
       "  <thead>\n",
       "    <tr style=\"text-align: right;\">\n",
       "      <th></th>\n",
       "      <th>SubID</th>\n",
       "      <th>Gender</th>\n",
       "      <th>Birth.Year</th>\n",
       "      <th>StimLoc</th>\n",
       "      <th>StimOrder</th>\n",
       "      <th>Odors</th>\n",
       "      <th>StartOdor</th>\n",
       "      <th>Age</th>\n",
       "      <th>Sex</th>\n",
       "      <th>Include</th>\n",
       "      <th>btS1</th>\n",
       "      <th>btS2</th>\n",
       "      <th>btS3</th>\n",
       "      <th>btS1S2</th>\n",
       "      <th>btS2S3</th>\n",
       "    </tr>\n",
       "  </thead>\n",
       "  <tbody>\n",
       "    <tr>\n",
       "      <th>0</th>\n",
       "      <td>NODEAP_06</td>\n",
       "      <td>Male</td>\n",
       "      <td>1992</td>\n",
       "      <td>Posterior</td>\n",
       "      <td>321</td>\n",
       "      <td>Chocolate, Garlic</td>\n",
       "      <td>Sweet</td>\n",
       "      <td>30.83</td>\n",
       "      <td>M</td>\n",
       "      <td>1</td>\n",
       "      <td>1</td>\n",
       "      <td>1</td>\n",
       "      <td>1</td>\n",
       "      <td>13</td>\n",
       "      <td>15</td>\n",
       "    </tr>\n",
       "    <tr>\n",
       "      <th>1</th>\n",
       "      <td>NODEAP_07</td>\n",
       "      <td>Female</td>\n",
       "      <td>1991</td>\n",
       "      <td>Anterior</td>\n",
       "      <td>312</td>\n",
       "      <td>Pineapple, Pizza</td>\n",
       "      <td>Savory</td>\n",
       "      <td>32.01</td>\n",
       "      <td>F</td>\n",
       "      <td>1</td>\n",
       "      <td>1</td>\n",
       "      <td>1</td>\n",
       "      <td>1</td>\n",
       "      <td>20</td>\n",
       "      <td>13</td>\n",
       "    </tr>\n",
       "    <tr>\n",
       "      <th>2</th>\n",
       "      <td>NODEAP_08</td>\n",
       "      <td>Male</td>\n",
       "      <td>1996</td>\n",
       "      <td>Posterior</td>\n",
       "      <td>132</td>\n",
       "      <td>Chocolate, Garlic</td>\n",
       "      <td>Sweet</td>\n",
       "      <td>26.19</td>\n",
       "      <td>M</td>\n",
       "      <td>1</td>\n",
       "      <td>1</td>\n",
       "      <td>1</td>\n",
       "      <td>1</td>\n",
       "      <td>12</td>\n",
       "      <td>14</td>\n",
       "    </tr>\n",
       "    <tr>\n",
       "      <th>3</th>\n",
       "      <td>NODEAP_09</td>\n",
       "      <td>Female</td>\n",
       "      <td>2000</td>\n",
       "      <td>Posterior</td>\n",
       "      <td>321</td>\n",
       "      <td>Gingerbread, Garlic</td>\n",
       "      <td>Savory</td>\n",
       "      <td>22.32</td>\n",
       "      <td>F</td>\n",
       "      <td>1</td>\n",
       "      <td>1</td>\n",
       "      <td>1</td>\n",
       "      <td>1</td>\n",
       "      <td>14</td>\n",
       "      <td>27</td>\n",
       "    </tr>\n",
       "    <tr>\n",
       "      <th>4</th>\n",
       "      <td>NODEAP_10</td>\n",
       "      <td>Male</td>\n",
       "      <td>1999</td>\n",
       "      <td>Posterior</td>\n",
       "      <td>321</td>\n",
       "      <td>Chocolate, Garlic</td>\n",
       "      <td>Savory</td>\n",
       "      <td>23.62</td>\n",
       "      <td>M</td>\n",
       "      <td>1</td>\n",
       "      <td>1</td>\n",
       "      <td>1</td>\n",
       "      <td>1</td>\n",
       "      <td>13</td>\n",
       "      <td>12</td>\n",
       "    </tr>\n",
       "  </tbody>\n",
       "</table>\n",
       "</div>"
      ],
      "text/plain": [
       "       SubID  Gender  Birth.Year    StimLoc  StimOrder                 Odors  \\\n",
       "0  NODEAP_06    Male        1992  Posterior        321    Chocolate, Garlic    \n",
       "1  NODEAP_07  Female        1991   Anterior        312      Pineapple, Pizza   \n",
       "2  NODEAP_08    Male        1996  Posterior        132    Chocolate, Garlic    \n",
       "3  NODEAP_09  Female        2000  Posterior        321  Gingerbread, Garlic    \n",
       "4  NODEAP_10    Male        1999  Posterior        321    Chocolate, Garlic    \n",
       "\n",
       "  StartOdor    Age Sex  Include  btS1  btS2  btS3  btS1S2  btS2S3  \n",
       "0     Sweet  30.83   M        1     1     1     1      13      15  \n",
       "1    Savory  32.01   F        1     1     1     1      20      13  \n",
       "2     Sweet  26.19   M        1     1     1     1      12      14  \n",
       "3    Savory  22.32   F        1     1     1     1      14      27  \n",
       "4    Savory  23.62   M        1     1     1     1      13      12  "
      ]
     },
     "execution_count": 23,
     "metadata": {},
     "output_type": "execute_result"
    }
   ],
   "source": [
    "SubInfo.head()"
   ]
  },
  {
   "cell_type": "code",
   "execution_count": 24,
   "id": "14e433ec-0151-499e-a4be-920f81105014",
   "metadata": {},
   "outputs": [
    {
     "name": "stdout",
     "output_type": "stream",
     "text": [
      "<class 'pandas.core.frame.DataFrame'>\n",
      "RangeIndex: 48 entries, 0 to 47\n",
      "Data columns (total 15 columns):\n",
      " #   Column      Non-Null Count  Dtype  \n",
      "---  ------      --------------  -----  \n",
      " 0   SubID       48 non-null     object \n",
      " 1   Gender      48 non-null     object \n",
      " 2   Birth.Year  48 non-null     int64  \n",
      " 3   StimLoc     48 non-null     object \n",
      " 4   StimOrder   48 non-null     int64  \n",
      " 5   Odors       48 non-null     object \n",
      " 6   StartOdor   48 non-null     object \n",
      " 7   Age         48 non-null     float64\n",
      " 8   Sex         48 non-null     object \n",
      " 9   Include     48 non-null     int64  \n",
      " 10  btS1        48 non-null     int64  \n",
      " 11  btS2        48 non-null     int64  \n",
      " 12  btS3        48 non-null     int64  \n",
      " 13  btS1S2      48 non-null     int64  \n",
      " 14  btS2S3      48 non-null     int64  \n",
      "dtypes: float64(1), int64(8), object(6)\n",
      "memory usage: 5.8+ KB\n"
     ]
    }
   ],
   "source": [
    "SubInfo.info()"
   ]
  },
  {
   "cell_type": "code",
   "execution_count": 25,
   "id": "8279a5f8-1b1d-44ad-9bd9-12ce89ac10fd",
   "metadata": {},
   "outputs": [
    {
     "name": "stdout",
     "output_type": "stream",
     "text": [
      "[['N', 'S', 'S', 'S', 'C', 'C', 'S'], ['N', 'S', 'S', 'C', 'S', 'S', 'C'], ['N', 'C', 'S', 'S', 'S', 'S', 'C'], ['N', 'S', 'S', 'S', 'C', 'C', 'S'], ['N', 'S', 'S', 'S', 'C', 'C', 'S'], ['N', 'C', 'S', 'S', 'C', 'S', 'S'], ['N', 'S', 'C', 'S', 'S', 'C', 'S'], ['N', 'S', 'C', 'S', 'S', 'C', 'S'], ['N', 'S', 'C', 'S', 'S', 'C', 'S'], ['N', 'S', 'C', 'C', 'S', 'S', 'S'], ['N', 'S', 'S', 'S', 'C', 'C', 'S'], ['N', 'S', 'C', 'C', 'S', 'S', 'S'], ['N', 'S', 'C', 'C', 'S', 'S', 'S'], ['N', 'C', 'S', 'S', 'S', 'S', 'C'], ['N', 'C', 'S', 'S', 'C', 'S', 'S'], ['N', 'C', 'S', 'S', 'C', 'S', 'S'], ['N', 'S', 'S', 'S', 'C', 'C', 'S'], ['N', 'S', 'C', 'C', 'S', 'S', 'S'], ['N', 'C', 'S', 'S', 'C', 'S', 'S'], ['N', 'C', 'S', 'S', 'C', 'S', 'S'], ['N', 'S', 'S', 'C', 'S', 'S', 'C'], ['N', 'S', 'C', 'C', 'S', 'S', 'S'], ['N', 'C', 'S', 'S', 'C', 'S', 'S'], ['N', 'S', 'S', 'S', 'C', 'C', 'S'], ['N', 'S', 'C', 'S', 'S', 'C', 'S'], ['N', 'S', 'S', 'C', 'S', 'S', 'C'], ['N', 'S', 'S', 'S', 'C', 'C', 'S'], ['N', 'S', 'C', 'C', 'S', 'S', 'S'], ['N', 'C', 'S', 'S', 'S', 'S', 'C'], ['N', 'S', 'S', 'C', 'S', 'S', 'C'], ['N', 'C', 'S', 'S', 'S', 'S', 'C'], ['N', 'C', 'S', 'S', 'C', 'S', 'S'], ['N', 'S', 'C', 'C', 'S', 'S', 'S'], ['N', 'C', 'S', 'S', 'S', 'S', 'C'], ['N', 'S', 'S', 'C', 'S', 'S', 'C'], ['N', 'C', 'S', 'S', 'C', 'S', 'S'], ['N', 'S', 'S', 'C', 'S', 'S', 'C'], ['N', 'S', 'C', 'C', 'S', 'S', 'S'], ['N', 'C', 'S', 'S', 'S', 'S', 'C'], ['N', 'S', 'C', 'S', 'S', 'C', 'S'], ['N', 'S', 'C', 'S', 'S', 'C', 'S'], ['N', 'S', 'C', 'S', 'S', 'C', 'S'], ['N', 'S', 'S', 'C', 'S', 'S', 'C'], ['N', 'S', 'S', 'C', 'S', 'S', 'C'], ['N', 'C', 'S', 'S', 'S', 'S', 'C'], ['N', 'C', 'S', 'S', 'C', 'S', 'S'], ['N', 'S', 'S', 'S', 'C', 'C', 'S'], ['N', 'S', 'C', 'S', 'S', 'C', 'S']]\n"
     ]
    }
   ],
   "source": [
    "TMS_types = []\n",
    "\n",
    "# Loop through each row and assign TMS types based on 'StimOrder'\n",
    "for i, row in SubInfo.iterrows():\n",
    "    tmp_order = row['StimOrder']\n",
    "    \n",
    "    # Assign TMS types based on the 'StimOrder' value\n",
    "    if tmp_order == 123:\n",
    "        TMS_types.append(['N', 'C', 'S', 'S', 'C', 'S', 'S'])\n",
    "    elif tmp_order == 132:\n",
    "        TMS_types.append(['N', 'C', 'S', 'S', 'S', 'S', 'C'])\n",
    "    elif tmp_order == 213:\n",
    "        TMS_types.append(['N', 'S', 'C', 'C', 'S', 'S', 'S'])\n",
    "    elif tmp_order == 231:\n",
    "        TMS_types.append(['N', 'S', 'C', 'S', 'S', 'C', 'S'])\n",
    "    elif tmp_order == 312:\n",
    "        TMS_types.append(['N', 'S', 'S', 'C', 'S', 'S', 'C'])\n",
    "    elif tmp_order == 321:\n",
    "        TMS_types.append(['N', 'S', 'S', 'S', 'C', 'C', 'S'])\n",
    "\n",
    "print(TMS_types)"
   ]
  },
  {
   "cell_type": "code",
   "execution_count": 26,
   "id": "11581da1-6e55-4e04-9cd6-3836142a9c83",
   "metadata": {},
   "outputs": [],
   "source": [
    "# define a function to get upper triangle values of FC matrix\n",
    "def vectorize_fc(fc_mat):\n",
    "    # Upper triangle, excluding diagonal\n",
    "    return fc_mat[np.triu_indices(fc_mat.shape[0], k=1)]"
   ]
  },
  {
   "cell_type": "code",
   "execution_count": 27,
   "id": "9d1bdbd8-8b64-4807-837e-154177584804",
   "metadata": {},
   "outputs": [
    {
     "name": "stdout",
     "output_type": "stream",
     "text": [
      "matfile not found: /Volumes/X9Pro/NODEAP/FuncConn_AAL_PAID/NODEAP_30/conn_matrix_S3D2.mat\n",
      "matfile not found: /Volumes/X9Pro/NODEAP/FuncConn_AAL_PAID/NODEAP_44/conn_matrix_S1D1.mat\n",
      "matfile not found: /Volumes/X9Pro/NODEAP/FuncConn_AAL_PAID/NODEAP_83/conn_matrix_S3D1.mat\n",
      "matfile not found: /Volumes/X9Pro/NODEAP/FuncConn_AAL_PAID/NODEAP_87/conn_matrix_D0.mat\n",
      "matfile not found: /Volumes/X9Pro/NODEAP/FuncConn_AAL_PAID/NODEAP_88/conn_matrix_D0.mat\n"
     ]
    }
   ],
   "source": [
    "all_corr_data = []\n",
    "all_tms_type = []\n",
    "all_subject_id = []\n",
    "\n",
    "for i, subject_id in enumerate(Subs):\n",
    "    tms_types = TMS_types[i]  \n",
    "    for j, session in enumerate(sessions):\n",
    "        mat_name = 'conn_matrix_' + session + '.mat'\n",
    "        mat_file = os.path.join(base_nifti_folder, subject_id, mat_name)\n",
    "        if os.path.exists(mat_file):\n",
    "            matdat = loadmat(mat_file)\n",
    "            dat_corr = matdat['correlation_matrix']  \n",
    "            dat_vec = vectorize_fc(dat_corr)  # <- vectorized\n",
    "            all_corr_data.append(dat_vec)\n",
    "            all_tms_type.append(tms_types[j])  # keep condition label\n",
    "            all_subject_id.append(subject_id)\n",
    "        else:\n",
    "            print(f\"matfile not found: {mat_file}\")"
   ]
  },
  {
   "cell_type": "code",
   "execution_count": 28,
   "id": "089544cb-556c-44fd-8647-89ac8abfd4a9",
   "metadata": {},
   "outputs": [
    {
     "data": {
      "text/plain": [
       "(170, 170)"
      ]
     },
     "execution_count": 28,
     "metadata": {},
     "output_type": "execute_result"
    }
   ],
   "source": [
    "dat_corr.shape"
   ]
  },
  {
   "cell_type": "code",
   "execution_count": 29,
   "id": "b0e21c07-d628-4739-a496-556978619731",
   "metadata": {},
   "outputs": [
    {
     "data": {
      "text/plain": [
       "(14365,)"
      ]
     },
     "execution_count": 29,
     "metadata": {},
     "output_type": "execute_result"
    }
   ],
   "source": [
    "dat_vec.shape # 170*169/2"
   ]
  },
  {
   "cell_type": "code",
   "execution_count": 34,
   "id": "05b77d35-8b64-42e3-9102-fa47af2223c2",
   "metadata": {},
   "outputs": [
    {
     "data": {
      "text/plain": [
       "331"
      ]
     },
     "execution_count": 34,
     "metadata": {},
     "output_type": "execute_result"
    }
   ],
   "source": [
    "len(all_tms_type)"
   ]
  },
  {
   "cell_type": "code",
   "execution_count": 35,
   "id": "700982eb-ea60-4639-a960-7a6957f10fe4",
   "metadata": {},
   "outputs": [],
   "source": [
    "# Map 'N' = 0 (Null), 'S' = 1 (Sham), 'C' = 2 (Real/cTBS)\n",
    "label_map = {'N': 0, 'S': 1, 'C': 2}\n",
    "y = np.array([label_map[t] for t in all_tms_type])"
   ]
  },
  {
   "cell_type": "code",
   "execution_count": 36,
   "id": "77b73904-877c-4483-ad65-8f6dd84f203a",
   "metadata": {},
   "outputs": [
    {
     "data": {
      "text/plain": [
       "(331,)"
      ]
     },
     "execution_count": 36,
     "metadata": {},
     "output_type": "execute_result"
    }
   ],
   "source": [
    "y.shape"
   ]
  },
  {
   "cell_type": "code",
   "execution_count": 40,
   "id": "6119ea7c-d10b-4192-8e79-5db8353e39f2",
   "metadata": {},
   "outputs": [
    {
     "data": {
      "text/plain": [
       "(331, 14365)"
      ]
     },
     "execution_count": 40,
     "metadata": {},
     "output_type": "execute_result"
    }
   ],
   "source": [
    "X = np.array(all_corr_data)  # shape: (num_sessions, 14365)\n",
    "X = (X - X.mean(axis=0)) / (X.std(axis=0) + 1e-8)  # Standardize per feature\n",
    "X.shape"
   ]
  },
  {
   "cell_type": "code",
   "execution_count": 41,
   "id": "b5f0a2d4-a2ed-4087-9700-92c408b01473",
   "metadata": {},
   "outputs": [
    {
     "name": "stdout",
     "output_type": "stream",
     "text": [
      "Any NaN in X? True\n"
     ]
    }
   ],
   "source": [
    "print(\"Any NaN in X?\", np.isnan(X).any())"
   ]
  },
  {
   "cell_type": "code",
   "execution_count": null,
   "id": "54cdb127-93c9-4c66-8936-ba773c25ede9",
   "metadata": {},
   "outputs": [],
   "source": [
    "nan_cols = np.isnan(X).any(axis=0)\n",
    "print(f\"Columns with NaN: {nan_cols.sum()} / {X.shape[1]}\")\n",
    "X_clean = X[:, ~nan_cols]\n",
    "\n",
    "print(\"X_clean shape:\", X_clean.shape)\n",
    "print(\"Any NaNs in X_clean?\", np.isnan(X_clean).any())\n"
   ]
  },
  {
   "cell_type": "code",
   "execution_count": null,
   "id": "5fa1b955-2315-40bb-8f39-231a1d7231ab",
   "metadata": {},
   "outputs": [],
   "source": [
    "X = X_clean"
   ]
  },
  {
   "cell_type": "code",
   "execution_count": null,
   "id": "9dd74023-d3ee-4bd8-9262-6429d42c2e2c",
   "metadata": {},
   "outputs": [],
   "source": [
    "input_dim = X.shape[1]  # e.g., 14365\n",
    "latent_dim = 10"
   ]
  },
  {
   "cell_type": "code",
   "execution_count": null,
   "id": "5fc0f7f9-e7a5-4729-84a4-795b69387e0d",
   "metadata": {},
   "outputs": [],
   "source": [
    "X_tensor = torch.tensor(X, dtype=torch.float32)\n",
    "dataset = torch.utils.data.TensorDataset(X_tensor)\n",
    "dataloader = torch.utils.data.DataLoader(dataset, batch_size=32, shuffle=True)"
   ]
  },
  {
   "cell_type": "code",
   "execution_count": null,
   "id": "036818c7-4edc-43cf-b1d1-cd2c606e4f95",
   "metadata": {},
   "outputs": [],
   "source": [
    "# define VAE functions\n",
    "\n",
    "class VAE(nn.Module):\n",
    "    def __init__(self, input_dim, latent_dim=10):\n",
    "        super(VAE, self).__init__()\n",
    "        self.fc1 = nn.Linear(input_dim, 256)\n",
    "        self.fc2_mu = nn.Linear(256, latent_dim)\n",
    "        self.fc2_logvar = nn.Linear(256, latent_dim)\n",
    "        self.fc3 = nn.Linear(latent_dim, 256)\n",
    "        self.fc4 = nn.Linear(256, input_dim)\n",
    "\n",
    "    def encode(self, x):\n",
    "        h = F.relu(self.fc1(x))\n",
    "        mu = self.fc2_mu(h)\n",
    "        logvar = self.fc2_logvar(h)\n",
    "        logvar = torch.clamp(logvar, min=-10, max=10)  # Prevent NaNs\n",
    "        return mu, logvar\n",
    "\n",
    "    def reparameterize(self, mu, logvar):\n",
    "        std = torch.exp(0.5 * logvar)\n",
    "        eps = torch.randn_like(std)\n",
    "        return mu + eps * std\n",
    "\n",
    "    def decode(self, z):\n",
    "        h = F.relu(self.fc3(z))\n",
    "        return self.fc4(h)\n",
    "\n",
    "    def forward(self, x):\n",
    "        mu, logvar = self.encode(x)\n",
    "        z = self.reparameterize(mu, logvar)\n",
    "        return self.decode(z), mu, logvar\n",
    "\n",
    "\n",
    "def vae_loss(recon_x, x, mu, logvar):\n",
    "    recon_loss = F.mse_loss(recon_x, x, reduction='mean')\n",
    "    kld = -0.5 * torch.mean(1 + logvar - mu.pow(2) - logvar.exp())  # also mean here\n",
    "    return recon_loss + kld\n"
   ]
  },
  {
   "cell_type": "code",
   "execution_count": null,
   "id": "301e0747-fb42-4cb6-8c70-fc66d0ea0fd4",
   "metadata": {},
   "outputs": [],
   "source": [
    "device = torch.device(\"cuda\" if torch.cuda.is_available() else \"cpu\")\n",
    "model = VAE(input_dim=input_dim, latent_dim=latent_dim).to(device)\n",
    "optimizer = torch.optim.Adam(model.parameters(), lr=1e-4)"
   ]
  },
  {
   "cell_type": "code",
   "execution_count": null,
   "id": "f39178c3-672d-4099-a963-04cce1dec34b",
   "metadata": {},
   "outputs": [],
   "source": [
    "# Training loop\n",
    "for epoch in range(50):\n",
    "    total_loss = 0\n",
    "    for (batch,) in dataloader:\n",
    "        batch = batch.to(device)\n",
    "        recon, mu, logvar = model(batch)\n",
    "        loss = vae_loss(recon, batch, mu, logvar)\n",
    "        optimizer.zero_grad()\n",
    "        loss.backward()\n",
    "        optimizer.step()\n",
    "        total_loss += loss.item()\n",
    "    print(f\"Epoch {epoch}: Loss {total_loss:.2f}\")"
   ]
  },
  {
   "cell_type": "code",
   "execution_count": null,
   "id": "3ea0788c-74e5-4b0c-8a1a-315cf7e2e80c",
   "metadata": {},
   "outputs": [],
   "source": [
    "model.eval()\n",
    "with torch.no_grad():\n",
    "    mu_all = []\n",
    "    for i in range(X.shape[0]):\n",
    "        x = torch.tensor(X[i], dtype=torch.float32).to(device).unsqueeze(0)\n",
    "        mu, _ = model.encode(x)\n",
    "        mu_all.append(mu.cpu().numpy().flatten())\n",
    "mu_all = np.array(mu_all)\n"
   ]
  },
  {
   "cell_type": "code",
   "execution_count": null,
   "id": "e5a63cd3-6be5-4a69-97e9-26f3c5a88d54",
   "metadata": {},
   "outputs": [],
   "source": [
    "mu_all.shape"
   ]
  },
  {
   "cell_type": "code",
   "execution_count": null,
   "id": "8ffe1814-91f8-4000-bc83-a4623aafd81d",
   "metadata": {},
   "outputs": [],
   "source": [
    "real_idx = (y == 2)\n",
    "sham_idx = (y == 1)\n",
    "\n",
    "mu_real = mu_all[real_idx]\n",
    "mu_sham = mu_all[sham_idx]\n",
    "\n",
    "from scipy.stats import ttest_ind\n",
    "\n",
    "for i in range(mu_all.shape[1]):\n",
    "    t, p = ttest_ind(mu_real[:, i], mu_sham[:, i])\n",
    "    print(f\"Latent dim {i}: p = {p:.3g}\")\n"
   ]
  },
  {
   "cell_type": "code",
   "execution_count": null,
   "id": "886fbc8c-69e2-47a1-a7a6-39d48a334fd3",
   "metadata": {},
   "outputs": [],
   "source": [
    "z_2d = TSNE(n_components=2, perplexity=10).fit_transform(mu_all)\n",
    "\n",
    "plt.figure(figsize=(6, 5))\n",
    "scatter = plt.scatter(z_2d[:, 0], z_2d[:, 1], c=y, cmap='coolwarm', alpha=0.7)\n",
    "plt.title(\"VAE latent space (t-SNE)\")\n",
    "plt.colorbar(scatter, ticks=[0, 1, 2], label='TMS Condition')\n",
    "plt.clim(-0.5, 2.5)\n",
    "plt.xlabel('t-SNE dim 1'); plt.ylabel('t-SNE dim 2')\n",
    "plt.show()"
   ]
  },
  {
   "cell_type": "code",
   "execution_count": null,
   "id": "e60f32f3-0cae-4a73-acc1-bb178c14f49f",
   "metadata": {},
   "outputs": [],
   "source": [
    "reducer = umap.UMAP(n_neighbors=10, min_dist=0.3, random_state=0)\n",
    "z_umap = reducer.fit_transform(mu_all)"
   ]
  },
  {
   "cell_type": "code",
   "execution_count": null,
   "id": "562922ff-54df-4127-9b2b-0eafef17b82b",
   "metadata": {},
   "outputs": [],
   "source": [
    "plt.figure(figsize=(6,5))\n",
    "plt.scatter(z_umap[:, 0], z_umap[:, 1], c=y, cmap='coolwarm', alpha=0.8)\n",
    "plt.title(\"UMAP: VAE latent space by TMS condition\")\n",
    "plt.colorbar(label='TMS Condition')\n",
    "plt.show()"
   ]
  },
  {
   "cell_type": "code",
   "execution_count": null,
   "id": "dadee797-27e9-432b-8b19-1259016d55c4",
   "metadata": {},
   "outputs": [],
   "source": [
    "clf = LogisticRegression(max_iter=1000)\n",
    "scores = cross_val_score(clf, mu_all, y, cv=5)\n",
    "print(\"Multiclass accuracy (Null vs Sham vs Real):\", scores.mean())\n"
   ]
  },
  {
   "cell_type": "code",
   "execution_count": null,
   "id": "f3870e1a-3598-45ea-b394-65e6d4222bce",
   "metadata": {},
   "outputs": [],
   "source": [
    "mask_C = (y == 2)\n",
    "mask_S = (y == 1)\n",
    "\n",
    "X_bin = np.vstack([mu_all[mask_C], mu_all[mask_S]])\n",
    "y_bin = np.array([1] * mask_C.sum() + [0] * mask_S.sum())\n",
    "\n",
    "clf = LogisticRegression(max_iter=1000)\n",
    "scores = cross_val_score(clf, X_bin, y_bin, cv=5)\n",
    "print(\"Binary accuracy (Real vs Sham):\", scores.mean())\n"
   ]
  },
  {
   "cell_type": "code",
   "execution_count": null,
   "id": "8f41508f-4e17-45de-b9f1-b7321a2875c7",
   "metadata": {},
   "outputs": [],
   "source": [
    "# if only plot real and sham\n",
    "\n",
    "X_bin = np.vstack([mu_all[y == 2], mu_all[y == 1]])\n",
    "y_bin = np.array([1] * sum(y == 2) + [0] * sum(y == 1))\n",
    "\n",
    "z_2d = TSNE(n_components=2).fit_transform(X_bin)\n",
    "\n",
    "plt.scatter(z_2d[:, 0], z_2d[:, 1], c=y_bin, cmap='coolwarm', alpha=0.7)\n",
    "plt.title(\"t-SNE: Real vs Sham\")\n",
    "plt.colorbar(label=\"Condition (1 = Real, 0 = Sham)\")\n",
    "plt.show()\n"
   ]
  },
  {
   "cell_type": "code",
   "execution_count": null,
   "id": "596f7d20-e20e-4a99-bdc3-b4a126ca52d8",
   "metadata": {},
   "outputs": [],
   "source": [
    "import seaborn as sns\n",
    "import pandas as pd\n",
    "import matplotlib.pyplot as plt\n",
    "from scipy.stats import ttest_ind\n",
    "import numpy as np\n",
    "\n",
    "# Extract only real (2) and sham (1)\n",
    "real_idx = (y == 2)\n",
    "sham_idx = (y == 1)\n",
    "\n",
    "# Get p-values across latent dims\n",
    "p_values = []\n",
    "for i in range(mu_all.shape[1]):\n",
    "    t, p = ttest_ind(mu_all[real_idx, i], mu_all[sham_idx, i])\n",
    "    p_values.append(p)\n",
    "\n",
    "# Sort by most discriminative (lowest p-value)\n",
    "sorted_dims = np.argsort(p_values)\n",
    "top_dim = sorted_dims[0]\n",
    "print(f\"Top discriminative latent dimension: {top_dim} (p = {p_values[top_dim]:.4g})\")\n",
    "\n",
    "# Prepare data for plotting\n",
    "values = np.concatenate([mu_all[real_idx, top_dim], mu_all[sham_idx, top_dim]])\n",
    "labels = ['Real'] * sum(real_idx) + ['Sham'] * sum(sham_idx)\n",
    "\n",
    "# Plot\n",
    "df = pd.DataFrame({\"Latent Value\": values, \"Condition\": labels})\n",
    "sns.boxplot(data=df, x=\"Condition\", y=\"Latent Value\")\n",
    "plt.title(f\"Latent Dimension {top_dim}: Real vs Sham\")\n",
    "plt.show()\n"
   ]
  }
 ],
 "metadata": {
  "kernelspec": {
   "display_name": "Python 3 (ipykernel)",
   "language": "python",
   "name": "python3"
  },
  "language_info": {
   "codemirror_mode": {
    "name": "ipython",
    "version": 3
   },
   "file_extension": ".py",
   "mimetype": "text/x-python",
   "name": "python",
   "nbconvert_exporter": "python",
   "pygments_lexer": "ipython3",
   "version": "3.9.6"
  }
 },
 "nbformat": 4,
 "nbformat_minor": 5
}
