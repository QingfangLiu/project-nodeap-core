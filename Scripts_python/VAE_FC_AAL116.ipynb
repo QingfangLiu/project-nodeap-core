{
 "cells": [
  {
   "cell_type": "markdown",
   "id": "60068954-81bc-4682-85d1-adbfe301b900",
   "metadata": {},
   "source": [
    "### this script is trying to apply VAE to session-wise functional connectivity patterns\n",
    "\n",
    "* functional connectivity patterns are derived from AAL atlas with 116 ROIs (with some NAN values)\n",
    "* for 48 subjects, each 7 sessions by default, with 5 missing sessions\n",
    "* implemented a fully connected layer + relu network\n"
   ]
  },
  {
   "cell_type": "markdown",
   "id": "76edbfec-aa8e-4444-a655-e0ec8b12944b",
   "metadata": {},
   "source": [
    "### main findings so far\n",
    "\n",
    "* clearly captured individual FC profile in embedding space\n",
    "* my logic of searching real TMS effect (compared with sham) was to calculate the mean euclidean distance between the null and each sham/real point in embedding space, and compare the difference of the distance\n",
    "* promising trend: distance between null and real is greater than distance between null and sham\n",
    "* tried further splitting based on stimloc (aOFC vs pOFC) but did not find differential patterns\n"
   ]
  },
  {
   "cell_type": "code",
   "execution_count": 1,
   "id": "8004c283-162a-43f1-ae97-3d7c5dadcdb9",
   "metadata": {},
   "outputs": [],
   "source": [
    "import numpy as np\n",
    "import nibabel as nib\n",
    "import pandas as pd\n",
    "import os\n",
    "from pathlib import Path\n",
    "import matplotlib.pyplot as plt\n",
    "import seaborn as sns\n",
    "\n",
    "from scipy.io import loadmat\n",
    "from scipy.spatial.distance import euclidean\n",
    "from scipy.stats import ttest_rel, wilcoxon"
   ]
  },
  {
   "cell_type": "code",
   "execution_count": 2,
   "id": "2cce3b35-1477-4ea8-8e6b-2bd02c6b0afd",
   "metadata": {},
   "outputs": [],
   "source": [
    "from models import VAE, CVAE # import functions \n",
    "from train_utils import train_vae, loss_function\n",
    "from data_utils import load_all_fc_data, preprocess_for_torch"
   ]
  },
  {
   "cell_type": "code",
   "execution_count": 3,
   "id": "e63bf29d-56a8-4165-bccd-de3d8d15a8f1",
   "metadata": {},
   "outputs": [],
   "source": [
    "import torch\n",
    "import torch.nn as nn\n",
    "import torch.nn.functional as F\n",
    "from torch.utils.data import TensorDataset, DataLoader\n",
    "from tqdm import tqdm # progress bar"
   ]
  },
  {
   "cell_type": "code",
   "execution_count": 31,
   "id": "b2a3da6a-908c-4ce9-aea8-c471301acfaa",
   "metadata": {},
   "outputs": [],
   "source": [
    "from sklearn import datasets, svm\n",
    "from sklearn.feature_selection import SelectPercentile, f_classif\n",
    "from sklearn.pipeline import Pipeline\n",
    "\n",
    "from sklearn.svm import SVC\n",
    "from sklearn.inspection import DecisionBoundaryDisplay\n",
    "\n",
    "from sklearn.linear_model import LogisticRegression\n",
    "from sklearn.model_selection import train_test_split\n",
    "from sklearn.metrics import accuracy_score, classification_report\n",
    "from sklearn.metrics import confusion_matrix, ConfusionMatrixDisplay\n",
    "from sklearn.model_selection import cross_val_score\n",
    "from sklearn.model_selection import GroupKFold"
   ]
  },
  {
   "cell_type": "code",
   "execution_count": 5,
   "id": "ac1f6dd8-4bc6-422c-8577-8df2bb4e2cf4",
   "metadata": {},
   "outputs": [
    {
     "name": "stderr",
     "output_type": "stream",
     "text": [
      "/Library/Frameworks/Python.framework/Versions/3.13/lib/python3.13/site-packages/tqdm/auto.py:21: TqdmWarning: IProgress not found. Please update jupyter and ipywidgets. See https://ipywidgets.readthedocs.io/en/stable/user_install.html\n",
      "  from .autonotebook import tqdm as notebook_tqdm\n"
     ]
    }
   ],
   "source": [
    "from sklearn.manifold import TSNE\n",
    "import umap.umap_ as umap"
   ]
  },
  {
   "cell_type": "code",
   "execution_count": 6,
   "id": "f16d8291-76bb-4002-a11e-a64c3f18686d",
   "metadata": {},
   "outputs": [],
   "source": [
    "# Auto-Reload for Fast Iteration\n",
    "%load_ext autoreload\n",
    "%autoreload 2"
   ]
  },
  {
   "cell_type": "code",
   "execution_count": 29,
   "id": "d4f16eb8-4dee-4195-94ad-e994b7f8554f",
   "metadata": {},
   "outputs": [
    {
     "name": "stdout",
     "output_type": "stream",
     "text": [
      "[WARN] File not found: /Volumes/X9Pro/NODEAP/FuncConn_AAL/NODEAP_30/S3D2/conn_matrix.mat\n",
      "[WARN] File not found: /Volumes/X9Pro/NODEAP/FuncConn_AAL/NODEAP_44/S1D1/conn_matrix.mat\n",
      "[WARN] File not found: /Volumes/X9Pro/NODEAP/FuncConn_AAL/NODEAP_83/S3D1/conn_matrix.mat\n",
      "[WARN] File not found: /Volumes/X9Pro/NODEAP/FuncConn_AAL/NODEAP_87/D0/conn_matrix.mat\n",
      "[WARN] File not found: /Volumes/X9Pro/NODEAP/FuncConn_AAL/NODEAP_88/D0/conn_matrix.mat\n",
      "Columns with NaN: 229 / 6670\n"
     ]
    }
   ],
   "source": [
    "sub_cond_path = '/Users/liuq13/NODEAP_scripts/ProcessedData/SubConds.xlsx'\n",
    "base_nifti_folder = '/Volumes/X9Pro/NODEAP/FuncConn_AAL'\n",
    "\n",
    "# Load and preprocess\n",
    "all_corr_data, all_tms_type, all_subject_id = load_all_fc_data(sub_cond_path, base_nifti_folder)\n",
    "X_tensor = preprocess_for_torch(all_corr_data)\n",
    "\n",
    "# Prepare DataLoader\n",
    "dataset = TensorDataset(X_tensor)\n",
    "dataloader = DataLoader(dataset, batch_size=32, shuffle=True)\n",
    "\n",
    "NUM_EPOCH = 500\n",
    "LR = 3e-4"
   ]
  },
  {
   "cell_type": "code",
   "execution_count": 30,
   "id": "b2e2a3d8-7779-4f1a-b1c9-ba00f36719a0",
   "metadata": {},
   "outputs": [
    {
     "name": "stderr",
     "output_type": "stream",
     "text": [
      "Epoch 1/500: 100%|████████████████████████████████████████████████████████████| 11/11 [00:00<00:00, 81.72it/s]\n"
     ]
    },
    {
     "name": "stdout",
     "output_type": "stream",
     "text": [
      "Epoch 1, Loss: 6808.3892, Recon: 6807.3274, KL: 1.0619\n"
     ]
    },
    {
     "name": "stderr",
     "output_type": "stream",
     "text": [
      "Epoch 2/500: 100%|███████████████████████████████████████████████████████████| 11/11 [00:00<00:00, 119.60it/s]\n"
     ]
    },
    {
     "name": "stdout",
     "output_type": "stream",
     "text": [
      "Epoch 2, Loss: 6640.3593, Recon: 6637.0474, KL: 3.3118\n"
     ]
    },
    {
     "name": "stderr",
     "output_type": "stream",
     "text": [
      "Epoch 3/500: 100%|████████████████████████████████████████████████████████████| 11/11 [00:00<00:00, 95.99it/s]\n"
     ]
    },
    {
     "name": "stdout",
     "output_type": "stream",
     "text": [
      "Epoch 3, Loss: 6514.6648, Recon: 6509.2764, KL: 5.3884\n"
     ]
    },
    {
     "name": "stderr",
     "output_type": "stream",
     "text": [
      "Epoch 4/500: 100%|███████████████████████████████████████████████████████████| 11/11 [00:00<00:00, 128.99it/s]\n"
     ]
    },
    {
     "name": "stdout",
     "output_type": "stream",
     "text": [
      "Epoch 4, Loss: 6362.5540, Recon: 6353.3871, KL: 9.1669\n"
     ]
    },
    {
     "name": "stderr",
     "output_type": "stream",
     "text": [
      "Epoch 5/500: 100%|███████████████████████████████████████████████████████████| 11/11 [00:00<00:00, 140.22it/s]\n"
     ]
    },
    {
     "name": "stdout",
     "output_type": "stream",
     "text": [
      "Epoch 5, Loss: 6128.8549, Recon: 6112.4835, KL: 16.3715\n"
     ]
    },
    {
     "name": "stderr",
     "output_type": "stream",
     "text": [
      "Epoch 6/500: 100%|███████████████████████████████████████████████████████████| 11/11 [00:00<00:00, 145.21it/s]\n"
     ]
    },
    {
     "name": "stdout",
     "output_type": "stream",
     "text": [
      "Epoch 6, Loss: 5876.2694, Recon: 5855.6159, KL: 20.6536\n"
     ]
    },
    {
     "name": "stderr",
     "output_type": "stream",
     "text": [
      "Epoch 7/500: 100%|███████████████████████████████████████████████████████████| 11/11 [00:00<00:00, 138.45it/s]\n"
     ]
    },
    {
     "name": "stdout",
     "output_type": "stream",
     "text": [
      "Epoch 7, Loss: 5648.5042, Recon: 5623.0033, KL: 25.5008\n"
     ]
    },
    {
     "name": "stderr",
     "output_type": "stream",
     "text": [
      "Epoch 8/500: 100%|███████████████████████████████████████████████████████████| 11/11 [00:00<00:00, 141.36it/s]\n"
     ]
    },
    {
     "name": "stdout",
     "output_type": "stream",
     "text": [
      "Epoch 8, Loss: 5424.3347, Recon: 5394.2337, KL: 30.1009\n"
     ]
    },
    {
     "name": "stderr",
     "output_type": "stream",
     "text": [
      "Epoch 9/500: 100%|███████████████████████████████████████████████████████████| 11/11 [00:00<00:00, 122.84it/s]\n"
     ]
    },
    {
     "name": "stdout",
     "output_type": "stream",
     "text": [
      "Epoch 9, Loss: 5243.0172, Recon: 5210.7837, KL: 32.2335\n"
     ]
    },
    {
     "name": "stderr",
     "output_type": "stream",
     "text": [
      "Epoch 10/500: 100%|██████████████████████████████████████████████████████████| 11/11 [00:00<00:00, 129.59it/s]\n"
     ]
    },
    {
     "name": "stdout",
     "output_type": "stream",
     "text": [
      "Epoch 10, Loss: 5102.4069, Recon: 5067.2085, KL: 35.1984\n"
     ]
    },
    {
     "name": "stderr",
     "output_type": "stream",
     "text": [
      "Epoch 11/500: 100%|██████████████████████████████████████████████████████████| 11/11 [00:00<00:00, 128.28it/s]\n"
     ]
    },
    {
     "name": "stdout",
     "output_type": "stream",
     "text": [
      "Epoch 11, Loss: 4964.5397, Recon: 4926.2916, KL: 38.2480\n"
     ]
    },
    {
     "name": "stderr",
     "output_type": "stream",
     "text": [
      "Epoch 12/500: 100%|██████████████████████████████████████████████████████████| 11/11 [00:00<00:00, 128.54it/s]\n"
     ]
    },
    {
     "name": "stdout",
     "output_type": "stream",
     "text": [
      "Epoch 12, Loss: 4848.6524, Recon: 4808.1231, KL: 40.5294\n"
     ]
    },
    {
     "name": "stderr",
     "output_type": "stream",
     "text": [
      "Epoch 13/500: 100%|██████████████████████████████████████████████████████████| 11/11 [00:00<00:00, 135.68it/s]\n"
     ]
    },
    {
     "name": "stdout",
     "output_type": "stream",
     "text": [
      "Epoch 13, Loss: 4742.5254, Recon: 4699.9617, KL: 42.5636\n"
     ]
    },
    {
     "name": "stderr",
     "output_type": "stream",
     "text": [
      "Epoch 14/500: 100%|██████████████████████████████████████████████████████████| 11/11 [00:00<00:00, 134.22it/s]\n"
     ]
    },
    {
     "name": "stdout",
     "output_type": "stream",
     "text": [
      "Epoch 14, Loss: 4652.7698, Recon: 4608.1094, KL: 44.6604\n"
     ]
    },
    {
     "name": "stderr",
     "output_type": "stream",
     "text": [
      "Epoch 15/500: 100%|██████████████████████████████████████████████████████████| 11/11 [00:00<00:00, 140.30it/s]\n"
     ]
    },
    {
     "name": "stdout",
     "output_type": "stream",
     "text": [
      "Epoch 15, Loss: 4566.2741, Recon: 4519.7186, KL: 46.5556\n"
     ]
    },
    {
     "name": "stderr",
     "output_type": "stream",
     "text": [
      "Epoch 16/500: 100%|██████████████████████████████████████████████████████████| 11/11 [00:00<00:00, 143.99it/s]\n"
     ]
    },
    {
     "name": "stdout",
     "output_type": "stream",
     "text": [
      "Epoch 16, Loss: 4486.3436, Recon: 4437.6281, KL: 48.7156\n"
     ]
    },
    {
     "name": "stderr",
     "output_type": "stream",
     "text": [
      "Epoch 17/500: 100%|██████████████████████████████████████████████████████████| 11/11 [00:00<00:00, 133.03it/s]\n"
     ]
    },
    {
     "name": "stdout",
     "output_type": "stream",
     "text": [
      "Epoch 17, Loss: 4413.5141, Recon: 4363.1771, KL: 50.3371\n"
     ]
    },
    {
     "name": "stderr",
     "output_type": "stream",
     "text": [
      "Epoch 18/500: 100%|██████████████████████████████████████████████████████████| 11/11 [00:00<00:00, 148.02it/s]\n"
     ]
    },
    {
     "name": "stdout",
     "output_type": "stream",
     "text": [
      "Epoch 18, Loss: 4345.9619, Recon: 4293.4049, KL: 52.5569\n"
     ]
    },
    {
     "name": "stderr",
     "output_type": "stream",
     "text": [
      "Epoch 19/500: 100%|██████████████████████████████████████████████████████████| 11/11 [00:00<00:00, 140.22it/s]\n"
     ]
    },
    {
     "name": "stdout",
     "output_type": "stream",
     "text": [
      "Epoch 19, Loss: 4286.3978, Recon: 4232.0146, KL: 54.3833\n"
     ]
    },
    {
     "name": "stderr",
     "output_type": "stream",
     "text": [
      "Epoch 20/500: 100%|██████████████████████████████████████████████████████████| 11/11 [00:00<00:00, 138.18it/s]\n"
     ]
    },
    {
     "name": "stdout",
     "output_type": "stream",
     "text": [
      "Epoch 20, Loss: 4225.0828, Recon: 4168.1681, KL: 56.9147\n"
     ]
    },
    {
     "name": "stderr",
     "output_type": "stream",
     "text": [
      "Epoch 21/500: 100%|██████████████████████████████████████████████████████████| 11/11 [00:00<00:00, 138.89it/s]\n"
     ]
    },
    {
     "name": "stdout",
     "output_type": "stream",
     "text": [
      "Epoch 21, Loss: 4163.0503, Recon: 4104.5224, KL: 58.5278\n"
     ]
    },
    {
     "name": "stderr",
     "output_type": "stream",
     "text": [
      "Epoch 22/500: 100%|██████████████████████████████████████████████████████████| 11/11 [00:00<00:00, 124.29it/s]\n"
     ]
    },
    {
     "name": "stdout",
     "output_type": "stream",
     "text": [
      "Epoch 22, Loss: 4109.9011, Recon: 4050.0493, KL: 59.8518\n"
     ]
    },
    {
     "name": "stderr",
     "output_type": "stream",
     "text": [
      "Epoch 23/500: 100%|██████████████████████████████████████████████████████████| 11/11 [00:00<00:00, 117.69it/s]\n"
     ]
    },
    {
     "name": "stdout",
     "output_type": "stream",
     "text": [
      "Epoch 23, Loss: 4066.5739, Recon: 4003.4813, KL: 63.0926\n"
     ]
    },
    {
     "name": "stderr",
     "output_type": "stream",
     "text": [
      "Epoch 24/500: 100%|██████████████████████████████████████████████████████████| 11/11 [00:00<00:00, 140.02it/s]\n"
     ]
    },
    {
     "name": "stdout",
     "output_type": "stream",
     "text": [
      "Epoch 24, Loss: 4007.7294, Recon: 3943.6793, KL: 64.0502\n"
     ]
    },
    {
     "name": "stderr",
     "output_type": "stream",
     "text": [
      "Epoch 25/500: 100%|██████████████████████████████████████████████████████████| 11/11 [00:00<00:00, 143.25it/s]\n"
     ]
    },
    {
     "name": "stdout",
     "output_type": "stream",
     "text": [
      "Epoch 25, Loss: 3957.8469, Recon: 3891.7141, KL: 66.1329\n"
     ]
    },
    {
     "name": "stderr",
     "output_type": "stream",
     "text": [
      "Epoch 26/500: 100%|██████████████████████████████████████████████████████████| 11/11 [00:00<00:00, 130.35it/s]\n"
     ]
    },
    {
     "name": "stdout",
     "output_type": "stream",
     "text": [
      "Epoch 26, Loss: 3908.6437, Recon: 3840.8093, KL: 67.8343\n"
     ]
    },
    {
     "name": "stderr",
     "output_type": "stream",
     "text": [
      "Epoch 27/500: 100%|██████████████████████████████████████████████████████████| 11/11 [00:00<00:00, 158.65it/s]\n"
     ]
    },
    {
     "name": "stdout",
     "output_type": "stream",
     "text": [
      "Epoch 27, Loss: 3866.6766, Recon: 3796.6440, KL: 70.0326\n"
     ]
    },
    {
     "name": "stderr",
     "output_type": "stream",
     "text": [
      "Epoch 28/500: 100%|██████████████████████████████████████████████████████████| 11/11 [00:00<00:00, 149.51it/s]\n"
     ]
    },
    {
     "name": "stdout",
     "output_type": "stream",
     "text": [
      "Epoch 28, Loss: 3824.0024, Recon: 3752.6401, KL: 71.3623\n"
     ]
    },
    {
     "name": "stderr",
     "output_type": "stream",
     "text": [
      "Epoch 29/500: 100%|██████████████████████████████████████████████████████████| 11/11 [00:00<00:00, 159.20it/s]\n"
     ]
    },
    {
     "name": "stdout",
     "output_type": "stream",
     "text": [
      "Epoch 29, Loss: 3787.2391, Recon: 3714.1936, KL: 73.0455\n"
     ]
    },
    {
     "name": "stderr",
     "output_type": "stream",
     "text": [
      "Epoch 30/500: 100%|██████████████████████████████████████████████████████████| 11/11 [00:00<00:00, 154.64it/s]\n"
     ]
    },
    {
     "name": "stdout",
     "output_type": "stream",
     "text": [
      "Epoch 30, Loss: 3743.7747, Recon: 3669.2975, KL: 74.4772\n"
     ]
    },
    {
     "name": "stderr",
     "output_type": "stream",
     "text": [
      "Epoch 31/500: 100%|██████████████████████████████████████████████████████████| 11/11 [00:00<00:00, 146.40it/s]\n"
     ]
    },
    {
     "name": "stdout",
     "output_type": "stream",
     "text": [
      "Epoch 31, Loss: 3707.4078, Recon: 3631.0386, KL: 76.3692\n"
     ]
    },
    {
     "name": "stderr",
     "output_type": "stream",
     "text": [
      "Epoch 32/500: 100%|██████████████████████████████████████████████████████████| 11/11 [00:00<00:00, 149.86it/s]\n"
     ]
    },
    {
     "name": "stdout",
     "output_type": "stream",
     "text": [
      "Epoch 32, Loss: 3675.4937, Recon: 3598.2579, KL: 77.2357\n"
     ]
    },
    {
     "name": "stderr",
     "output_type": "stream",
     "text": [
      "Epoch 33/500: 100%|██████████████████████████████████████████████████████████| 11/11 [00:00<00:00, 146.44it/s]\n"
     ]
    },
    {
     "name": "stdout",
     "output_type": "stream",
     "text": [
      "Epoch 33, Loss: 3640.2359, Recon: 3560.7610, KL: 79.4749\n"
     ]
    },
    {
     "name": "stderr",
     "output_type": "stream",
     "text": [
      "Epoch 34/500: 100%|██████████████████████████████████████████████████████████| 11/11 [00:00<00:00, 154.91it/s]\n"
     ]
    },
    {
     "name": "stdout",
     "output_type": "stream",
     "text": [
      "Epoch 34, Loss: 3605.5052, Recon: 3525.2438, KL: 80.2614\n"
     ]
    },
    {
     "name": "stderr",
     "output_type": "stream",
     "text": [
      "Epoch 35/500: 100%|██████████████████████████████████████████████████████████| 11/11 [00:00<00:00, 161.92it/s]\n"
     ]
    },
    {
     "name": "stdout",
     "output_type": "stream",
     "text": [
      "Epoch 35, Loss: 3573.5527, Recon: 3491.8307, KL: 81.7220\n"
     ]
    },
    {
     "name": "stderr",
     "output_type": "stream",
     "text": [
      "Epoch 36/500: 100%|██████████████████████████████████████████████████████████| 11/11 [00:00<00:00, 139.19it/s]\n"
     ]
    },
    {
     "name": "stdout",
     "output_type": "stream",
     "text": [
      "Epoch 36, Loss: 3547.7018, Recon: 3464.9876, KL: 82.7142\n"
     ]
    },
    {
     "name": "stderr",
     "output_type": "stream",
     "text": [
      "Epoch 37/500: 100%|██████████████████████████████████████████████████████████| 11/11 [00:00<00:00, 151.37it/s]\n"
     ]
    },
    {
     "name": "stdout",
     "output_type": "stream",
     "text": [
      "Epoch 37, Loss: 3518.4647, Recon: 3434.4696, KL: 83.9952\n"
     ]
    },
    {
     "name": "stderr",
     "output_type": "stream",
     "text": [
      "Epoch 38/500: 100%|██████████████████████████████████████████████████████████| 11/11 [00:00<00:00, 150.54it/s]\n"
     ]
    },
    {
     "name": "stdout",
     "output_type": "stream",
     "text": [
      "Epoch 38, Loss: 3491.9731, Recon: 3406.6760, KL: 85.2971\n"
     ]
    },
    {
     "name": "stderr",
     "output_type": "stream",
     "text": [
      "Epoch 39/500: 100%|██████████████████████████████████████████████████████████| 11/11 [00:00<00:00, 128.00it/s]\n"
     ]
    },
    {
     "name": "stdout",
     "output_type": "stream",
     "text": [
      "Epoch 39, Loss: 3471.0316, Recon: 3385.5909, KL: 85.4407\n"
     ]
    },
    {
     "name": "stderr",
     "output_type": "stream",
     "text": [
      "Epoch 40/500: 100%|██████████████████████████████████████████████████████████| 11/11 [00:00<00:00, 150.85it/s]\n"
     ]
    },
    {
     "name": "stdout",
     "output_type": "stream",
     "text": [
      "Epoch 40, Loss: 3446.9195, Recon: 3359.2354, KL: 87.6841\n"
     ]
    },
    {
     "name": "stderr",
     "output_type": "stream",
     "text": [
      "Epoch 41/500: 100%|██████████████████████████████████████████████████████████| 11/11 [00:00<00:00, 156.68it/s]\n"
     ]
    },
    {
     "name": "stdout",
     "output_type": "stream",
     "text": [
      "Epoch 41, Loss: 3423.9729, Recon: 3335.6186, KL: 88.3543\n"
     ]
    },
    {
     "name": "stderr",
     "output_type": "stream",
     "text": [
      "Epoch 42/500: 100%|██████████████████████████████████████████████████████████| 11/11 [00:00<00:00, 145.99it/s]\n"
     ]
    },
    {
     "name": "stdout",
     "output_type": "stream",
     "text": [
      "Epoch 42, Loss: 3398.7677, Recon: 3309.8015, KL: 88.9662\n"
     ]
    },
    {
     "name": "stderr",
     "output_type": "stream",
     "text": [
      "Epoch 43/500: 100%|██████████████████████████████████████████████████████████| 11/11 [00:00<00:00, 154.16it/s]\n"
     ]
    },
    {
     "name": "stdout",
     "output_type": "stream",
     "text": [
      "Epoch 43, Loss: 3380.8782, Recon: 3289.6491, KL: 91.2292\n"
     ]
    },
    {
     "name": "stderr",
     "output_type": "stream",
     "text": [
      "Epoch 44/500: 100%|██████████████████████████████████████████████████████████| 11/11 [00:00<00:00, 153.71it/s]\n"
     ]
    },
    {
     "name": "stdout",
     "output_type": "stream",
     "text": [
      "Epoch 44, Loss: 3369.6776, Recon: 3278.5127, KL: 91.1649\n"
     ]
    },
    {
     "name": "stderr",
     "output_type": "stream",
     "text": [
      "Epoch 45/500: 100%|██████████████████████████████████████████████████████████| 11/11 [00:00<00:00, 151.78it/s]\n"
     ]
    },
    {
     "name": "stdout",
     "output_type": "stream",
     "text": [
      "Epoch 45, Loss: 3390.7394, Recon: 3298.6732, KL: 92.0662\n"
     ]
    },
    {
     "name": "stderr",
     "output_type": "stream",
     "text": [
      "Epoch 46/500: 100%|██████████████████████████████████████████████████████████| 11/11 [00:00<00:00, 152.63it/s]\n"
     ]
    },
    {
     "name": "stdout",
     "output_type": "stream",
     "text": [
      "Epoch 46, Loss: 3327.2226, Recon: 3233.2472, KL: 93.9754\n"
     ]
    },
    {
     "name": "stderr",
     "output_type": "stream",
     "text": [
      "Epoch 47/500: 100%|██████████████████████████████████████████████████████████| 11/11 [00:00<00:00, 156.36it/s]\n"
     ]
    },
    {
     "name": "stdout",
     "output_type": "stream",
     "text": [
      "Epoch 47, Loss: 3307.0908, Recon: 3212.7118, KL: 94.3791\n"
     ]
    },
    {
     "name": "stderr",
     "output_type": "stream",
     "text": [
      "Epoch 48/500: 100%|██████████████████████████████████████████████████████████| 11/11 [00:00<00:00, 152.68it/s]\n"
     ]
    },
    {
     "name": "stdout",
     "output_type": "stream",
     "text": [
      "Epoch 48, Loss: 3282.8805, Recon: 3187.7861, KL: 95.0944\n"
     ]
    },
    {
     "name": "stderr",
     "output_type": "stream",
     "text": [
      "Epoch 49/500: 100%|██████████████████████████████████████████████████████████| 11/11 [00:00<00:00, 152.24it/s]\n"
     ]
    },
    {
     "name": "stdout",
     "output_type": "stream",
     "text": [
      "Epoch 49, Loss: 3262.7464, Recon: 3167.4789, KL: 95.2675\n"
     ]
    },
    {
     "name": "stderr",
     "output_type": "stream",
     "text": [
      "Epoch 50/500: 100%|██████████████████████████████████████████████████████████| 11/11 [00:00<00:00, 155.94it/s]\n"
     ]
    },
    {
     "name": "stdout",
     "output_type": "stream",
     "text": [
      "Epoch 50, Loss: 3246.5006, Recon: 3149.7781, KL: 96.7225\n"
     ]
    },
    {
     "name": "stderr",
     "output_type": "stream",
     "text": [
      "Epoch 51/500: 100%|██████████████████████████████████████████████████████████| 11/11 [00:00<00:00, 152.45it/s]\n"
     ]
    },
    {
     "name": "stdout",
     "output_type": "stream",
     "text": [
      "Epoch 51, Loss: 3233.3799, Recon: 3136.8538, KL: 96.5261\n"
     ]
    },
    {
     "name": "stderr",
     "output_type": "stream",
     "text": [
      "Epoch 52/500: 100%|██████████████████████████████████████████████████████████| 11/11 [00:00<00:00, 123.27it/s]\n"
     ]
    },
    {
     "name": "stdout",
     "output_type": "stream",
     "text": [
      "Epoch 52, Loss: 3215.3048, Recon: 3117.4607, KL: 97.8440\n"
     ]
    },
    {
     "name": "stderr",
     "output_type": "stream",
     "text": [
      "Epoch 53/500: 100%|██████████████████████████████████████████████████████████| 11/11 [00:00<00:00, 151.90it/s]\n"
     ]
    },
    {
     "name": "stdout",
     "output_type": "stream",
     "text": [
      "Epoch 53, Loss: 3202.2712, Recon: 3104.2791, KL: 97.9921\n"
     ]
    },
    {
     "name": "stderr",
     "output_type": "stream",
     "text": [
      "Epoch 54/500: 100%|██████████████████████████████████████████████████████████| 11/11 [00:00<00:00, 146.05it/s]\n"
     ]
    },
    {
     "name": "stdout",
     "output_type": "stream",
     "text": [
      "Epoch 54, Loss: 3182.8874, Recon: 3084.4692, KL: 98.4182\n"
     ]
    },
    {
     "name": "stderr",
     "output_type": "stream",
     "text": [
      "Epoch 55/500: 100%|██████████████████████████████████████████████████████████| 11/11 [00:00<00:00, 145.14it/s]\n"
     ]
    },
    {
     "name": "stdout",
     "output_type": "stream",
     "text": [
      "Epoch 55, Loss: 3172.9458, Recon: 3073.5394, KL: 99.4064\n"
     ]
    },
    {
     "name": "stderr",
     "output_type": "stream",
     "text": [
      "Epoch 56/500: 100%|██████████████████████████████████████████████████████████| 11/11 [00:00<00:00, 132.01it/s]\n"
     ]
    },
    {
     "name": "stdout",
     "output_type": "stream",
     "text": [
      "Epoch 56, Loss: 3162.2529, Recon: 3062.4655, KL: 99.7874\n"
     ]
    },
    {
     "name": "stderr",
     "output_type": "stream",
     "text": [
      "Epoch 57/500: 100%|██████████████████████████████████████████████████████████| 11/11 [00:00<00:00, 150.90it/s]\n"
     ]
    },
    {
     "name": "stdout",
     "output_type": "stream",
     "text": [
      "Epoch 57, Loss: 3148.3740, Recon: 3048.1890, KL: 100.1850\n"
     ]
    },
    {
     "name": "stderr",
     "output_type": "stream",
     "text": [
      "Epoch 58/500: 100%|██████████████████████████████████████████████████████████| 11/11 [00:00<00:00, 133.91it/s]\n"
     ]
    },
    {
     "name": "stdout",
     "output_type": "stream",
     "text": [
      "Epoch 58, Loss: 3138.0290, Recon: 3036.8634, KL: 101.1656\n"
     ]
    },
    {
     "name": "stderr",
     "output_type": "stream",
     "text": [
      "Epoch 59/500: 100%|██████████████████████████████████████████████████████████| 11/11 [00:00<00:00, 113.81it/s]\n"
     ]
    },
    {
     "name": "stdout",
     "output_type": "stream",
     "text": [
      "Epoch 59, Loss: 3126.6807, Recon: 3025.5049, KL: 101.1758\n"
     ]
    },
    {
     "name": "stderr",
     "output_type": "stream",
     "text": [
      "Epoch 60/500: 100%|██████████████████████████████████████████████████████████| 11/11 [00:00<00:00, 154.65it/s]\n"
     ]
    },
    {
     "name": "stdout",
     "output_type": "stream",
     "text": [
      "Epoch 60, Loss: 3118.8072, Recon: 3017.1736, KL: 101.6336\n"
     ]
    },
    {
     "name": "stderr",
     "output_type": "stream",
     "text": [
      "Epoch 61/500: 100%|███████████████████████████████████████████████████████████| 11/11 [00:00<00:00, 91.81it/s]\n"
     ]
    },
    {
     "name": "stdout",
     "output_type": "stream",
     "text": [
      "Epoch 61, Loss: 3111.5462, Recon: 3009.2995, KL: 102.2466\n"
     ]
    },
    {
     "name": "stderr",
     "output_type": "stream",
     "text": [
      "Epoch 62/500: 100%|██████████████████████████████████████████████████████████| 11/11 [00:00<00:00, 152.87it/s]\n"
     ]
    },
    {
     "name": "stdout",
     "output_type": "stream",
     "text": [
      "Epoch 62, Loss: 3092.1211, Recon: 2989.4837, KL: 102.6374\n"
     ]
    },
    {
     "name": "stderr",
     "output_type": "stream",
     "text": [
      "Epoch 63/500: 100%|██████████████████████████████████████████████████████████| 11/11 [00:00<00:00, 151.04it/s]\n"
     ]
    },
    {
     "name": "stdout",
     "output_type": "stream",
     "text": [
      "Epoch 63, Loss: 3082.9439, Recon: 2980.0861, KL: 102.8578\n"
     ]
    },
    {
     "name": "stderr",
     "output_type": "stream",
     "text": [
      "Epoch 64/500: 100%|██████████████████████████████████████████████████████████| 11/11 [00:00<00:00, 127.94it/s]\n"
     ]
    },
    {
     "name": "stdout",
     "output_type": "stream",
     "text": [
      "Epoch 64, Loss: 3070.2671, Recon: 2968.3350, KL: 101.9322\n"
     ]
    },
    {
     "name": "stderr",
     "output_type": "stream",
     "text": [
      "Epoch 65/500: 100%|██████████████████████████████████████████████████████████| 11/11 [00:00<00:00, 136.17it/s]\n"
     ]
    },
    {
     "name": "stdout",
     "output_type": "stream",
     "text": [
      "Epoch 65, Loss: 3058.9972, Recon: 2954.4900, KL: 104.5072\n"
     ]
    },
    {
     "name": "stderr",
     "output_type": "stream",
     "text": [
      "Epoch 66/500: 100%|██████████████████████████████████████████████████████████| 11/11 [00:00<00:00, 151.73it/s]\n"
     ]
    },
    {
     "name": "stdout",
     "output_type": "stream",
     "text": [
      "Epoch 66, Loss: 3046.8892, Recon: 2943.6334, KL: 103.2558\n"
     ]
    },
    {
     "name": "stderr",
     "output_type": "stream",
     "text": [
      "Epoch 67/500: 100%|██████████████████████████████████████████████████████████| 11/11 [00:00<00:00, 155.22it/s]\n"
     ]
    },
    {
     "name": "stdout",
     "output_type": "stream",
     "text": [
      "Epoch 67, Loss: 3034.5522, Recon: 2930.3875, KL: 104.1647\n"
     ]
    },
    {
     "name": "stderr",
     "output_type": "stream",
     "text": [
      "Epoch 68/500: 100%|██████████████████████████████████████████████████████████| 11/11 [00:00<00:00, 146.91it/s]\n"
     ]
    },
    {
     "name": "stdout",
     "output_type": "stream",
     "text": [
      "Epoch 68, Loss: 3021.7619, Recon: 2917.7656, KL: 103.9963\n"
     ]
    },
    {
     "name": "stderr",
     "output_type": "stream",
     "text": [
      "Epoch 69/500: 100%|██████████████████████████████████████████████████████████| 11/11 [00:00<00:00, 161.44it/s]\n"
     ]
    },
    {
     "name": "stdout",
     "output_type": "stream",
     "text": [
      "Epoch 69, Loss: 3009.3819, Recon: 2904.6398, KL: 104.7421\n"
     ]
    },
    {
     "name": "stderr",
     "output_type": "stream",
     "text": [
      "Epoch 70/500: 100%|██████████████████████████████████████████████████████████| 11/11 [00:00<00:00, 135.85it/s]\n"
     ]
    },
    {
     "name": "stdout",
     "output_type": "stream",
     "text": [
      "Epoch 70, Loss: 3002.0665, Recon: 2897.2722, KL: 104.7943\n"
     ]
    },
    {
     "name": "stderr",
     "output_type": "stream",
     "text": [
      "Epoch 71/500: 100%|██████████████████████████████████████████████████████████| 11/11 [00:00<00:00, 150.46it/s]\n"
     ]
    },
    {
     "name": "stdout",
     "output_type": "stream",
     "text": [
      "Epoch 71, Loss: 2993.7326, Recon: 2888.3289, KL: 105.4037\n"
     ]
    },
    {
     "name": "stderr",
     "output_type": "stream",
     "text": [
      "Epoch 72/500: 100%|██████████████████████████████████████████████████████████| 11/11 [00:00<00:00, 142.23it/s]\n"
     ]
    },
    {
     "name": "stdout",
     "output_type": "stream",
     "text": [
      "Epoch 72, Loss: 2984.4586, Recon: 2879.8183, KL: 104.6403\n"
     ]
    },
    {
     "name": "stderr",
     "output_type": "stream",
     "text": [
      "Epoch 73/500: 100%|██████████████████████████████████████████████████████████| 11/11 [00:00<00:00, 160.66it/s]\n"
     ]
    },
    {
     "name": "stdout",
     "output_type": "stream",
     "text": [
      "Epoch 73, Loss: 2975.2935, Recon: 2868.9580, KL: 106.3356\n"
     ]
    },
    {
     "name": "stderr",
     "output_type": "stream",
     "text": [
      "Epoch 74/500: 100%|██████████████████████████████████████████████████████████| 11/11 [00:00<00:00, 151.77it/s]\n"
     ]
    },
    {
     "name": "stdout",
     "output_type": "stream",
     "text": [
      "Epoch 74, Loss: 2969.1133, Recon: 2864.1495, KL: 104.9638\n"
     ]
    },
    {
     "name": "stderr",
     "output_type": "stream",
     "text": [
      "Epoch 75/500: 100%|██████████████████████████████████████████████████████████| 11/11 [00:00<00:00, 161.59it/s]\n"
     ]
    },
    {
     "name": "stdout",
     "output_type": "stream",
     "text": [
      "Epoch 75, Loss: 2959.6047, Recon: 2853.3298, KL: 106.2749\n"
     ]
    },
    {
     "name": "stderr",
     "output_type": "stream",
     "text": [
      "Epoch 76/500: 100%|██████████████████████████████████████████████████████████| 11/11 [00:00<00:00, 151.67it/s]\n"
     ]
    },
    {
     "name": "stdout",
     "output_type": "stream",
     "text": [
      "Epoch 76, Loss: 2949.6677, Recon: 2843.6053, KL: 106.0624\n"
     ]
    },
    {
     "name": "stderr",
     "output_type": "stream",
     "text": [
      "Epoch 77/500: 100%|██████████████████████████████████████████████████████████| 11/11 [00:00<00:00, 146.01it/s]\n"
     ]
    },
    {
     "name": "stdout",
     "output_type": "stream",
     "text": [
      "Epoch 77, Loss: 2939.8993, Recon: 2834.1102, KL: 105.7891\n"
     ]
    },
    {
     "name": "stderr",
     "output_type": "stream",
     "text": [
      "Epoch 78/500: 100%|██████████████████████████████████████████████████████████| 11/11 [00:00<00:00, 156.21it/s]\n"
     ]
    },
    {
     "name": "stdout",
     "output_type": "stream",
     "text": [
      "Epoch 78, Loss: 2933.6227, Recon: 2827.4024, KL: 106.2203\n"
     ]
    },
    {
     "name": "stderr",
     "output_type": "stream",
     "text": [
      "Epoch 79/500: 100%|██████████████████████████████████████████████████████████| 11/11 [00:00<00:00, 121.96it/s]\n"
     ]
    },
    {
     "name": "stdout",
     "output_type": "stream",
     "text": [
      "Epoch 79, Loss: 2926.9608, Recon: 2820.9462, KL: 106.0145\n"
     ]
    },
    {
     "name": "stderr",
     "output_type": "stream",
     "text": [
      "Epoch 80/500: 100%|██████████████████████████████████████████████████████████| 11/11 [00:00<00:00, 153.29it/s]\n"
     ]
    },
    {
     "name": "stdout",
     "output_type": "stream",
     "text": [
      "Epoch 80, Loss: 2917.8483, Recon: 2810.8011, KL: 107.0472\n"
     ]
    },
    {
     "name": "stderr",
     "output_type": "stream",
     "text": [
      "Epoch 81/500: 100%|██████████████████████████████████████████████████████████| 11/11 [00:00<00:00, 117.43it/s]\n"
     ]
    },
    {
     "name": "stdout",
     "output_type": "stream",
     "text": [
      "Epoch 81, Loss: 2911.0596, Recon: 2804.7034, KL: 106.3562\n"
     ]
    },
    {
     "name": "stderr",
     "output_type": "stream",
     "text": [
      "Epoch 82/500: 100%|██████████████████████████████████████████████████████████| 11/11 [00:00<00:00, 149.80it/s]\n"
     ]
    },
    {
     "name": "stdout",
     "output_type": "stream",
     "text": [
      "Epoch 82, Loss: 2904.1528, Recon: 2797.5916, KL: 106.5612\n"
     ]
    },
    {
     "name": "stderr",
     "output_type": "stream",
     "text": [
      "Epoch 83/500: 100%|██████████████████████████████████████████████████████████| 11/11 [00:00<00:00, 136.03it/s]\n"
     ]
    },
    {
     "name": "stdout",
     "output_type": "stream",
     "text": [
      "Epoch 83, Loss: 2898.4508, Recon: 2791.3557, KL: 107.0951\n"
     ]
    },
    {
     "name": "stderr",
     "output_type": "stream",
     "text": [
      "Epoch 84/500: 100%|██████████████████████████████████████████████████████████| 11/11 [00:00<00:00, 155.71it/s]\n"
     ]
    },
    {
     "name": "stdout",
     "output_type": "stream",
     "text": [
      "Epoch 84, Loss: 2891.3470, Recon: 2784.2291, KL: 107.1179\n"
     ]
    },
    {
     "name": "stderr",
     "output_type": "stream",
     "text": [
      "Epoch 85/500: 100%|██████████████████████████████████████████████████████████| 11/11 [00:00<00:00, 148.20it/s]\n"
     ]
    },
    {
     "name": "stdout",
     "output_type": "stream",
     "text": [
      "Epoch 85, Loss: 2884.1093, Recon: 2777.0193, KL: 107.0900\n"
     ]
    },
    {
     "name": "stderr",
     "output_type": "stream",
     "text": [
      "Epoch 86/500: 100%|██████████████████████████████████████████████████████████| 11/11 [00:00<00:00, 143.00it/s]\n"
     ]
    },
    {
     "name": "stdout",
     "output_type": "stream",
     "text": [
      "Epoch 86, Loss: 2877.6057, Recon: 2770.2959, KL: 107.3099\n"
     ]
    },
    {
     "name": "stderr",
     "output_type": "stream",
     "text": [
      "Epoch 87/500: 100%|██████████████████████████████████████████████████████████| 11/11 [00:00<00:00, 142.09it/s]\n"
     ]
    },
    {
     "name": "stdout",
     "output_type": "stream",
     "text": [
      "Epoch 87, Loss: 2872.3051, Recon: 2764.3995, KL: 107.9056\n"
     ]
    },
    {
     "name": "stderr",
     "output_type": "stream",
     "text": [
      "Epoch 88/500: 100%|██████████████████████████████████████████████████████████| 11/11 [00:00<00:00, 145.26it/s]\n"
     ]
    },
    {
     "name": "stdout",
     "output_type": "stream",
     "text": [
      "Epoch 88, Loss: 2867.7725, Recon: 2760.0340, KL: 107.7386\n"
     ]
    },
    {
     "name": "stderr",
     "output_type": "stream",
     "text": [
      "Epoch 89/500: 100%|██████████████████████████████████████████████████████████| 11/11 [00:00<00:00, 152.90it/s]\n"
     ]
    },
    {
     "name": "stdout",
     "output_type": "stream",
     "text": [
      "Epoch 89, Loss: 2858.5063, Recon: 2750.4478, KL: 108.0585\n"
     ]
    },
    {
     "name": "stderr",
     "output_type": "stream",
     "text": [
      "Epoch 90/500: 100%|██████████████████████████████████████████████████████████| 11/11 [00:00<00:00, 141.54it/s]\n"
     ]
    },
    {
     "name": "stdout",
     "output_type": "stream",
     "text": [
      "Epoch 90, Loss: 2854.9698, Recon: 2746.3860, KL: 108.5838\n"
     ]
    },
    {
     "name": "stderr",
     "output_type": "stream",
     "text": [
      "Epoch 91/500: 100%|██████████████████████████████████████████████████████████| 11/11 [00:00<00:00, 128.63it/s]\n"
     ]
    },
    {
     "name": "stdout",
     "output_type": "stream",
     "text": [
      "Epoch 91, Loss: 2849.5156, Recon: 2742.1432, KL: 107.3724\n"
     ]
    },
    {
     "name": "stderr",
     "output_type": "stream",
     "text": [
      "Epoch 92/500: 100%|██████████████████████████████████████████████████████████| 11/11 [00:00<00:00, 163.24it/s]\n"
     ]
    },
    {
     "name": "stdout",
     "output_type": "stream",
     "text": [
      "Epoch 92, Loss: 2841.0421, Recon: 2732.6395, KL: 108.4025\n"
     ]
    },
    {
     "name": "stderr",
     "output_type": "stream",
     "text": [
      "Epoch 93/500: 100%|██████████████████████████████████████████████████████████| 11/11 [00:00<00:00, 156.83it/s]\n"
     ]
    },
    {
     "name": "stdout",
     "output_type": "stream",
     "text": [
      "Epoch 93, Loss: 2857.6482, Recon: 2748.9618, KL: 108.6863\n"
     ]
    },
    {
     "name": "stderr",
     "output_type": "stream",
     "text": [
      "Epoch 94/500: 100%|██████████████████████████████████████████████████████████| 11/11 [00:00<00:00, 159.84it/s]\n"
     ]
    },
    {
     "name": "stdout",
     "output_type": "stream",
     "text": [
      "Epoch 94, Loss: 2833.5554, Recon: 2724.8059, KL: 108.7496\n"
     ]
    },
    {
     "name": "stderr",
     "output_type": "stream",
     "text": [
      "Epoch 95/500: 100%|██████████████████████████████████████████████████████████| 11/11 [00:00<00:00, 153.49it/s]\n"
     ]
    },
    {
     "name": "stdout",
     "output_type": "stream",
     "text": [
      "Epoch 95, Loss: 2825.0269, Recon: 2716.8042, KL: 108.2227\n"
     ]
    },
    {
     "name": "stderr",
     "output_type": "stream",
     "text": [
      "Epoch 96/500: 100%|███████████████████████████████████████████████████████████| 11/11 [00:00<00:00, 89.47it/s]\n"
     ]
    },
    {
     "name": "stdout",
     "output_type": "stream",
     "text": [
      "Epoch 96, Loss: 2815.5124, Recon: 2706.5113, KL: 109.0011\n"
     ]
    },
    {
     "name": "stderr",
     "output_type": "stream",
     "text": [
      "Epoch 97/500: 100%|███████████████████████████████████████████████████████████| 11/11 [00:00<00:00, 79.61it/s]\n"
     ]
    },
    {
     "name": "stdout",
     "output_type": "stream",
     "text": [
      "Epoch 97, Loss: 2811.5572, Recon: 2702.7680, KL: 108.7892\n"
     ]
    },
    {
     "name": "stderr",
     "output_type": "stream",
     "text": [
      "Epoch 98/500: 100%|██████████████████████████████████████████████████████████| 11/11 [00:00<00:00, 121.82it/s]\n"
     ]
    },
    {
     "name": "stdout",
     "output_type": "stream",
     "text": [
      "Epoch 98, Loss: 2806.6404, Recon: 2697.7398, KL: 108.9005\n"
     ]
    },
    {
     "name": "stderr",
     "output_type": "stream",
     "text": [
      "Epoch 99/500: 100%|██████████████████████████████████████████████████████████| 11/11 [00:00<00:00, 139.39it/s]\n"
     ]
    },
    {
     "name": "stdout",
     "output_type": "stream",
     "text": [
      "Epoch 99, Loss: 2804.5756, Recon: 2696.0431, KL: 108.5326\n"
     ]
    },
    {
     "name": "stderr",
     "output_type": "stream",
     "text": [
      "Epoch 100/500: 100%|█████████████████████████████████████████████████████████| 11/11 [00:00<00:00, 143.16it/s]\n"
     ]
    },
    {
     "name": "stdout",
     "output_type": "stream",
     "text": [
      "Epoch 100, Loss: 2797.2669, Recon: 2688.4333, KL: 108.8336\n"
     ]
    },
    {
     "name": "stderr",
     "output_type": "stream",
     "text": [
      "Epoch 101/500: 100%|██████████████████████████████████████████████████████████| 11/11 [00:00<00:00, 84.11it/s]\n"
     ]
    },
    {
     "name": "stdout",
     "output_type": "stream",
     "text": [
      "Epoch 101, Loss: 2792.0298, Recon: 2683.2386, KL: 108.7913\n"
     ]
    },
    {
     "name": "stderr",
     "output_type": "stream",
     "text": [
      "Epoch 102/500: 100%|█████████████████████████████████████████████████████████| 11/11 [00:00<00:00, 139.21it/s]\n"
     ]
    },
    {
     "name": "stdout",
     "output_type": "stream",
     "text": [
      "Epoch 102, Loss: 2787.7766, Recon: 2679.2973, KL: 108.4793\n"
     ]
    },
    {
     "name": "stderr",
     "output_type": "stream",
     "text": [
      "Epoch 103/500: 100%|█████████████████████████████████████████████████████████| 11/11 [00:00<00:00, 137.55it/s]\n"
     ]
    },
    {
     "name": "stdout",
     "output_type": "stream",
     "text": [
      "Epoch 103, Loss: 2781.1880, Recon: 2672.2878, KL: 108.9001\n"
     ]
    },
    {
     "name": "stderr",
     "output_type": "stream",
     "text": [
      "Epoch 104/500: 100%|█████████████████████████████████████████████████████████| 11/11 [00:00<00:00, 130.24it/s]\n"
     ]
    },
    {
     "name": "stdout",
     "output_type": "stream",
     "text": [
      "Epoch 104, Loss: 2776.3959, Recon: 2667.6108, KL: 108.7851\n"
     ]
    },
    {
     "name": "stderr",
     "output_type": "stream",
     "text": [
      "Epoch 105/500: 100%|█████████████████████████████████████████████████████████| 11/11 [00:00<00:00, 118.43it/s]\n"
     ]
    },
    {
     "name": "stdout",
     "output_type": "stream",
     "text": [
      "Epoch 105, Loss: 2772.4447, Recon: 2663.5688, KL: 108.8759\n"
     ]
    },
    {
     "name": "stderr",
     "output_type": "stream",
     "text": [
      "Epoch 106/500: 100%|█████████████████████████████████████████████████████████| 11/11 [00:00<00:00, 140.37it/s]\n"
     ]
    },
    {
     "name": "stdout",
     "output_type": "stream",
     "text": [
      "Epoch 106, Loss: 2769.2604, Recon: 2659.9719, KL: 109.2885\n"
     ]
    },
    {
     "name": "stderr",
     "output_type": "stream",
     "text": [
      "Epoch 107/500: 100%|█████████████████████████████████████████████████████████| 11/11 [00:00<00:00, 130.52it/s]\n"
     ]
    },
    {
     "name": "stdout",
     "output_type": "stream",
     "text": [
      "Epoch 107, Loss: 2765.3486, Recon: 2655.9359, KL: 109.4127\n"
     ]
    },
    {
     "name": "stderr",
     "output_type": "stream",
     "text": [
      "Epoch 108/500: 100%|█████████████████████████████████████████████████████████| 11/11 [00:00<00:00, 154.86it/s]\n"
     ]
    },
    {
     "name": "stdout",
     "output_type": "stream",
     "text": [
      "Epoch 108, Loss: 2758.8624, Recon: 2648.8634, KL: 109.9990\n"
     ]
    },
    {
     "name": "stderr",
     "output_type": "stream",
     "text": [
      "Epoch 109/500: 100%|█████████████████████████████████████████████████████████| 11/11 [00:00<00:00, 143.68it/s]\n"
     ]
    },
    {
     "name": "stdout",
     "output_type": "stream",
     "text": [
      "Epoch 109, Loss: 2755.9345, Recon: 2646.6415, KL: 109.2929\n"
     ]
    },
    {
     "name": "stderr",
     "output_type": "stream",
     "text": [
      "Epoch 110/500: 100%|██████████████████████████████████████████████████████████| 11/11 [00:00<00:00, 86.42it/s]\n"
     ]
    },
    {
     "name": "stdout",
     "output_type": "stream",
     "text": [
      "Epoch 110, Loss: 2750.7691, Recon: 2641.1115, KL: 109.6576\n"
     ]
    },
    {
     "name": "stderr",
     "output_type": "stream",
     "text": [
      "Epoch 111/500: 100%|██████████████████████████████████████████████████████████| 11/11 [00:00<00:00, 38.97it/s]\n"
     ]
    },
    {
     "name": "stdout",
     "output_type": "stream",
     "text": [
      "Epoch 111, Loss: 2745.8434, Recon: 2636.0495, KL: 109.7939\n"
     ]
    },
    {
     "name": "stderr",
     "output_type": "stream",
     "text": [
      "Epoch 112/500: 100%|██████████████████████████████████████████████████████████| 11/11 [00:00<00:00, 35.68it/s]\n"
     ]
    },
    {
     "name": "stdout",
     "output_type": "stream",
     "text": [
      "Epoch 112, Loss: 2742.4088, Recon: 2633.4387, KL: 108.9701\n"
     ]
    },
    {
     "name": "stderr",
     "output_type": "stream",
     "text": [
      "Epoch 113/500: 100%|█████████████████████████████████████████████████████████| 11/11 [00:00<00:00, 154.94it/s]\n"
     ]
    },
    {
     "name": "stdout",
     "output_type": "stream",
     "text": [
      "Epoch 113, Loss: 2735.4631, Recon: 2626.1556, KL: 109.3075\n"
     ]
    },
    {
     "name": "stderr",
     "output_type": "stream",
     "text": [
      "Epoch 114/500: 100%|█████████████████████████████████████████████████████████| 11/11 [00:00<00:00, 134.76it/s]\n"
     ]
    },
    {
     "name": "stdout",
     "output_type": "stream",
     "text": [
      "Epoch 114, Loss: 2733.6013, Recon: 2623.7446, KL: 109.8568\n"
     ]
    },
    {
     "name": "stderr",
     "output_type": "stream",
     "text": [
      "Epoch 115/500: 100%|█████████████████████████████████████████████████████████| 11/11 [00:00<00:00, 135.98it/s]\n"
     ]
    },
    {
     "name": "stdout",
     "output_type": "stream",
     "text": [
      "Epoch 115, Loss: 2727.2412, Recon: 2617.6891, KL: 109.5522\n"
     ]
    },
    {
     "name": "stderr",
     "output_type": "stream",
     "text": [
      "Epoch 116/500: 100%|█████████████████████████████████████████████████████████| 11/11 [00:00<00:00, 145.38it/s]\n"
     ]
    },
    {
     "name": "stdout",
     "output_type": "stream",
     "text": [
      "Epoch 116, Loss: 2722.6438, Recon: 2612.7989, KL: 109.8448\n"
     ]
    },
    {
     "name": "stderr",
     "output_type": "stream",
     "text": [
      "Epoch 117/500: 100%|█████████████████████████████████████████████████████████| 11/11 [00:00<00:00, 108.28it/s]\n"
     ]
    },
    {
     "name": "stdout",
     "output_type": "stream",
     "text": [
      "Epoch 117, Loss: 2716.7343, Recon: 2607.4691, KL: 109.2651\n"
     ]
    },
    {
     "name": "stderr",
     "output_type": "stream",
     "text": [
      "Epoch 118/500: 100%|█████████████████████████████████████████████████████████| 11/11 [00:00<00:00, 142.93it/s]\n"
     ]
    },
    {
     "name": "stdout",
     "output_type": "stream",
     "text": [
      "Epoch 118, Loss: 2711.8296, Recon: 2602.0769, KL: 109.7528\n"
     ]
    },
    {
     "name": "stderr",
     "output_type": "stream",
     "text": [
      "Epoch 119/500: 100%|█████████████████████████████████████████████████████████| 11/11 [00:00<00:00, 149.66it/s]\n"
     ]
    },
    {
     "name": "stdout",
     "output_type": "stream",
     "text": [
      "Epoch 119, Loss: 2707.2732, Recon: 2597.3729, KL: 109.9002\n"
     ]
    },
    {
     "name": "stderr",
     "output_type": "stream",
     "text": [
      "Epoch 120/500: 100%|█████████████████████████████████████████████████████████| 11/11 [00:00<00:00, 157.49it/s]\n"
     ]
    },
    {
     "name": "stdout",
     "output_type": "stream",
     "text": [
      "Epoch 120, Loss: 2704.1647, Recon: 2594.7245, KL: 109.4401\n"
     ]
    },
    {
     "name": "stderr",
     "output_type": "stream",
     "text": [
      "Epoch 121/500: 100%|█████████████████████████████████████████████████████████| 11/11 [00:00<00:00, 155.20it/s]\n"
     ]
    },
    {
     "name": "stdout",
     "output_type": "stream",
     "text": [
      "Epoch 121, Loss: 2701.1650, Recon: 2591.6242, KL: 109.5408\n"
     ]
    },
    {
     "name": "stderr",
     "output_type": "stream",
     "text": [
      "Epoch 122/500: 100%|█████████████████████████████████████████████████████████| 11/11 [00:00<00:00, 143.54it/s]\n"
     ]
    },
    {
     "name": "stdout",
     "output_type": "stream",
     "text": [
      "Epoch 122, Loss: 2693.9361, Recon: 2584.3490, KL: 109.5871\n"
     ]
    },
    {
     "name": "stderr",
     "output_type": "stream",
     "text": [
      "Epoch 123/500: 100%|█████████████████████████████████████████████████████████| 11/11 [00:00<00:00, 110.65it/s]\n"
     ]
    },
    {
     "name": "stdout",
     "output_type": "stream",
     "text": [
      "Epoch 123, Loss: 2690.3959, Recon: 2580.8553, KL: 109.5407\n"
     ]
    },
    {
     "name": "stderr",
     "output_type": "stream",
     "text": [
      "Epoch 124/500: 100%|█████████████████████████████████████████████████████████| 11/11 [00:00<00:00, 137.75it/s]\n"
     ]
    },
    {
     "name": "stdout",
     "output_type": "stream",
     "text": [
      "Epoch 124, Loss: 2688.0793, Recon: 2578.1512, KL: 109.9281\n"
     ]
    },
    {
     "name": "stderr",
     "output_type": "stream",
     "text": [
      "Epoch 125/500: 100%|█████████████████████████████████████████████████████████| 11/11 [00:00<00:00, 133.85it/s]\n"
     ]
    },
    {
     "name": "stdout",
     "output_type": "stream",
     "text": [
      "Epoch 125, Loss: 2684.7830, Recon: 2574.9910, KL: 109.7921\n"
     ]
    },
    {
     "name": "stderr",
     "output_type": "stream",
     "text": [
      "Epoch 126/500: 100%|█████████████████████████████████████████████████████████| 11/11 [00:00<00:00, 147.99it/s]\n"
     ]
    },
    {
     "name": "stdout",
     "output_type": "stream",
     "text": [
      "Epoch 126, Loss: 2676.4401, Recon: 2566.3308, KL: 110.1094\n"
     ]
    },
    {
     "name": "stderr",
     "output_type": "stream",
     "text": [
      "Epoch 127/500: 100%|█████████████████████████████████████████████████████████| 11/11 [00:00<00:00, 142.30it/s]\n"
     ]
    },
    {
     "name": "stdout",
     "output_type": "stream",
     "text": [
      "Epoch 127, Loss: 2671.4811, Recon: 2562.0279, KL: 109.4532\n"
     ]
    },
    {
     "name": "stderr",
     "output_type": "stream",
     "text": [
      "Epoch 128/500: 100%|█████████████████████████████████████████████████████████| 11/11 [00:00<00:00, 151.57it/s]\n"
     ]
    },
    {
     "name": "stdout",
     "output_type": "stream",
     "text": [
      "Epoch 128, Loss: 2673.3488, Recon: 2562.8359, KL: 110.5130\n"
     ]
    },
    {
     "name": "stderr",
     "output_type": "stream",
     "text": [
      "Epoch 129/500: 100%|█████████████████████████████████████████████████████████| 11/11 [00:00<00:00, 160.12it/s]\n"
     ]
    },
    {
     "name": "stdout",
     "output_type": "stream",
     "text": [
      "Epoch 129, Loss: 2669.8953, Recon: 2559.5351, KL: 110.3602\n"
     ]
    },
    {
     "name": "stderr",
     "output_type": "stream",
     "text": [
      "Epoch 130/500: 100%|█████████████████████████████████████████████████████████| 11/11 [00:00<00:00, 156.70it/s]\n"
     ]
    },
    {
     "name": "stdout",
     "output_type": "stream",
     "text": [
      "Epoch 130, Loss: 2664.8338, Recon: 2554.6979, KL: 110.1359\n"
     ]
    },
    {
     "name": "stderr",
     "output_type": "stream",
     "text": [
      "Epoch 131/500: 100%|█████████████████████████████████████████████████████████| 11/11 [00:00<00:00, 111.49it/s]\n"
     ]
    },
    {
     "name": "stdout",
     "output_type": "stream",
     "text": [
      "Epoch 131, Loss: 2661.3070, Recon: 2550.9094, KL: 110.3976\n"
     ]
    },
    {
     "name": "stderr",
     "output_type": "stream",
     "text": [
      "Epoch 132/500: 100%|██████████████████████████████████████████████████████████| 11/11 [00:00<00:00, 68.53it/s]\n"
     ]
    },
    {
     "name": "stdout",
     "output_type": "stream",
     "text": [
      "Epoch 132, Loss: 2660.0219, Recon: 2550.3859, KL: 109.6359\n"
     ]
    },
    {
     "name": "stderr",
     "output_type": "stream",
     "text": [
      "Epoch 133/500: 100%|█████████████████████████████████████████████████████████| 11/11 [00:00<00:00, 129.54it/s]\n"
     ]
    },
    {
     "name": "stdout",
     "output_type": "stream",
     "text": [
      "Epoch 133, Loss: 2657.3488, Recon: 2547.2178, KL: 110.1310\n"
     ]
    },
    {
     "name": "stderr",
     "output_type": "stream",
     "text": [
      "Epoch 134/500: 100%|█████████████████████████████████████████████████████████| 11/11 [00:00<00:00, 150.26it/s]\n"
     ]
    },
    {
     "name": "stdout",
     "output_type": "stream",
     "text": [
      "Epoch 134, Loss: 2651.8535, Recon: 2541.8019, KL: 110.0516\n"
     ]
    },
    {
     "name": "stderr",
     "output_type": "stream",
     "text": [
      "Epoch 135/500: 100%|█████████████████████████████████████████████████████████| 11/11 [00:00<00:00, 131.60it/s]\n"
     ]
    },
    {
     "name": "stdout",
     "output_type": "stream",
     "text": [
      "Epoch 135, Loss: 2647.9999, Recon: 2537.2538, KL: 110.7461\n"
     ]
    },
    {
     "name": "stderr",
     "output_type": "stream",
     "text": [
      "Epoch 136/500: 100%|█████████████████████████████████████████████████████████| 11/11 [00:00<00:00, 121.42it/s]\n"
     ]
    },
    {
     "name": "stdout",
     "output_type": "stream",
     "text": [
      "Epoch 136, Loss: 2644.3744, Recon: 2533.8809, KL: 110.4936\n"
     ]
    },
    {
     "name": "stderr",
     "output_type": "stream",
     "text": [
      "Epoch 137/500: 100%|█████████████████████████████████████████████████████████| 11/11 [00:00<00:00, 137.15it/s]\n"
     ]
    },
    {
     "name": "stdout",
     "output_type": "stream",
     "text": [
      "Epoch 137, Loss: 2644.3700, Recon: 2534.2114, KL: 110.1586\n"
     ]
    },
    {
     "name": "stderr",
     "output_type": "stream",
     "text": [
      "Epoch 138/500: 100%|█████████████████████████████████████████████████████████| 11/11 [00:00<00:00, 127.04it/s]\n"
     ]
    },
    {
     "name": "stdout",
     "output_type": "stream",
     "text": [
      "Epoch 138, Loss: 2636.4180, Recon: 2525.8249, KL: 110.5931\n"
     ]
    },
    {
     "name": "stderr",
     "output_type": "stream",
     "text": [
      "Epoch 139/500: 100%|█████████████████████████████████████████████████████████| 11/11 [00:00<00:00, 135.69it/s]\n"
     ]
    },
    {
     "name": "stdout",
     "output_type": "stream",
     "text": [
      "Epoch 139, Loss: 2630.4690, Recon: 2520.3770, KL: 110.0919\n"
     ]
    },
    {
     "name": "stderr",
     "output_type": "stream",
     "text": [
      "Epoch 140/500: 100%|█████████████████████████████████████████████████████████| 11/11 [00:00<00:00, 149.20it/s]\n"
     ]
    },
    {
     "name": "stdout",
     "output_type": "stream",
     "text": [
      "Epoch 140, Loss: 2628.7474, Recon: 2518.2936, KL: 110.4538\n"
     ]
    },
    {
     "name": "stderr",
     "output_type": "stream",
     "text": [
      "Epoch 141/500: 100%|█████████████████████████████████████████████████████████| 11/11 [00:00<00:00, 141.10it/s]\n"
     ]
    },
    {
     "name": "stdout",
     "output_type": "stream",
     "text": [
      "Epoch 141, Loss: 2624.2377, Recon: 2513.5942, KL: 110.6436\n"
     ]
    },
    {
     "name": "stderr",
     "output_type": "stream",
     "text": [
      "Epoch 142/500: 100%|█████████████████████████████████████████████████████████| 11/11 [00:00<00:00, 138.95it/s]\n"
     ]
    },
    {
     "name": "stdout",
     "output_type": "stream",
     "text": [
      "Epoch 142, Loss: 2621.1479, Recon: 2510.5544, KL: 110.5936\n"
     ]
    },
    {
     "name": "stderr",
     "output_type": "stream",
     "text": [
      "Epoch 143/500: 100%|█████████████████████████████████████████████████████████| 11/11 [00:00<00:00, 141.22it/s]\n"
     ]
    },
    {
     "name": "stdout",
     "output_type": "stream",
     "text": [
      "Epoch 143, Loss: 2618.8614, Recon: 2507.6071, KL: 111.2543\n"
     ]
    },
    {
     "name": "stderr",
     "output_type": "stream",
     "text": [
      "Epoch 144/500: 100%|█████████████████████████████████████████████████████████| 11/11 [00:00<00:00, 111.31it/s]\n"
     ]
    },
    {
     "name": "stdout",
     "output_type": "stream",
     "text": [
      "Epoch 144, Loss: 2614.9150, Recon: 2503.6816, KL: 111.2335\n"
     ]
    },
    {
     "name": "stderr",
     "output_type": "stream",
     "text": [
      "Epoch 145/500: 100%|█████████████████████████████████████████████████████████| 11/11 [00:00<00:00, 137.49it/s]\n"
     ]
    },
    {
     "name": "stdout",
     "output_type": "stream",
     "text": [
      "Epoch 145, Loss: 2607.8317, Recon: 2496.9156, KL: 110.9162\n"
     ]
    },
    {
     "name": "stderr",
     "output_type": "stream",
     "text": [
      "Epoch 146/500: 100%|█████████████████████████████████████████████████████████| 11/11 [00:00<00:00, 155.90it/s]\n"
     ]
    },
    {
     "name": "stdout",
     "output_type": "stream",
     "text": [
      "Epoch 146, Loss: 2605.1969, Recon: 2494.3066, KL: 110.8903\n"
     ]
    },
    {
     "name": "stderr",
     "output_type": "stream",
     "text": [
      "Epoch 147/500: 100%|██████████████████████████████████████████████████████████| 11/11 [00:00<00:00, 54.46it/s]\n"
     ]
    },
    {
     "name": "stdout",
     "output_type": "stream",
     "text": [
      "Epoch 147, Loss: 2602.3493, Recon: 2491.6767, KL: 110.6725\n"
     ]
    },
    {
     "name": "stderr",
     "output_type": "stream",
     "text": [
      "Epoch 148/500: 100%|█████████████████████████████████████████████████████████| 11/11 [00:00<00:00, 132.19it/s]\n"
     ]
    },
    {
     "name": "stdout",
     "output_type": "stream",
     "text": [
      "Epoch 148, Loss: 2600.5088, Recon: 2489.6678, KL: 110.8410\n"
     ]
    },
    {
     "name": "stderr",
     "output_type": "stream",
     "text": [
      "Epoch 149/500: 100%|█████████████████████████████████████████████████████████| 11/11 [00:00<00:00, 110.45it/s]\n"
     ]
    },
    {
     "name": "stdout",
     "output_type": "stream",
     "text": [
      "Epoch 149, Loss: 2599.6916, Recon: 2488.7925, KL: 110.8991\n"
     ]
    },
    {
     "name": "stderr",
     "output_type": "stream",
     "text": [
      "Epoch 150/500: 100%|█████████████████████████████████████████████████████████| 11/11 [00:00<00:00, 107.35it/s]\n"
     ]
    },
    {
     "name": "stdout",
     "output_type": "stream",
     "text": [
      "Epoch 150, Loss: 2597.6603, Recon: 2486.0315, KL: 111.6288\n"
     ]
    },
    {
     "name": "stderr",
     "output_type": "stream",
     "text": [
      "Epoch 151/500: 100%|█████████████████████████████████████████████████████████| 11/11 [00:00<00:00, 106.92it/s]\n"
     ]
    },
    {
     "name": "stdout",
     "output_type": "stream",
     "text": [
      "Epoch 151, Loss: 2593.1266, Recon: 2482.0087, KL: 111.1179\n"
     ]
    },
    {
     "name": "stderr",
     "output_type": "stream",
     "text": [
      "Epoch 152/500: 100%|█████████████████████████████████████████████████████████| 11/11 [00:00<00:00, 113.02it/s]\n"
     ]
    },
    {
     "name": "stdout",
     "output_type": "stream",
     "text": [
      "Epoch 152, Loss: 2592.5864, Recon: 2481.1494, KL: 111.4370\n"
     ]
    },
    {
     "name": "stderr",
     "output_type": "stream",
     "text": [
      "Epoch 153/500: 100%|█████████████████████████████████████████████████████████| 11/11 [00:00<00:00, 125.40it/s]\n"
     ]
    },
    {
     "name": "stdout",
     "output_type": "stream",
     "text": [
      "Epoch 153, Loss: 2588.9004, Recon: 2477.4578, KL: 111.4425\n"
     ]
    },
    {
     "name": "stderr",
     "output_type": "stream",
     "text": [
      "Epoch 154/500: 100%|█████████████████████████████████████████████████████████| 11/11 [00:00<00:00, 150.26it/s]\n"
     ]
    },
    {
     "name": "stdout",
     "output_type": "stream",
     "text": [
      "Epoch 154, Loss: 2588.3602, Recon: 2477.3550, KL: 111.0052\n"
     ]
    },
    {
     "name": "stderr",
     "output_type": "stream",
     "text": [
      "Epoch 155/500: 100%|█████████████████████████████████████████████████████████| 11/11 [00:00<00:00, 150.00it/s]\n"
     ]
    },
    {
     "name": "stdout",
     "output_type": "stream",
     "text": [
      "Epoch 155, Loss: 2584.6961, Recon: 2473.6906, KL: 111.0056\n"
     ]
    },
    {
     "name": "stderr",
     "output_type": "stream",
     "text": [
      "Epoch 156/500: 100%|█████████████████████████████████████████████████████████| 11/11 [00:00<00:00, 146.36it/s]\n"
     ]
    },
    {
     "name": "stdout",
     "output_type": "stream",
     "text": [
      "Epoch 156, Loss: 2579.5892, Recon: 2468.3803, KL: 111.2088\n"
     ]
    },
    {
     "name": "stderr",
     "output_type": "stream",
     "text": [
      "Epoch 157/500: 100%|█████████████████████████████████████████████████████████| 11/11 [00:00<00:00, 155.48it/s]\n"
     ]
    },
    {
     "name": "stdout",
     "output_type": "stream",
     "text": [
      "Epoch 157, Loss: 2579.4413, Recon: 2468.2673, KL: 111.1740\n"
     ]
    },
    {
     "name": "stderr",
     "output_type": "stream",
     "text": [
      "Epoch 158/500: 100%|█████████████████████████████████████████████████████████| 11/11 [00:00<00:00, 149.33it/s]\n"
     ]
    },
    {
     "name": "stdout",
     "output_type": "stream",
     "text": [
      "Epoch 158, Loss: 2576.5553, Recon: 2464.9798, KL: 111.5754\n"
     ]
    },
    {
     "name": "stderr",
     "output_type": "stream",
     "text": [
      "Epoch 159/500: 100%|█████████████████████████████████████████████████████████| 11/11 [00:00<00:00, 153.80it/s]\n"
     ]
    },
    {
     "name": "stdout",
     "output_type": "stream",
     "text": [
      "Epoch 159, Loss: 2575.8349, Recon: 2464.8533, KL: 110.9816\n"
     ]
    },
    {
     "name": "stderr",
     "output_type": "stream",
     "text": [
      "Epoch 160/500: 100%|█████████████████████████████████████████████████████████| 11/11 [00:00<00:00, 155.13it/s]\n"
     ]
    },
    {
     "name": "stdout",
     "output_type": "stream",
     "text": [
      "Epoch 160, Loss: 2568.0628, Recon: 2456.1804, KL: 111.8824\n"
     ]
    },
    {
     "name": "stderr",
     "output_type": "stream",
     "text": [
      "Epoch 161/500: 100%|█████████████████████████████████████████████████████████| 11/11 [00:00<00:00, 153.24it/s]\n"
     ]
    },
    {
     "name": "stdout",
     "output_type": "stream",
     "text": [
      "Epoch 161, Loss: 2569.7938, Recon: 2456.9196, KL: 112.8742\n"
     ]
    },
    {
     "name": "stderr",
     "output_type": "stream",
     "text": [
      "Epoch 162/500: 100%|█████████████████████████████████████████████████████████| 11/11 [00:00<00:00, 146.46it/s]\n"
     ]
    },
    {
     "name": "stdout",
     "output_type": "stream",
     "text": [
      "Epoch 162, Loss: 2566.2083, Recon: 2454.7815, KL: 111.4267\n"
     ]
    },
    {
     "name": "stderr",
     "output_type": "stream",
     "text": [
      "Epoch 163/500: 100%|█████████████████████████████████████████████████████████| 11/11 [00:00<00:00, 144.23it/s]\n"
     ]
    },
    {
     "name": "stdout",
     "output_type": "stream",
     "text": [
      "Epoch 163, Loss: 2564.0664, Recon: 2451.4455, KL: 112.6208\n"
     ]
    },
    {
     "name": "stderr",
     "output_type": "stream",
     "text": [
      "Epoch 164/500: 100%|█████████████████████████████████████████████████████████| 11/11 [00:00<00:00, 152.33it/s]\n"
     ]
    },
    {
     "name": "stdout",
     "output_type": "stream",
     "text": [
      "Epoch 164, Loss: 2559.3760, Recon: 2447.6411, KL: 111.7350\n"
     ]
    },
    {
     "name": "stderr",
     "output_type": "stream",
     "text": [
      "Epoch 165/500: 100%|█████████████████████████████████████████████████████████| 11/11 [00:00<00:00, 154.52it/s]\n"
     ]
    },
    {
     "name": "stdout",
     "output_type": "stream",
     "text": [
      "Epoch 165, Loss: 2556.6698, Recon: 2444.2800, KL: 112.3898\n"
     ]
    },
    {
     "name": "stderr",
     "output_type": "stream",
     "text": [
      "Epoch 166/500: 100%|█████████████████████████████████████████████████████████| 11/11 [00:00<00:00, 152.22it/s]\n"
     ]
    },
    {
     "name": "stdout",
     "output_type": "stream",
     "text": [
      "Epoch 166, Loss: 2550.7993, Recon: 2439.2615, KL: 111.5378\n"
     ]
    },
    {
     "name": "stderr",
     "output_type": "stream",
     "text": [
      "Epoch 167/500: 100%|█████████████████████████████████████████████████████████| 11/11 [00:00<00:00, 133.36it/s]\n"
     ]
    },
    {
     "name": "stdout",
     "output_type": "stream",
     "text": [
      "Epoch 167, Loss: 2542.8945, Recon: 2430.3992, KL: 112.4953\n"
     ]
    },
    {
     "name": "stderr",
     "output_type": "stream",
     "text": [
      "Epoch 168/500: 100%|█████████████████████████████████████████████████████████| 11/11 [00:00<00:00, 152.51it/s]\n"
     ]
    },
    {
     "name": "stdout",
     "output_type": "stream",
     "text": [
      "Epoch 168, Loss: 2538.2536, Recon: 2426.1654, KL: 112.0882\n"
     ]
    },
    {
     "name": "stderr",
     "output_type": "stream",
     "text": [
      "Epoch 169/500: 100%|█████████████████████████████████████████████████████████| 11/11 [00:00<00:00, 151.05it/s]\n"
     ]
    },
    {
     "name": "stdout",
     "output_type": "stream",
     "text": [
      "Epoch 169, Loss: 2534.1347, Recon: 2421.9905, KL: 112.1442\n"
     ]
    },
    {
     "name": "stderr",
     "output_type": "stream",
     "text": [
      "Epoch 170/500: 100%|█████████████████████████████████████████████████████████| 11/11 [00:00<00:00, 151.95it/s]\n"
     ]
    },
    {
     "name": "stdout",
     "output_type": "stream",
     "text": [
      "Epoch 170, Loss: 2531.9061, Recon: 2419.6047, KL: 112.3015\n"
     ]
    },
    {
     "name": "stderr",
     "output_type": "stream",
     "text": [
      "Epoch 171/500: 100%|█████████████████████████████████████████████████████████| 11/11 [00:00<00:00, 150.51it/s]\n"
     ]
    },
    {
     "name": "stdout",
     "output_type": "stream",
     "text": [
      "Epoch 171, Loss: 2532.1349, Recon: 2420.0753, KL: 112.0597\n"
     ]
    },
    {
     "name": "stderr",
     "output_type": "stream",
     "text": [
      "Epoch 172/500: 100%|█████████████████████████████████████████████████████████| 11/11 [00:00<00:00, 156.54it/s]\n"
     ]
    },
    {
     "name": "stdout",
     "output_type": "stream",
     "text": [
      "Epoch 172, Loss: 2530.2126, Recon: 2417.8776, KL: 112.3349\n"
     ]
    },
    {
     "name": "stderr",
     "output_type": "stream",
     "text": [
      "Epoch 173/500: 100%|█████████████████████████████████████████████████████████| 11/11 [00:00<00:00, 152.30it/s]\n"
     ]
    },
    {
     "name": "stdout",
     "output_type": "stream",
     "text": [
      "Epoch 173, Loss: 2525.9631, Recon: 2413.2585, KL: 112.7046\n"
     ]
    },
    {
     "name": "stderr",
     "output_type": "stream",
     "text": [
      "Epoch 174/500: 100%|█████████████████████████████████████████████████████████| 11/11 [00:00<00:00, 127.75it/s]\n"
     ]
    },
    {
     "name": "stdout",
     "output_type": "stream",
     "text": [
      "Epoch 174, Loss: 2519.9976, Recon: 2407.8235, KL: 112.1740\n"
     ]
    },
    {
     "name": "stderr",
     "output_type": "stream",
     "text": [
      "Epoch 175/500: 100%|█████████████████████████████████████████████████████████| 11/11 [00:00<00:00, 148.54it/s]\n"
     ]
    },
    {
     "name": "stdout",
     "output_type": "stream",
     "text": [
      "Epoch 175, Loss: 2525.1617, Recon: 2412.8389, KL: 112.3228\n"
     ]
    },
    {
     "name": "stderr",
     "output_type": "stream",
     "text": [
      "Epoch 176/500: 100%|█████████████████████████████████████████████████████████| 11/11 [00:00<00:00, 153.92it/s]\n"
     ]
    },
    {
     "name": "stdout",
     "output_type": "stream",
     "text": [
      "Epoch 176, Loss: 2523.0531, Recon: 2410.4060, KL: 112.6471\n"
     ]
    },
    {
     "name": "stderr",
     "output_type": "stream",
     "text": [
      "Epoch 177/500: 100%|█████████████████████████████████████████████████████████| 11/11 [00:00<00:00, 159.34it/s]\n"
     ]
    },
    {
     "name": "stdout",
     "output_type": "stream",
     "text": [
      "Epoch 177, Loss: 2516.9626, Recon: 2404.2007, KL: 112.7619\n"
     ]
    },
    {
     "name": "stderr",
     "output_type": "stream",
     "text": [
      "Epoch 178/500: 100%|█████████████████████████████████████████████████████████| 11/11 [00:00<00:00, 151.54it/s]\n"
     ]
    },
    {
     "name": "stdout",
     "output_type": "stream",
     "text": [
      "Epoch 178, Loss: 2511.3366, Recon: 2398.8183, KL: 112.5183\n"
     ]
    },
    {
     "name": "stderr",
     "output_type": "stream",
     "text": [
      "Epoch 179/500: 100%|█████████████████████████████████████████████████████████| 11/11 [00:00<00:00, 155.80it/s]\n"
     ]
    },
    {
     "name": "stdout",
     "output_type": "stream",
     "text": [
      "Epoch 179, Loss: 2508.4994, Recon: 2395.6715, KL: 112.8279\n"
     ]
    },
    {
     "name": "stderr",
     "output_type": "stream",
     "text": [
      "Epoch 180/500: 100%|█████████████████████████████████████████████████████████| 11/11 [00:00<00:00, 149.48it/s]\n"
     ]
    },
    {
     "name": "stdout",
     "output_type": "stream",
     "text": [
      "Epoch 180, Loss: 2504.0891, Recon: 2390.9496, KL: 113.1395\n"
     ]
    },
    {
     "name": "stderr",
     "output_type": "stream",
     "text": [
      "Epoch 181/500: 100%|█████████████████████████████████████████████████████████| 11/11 [00:00<00:00, 137.32it/s]\n"
     ]
    },
    {
     "name": "stdout",
     "output_type": "stream",
     "text": [
      "Epoch 181, Loss: 2504.2234, Recon: 2391.4760, KL: 112.7474\n"
     ]
    },
    {
     "name": "stderr",
     "output_type": "stream",
     "text": [
      "Epoch 182/500: 100%|█████████████████████████████████████████████████████████| 11/11 [00:00<00:00, 136.61it/s]\n"
     ]
    },
    {
     "name": "stdout",
     "output_type": "stream",
     "text": [
      "Epoch 182, Loss: 2505.1502, Recon: 2392.3234, KL: 112.8267\n"
     ]
    },
    {
     "name": "stderr",
     "output_type": "stream",
     "text": [
      "Epoch 183/500: 100%|█████████████████████████████████████████████████████████| 11/11 [00:00<00:00, 153.34it/s]\n"
     ]
    },
    {
     "name": "stdout",
     "output_type": "stream",
     "text": [
      "Epoch 183, Loss: 2499.7794, Recon: 2386.9450, KL: 112.8344\n"
     ]
    },
    {
     "name": "stderr",
     "output_type": "stream",
     "text": [
      "Epoch 184/500: 100%|██████████████████████████████████████████████████████████| 11/11 [00:00<00:00, 65.33it/s]\n"
     ]
    },
    {
     "name": "stdout",
     "output_type": "stream",
     "text": [
      "Epoch 184, Loss: 2496.5068, Recon: 2383.5536, KL: 112.9532\n"
     ]
    },
    {
     "name": "stderr",
     "output_type": "stream",
     "text": [
      "Epoch 185/500: 100%|█████████████████████████████████████████████████████████| 11/11 [00:00<00:00, 134.05it/s]\n"
     ]
    },
    {
     "name": "stdout",
     "output_type": "stream",
     "text": [
      "Epoch 185, Loss: 2497.4670, Recon: 2384.9706, KL: 112.4964\n"
     ]
    },
    {
     "name": "stderr",
     "output_type": "stream",
     "text": [
      "Epoch 186/500: 100%|█████████████████████████████████████████████████████████| 11/11 [00:00<00:00, 139.51it/s]\n"
     ]
    },
    {
     "name": "stdout",
     "output_type": "stream",
     "text": [
      "Epoch 186, Loss: 2493.9695, Recon: 2380.3470, KL: 113.6225\n"
     ]
    },
    {
     "name": "stderr",
     "output_type": "stream",
     "text": [
      "Epoch 187/500: 100%|█████████████████████████████████████████████████████████| 11/11 [00:00<00:00, 142.72it/s]\n"
     ]
    },
    {
     "name": "stdout",
     "output_type": "stream",
     "text": [
      "Epoch 187, Loss: 2489.0109, Recon: 2375.8780, KL: 113.1329\n"
     ]
    },
    {
     "name": "stderr",
     "output_type": "stream",
     "text": [
      "Epoch 188/500: 100%|█████████████████████████████████████████████████████████| 11/11 [00:00<00:00, 133.36it/s]\n"
     ]
    },
    {
     "name": "stdout",
     "output_type": "stream",
     "text": [
      "Epoch 188, Loss: 2484.8902, Recon: 2372.0013, KL: 112.8889\n"
     ]
    },
    {
     "name": "stderr",
     "output_type": "stream",
     "text": [
      "Epoch 189/500: 100%|█████████████████████████████████████████████████████████| 11/11 [00:00<00:00, 133.52it/s]\n"
     ]
    },
    {
     "name": "stdout",
     "output_type": "stream",
     "text": [
      "Epoch 189, Loss: 2479.7625, Recon: 2366.4271, KL: 113.3354\n"
     ]
    },
    {
     "name": "stderr",
     "output_type": "stream",
     "text": [
      "Epoch 190/500: 100%|█████████████████████████████████████████████████████████| 11/11 [00:00<00:00, 137.73it/s]\n"
     ]
    },
    {
     "name": "stdout",
     "output_type": "stream",
     "text": [
      "Epoch 190, Loss: 2476.3422, Recon: 2362.3935, KL: 113.9487\n"
     ]
    },
    {
     "name": "stderr",
     "output_type": "stream",
     "text": [
      "Epoch 191/500: 100%|█████████████████████████████████████████████████████████| 11/11 [00:00<00:00, 149.87it/s]\n"
     ]
    },
    {
     "name": "stdout",
     "output_type": "stream",
     "text": [
      "Epoch 191, Loss: 2475.6281, Recon: 2362.2562, KL: 113.3719\n"
     ]
    },
    {
     "name": "stderr",
     "output_type": "stream",
     "text": [
      "Epoch 192/500: 100%|█████████████████████████████████████████████████████████| 11/11 [00:00<00:00, 141.75it/s]\n"
     ]
    },
    {
     "name": "stdout",
     "output_type": "stream",
     "text": [
      "Epoch 192, Loss: 2471.9222, Recon: 2358.2382, KL: 113.6841\n"
     ]
    },
    {
     "name": "stderr",
     "output_type": "stream",
     "text": [
      "Epoch 193/500: 100%|█████████████████████████████████████████████████████████| 11/11 [00:00<00:00, 152.81it/s]\n"
     ]
    },
    {
     "name": "stdout",
     "output_type": "stream",
     "text": [
      "Epoch 193, Loss: 2470.2184, Recon: 2356.8899, KL: 113.3286\n"
     ]
    },
    {
     "name": "stderr",
     "output_type": "stream",
     "text": [
      "Epoch 194/500: 100%|█████████████████████████████████████████████████████████| 11/11 [00:00<00:00, 146.48it/s]\n"
     ]
    },
    {
     "name": "stdout",
     "output_type": "stream",
     "text": [
      "Epoch 194, Loss: 2469.6787, Recon: 2356.0927, KL: 113.5861\n"
     ]
    },
    {
     "name": "stderr",
     "output_type": "stream",
     "text": [
      "Epoch 195/500: 100%|█████████████████████████████████████████████████████████| 11/11 [00:00<00:00, 146.61it/s]\n"
     ]
    },
    {
     "name": "stdout",
     "output_type": "stream",
     "text": [
      "Epoch 195, Loss: 2467.7322, Recon: 2354.2487, KL: 113.4835\n"
     ]
    },
    {
     "name": "stderr",
     "output_type": "stream",
     "text": [
      "Epoch 196/500: 100%|█████████████████████████████████████████████████████████| 11/11 [00:00<00:00, 146.25it/s]\n"
     ]
    },
    {
     "name": "stdout",
     "output_type": "stream",
     "text": [
      "Epoch 196, Loss: 2464.9738, Recon: 2350.6724, KL: 114.3014\n"
     ]
    },
    {
     "name": "stderr",
     "output_type": "stream",
     "text": [
      "Epoch 197/500: 100%|█████████████████████████████████████████████████████████| 11/11 [00:00<00:00, 148.92it/s]\n"
     ]
    },
    {
     "name": "stdout",
     "output_type": "stream",
     "text": [
      "Epoch 197, Loss: 2461.5824, Recon: 2347.8996, KL: 113.6828\n"
     ]
    },
    {
     "name": "stderr",
     "output_type": "stream",
     "text": [
      "Epoch 198/500: 100%|█████████████████████████████████████████████████████████| 11/11 [00:00<00:00, 158.52it/s]\n"
     ]
    },
    {
     "name": "stdout",
     "output_type": "stream",
     "text": [
      "Epoch 198, Loss: 2454.9407, Recon: 2340.6836, KL: 114.2571\n"
     ]
    },
    {
     "name": "stderr",
     "output_type": "stream",
     "text": [
      "Epoch 199/500: 100%|█████████████████████████████████████████████████████████| 11/11 [00:00<00:00, 151.45it/s]\n"
     ]
    },
    {
     "name": "stdout",
     "output_type": "stream",
     "text": [
      "Epoch 199, Loss: 2451.2944, Recon: 2337.6247, KL: 113.6698\n"
     ]
    },
    {
     "name": "stderr",
     "output_type": "stream",
     "text": [
      "Epoch 200/500: 100%|█████████████████████████████████████████████████████████| 11/11 [00:00<00:00, 136.30it/s]\n"
     ]
    },
    {
     "name": "stdout",
     "output_type": "stream",
     "text": [
      "Epoch 200, Loss: 2453.7374, Recon: 2339.3336, KL: 114.4038\n"
     ]
    },
    {
     "name": "stderr",
     "output_type": "stream",
     "text": [
      "Epoch 201/500: 100%|█████████████████████████████████████████████████████████| 11/11 [00:00<00:00, 149.52it/s]\n"
     ]
    },
    {
     "name": "stdout",
     "output_type": "stream",
     "text": [
      "Epoch 201, Loss: 2452.7896, Recon: 2338.2155, KL: 114.5740\n"
     ]
    },
    {
     "name": "stderr",
     "output_type": "stream",
     "text": [
      "Epoch 202/500: 100%|█████████████████████████████████████████████████████████| 11/11 [00:00<00:00, 146.77it/s]\n"
     ]
    },
    {
     "name": "stdout",
     "output_type": "stream",
     "text": [
      "Epoch 202, Loss: 2449.2039, Recon: 2334.7597, KL: 114.4442\n"
     ]
    },
    {
     "name": "stderr",
     "output_type": "stream",
     "text": [
      "Epoch 203/500: 100%|█████████████████████████████████████████████████████████| 11/11 [00:00<00:00, 114.39it/s]\n"
     ]
    },
    {
     "name": "stdout",
     "output_type": "stream",
     "text": [
      "Epoch 203, Loss: 2444.5019, Recon: 2330.2294, KL: 114.2725\n"
     ]
    },
    {
     "name": "stderr",
     "output_type": "stream",
     "text": [
      "Epoch 204/500: 100%|██████████████████████████████████████████████████████████| 11/11 [00:00<00:00, 78.08it/s]\n"
     ]
    },
    {
     "name": "stdout",
     "output_type": "stream",
     "text": [
      "Epoch 204, Loss: 2441.8554, Recon: 2327.2977, KL: 114.5578\n"
     ]
    },
    {
     "name": "stderr",
     "output_type": "stream",
     "text": [
      "Epoch 205/500: 100%|█████████████████████████████████████████████████████████| 11/11 [00:00<00:00, 110.94it/s]\n"
     ]
    },
    {
     "name": "stdout",
     "output_type": "stream",
     "text": [
      "Epoch 205, Loss: 2438.2599, Recon: 2323.3367, KL: 114.9232\n"
     ]
    },
    {
     "name": "stderr",
     "output_type": "stream",
     "text": [
      "Epoch 206/500: 100%|█████████████████████████████████████████████████████████| 11/11 [00:00<00:00, 124.48it/s]\n"
     ]
    },
    {
     "name": "stdout",
     "output_type": "stream",
     "text": [
      "Epoch 206, Loss: 2434.9463, Recon: 2320.3767, KL: 114.5695\n"
     ]
    },
    {
     "name": "stderr",
     "output_type": "stream",
     "text": [
      "Epoch 207/500: 100%|██████████████████████████████████████████████████████████| 11/11 [00:00<00:00, 97.81it/s]\n"
     ]
    },
    {
     "name": "stdout",
     "output_type": "stream",
     "text": [
      "Epoch 207, Loss: 2433.1141, Recon: 2318.4165, KL: 114.6976\n"
     ]
    },
    {
     "name": "stderr",
     "output_type": "stream",
     "text": [
      "Epoch 208/500: 100%|█████████████████████████████████████████████████████████| 11/11 [00:00<00:00, 117.27it/s]\n"
     ]
    },
    {
     "name": "stdout",
     "output_type": "stream",
     "text": [
      "Epoch 208, Loss: 2431.9680, Recon: 2317.5071, KL: 114.4609\n"
     ]
    },
    {
     "name": "stderr",
     "output_type": "stream",
     "text": [
      "Epoch 209/500: 100%|█████████████████████████████████████████████████████████| 11/11 [00:00<00:00, 142.89it/s]\n"
     ]
    },
    {
     "name": "stdout",
     "output_type": "stream",
     "text": [
      "Epoch 209, Loss: 2428.5790, Recon: 2313.6092, KL: 114.9698\n"
     ]
    },
    {
     "name": "stderr",
     "output_type": "stream",
     "text": [
      "Epoch 210/500: 100%|█████████████████████████████████████████████████████████| 11/11 [00:00<00:00, 132.26it/s]\n"
     ]
    },
    {
     "name": "stdout",
     "output_type": "stream",
     "text": [
      "Epoch 210, Loss: 2426.2655, Recon: 2310.8273, KL: 115.4381\n"
     ]
    },
    {
     "name": "stderr",
     "output_type": "stream",
     "text": [
      "Epoch 211/500: 100%|█████████████████████████████████████████████████████████| 11/11 [00:00<00:00, 145.16it/s]\n"
     ]
    },
    {
     "name": "stdout",
     "output_type": "stream",
     "text": [
      "Epoch 211, Loss: 2422.3996, Recon: 2306.5070, KL: 115.8926\n"
     ]
    },
    {
     "name": "stderr",
     "output_type": "stream",
     "text": [
      "Epoch 212/500: 100%|█████████████████████████████████████████████████████████| 11/11 [00:00<00:00, 153.86it/s]\n"
     ]
    },
    {
     "name": "stdout",
     "output_type": "stream",
     "text": [
      "Epoch 212, Loss: 2426.3843, Recon: 2311.6450, KL: 114.7393\n"
     ]
    },
    {
     "name": "stderr",
     "output_type": "stream",
     "text": [
      "Epoch 213/500: 100%|█████████████████████████████████████████████████████████| 11/11 [00:00<00:00, 146.71it/s]\n"
     ]
    },
    {
     "name": "stdout",
     "output_type": "stream",
     "text": [
      "Epoch 213, Loss: 2422.2880, Recon: 2306.9727, KL: 115.3153\n"
     ]
    },
    {
     "name": "stderr",
     "output_type": "stream",
     "text": [
      "Epoch 214/500: 100%|█████████████████████████████████████████████████████████| 11/11 [00:00<00:00, 154.66it/s]\n"
     ]
    },
    {
     "name": "stdout",
     "output_type": "stream",
     "text": [
      "Epoch 214, Loss: 2415.5039, Recon: 2300.4517, KL: 115.0522\n"
     ]
    },
    {
     "name": "stderr",
     "output_type": "stream",
     "text": [
      "Epoch 215/500: 100%|█████████████████████████████████████████████████████████| 11/11 [00:00<00:00, 149.43it/s]\n"
     ]
    },
    {
     "name": "stdout",
     "output_type": "stream",
     "text": [
      "Epoch 215, Loss: 2411.9708, Recon: 2296.9780, KL: 114.9927\n"
     ]
    },
    {
     "name": "stderr",
     "output_type": "stream",
     "text": [
      "Epoch 216/500: 100%|█████████████████████████████████████████████████████████| 11/11 [00:00<00:00, 146.65it/s]\n"
     ]
    },
    {
     "name": "stdout",
     "output_type": "stream",
     "text": [
      "Epoch 216, Loss: 2410.6338, Recon: 2295.1007, KL: 115.5332\n"
     ]
    },
    {
     "name": "stderr",
     "output_type": "stream",
     "text": [
      "Epoch 217/500: 100%|█████████████████████████████████████████████████████████| 11/11 [00:00<00:00, 152.26it/s]\n"
     ]
    },
    {
     "name": "stdout",
     "output_type": "stream",
     "text": [
      "Epoch 217, Loss: 2407.7533, Recon: 2292.5043, KL: 115.2490\n"
     ]
    },
    {
     "name": "stderr",
     "output_type": "stream",
     "text": [
      "Epoch 218/500: 100%|█████████████████████████████████████████████████████████| 11/11 [00:00<00:00, 152.67it/s]\n"
     ]
    },
    {
     "name": "stdout",
     "output_type": "stream",
     "text": [
      "Epoch 218, Loss: 2405.5800, Recon: 2290.0658, KL: 115.5142\n"
     ]
    },
    {
     "name": "stderr",
     "output_type": "stream",
     "text": [
      "Epoch 219/500: 100%|█████████████████████████████████████████████████████████| 11/11 [00:00<00:00, 146.78it/s]\n"
     ]
    },
    {
     "name": "stdout",
     "output_type": "stream",
     "text": [
      "Epoch 219, Loss: 2403.3193, Recon: 2287.4116, KL: 115.9077\n"
     ]
    },
    {
     "name": "stderr",
     "output_type": "stream",
     "text": [
      "Epoch 220/500: 100%|█████████████████████████████████████████████████████████| 11/11 [00:00<00:00, 110.01it/s]\n"
     ]
    },
    {
     "name": "stdout",
     "output_type": "stream",
     "text": [
      "Epoch 220, Loss: 2401.0167, Recon: 2285.0507, KL: 115.9659\n"
     ]
    },
    {
     "name": "stderr",
     "output_type": "stream",
     "text": [
      "Epoch 221/500: 100%|██████████████████████████████████████████████████████████| 11/11 [00:00<00:00, 94.41it/s]\n"
     ]
    },
    {
     "name": "stdout",
     "output_type": "stream",
     "text": [
      "Epoch 221, Loss: 2399.7002, Recon: 2283.2539, KL: 116.4463\n"
     ]
    },
    {
     "name": "stderr",
     "output_type": "stream",
     "text": [
      "Epoch 222/500: 100%|█████████████████████████████████████████████████████████| 11/11 [00:00<00:00, 130.42it/s]\n"
     ]
    },
    {
     "name": "stdout",
     "output_type": "stream",
     "text": [
      "Epoch 222, Loss: 2397.1427, Recon: 2281.6041, KL: 115.5387\n"
     ]
    },
    {
     "name": "stderr",
     "output_type": "stream",
     "text": [
      "Epoch 223/500: 100%|█████████████████████████████████████████████████████████| 11/11 [00:00<00:00, 139.64it/s]\n"
     ]
    },
    {
     "name": "stdout",
     "output_type": "stream",
     "text": [
      "Epoch 223, Loss: 2397.0670, Recon: 2281.0265, KL: 116.0405\n"
     ]
    },
    {
     "name": "stderr",
     "output_type": "stream",
     "text": [
      "Epoch 224/500: 100%|█████████████████████████████████████████████████████████| 11/11 [00:00<00:00, 148.54it/s]\n"
     ]
    },
    {
     "name": "stdout",
     "output_type": "stream",
     "text": [
      "Epoch 224, Loss: 2393.9219, Recon: 2277.4175, KL: 116.5044\n"
     ]
    },
    {
     "name": "stderr",
     "output_type": "stream",
     "text": [
      "Epoch 225/500: 100%|█████████████████████████████████████████████████████████| 11/11 [00:00<00:00, 150.16it/s]\n"
     ]
    },
    {
     "name": "stdout",
     "output_type": "stream",
     "text": [
      "Epoch 225, Loss: 2391.3814, Recon: 2274.9091, KL: 116.4723\n"
     ]
    },
    {
     "name": "stderr",
     "output_type": "stream",
     "text": [
      "Epoch 226/500: 100%|█████████████████████████████████████████████████████████| 11/11 [00:00<00:00, 143.78it/s]\n"
     ]
    },
    {
     "name": "stdout",
     "output_type": "stream",
     "text": [
      "Epoch 226, Loss: 2391.8768, Recon: 2275.6284, KL: 116.2485\n"
     ]
    },
    {
     "name": "stderr",
     "output_type": "stream",
     "text": [
      "Epoch 227/500: 100%|█████████████████████████████████████████████████████████| 11/11 [00:00<00:00, 151.60it/s]\n"
     ]
    },
    {
     "name": "stdout",
     "output_type": "stream",
     "text": [
      "Epoch 227, Loss: 2393.4942, Recon: 2277.0282, KL: 116.4660\n"
     ]
    },
    {
     "name": "stderr",
     "output_type": "stream",
     "text": [
      "Epoch 228/500: 100%|█████████████████████████████████████████████████████████| 11/11 [00:00<00:00, 153.21it/s]\n"
     ]
    },
    {
     "name": "stdout",
     "output_type": "stream",
     "text": [
      "Epoch 228, Loss: 2385.8171, Recon: 2269.0356, KL: 116.7816\n"
     ]
    },
    {
     "name": "stderr",
     "output_type": "stream",
     "text": [
      "Epoch 229/500: 100%|█████████████████████████████████████████████████████████| 11/11 [00:00<00:00, 147.71it/s]\n"
     ]
    },
    {
     "name": "stdout",
     "output_type": "stream",
     "text": [
      "Epoch 229, Loss: 2380.3595, Recon: 2264.0720, KL: 116.2875\n"
     ]
    },
    {
     "name": "stderr",
     "output_type": "stream",
     "text": [
      "Epoch 230/500: 100%|█████████████████████████████████████████████████████████| 11/11 [00:00<00:00, 156.54it/s]\n"
     ]
    },
    {
     "name": "stdout",
     "output_type": "stream",
     "text": [
      "Epoch 230, Loss: 2380.2572, Recon: 2263.3493, KL: 116.9080\n"
     ]
    },
    {
     "name": "stderr",
     "output_type": "stream",
     "text": [
      "Epoch 231/500: 100%|█████████████████████████████████████████████████████████| 11/11 [00:00<00:00, 151.22it/s]\n"
     ]
    },
    {
     "name": "stdout",
     "output_type": "stream",
     "text": [
      "Epoch 231, Loss: 2376.6845, Recon: 2260.0631, KL: 116.6214\n"
     ]
    },
    {
     "name": "stderr",
     "output_type": "stream",
     "text": [
      "Epoch 232/500: 100%|█████████████████████████████████████████████████████████| 11/11 [00:00<00:00, 157.17it/s]\n"
     ]
    },
    {
     "name": "stdout",
     "output_type": "stream",
     "text": [
      "Epoch 232, Loss: 2373.5274, Recon: 2256.3201, KL: 117.2073\n"
     ]
    },
    {
     "name": "stderr",
     "output_type": "stream",
     "text": [
      "Epoch 233/500: 100%|█████████████████████████████████████████████████████████| 11/11 [00:00<00:00, 152.17it/s]\n"
     ]
    },
    {
     "name": "stdout",
     "output_type": "stream",
     "text": [
      "Epoch 233, Loss: 2371.6771, Recon: 2254.2145, KL: 117.4626\n"
     ]
    },
    {
     "name": "stderr",
     "output_type": "stream",
     "text": [
      "Epoch 234/500: 100%|█████████████████████████████████████████████████████████| 11/11 [00:00<00:00, 148.63it/s]\n"
     ]
    },
    {
     "name": "stdout",
     "output_type": "stream",
     "text": [
      "Epoch 234, Loss: 2370.3875, Recon: 2253.7669, KL: 116.6206\n"
     ]
    },
    {
     "name": "stderr",
     "output_type": "stream",
     "text": [
      "Epoch 235/500: 100%|█████████████████████████████████████████████████████████| 11/11 [00:00<00:00, 149.75it/s]\n"
     ]
    },
    {
     "name": "stdout",
     "output_type": "stream",
     "text": [
      "Epoch 235, Loss: 2369.3991, Recon: 2251.9065, KL: 117.4926\n"
     ]
    },
    {
     "name": "stderr",
     "output_type": "stream",
     "text": [
      "Epoch 236/500: 100%|█████████████████████████████████████████████████████████| 11/11 [00:00<00:00, 140.82it/s]\n"
     ]
    },
    {
     "name": "stdout",
     "output_type": "stream",
     "text": [
      "Epoch 236, Loss: 2365.6532, Recon: 2248.0340, KL: 117.6192\n"
     ]
    },
    {
     "name": "stderr",
     "output_type": "stream",
     "text": [
      "Epoch 237/500: 100%|█████████████████████████████████████████████████████████| 11/11 [00:00<00:00, 148.42it/s]\n"
     ]
    },
    {
     "name": "stdout",
     "output_type": "stream",
     "text": [
      "Epoch 237, Loss: 2363.0525, Recon: 2246.1352, KL: 116.9173\n"
     ]
    },
    {
     "name": "stderr",
     "output_type": "stream",
     "text": [
      "Epoch 238/500: 100%|█████████████████████████████████████████████████████████| 11/11 [00:00<00:00, 147.55it/s]\n"
     ]
    },
    {
     "name": "stdout",
     "output_type": "stream",
     "text": [
      "Epoch 238, Loss: 2361.2565, Recon: 2244.0972, KL: 117.1593\n"
     ]
    },
    {
     "name": "stderr",
     "output_type": "stream",
     "text": [
      "Epoch 239/500: 100%|█████████████████████████████████████████████████████████| 11/11 [00:00<00:00, 138.01it/s]\n"
     ]
    },
    {
     "name": "stdout",
     "output_type": "stream",
     "text": [
      "Epoch 239, Loss: 2358.6386, Recon: 2241.1764, KL: 117.4622\n"
     ]
    },
    {
     "name": "stderr",
     "output_type": "stream",
     "text": [
      "Epoch 240/500: 100%|█████████████████████████████████████████████████████████| 11/11 [00:00<00:00, 154.59it/s]\n"
     ]
    },
    {
     "name": "stdout",
     "output_type": "stream",
     "text": [
      "Epoch 240, Loss: 2355.9391, Recon: 2238.2367, KL: 117.7024\n"
     ]
    },
    {
     "name": "stderr",
     "output_type": "stream",
     "text": [
      "Epoch 241/500: 100%|█████████████████████████████████████████████████████████| 11/11 [00:00<00:00, 150.48it/s]\n"
     ]
    },
    {
     "name": "stdout",
     "output_type": "stream",
     "text": [
      "Epoch 241, Loss: 2356.9500, Recon: 2239.4223, KL: 117.5278\n"
     ]
    },
    {
     "name": "stderr",
     "output_type": "stream",
     "text": [
      "Epoch 242/500: 100%|█████████████████████████████████████████████████████████| 11/11 [00:00<00:00, 155.49it/s]\n"
     ]
    },
    {
     "name": "stdout",
     "output_type": "stream",
     "text": [
      "Epoch 242, Loss: 2351.1672, Recon: 2233.0848, KL: 118.0823\n"
     ]
    },
    {
     "name": "stderr",
     "output_type": "stream",
     "text": [
      "Epoch 243/500: 100%|█████████████████████████████████████████████████████████| 11/11 [00:00<00:00, 148.20it/s]\n"
     ]
    },
    {
     "name": "stdout",
     "output_type": "stream",
     "text": [
      "Epoch 243, Loss: 2349.5804, Recon: 2231.8596, KL: 117.7208\n"
     ]
    },
    {
     "name": "stderr",
     "output_type": "stream",
     "text": [
      "Epoch 244/500: 100%|█████████████████████████████████████████████████████████| 11/11 [00:00<00:00, 118.55it/s]\n"
     ]
    },
    {
     "name": "stdout",
     "output_type": "stream",
     "text": [
      "Epoch 244, Loss: 2345.2850, Recon: 2226.6008, KL: 118.6842\n"
     ]
    },
    {
     "name": "stderr",
     "output_type": "stream",
     "text": [
      "Epoch 245/500: 100%|█████████████████████████████████████████████████████████| 11/11 [00:00<00:00, 151.41it/s]\n"
     ]
    },
    {
     "name": "stdout",
     "output_type": "stream",
     "text": [
      "Epoch 245, Loss: 2342.7465, Recon: 2224.4868, KL: 118.2596\n"
     ]
    },
    {
     "name": "stderr",
     "output_type": "stream",
     "text": [
      "Epoch 246/500: 100%|█████████████████████████████████████████████████████████| 11/11 [00:00<00:00, 146.45it/s]\n"
     ]
    },
    {
     "name": "stdout",
     "output_type": "stream",
     "text": [
      "Epoch 246, Loss: 2342.2089, Recon: 2224.0779, KL: 118.1310\n"
     ]
    },
    {
     "name": "stderr",
     "output_type": "stream",
     "text": [
      "Epoch 247/500: 100%|█████████████████████████████████████████████████████████| 11/11 [00:00<00:00, 149.64it/s]\n"
     ]
    },
    {
     "name": "stdout",
     "output_type": "stream",
     "text": [
      "Epoch 247, Loss: 2338.6516, Recon: 2220.1531, KL: 118.4985\n"
     ]
    },
    {
     "name": "stderr",
     "output_type": "stream",
     "text": [
      "Epoch 248/500: 100%|█████████████████████████████████████████████████████████| 11/11 [00:00<00:00, 149.22it/s]\n"
     ]
    },
    {
     "name": "stdout",
     "output_type": "stream",
     "text": [
      "Epoch 248, Loss: 2335.1885, Recon: 2216.8597, KL: 118.3288\n"
     ]
    },
    {
     "name": "stderr",
     "output_type": "stream",
     "text": [
      "Epoch 249/500: 100%|█████████████████████████████████████████████████████████| 11/11 [00:00<00:00, 152.60it/s]\n"
     ]
    },
    {
     "name": "stdout",
     "output_type": "stream",
     "text": [
      "Epoch 249, Loss: 2333.4979, Recon: 2215.0865, KL: 118.4113\n"
     ]
    },
    {
     "name": "stderr",
     "output_type": "stream",
     "text": [
      "Epoch 250/500: 100%|█████████████████████████████████████████████████████████| 11/11 [00:00<00:00, 147.46it/s]\n"
     ]
    },
    {
     "name": "stdout",
     "output_type": "stream",
     "text": [
      "Epoch 250, Loss: 2331.0058, Recon: 2212.0767, KL: 118.9291\n"
     ]
    },
    {
     "name": "stderr",
     "output_type": "stream",
     "text": [
      "Epoch 251/500: 100%|█████████████████████████████████████████████████████████| 11/11 [00:00<00:00, 148.26it/s]\n"
     ]
    },
    {
     "name": "stdout",
     "output_type": "stream",
     "text": [
      "Epoch 251, Loss: 2330.7686, Recon: 2212.5292, KL: 118.2393\n"
     ]
    },
    {
     "name": "stderr",
     "output_type": "stream",
     "text": [
      "Epoch 252/500: 100%|█████████████████████████████████████████████████████████| 11/11 [00:00<00:00, 139.45it/s]\n"
     ]
    },
    {
     "name": "stdout",
     "output_type": "stream",
     "text": [
      "Epoch 252, Loss: 2327.4742, Recon: 2208.1796, KL: 119.2947\n"
     ]
    },
    {
     "name": "stderr",
     "output_type": "stream",
     "text": [
      "Epoch 253/500: 100%|█████████████████████████████████████████████████████████| 11/11 [00:00<00:00, 135.30it/s]\n"
     ]
    },
    {
     "name": "stdout",
     "output_type": "stream",
     "text": [
      "Epoch 253, Loss: 2323.8452, Recon: 2205.3642, KL: 118.4810\n"
     ]
    },
    {
     "name": "stderr",
     "output_type": "stream",
     "text": [
      "Epoch 254/500: 100%|█████████████████████████████████████████████████████████| 11/11 [00:00<00:00, 150.19it/s]\n"
     ]
    },
    {
     "name": "stdout",
     "output_type": "stream",
     "text": [
      "Epoch 254, Loss: 2321.5893, Recon: 2202.1769, KL: 119.4124\n"
     ]
    },
    {
     "name": "stderr",
     "output_type": "stream",
     "text": [
      "Epoch 255/500: 100%|█████████████████████████████████████████████████████████| 11/11 [00:00<00:00, 136.47it/s]\n"
     ]
    },
    {
     "name": "stdout",
     "output_type": "stream",
     "text": [
      "Epoch 255, Loss: 2321.0510, Recon: 2201.4186, KL: 119.6324\n"
     ]
    },
    {
     "name": "stderr",
     "output_type": "stream",
     "text": [
      "Epoch 256/500: 100%|█████████████████████████████████████████████████████████| 11/11 [00:00<00:00, 114.45it/s]\n"
     ]
    },
    {
     "name": "stdout",
     "output_type": "stream",
     "text": [
      "Epoch 256, Loss: 2317.6925, Recon: 2198.3196, KL: 119.3729\n"
     ]
    },
    {
     "name": "stderr",
     "output_type": "stream",
     "text": [
      "Epoch 257/500: 100%|█████████████████████████████████████████████████████████| 11/11 [00:00<00:00, 157.05it/s]\n"
     ]
    },
    {
     "name": "stdout",
     "output_type": "stream",
     "text": [
      "Epoch 257, Loss: 2316.6498, Recon: 2197.4211, KL: 119.2286\n"
     ]
    },
    {
     "name": "stderr",
     "output_type": "stream",
     "text": [
      "Epoch 258/500: 100%|█████████████████████████████████████████████████████████| 11/11 [00:00<00:00, 151.72it/s]\n"
     ]
    },
    {
     "name": "stdout",
     "output_type": "stream",
     "text": [
      "Epoch 258, Loss: 2310.5762, Recon: 2190.8010, KL: 119.7752\n"
     ]
    },
    {
     "name": "stderr",
     "output_type": "stream",
     "text": [
      "Epoch 259/500: 100%|█████████████████████████████████████████████████████████| 11/11 [00:00<00:00, 110.03it/s]\n"
     ]
    },
    {
     "name": "stdout",
     "output_type": "stream",
     "text": [
      "Epoch 259, Loss: 2313.0036, Recon: 2193.4325, KL: 119.5711\n"
     ]
    },
    {
     "name": "stderr",
     "output_type": "stream",
     "text": [
      "Epoch 260/500: 100%|█████████████████████████████████████████████████████████| 11/11 [00:00<00:00, 105.96it/s]\n"
     ]
    },
    {
     "name": "stdout",
     "output_type": "stream",
     "text": [
      "Epoch 260, Loss: 2309.5917, Recon: 2189.8857, KL: 119.7060\n"
     ]
    },
    {
     "name": "stderr",
     "output_type": "stream",
     "text": [
      "Epoch 261/500: 100%|██████████████████████████████████████████████████████████| 11/11 [00:00<00:00, 92.83it/s]\n"
     ]
    },
    {
     "name": "stdout",
     "output_type": "stream",
     "text": [
      "Epoch 261, Loss: 2308.6336, Recon: 2188.5362, KL: 120.0974\n"
     ]
    },
    {
     "name": "stderr",
     "output_type": "stream",
     "text": [
      "Epoch 262/500: 100%|█████████████████████████████████████████████████████████| 11/11 [00:00<00:00, 100.92it/s]\n"
     ]
    },
    {
     "name": "stdout",
     "output_type": "stream",
     "text": [
      "Epoch 262, Loss: 2307.7943, Recon: 2187.4269, KL: 120.3674\n"
     ]
    },
    {
     "name": "stderr",
     "output_type": "stream",
     "text": [
      "Epoch 263/500: 100%|█████████████████████████████████████████████████████████| 11/11 [00:00<00:00, 137.08it/s]\n"
     ]
    },
    {
     "name": "stdout",
     "output_type": "stream",
     "text": [
      "Epoch 263, Loss: 2304.5690, Recon: 2184.1366, KL: 120.4324\n"
     ]
    },
    {
     "name": "stderr",
     "output_type": "stream",
     "text": [
      "Epoch 264/500: 100%|█████████████████████████████████████████████████████████| 11/11 [00:00<00:00, 139.93it/s]\n"
     ]
    },
    {
     "name": "stdout",
     "output_type": "stream",
     "text": [
      "Epoch 264, Loss: 2302.8883, Recon: 2182.0992, KL: 120.7891\n"
     ]
    },
    {
     "name": "stderr",
     "output_type": "stream",
     "text": [
      "Epoch 265/500: 100%|█████████████████████████████████████████████████████████| 11/11 [00:00<00:00, 145.28it/s]\n"
     ]
    },
    {
     "name": "stdout",
     "output_type": "stream",
     "text": [
      "Epoch 265, Loss: 2299.7234, Recon: 2179.0698, KL: 120.6537\n"
     ]
    },
    {
     "name": "stderr",
     "output_type": "stream",
     "text": [
      "Epoch 266/500: 100%|█████████████████████████████████████████████████████████| 11/11 [00:00<00:00, 117.58it/s]\n"
     ]
    },
    {
     "name": "stdout",
     "output_type": "stream",
     "text": [
      "Epoch 266, Loss: 2296.1726, Recon: 2175.6151, KL: 120.5576\n"
     ]
    },
    {
     "name": "stderr",
     "output_type": "stream",
     "text": [
      "Epoch 267/500: 100%|█████████████████████████████████████████████████████████| 11/11 [00:00<00:00, 144.55it/s]\n"
     ]
    },
    {
     "name": "stdout",
     "output_type": "stream",
     "text": [
      "Epoch 267, Loss: 2295.9807, Recon: 2175.2689, KL: 120.7118\n"
     ]
    },
    {
     "name": "stderr",
     "output_type": "stream",
     "text": [
      "Epoch 268/500: 100%|█████████████████████████████████████████████████████████| 11/11 [00:00<00:00, 115.34it/s]\n"
     ]
    },
    {
     "name": "stdout",
     "output_type": "stream",
     "text": [
      "Epoch 268, Loss: 2297.3513, Recon: 2177.6327, KL: 119.7186\n"
     ]
    },
    {
     "name": "stderr",
     "output_type": "stream",
     "text": [
      "Epoch 269/500: 100%|█████████████████████████████████████████████████████████| 11/11 [00:00<00:00, 125.28it/s]\n"
     ]
    },
    {
     "name": "stdout",
     "output_type": "stream",
     "text": [
      "Epoch 269, Loss: 2294.2174, Recon: 2172.7264, KL: 121.4910\n"
     ]
    },
    {
     "name": "stderr",
     "output_type": "stream",
     "text": [
      "Epoch 270/500: 100%|█████████████████████████████████████████████████████████| 11/11 [00:00<00:00, 127.53it/s]\n"
     ]
    },
    {
     "name": "stdout",
     "output_type": "stream",
     "text": [
      "Epoch 270, Loss: 2291.7890, Recon: 2170.3054, KL: 121.4836\n"
     ]
    },
    {
     "name": "stderr",
     "output_type": "stream",
     "text": [
      "Epoch 271/500: 100%|█████████████████████████████████████████████████████████| 11/11 [00:00<00:00, 150.94it/s]\n"
     ]
    },
    {
     "name": "stdout",
     "output_type": "stream",
     "text": [
      "Epoch 271, Loss: 2288.0761, Recon: 2166.6042, KL: 121.4719\n"
     ]
    },
    {
     "name": "stderr",
     "output_type": "stream",
     "text": [
      "Epoch 272/500: 100%|██████████████████████████████████████████████████████████| 11/11 [00:00<00:00, 77.90it/s]\n"
     ]
    },
    {
     "name": "stdout",
     "output_type": "stream",
     "text": [
      "Epoch 272, Loss: 2285.4276, Recon: 2164.2563, KL: 121.1713\n"
     ]
    },
    {
     "name": "stderr",
     "output_type": "stream",
     "text": [
      "Epoch 273/500: 100%|█████████████████████████████████████████████████████████| 11/11 [00:00<00:00, 137.78it/s]\n"
     ]
    },
    {
     "name": "stdout",
     "output_type": "stream",
     "text": [
      "Epoch 273, Loss: 2281.8299, Recon: 2160.4253, KL: 121.4046\n"
     ]
    },
    {
     "name": "stderr",
     "output_type": "stream",
     "text": [
      "Epoch 274/500: 100%|█████████████████████████████████████████████████████████| 11/11 [00:00<00:00, 132.01it/s]\n"
     ]
    },
    {
     "name": "stdout",
     "output_type": "stream",
     "text": [
      "Epoch 274, Loss: 2281.5158, Recon: 2160.1448, KL: 121.3711\n"
     ]
    },
    {
     "name": "stderr",
     "output_type": "stream",
     "text": [
      "Epoch 275/500: 100%|█████████████████████████████████████████████████████████| 11/11 [00:00<00:00, 154.20it/s]\n"
     ]
    },
    {
     "name": "stdout",
     "output_type": "stream",
     "text": [
      "Epoch 275, Loss: 2275.3487, Recon: 2152.8970, KL: 122.4516\n"
     ]
    },
    {
     "name": "stderr",
     "output_type": "stream",
     "text": [
      "Epoch 276/500: 100%|█████████████████████████████████████████████████████████| 11/11 [00:00<00:00, 151.33it/s]\n"
     ]
    },
    {
     "name": "stdout",
     "output_type": "stream",
     "text": [
      "Epoch 276, Loss: 2271.2389, Recon: 2149.7509, KL: 121.4879\n"
     ]
    },
    {
     "name": "stderr",
     "output_type": "stream",
     "text": [
      "Epoch 277/500: 100%|█████████████████████████████████████████████████████████| 11/11 [00:00<00:00, 149.49it/s]\n"
     ]
    },
    {
     "name": "stdout",
     "output_type": "stream",
     "text": [
      "Epoch 277, Loss: 2270.7751, Recon: 2148.4912, KL: 122.2839\n"
     ]
    },
    {
     "name": "stderr",
     "output_type": "stream",
     "text": [
      "Epoch 278/500: 100%|█████████████████████████████████████████████████████████| 11/11 [00:00<00:00, 145.47it/s]\n"
     ]
    },
    {
     "name": "stdout",
     "output_type": "stream",
     "text": [
      "Epoch 278, Loss: 2269.9115, Recon: 2148.2466, KL: 121.6649\n"
     ]
    },
    {
     "name": "stderr",
     "output_type": "stream",
     "text": [
      "Epoch 279/500: 100%|█████████████████████████████████████████████████████████| 11/11 [00:00<00:00, 149.90it/s]\n"
     ]
    },
    {
     "name": "stdout",
     "output_type": "stream",
     "text": [
      "Epoch 279, Loss: 2267.9182, Recon: 2145.7420, KL: 122.1762\n"
     ]
    },
    {
     "name": "stderr",
     "output_type": "stream",
     "text": [
      "Epoch 280/500: 100%|█████████████████████████████████████████████████████████| 11/11 [00:00<00:00, 154.40it/s]\n"
     ]
    },
    {
     "name": "stdout",
     "output_type": "stream",
     "text": [
      "Epoch 280, Loss: 2266.9390, Recon: 2144.4079, KL: 122.5310\n"
     ]
    },
    {
     "name": "stderr",
     "output_type": "stream",
     "text": [
      "Epoch 281/500: 100%|█████████████████████████████████████████████████████████| 11/11 [00:00<00:00, 150.81it/s]\n"
     ]
    },
    {
     "name": "stdout",
     "output_type": "stream",
     "text": [
      "Epoch 281, Loss: 2263.7015, Recon: 2141.6394, KL: 122.0621\n"
     ]
    },
    {
     "name": "stderr",
     "output_type": "stream",
     "text": [
      "Epoch 282/500: 100%|█████████████████████████████████████████████████████████| 11/11 [00:00<00:00, 123.04it/s]\n"
     ]
    },
    {
     "name": "stdout",
     "output_type": "stream",
     "text": [
      "Epoch 282, Loss: 2264.9226, Recon: 2142.6278, KL: 122.2948\n"
     ]
    },
    {
     "name": "stderr",
     "output_type": "stream",
     "text": [
      "Epoch 283/500: 100%|██████████████████████████████████████████████████████████| 11/11 [00:00<00:00, 97.95it/s]\n"
     ]
    },
    {
     "name": "stdout",
     "output_type": "stream",
     "text": [
      "Epoch 283, Loss: 2261.4324, Recon: 2138.6103, KL: 122.8221\n"
     ]
    },
    {
     "name": "stderr",
     "output_type": "stream",
     "text": [
      "Epoch 284/500: 100%|██████████████████████████████████████████████████████████| 11/11 [00:00<00:00, 96.61it/s]\n"
     ]
    },
    {
     "name": "stdout",
     "output_type": "stream",
     "text": [
      "Epoch 284, Loss: 2256.9033, Recon: 2134.6034, KL: 122.2998\n"
     ]
    },
    {
     "name": "stderr",
     "output_type": "stream",
     "text": [
      "Epoch 285/500: 100%|██████████████████████████████████████████████████████████| 11/11 [00:00<00:00, 90.01it/s]\n"
     ]
    },
    {
     "name": "stdout",
     "output_type": "stream",
     "text": [
      "Epoch 285, Loss: 2256.2790, Recon: 2132.9501, KL: 123.3289\n"
     ]
    },
    {
     "name": "stderr",
     "output_type": "stream",
     "text": [
      "Epoch 286/500: 100%|█████████████████████████████████████████████████████████| 11/11 [00:00<00:00, 101.80it/s]\n"
     ]
    },
    {
     "name": "stdout",
     "output_type": "stream",
     "text": [
      "Epoch 286, Loss: 2254.8598, Recon: 2132.2653, KL: 122.5945\n"
     ]
    },
    {
     "name": "stderr",
     "output_type": "stream",
     "text": [
      "Epoch 287/500: 100%|█████████████████████████████████████████████████████████| 11/11 [00:00<00:00, 101.72it/s]\n"
     ]
    },
    {
     "name": "stdout",
     "output_type": "stream",
     "text": [
      "Epoch 287, Loss: 2252.6600, Recon: 2129.4659, KL: 123.1940\n"
     ]
    },
    {
     "name": "stderr",
     "output_type": "stream",
     "text": [
      "Epoch 288/500: 100%|█████████████████████████████████████████████████████████| 11/11 [00:00<00:00, 100.20it/s]\n"
     ]
    },
    {
     "name": "stdout",
     "output_type": "stream",
     "text": [
      "Epoch 288, Loss: 2249.7328, Recon: 2126.2319, KL: 123.5009\n"
     ]
    },
    {
     "name": "stderr",
     "output_type": "stream",
     "text": [
      "Epoch 289/500: 100%|██████████████████████████████████████████████████████████| 11/11 [00:00<00:00, 96.21it/s]\n"
     ]
    },
    {
     "name": "stdout",
     "output_type": "stream",
     "text": [
      "Epoch 289, Loss: 2247.0090, Recon: 2123.5370, KL: 123.4720\n"
     ]
    },
    {
     "name": "stderr",
     "output_type": "stream",
     "text": [
      "Epoch 290/500: 100%|██████████████████████████████████████████████████████████| 11/11 [00:00<00:00, 85.31it/s]\n"
     ]
    },
    {
     "name": "stdout",
     "output_type": "stream",
     "text": [
      "Epoch 290, Loss: 2244.7639, Recon: 2121.5918, KL: 123.1721\n"
     ]
    },
    {
     "name": "stderr",
     "output_type": "stream",
     "text": [
      "Epoch 291/500: 100%|██████████████████████████████████████████████████████████| 11/11 [00:00<00:00, 93.59it/s]\n"
     ]
    },
    {
     "name": "stdout",
     "output_type": "stream",
     "text": [
      "Epoch 291, Loss: 2243.6310, Recon: 2119.6193, KL: 124.0117\n"
     ]
    },
    {
     "name": "stderr",
     "output_type": "stream",
     "text": [
      "Epoch 292/500: 100%|█████████████████████████████████████████████████████████| 11/11 [00:00<00:00, 113.14it/s]\n"
     ]
    },
    {
     "name": "stdout",
     "output_type": "stream",
     "text": [
      "Epoch 292, Loss: 2242.5946, Recon: 2119.3278, KL: 123.2668\n"
     ]
    },
    {
     "name": "stderr",
     "output_type": "stream",
     "text": [
      "Epoch 293/500: 100%|█████████████████████████████████████████████████████████| 11/11 [00:00<00:00, 126.60it/s]\n"
     ]
    },
    {
     "name": "stdout",
     "output_type": "stream",
     "text": [
      "Epoch 293, Loss: 2243.0618, Recon: 2119.1398, KL: 123.9220\n"
     ]
    },
    {
     "name": "stderr",
     "output_type": "stream",
     "text": [
      "Epoch 294/500: 100%|██████████████████████████████████████████████████████████| 11/11 [00:00<00:00, 92.47it/s]\n"
     ]
    },
    {
     "name": "stdout",
     "output_type": "stream",
     "text": [
      "Epoch 294, Loss: 2238.6468, Recon: 2114.0364, KL: 124.6104\n"
     ]
    },
    {
     "name": "stderr",
     "output_type": "stream",
     "text": [
      "Epoch 295/500: 100%|█████████████████████████████████████████████████████████| 11/11 [00:00<00:00, 129.69it/s]\n"
     ]
    },
    {
     "name": "stdout",
     "output_type": "stream",
     "text": [
      "Epoch 295, Loss: 2235.4575, Recon: 2111.6662, KL: 123.7914\n"
     ]
    },
    {
     "name": "stderr",
     "output_type": "stream",
     "text": [
      "Epoch 296/500: 100%|█████████████████████████████████████████████████████████| 11/11 [00:00<00:00, 149.83it/s]\n"
     ]
    },
    {
     "name": "stdout",
     "output_type": "stream",
     "text": [
      "Epoch 296, Loss: 2232.8391, Recon: 2108.4885, KL: 124.3505\n"
     ]
    },
    {
     "name": "stderr",
     "output_type": "stream",
     "text": [
      "Epoch 297/500: 100%|█████████████████████████████████████████████████████████| 11/11 [00:00<00:00, 135.04it/s]\n"
     ]
    },
    {
     "name": "stdout",
     "output_type": "stream",
     "text": [
      "Epoch 297, Loss: 2233.4254, Recon: 2109.3644, KL: 124.0610\n"
     ]
    },
    {
     "name": "stderr",
     "output_type": "stream",
     "text": [
      "Epoch 298/500: 100%|█████████████████████████████████████████████████████████| 11/11 [00:00<00:00, 120.44it/s]\n"
     ]
    },
    {
     "name": "stdout",
     "output_type": "stream",
     "text": [
      "Epoch 298, Loss: 2230.6002, Recon: 2105.7337, KL: 124.8665\n"
     ]
    },
    {
     "name": "stderr",
     "output_type": "stream",
     "text": [
      "Epoch 299/500: 100%|█████████████████████████████████████████████████████████| 11/11 [00:00<00:00, 114.82it/s]\n"
     ]
    },
    {
     "name": "stdout",
     "output_type": "stream",
     "text": [
      "Epoch 299, Loss: 2226.0227, Recon: 2101.4713, KL: 124.5514\n"
     ]
    },
    {
     "name": "stderr",
     "output_type": "stream",
     "text": [
      "Epoch 300/500: 100%|█████████████████████████████████████████████████████████| 11/11 [00:00<00:00, 125.18it/s]\n"
     ]
    },
    {
     "name": "stdout",
     "output_type": "stream",
     "text": [
      "Epoch 300, Loss: 2227.4494, Recon: 2102.2027, KL: 125.2466\n"
     ]
    },
    {
     "name": "stderr",
     "output_type": "stream",
     "text": [
      "Epoch 301/500: 100%|█████████████████████████████████████████████████████████| 11/11 [00:00<00:00, 143.55it/s]\n"
     ]
    },
    {
     "name": "stdout",
     "output_type": "stream",
     "text": [
      "Epoch 301, Loss: 2223.9184, Recon: 2098.6761, KL: 125.2423\n"
     ]
    },
    {
     "name": "stderr",
     "output_type": "stream",
     "text": [
      "Epoch 302/500: 100%|█████████████████████████████████████████████████████████| 11/11 [00:00<00:00, 148.82it/s]\n"
     ]
    },
    {
     "name": "stdout",
     "output_type": "stream",
     "text": [
      "Epoch 302, Loss: 2223.9780, Recon: 2099.0488, KL: 124.9292\n"
     ]
    },
    {
     "name": "stderr",
     "output_type": "stream",
     "text": [
      "Epoch 303/500: 100%|█████████████████████████████████████████████████████████| 11/11 [00:00<00:00, 147.01it/s]\n"
     ]
    },
    {
     "name": "stdout",
     "output_type": "stream",
     "text": [
      "Epoch 303, Loss: 2220.4744, Recon: 2095.4419, KL: 125.0326\n"
     ]
    },
    {
     "name": "stderr",
     "output_type": "stream",
     "text": [
      "Epoch 304/500: 100%|█████████████████████████████████████████████████████████| 11/11 [00:00<00:00, 150.88it/s]\n"
     ]
    },
    {
     "name": "stdout",
     "output_type": "stream",
     "text": [
      "Epoch 304, Loss: 2218.1544, Recon: 2093.2147, KL: 124.9397\n"
     ]
    },
    {
     "name": "stderr",
     "output_type": "stream",
     "text": [
      "Epoch 305/500: 100%|█████████████████████████████████████████████████████████| 11/11 [00:00<00:00, 151.83it/s]\n"
     ]
    },
    {
     "name": "stdout",
     "output_type": "stream",
     "text": [
      "Epoch 305, Loss: 2215.6126, Recon: 2089.9066, KL: 125.7060\n"
     ]
    },
    {
     "name": "stderr",
     "output_type": "stream",
     "text": [
      "Epoch 306/500: 100%|█████████████████████████████████████████████████████████| 11/11 [00:00<00:00, 156.12it/s]\n"
     ]
    },
    {
     "name": "stdout",
     "output_type": "stream",
     "text": [
      "Epoch 306, Loss: 2212.7173, Recon: 2086.4352, KL: 126.2821\n"
     ]
    },
    {
     "name": "stderr",
     "output_type": "stream",
     "text": [
      "Epoch 307/500: 100%|█████████████████████████████████████████████████████████| 11/11 [00:00<00:00, 146.85it/s]\n"
     ]
    },
    {
     "name": "stdout",
     "output_type": "stream",
     "text": [
      "Epoch 307, Loss: 2211.1053, Recon: 2085.0882, KL: 126.0171\n"
     ]
    },
    {
     "name": "stderr",
     "output_type": "stream",
     "text": [
      "Epoch 308/500: 100%|█████████████████████████████████████████████████████████| 11/11 [00:00<00:00, 145.36it/s]\n"
     ]
    },
    {
     "name": "stdout",
     "output_type": "stream",
     "text": [
      "Epoch 308, Loss: 2209.8142, Recon: 2083.5140, KL: 126.3002\n"
     ]
    },
    {
     "name": "stderr",
     "output_type": "stream",
     "text": [
      "Epoch 309/500: 100%|█████████████████████████████████████████████████████████| 11/11 [00:00<00:00, 138.90it/s]\n"
     ]
    },
    {
     "name": "stdout",
     "output_type": "stream",
     "text": [
      "Epoch 309, Loss: 2206.8214, Recon: 2080.9450, KL: 125.8764\n"
     ]
    },
    {
     "name": "stderr",
     "output_type": "stream",
     "text": [
      "Epoch 310/500: 100%|█████████████████████████████████████████████████████████| 11/11 [00:00<00:00, 131.47it/s]\n"
     ]
    },
    {
     "name": "stdout",
     "output_type": "stream",
     "text": [
      "Epoch 310, Loss: 2210.9707, Recon: 2084.9501, KL: 126.0206\n"
     ]
    },
    {
     "name": "stderr",
     "output_type": "stream",
     "text": [
      "Epoch 311/500: 100%|██████████████████████████████████████████████████████████| 11/11 [00:00<00:00, 99.83it/s]\n"
     ]
    },
    {
     "name": "stdout",
     "output_type": "stream",
     "text": [
      "Epoch 311, Loss: 2207.5090, Recon: 2081.2967, KL: 126.2123\n"
     ]
    },
    {
     "name": "stderr",
     "output_type": "stream",
     "text": [
      "Epoch 312/500: 100%|█████████████████████████████████████████████████████████| 11/11 [00:00<00:00, 110.48it/s]\n"
     ]
    },
    {
     "name": "stdout",
     "output_type": "stream",
     "text": [
      "Epoch 312, Loss: 2204.7948, Recon: 2078.1106, KL: 126.6842\n"
     ]
    },
    {
     "name": "stderr",
     "output_type": "stream",
     "text": [
      "Epoch 313/500: 100%|█████████████████████████████████████████████████████████| 11/11 [00:00<00:00, 119.09it/s]\n"
     ]
    },
    {
     "name": "stdout",
     "output_type": "stream",
     "text": [
      "Epoch 313, Loss: 2201.5101, Recon: 2074.8091, KL: 126.7010\n"
     ]
    },
    {
     "name": "stderr",
     "output_type": "stream",
     "text": [
      "Epoch 314/500: 100%|█████████████████████████████████████████████████████████| 11/11 [00:00<00:00, 149.91it/s]\n"
     ]
    },
    {
     "name": "stdout",
     "output_type": "stream",
     "text": [
      "Epoch 314, Loss: 2202.4977, Recon: 2076.2805, KL: 126.2171\n"
     ]
    },
    {
     "name": "stderr",
     "output_type": "stream",
     "text": [
      "Epoch 315/500: 100%|█████████████████████████████████████████████████████████| 11/11 [00:00<00:00, 153.39it/s]\n"
     ]
    },
    {
     "name": "stdout",
     "output_type": "stream",
     "text": [
      "Epoch 315, Loss: 2196.4554, Recon: 2069.8230, KL: 126.6324\n"
     ]
    },
    {
     "name": "stderr",
     "output_type": "stream",
     "text": [
      "Epoch 316/500: 100%|█████████████████████████████████████████████████████████| 11/11 [00:00<00:00, 146.91it/s]\n"
     ]
    },
    {
     "name": "stdout",
     "output_type": "stream",
     "text": [
      "Epoch 316, Loss: 2194.2498, Recon: 2066.5736, KL: 127.6762\n"
     ]
    },
    {
     "name": "stderr",
     "output_type": "stream",
     "text": [
      "Epoch 317/500: 100%|█████████████████████████████████████████████████████████| 11/11 [00:00<00:00, 146.45it/s]\n"
     ]
    },
    {
     "name": "stdout",
     "output_type": "stream",
     "text": [
      "Epoch 317, Loss: 2193.5131, Recon: 2066.7154, KL: 126.7978\n"
     ]
    },
    {
     "name": "stderr",
     "output_type": "stream",
     "text": [
      "Epoch 318/500: 100%|█████████████████████████████████████████████████████████| 11/11 [00:00<00:00, 131.17it/s]\n"
     ]
    },
    {
     "name": "stdout",
     "output_type": "stream",
     "text": [
      "Epoch 318, Loss: 2194.0323, Recon: 2066.1554, KL: 127.8769\n"
     ]
    },
    {
     "name": "stderr",
     "output_type": "stream",
     "text": [
      "Epoch 319/500: 100%|█████████████████████████████████████████████████████████| 11/11 [00:00<00:00, 117.38it/s]\n"
     ]
    },
    {
     "name": "stdout",
     "output_type": "stream",
     "text": [
      "Epoch 319, Loss: 2188.2032, Recon: 2061.2731, KL: 126.9301\n"
     ]
    },
    {
     "name": "stderr",
     "output_type": "stream",
     "text": [
      "Epoch 320/500: 100%|█████████████████████████████████████████████████████████| 11/11 [00:00<00:00, 113.54it/s]\n"
     ]
    },
    {
     "name": "stdout",
     "output_type": "stream",
     "text": [
      "Epoch 320, Loss: 2193.2511, Recon: 2065.4158, KL: 127.8353\n"
     ]
    },
    {
     "name": "stderr",
     "output_type": "stream",
     "text": [
      "Epoch 321/500: 100%|█████████████████████████████████████████████████████████| 11/11 [00:00<00:00, 106.38it/s]\n"
     ]
    },
    {
     "name": "stdout",
     "output_type": "stream",
     "text": [
      "Epoch 321, Loss: 2188.4605, Recon: 2060.4585, KL: 128.0020\n"
     ]
    },
    {
     "name": "stderr",
     "output_type": "stream",
     "text": [
      "Epoch 322/500: 100%|█████████████████████████████████████████████████████████| 11/11 [00:00<00:00, 107.94it/s]\n"
     ]
    },
    {
     "name": "stdout",
     "output_type": "stream",
     "text": [
      "Epoch 322, Loss: 2184.0664, Recon: 2056.7327, KL: 127.3338\n"
     ]
    },
    {
     "name": "stderr",
     "output_type": "stream",
     "text": [
      "Epoch 323/500: 100%|█████████████████████████████████████████████████████████| 11/11 [00:00<00:00, 117.76it/s]\n"
     ]
    },
    {
     "name": "stdout",
     "output_type": "stream",
     "text": [
      "Epoch 323, Loss: 2178.2101, Recon: 2050.4088, KL: 127.8014\n"
     ]
    },
    {
     "name": "stderr",
     "output_type": "stream",
     "text": [
      "Epoch 324/500: 100%|█████████████████████████████████████████████████████████| 11/11 [00:00<00:00, 114.80it/s]\n"
     ]
    },
    {
     "name": "stdout",
     "output_type": "stream",
     "text": [
      "Epoch 324, Loss: 2177.2210, Recon: 2049.3041, KL: 127.9170\n"
     ]
    },
    {
     "name": "stderr",
     "output_type": "stream",
     "text": [
      "Epoch 325/500: 100%|█████████████████████████████████████████████████████████| 11/11 [00:00<00:00, 130.58it/s]\n"
     ]
    },
    {
     "name": "stdout",
     "output_type": "stream",
     "text": [
      "Epoch 325, Loss: 2174.1701, Recon: 2045.7183, KL: 128.4519\n"
     ]
    },
    {
     "name": "stderr",
     "output_type": "stream",
     "text": [
      "Epoch 326/500: 100%|█████████████████████████████████████████████████████████| 11/11 [00:00<00:00, 111.96it/s]\n"
     ]
    },
    {
     "name": "stdout",
     "output_type": "stream",
     "text": [
      "Epoch 326, Loss: 2172.1366, Recon: 2043.7047, KL: 128.4320\n"
     ]
    },
    {
     "name": "stderr",
     "output_type": "stream",
     "text": [
      "Epoch 327/500: 100%|█████████████████████████████████████████████████████████| 11/11 [00:00<00:00, 122.76it/s]\n"
     ]
    },
    {
     "name": "stdout",
     "output_type": "stream",
     "text": [
      "Epoch 327, Loss: 2172.5109, Recon: 2044.1930, KL: 128.3179\n"
     ]
    },
    {
     "name": "stderr",
     "output_type": "stream",
     "text": [
      "Epoch 328/500: 100%|█████████████████████████████████████████████████████████| 11/11 [00:00<00:00, 144.03it/s]\n"
     ]
    },
    {
     "name": "stdout",
     "output_type": "stream",
     "text": [
      "Epoch 328, Loss: 2170.5954, Recon: 2042.2415, KL: 128.3539\n"
     ]
    },
    {
     "name": "stderr",
     "output_type": "stream",
     "text": [
      "Epoch 329/500: 100%|█████████████████████████████████████████████████████████| 11/11 [00:00<00:00, 150.49it/s]\n"
     ]
    },
    {
     "name": "stdout",
     "output_type": "stream",
     "text": [
      "Epoch 329, Loss: 2166.5938, Recon: 2037.7999, KL: 128.7939\n"
     ]
    },
    {
     "name": "stderr",
     "output_type": "stream",
     "text": [
      "Epoch 330/500: 100%|██████████████████████████████████████████████████████████| 11/11 [00:00<00:00, 79.35it/s]\n"
     ]
    },
    {
     "name": "stdout",
     "output_type": "stream",
     "text": [
      "Epoch 330, Loss: 2166.3160, Recon: 2037.2857, KL: 129.0303\n"
     ]
    },
    {
     "name": "stderr",
     "output_type": "stream",
     "text": [
      "Epoch 331/500: 100%|█████████████████████████████████████████████████████████| 11/11 [00:00<00:00, 140.22it/s]\n"
     ]
    },
    {
     "name": "stdout",
     "output_type": "stream",
     "text": [
      "Epoch 331, Loss: 2163.4112, Recon: 2034.2735, KL: 129.1376\n"
     ]
    },
    {
     "name": "stderr",
     "output_type": "stream",
     "text": [
      "Epoch 332/500: 100%|█████████████████████████████████████████████████████████| 11/11 [00:00<00:00, 133.42it/s]\n"
     ]
    },
    {
     "name": "stdout",
     "output_type": "stream",
     "text": [
      "Epoch 332, Loss: 2161.9604, Recon: 2032.1736, KL: 129.7868\n"
     ]
    },
    {
     "name": "stderr",
     "output_type": "stream",
     "text": [
      "Epoch 333/500: 100%|█████████████████████████████████████████████████████████| 11/11 [00:00<00:00, 123.88it/s]\n"
     ]
    },
    {
     "name": "stdout",
     "output_type": "stream",
     "text": [
      "Epoch 333, Loss: 2157.8305, Recon: 2028.9173, KL: 128.9132\n"
     ]
    },
    {
     "name": "stderr",
     "output_type": "stream",
     "text": [
      "Epoch 334/500: 100%|█████████████████████████████████████████████████████████| 11/11 [00:00<00:00, 108.88it/s]\n"
     ]
    },
    {
     "name": "stdout",
     "output_type": "stream",
     "text": [
      "Epoch 334, Loss: 2156.2352, Recon: 2026.9168, KL: 129.3183\n"
     ]
    },
    {
     "name": "stderr",
     "output_type": "stream",
     "text": [
      "Epoch 335/500: 100%|█████████████████████████████████████████████████████████| 11/11 [00:00<00:00, 116.28it/s]\n"
     ]
    },
    {
     "name": "stdout",
     "output_type": "stream",
     "text": [
      "Epoch 335, Loss: 2152.4287, Recon: 2023.3105, KL: 129.1182\n"
     ]
    },
    {
     "name": "stderr",
     "output_type": "stream",
     "text": [
      "Epoch 336/500: 100%|█████████████████████████████████████████████████████████| 11/11 [00:00<00:00, 128.91it/s]\n"
     ]
    },
    {
     "name": "stdout",
     "output_type": "stream",
     "text": [
      "Epoch 336, Loss: 2154.8246, Recon: 2024.7554, KL: 130.0692\n"
     ]
    },
    {
     "name": "stderr",
     "output_type": "stream",
     "text": [
      "Epoch 337/500: 100%|█████████████████████████████████████████████████████████| 11/11 [00:00<00:00, 150.24it/s]\n"
     ]
    },
    {
     "name": "stdout",
     "output_type": "stream",
     "text": [
      "Epoch 337, Loss: 2150.8286, Recon: 2021.1216, KL: 129.7069\n"
     ]
    },
    {
     "name": "stderr",
     "output_type": "stream",
     "text": [
      "Epoch 338/500: 100%|█████████████████████████████████████████████████████████| 11/11 [00:00<00:00, 151.75it/s]\n"
     ]
    },
    {
     "name": "stdout",
     "output_type": "stream",
     "text": [
      "Epoch 338, Loss: 2149.3871, Recon: 2019.9011, KL: 129.4860\n"
     ]
    },
    {
     "name": "stderr",
     "output_type": "stream",
     "text": [
      "Epoch 339/500: 100%|█████████████████████████████████████████████████████████| 11/11 [00:00<00:00, 156.30it/s]\n"
     ]
    },
    {
     "name": "stdout",
     "output_type": "stream",
     "text": [
      "Epoch 339, Loss: 2144.9948, Recon: 2014.2715, KL: 130.7234\n"
     ]
    },
    {
     "name": "stderr",
     "output_type": "stream",
     "text": [
      "Epoch 340/500: 100%|█████████████████████████████████████████████████████████| 11/11 [00:00<00:00, 146.84it/s]\n"
     ]
    },
    {
     "name": "stdout",
     "output_type": "stream",
     "text": [
      "Epoch 340, Loss: 2143.5441, Recon: 2013.0153, KL: 130.5289\n"
     ]
    },
    {
     "name": "stderr",
     "output_type": "stream",
     "text": [
      "Epoch 341/500: 100%|█████████████████████████████████████████████████████████| 11/11 [00:00<00:00, 135.46it/s]\n"
     ]
    },
    {
     "name": "stdout",
     "output_type": "stream",
     "text": [
      "Epoch 341, Loss: 2140.1481, Recon: 2009.7869, KL: 130.3612\n"
     ]
    },
    {
     "name": "stderr",
     "output_type": "stream",
     "text": [
      "Epoch 342/500: 100%|█████████████████████████████████████████████████████████| 11/11 [00:00<00:00, 147.12it/s]\n"
     ]
    },
    {
     "name": "stdout",
     "output_type": "stream",
     "text": [
      "Epoch 342, Loss: 2139.7582, Recon: 2008.1821, KL: 131.5761\n"
     ]
    },
    {
     "name": "stderr",
     "output_type": "stream",
     "text": [
      "Epoch 343/500: 100%|█████████████████████████████████████████████████████████| 11/11 [00:00<00:00, 157.46it/s]\n"
     ]
    },
    {
     "name": "stdout",
     "output_type": "stream",
     "text": [
      "Epoch 343, Loss: 2135.8776, Recon: 2005.2924, KL: 130.5852\n"
     ]
    },
    {
     "name": "stderr",
     "output_type": "stream",
     "text": [
      "Epoch 344/500: 100%|█████████████████████████████████████████████████████████| 11/11 [00:00<00:00, 156.41it/s]\n"
     ]
    },
    {
     "name": "stdout",
     "output_type": "stream",
     "text": [
      "Epoch 344, Loss: 2133.1593, Recon: 2001.6705, KL: 131.4888\n"
     ]
    },
    {
     "name": "stderr",
     "output_type": "stream",
     "text": [
      "Epoch 345/500: 100%|█████████████████████████████████████████████████████████| 11/11 [00:00<00:00, 154.43it/s]\n"
     ]
    },
    {
     "name": "stdout",
     "output_type": "stream",
     "text": [
      "Epoch 345, Loss: 2132.5839, Recon: 2001.3241, KL: 131.2599\n"
     ]
    },
    {
     "name": "stderr",
     "output_type": "stream",
     "text": [
      "Epoch 346/500: 100%|█████████████████████████████████████████████████████████| 11/11 [00:00<00:00, 157.22it/s]\n"
     ]
    },
    {
     "name": "stdout",
     "output_type": "stream",
     "text": [
      "Epoch 346, Loss: 2132.2138, Recon: 2001.1607, KL: 131.0531\n"
     ]
    },
    {
     "name": "stderr",
     "output_type": "stream",
     "text": [
      "Epoch 347/500: 100%|█████████████████████████████████████████████████████████| 11/11 [00:00<00:00, 137.81it/s]\n"
     ]
    },
    {
     "name": "stdout",
     "output_type": "stream",
     "text": [
      "Epoch 347, Loss: 2131.4756, Recon: 2000.0200, KL: 131.4556\n"
     ]
    },
    {
     "name": "stderr",
     "output_type": "stream",
     "text": [
      "Epoch 348/500: 100%|█████████████████████████████████████████████████████████| 11/11 [00:00<00:00, 142.23it/s]\n"
     ]
    },
    {
     "name": "stdout",
     "output_type": "stream",
     "text": [
      "Epoch 348, Loss: 2131.7652, Recon: 2000.3337, KL: 131.4316\n"
     ]
    },
    {
     "name": "stderr",
     "output_type": "stream",
     "text": [
      "Epoch 349/500: 100%|█████████████████████████████████████████████████████████| 11/11 [00:00<00:00, 150.27it/s]\n"
     ]
    },
    {
     "name": "stdout",
     "output_type": "stream",
     "text": [
      "Epoch 349, Loss: 2131.5336, Recon: 2000.0597, KL: 131.4739\n"
     ]
    },
    {
     "name": "stderr",
     "output_type": "stream",
     "text": [
      "Epoch 350/500: 100%|█████████████████████████████████████████████████████████| 11/11 [00:00<00:00, 150.64it/s]\n"
     ]
    },
    {
     "name": "stdout",
     "output_type": "stream",
     "text": [
      "Epoch 350, Loss: 2128.8249, Recon: 1997.1217, KL: 131.7032\n"
     ]
    },
    {
     "name": "stderr",
     "output_type": "stream",
     "text": [
      "Epoch 351/500: 100%|█████████████████████████████████████████████████████████| 11/11 [00:00<00:00, 150.81it/s]\n"
     ]
    },
    {
     "name": "stdout",
     "output_type": "stream",
     "text": [
      "Epoch 351, Loss: 2125.4566, Recon: 1993.1591, KL: 132.2975\n"
     ]
    },
    {
     "name": "stderr",
     "output_type": "stream",
     "text": [
      "Epoch 352/500: 100%|█████████████████████████████████████████████████████████| 11/11 [00:00<00:00, 150.10it/s]\n"
     ]
    },
    {
     "name": "stdout",
     "output_type": "stream",
     "text": [
      "Epoch 352, Loss: 2122.7566, Recon: 1991.3676, KL: 131.3890\n"
     ]
    },
    {
     "name": "stderr",
     "output_type": "stream",
     "text": [
      "Epoch 353/500: 100%|█████████████████████████████████████████████████████████| 11/11 [00:00<00:00, 140.02it/s]\n"
     ]
    },
    {
     "name": "stdout",
     "output_type": "stream",
     "text": [
      "Epoch 353, Loss: 2119.4370, Recon: 1987.0735, KL: 132.3635\n"
     ]
    },
    {
     "name": "stderr",
     "output_type": "stream",
     "text": [
      "Epoch 354/500: 100%|█████████████████████████████████████████████████████████| 11/11 [00:00<00:00, 141.77it/s]\n"
     ]
    },
    {
     "name": "stdout",
     "output_type": "stream",
     "text": [
      "Epoch 354, Loss: 2114.9313, Recon: 1982.9733, KL: 131.9581\n"
     ]
    },
    {
     "name": "stderr",
     "output_type": "stream",
     "text": [
      "Epoch 355/500: 100%|█████████████████████████████████████████████████████████| 11/11 [00:00<00:00, 151.61it/s]\n"
     ]
    },
    {
     "name": "stdout",
     "output_type": "stream",
     "text": [
      "Epoch 355, Loss: 2117.9487, Recon: 1985.4630, KL: 132.4857\n"
     ]
    },
    {
     "name": "stderr",
     "output_type": "stream",
     "text": [
      "Epoch 356/500: 100%|█████████████████████████████████████████████████████████| 11/11 [00:00<00:00, 158.73it/s]\n"
     ]
    },
    {
     "name": "stdout",
     "output_type": "stream",
     "text": [
      "Epoch 356, Loss: 2114.1721, Recon: 1980.8170, KL: 133.3550\n"
     ]
    },
    {
     "name": "stderr",
     "output_type": "stream",
     "text": [
      "Epoch 357/500: 100%|█████████████████████████████████████████████████████████| 11/11 [00:00<00:00, 148.21it/s]\n"
     ]
    },
    {
     "name": "stdout",
     "output_type": "stream",
     "text": [
      "Epoch 357, Loss: 2107.6250, Recon: 1975.0773, KL: 132.5478\n"
     ]
    },
    {
     "name": "stderr",
     "output_type": "stream",
     "text": [
      "Epoch 358/500: 100%|█████████████████████████████████████████████████████████| 11/11 [00:00<00:00, 148.42it/s]\n"
     ]
    },
    {
     "name": "stdout",
     "output_type": "stream",
     "text": [
      "Epoch 358, Loss: 2104.9762, Recon: 1971.8522, KL: 133.1241\n"
     ]
    },
    {
     "name": "stderr",
     "output_type": "stream",
     "text": [
      "Epoch 359/500: 100%|█████████████████████████████████████████████████████████| 11/11 [00:00<00:00, 145.65it/s]\n"
     ]
    },
    {
     "name": "stdout",
     "output_type": "stream",
     "text": [
      "Epoch 359, Loss: 2103.3356, Recon: 1969.9990, KL: 133.3366\n"
     ]
    },
    {
     "name": "stderr",
     "output_type": "stream",
     "text": [
      "Epoch 360/500: 100%|█████████████████████████████████████████████████████████| 11/11 [00:00<00:00, 146.93it/s]\n"
     ]
    },
    {
     "name": "stdout",
     "output_type": "stream",
     "text": [
      "Epoch 360, Loss: 2105.3522, Recon: 1972.3501, KL: 133.0021\n"
     ]
    },
    {
     "name": "stderr",
     "output_type": "stream",
     "text": [
      "Epoch 361/500: 100%|█████████████████████████████████████████████████████████| 11/11 [00:00<00:00, 150.56it/s]\n"
     ]
    },
    {
     "name": "stdout",
     "output_type": "stream",
     "text": [
      "Epoch 361, Loss: 2102.6374, Recon: 1969.2074, KL: 133.4300\n"
     ]
    },
    {
     "name": "stderr",
     "output_type": "stream",
     "text": [
      "Epoch 362/500: 100%|█████████████████████████████████████████████████████████| 11/11 [00:00<00:00, 155.54it/s]\n"
     ]
    },
    {
     "name": "stdout",
     "output_type": "stream",
     "text": [
      "Epoch 362, Loss: 2101.3456, Recon: 1968.7046, KL: 132.6409\n"
     ]
    },
    {
     "name": "stderr",
     "output_type": "stream",
     "text": [
      "Epoch 363/500: 100%|█████████████████████████████████████████████████████████| 11/11 [00:00<00:00, 158.90it/s]\n"
     ]
    },
    {
     "name": "stdout",
     "output_type": "stream",
     "text": [
      "Epoch 363, Loss: 2099.2679, Recon: 1966.1477, KL: 133.1202\n"
     ]
    },
    {
     "name": "stderr",
     "output_type": "stream",
     "text": [
      "Epoch 364/500: 100%|█████████████████████████████████████████████████████████| 11/11 [00:00<00:00, 143.71it/s]\n"
     ]
    },
    {
     "name": "stdout",
     "output_type": "stream",
     "text": [
      "Epoch 364, Loss: 2102.5836, Recon: 1968.8070, KL: 133.7766\n"
     ]
    },
    {
     "name": "stderr",
     "output_type": "stream",
     "text": [
      "Epoch 365/500: 100%|█████████████████████████████████████████████████████████| 11/11 [00:00<00:00, 156.78it/s]\n"
     ]
    },
    {
     "name": "stdout",
     "output_type": "stream",
     "text": [
      "Epoch 365, Loss: 2097.5782, Recon: 1963.5705, KL: 134.0076\n"
     ]
    },
    {
     "name": "stderr",
     "output_type": "stream",
     "text": [
      "Epoch 366/500: 100%|█████████████████████████████████████████████████████████| 11/11 [00:00<00:00, 150.75it/s]\n"
     ]
    },
    {
     "name": "stdout",
     "output_type": "stream",
     "text": [
      "Epoch 366, Loss: 2095.1096, Recon: 1961.2262, KL: 133.8834\n"
     ]
    },
    {
     "name": "stderr",
     "output_type": "stream",
     "text": [
      "Epoch 367/500: 100%|█████████████████████████████████████████████████████████| 11/11 [00:00<00:00, 155.24it/s]\n"
     ]
    },
    {
     "name": "stdout",
     "output_type": "stream",
     "text": [
      "Epoch 367, Loss: 2092.3556, Recon: 1958.1791, KL: 134.1765\n"
     ]
    },
    {
     "name": "stderr",
     "output_type": "stream",
     "text": [
      "Epoch 368/500: 100%|█████████████████████████████████████████████████████████| 11/11 [00:00<00:00, 147.89it/s]\n"
     ]
    },
    {
     "name": "stdout",
     "output_type": "stream",
     "text": [
      "Epoch 368, Loss: 2091.8975, Recon: 1957.1540, KL: 134.7434\n"
     ]
    },
    {
     "name": "stderr",
     "output_type": "stream",
     "text": [
      "Epoch 369/500: 100%|█████████████████████████████████████████████████████████| 11/11 [00:00<00:00, 159.77it/s]\n"
     ]
    },
    {
     "name": "stdout",
     "output_type": "stream",
     "text": [
      "Epoch 369, Loss: 2091.1999, Recon: 1956.7819, KL: 134.4179\n"
     ]
    },
    {
     "name": "stderr",
     "output_type": "stream",
     "text": [
      "Epoch 370/500: 100%|█████████████████████████████████████████████████████████| 11/11 [00:00<00:00, 128.31it/s]\n"
     ]
    },
    {
     "name": "stdout",
     "output_type": "stream",
     "text": [
      "Epoch 370, Loss: 2087.4065, Recon: 1952.5164, KL: 134.8901\n"
     ]
    },
    {
     "name": "stderr",
     "output_type": "stream",
     "text": [
      "Epoch 371/500: 100%|█████████████████████████████████████████████████████████| 11/11 [00:00<00:00, 156.73it/s]\n"
     ]
    },
    {
     "name": "stdout",
     "output_type": "stream",
     "text": [
      "Epoch 371, Loss: 2084.8260, Recon: 1950.3692, KL: 134.4568\n"
     ]
    },
    {
     "name": "stderr",
     "output_type": "stream",
     "text": [
      "Epoch 372/500: 100%|█████████████████████████████████████████████████████████| 11/11 [00:00<00:00, 158.11it/s]\n"
     ]
    },
    {
     "name": "stdout",
     "output_type": "stream",
     "text": [
      "Epoch 372, Loss: 2082.9212, Recon: 1948.2537, KL: 134.6674\n"
     ]
    },
    {
     "name": "stderr",
     "output_type": "stream",
     "text": [
      "Epoch 373/500: 100%|█████████████████████████████████████████████████████████| 11/11 [00:00<00:00, 159.42it/s]\n"
     ]
    },
    {
     "name": "stdout",
     "output_type": "stream",
     "text": [
      "Epoch 373, Loss: 2078.5386, Recon: 1943.2593, KL: 135.2793\n"
     ]
    },
    {
     "name": "stderr",
     "output_type": "stream",
     "text": [
      "Epoch 374/500: 100%|█████████████████████████████████████████████████████████| 11/11 [00:00<00:00, 130.74it/s]\n"
     ]
    },
    {
     "name": "stdout",
     "output_type": "stream",
     "text": [
      "Epoch 374, Loss: 2080.7710, Recon: 1945.9670, KL: 134.8040\n"
     ]
    },
    {
     "name": "stderr",
     "output_type": "stream",
     "text": [
      "Epoch 375/500: 100%|█████████████████████████████████████████████████████████| 11/11 [00:00<00:00, 150.62it/s]\n"
     ]
    },
    {
     "name": "stdout",
     "output_type": "stream",
     "text": [
      "Epoch 375, Loss: 2077.9907, Recon: 1942.4357, KL: 135.5549\n"
     ]
    },
    {
     "name": "stderr",
     "output_type": "stream",
     "text": [
      "Epoch 376/500: 100%|█████████████████████████████████████████████████████████| 11/11 [00:00<00:00, 151.53it/s]\n"
     ]
    },
    {
     "name": "stdout",
     "output_type": "stream",
     "text": [
      "Epoch 376, Loss: 2071.5606, Recon: 1935.7338, KL: 135.8268\n"
     ]
    },
    {
     "name": "stderr",
     "output_type": "stream",
     "text": [
      "Epoch 377/500: 100%|█████████████████████████████████████████████████████████| 11/11 [00:00<00:00, 128.06it/s]\n"
     ]
    },
    {
     "name": "stdout",
     "output_type": "stream",
     "text": [
      "Epoch 377, Loss: 2071.9259, Recon: 1936.3579, KL: 135.5680\n"
     ]
    },
    {
     "name": "stderr",
     "output_type": "stream",
     "text": [
      "Epoch 378/500: 100%|█████████████████████████████████████████████████████████| 11/11 [00:00<00:00, 142.53it/s]\n"
     ]
    },
    {
     "name": "stdout",
     "output_type": "stream",
     "text": [
      "Epoch 378, Loss: 2070.6968, Recon: 1935.1681, KL: 135.5287\n"
     ]
    },
    {
     "name": "stderr",
     "output_type": "stream",
     "text": [
      "Epoch 379/500: 100%|█████████████████████████████████████████████████████████| 11/11 [00:00<00:00, 156.25it/s]\n"
     ]
    },
    {
     "name": "stdout",
     "output_type": "stream",
     "text": [
      "Epoch 379, Loss: 2068.9383, Recon: 1933.5478, KL: 135.3904\n"
     ]
    },
    {
     "name": "stderr",
     "output_type": "stream",
     "text": [
      "Epoch 380/500: 100%|█████████████████████████████████████████████████████████| 11/11 [00:00<00:00, 160.64it/s]\n"
     ]
    },
    {
     "name": "stdout",
     "output_type": "stream",
     "text": [
      "Epoch 380, Loss: 2067.4015, Recon: 1931.7663, KL: 135.6352\n"
     ]
    },
    {
     "name": "stderr",
     "output_type": "stream",
     "text": [
      "Epoch 381/500: 100%|█████████████████████████████████████████████████████████| 11/11 [00:00<00:00, 151.93it/s]\n"
     ]
    },
    {
     "name": "stdout",
     "output_type": "stream",
     "text": [
      "Epoch 381, Loss: 2068.4388, Recon: 1932.2908, KL: 136.1480\n"
     ]
    },
    {
     "name": "stderr",
     "output_type": "stream",
     "text": [
      "Epoch 382/500: 100%|█████████████████████████████████████████████████████████| 11/11 [00:00<00:00, 159.43it/s]\n"
     ]
    },
    {
     "name": "stdout",
     "output_type": "stream",
     "text": [
      "Epoch 382, Loss: 2064.6620, Recon: 1928.4759, KL: 136.1862\n"
     ]
    },
    {
     "name": "stderr",
     "output_type": "stream",
     "text": [
      "Epoch 383/500: 100%|█████████████████████████████████████████████████████████| 11/11 [00:00<00:00, 151.63it/s]\n"
     ]
    },
    {
     "name": "stdout",
     "output_type": "stream",
     "text": [
      "Epoch 383, Loss: 2073.3843, Recon: 1937.0203, KL: 136.3641\n"
     ]
    },
    {
     "name": "stderr",
     "output_type": "stream",
     "text": [
      "Epoch 384/500: 100%|█████████████████████████████████████████████████████████| 11/11 [00:00<00:00, 153.53it/s]\n"
     ]
    },
    {
     "name": "stdout",
     "output_type": "stream",
     "text": [
      "Epoch 384, Loss: 2063.2776, Recon: 1926.5352, KL: 136.7424\n"
     ]
    },
    {
     "name": "stderr",
     "output_type": "stream",
     "text": [
      "Epoch 385/500: 100%|█████████████████████████████████████████████████████████| 11/11 [00:00<00:00, 144.98it/s]\n"
     ]
    },
    {
     "name": "stdout",
     "output_type": "stream",
     "text": [
      "Epoch 385, Loss: 2058.5544, Recon: 1921.4410, KL: 137.1134\n"
     ]
    },
    {
     "name": "stderr",
     "output_type": "stream",
     "text": [
      "Epoch 386/500: 100%|█████████████████████████████████████████████████████████| 11/11 [00:00<00:00, 157.92it/s]\n"
     ]
    },
    {
     "name": "stdout",
     "output_type": "stream",
     "text": [
      "Epoch 386, Loss: 2057.6903, Recon: 1921.2207, KL: 136.4696\n"
     ]
    },
    {
     "name": "stderr",
     "output_type": "stream",
     "text": [
      "Epoch 387/500: 100%|█████████████████████████████████████████████████████████| 11/11 [00:00<00:00, 156.43it/s]\n"
     ]
    },
    {
     "name": "stdout",
     "output_type": "stream",
     "text": [
      "Epoch 387, Loss: 2056.9851, Recon: 1919.9516, KL: 137.0334\n"
     ]
    },
    {
     "name": "stderr",
     "output_type": "stream",
     "text": [
      "Epoch 388/500: 100%|█████████████████████████████████████████████████████████| 11/11 [00:00<00:00, 151.51it/s]\n"
     ]
    },
    {
     "name": "stdout",
     "output_type": "stream",
     "text": [
      "Epoch 388, Loss: 2053.8974, Recon: 1916.5172, KL: 137.3803\n"
     ]
    },
    {
     "name": "stderr",
     "output_type": "stream",
     "text": [
      "Epoch 389/500: 100%|█████████████████████████████████████████████████████████| 11/11 [00:00<00:00, 156.34it/s]\n"
     ]
    },
    {
     "name": "stdout",
     "output_type": "stream",
     "text": [
      "Epoch 389, Loss: 2050.9370, Recon: 1913.7275, KL: 137.2095\n"
     ]
    },
    {
     "name": "stderr",
     "output_type": "stream",
     "text": [
      "Epoch 390/500: 100%|█████████████████████████████████████████████████████████| 11/11 [00:00<00:00, 151.41it/s]\n"
     ]
    },
    {
     "name": "stdout",
     "output_type": "stream",
     "text": [
      "Epoch 390, Loss: 2047.0242, Recon: 1909.8126, KL: 137.2116\n"
     ]
    },
    {
     "name": "stderr",
     "output_type": "stream",
     "text": [
      "Epoch 391/500: 100%|█████████████████████████████████████████████████████████| 11/11 [00:00<00:00, 151.54it/s]\n"
     ]
    },
    {
     "name": "stdout",
     "output_type": "stream",
     "text": [
      "Epoch 391, Loss: 2047.6755, Recon: 1911.0101, KL: 136.6654\n"
     ]
    },
    {
     "name": "stderr",
     "output_type": "stream",
     "text": [
      "Epoch 392/500: 100%|█████████████████████████████████████████████████████████| 11/11 [00:00<00:00, 137.70it/s]\n"
     ]
    },
    {
     "name": "stdout",
     "output_type": "stream",
     "text": [
      "Epoch 392, Loss: 2047.4323, Recon: 1909.2833, KL: 138.1491\n"
     ]
    },
    {
     "name": "stderr",
     "output_type": "stream",
     "text": [
      "Epoch 393/500: 100%|█████████████████████████████████████████████████████████| 11/11 [00:00<00:00, 150.49it/s]\n"
     ]
    },
    {
     "name": "stdout",
     "output_type": "stream",
     "text": [
      "Epoch 393, Loss: 2041.6217, Recon: 1904.0525, KL: 137.5692\n"
     ]
    },
    {
     "name": "stderr",
     "output_type": "stream",
     "text": [
      "Epoch 394/500: 100%|█████████████████████████████████████████████████████████| 11/11 [00:00<00:00, 147.13it/s]\n"
     ]
    },
    {
     "name": "stdout",
     "output_type": "stream",
     "text": [
      "Epoch 394, Loss: 2038.8785, Recon: 1900.8657, KL: 138.0127\n"
     ]
    },
    {
     "name": "stderr",
     "output_type": "stream",
     "text": [
      "Epoch 395/500: 100%|█████████████████████████████████████████████████████████| 11/11 [00:00<00:00, 139.82it/s]\n"
     ]
    },
    {
     "name": "stdout",
     "output_type": "stream",
     "text": [
      "Epoch 395, Loss: 2039.8171, Recon: 1901.5172, KL: 138.2999\n"
     ]
    },
    {
     "name": "stderr",
     "output_type": "stream",
     "text": [
      "Epoch 396/500: 100%|█████████████████████████████████████████████████████████| 11/11 [00:00<00:00, 146.44it/s]\n"
     ]
    },
    {
     "name": "stdout",
     "output_type": "stream",
     "text": [
      "Epoch 396, Loss: 2041.0578, Recon: 1902.8778, KL: 138.1801\n"
     ]
    },
    {
     "name": "stderr",
     "output_type": "stream",
     "text": [
      "Epoch 397/500: 100%|█████████████████████████████████████████████████████████| 11/11 [00:00<00:00, 152.11it/s]\n"
     ]
    },
    {
     "name": "stdout",
     "output_type": "stream",
     "text": [
      "Epoch 397, Loss: 2039.4421, Recon: 1900.7066, KL: 138.7355\n"
     ]
    },
    {
     "name": "stderr",
     "output_type": "stream",
     "text": [
      "Epoch 398/500: 100%|█████████████████████████████████████████████████████████| 11/11 [00:00<00:00, 151.84it/s]\n"
     ]
    },
    {
     "name": "stdout",
     "output_type": "stream",
     "text": [
      "Epoch 398, Loss: 2035.3796, Recon: 1897.1121, KL: 138.2675\n"
     ]
    },
    {
     "name": "stderr",
     "output_type": "stream",
     "text": [
      "Epoch 399/500: 100%|█████████████████████████████████████████████████████████| 11/11 [00:00<00:00, 145.75it/s]\n"
     ]
    },
    {
     "name": "stdout",
     "output_type": "stream",
     "text": [
      "Epoch 399, Loss: 2032.5203, Recon: 1893.8411, KL: 138.6791\n"
     ]
    },
    {
     "name": "stderr",
     "output_type": "stream",
     "text": [
      "Epoch 400/500: 100%|█████████████████████████████████████████████████████████| 11/11 [00:00<00:00, 154.63it/s]\n"
     ]
    },
    {
     "name": "stdout",
     "output_type": "stream",
     "text": [
      "Epoch 400, Loss: 2028.1064, Recon: 1889.2418, KL: 138.8646\n"
     ]
    },
    {
     "name": "stderr",
     "output_type": "stream",
     "text": [
      "Epoch 401/500: 100%|█████████████████████████████████████████████████████████| 11/11 [00:00<00:00, 134.51it/s]\n"
     ]
    },
    {
     "name": "stdout",
     "output_type": "stream",
     "text": [
      "Epoch 401, Loss: 2026.6608, Recon: 1887.5842, KL: 139.0766\n"
     ]
    },
    {
     "name": "stderr",
     "output_type": "stream",
     "text": [
      "Epoch 402/500: 100%|█████████████████████████████████████████████████████████| 11/11 [00:00<00:00, 140.24it/s]\n"
     ]
    },
    {
     "name": "stdout",
     "output_type": "stream",
     "text": [
      "Epoch 402, Loss: 2024.3687, Recon: 1884.9688, KL: 139.3999\n"
     ]
    },
    {
     "name": "stderr",
     "output_type": "stream",
     "text": [
      "Epoch 403/500: 100%|█████████████████████████████████████████████████████████| 11/11 [00:00<00:00, 155.27it/s]\n"
     ]
    },
    {
     "name": "stdout",
     "output_type": "stream",
     "text": [
      "Epoch 403, Loss: 2023.3930, Recon: 1883.6662, KL: 139.7268\n"
     ]
    },
    {
     "name": "stderr",
     "output_type": "stream",
     "text": [
      "Epoch 404/500: 100%|█████████████████████████████████████████████████████████| 11/11 [00:00<00:00, 156.97it/s]\n"
     ]
    },
    {
     "name": "stdout",
     "output_type": "stream",
     "text": [
      "Epoch 404, Loss: 2020.4772, Recon: 1881.4026, KL: 139.0746\n"
     ]
    },
    {
     "name": "stderr",
     "output_type": "stream",
     "text": [
      "Epoch 405/500: 100%|█████████████████████████████████████████████████████████| 11/11 [00:00<00:00, 152.67it/s]\n"
     ]
    },
    {
     "name": "stdout",
     "output_type": "stream",
     "text": [
      "Epoch 405, Loss: 2017.7845, Recon: 1878.6236, KL: 139.1610\n"
     ]
    },
    {
     "name": "stderr",
     "output_type": "stream",
     "text": [
      "Epoch 406/500: 100%|█████████████████████████████████████████████████████████| 11/11 [00:00<00:00, 155.98it/s]\n"
     ]
    },
    {
     "name": "stdout",
     "output_type": "stream",
     "text": [
      "Epoch 406, Loss: 2018.3904, Recon: 1878.9334, KL: 139.4570\n"
     ]
    },
    {
     "name": "stderr",
     "output_type": "stream",
     "text": [
      "Epoch 407/500: 100%|█████████████████████████████████████████████████████████| 11/11 [00:00<00:00, 147.78it/s]\n"
     ]
    },
    {
     "name": "stdout",
     "output_type": "stream",
     "text": [
      "Epoch 407, Loss: 2017.6076, Recon: 1878.6237, KL: 138.9839\n"
     ]
    },
    {
     "name": "stderr",
     "output_type": "stream",
     "text": [
      "Epoch 408/500: 100%|█████████████████████████████████████████████████████████| 11/11 [00:00<00:00, 146.91it/s]\n"
     ]
    },
    {
     "name": "stdout",
     "output_type": "stream",
     "text": [
      "Epoch 408, Loss: 2016.2808, Recon: 1876.5979, KL: 139.6829\n"
     ]
    },
    {
     "name": "stderr",
     "output_type": "stream",
     "text": [
      "Epoch 409/500: 100%|█████████████████████████████████████████████████████████| 11/11 [00:00<00:00, 147.02it/s]\n"
     ]
    },
    {
     "name": "stdout",
     "output_type": "stream",
     "text": [
      "Epoch 409, Loss: 2019.2082, Recon: 1878.6825, KL: 140.5257\n"
     ]
    },
    {
     "name": "stderr",
     "output_type": "stream",
     "text": [
      "Epoch 410/500: 100%|█████████████████████████████████████████████████████████| 11/11 [00:00<00:00, 147.31it/s]\n"
     ]
    },
    {
     "name": "stdout",
     "output_type": "stream",
     "text": [
      "Epoch 410, Loss: 2015.8345, Recon: 1876.3826, KL: 139.4519\n"
     ]
    },
    {
     "name": "stderr",
     "output_type": "stream",
     "text": [
      "Epoch 411/500: 100%|█████████████████████████████████████████████████████████| 11/11 [00:00<00:00, 154.78it/s]\n"
     ]
    },
    {
     "name": "stdout",
     "output_type": "stream",
     "text": [
      "Epoch 411, Loss: 2009.5345, Recon: 1869.6170, KL: 139.9175\n"
     ]
    },
    {
     "name": "stderr",
     "output_type": "stream",
     "text": [
      "Epoch 412/500: 100%|█████████████████████████████████████████████████████████| 11/11 [00:00<00:00, 149.57it/s]\n"
     ]
    },
    {
     "name": "stdout",
     "output_type": "stream",
     "text": [
      "Epoch 412, Loss: 2013.0027, Recon: 1872.3770, KL: 140.6257\n"
     ]
    },
    {
     "name": "stderr",
     "output_type": "stream",
     "text": [
      "Epoch 413/500: 100%|█████████████████████████████████████████████████████████| 11/11 [00:00<00:00, 137.86it/s]\n"
     ]
    },
    {
     "name": "stdout",
     "output_type": "stream",
     "text": [
      "Epoch 413, Loss: 2010.5396, Recon: 1870.3421, KL: 140.1975\n"
     ]
    },
    {
     "name": "stderr",
     "output_type": "stream",
     "text": [
      "Epoch 414/500: 100%|█████████████████████████████████████████████████████████| 11/11 [00:00<00:00, 149.79it/s]\n"
     ]
    },
    {
     "name": "stdout",
     "output_type": "stream",
     "text": [
      "Epoch 414, Loss: 2005.6997, Recon: 1865.2687, KL: 140.4311\n"
     ]
    },
    {
     "name": "stderr",
     "output_type": "stream",
     "text": [
      "Epoch 415/500: 100%|█████████████████████████████████████████████████████████| 11/11 [00:00<00:00, 149.30it/s]\n"
     ]
    },
    {
     "name": "stdout",
     "output_type": "stream",
     "text": [
      "Epoch 415, Loss: 2001.2287, Recon: 1860.7088, KL: 140.5198\n"
     ]
    },
    {
     "name": "stderr",
     "output_type": "stream",
     "text": [
      "Epoch 416/500: 100%|█████████████████████████████████████████████████████████| 11/11 [00:00<00:00, 150.35it/s]\n"
     ]
    },
    {
     "name": "stdout",
     "output_type": "stream",
     "text": [
      "Epoch 416, Loss: 1998.3474, Recon: 1857.3096, KL: 141.0377\n"
     ]
    },
    {
     "name": "stderr",
     "output_type": "stream",
     "text": [
      "Epoch 417/500: 100%|█████████████████████████████████████████████████████████| 11/11 [00:00<00:00, 145.85it/s]\n"
     ]
    },
    {
     "name": "stdout",
     "output_type": "stream",
     "text": [
      "Epoch 417, Loss: 1999.0942, Recon: 1858.2507, KL: 140.8435\n"
     ]
    },
    {
     "name": "stderr",
     "output_type": "stream",
     "text": [
      "Epoch 418/500: 100%|█████████████████████████████████████████████████████████| 11/11 [00:00<00:00, 144.18it/s]\n"
     ]
    },
    {
     "name": "stdout",
     "output_type": "stream",
     "text": [
      "Epoch 418, Loss: 1994.3051, Recon: 1852.9449, KL: 141.3601\n"
     ]
    },
    {
     "name": "stderr",
     "output_type": "stream",
     "text": [
      "Epoch 419/500: 100%|█████████████████████████████████████████████████████████| 11/11 [00:00<00:00, 157.28it/s]\n"
     ]
    },
    {
     "name": "stdout",
     "output_type": "stream",
     "text": [
      "Epoch 419, Loss: 1992.8331, Recon: 1852.0128, KL: 140.8203\n"
     ]
    },
    {
     "name": "stderr",
     "output_type": "stream",
     "text": [
      "Epoch 420/500: 100%|█████████████████████████████████████████████████████████| 11/11 [00:00<00:00, 158.33it/s]\n"
     ]
    },
    {
     "name": "stdout",
     "output_type": "stream",
     "text": [
      "Epoch 420, Loss: 1993.7218, Recon: 1852.7634, KL: 140.9583\n"
     ]
    },
    {
     "name": "stderr",
     "output_type": "stream",
     "text": [
      "Epoch 421/500: 100%|█████████████████████████████████████████████████████████| 11/11 [00:00<00:00, 143.02it/s]\n"
     ]
    },
    {
     "name": "stdout",
     "output_type": "stream",
     "text": [
      "Epoch 421, Loss: 1993.0845, Recon: 1851.3428, KL: 141.7416\n"
     ]
    },
    {
     "name": "stderr",
     "output_type": "stream",
     "text": [
      "Epoch 422/500: 100%|█████████████████████████████████████████████████████████| 11/11 [00:00<00:00, 153.56it/s]\n"
     ]
    },
    {
     "name": "stdout",
     "output_type": "stream",
     "text": [
      "Epoch 422, Loss: 1989.4516, Recon: 1847.6958, KL: 141.7558\n"
     ]
    },
    {
     "name": "stderr",
     "output_type": "stream",
     "text": [
      "Epoch 423/500: 100%|█████████████████████████████████████████████████████████| 11/11 [00:00<00:00, 147.75it/s]\n"
     ]
    },
    {
     "name": "stdout",
     "output_type": "stream",
     "text": [
      "Epoch 423, Loss: 1987.5077, Recon: 1846.0579, KL: 141.4498\n"
     ]
    },
    {
     "name": "stderr",
     "output_type": "stream",
     "text": [
      "Epoch 424/500: 100%|█████████████████████████████████████████████████████████| 11/11 [00:00<00:00, 157.62it/s]\n"
     ]
    },
    {
     "name": "stdout",
     "output_type": "stream",
     "text": [
      "Epoch 424, Loss: 1984.5087, Recon: 1842.8096, KL: 141.6991\n"
     ]
    },
    {
     "name": "stderr",
     "output_type": "stream",
     "text": [
      "Epoch 425/500: 100%|█████████████████████████████████████████████████████████| 11/11 [00:00<00:00, 150.89it/s]\n"
     ]
    },
    {
     "name": "stdout",
     "output_type": "stream",
     "text": [
      "Epoch 425, Loss: 1983.9071, Recon: 1841.8188, KL: 142.0883\n"
     ]
    },
    {
     "name": "stderr",
     "output_type": "stream",
     "text": [
      "Epoch 426/500: 100%|█████████████████████████████████████████████████████████| 11/11 [00:00<00:00, 150.66it/s]\n"
     ]
    },
    {
     "name": "stdout",
     "output_type": "stream",
     "text": [
      "Epoch 426, Loss: 1982.3956, Recon: 1839.9548, KL: 142.4407\n"
     ]
    },
    {
     "name": "stderr",
     "output_type": "stream",
     "text": [
      "Epoch 427/500: 100%|█████████████████████████████████████████████████████████| 11/11 [00:00<00:00, 152.61it/s]\n"
     ]
    },
    {
     "name": "stdout",
     "output_type": "stream",
     "text": [
      "Epoch 427, Loss: 1980.4273, Recon: 1838.3378, KL: 142.0895\n"
     ]
    },
    {
     "name": "stderr",
     "output_type": "stream",
     "text": [
      "Epoch 428/500: 100%|█████████████████████████████████████████████████████████| 11/11 [00:00<00:00, 144.13it/s]\n"
     ]
    },
    {
     "name": "stdout",
     "output_type": "stream",
     "text": [
      "Epoch 428, Loss: 1980.9306, Recon: 1838.5842, KL: 142.3464\n"
     ]
    },
    {
     "name": "stderr",
     "output_type": "stream",
     "text": [
      "Epoch 429/500: 100%|█████████████████████████████████████████████████████████| 11/11 [00:00<00:00, 147.49it/s]\n"
     ]
    },
    {
     "name": "stdout",
     "output_type": "stream",
     "text": [
      "Epoch 429, Loss: 1978.5600, Recon: 1835.8946, KL: 142.6655\n"
     ]
    },
    {
     "name": "stderr",
     "output_type": "stream",
     "text": [
      "Epoch 430/500: 100%|█████████████████████████████████████████████████████████| 11/11 [00:00<00:00, 148.22it/s]\n"
     ]
    },
    {
     "name": "stdout",
     "output_type": "stream",
     "text": [
      "Epoch 430, Loss: 1976.9744, Recon: 1833.9095, KL: 143.0649\n"
     ]
    },
    {
     "name": "stderr",
     "output_type": "stream",
     "text": [
      "Epoch 431/500: 100%|█████████████████████████████████████████████████████████| 11/11 [00:00<00:00, 149.20it/s]\n"
     ]
    },
    {
     "name": "stdout",
     "output_type": "stream",
     "text": [
      "Epoch 431, Loss: 1973.6028, Recon: 1831.4536, KL: 142.1492\n"
     ]
    },
    {
     "name": "stderr",
     "output_type": "stream",
     "text": [
      "Epoch 432/500: 100%|█████████████████████████████████████████████████████████| 11/11 [00:00<00:00, 153.52it/s]\n"
     ]
    },
    {
     "name": "stdout",
     "output_type": "stream",
     "text": [
      "Epoch 432, Loss: 1971.4109, Recon: 1828.4081, KL: 143.0028\n"
     ]
    },
    {
     "name": "stderr",
     "output_type": "stream",
     "text": [
      "Epoch 433/500: 100%|█████████████████████████████████████████████████████████| 11/11 [00:00<00:00, 144.35it/s]\n"
     ]
    },
    {
     "name": "stdout",
     "output_type": "stream",
     "text": [
      "Epoch 433, Loss: 1968.8593, Recon: 1825.0775, KL: 143.7818\n"
     ]
    },
    {
     "name": "stderr",
     "output_type": "stream",
     "text": [
      "Epoch 434/500: 100%|█████████████████████████████████████████████████████████| 11/11 [00:00<00:00, 151.71it/s]\n"
     ]
    },
    {
     "name": "stdout",
     "output_type": "stream",
     "text": [
      "Epoch 434, Loss: 1969.6429, Recon: 1826.3064, KL: 143.3365\n"
     ]
    },
    {
     "name": "stderr",
     "output_type": "stream",
     "text": [
      "Epoch 435/500: 100%|█████████████████████████████████████████████████████████| 11/11 [00:00<00:00, 155.75it/s]\n"
     ]
    },
    {
     "name": "stdout",
     "output_type": "stream",
     "text": [
      "Epoch 435, Loss: 1967.5696, Recon: 1824.5350, KL: 143.0346\n"
     ]
    },
    {
     "name": "stderr",
     "output_type": "stream",
     "text": [
      "Epoch 436/500: 100%|█████████████████████████████████████████████████████████| 11/11 [00:00<00:00, 152.75it/s]\n"
     ]
    },
    {
     "name": "stdout",
     "output_type": "stream",
     "text": [
      "Epoch 436, Loss: 1964.4077, Recon: 1820.8376, KL: 143.5702\n"
     ]
    },
    {
     "name": "stderr",
     "output_type": "stream",
     "text": [
      "Epoch 437/500: 100%|█████████████████████████████████████████████████████████| 11/11 [00:00<00:00, 155.67it/s]\n"
     ]
    },
    {
     "name": "stdout",
     "output_type": "stream",
     "text": [
      "Epoch 437, Loss: 1963.6183, Recon: 1820.2747, KL: 143.3436\n"
     ]
    },
    {
     "name": "stderr",
     "output_type": "stream",
     "text": [
      "Epoch 438/500: 100%|█████████████████████████████████████████████████████████| 11/11 [00:00<00:00, 151.72it/s]\n"
     ]
    },
    {
     "name": "stdout",
     "output_type": "stream",
     "text": [
      "Epoch 438, Loss: 1960.7651, Recon: 1817.1804, KL: 143.5847\n"
     ]
    },
    {
     "name": "stderr",
     "output_type": "stream",
     "text": [
      "Epoch 439/500: 100%|█████████████████████████████████████████████████████████| 11/11 [00:00<00:00, 145.91it/s]\n"
     ]
    },
    {
     "name": "stdout",
     "output_type": "stream",
     "text": [
      "Epoch 439, Loss: 1958.4797, Recon: 1815.0584, KL: 143.4214\n"
     ]
    },
    {
     "name": "stderr",
     "output_type": "stream",
     "text": [
      "Epoch 440/500: 100%|█████████████████████████████████████████████████████████| 11/11 [00:00<00:00, 154.05it/s]\n"
     ]
    },
    {
     "name": "stdout",
     "output_type": "stream",
     "text": [
      "Epoch 440, Loss: 1957.3862, Recon: 1813.8344, KL: 143.5518\n"
     ]
    },
    {
     "name": "stderr",
     "output_type": "stream",
     "text": [
      "Epoch 441/500: 100%|█████████████████████████████████████████████████████████| 11/11 [00:00<00:00, 137.35it/s]\n"
     ]
    },
    {
     "name": "stdout",
     "output_type": "stream",
     "text": [
      "Epoch 441, Loss: 1956.5808, Recon: 1812.1787, KL: 144.4022\n"
     ]
    },
    {
     "name": "stderr",
     "output_type": "stream",
     "text": [
      "Epoch 442/500: 100%|█████████████████████████████████████████████████████████| 11/11 [00:00<00:00, 149.70it/s]\n"
     ]
    },
    {
     "name": "stdout",
     "output_type": "stream",
     "text": [
      "Epoch 442, Loss: 1952.4707, Recon: 1808.5302, KL: 143.9405\n"
     ]
    },
    {
     "name": "stderr",
     "output_type": "stream",
     "text": [
      "Epoch 443/500: 100%|█████████████████████████████████████████████████████████| 11/11 [00:00<00:00, 143.89it/s]\n"
     ]
    },
    {
     "name": "stdout",
     "output_type": "stream",
     "text": [
      "Epoch 443, Loss: 1952.5596, Recon: 1808.1915, KL: 144.3681\n"
     ]
    },
    {
     "name": "stderr",
     "output_type": "stream",
     "text": [
      "Epoch 444/500: 100%|█████████████████████████████████████████████████████████| 11/11 [00:00<00:00, 147.18it/s]\n"
     ]
    },
    {
     "name": "stdout",
     "output_type": "stream",
     "text": [
      "Epoch 444, Loss: 1950.9379, Recon: 1806.2684, KL: 144.6695\n"
     ]
    },
    {
     "name": "stderr",
     "output_type": "stream",
     "text": [
      "Epoch 445/500: 100%|█████████████████████████████████████████████████████████| 11/11 [00:00<00:00, 150.99it/s]\n"
     ]
    },
    {
     "name": "stdout",
     "output_type": "stream",
     "text": [
      "Epoch 445, Loss: 1949.3393, Recon: 1804.6997, KL: 144.6397\n"
     ]
    },
    {
     "name": "stderr",
     "output_type": "stream",
     "text": [
      "Epoch 446/500: 100%|█████████████████████████████████████████████████████████| 11/11 [00:00<00:00, 151.87it/s]\n"
     ]
    },
    {
     "name": "stdout",
     "output_type": "stream",
     "text": [
      "Epoch 446, Loss: 1950.2099, Recon: 1805.4687, KL: 144.7412\n"
     ]
    },
    {
     "name": "stderr",
     "output_type": "stream",
     "text": [
      "Epoch 447/500: 100%|█████████████████████████████████████████████████████████| 11/11 [00:00<00:00, 147.58it/s]\n"
     ]
    },
    {
     "name": "stdout",
     "output_type": "stream",
     "text": [
      "Epoch 447, Loss: 1949.8674, Recon: 1805.2993, KL: 144.5681\n"
     ]
    },
    {
     "name": "stderr",
     "output_type": "stream",
     "text": [
      "Epoch 448/500: 100%|█████████████████████████████████████████████████████████| 11/11 [00:00<00:00, 155.52it/s]\n"
     ]
    },
    {
     "name": "stdout",
     "output_type": "stream",
     "text": [
      "Epoch 448, Loss: 1944.8285, Recon: 1799.8045, KL: 145.0240\n"
     ]
    },
    {
     "name": "stderr",
     "output_type": "stream",
     "text": [
      "Epoch 449/500: 100%|█████████████████████████████████████████████████████████| 11/11 [00:00<00:00, 155.92it/s]\n"
     ]
    },
    {
     "name": "stdout",
     "output_type": "stream",
     "text": [
      "Epoch 449, Loss: 1945.5375, Recon: 1800.3543, KL: 145.1832\n"
     ]
    },
    {
     "name": "stderr",
     "output_type": "stream",
     "text": [
      "Epoch 450/500: 100%|█████████████████████████████████████████████████████████| 11/11 [00:00<00:00, 149.32it/s]\n"
     ]
    },
    {
     "name": "stdout",
     "output_type": "stream",
     "text": [
      "Epoch 450, Loss: 1944.6650, Recon: 1799.6186, KL: 145.0465\n"
     ]
    },
    {
     "name": "stderr",
     "output_type": "stream",
     "text": [
      "Epoch 451/500: 100%|█████████████████████████████████████████████████████████| 11/11 [00:00<00:00, 154.68it/s]\n"
     ]
    },
    {
     "name": "stdout",
     "output_type": "stream",
     "text": [
      "Epoch 451, Loss: 1942.5703, Recon: 1797.2329, KL: 145.3374\n"
     ]
    },
    {
     "name": "stderr",
     "output_type": "stream",
     "text": [
      "Epoch 452/500: 100%|█████████████████████████████████████████████████████████| 11/11 [00:00<00:00, 150.99it/s]\n"
     ]
    },
    {
     "name": "stdout",
     "output_type": "stream",
     "text": [
      "Epoch 452, Loss: 1941.4082, Recon: 1796.1912, KL: 145.2169\n"
     ]
    },
    {
     "name": "stderr",
     "output_type": "stream",
     "text": [
      "Epoch 453/500: 100%|█████████████████████████████████████████████████████████| 11/11 [00:00<00:00, 149.38it/s]\n"
     ]
    },
    {
     "name": "stdout",
     "output_type": "stream",
     "text": [
      "Epoch 453, Loss: 1937.3768, Recon: 1791.1415, KL: 146.2353\n"
     ]
    },
    {
     "name": "stderr",
     "output_type": "stream",
     "text": [
      "Epoch 454/500: 100%|█████████████████████████████████████████████████████████| 11/11 [00:00<00:00, 143.88it/s]\n"
     ]
    },
    {
     "name": "stdout",
     "output_type": "stream",
     "text": [
      "Epoch 454, Loss: 1937.9259, Recon: 1792.0535, KL: 145.8723\n"
     ]
    },
    {
     "name": "stderr",
     "output_type": "stream",
     "text": [
      "Epoch 455/500: 100%|█████████████████████████████████████████████████████████| 11/11 [00:00<00:00, 148.01it/s]\n"
     ]
    },
    {
     "name": "stdout",
     "output_type": "stream",
     "text": [
      "Epoch 455, Loss: 1931.6424, Recon: 1785.6028, KL: 146.0396\n"
     ]
    },
    {
     "name": "stderr",
     "output_type": "stream",
     "text": [
      "Epoch 456/500: 100%|█████████████████████████████████████████████████████████| 11/11 [00:00<00:00, 136.88it/s]\n"
     ]
    },
    {
     "name": "stdout",
     "output_type": "stream",
     "text": [
      "Epoch 456, Loss: 1932.9672, Recon: 1787.1475, KL: 145.8197\n"
     ]
    },
    {
     "name": "stderr",
     "output_type": "stream",
     "text": [
      "Epoch 457/500: 100%|█████████████████████████████████████████████████████████| 11/11 [00:00<00:00, 157.45it/s]\n"
     ]
    },
    {
     "name": "stdout",
     "output_type": "stream",
     "text": [
      "Epoch 457, Loss: 1931.6838, Recon: 1785.2805, KL: 146.4033\n"
     ]
    },
    {
     "name": "stderr",
     "output_type": "stream",
     "text": [
      "Epoch 458/500: 100%|█████████████████████████████████████████████████████████| 11/11 [00:00<00:00, 147.44it/s]\n"
     ]
    },
    {
     "name": "stdout",
     "output_type": "stream",
     "text": [
      "Epoch 458, Loss: 1929.3968, Recon: 1783.7593, KL: 145.6375\n"
     ]
    },
    {
     "name": "stderr",
     "output_type": "stream",
     "text": [
      "Epoch 459/500: 100%|█████████████████████████████████████████████████████████| 11/11 [00:00<00:00, 154.67it/s]\n"
     ]
    },
    {
     "name": "stdout",
     "output_type": "stream",
     "text": [
      "Epoch 459, Loss: 1924.5965, Recon: 1778.5916, KL: 146.0049\n"
     ]
    },
    {
     "name": "stderr",
     "output_type": "stream",
     "text": [
      "Epoch 460/500: 100%|█████████████████████████████████████████████████████████| 11/11 [00:00<00:00, 156.87it/s]\n"
     ]
    },
    {
     "name": "stdout",
     "output_type": "stream",
     "text": [
      "Epoch 460, Loss: 1924.8140, Recon: 1778.2261, KL: 146.5879\n"
     ]
    },
    {
     "name": "stderr",
     "output_type": "stream",
     "text": [
      "Epoch 461/500: 100%|█████████████████████████████████████████████████████████| 11/11 [00:00<00:00, 150.94it/s]\n"
     ]
    },
    {
     "name": "stdout",
     "output_type": "stream",
     "text": [
      "Epoch 461, Loss: 1926.2891, Recon: 1780.0700, KL: 146.2192\n"
     ]
    },
    {
     "name": "stderr",
     "output_type": "stream",
     "text": [
      "Epoch 462/500: 100%|█████████████████████████████████████████████████████████| 11/11 [00:00<00:00, 142.31it/s]\n"
     ]
    },
    {
     "name": "stdout",
     "output_type": "stream",
     "text": [
      "Epoch 462, Loss: 1925.5915, Recon: 1778.9255, KL: 146.6660\n"
     ]
    },
    {
     "name": "stderr",
     "output_type": "stream",
     "text": [
      "Epoch 463/500: 100%|█████████████████████████████████████████████████████████| 11/11 [00:00<00:00, 140.05it/s]\n"
     ]
    },
    {
     "name": "stdout",
     "output_type": "stream",
     "text": [
      "Epoch 463, Loss: 1922.8120, Recon: 1776.2177, KL: 146.5943\n"
     ]
    },
    {
     "name": "stderr",
     "output_type": "stream",
     "text": [
      "Epoch 464/500: 100%|█████████████████████████████████████████████████████████| 11/11 [00:00<00:00, 145.07it/s]\n"
     ]
    },
    {
     "name": "stdout",
     "output_type": "stream",
     "text": [
      "Epoch 464, Loss: 1921.2479, Recon: 1774.7094, KL: 146.5385\n"
     ]
    },
    {
     "name": "stderr",
     "output_type": "stream",
     "text": [
      "Epoch 465/500: 100%|█████████████████████████████████████████████████████████| 11/11 [00:00<00:00, 136.07it/s]\n"
     ]
    },
    {
     "name": "stdout",
     "output_type": "stream",
     "text": [
      "Epoch 465, Loss: 1915.2288, Recon: 1767.6482, KL: 147.5806\n"
     ]
    },
    {
     "name": "stderr",
     "output_type": "stream",
     "text": [
      "Epoch 466/500: 100%|█████████████████████████████████████████████████████████| 11/11 [00:00<00:00, 145.92it/s]\n"
     ]
    },
    {
     "name": "stdout",
     "output_type": "stream",
     "text": [
      "Epoch 466, Loss: 1912.6291, Recon: 1766.0191, KL: 146.6100\n"
     ]
    },
    {
     "name": "stderr",
     "output_type": "stream",
     "text": [
      "Epoch 467/500: 100%|█████████████████████████████████████████████████████████| 11/11 [00:00<00:00, 154.55it/s]\n"
     ]
    },
    {
     "name": "stdout",
     "output_type": "stream",
     "text": [
      "Epoch 467, Loss: 1913.1494, Recon: 1766.1210, KL: 147.0284\n"
     ]
    },
    {
     "name": "stderr",
     "output_type": "stream",
     "text": [
      "Epoch 468/500: 100%|█████████████████████████████████████████████████████████| 11/11 [00:00<00:00, 143.87it/s]\n"
     ]
    },
    {
     "name": "stdout",
     "output_type": "stream",
     "text": [
      "Epoch 468, Loss: 1914.3709, Recon: 1766.3385, KL: 148.0324\n"
     ]
    },
    {
     "name": "stderr",
     "output_type": "stream",
     "text": [
      "Epoch 469/500: 100%|█████████████████████████████████████████████████████████| 11/11 [00:00<00:00, 147.73it/s]\n"
     ]
    },
    {
     "name": "stdout",
     "output_type": "stream",
     "text": [
      "Epoch 469, Loss: 1912.7261, Recon: 1764.8635, KL: 147.8626\n"
     ]
    },
    {
     "name": "stderr",
     "output_type": "stream",
     "text": [
      "Epoch 470/500: 100%|█████████████████████████████████████████████████████████| 11/11 [00:00<00:00, 155.29it/s]\n"
     ]
    },
    {
     "name": "stdout",
     "output_type": "stream",
     "text": [
      "Epoch 470, Loss: 1911.8453, Recon: 1764.1656, KL: 147.6797\n"
     ]
    },
    {
     "name": "stderr",
     "output_type": "stream",
     "text": [
      "Epoch 471/500: 100%|█████████████████████████████████████████████████████████| 11/11 [00:00<00:00, 150.52it/s]\n"
     ]
    },
    {
     "name": "stdout",
     "output_type": "stream",
     "text": [
      "Epoch 471, Loss: 1911.7185, Recon: 1764.0423, KL: 147.6762\n"
     ]
    },
    {
     "name": "stderr",
     "output_type": "stream",
     "text": [
      "Epoch 472/500: 100%|█████████████████████████████████████████████████████████| 11/11 [00:00<00:00, 159.95it/s]\n"
     ]
    },
    {
     "name": "stdout",
     "output_type": "stream",
     "text": [
      "Epoch 472, Loss: 1907.2143, Recon: 1759.6922, KL: 147.5222\n"
     ]
    },
    {
     "name": "stderr",
     "output_type": "stream",
     "text": [
      "Epoch 473/500: 100%|█████████████████████████████████████████████████████████| 11/11 [00:00<00:00, 138.24it/s]\n"
     ]
    },
    {
     "name": "stdout",
     "output_type": "stream",
     "text": [
      "Epoch 473, Loss: 1905.5755, Recon: 1757.6846, KL: 147.8908\n"
     ]
    },
    {
     "name": "stderr",
     "output_type": "stream",
     "text": [
      "Epoch 474/500: 100%|█████████████████████████████████████████████████████████| 11/11 [00:00<00:00, 154.76it/s]\n"
     ]
    },
    {
     "name": "stdout",
     "output_type": "stream",
     "text": [
      "Epoch 474, Loss: 1904.8719, Recon: 1756.9602, KL: 147.9117\n"
     ]
    },
    {
     "name": "stderr",
     "output_type": "stream",
     "text": [
      "Epoch 475/500: 100%|█████████████████████████████████████████████████████████| 11/11 [00:00<00:00, 152.29it/s]\n"
     ]
    },
    {
     "name": "stdout",
     "output_type": "stream",
     "text": [
      "Epoch 475, Loss: 1902.7334, Recon: 1754.4109, KL: 148.3225\n"
     ]
    },
    {
     "name": "stderr",
     "output_type": "stream",
     "text": [
      "Epoch 476/500: 100%|█████████████████████████████████████████████████████████| 11/11 [00:00<00:00, 155.48it/s]\n"
     ]
    },
    {
     "name": "stdout",
     "output_type": "stream",
     "text": [
      "Epoch 476, Loss: 1902.5571, Recon: 1754.9658, KL: 147.5913\n"
     ]
    },
    {
     "name": "stderr",
     "output_type": "stream",
     "text": [
      "Epoch 477/500: 100%|█████████████████████████████████████████████████████████| 11/11 [00:00<00:00, 155.20it/s]\n"
     ]
    },
    {
     "name": "stdout",
     "output_type": "stream",
     "text": [
      "Epoch 477, Loss: 1900.6339, Recon: 1752.5223, KL: 148.1116\n"
     ]
    },
    {
     "name": "stderr",
     "output_type": "stream",
     "text": [
      "Epoch 478/500: 100%|█████████████████████████████████████████████████████████| 11/11 [00:00<00:00, 147.66it/s]\n"
     ]
    },
    {
     "name": "stdout",
     "output_type": "stream",
     "text": [
      "Epoch 478, Loss: 1897.2501, Recon: 1748.6845, KL: 148.5656\n"
     ]
    },
    {
     "name": "stderr",
     "output_type": "stream",
     "text": [
      "Epoch 479/500: 100%|█████████████████████████████████████████████████████████| 11/11 [00:00<00:00, 101.20it/s]\n"
     ]
    },
    {
     "name": "stdout",
     "output_type": "stream",
     "text": [
      "Epoch 479, Loss: 1894.1572, Recon: 1745.5217, KL: 148.6354\n"
     ]
    },
    {
     "name": "stderr",
     "output_type": "stream",
     "text": [
      "Epoch 480/500: 100%|█████████████████████████████████████████████████████████| 11/11 [00:00<00:00, 136.37it/s]\n"
     ]
    },
    {
     "name": "stdout",
     "output_type": "stream",
     "text": [
      "Epoch 480, Loss: 1892.0802, Recon: 1743.4549, KL: 148.6253\n"
     ]
    },
    {
     "name": "stderr",
     "output_type": "stream",
     "text": [
      "Epoch 481/500: 100%|█████████████████████████████████████████████████████████| 11/11 [00:00<00:00, 138.67it/s]\n"
     ]
    },
    {
     "name": "stdout",
     "output_type": "stream",
     "text": [
      "Epoch 481, Loss: 1890.1463, Recon: 1741.1559, KL: 148.9903\n"
     ]
    },
    {
     "name": "stderr",
     "output_type": "stream",
     "text": [
      "Epoch 482/500: 100%|█████████████████████████████████████████████████████████| 11/11 [00:00<00:00, 148.78it/s]\n"
     ]
    },
    {
     "name": "stdout",
     "output_type": "stream",
     "text": [
      "Epoch 482, Loss: 1888.4081, Recon: 1740.0886, KL: 148.3195\n"
     ]
    },
    {
     "name": "stderr",
     "output_type": "stream",
     "text": [
      "Epoch 483/500: 100%|█████████████████████████████████████████████████████████| 11/11 [00:00<00:00, 149.01it/s]\n"
     ]
    },
    {
     "name": "stdout",
     "output_type": "stream",
     "text": [
      "Epoch 483, Loss: 1887.2865, Recon: 1738.1729, KL: 149.1136\n"
     ]
    },
    {
     "name": "stderr",
     "output_type": "stream",
     "text": [
      "Epoch 484/500: 100%|█████████████████████████████████████████████████████████| 11/11 [00:00<00:00, 140.40it/s]\n"
     ]
    },
    {
     "name": "stdout",
     "output_type": "stream",
     "text": [
      "Epoch 484, Loss: 1888.3725, Recon: 1740.1106, KL: 148.2620\n"
     ]
    },
    {
     "name": "stderr",
     "output_type": "stream",
     "text": [
      "Epoch 485/500: 100%|█████████████████████████████████████████████████████████| 11/11 [00:00<00:00, 131.11it/s]\n"
     ]
    },
    {
     "name": "stdout",
     "output_type": "stream",
     "text": [
      "Epoch 485, Loss: 1887.6561, Recon: 1738.6303, KL: 149.0258\n"
     ]
    },
    {
     "name": "stderr",
     "output_type": "stream",
     "text": [
      "Epoch 486/500: 100%|█████████████████████████████████████████████████████████| 11/11 [00:00<00:00, 149.02it/s]\n"
     ]
    },
    {
     "name": "stdout",
     "output_type": "stream",
     "text": [
      "Epoch 486, Loss: 1884.6597, Recon: 1735.7679, KL: 148.8917\n"
     ]
    },
    {
     "name": "stderr",
     "output_type": "stream",
     "text": [
      "Epoch 487/500: 100%|█████████████████████████████████████████████████████████| 11/11 [00:00<00:00, 152.71it/s]\n"
     ]
    },
    {
     "name": "stdout",
     "output_type": "stream",
     "text": [
      "Epoch 487, Loss: 1879.0285, Recon: 1729.8889, KL: 149.1396\n"
     ]
    },
    {
     "name": "stderr",
     "output_type": "stream",
     "text": [
      "Epoch 488/500: 100%|█████████████████████████████████████████████████████████| 11/11 [00:00<00:00, 148.62it/s]\n"
     ]
    },
    {
     "name": "stdout",
     "output_type": "stream",
     "text": [
      "Epoch 488, Loss: 1877.9907, Recon: 1727.9985, KL: 149.9922\n"
     ]
    },
    {
     "name": "stderr",
     "output_type": "stream",
     "text": [
      "Epoch 489/500: 100%|█████████████████████████████████████████████████████████| 11/11 [00:00<00:00, 147.19it/s]\n"
     ]
    },
    {
     "name": "stdout",
     "output_type": "stream",
     "text": [
      "Epoch 489, Loss: 1875.8194, Recon: 1726.3929, KL: 149.4264\n"
     ]
    },
    {
     "name": "stderr",
     "output_type": "stream",
     "text": [
      "Epoch 490/500: 100%|█████████████████████████████████████████████████████████| 11/11 [00:00<00:00, 150.74it/s]\n"
     ]
    },
    {
     "name": "stdout",
     "output_type": "stream",
     "text": [
      "Epoch 490, Loss: 1876.3185, Recon: 1726.6561, KL: 149.6624\n"
     ]
    },
    {
     "name": "stderr",
     "output_type": "stream",
     "text": [
      "Epoch 491/500: 100%|█████████████████████████████████████████████████████████| 11/11 [00:00<00:00, 147.36it/s]\n"
     ]
    },
    {
     "name": "stdout",
     "output_type": "stream",
     "text": [
      "Epoch 491, Loss: 1874.8517, Recon: 1725.2844, KL: 149.5673\n"
     ]
    },
    {
     "name": "stderr",
     "output_type": "stream",
     "text": [
      "Epoch 492/500: 100%|█████████████████████████████████████████████████████████| 11/11 [00:00<00:00, 152.87it/s]\n"
     ]
    },
    {
     "name": "stdout",
     "output_type": "stream",
     "text": [
      "Epoch 492, Loss: 1872.3317, Recon: 1722.1775, KL: 150.1543\n"
     ]
    },
    {
     "name": "stderr",
     "output_type": "stream",
     "text": [
      "Epoch 493/500: 100%|█████████████████████████████████████████████████████████| 11/11 [00:00<00:00, 159.02it/s]\n"
     ]
    },
    {
     "name": "stdout",
     "output_type": "stream",
     "text": [
      "Epoch 493, Loss: 1871.5006, Recon: 1722.0691, KL: 149.4315\n"
     ]
    },
    {
     "name": "stderr",
     "output_type": "stream",
     "text": [
      "Epoch 494/500: 100%|█████████████████████████████████████████████████████████| 11/11 [00:00<00:00, 143.27it/s]\n"
     ]
    },
    {
     "name": "stdout",
     "output_type": "stream",
     "text": [
      "Epoch 494, Loss: 1870.3788, Recon: 1720.2854, KL: 150.0934\n"
     ]
    },
    {
     "name": "stderr",
     "output_type": "stream",
     "text": [
      "Epoch 495/500: 100%|█████████████████████████████████████████████████████████| 11/11 [00:00<00:00, 147.31it/s]\n"
     ]
    },
    {
     "name": "stdout",
     "output_type": "stream",
     "text": [
      "Epoch 495, Loss: 1870.2188, Recon: 1720.0925, KL: 150.1263\n"
     ]
    },
    {
     "name": "stderr",
     "output_type": "stream",
     "text": [
      "Epoch 496/500: 100%|█████████████████████████████████████████████████████████| 11/11 [00:00<00:00, 147.75it/s]\n"
     ]
    },
    {
     "name": "stdout",
     "output_type": "stream",
     "text": [
      "Epoch 496, Loss: 1869.6122, Recon: 1718.9948, KL: 150.6175\n"
     ]
    },
    {
     "name": "stderr",
     "output_type": "stream",
     "text": [
      "Epoch 497/500: 100%|█████████████████████████████████████████████████████████| 11/11 [00:00<00:00, 151.26it/s]\n"
     ]
    },
    {
     "name": "stdout",
     "output_type": "stream",
     "text": [
      "Epoch 497, Loss: 1867.6405, Recon: 1718.0169, KL: 149.6236\n"
     ]
    },
    {
     "name": "stderr",
     "output_type": "stream",
     "text": [
      "Epoch 498/500: 100%|█████████████████████████████████████████████████████████| 11/11 [00:00<00:00, 159.37it/s]\n"
     ]
    },
    {
     "name": "stdout",
     "output_type": "stream",
     "text": [
      "Epoch 498, Loss: 1866.0377, Recon: 1715.6786, KL: 150.3591\n"
     ]
    },
    {
     "name": "stderr",
     "output_type": "stream",
     "text": [
      "Epoch 499/500: 100%|█████████████████████████████████████████████████████████| 11/11 [00:00<00:00, 153.82it/s]\n"
     ]
    },
    {
     "name": "stdout",
     "output_type": "stream",
     "text": [
      "Epoch 499, Loss: 1860.9851, Recon: 1710.1101, KL: 150.8750\n"
     ]
    },
    {
     "name": "stderr",
     "output_type": "stream",
     "text": [
      "Epoch 500/500: 100%|█████████████████████████████████████████████████████████| 11/11 [00:00<00:00, 152.11it/s]"
     ]
    },
    {
     "name": "stdout",
     "output_type": "stream",
     "text": [
      "Epoch 500, Loss: 1859.1285, Recon: 1708.6863, KL: 150.4423\n"
     ]
    },
    {
     "name": "stderr",
     "output_type": "stream",
     "text": [
      "\n"
     ]
    }
   ],
   "source": [
    "# Set up model, optimizer, and device\n",
    "input_dim = X_tensor.shape[1]\n",
    "latent_dim = 10\n",
    "device = torch.device(\"cuda\" if torch.cuda.is_available() else \"cpu\")\n",
    "model = VAE(input_dim=input_dim, latent_dim=latent_dim)\n",
    "optimizer = torch.optim.Adam(model.parameters(), lr=LR)\n",
    "total_loss_hist, recon_loss_hist, kld_loss_hist = train_vae(model, dataloader, optimizer, device=device, epochs=500)"
   ]
  },
  {
   "cell_type": "code",
   "execution_count": 20,
   "id": "5980726a-8276-488e-af99-4514939f0ffe",
   "metadata": {},
   "outputs": [
    {
     "data": {
      "image/png": "[encoded data removed]",
      "text/plain": [
       "<Figure size 1000x600 with 1 Axes>"
      ]
     },
     "metadata": {},
     "output_type": "display_data"
    }
   ],
   "source": [
    "plt.figure(figsize=(10, 6))\n",
    "plt.plot(total_loss_hist, label='Total Loss')\n",
    "plt.plot(recon_loss_hist, label='Reconstruction Loss')\n",
    "plt.plot(kld_loss_hist, label='KL Divergence')\n",
    "plt.xlabel('Epoch')\n",
    "plt.ylabel('Loss')\n",
    "plt.title('VAE Loss Components Over Epochs')\n",
    "plt.legend()\n",
    "plt.grid(True)\n",
    "plt.tight_layout()\n",
    "plt.show()"
   ]
  },
  {
   "cell_type": "code",
   "execution_count": 23,
   "id": "3ea0788c-74e5-4b0c-8a1a-315cf7e2e80c",
   "metadata": {},
   "outputs": [
    {
     "name": "stdout",
     "output_type": "stream",
     "text": [
      "dim of latent mu: (331, 10)\n"
     ]
    },
    {
     "name": "stderr",
     "output_type": "stream",
     "text": [
      "/var/folders/br/nr4k1vxj1_j7jxk17x7xr8n9g2q0k8/T/ipykernel_90928/2362508139.py:5: UserWarning: To copy construct from a tensor, it is recommended to use sourceTensor.clone().detach() or sourceTensor.clone().detach().requires_grad_(True), rather than torch.tensor(sourceTensor).\n",
      "  x = torch.tensor(X_tensor[i], dtype=torch.float32).to(device).unsqueeze(0)\n"
     ]
    }
   ],
   "source": [
    "model.eval()\n",
    "with torch.no_grad():\n",
    "    mu_all = []\n",
    "    for i in range(X_tensor.shape[0]):\n",
    "        x = torch.tensor(X_tensor[i], dtype=torch.float32).to(device).unsqueeze(0)\n",
    "        mu, _ = model.encode(x)\n",
    "        mu_all.append(mu.cpu().numpy().flatten())\n",
    "mu_all = np.array(mu_all)\n",
    "print('dim of latent mu:', mu_all.shape)"
   ]
  },
  {
   "cell_type": "code",
   "execution_count": 24,
   "id": "0604b710-ebdc-4385-a292-f984174e93b3",
   "metadata": {},
   "outputs": [],
   "source": [
    "# 2d-TSNE\n",
    "z_2d = TSNE(n_components=2, perplexity=8).fit_transform(mu_all)"
   ]
  },
  {
   "cell_type": "code",
   "execution_count": 25,
   "id": "832b062a-441b-4422-be44-1a9f82ef1b43",
   "metadata": {},
   "outputs": [
    {
     "data": {
      "image/png": "[encoded data removed]",
      "text/plain": [
       "<Figure size 800x800 with 1 Axes>"
      ]
     },
     "metadata": {},
     "output_type": "display_data"
    }
   ],
   "source": [
    "# Map 'N' = 0 (Null), 'S' = 1 (Sham), 'C' = 2 (Real/cTBS)\n",
    "label_map = {'N': 0, 'S': 1, 'C': 2}\n",
    "y = np.array([label_map[t] for t in all_tms_type])\n",
    "y = np.array(y).flatten()\n",
    "unique_conds = np.unique(y)\n",
    "markers = ['o', 's', '*']\n",
    "cond_to_marker = {cond: markers[i] for i, cond in enumerate(unique_conds)}\n",
    "\n",
    "subject_array = np.array(all_subject_id)\n",
    "unique_subjects = np.unique(subject_array)\n",
    "subject_to_idx = {subj: i for i, subj in enumerate(unique_subjects)}\n",
    "subject_idx = np.array([subject_to_idx[subj] for subj in subject_array])\n",
    "\n",
    "palette = sns.color_palette(\"husl\", len(unique_subjects))  # 48 distinct hues\n",
    "subject_colors = np.array([palette[i] for i in subject_idx])\n",
    "\n",
    "# Plot each condition group with its marker and subject-based color\n",
    "fig, ax = plt.subplots(figsize=(8, 8))\n",
    "\n",
    "for cond in unique_conds:\n",
    "    mask = y == cond\n",
    "    ax.scatter(\n",
    "        z_2d[mask, 0],\n",
    "        z_2d[mask, 1],\n",
    "        marker=cond_to_marker[cond],\n",
    "        s=30, # marker size\n",
    "        c=subject_colors[mask],\n",
    "        label=f'Condition {cond}',\n",
    "        edgecolors='k',\n",
    "        alpha=0.5\n",
    "    )\n",
    "handles = [plt.Line2D([0], [0], marker=cond_to_marker[c], color='gray', linestyle='',\n",
    "                      label={0: 'Null', 1: 'Sham', 2: 'Real'}[c],\n",
    "                      markersize=5) for c in unique_conds]\n",
    "ax.legend(handles=handles, title='TMS Condition', loc='upper right')\n",
    "\n",
    "ax.set_title(\"VAE Latent space: Subject Color, Condition Marker\")\n",
    "ax.set_xlabel(\"t-SNE dim 1\")\n",
    "ax.set_ylabel(\"t-SNE dim 2\")\n",
    "plt.tight_layout()\n",
    "plt.show()"
   ]
  },
  {
   "cell_type": "code",
   "execution_count": 26,
   "id": "19323530-6b5b-46fb-9a95-46f3d55e0f77",
   "metadata": {},
   "outputs": [
    {
     "ename": "NameError",
     "evalue": "name 'SubInfo' is not defined",
     "output_type": "error",
     "traceback": [
      "\u001b[0;31m---------------------------------------------------------------------------\u001b[0m",
      "\u001b[0;31mNameError\u001b[0m                                 Traceback (most recent call last)",
      "Cell \u001b[0;32mIn[26], line 2\u001b[0m\n\u001b[1;32m      1\u001b[0m \u001b[38;5;66;03m# Create stimloc mapping\u001b[39;00m\n\u001b[0;32m----> 2\u001b[0m stimloc_map \u001b[38;5;241m=\u001b[39m \u001b[43mSubInfo\u001b[49m\u001b[38;5;241m.\u001b[39mset_index(\u001b[38;5;124m'\u001b[39m\u001b[38;5;124mSubID\u001b[39m\u001b[38;5;124m'\u001b[39m)[\u001b[38;5;124m'\u001b[39m\u001b[38;5;124mStimLoc\u001b[39m\u001b[38;5;124m'\u001b[39m]\u001b[38;5;241m.\u001b[39mto_dict()\n\u001b[1;32m      3\u001b[0m stimloc_array \u001b[38;5;241m=\u001b[39m np\u001b[38;5;241m.\u001b[39marray([stimloc_map[subj] \u001b[38;5;28;01mfor\u001b[39;00m subj \u001b[38;5;129;01min\u001b[39;00m subject_array])\n\u001b[1;32m      5\u001b[0m \u001b[38;5;66;03m# Split by stimloc\u001b[39;00m\n",
      "\u001b[0;31mNameError\u001b[0m: name 'SubInfo' is not defined"
     ]
    }
   ],
   "source": [
    "# Create stimloc mapping\n",
    "stimloc_map = SubInfo.set_index('SubID')['StimLoc'].to_dict()\n",
    "stimloc_array = np.array([stimloc_map[subj] for subj in subject_array])\n",
    "\n",
    "# Split by stimloc\n",
    "fig, axes = plt.subplots(2, 1, figsize=(7, 14), sharex=True, sharey=True)\n",
    "stimlocs = ['Anterior', 'Posterior']\n",
    "\n",
    "for i, loc in enumerate(stimlocs):\n",
    "    ax = axes[i]\n",
    "    ax.set_title(f\"StimLoc: {loc}\")\n",
    "\n",
    "    for cond in unique_conds:\n",
    "        mask = (y == cond) & (stimloc_array == loc)\n",
    "        ax.scatter(\n",
    "            z_2d[mask, 0],\n",
    "            z_2d[mask, 1],\n",
    "            marker=cond_to_marker[cond],\n",
    "            s=30,\n",
    "            c=subject_colors[mask],\n",
    "            label=f'Condition {cond}',\n",
    "            edgecolors='k',\n",
    "            alpha=0.5\n",
    "        )\n",
    "\n",
    "    handles = [plt.Line2D([0], [0], marker=cond_to_marker[c], color='gray', linestyle='',\n",
    "                          label={0: 'Null', 1: 'Sham', 2: 'Real'}[c],\n",
    "                          markersize=5) for c in unique_conds]\n",
    "    ax.legend(handles=handles, title='TMS Condition', loc='upper right')\n",
    "    ax.set_xlabel(\"t-SNE dim 1\")\n",
    "    ax.set_ylabel(\"t-SNE dim 2\")\n",
    "\n",
    "fig.suptitle(\"VAE Latent space split by StimLoc\", fontsize=16)\n",
    "plt.tight_layout()\n",
    "plt.show()\n"
   ]
  },
  {
   "cell_type": "code",
   "execution_count": 27,
   "id": "5cacdb6e-b847-462b-9aee-7169bfca5fe5",
   "metadata": {},
   "outputs": [
    {
     "data": {
      "image/png": "[encoded data removed]",
      "text/plain": [
       "<Figure size 1200x1600 with 48 Axes>"
      ]
     },
     "metadata": {},
     "output_type": "display_data"
    }
   ],
   "source": [
    "n_subjects = len(unique_subjects)\n",
    "n_cols = 6\n",
    "n_rows = int(np.ceil(n_subjects / n_cols))\n",
    "\n",
    "fig, axs = plt.subplots(n_rows, n_cols, figsize=(n_cols * 2, n_rows * 2), sharex=True, sharey=True)\n",
    "axs = axs.flatten()\n",
    "\n",
    "for i, subj in enumerate(unique_subjects):\n",
    "    ax = axs[i]\n",
    "    subj_mask = subject_array == subj\n",
    "    cond = y[subj_mask][0]  # assumes one condition per subject\n",
    "    marker = cond_to_marker[cond]\n",
    "    color = palette[subject_to_idx[subj]]\n",
    "\n",
    "    ax.scatter(\n",
    "        z_2d[subj_mask, 0],\n",
    "        z_2d[subj_mask, 1],\n",
    "        marker=marker,\n",
    "        s=20,\n",
    "        c=[color],\n",
    "        edgecolors='k',\n",
    "        alpha=0.5\n",
    "    )\n",
    "    ax.set_title(f'Subj {subj}', fontsize=8)\n",
    "    ax.grid(True)\n",
    "    ax.set_xticks([])\n",
    "    ax.set_yticks([])\n",
    "\n",
    "plt.suptitle(\"VAE Latent Space per Subject\\n(Marker=Condition, Color=Subject)\", fontsize=14)\n",
    "plt.tight_layout(rect=[0, 0, 1, 0.95])\n",
    "plt.show()\n"
   ]
  },
  {
   "cell_type": "code",
   "execution_count": 28,
   "id": "db76249a-6085-4b1d-869b-94f8b559d661",
   "metadata": {},
   "outputs": [
    {
     "ename": "NameError",
     "evalue": "name 'stimloc_map' is not defined",
     "output_type": "error",
     "traceback": [
      "\u001b[0;31m---------------------------------------------------------------------------\u001b[0m",
      "\u001b[0;31mNameError\u001b[0m                                 Traceback (most recent call last)",
      "Cell \u001b[0;32mIn[28], line 30\u001b[0m\n\u001b[1;32m     26\u001b[0m         d_0_1 \u001b[38;5;241m=\u001b[39m euclidean(means[\u001b[38;5;241m0\u001b[39m], means[\u001b[38;5;241m1\u001b[39m])\n\u001b[1;32m     27\u001b[0m         d_0_2 \u001b[38;5;241m=\u001b[39m euclidean(means[\u001b[38;5;241m0\u001b[39m], means[\u001b[38;5;241m2\u001b[39m])\n\u001b[1;32m     28\u001b[0m         results\u001b[38;5;241m.\u001b[39mappend({\n\u001b[1;32m     29\u001b[0m             \u001b[38;5;124m\"\u001b[39m\u001b[38;5;124msubject\u001b[39m\u001b[38;5;124m\"\u001b[39m: subj,\n\u001b[0;32m---> 30\u001b[0m             \u001b[38;5;124m\"\u001b[39m\u001b[38;5;124mstimloc\u001b[39m\u001b[38;5;124m\"\u001b[39m: \u001b[43mstimloc_map\u001b[49m[subj],\n\u001b[1;32m     31\u001b[0m             \u001b[38;5;124m\"\u001b[39m\u001b[38;5;124md_null_sham\u001b[39m\u001b[38;5;124m\"\u001b[39m: d_0_1,\n\u001b[1;32m     32\u001b[0m             \u001b[38;5;124m\"\u001b[39m\u001b[38;5;124md_null_real\u001b[39m\u001b[38;5;124m\"\u001b[39m: d_0_2,\n\u001b[1;32m     33\u001b[0m             \u001b[38;5;124m\"\u001b[39m\u001b[38;5;124mdiff_real_minus_sham\u001b[39m\u001b[38;5;124m\"\u001b[39m: d_0_2 \u001b[38;5;241m-\u001b[39m d_0_1\n\u001b[1;32m     34\u001b[0m         })\n\u001b[1;32m     36\u001b[0m \u001b[38;5;66;03m# Convert to DataFrame\u001b[39;00m\n\u001b[1;32m     37\u001b[0m df \u001b[38;5;241m=\u001b[39m pd\u001b[38;5;241m.\u001b[39mDataFrame(results)\n",
      "\u001b[0;31mNameError\u001b[0m: name 'stimloc_map' is not defined"
     ]
    }
   ],
   "source": [
    "# Prepare your data\n",
    "mu = np.array(mu_all)  # 331×10 latent variables\n",
    "y = np.array([label_map[t] for t in all_tms_type])\n",
    "subject_array = np.array(all_subject_id)\n",
    "unique_subjects = np.unique(subject_array)\n",
    "\n",
    "# Store per-subject distances\n",
    "results = []\n",
    "\n",
    "for subj in unique_subjects:\n",
    "    # Indices for this subject\n",
    "    idx = subject_array == subj\n",
    "    \n",
    "    mu_subj = mu[idx]\n",
    "    y_subj = y[idx]\n",
    "    \n",
    "    # Compute mean latent vectors for each condition (0, 1, 2)\n",
    "    means = {}\n",
    "    for cond in [0, 1, 2]:\n",
    "        cond_mu = mu_subj[y_subj == cond]\n",
    "        if len(cond_mu) > 0:\n",
    "            means[cond] = np.mean(cond_mu, axis=0)\n",
    "    \n",
    "    # Only compute distances if all three conditions are present\n",
    "    if all(c in means for c in [0, 1, 2]):\n",
    "        d_0_1 = euclidean(means[0], means[1])\n",
    "        d_0_2 = euclidean(means[0], means[2])\n",
    "        results.append({\n",
    "            \"subject\": subj,\n",
    "            \"stimloc\": stimloc_map[subj],\n",
    "            \"d_null_sham\": d_0_1,\n",
    "            \"d_null_real\": d_0_2,\n",
    "            \"diff_real_minus_sham\": d_0_2 - d_0_1\n",
    "        })\n",
    "\n",
    "# Convert to DataFrame\n",
    "df = pd.DataFrame(results)"
   ]
  },
  {
   "cell_type": "code",
   "execution_count": null,
   "id": "524bd67b-48fb-452e-a621-09e0b2cd4f53",
   "metadata": {},
   "outputs": [],
   "source": [
    "print(df)"
   ]
  },
  {
   "cell_type": "code",
   "execution_count": null,
   "id": "d0bb8fe7-7f80-40b4-b41f-8cbaa0652502",
   "metadata": {},
   "outputs": [],
   "source": [
    "# Print summary\n",
    "print(df.describe())"
   ]
  },
  {
   "cell_type": "code",
   "execution_count": null,
   "id": "76ea99d2-118f-429c-8bc3-bb00b5ad38f4",
   "metadata": {},
   "outputs": [],
   "source": [
    "# Melt the dataframe to long format for seaborn\n",
    "df_long = pd.melt(\n",
    "    df,\n",
    "    id_vars=[\"subject\", \"stimloc\"],\n",
    "    value_vars=[\"d_null_sham\", \"d_null_real\"],\n",
    "    var_name=\"Comparison\",\n",
    "    value_name=\"Distance\"\n",
    ")\n",
    "\n",
    "# Rename for better display\n",
    "df_long[\"Comparison\"] = df_long[\"Comparison\"].replace({\n",
    "    \"d_null_sham\": \"Null vs Sham\",\n",
    "    \"d_null_real\": \"Null vs Real\"\n",
    "})\n",
    "df_long"
   ]
  },
  {
   "cell_type": "code",
   "execution_count": null,
   "id": "74c48580-9a0f-423b-a240-10206bfd71f2",
   "metadata": {},
   "outputs": [],
   "source": [
    "df_long.groupby(['stimloc', 'Comparison'])['Distance'].mean()"
   ]
  },
  {
   "cell_type": "code",
   "execution_count": null,
   "id": "22de8fec-bded-4b59-807e-19c7c9ce7846",
   "metadata": {},
   "outputs": [],
   "source": [
    "plt.figure(figsize=(8, 5))\n",
    "sns.boxplot(data=df_long, x=\"Comparison\", y=\"Distance\", color=\"lightgray\", showfliers=False)\n",
    "\n",
    "# Overlay subject-level paired lines\n",
    "for subj in df[\"subject\"]:\n",
    "    subj_data = df_long[df_long[\"subject\"] == subj]\n",
    "    plt.plot(\n",
    "        subj_data[\"Comparison\"],\n",
    "        subj_data[\"Distance\"],\n",
    "        marker='o',\n",
    "        linestyle='-',\n",
    "        alpha=0.6,\n",
    "        color='blue'\n",
    "    )\n",
    "\n",
    "plt.title(\"Paired Distance Comparison per Subject\")\n",
    "plt.ylabel(\"Euclidean Distance\")\n",
    "plt.xlabel(\"\")\n",
    "plt.grid(axis='y', linestyle='--', alpha=0.5)\n",
    "plt.tight_layout()\n",
    "plt.show()"
   ]
  },
  {
   "cell_type": "code",
   "execution_count": null,
   "id": "80a4af86-7e46-42e6-883e-3c9c60981261",
   "metadata": {},
   "outputs": [],
   "source": [
    "# Paired t-test\n",
    "t_stat, p_val_t = ttest_rel(df[\"d_null_sham\"], df[\"d_null_real\"])\n",
    "print(f\"Paired t-test: t = {t_stat:.3f}, p = {p_val_t:.4f}\")\n",
    "\n",
    "# Optional: Non-parametric Wilcoxon signed-rank test\n",
    "try:\n",
    "    stat_w, p_val_w = wilcoxon(df[\"d_null_sham\"], df[\"d_null_real\"])\n",
    "    print(f\"Wilcoxon signed-rank test: W = {stat_w:.3f}, p = {p_val_w:.4f}\")\n",
    "except ValueError as e:\n",
    "    print(\"Wilcoxon test error:\", e)\n"
   ]
  },
  {
   "cell_type": "markdown",
   "id": "51330f29-4415-4aca-b077-2b2813a384c4",
   "metadata": {},
   "source": [
    "### if separating anterior and posterior group"
   ]
  },
  {
   "cell_type": "code",
   "execution_count": null,
   "id": "e48b8ceb-7e57-45f8-b1df-08622b0ed2e8",
   "metadata": {},
   "outputs": [],
   "source": [
    "stimlocs = ['Anterior', 'Posterior']\n",
    "fig, axes = plt.subplots(1, 2, figsize=(14, 5), sharey=True)\n",
    "\n",
    "for i, loc in enumerate(stimlocs):\n",
    "    ax = axes[i]\n",
    "    df_loc = df_long[df_long[\"stimloc\"] == loc]\n",
    "    \n",
    "    # Draw boxplot\n",
    "    sns.boxplot(data=df_loc, x=\"Comparison\", y=\"Distance\", color=\"lightgray\", showfliers=False, ax=ax)\n",
    "\n",
    "    # Draw lines for each subject\n",
    "    for subj in df_loc[\"subject\"].unique():\n",
    "        subj_data = df_loc[df_loc[\"subject\"] == subj]\n",
    "        ax.plot(\n",
    "            subj_data[\"Comparison\"],\n",
    "            subj_data[\"Distance\"],\n",
    "            marker='o',\n",
    "            linestyle='-',\n",
    "            alpha=0.6,\n",
    "            color='blue'\n",
    "        )\n",
    "\n",
    "    ax.set_title(f\"{loc} Subjects\")\n",
    "    ax.set_xlabel(\"\")\n",
    "    ax.grid(axis='y', linestyle='--', alpha=0.5)\n",
    "\n",
    "axes[0].set_ylabel(\"Euclidean Distance\")\n",
    "plt.suptitle(\"Paired Distance Comparison per Subject by StimLoc\", fontsize=14)\n",
    "plt.tight_layout()\n",
    "plt.show()\n"
   ]
  },
  {
   "cell_type": "code",
   "execution_count": null,
   "id": "94109dfc-5d89-4d17-a8af-55654ae5e72f",
   "metadata": {},
   "outputs": [],
   "source": [
    "for loc in ['Anterior', 'Posterior']:\n",
    "    df_loc = df[df['stimloc'] == loc]\n",
    "    \n",
    "    print(f\"\\n--- {loc} ---\")\n",
    "    \n",
    "    # Paired t-test\n",
    "    t_stat, p_val_t = ttest_rel(df_loc[\"d_null_sham\"], df_loc[\"d_null_real\"])\n",
    "    print(f\"Paired t-test: t = {t_stat:.3f}, p = {p_val_t:.4f}\")\n",
    "    \n",
    "    # Wilcoxon signed-rank test\n",
    "    try:\n",
    "        stat_w, p_val_w = wilcoxon(df_loc[\"d_null_sham\"], df_loc[\"d_null_real\"])\n",
    "        print(f\"Wilcoxon signed-rank test: W = {stat_w:.3f}, p = {p_val_w:.4f}\")\n",
    "    except ValueError as e:\n",
    "        print(\"Wilcoxon test error:\", e)\n"
   ]
  }
 ],
 "metadata": {
  "kernelspec": {
   "display_name": "Python 3 (ipykernel)",
   "language": "python",
   "name": "python3"
  },
  "language_info": {
   "codemirror_mode": {
    "name": "ipython",
    "version": 3
   },
   "file_extension": ".py",
   "mimetype": "text/x-python",
   "name": "python",
   "nbconvert_exporter": "python",
   "pygments_lexer": "ipython3",
   "version": "3.13.3"
  }
 },
 "nbformat": 4,
 "nbformat_minor": 5
}
