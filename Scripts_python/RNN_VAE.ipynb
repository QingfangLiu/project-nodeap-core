{
 "cells": [
  {
   "cell_type": "markdown",
   "id": "2733cc0d-7927-419b-ad6a-42ce381fe3cc",
   "metadata": {},
   "source": [
    "### model time series using LSTM or GRU\n",
    "* encoder summarizes time series into a latent vector\n",
    "* decoder reconstructs the time series from it"
   ]
  },
  {
   "cell_type": "code",
   "execution_count": null,
   "id": "4dafa6e1-aa7b-4331-a78d-20d812e2566a",
   "metadata": {},
   "outputs": [],
   "source": [
    "class RNNEncoder(nn.Module):\n",
    "    def __init__(self, input_size, hidden_size, latent_dim):\n",
    "        super().__init__()\n",
    "        self.rnn = nn.GRU(input_size, hidden_size, batch_first=True)\n",
    "        self.fc_mu = nn.Linear(hidden_size, latent_dim)\n",
    "        self.fc_logvar = nn.Linear(hidden_size, latent_dim)\n",
    "\n",
    "    def forward(self, x):  # x: (batch, T, N)\n",
    "        h_seq, h_last = self.rnn(x)\n",
    "        h = h_last[-1]  # final hidden state\n",
    "        return self.fc_mu(h), self.fc_logvar(h)\n"
   ]
  },
  {
   "cell_type": "code",
   "execution_count": null,
   "id": "49b68447-6823-40ed-8129-098bdd36f40f",
   "metadata": {},
   "outputs": [],
   "source": [
    "class RNNDecoder(nn.Module):\n",
    "    def __init__(self, latent_dim, hidden_size, output_size, seq_len):\n",
    "        super().__init__()\n",
    "        self.fc = nn.Linear(latent_dim, hidden_size)\n",
    "        self.rnn = nn.GRU(output_size, hidden_size, batch_first=True)\n",
    "        self.out = nn.Linear(hidden_size, output_size)\n",
    "        self.seq_len = seq_len\n",
    "\n",
    "    def forward(self, z):\n",
    "        h0 = self.fc(z).unsqueeze(0)  # (1, batch, hidden)\n",
    "        input_seq = torch.zeros(z.size(0), self.seq_len, output_size).to(z.device)\n",
    "        out, _ = self.rnn(input_seq, h0)\n",
    "        return self.out(out)  # (batch, T, N)\n"
   ]
  }
 ],
 "metadata": {
  "kernelspec": {
   "display_name": "Python 3 (ipykernel)",
   "language": "python",
   "name": "python3"
  },
  "language_info": {
   "codemirror_mode": {
    "name": "ipython",
    "version": 3
   },
   "file_extension": ".py",
   "mimetype": "text/x-python",
   "name": "python",
   "nbconvert_exporter": "python",
   "pygments_lexer": "ipython3",
   "version": "3.9.6"
  }
 },
 "nbformat": 4,
 "nbformat_minor": 5
}
