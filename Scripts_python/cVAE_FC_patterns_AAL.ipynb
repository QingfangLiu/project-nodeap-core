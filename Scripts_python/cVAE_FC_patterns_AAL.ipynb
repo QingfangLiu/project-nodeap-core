{
 "cells": [
  {
   "cell_type": "markdown",
   "id": "60068954-81bc-4682-85d1-adbfe301b900",
   "metadata": {},
   "source": [
    "### this script is trying to apply VAE to session-wise functional connectivity patterns\n",
    "#### this version added subject-level as one hot encoding"
   ]
  },
  {
   "cell_type": "code",
   "execution_count": 175,
   "id": "8004c283-162a-43f1-ae97-3d7c5dadcdb9",
   "metadata": {},
   "outputs": [],
   "source": [
    "import numpy as np\n",
    "from scipy.io import loadmat\n",
    "import nibabel as nib\n",
    "import pandas as pd\n",
    "import os\n",
    "from pathlib import Path\n",
    "import matplotlib.pyplot as plt"
   ]
  },
  {
   "cell_type": "code",
   "execution_count": 176,
   "id": "e63bf29d-56a8-4165-bccd-de3d8d15a8f1",
   "metadata": {},
   "outputs": [],
   "source": [
    "import torch\n",
    "import torch.nn as nn\n",
    "import torch.nn.functional as F"
   ]
  },
  {
   "cell_type": "code",
   "execution_count": 177,
   "id": "b2a3da6a-908c-4ce9-aea8-c471301acfaa",
   "metadata": {},
   "outputs": [],
   "source": [
    "from sklearn import datasets, svm\n",
    "from sklearn.feature_selection import SelectPercentile, f_classif\n",
    "from sklearn.pipeline import Pipeline\n",
    "from sklearn.preprocessing import StandardScaler\n",
    "from sklearn.svm import SVC\n",
    "from sklearn.inspection import DecisionBoundaryDisplay\n",
    "from sklearn.linear_model import LogisticRegression\n",
    "\n",
    "from sklearn.metrics import accuracy_score, classification_report\n",
    "from sklearn.metrics import confusion_matrix, ConfusionMatrixDisplay\n",
    "from sklearn.model_selection import cross_val_score\n",
    "from sklearn.model_selection import GroupKFold\n",
    "from sklearn.model_selection import train_test_split"
   ]
  },
  {
   "cell_type": "code",
   "execution_count": 178,
   "id": "ac1f6dd8-4bc6-422c-8577-8df2bb4e2cf4",
   "metadata": {},
   "outputs": [],
   "source": [
    "from sklearn.manifold import TSNE\n",
    "import umap.umap_ as umap"
   ]
  },
  {
   "cell_type": "code",
   "execution_count": 179,
   "id": "9c7b79d8-537a-436d-a1ef-e3e4249c92f0",
   "metadata": {},
   "outputs": [],
   "source": [
    "# Load subject info\n",
    "SubInfo = pd.read_excel('/Users/liuq13/NODEAP_scripts/ProcessedData/SubConds.xlsx')\n",
    "Subs = SubInfo[SubInfo['Include'] == 1]['SubID']\n",
    "n_subjects = len(Subs)"
   ]
  },
  {
   "cell_type": "code",
   "execution_count": 180,
   "id": "8c933ee8-bbff-42e9-99d5-60e53450ba69",
   "metadata": {},
   "outputs": [
    {
     "data": {
      "text/plain": [
       "48"
      ]
     },
     "execution_count": 180,
     "metadata": {},
     "output_type": "execute_result"
    }
   ],
   "source": [
    "n_subjects"
   ]
  },
  {
   "cell_type": "code",
   "execution_count": 181,
   "id": "38c63e29-594d-47d5-bd01-cdfd1bfd1bfb",
   "metadata": {},
   "outputs": [
    {
     "data": {
      "text/html": [
       "<div>\n",
       "<style scoped>\n",
       "    .dataframe tbody tr th:only-of-type {\n",
       "        vertical-align: middle;\n",
       "    }\n",
       "\n",
       "    .dataframe tbody tr th {\n",
       "        vertical-align: top;\n",
       "    }\n",
       "\n",
       "    .dataframe thead th {\n",
       "        text-align: right;\n",
       "    }\n",
       "</style>\n",
       "<table border=\"1\" class=\"dataframe\">\n",
       "  <thead>\n",
       "    <tr style=\"text-align: right;\">\n",
       "      <th></th>\n",
       "      <th>SubID</th>\n",
       "      <th>Gender</th>\n",
       "      <th>Birth.Year</th>\n",
       "      <th>StimLoc</th>\n",
       "      <th>StimOrder</th>\n",
       "      <th>Odors</th>\n",
       "      <th>StartOdor</th>\n",
       "      <th>Age</th>\n",
       "      <th>Sex</th>\n",
       "      <th>Include</th>\n",
       "      <th>btS1</th>\n",
       "      <th>btS2</th>\n",
       "      <th>btS3</th>\n",
       "      <th>btS1S2</th>\n",
       "      <th>btS2S3</th>\n",
       "    </tr>\n",
       "  </thead>\n",
       "  <tbody>\n",
       "    <tr>\n",
       "      <th>0</th>\n",
       "      <td>NODEAP_06</td>\n",
       "      <td>Male</td>\n",
       "      <td>1992</td>\n",
       "      <td>Posterior</td>\n",
       "      <td>321</td>\n",
       "      <td>Chocolate, Garlic</td>\n",
       "      <td>Sweet</td>\n",
       "      <td>30.83</td>\n",
       "      <td>M</td>\n",
       "      <td>1</td>\n",
       "      <td>1</td>\n",
       "      <td>1</td>\n",
       "      <td>1</td>\n",
       "      <td>13</td>\n",
       "      <td>15</td>\n",
       "    </tr>\n",
       "    <tr>\n",
       "      <th>1</th>\n",
       "      <td>NODEAP_07</td>\n",
       "      <td>Female</td>\n",
       "      <td>1991</td>\n",
       "      <td>Anterior</td>\n",
       "      <td>312</td>\n",
       "      <td>Pineapple, Pizza</td>\n",
       "      <td>Savory</td>\n",
       "      <td>32.01</td>\n",
       "      <td>F</td>\n",
       "      <td>1</td>\n",
       "      <td>1</td>\n",
       "      <td>1</td>\n",
       "      <td>1</td>\n",
       "      <td>20</td>\n",
       "      <td>13</td>\n",
       "    </tr>\n",
       "    <tr>\n",
       "      <th>2</th>\n",
       "      <td>NODEAP_08</td>\n",
       "      <td>Male</td>\n",
       "      <td>1996</td>\n",
       "      <td>Posterior</td>\n",
       "      <td>132</td>\n",
       "      <td>Chocolate, Garlic</td>\n",
       "      <td>Sweet</td>\n",
       "      <td>26.19</td>\n",
       "      <td>M</td>\n",
       "      <td>1</td>\n",
       "      <td>1</td>\n",
       "      <td>1</td>\n",
       "      <td>1</td>\n",
       "      <td>12</td>\n",
       "      <td>14</td>\n",
       "    </tr>\n",
       "    <tr>\n",
       "      <th>3</th>\n",
       "      <td>NODEAP_09</td>\n",
       "      <td>Female</td>\n",
       "      <td>2000</td>\n",
       "      <td>Posterior</td>\n",
       "      <td>321</td>\n",
       "      <td>Gingerbread, Garlic</td>\n",
       "      <td>Savory</td>\n",
       "      <td>22.32</td>\n",
       "      <td>F</td>\n",
       "      <td>1</td>\n",
       "      <td>1</td>\n",
       "      <td>1</td>\n",
       "      <td>1</td>\n",
       "      <td>14</td>\n",
       "      <td>27</td>\n",
       "    </tr>\n",
       "    <tr>\n",
       "      <th>4</th>\n",
       "      <td>NODEAP_10</td>\n",
       "      <td>Male</td>\n",
       "      <td>1999</td>\n",
       "      <td>Posterior</td>\n",
       "      <td>321</td>\n",
       "      <td>Chocolate, Garlic</td>\n",
       "      <td>Savory</td>\n",
       "      <td>23.62</td>\n",
       "      <td>M</td>\n",
       "      <td>1</td>\n",
       "      <td>1</td>\n",
       "      <td>1</td>\n",
       "      <td>1</td>\n",
       "      <td>13</td>\n",
       "      <td>12</td>\n",
       "    </tr>\n",
       "  </tbody>\n",
       "</table>\n",
       "</div>"
      ],
      "text/plain": [
       "       SubID  Gender  Birth.Year    StimLoc  StimOrder                 Odors  \\\n",
       "0  NODEAP_06    Male        1992  Posterior        321    Chocolate, Garlic    \n",
       "1  NODEAP_07  Female        1991   Anterior        312      Pineapple, Pizza   \n",
       "2  NODEAP_08    Male        1996  Posterior        132    Chocolate, Garlic    \n",
       "3  NODEAP_09  Female        2000  Posterior        321  Gingerbread, Garlic    \n",
       "4  NODEAP_10    Male        1999  Posterior        321    Chocolate, Garlic    \n",
       "\n",
       "  StartOdor    Age Sex  Include  btS1  btS2  btS3  btS1S2  btS2S3  \n",
       "0     Sweet  30.83   M        1     1     1     1      13      15  \n",
       "1    Savory  32.01   F        1     1     1     1      20      13  \n",
       "2     Sweet  26.19   M        1     1     1     1      12      14  \n",
       "3    Savory  22.32   F        1     1     1     1      14      27  \n",
       "4    Savory  23.62   M        1     1     1     1      13      12  "
      ]
     },
     "execution_count": 181,
     "metadata": {},
     "output_type": "execute_result"
    }
   ],
   "source": [
    "SubInfo.head()"
   ]
  },
  {
   "cell_type": "code",
   "execution_count": 182,
   "id": "14e433ec-0151-499e-a4be-920f81105014",
   "metadata": {},
   "outputs": [
    {
     "name": "stdout",
     "output_type": "stream",
     "text": [
      "<class 'pandas.core.frame.DataFrame'>\n",
      "RangeIndex: 48 entries, 0 to 47\n",
      "Data columns (total 15 columns):\n",
      " #   Column      Non-Null Count  Dtype  \n",
      "---  ------      --------------  -----  \n",
      " 0   SubID       48 non-null     object \n",
      " 1   Gender      48 non-null     object \n",
      " 2   Birth.Year  48 non-null     int64  \n",
      " 3   StimLoc     48 non-null     object \n",
      " 4   StimOrder   48 non-null     int64  \n",
      " 5   Odors       48 non-null     object \n",
      " 6   StartOdor   48 non-null     object \n",
      " 7   Age         48 non-null     float64\n",
      " 8   Sex         48 non-null     object \n",
      " 9   Include     48 non-null     int64  \n",
      " 10  btS1        48 non-null     int64  \n",
      " 11  btS2        48 non-null     int64  \n",
      " 12  btS3        48 non-null     int64  \n",
      " 13  btS1S2      48 non-null     int64  \n",
      " 14  btS2S3      48 non-null     int64  \n",
      "dtypes: float64(1), int64(8), object(6)\n",
      "memory usage: 5.8+ KB\n"
     ]
    }
   ],
   "source": [
    "SubInfo.info()"
   ]
  },
  {
   "cell_type": "code",
   "execution_count": 183,
   "id": "96b1f52e-cd09-4d5b-ac5b-61b5e929afe1",
   "metadata": {},
   "outputs": [],
   "source": [
    "TMS_types = []\n",
    "\n",
    "# Loop through each row and assign TMS types based on 'StimOrder'\n",
    "for i, row in SubInfo.iterrows():\n",
    "    tmp_order = row['StimOrder']\n",
    "    \n",
    "    # Assign TMS types based on the 'StimOrder' value\n",
    "    if tmp_order == 123:\n",
    "        TMS_types.append(['N', 'C', 'S', 'S', 'C', 'S', 'S'])\n",
    "    elif tmp_order == 132:\n",
    "        TMS_types.append(['N', 'C', 'S', 'S', 'S', 'S', 'C'])\n",
    "    elif tmp_order == 213:\n",
    "        TMS_types.append(['N', 'S', 'C', 'C', 'S', 'S', 'S'])\n",
    "    elif tmp_order == 231:\n",
    "        TMS_types.append(['N', 'S', 'C', 'S', 'S', 'C', 'S'])\n",
    "    elif tmp_order == 312:\n",
    "        TMS_types.append(['N', 'S', 'S', 'C', 'S', 'S', 'C'])\n",
    "    elif tmp_order == 321:\n",
    "        TMS_types.append(['N', 'S', 'S', 'S', 'C', 'C', 'S'])"
   ]
  },
  {
   "cell_type": "code",
   "execution_count": 184,
   "id": "b24545fb-3c69-4b66-ae66-0e21ca69508a",
   "metadata": {},
   "outputs": [],
   "source": [
    "base_nifti_folder = '/Volumes/X9Pro/NODEAP/FuncConn_AAL_PAID'\n",
    "sessions = ['D0', 'S1D1', 'S1D2', 'S2D1', 'S2D2', 'S3D1', 'S3D2']\n",
    "nifti_paths_by_tms_type = {'N': [], 'C': [], 'S': []}"
   ]
  },
  {
   "cell_type": "code",
   "execution_count": 185,
   "id": "11581da1-6e55-4e04-9cd6-3836142a9c83",
   "metadata": {},
   "outputs": [],
   "source": [
    "def vectorize_fc(fc_mat):\n",
    "    # Upper triangle, excluding diagonal\n",
    "    return fc_mat[np.triu_indices(fc_mat.shape[0], k=1)]"
   ]
  },
  {
   "cell_type": "code",
   "execution_count": 186,
   "id": "9d1bdbd8-8b64-4807-837e-154177584804",
   "metadata": {},
   "outputs": [
    {
     "name": "stdout",
     "output_type": "stream",
     "text": [
      "matfile not found: /Volumes/X9Pro/NODEAP/FuncConn_AAL_PAID/NODEAP_30/conn_matrix_S3D2.mat\n",
      "matfile not found: /Volumes/X9Pro/NODEAP/FuncConn_AAL_PAID/NODEAP_44/conn_matrix_S1D1.mat\n",
      "matfile not found: /Volumes/X9Pro/NODEAP/FuncConn_AAL_PAID/NODEAP_83/conn_matrix_S3D1.mat\n",
      "matfile not found: /Volumes/X9Pro/NODEAP/FuncConn_AAL_PAID/NODEAP_87/conn_matrix_D0.mat\n",
      "matfile not found: /Volumes/X9Pro/NODEAP/FuncConn_AAL_PAID/NODEAP_88/conn_matrix_D0.mat\n"
     ]
    }
   ],
   "source": [
    "all_corr_data = []\n",
    "all_tms_type = []\n",
    "all_subject_id = []\n",
    "\n",
    "for i, subject_id in enumerate(Subs):\n",
    "    tms_types = TMS_types[i]  \n",
    "    for j, session in enumerate(sessions):\n",
    "        mat_name = 'conn_matrix_' + session + '.mat'\n",
    "        mat_file = os.path.join(base_nifti_folder, subject_id, mat_name)\n",
    "        if os.path.exists(mat_file):\n",
    "            matdat = loadmat(mat_file)\n",
    "            dat_corr = matdat['correlation_matrix']  \n",
    "            dat_vec = vectorize_fc(dat_corr)  # <- vectorized\n",
    "            all_corr_data.append(dat_vec)\n",
    "            all_tms_type.append(tms_types[j])  # keep condition label\n",
    "            all_subject_id.append(subject_id)\n",
    "        else:\n",
    "            print(f\"matfile not found: {mat_file}\")"
   ]
  },
  {
   "cell_type": "code",
   "execution_count": 187,
   "id": "b0e21c07-d628-4739-a496-556978619731",
   "metadata": {},
   "outputs": [
    {
     "data": {
      "text/plain": [
       "(14365,)"
      ]
     },
     "execution_count": 187,
     "metadata": {},
     "output_type": "execute_result"
    }
   ],
   "source": [
    "dat_vec.shape"
   ]
  },
  {
   "cell_type": "code",
   "execution_count": 188,
   "id": "6119ea7c-d10b-4192-8e79-5db8353e39f2",
   "metadata": {},
   "outputs": [
    {
     "data": {
      "text/plain": [
       "(331, 14365)"
      ]
     },
     "execution_count": 188,
     "metadata": {},
     "output_type": "execute_result"
    }
   ],
   "source": [
    "X = np.array(all_corr_data)  # shape: (num_sessions, 14365)\n",
    "X.shape"
   ]
  },
  {
   "cell_type": "code",
   "execution_count": 189,
   "id": "3e60586b-d1be-496c-b3a5-b2d62f7e6fe0",
   "metadata": {},
   "outputs": [
    {
     "data": {
      "text/plain": [
       "(331,)"
      ]
     },
     "execution_count": 189,
     "metadata": {},
     "output_type": "execute_result"
    }
   ],
   "source": [
    "label_map = {'N': 0, 'S': 1, 'C': 2}\n",
    "y = np.array([label_map[t] for t in all_tms_type])\n",
    "y.shape"
   ]
  },
  {
   "cell_type": "code",
   "execution_count": 190,
   "id": "f388831a-b30d-4ecb-84f7-d3e88dd0d406",
   "metadata": {},
   "outputs": [
    {
     "data": {
      "text/plain": [
       "(331,)"
      ]
     },
     "execution_count": 190,
     "metadata": {},
     "output_type": "execute_result"
    }
   ],
   "source": [
    "from sklearn.preprocessing import LabelEncoder\n",
    "\n",
    "# Step 1a: convert subject strings to integers\n",
    "label_encoder = LabelEncoder()\n",
    "subject_ids_int = label_encoder.fit_transform(all_subject_id)  # shape (331,)\n",
    "subject_ids_int.shape"
   ]
  },
  {
   "cell_type": "code",
   "execution_count": 191,
   "id": "2604cc8a-2c4b-4eef-832c-c743d8ee61f6",
   "metadata": {},
   "outputs": [],
   "source": [
    "subject_ids_tensor = torch.tensor(subject_ids_int)\n",
    "subject_ids_onehot = F.one_hot(subject_ids_tensor, num_classes=48).float()"
   ]
  },
  {
   "cell_type": "code",
   "execution_count": 192,
   "id": "05e091d4-7c72-454a-ab1b-1d49e08b849a",
   "metadata": {},
   "outputs": [
    {
     "data": {
      "text/plain": [
       "torch.Size([331, 48])"
      ]
     },
     "execution_count": 192,
     "metadata": {},
     "output_type": "execute_result"
    }
   ],
   "source": [
    "subject_ids_onehot.shape"
   ]
  },
  {
   "cell_type": "code",
   "execution_count": 193,
   "id": "b5f0a2d4-a2ed-4087-9700-92c408b01473",
   "metadata": {},
   "outputs": [
    {
     "name": "stdout",
     "output_type": "stream",
     "text": [
      "Any NaN in X? True\n"
     ]
    }
   ],
   "source": [
    "print(\"Any NaN in X?\", np.isnan(X).any())"
   ]
  },
  {
   "cell_type": "code",
   "execution_count": 194,
   "id": "54cdb127-93c9-4c66-8936-ba773c25ede9",
   "metadata": {},
   "outputs": [
    {
     "name": "stdout",
     "output_type": "stream",
     "text": [
      "Columns with NaN: 999 / 14365\n",
      "X_clean shape: (331, 13366)\n",
      "Any NaNs in X_clean? False\n"
     ]
    }
   ],
   "source": [
    "nan_cols = np.isnan(X).any(axis=0)\n",
    "print(f\"Columns with NaN: {nan_cols.sum()} / {X.shape[1]}\")\n",
    "X_clean = X[:, ~nan_cols]\n",
    "\n",
    "print(\"X_clean shape:\", X_clean.shape)\n",
    "print(\"Any NaNs in X_clean?\", np.isnan(X_clean).any())\n"
   ]
  },
  {
   "cell_type": "code",
   "execution_count": 195,
   "id": "5fa1b955-2315-40bb-8f39-231a1d7231ab",
   "metadata": {},
   "outputs": [],
   "source": [
    "X = X_clean\n",
    "X = (X - X.mean(axis=0)) / (X.std(axis=0) + 1e-8)  # Standardize per feature"
   ]
  },
  {
   "cell_type": "code",
   "execution_count": 196,
   "id": "9dd74023-d3ee-4bd8-9262-6429d42c2e2c",
   "metadata": {},
   "outputs": [
    {
     "name": "stdout",
     "output_type": "stream",
     "text": [
      "input feature dimension: 13366\n",
      "latent dimension: 10\n"
     ]
    }
   ],
   "source": [
    "input_dim = X.shape[1]\n",
    "print('input feature dimension:',input_dim)\n",
    "latent_dim = 10\n",
    "print('latent dimension:',latent_dim)"
   ]
  },
  {
   "cell_type": "code",
   "execution_count": 197,
   "id": "5fc0f7f9-e7a5-4729-84a4-795b69387e0d",
   "metadata": {},
   "outputs": [],
   "source": [
    "from torch.utils.data import TensorDataset, DataLoader\n",
    "\n",
    "# convert numpy array X into a PyTorch tensor to be used in a neural network\n",
    "X_tensor = torch.tensor(X, dtype=torch.float32) \n",
    "# wrap the tensor into a dataset project for easy batching\n",
    "dataset = TensorDataset(X_tensor, subject_ids_tensor)\n",
    "# splits data into batches and handles shuffling\n",
    "dataloader = DataLoader(dataset, batch_size=32, shuffle=True)"
   ]
  },
  {
   "cell_type": "code",
   "execution_count": 202,
   "id": "17be3bcd-fcaa-4510-890d-87db46aa348c",
   "metadata": {},
   "outputs": [],
   "source": [
    "# define VAE functions\n",
    "\n",
    "class VAE(nn.Module):\n",
    "    def __init__(self, input_dim, latent_dim=10, n_subjects=48):\n",
    "        super(VAE, self).__init__()\n",
    "        self.fc1 = nn.Linear(input_dim + n_subjects, 256) \n",
    "        self.fc2_mu = nn.Linear(256, latent_dim)\n",
    "        self.fc2_logvar = nn.Linear(256, latent_dim)\n",
    "        self.fc3 = nn.Linear(latent_dim, 256)\n",
    "        self.fc4 = nn.Linear(256, input_dim)\n",
    "\n",
    "    def encode(self, x, subject_onehot):\n",
    "        x_cat = torch.cat([x, subject_onehot], dim=1)\n",
    "        h = F.relu(self.fc1(x_cat))\n",
    "        mu = self.fc2_mu(h)\n",
    "        logvar = self.fc2_logvar(h)\n",
    "        #logvar = torch.clamp(logvar, min=-10, max=10)  # Prevent NaNs\n",
    "        return mu, logvar\n",
    "\n",
    "    def reparameterize(self, mu, logvar):\n",
    "        std = torch.exp(0.5 * logvar)\n",
    "        eps = torch.randn_like(std)\n",
    "        return mu + eps * std\n",
    "\n",
    "    def decode(self, z):\n",
    "        h = F.relu(self.fc3(z))\n",
    "        return self.fc4(h)\n",
    "\n",
    "    def forward(self, x, subject_onehot):\n",
    "        mu, logvar = self.encode(x, subject_onehot)\n",
    "        z = self.reparameterize(mu, logvar)\n",
    "        return self.decode(z), mu, logvar"
   ]
  },
  {
   "cell_type": "code",
   "execution_count": 203,
   "id": "89bad9a0-fabb-4bb9-8689-0102d32409e6",
   "metadata": {},
   "outputs": [],
   "source": [
    "def vae_loss(recon_x, x, mu, logvar):\n",
    "    recon_loss = F.mse_loss(recon_x, x, reduction='sum') / x.size(0)\n",
    "    kld = -0.5 * torch.sum(1 + logvar - mu.pow(2) - logvar.exp()) / x.size(0)\n",
    "    total_loss = recon_loss + kld\n",
    "    return total_loss, recon_loss, kld"
   ]
  },
  {
   "cell_type": "code",
   "execution_count": 207,
   "id": "6a30a068-ee91-4025-ada3-bb747ed407d6",
   "metadata": {},
   "outputs": [
    {
     "name": "stdout",
     "output_type": "stream",
     "text": [
      "Epoch 001: Total Loss = 155837.38 | Recon = 155829.41 | KLD = 7.97\n",
      "Epoch 002: Total Loss = 153309.37 | Recon = 153290.85 | KLD = 18.52\n",
      "Epoch 003: Total Loss = 152009.13 | Recon = 151984.99 | KLD = 24.14\n",
      "Epoch 004: Total Loss = 151352.81 | Recon = 151321.14 | KLD = 31.67\n",
      "Epoch 005: Total Loss = 149068.96 | Recon = 149030.71 | KLD = 38.25\n",
      "Epoch 006: Total Loss = 148134.18 | Recon = 148087.44 | KLD = 46.75\n",
      "Epoch 007: Total Loss = 147949.24 | Recon = 147892.40 | KLD = 56.84\n",
      "Epoch 008: Total Loss = 153147.65 | Recon = 153080.46 | KLD = 67.20\n",
      "Epoch 009: Total Loss = 146912.51 | Recon = 146834.10 | KLD = 78.41\n",
      "Epoch 010: Total Loss = 146711.78 | Recon = 146620.17 | KLD = 91.61\n",
      "Epoch 011: Total Loss = 146038.34 | Recon = 145927.51 | KLD = 110.84\n",
      "Epoch 012: Total Loss = 143416.12 | Recon = 143283.80 | KLD = 132.33\n",
      "Epoch 013: Total Loss = 141570.25 | Recon = 141416.31 | KLD = 153.94\n",
      "Epoch 014: Total Loss = 140165.84 | Recon = 139986.37 | KLD = 179.47\n",
      "Epoch 015: Total Loss = 138577.11 | Recon = 138374.23 | KLD = 202.87\n",
      "Epoch 016: Total Loss = 136006.24 | Recon = 135779.28 | KLD = 226.97\n",
      "Epoch 017: Total Loss = 134083.48 | Recon = 133833.91 | KLD = 249.58\n",
      "Epoch 018: Total Loss = 132481.15 | Recon = 132209.32 | KLD = 271.83\n",
      "Epoch 019: Total Loss = 130360.83 | Recon = 130067.84 | KLD = 292.99\n",
      "Epoch 020: Total Loss = 128296.55 | Recon = 127989.67 | KLD = 306.88\n",
      "Epoch 021: Total Loss = 128221.36 | Recon = 127892.08 | KLD = 329.27\n",
      "Epoch 022: Total Loss = 126410.46 | Recon = 126061.10 | KLD = 349.36\n",
      "Epoch 023: Total Loss = 124329.62 | Recon = 123968.94 | KLD = 360.68\n",
      "Epoch 024: Total Loss = 123522.61 | Recon = 123146.78 | KLD = 375.83\n",
      "Epoch 025: Total Loss = 122196.73 | Recon = 121806.89 | KLD = 389.84\n",
      "Epoch 026: Total Loss = 121152.02 | Recon = 120747.28 | KLD = 404.74\n",
      "Epoch 027: Total Loss = 120025.51 | Recon = 119613.18 | KLD = 412.33\n",
      "Epoch 028: Total Loss = 119469.07 | Recon = 119043.41 | KLD = 425.66\n",
      "Epoch 029: Total Loss = 118058.92 | Recon = 117618.93 | KLD = 439.99\n",
      "Epoch 030: Total Loss = 117645.12 | Recon = 117191.26 | KLD = 453.86\n",
      "Epoch 031: Total Loss = 116872.38 | Recon = 116413.34 | KLD = 459.04\n",
      "Epoch 032: Total Loss = 116370.27 | Recon = 115900.52 | KLD = 469.76\n",
      "Epoch 033: Total Loss = 115036.89 | Recon = 114549.60 | KLD = 487.29\n",
      "Epoch 034: Total Loss = 115174.99 | Recon = 114676.30 | KLD = 498.69\n",
      "Epoch 035: Total Loss = 113446.38 | Recon = 112938.51 | KLD = 507.87\n",
      "Epoch 036: Total Loss = 113291.08 | Recon = 112775.18 | KLD = 515.90\n",
      "Epoch 037: Total Loss = 112487.55 | Recon = 111966.77 | KLD = 520.77\n",
      "Epoch 038: Total Loss = 112117.65 | Recon = 111582.82 | KLD = 534.84\n",
      "Epoch 039: Total Loss = 110926.97 | Recon = 110378.08 | KLD = 548.89\n",
      "Epoch 040: Total Loss = 110481.94 | Recon = 109918.99 | KLD = 562.95\n",
      "Epoch 041: Total Loss = 109781.61 | Recon = 109209.18 | KLD = 572.43\n",
      "Epoch 042: Total Loss = 109182.55 | Recon = 108604.63 | KLD = 577.92\n",
      "Epoch 043: Total Loss = 108986.15 | Recon = 108404.88 | KLD = 581.26\n",
      "Epoch 044: Total Loss = 108463.17 | Recon = 107870.99 | KLD = 592.18\n",
      "Epoch 045: Total Loss = 107671.07 | Recon = 107066.50 | KLD = 604.57\n",
      "Epoch 046: Total Loss = 107521.33 | Recon = 106919.81 | KLD = 601.52\n",
      "Epoch 047: Total Loss = 106134.55 | Recon = 105511.36 | KLD = 623.18\n",
      "Epoch 048: Total Loss = 106648.89 | Recon = 106010.52 | KLD = 638.37\n",
      "Epoch 049: Total Loss = 105384.40 | Recon = 104744.34 | KLD = 640.07\n",
      "Epoch 050: Total Loss = 105914.50 | Recon = 105276.65 | KLD = 637.86\n",
      "Epoch 051: Total Loss = 104522.95 | Recon = 103863.97 | KLD = 658.98\n",
      "Epoch 052: Total Loss = 104035.73 | Recon = 103350.19 | KLD = 685.54\n",
      "Epoch 053: Total Loss = 103491.97 | Recon = 102821.48 | KLD = 670.49\n",
      "Epoch 054: Total Loss = 103388.67 | Recon = 102707.79 | KLD = 680.88\n",
      "Epoch 055: Total Loss = 102415.04 | Recon = 101721.10 | KLD = 693.94\n",
      "Epoch 056: Total Loss = 101975.86 | Recon = 101211.02 | KLD = 764.85\n",
      "Epoch 057: Total Loss = 102146.78 | Recon = 101454.26 | KLD = 692.52\n",
      "Epoch 058: Total Loss = 102149.20 | Recon = 101420.25 | KLD = 728.95\n",
      "Epoch 059: Total Loss = 101702.94 | Recon = 100986.69 | KLD = 716.26\n",
      "Epoch 060: Total Loss = 100968.73 | Recon = 100229.88 | KLD = 738.85\n",
      "Epoch 061: Total Loss = 100853.06 | Recon = 100131.70 | KLD = 721.36\n",
      "Epoch 062: Total Loss = 100250.46 | Recon = 99497.62 | KLD = 752.84\n",
      "Epoch 063: Total Loss = 100154.91 | Recon = 99403.68 | KLD = 751.22\n",
      "Epoch 064: Total Loss = 99322.56 | Recon = 98563.78 | KLD = 758.79\n",
      "Epoch 065: Total Loss = 99176.12 | Recon = 98401.30 | KLD = 774.81\n",
      "Epoch 066: Total Loss = 98786.44 | Recon = 98000.22 | KLD = 786.22\n",
      "Epoch 067: Total Loss = 98181.70 | Recon = 97403.45 | KLD = 778.25\n",
      "Epoch 068: Total Loss = 97923.80 | Recon = 97125.14 | KLD = 798.67\n",
      "Epoch 069: Total Loss = 97844.40 | Recon = 97054.63 | KLD = 789.77\n",
      "Epoch 070: Total Loss = 97473.78 | Recon = 96670.62 | KLD = 803.17\n",
      "Epoch 071: Total Loss = 97334.21 | Recon = 96522.05 | KLD = 812.15\n",
      "Epoch 072: Total Loss = 97252.46 | Recon = 96428.68 | KLD = 823.78\n",
      "Epoch 073: Total Loss = 95967.49 | Recon = 95126.65 | KLD = 840.85\n",
      "Epoch 074: Total Loss = 96099.58 | Recon = 95263.70 | KLD = 835.88\n",
      "Epoch 075: Total Loss = 96422.82 | Recon = 95577.71 | KLD = 845.11\n",
      "Epoch 076: Total Loss = 95305.36 | Recon = 94448.49 | KLD = 856.87\n",
      "Epoch 077: Total Loss = 95593.76 | Recon = 94727.59 | KLD = 866.16\n",
      "Epoch 078: Total Loss = 94995.12 | Recon = 94126.20 | KLD = 868.92\n",
      "Epoch 079: Total Loss = 95111.04 | Recon = 94223.07 | KLD = 887.97\n",
      "Epoch 080: Total Loss = 94480.68 | Recon = 93591.09 | KLD = 889.60\n",
      "Epoch 081: Total Loss = 94464.91 | Recon = 93543.14 | KLD = 921.77\n",
      "Epoch 082: Total Loss = 94285.92 | Recon = 93366.64 | KLD = 919.28\n",
      "Epoch 083: Total Loss = 93450.07 | Recon = 92516.29 | KLD = 933.79\n",
      "Epoch 084: Total Loss = 93682.04 | Recon = 92761.64 | KLD = 920.40\n",
      "Epoch 085: Total Loss = 92999.99 | Recon = 92060.75 | KLD = 939.24\n",
      "Epoch 086: Total Loss = 93356.48 | Recon = 92404.42 | KLD = 952.07\n",
      "Epoch 087: Total Loss = 92961.02 | Recon = 92013.07 | KLD = 947.95\n",
      "Epoch 088: Total Loss = 92774.39 | Recon = 91819.94 | KLD = 954.46\n",
      "Epoch 089: Total Loss = 92215.31 | Recon = 91259.28 | KLD = 956.03\n",
      "Epoch 090: Total Loss = 91839.68 | Recon = 90871.04 | KLD = 968.65\n",
      "Epoch 091: Total Loss = 91786.91 | Recon = 90806.33 | KLD = 980.58\n",
      "Epoch 092: Total Loss = 91800.43 | Recon = 90808.46 | KLD = 991.96\n",
      "Epoch 093: Total Loss = 91350.22 | Recon = 90350.66 | KLD = 999.56\n",
      "Epoch 094: Total Loss = 90982.96 | Recon = 89976.54 | KLD = 1006.42\n",
      "Epoch 095: Total Loss = 91070.12 | Recon = 90047.38 | KLD = 1022.74\n",
      "Epoch 096: Total Loss = 90109.30 | Recon = 89087.61 | KLD = 1021.69\n",
      "Epoch 097: Total Loss = 90760.79 | Recon = 89727.81 | KLD = 1032.97\n",
      "Epoch 098: Total Loss = 89614.94 | Recon = 88565.00 | KLD = 1049.94\n",
      "Epoch 099: Total Loss = 89668.02 | Recon = 88620.93 | KLD = 1047.09\n",
      "Epoch 100: Total Loss = 89393.96 | Recon = 88342.34 | KLD = 1051.62\n",
      "Epoch 101: Total Loss = 88697.14 | Recon = 87618.60 | KLD = 1078.54\n",
      "Epoch 102: Total Loss = 89018.79 | Recon = 87961.35 | KLD = 1057.44\n",
      "Epoch 103: Total Loss = 88963.19 | Recon = 87883.94 | KLD = 1079.25\n",
      "Epoch 104: Total Loss = 88819.97 | Recon = 87739.38 | KLD = 1080.59\n",
      "Epoch 105: Total Loss = 88590.23 | Recon = 87507.43 | KLD = 1082.80\n",
      "Epoch 106: Total Loss = 88149.97 | Recon = 87060.17 | KLD = 1089.80\n",
      "Epoch 107: Total Loss = 87963.08 | Recon = 86871.22 | KLD = 1091.87\n",
      "Epoch 108: Total Loss = 87570.39 | Recon = 86466.38 | KLD = 1104.01\n",
      "Epoch 109: Total Loss = 87746.91 | Recon = 86623.93 | KLD = 1122.98\n",
      "Epoch 110: Total Loss = 87572.54 | Recon = 86434.90 | KLD = 1137.64\n",
      "Epoch 111: Total Loss = 87192.40 | Recon = 86069.76 | KLD = 1122.64\n",
      "Epoch 112: Total Loss = 87181.92 | Recon = 86052.48 | KLD = 1129.43\n",
      "Epoch 113: Total Loss = 87021.01 | Recon = 85870.22 | KLD = 1150.79\n",
      "Epoch 114: Total Loss = 86681.49 | Recon = 85541.24 | KLD = 1140.25\n",
      "Epoch 115: Total Loss = 86657.84 | Recon = 85505.12 | KLD = 1152.72\n",
      "Epoch 116: Total Loss = 85988.05 | Recon = 84811.90 | KLD = 1176.15\n",
      "Epoch 117: Total Loss = 85950.28 | Recon = 84756.81 | KLD = 1193.47\n",
      "Epoch 118: Total Loss = 85832.92 | Recon = 84570.32 | KLD = 1262.60\n",
      "Epoch 119: Total Loss = 85823.47 | Recon = 84638.55 | KLD = 1184.92\n",
      "Epoch 120: Total Loss = 85970.60 | Recon = 84778.83 | KLD = 1191.77\n",
      "Epoch 121: Total Loss = 85628.30 | Recon = 84456.22 | KLD = 1172.09\n",
      "Epoch 122: Total Loss = 85637.62 | Recon = 84430.50 | KLD = 1207.11\n",
      "Epoch 123: Total Loss = 84894.55 | Recon = 83711.23 | KLD = 1183.32\n",
      "Epoch 124: Total Loss = 85240.55 | Recon = 84036.75 | KLD = 1203.80\n",
      "Epoch 125: Total Loss = 84925.42 | Recon = 83722.07 | KLD = 1203.35\n",
      "Epoch 126: Total Loss = 84854.05 | Recon = 83648.63 | KLD = 1205.42\n",
      "Epoch 127: Total Loss = 84273.28 | Recon = 83050.61 | KLD = 1222.67\n",
      "Epoch 128: Total Loss = 84633.82 | Recon = 83402.81 | KLD = 1231.01\n",
      "Epoch 129: Total Loss = 83900.69 | Recon = 82569.48 | KLD = 1331.21\n",
      "Epoch 130: Total Loss = 84500.96 | Recon = 83249.96 | KLD = 1251.00\n",
      "Epoch 131: Total Loss = 83806.59 | Recon = 82555.61 | KLD = 1250.98\n",
      "Epoch 132: Total Loss = 83856.25 | Recon = 82606.06 | KLD = 1250.19\n",
      "Epoch 133: Total Loss = 83645.39 | Recon = 82408.20 | KLD = 1237.19\n",
      "Epoch 134: Total Loss = 83072.78 | Recon = 81819.59 | KLD = 1253.19\n",
      "Epoch 135: Total Loss = 83388.03 | Recon = 82125.05 | KLD = 1262.98\n",
      "Epoch 136: Total Loss = 82918.03 | Recon = 81656.70 | KLD = 1261.33\n",
      "Epoch 137: Total Loss = 83171.63 | Recon = 81888.58 | KLD = 1283.05\n",
      "Epoch 138: Total Loss = 82586.01 | Recon = 81309.58 | KLD = 1276.43\n",
      "Epoch 139: Total Loss = 83279.59 | Recon = 82008.67 | KLD = 1270.93\n",
      "Epoch 140: Total Loss = 82936.20 | Recon = 81645.88 | KLD = 1290.32\n",
      "Epoch 141: Total Loss = 82300.24 | Recon = 81013.29 | KLD = 1286.95\n",
      "Epoch 142: Total Loss = 82336.57 | Recon = 81041.63 | KLD = 1294.95\n",
      "Epoch 143: Total Loss = 82271.31 | Recon = 80984.07 | KLD = 1287.24\n",
      "Epoch 144: Total Loss = 82298.62 | Recon = 81002.74 | KLD = 1295.88\n",
      "Epoch 145: Total Loss = 81930.05 | Recon = 80613.69 | KLD = 1316.36\n",
      "Epoch 146: Total Loss = 82264.07 | Recon = 80962.96 | KLD = 1301.11\n",
      "Epoch 147: Total Loss = 81868.81 | Recon = 80546.83 | KLD = 1321.98\n",
      "Epoch 148: Total Loss = 81966.28 | Recon = 80645.88 | KLD = 1320.40\n",
      "Epoch 149: Total Loss = 81274.06 | Recon = 79930.02 | KLD = 1344.04\n",
      "Epoch 150: Total Loss = 81298.52 | Recon = 79975.47 | KLD = 1323.04\n",
      "Epoch 151: Total Loss = 81380.24 | Recon = 80043.64 | KLD = 1336.60\n",
      "Epoch 152: Total Loss = 81010.64 | Recon = 79674.42 | KLD = 1336.22\n",
      "Epoch 153: Total Loss = 80618.31 | Recon = 79263.88 | KLD = 1354.43\n",
      "Epoch 154: Total Loss = 81156.50 | Recon = 79827.93 | KLD = 1328.57\n",
      "Epoch 155: Total Loss = 80619.66 | Recon = 79263.85 | KLD = 1355.81\n",
      "Epoch 156: Total Loss = 80812.52 | Recon = 79465.29 | KLD = 1347.23\n",
      "Epoch 157: Total Loss = 80499.75 | Recon = 79153.49 | KLD = 1346.26\n",
      "Epoch 158: Total Loss = 80532.93 | Recon = 79187.69 | KLD = 1345.25\n",
      "Epoch 159: Total Loss = 80323.29 | Recon = 78960.10 | KLD = 1363.19\n",
      "Epoch 160: Total Loss = 80365.53 | Recon = 79016.33 | KLD = 1349.20\n",
      "Epoch 161: Total Loss = 80462.03 | Recon = 79095.23 | KLD = 1366.80\n",
      "Epoch 162: Total Loss = 80018.35 | Recon = 78647.29 | KLD = 1371.06\n",
      "Epoch 163: Total Loss = 79724.33 | Recon = 78356.97 | KLD = 1367.36\n",
      "Epoch 164: Total Loss = 79920.82 | Recon = 78556.38 | KLD = 1364.44\n",
      "Epoch 165: Total Loss = 79603.48 | Recon = 78236.80 | KLD = 1366.68\n",
      "Epoch 166: Total Loss = 79746.06 | Recon = 78372.69 | KLD = 1373.38\n",
      "Epoch 167: Total Loss = 79534.82 | Recon = 78150.63 | KLD = 1384.18\n",
      "Epoch 168: Total Loss = 79318.59 | Recon = 77917.87 | KLD = 1400.72\n",
      "Epoch 169: Total Loss = 79027.69 | Recon = 77627.00 | KLD = 1400.70\n",
      "Epoch 170: Total Loss = 78960.26 | Recon = 77572.07 | KLD = 1388.19\n",
      "Epoch 171: Total Loss = 79671.38 | Recon = 78275.23 | KLD = 1396.15\n",
      "Epoch 172: Total Loss = 79058.34 | Recon = 77673.38 | KLD = 1384.96\n",
      "Epoch 173: Total Loss = 79431.96 | Recon = 78031.25 | KLD = 1400.71\n",
      "Epoch 174: Total Loss = 79095.53 | Recon = 77691.63 | KLD = 1403.90\n",
      "Epoch 175: Total Loss = 79143.91 | Recon = 77753.46 | KLD = 1390.45\n",
      "Epoch 176: Total Loss = 78871.25 | Recon = 77459.13 | KLD = 1412.12\n",
      "Epoch 177: Total Loss = 78616.95 | Recon = 77192.51 | KLD = 1424.43\n",
      "Epoch 178: Total Loss = 78633.63 | Recon = 77119.39 | KLD = 1514.24\n",
      "Epoch 179: Total Loss = 78524.59 | Recon = 77103.46 | KLD = 1421.13\n",
      "Epoch 180: Total Loss = 78336.67 | Recon = 76919.33 | KLD = 1417.34\n",
      "Epoch 181: Total Loss = 78350.49 | Recon = 76938.82 | KLD = 1411.67\n",
      "Epoch 182: Total Loss = 78146.82 | Recon = 76720.06 | KLD = 1426.75\n",
      "Epoch 183: Total Loss = 77834.75 | Recon = 76397.31 | KLD = 1437.44\n",
      "Epoch 184: Total Loss = 77874.90 | Recon = 76437.16 | KLD = 1437.74\n",
      "Epoch 185: Total Loss = 77624.22 | Recon = 76208.90 | KLD = 1415.32\n",
      "Epoch 186: Total Loss = 78336.57 | Recon = 76915.17 | KLD = 1421.40\n",
      "Epoch 187: Total Loss = 77833.93 | Recon = 76392.23 | KLD = 1441.71\n",
      "Epoch 188: Total Loss = 77929.79 | Recon = 76488.49 | KLD = 1441.31\n",
      "Epoch 189: Total Loss = 77713.86 | Recon = 76276.30 | KLD = 1437.55\n",
      "Epoch 190: Total Loss = 77682.67 | Recon = 76224.21 | KLD = 1458.45\n",
      "Epoch 191: Total Loss = 77598.75 | Recon = 76152.59 | KLD = 1446.17\n",
      "Epoch 192: Total Loss = 77818.34 | Recon = 76369.29 | KLD = 1449.05\n",
      "Epoch 193: Total Loss = 77611.68 | Recon = 76157.56 | KLD = 1454.12\n",
      "Epoch 194: Total Loss = 77313.22 | Recon = 75876.94 | KLD = 1436.28\n",
      "Epoch 195: Total Loss = 77728.31 | Recon = 76274.59 | KLD = 1453.72\n",
      "Epoch 196: Total Loss = 77151.86 | Recon = 75709.23 | KLD = 1442.64\n",
      "Epoch 197: Total Loss = 76953.32 | Recon = 75510.59 | KLD = 1442.73\n",
      "Epoch 198: Total Loss = 77053.84 | Recon = 75609.83 | KLD = 1444.01\n",
      "Epoch 199: Total Loss = 76690.71 | Recon = 75234.27 | KLD = 1456.44\n",
      "Epoch 200: Total Loss = 76529.37 | Recon = 75033.63 | KLD = 1495.74\n"
     ]
    }
   ],
   "source": [
    "device = torch.device(\"cuda\" if torch.cuda.is_available() else \"cpu\")\n",
    "model = VAE(input_dim=input_dim, latent_dim=latent_dim, n_subjects=48).to(device)\n",
    "optimizer = torch.optim.Adam(model.parameters(), lr=1e-4)\n",
    "\n",
    "# Tracking loss over epochs\n",
    "loss_history = []\n",
    "recon_history = []\n",
    "kld_history = []\n",
    "\n",
    "# Training loop\n",
    "for epoch in range(200):\n",
    "    model.train()\n",
    "    total_loss = 0\n",
    "    total_recon = 0\n",
    "    total_kld = 0\n",
    "    \n",
    "    for batch_x, batch_subject_id in dataloader:\n",
    "        batch_x = batch_x.to(device)\n",
    "        batch_subject_id = batch_subject_id.to(device)\n",
    "        \n",
    "        # One-hot encode the subject IDs within the batch\n",
    "        subject_onehot = F.one_hot(batch_subject_id, num_classes=48).float().to(device)\n",
    "        \n",
    "        recon, mu, logvar = model(batch_x, subject_onehot)\n",
    "        loss, recon_loss, kld = vae_loss(recon, batch_x, mu, logvar)\n",
    "        \n",
    "        optimizer.zero_grad()\n",
    "        loss.backward()\n",
    "        optimizer.step()\n",
    "\n",
    "        total_loss += loss.item()\n",
    "        total_recon += recon_loss.item()\n",
    "        total_kld += kld.item()\n",
    "\n",
    "    loss_history.append(total_loss)\n",
    "    recon_history.append(total_recon)\n",
    "    kld_history.append(total_kld)\n",
    "    \n",
    "    print(f\"Epoch {epoch+1:03d}: Total Loss = {total_loss:.2f} | Recon = {total_recon:.2f} | KLD = {total_kld:.2f}\")"
   ]
  },
  {
   "cell_type": "code",
   "execution_count": 208,
   "id": "f9b5eb12-2f67-4f52-956e-5e698b4ea7c9",
   "metadata": {},
   "outputs": [
    {
     "data": {
      "image/png": "[encoded data removed]",
      "text/plain": [
       "<Figure size 1000x600 with 1 Axes>"
      ]
     },
     "metadata": {},
     "output_type": "display_data"
    }
   ],
   "source": [
    "plt.figure(figsize=(10, 6))\n",
    "plt.plot(loss_history, label='Total Loss')\n",
    "plt.plot(recon_history, label='Reconstruction Loss')\n",
    "plt.plot(kld_history, label='KL Divergence')\n",
    "plt.xlabel('Epoch')\n",
    "plt.ylabel('Loss')\n",
    "plt.title('VAE Training Loss Curves')\n",
    "plt.legend()\n",
    "plt.grid(True)\n",
    "plt.tight_layout()\n",
    "plt.show()\n"
   ]
  },
  {
   "cell_type": "code",
   "execution_count": 210,
   "id": "87001f7f-a945-43e6-91c5-d28ee179ad6a",
   "metadata": {},
   "outputs": [
    {
     "data": {
      "text/plain": [
       "(331, 10)"
      ]
     },
     "execution_count": 210,
     "metadata": {},
     "output_type": "execute_result"
    }
   ],
   "source": [
    "model.eval()\n",
    "with torch.no_grad():\n",
    "    mu_all = []\n",
    "    for i in range(X.shape[0]):\n",
    "        x = torch.tensor(X[i], dtype=torch.float32).unsqueeze(0).to(device)  # shape: [1, input_dim]\n",
    "\n",
    "        subj_id = subject_ids_int[i]  # integer from 0 to 47\n",
    "        subj_onehot = F.one_hot(torch.tensor([subj_id]), num_classes=48).float().to(device)  # shape: [1, 48]\n",
    "\n",
    "        mu, _ = model.encode(x, subj_onehot)\n",
    "        mu_all.append(mu.cpu().numpy().flatten())\n",
    "\n",
    "mu_all = np.array(mu_all)\n",
    "mu_all.shape\n"
   ]
  },
  {
   "cell_type": "code",
   "execution_count": 211,
   "id": "8ffe1814-91f8-4000-bc83-a4623aafd81d",
   "metadata": {},
   "outputs": [],
   "source": [
    "real_idx = (y == 2)\n",
    "sham_idx = (y == 1)\n",
    "\n",
    "mu_real = mu_all[real_idx]\n",
    "mu_sham = mu_all[sham_idx]"
   ]
  },
  {
   "cell_type": "code",
   "execution_count": 212,
   "id": "0cc39f58-4042-4691-a86d-d86106613068",
   "metadata": {},
   "outputs": [
    {
     "data": {
      "text/plain": [
       "(331, 2)"
      ]
     },
     "execution_count": 212,
     "metadata": {},
     "output_type": "execute_result"
    }
   ],
   "source": [
    "# reduce to 2d using TSNE for plotting\n",
    "z_2d = TSNE(n_components=2, perplexity=10).fit_transform(mu_all)\n",
    "z_2d.shape"
   ]
  },
  {
   "cell_type": "code",
   "execution_count": 213,
   "id": "b20a5de8-5f1b-4479-bb8b-f84a232ddb0c",
   "metadata": {},
   "outputs": [
    {
     "data": {
      "image/png": "[encoded data removed]",
      "text/plain": [
       "<Figure size 1000x800 with 2 Axes>"
      ]
     },
     "metadata": {},
     "output_type": "display_data"
    }
   ],
   "source": [
    "plt.figure(figsize=(10, 8))\n",
    "scatter = plt.scatter(z_2d[:, 0], z_2d[:, 1], c=y, cmap='coolwarm', alpha=0.7)\n",
    "\n",
    "# Add subject ID labels\n",
    "for i, sid in enumerate(subject_ids_int):\n",
    "    plt.text(z_2d[i, 0], z_2d[i, 1], str(sid), fontsize=6, alpha=0.6)\n",
    "    \n",
    "plt.title(\"VAE latent space (t-SNE)\")\n",
    "plt.colorbar(scatter, ticks=[0, 1, 2], label='TMS Condition')\n",
    "plt.clim(-0.5, 2.5)\n",
    "plt.xlabel('t-SNE dim 1'); plt.ylabel('t-SNE dim 2')\n",
    "plt.show()"
   ]
  },
  {
   "cell_type": "code",
   "execution_count": 214,
   "id": "23445367-fdf2-4cce-a312-53cc3f0af090",
   "metadata": {},
   "outputs": [
    {
     "data": {
      "text/html": [
       "<div>\n",
       "<style scoped>\n",
       "    .dataframe tbody tr th:only-of-type {\n",
       "        vertical-align: middle;\n",
       "    }\n",
       "\n",
       "    .dataframe tbody tr th {\n",
       "        vertical-align: top;\n",
       "    }\n",
       "\n",
       "    .dataframe thead th {\n",
       "        text-align: right;\n",
       "    }\n",
       "</style>\n",
       "<table border=\"1\" class=\"dataframe\">\n",
       "  <thead>\n",
       "    <tr style=\"text-align: right;\">\n",
       "      <th></th>\n",
       "      <th>tSNE_1</th>\n",
       "      <th>tSNE_2</th>\n",
       "      <th>TMS_condition</th>\n",
       "      <th>Subject_ID</th>\n",
       "    </tr>\n",
       "  </thead>\n",
       "  <tbody>\n",
       "    <tr>\n",
       "      <th>0</th>\n",
       "      <td>9.367203</td>\n",
       "      <td>8.293953</td>\n",
       "      <td>N</td>\n",
       "      <td>NODEAP_06</td>\n",
       "    </tr>\n",
       "    <tr>\n",
       "      <th>1</th>\n",
       "      <td>10.594716</td>\n",
       "      <td>8.498052</td>\n",
       "      <td>S</td>\n",
       "      <td>NODEAP_06</td>\n",
       "    </tr>\n",
       "    <tr>\n",
       "      <th>2</th>\n",
       "      <td>10.866089</td>\n",
       "      <td>9.700957</td>\n",
       "      <td>S</td>\n",
       "      <td>NODEAP_06</td>\n",
       "    </tr>\n",
       "    <tr>\n",
       "      <th>3</th>\n",
       "      <td>10.942617</td>\n",
       "      <td>8.684439</td>\n",
       "      <td>S</td>\n",
       "      <td>NODEAP_06</td>\n",
       "    </tr>\n",
       "    <tr>\n",
       "      <th>4</th>\n",
       "      <td>11.055099</td>\n",
       "      <td>8.717936</td>\n",
       "      <td>C</td>\n",
       "      <td>NODEAP_06</td>\n",
       "    </tr>\n",
       "    <tr>\n",
       "      <th>5</th>\n",
       "      <td>10.211733</td>\n",
       "      <td>8.768853</td>\n",
       "      <td>C</td>\n",
       "      <td>NODEAP_06</td>\n",
       "    </tr>\n",
       "    <tr>\n",
       "      <th>6</th>\n",
       "      <td>9.985385</td>\n",
       "      <td>8.415389</td>\n",
       "      <td>S</td>\n",
       "      <td>NODEAP_06</td>\n",
       "    </tr>\n",
       "    <tr>\n",
       "      <th>7</th>\n",
       "      <td>-10.875456</td>\n",
       "      <td>6.361269</td>\n",
       "      <td>N</td>\n",
       "      <td>NODEAP_07</td>\n",
       "    </tr>\n",
       "    <tr>\n",
       "      <th>8</th>\n",
       "      <td>-9.616278</td>\n",
       "      <td>6.536669</td>\n",
       "      <td>S</td>\n",
       "      <td>NODEAP_07</td>\n",
       "    </tr>\n",
       "    <tr>\n",
       "      <th>9</th>\n",
       "      <td>-8.863041</td>\n",
       "      <td>3.639637</td>\n",
       "      <td>S</td>\n",
       "      <td>NODEAP_07</td>\n",
       "    </tr>\n",
       "    <tr>\n",
       "      <th>10</th>\n",
       "      <td>-9.500751</td>\n",
       "      <td>5.810722</td>\n",
       "      <td>C</td>\n",
       "      <td>NODEAP_07</td>\n",
       "    </tr>\n",
       "    <tr>\n",
       "      <th>11</th>\n",
       "      <td>-11.553067</td>\n",
       "      <td>-19.388275</td>\n",
       "      <td>S</td>\n",
       "      <td>NODEAP_07</td>\n",
       "    </tr>\n",
       "    <tr>\n",
       "      <th>12</th>\n",
       "      <td>-9.097962</td>\n",
       "      <td>5.788876</td>\n",
       "      <td>S</td>\n",
       "      <td>NODEAP_07</td>\n",
       "    </tr>\n",
       "    <tr>\n",
       "      <th>13</th>\n",
       "      <td>-9.954161</td>\n",
       "      <td>6.336104</td>\n",
       "      <td>C</td>\n",
       "      <td>NODEAP_07</td>\n",
       "    </tr>\n",
       "    <tr>\n",
       "      <th>14</th>\n",
       "      <td>-0.261980</td>\n",
       "      <td>1.487178</td>\n",
       "      <td>N</td>\n",
       "      <td>NODEAP_08</td>\n",
       "    </tr>\n",
       "    <tr>\n",
       "      <th>15</th>\n",
       "      <td>-0.464839</td>\n",
       "      <td>1.850399</td>\n",
       "      <td>C</td>\n",
       "      <td>NODEAP_08</td>\n",
       "    </tr>\n",
       "    <tr>\n",
       "      <th>16</th>\n",
       "      <td>-0.627840</td>\n",
       "      <td>2.119234</td>\n",
       "      <td>S</td>\n",
       "      <td>NODEAP_08</td>\n",
       "    </tr>\n",
       "    <tr>\n",
       "      <th>17</th>\n",
       "      <td>-1.154510</td>\n",
       "      <td>2.204309</td>\n",
       "      <td>S</td>\n",
       "      <td>NODEAP_08</td>\n",
       "    </tr>\n",
       "    <tr>\n",
       "      <th>18</th>\n",
       "      <td>-1.150168</td>\n",
       "      <td>1.619284</td>\n",
       "      <td>S</td>\n",
       "      <td>NODEAP_08</td>\n",
       "    </tr>\n",
       "    <tr>\n",
       "      <th>19</th>\n",
       "      <td>-1.731351</td>\n",
       "      <td>1.863847</td>\n",
       "      <td>S</td>\n",
       "      <td>NODEAP_08</td>\n",
       "    </tr>\n",
       "    <tr>\n",
       "      <th>20</th>\n",
       "      <td>-1.630567</td>\n",
       "      <td>1.373568</td>\n",
       "      <td>C</td>\n",
       "      <td>NODEAP_08</td>\n",
       "    </tr>\n",
       "    <tr>\n",
       "      <th>21</th>\n",
       "      <td>-6.210595</td>\n",
       "      <td>36.344913</td>\n",
       "      <td>N</td>\n",
       "      <td>NODEAP_09</td>\n",
       "    </tr>\n",
       "    <tr>\n",
       "      <th>22</th>\n",
       "      <td>-6.677527</td>\n",
       "      <td>36.730797</td>\n",
       "      <td>S</td>\n",
       "      <td>NODEAP_09</td>\n",
       "    </tr>\n",
       "    <tr>\n",
       "      <th>23</th>\n",
       "      <td>-6.510080</td>\n",
       "      <td>37.310776</td>\n",
       "      <td>S</td>\n",
       "      <td>NODEAP_09</td>\n",
       "    </tr>\n",
       "    <tr>\n",
       "      <th>24</th>\n",
       "      <td>-5.968878</td>\n",
       "      <td>36.928986</td>\n",
       "      <td>S</td>\n",
       "      <td>NODEAP_09</td>\n",
       "    </tr>\n",
       "    <tr>\n",
       "      <th>25</th>\n",
       "      <td>-5.984025</td>\n",
       "      <td>36.414455</td>\n",
       "      <td>C</td>\n",
       "      <td>NODEAP_09</td>\n",
       "    </tr>\n",
       "    <tr>\n",
       "      <th>26</th>\n",
       "      <td>-6.900619</td>\n",
       "      <td>36.295723</td>\n",
       "      <td>C</td>\n",
       "      <td>NODEAP_09</td>\n",
       "    </tr>\n",
       "    <tr>\n",
       "      <th>27</th>\n",
       "      <td>-5.579556</td>\n",
       "      <td>36.716015</td>\n",
       "      <td>S</td>\n",
       "      <td>NODEAP_09</td>\n",
       "    </tr>\n",
       "    <tr>\n",
       "      <th>28</th>\n",
       "      <td>-6.759507</td>\n",
       "      <td>3.071975</td>\n",
       "      <td>N</td>\n",
       "      <td>NODEAP_10</td>\n",
       "    </tr>\n",
       "    <tr>\n",
       "      <th>29</th>\n",
       "      <td>-6.615001</td>\n",
       "      <td>4.511032</td>\n",
       "      <td>S</td>\n",
       "      <td>NODEAP_10</td>\n",
       "    </tr>\n",
       "  </tbody>\n",
       "</table>\n",
       "</div>"
      ],
      "text/plain": [
       "       tSNE_1     tSNE_2 TMS_condition Subject_ID\n",
       "0    9.367203   8.293953             N  NODEAP_06\n",
       "1   10.594716   8.498052             S  NODEAP_06\n",
       "2   10.866089   9.700957             S  NODEAP_06\n",
       "3   10.942617   8.684439             S  NODEAP_06\n",
       "4   11.055099   8.717936             C  NODEAP_06\n",
       "5   10.211733   8.768853             C  NODEAP_06\n",
       "6    9.985385   8.415389             S  NODEAP_06\n",
       "7  -10.875456   6.361269             N  NODEAP_07\n",
       "8   -9.616278   6.536669             S  NODEAP_07\n",
       "9   -8.863041   3.639637             S  NODEAP_07\n",
       "10  -9.500751   5.810722             C  NODEAP_07\n",
       "11 -11.553067 -19.388275             S  NODEAP_07\n",
       "12  -9.097962   5.788876             S  NODEAP_07\n",
       "13  -9.954161   6.336104             C  NODEAP_07\n",
       "14  -0.261980   1.487178             N  NODEAP_08\n",
       "15  -0.464839   1.850399             C  NODEAP_08\n",
       "16  -0.627840   2.119234             S  NODEAP_08\n",
       "17  -1.154510   2.204309             S  NODEAP_08\n",
       "18  -1.150168   1.619284             S  NODEAP_08\n",
       "19  -1.731351   1.863847             S  NODEAP_08\n",
       "20  -1.630567   1.373568             C  NODEAP_08\n",
       "21  -6.210595  36.344913             N  NODEAP_09\n",
       "22  -6.677527  36.730797             S  NODEAP_09\n",
       "23  -6.510080  37.310776             S  NODEAP_09\n",
       "24  -5.968878  36.928986             S  NODEAP_09\n",
       "25  -5.984025  36.414455             C  NODEAP_09\n",
       "26  -6.900619  36.295723             C  NODEAP_09\n",
       "27  -5.579556  36.716015             S  NODEAP_09\n",
       "28  -6.759507   3.071975             N  NODEAP_10\n",
       "29  -6.615001   4.511032             S  NODEAP_10"
      ]
     },
     "execution_count": 214,
     "metadata": {},
     "output_type": "execute_result"
    }
   ],
   "source": [
    "df_tsne = pd.DataFrame({\n",
    "    'tSNE_1': z_2d[:, 0],\n",
    "    'tSNE_2': z_2d[:, 1],\n",
    "    'TMS_condition': all_tms_type,\n",
    "    'Subject_ID': all_subject_id\n",
    "})\n",
    "\n",
    "df_tsne.head(30)"
   ]
  },
  {
   "cell_type": "code",
   "execution_count": 57,
   "id": "dadee797-27e9-432b-8b19-1259016d55c4",
   "metadata": {},
   "outputs": [
    {
     "name": "stdout",
     "output_type": "stream",
     "text": [
      "Multiclass accuracy (Null vs Sham vs Real): 0.5680235187697874\n"
     ]
    }
   ],
   "source": [
    "clf = LogisticRegression(max_iter=1000)\n",
    "scores = cross_val_score(clf, mu_all, y, cv=5)\n",
    "print(\"Multiclass accuracy (Null vs Sham vs Real):\", scores.mean())\n"
   ]
  },
  {
   "cell_type": "code",
   "execution_count": 58,
   "id": "f3870e1a-3598-45ea-b394-65e6d4222bce",
   "metadata": {},
   "outputs": [
    {
     "name": "stdout",
     "output_type": "stream",
     "text": [
      "Binary accuracy (Real vs Sham): 0.656140350877193\n"
     ]
    }
   ],
   "source": [
    "mask_C = (y == 2)\n",
    "mask_S = (y == 1)\n",
    "\n",
    "X_bin = np.vstack([mu_all[mask_C], mu_all[mask_S]])\n",
    "y_bin = np.array([1] * mask_C.sum() + [0] * mask_S.sum())\n",
    "\n",
    "clf = LogisticRegression(max_iter=1000)\n",
    "scores = cross_val_score(clf, X_bin, y_bin, cv=5)\n",
    "print(\"Binary accuracy (Real vs Sham):\", scores.mean())\n"
   ]
  },
  {
   "cell_type": "code",
   "execution_count": null,
   "id": "d7f1d943-0b1d-46b2-a67e-f0e78affb076",
   "metadata": {},
   "outputs": [],
   "source": []
  }
 ],
 "metadata": {
  "kernelspec": {
   "display_name": "Python 3 (ipykernel)",
   "language": "python",
   "name": "python3"
  },
  "language_info": {
   "codemirror_mode": {
    "name": "ipython",
    "version": 3
   },
   "file_extension": ".py",
   "mimetype": "text/x-python",
   "name": "python",
   "nbconvert_exporter": "python",
   "pygments_lexer": "ipython3",
   "version": "3.13.3"
  }
 },
 "nbformat": 4,
 "nbformat_minor": 5
}
