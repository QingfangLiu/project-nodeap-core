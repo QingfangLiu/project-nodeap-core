{
 "cells": [
  {
   "cell_type": "markdown",
   "id": "8e267ad9-fbc9-496b-bc71-e1149b832c58",
   "metadata": {},
   "source": [
    "### this feeds the aal-sphere FC to vae\n",
    "* code allows using all four spheres, or picking one of them"
   ]
  },
  {
   "cell_type": "code",
   "execution_count": 1,
   "id": "05ca6874-650f-47b0-a44f-97f86c5f8e9e",
   "metadata": {},
   "outputs": [],
   "source": [
    "# Auto-Reload for Fast Iteration\n",
    "%load_ext autoreload\n",
    "%autoreload 2"
   ]
  },
  {
   "cell_type": "code",
   "execution_count": 2,
   "id": "8004c283-162a-43f1-ae97-3d7c5dadcdb9",
   "metadata": {},
   "outputs": [],
   "source": []
  },
  {
   "cell_type": "code",
   "execution_count": 3,
   "id": "e63bf29d-56a8-4165-bccd-de3d8d15a8f1",
   "metadata": {},
   "outputs": [],
   "source": []
  },
  {
   "cell_type": "code",
   "execution_count": 4,
   "id": "1256298c-0369-425a-9f31-792cb4db50da",
   "metadata": {},
   "outputs": [
    {
     "name": "stderr",
     "output_type": "stream",
     "text": [
      "/Users/liuq13/Library/Python/3.9/lib/python/site-packages/tqdm/auto.py:21: TqdmWarning: IProgress not found. Please update jupyter and ipywidgets. See https://ipywidgets.readthedocs.io/en/stable/user_install.html\n",
      "  from .autonotebook import tqdm as notebook_tqdm\n"
     ]
    }
   ],
   "source": [
    "from sklearn.feature_selection import SelectPercentile, f_classif\n",
    "from sklearn.pipeline import Pipeline\n",
    "from sklearn.metrics import accuracy_score, classification_report\n",
    "from sklearn.metrics import confusion_matrix, ConfusionMatrixDisplay\n",
    "from sklearn.model_selection import cross_val_score\n",
    "from sklearn.model_selection import GroupKFold\n",
    "from sklearn.manifold import TSNE\n",
    "import umap.umap_ as umap"
   ]
  },
  {
   "cell_type": "code",
   "execution_count": 5,
   "id": "2cce3b35-1477-4ea8-8e6b-2bd02c6b0afd",
   "metadata": {},
   "outputs": [],
   "source": [
    "# import custom functions from .py scripts\n",
    "from models import VAE, CVAE \n",
    "from train_utils import train_vae, loss_function, get_latent_mu, compute_condition_distances\n",
    "from data_utils import load_all_fc_data, preprocess_for_torch\n",
    "from utils_plotting import plot_vae_losses, plot_latent_embedding_by_condition_and_subject, plot_subject_distance_comparison"
   ]
  },
  {
   "cell_type": "code",
   "execution_count": 8,
   "id": "8997caba-1575-4e03-b460-3ee50ee4831a",
   "metadata": {},
   "outputs": [],
   "source": [
    "sub_cond_path = '/Users/liuq13/NODEAP_scripts/data_input/SubConds.xlsx'\n",
    "base_nifti_folder = '/Volumes/X9Pro/NODEAP/FuncConn_AAL'\n",
    "condition_map = {'N': 0, 'S': 1, 'C': 2}"
   ]
  },
  {
   "cell_type": "code",
   "execution_count": 9,
   "id": "418d6c0c-c292-467d-b057-dd0c9447c689",
   "metadata": {},
   "outputs": [
    {
     "name": "stdout",
     "output_type": "stream",
     "text": [
      "[WARN] File not found: /Volumes/X9Pro/NODEAP/FuncConn_AAL/NODEAP_30/S3D2/conn_matrix_w_sphere.mat\n",
      "[WARN] File not found: /Volumes/X9Pro/NODEAP/FuncConn_AAL/NODEAP_44/S1D1/conn_matrix_w_sphere.mat\n",
      "[WARN] File not found: /Volumes/X9Pro/NODEAP/FuncConn_AAL/NODEAP_83/S3D1/conn_matrix_w_sphere.mat\n",
      "[WARN] File not found: /Volumes/X9Pro/NODEAP/FuncConn_AAL/NODEAP_87/D0/conn_matrix_w_sphere.mat\n",
      "[WARN] File not found: /Volumes/X9Pro/NODEAP/FuncConn_AAL/NODEAP_88/D0/conn_matrix_w_sphere.mat\n",
      "Columns with NaN: 14 / 116\n",
      "Tensor shape after preprocessing: torch.Size([331, 102])\n"
     ]
    }
   ],
   "source": [
    "# Load and preprocess\n",
    "use_roi = 0\n",
    "all_corr_data, all_tms_type, all_subject_id, all_stimloc, all_session = load_all_fc_data(sub_cond_path, \n",
    "                                                               base_nifti_folder, \n",
    "                                                               mat_filename='conn_matrix_w_sphere.mat',\n",
    "                                                               key_name='correlation_matrix',row_idx=use_roi)\n",
    "X_tensor = preprocess_for_torch(all_corr_data)\n",
    "dataset = TensorDataset(X_tensor)\n",
    "dataloader = DataLoader(dataset, batch_size=32, shuffle=True)"
   ]
  },
  {
   "cell_type": "code",
   "execution_count": 10,
   "id": "b2e2a3d8-7779-4f1a-b1c9-ba00f36719a0",
   "metadata": {},
   "outputs": [
    {
     "name": "stdout",
     "output_type": "stream",
     "text": [
      "\n",
      "===== Epoch 1 =====\n"
     ]
    },
    {
     "name": "stderr",
     "output_type": "stream",
     "text": [
      "Epoch 1/500: 100%|█████████████████████████████| 11/11 [00:00<00:00, 284.32it/s]\n"
     ]
    },
    {
     "name": "stdout",
     "output_type": "stream",
     "text": [
      "Epoch 1, Loss: 107.0145, Recon: 106.6863, KL: 0.3282\n",
      "\n",
      "===== Epoch 2 =====\n"
     ]
    },
    {
     "name": "stderr",
     "output_type": "stream",
     "text": [
      "Epoch 2/500: 100%|████████████████████████████| 11/11 [00:00<00:00, 1015.35it/s]\n"
     ]
    },
    {
     "name": "stdout",
     "output_type": "stream",
     "text": [
      "Epoch 2, Loss: 103.2755, Recon: 102.6745, KL: 0.6009\n",
      "\n",
      "===== Epoch 3 =====\n"
     ]
    },
    {
     "name": "stderr",
     "output_type": "stream",
     "text": [
      "Epoch 3/500: 100%|█████████████████████████████| 11/11 [00:00<00:00, 982.69it/s]\n"
     ]
    },
    {
     "name": "stdout",
     "output_type": "stream",
     "text": [
      "Epoch 3, Loss: 98.4823, Recon: 97.1965, KL: 1.2858\n",
      "\n",
      "===== Epoch 4 =====\n"
     ]
    },
    {
     "name": "stderr",
     "output_type": "stream",
     "text": [
      "Epoch 4/500: 100%|████████████████████████████| 11/11 [00:00<00:00, 1020.31it/s]\n"
     ]
    },
    {
     "name": "stdout",
     "output_type": "stream",
     "text": [
      "Epoch 4, Loss: 90.5347, Recon: 87.8141, KL: 2.7206\n",
      "\n",
      "===== Epoch 5 =====\n"
     ]
    },
    {
     "name": "stderr",
     "output_type": "stream",
     "text": [
      "Epoch 5/500: 100%|████████████████████████████| 11/11 [00:00<00:00, 1059.92it/s]\n"
     ]
    },
    {
     "name": "stdout",
     "output_type": "stream",
     "text": [
      "Epoch 5, Loss: 81.7131, Recon: 76.5634, KL: 5.1497\n",
      "\n",
      "===== Epoch 6 =====\n"
     ]
    },
    {
     "name": "stderr",
     "output_type": "stream",
     "text": [
      "Epoch 6/500: 100%|████████████████████████████| 11/11 [00:00<00:00, 1010.74it/s]\n"
     ]
    },
    {
     "name": "stdout",
     "output_type": "stream",
     "text": [
      "Epoch 6, Loss: 74.8402, Recon: 68.0987, KL: 6.7414\n",
      "\n",
      "===== Epoch 7 =====\n"
     ]
    },
    {
     "name": "stderr",
     "output_type": "stream",
     "text": [
      "Epoch 7/500: 100%|████████████████████████████| 11/11 [00:00<00:00, 1008.07it/s]\n"
     ]
    },
    {
     "name": "stdout",
     "output_type": "stream",
     "text": [
      "Epoch 7, Loss: 68.4784, Recon: 61.2414, KL: 7.2370\n",
      "\n",
      "===== Epoch 8 =====\n"
     ]
    },
    {
     "name": "stderr",
     "output_type": "stream",
     "text": [
      "Epoch 8/500: 100%|████████████████████████████| 11/11 [00:00<00:00, 1051.23it/s]\n"
     ]
    },
    {
     "name": "stdout",
     "output_type": "stream",
     "text": [
      "Epoch 8, Loss: 64.0416, Recon: 55.8295, KL: 8.2122\n",
      "\n",
      "===== Epoch 9 =====\n"
     ]
    },
    {
     "name": "stderr",
     "output_type": "stream",
     "text": [
      "Epoch 9/500: 100%|█████████████████████████████| 11/11 [00:00<00:00, 964.65it/s]\n"
     ]
    },
    {
     "name": "stdout",
     "output_type": "stream",
     "text": [
      "Epoch 9, Loss: 61.5732, Recon: 52.9300, KL: 8.6432\n",
      "\n",
      "===== Epoch 10 =====\n"
     ]
    },
    {
     "name": "stderr",
     "output_type": "stream",
     "text": [
      "Epoch 10/500: 100%|███████████████████████████| 11/11 [00:00<00:00, 1027.53it/s]\n"
     ]
    },
    {
     "name": "stdout",
     "output_type": "stream",
     "text": [
      "Epoch 10, Loss: 59.0026, Recon: 50.1758, KL: 8.8268\n",
      "\n",
      "===== Epoch 11 =====\n"
     ]
    },
    {
     "name": "stderr",
     "output_type": "stream",
     "text": [
      "Epoch 11/500: 100%|███████████████████████████| 11/11 [00:00<00:00, 1014.19it/s]\n"
     ]
    },
    {
     "name": "stdout",
     "output_type": "stream",
     "text": [
      "Epoch 11, Loss: 57.6315, Recon: 48.7886, KL: 8.8429\n",
      "\n",
      "===== Epoch 12 =====\n"
     ]
    },
    {
     "name": "stderr",
     "output_type": "stream",
     "text": [
      "Epoch 12/500: 100%|███████████████████████████| 11/11 [00:00<00:00, 1005.13it/s]\n"
     ]
    },
    {
     "name": "stdout",
     "output_type": "stream",
     "text": [
      "Epoch 12, Loss: 56.1329, Recon: 47.2892, KL: 8.8437\n",
      "\n",
      "===== Epoch 13 =====\n"
     ]
    },
    {
     "name": "stderr",
     "output_type": "stream",
     "text": [
      "Epoch 13/500: 100%|███████████████████████████| 11/11 [00:00<00:00, 1040.98it/s]\n"
     ]
    },
    {
     "name": "stdout",
     "output_type": "stream",
     "text": [
      "Epoch 13, Loss: 55.4920, Recon: 46.7316, KL: 8.7604\n",
      "\n",
      "===== Epoch 14 =====\n"
     ]
    },
    {
     "name": "stderr",
     "output_type": "stream",
     "text": [
      "Epoch 14/500: 100%|███████████████████████████| 11/11 [00:00<00:00, 1022.41it/s]\n"
     ]
    },
    {
     "name": "stdout",
     "output_type": "stream",
     "text": [
      "Epoch 14, Loss: 54.3441, Recon: 45.6264, KL: 8.7177\n",
      "\n",
      "===== Epoch 15 =====\n"
     ]
    },
    {
     "name": "stderr",
     "output_type": "stream",
     "text": [
      "Epoch 15/500: 100%|███████████████████████████| 11/11 [00:00<00:00, 1038.92it/s]\n"
     ]
    },
    {
     "name": "stdout",
     "output_type": "stream",
     "text": [
      "Epoch 15, Loss: 53.3506, Recon: 44.3203, KL: 9.0303\n",
      "\n",
      "===== Epoch 16 =====\n"
     ]
    },
    {
     "name": "stderr",
     "output_type": "stream",
     "text": [
      "Epoch 16/500: 100%|███████████████████████████| 11/11 [00:00<00:00, 1053.03it/s]\n"
     ]
    },
    {
     "name": "stdout",
     "output_type": "stream",
     "text": [
      "Epoch 16, Loss: 52.1035, Recon: 42.8924, KL: 9.2111\n",
      "\n",
      "===== Epoch 17 =====\n"
     ]
    },
    {
     "name": "stderr",
     "output_type": "stream",
     "text": [
      "Epoch 17/500: 100%|███████████████████████████| 11/11 [00:00<00:00, 1016.29it/s]\n"
     ]
    },
    {
     "name": "stdout",
     "output_type": "stream",
     "text": [
      "Epoch 17, Loss: 51.2060, Recon: 41.8289, KL: 9.3771\n",
      "\n",
      "===== Epoch 18 =====\n"
     ]
    },
    {
     "name": "stderr",
     "output_type": "stream",
     "text": [
      "Epoch 18/500: 100%|███████████████████████████| 11/11 [00:00<00:00, 1028.43it/s]\n"
     ]
    },
    {
     "name": "stdout",
     "output_type": "stream",
     "text": [
      "Epoch 18, Loss: 50.8010, Recon: 41.3036, KL: 9.4974\n",
      "\n",
      "===== Epoch 19 =====\n"
     ]
    },
    {
     "name": "stderr",
     "output_type": "stream",
     "text": [
      "Epoch 19/500: 100%|███████████████████████████| 11/11 [00:00<00:00, 1066.34it/s]\n"
     ]
    },
    {
     "name": "stdout",
     "output_type": "stream",
     "text": [
      "Epoch 19, Loss: 49.8679, Recon: 40.1628, KL: 9.7051\n",
      "\n",
      "===== Epoch 20 =====\n"
     ]
    },
    {
     "name": "stderr",
     "output_type": "stream",
     "text": [
      "Epoch 20/500: 100%|███████████████████████████| 11/11 [00:00<00:00, 1048.81it/s]\n"
     ]
    },
    {
     "name": "stdout",
     "output_type": "stream",
     "text": [
      "Epoch 20, Loss: 49.2314, Recon: 39.3854, KL: 9.8460\n",
      "\n",
      "===== Epoch 21 =====\n"
     ]
    },
    {
     "name": "stderr",
     "output_type": "stream",
     "text": [
      "Epoch 21/500: 100%|███████████████████████████| 11/11 [00:00<00:00, 1035.70it/s]\n"
     ]
    },
    {
     "name": "stdout",
     "output_type": "stream",
     "text": [
      "Epoch 21, Loss: 47.9945, Recon: 38.1721, KL: 9.8224\n",
      "\n",
      "===== Epoch 22 =====\n"
     ]
    },
    {
     "name": "stderr",
     "output_type": "stream",
     "text": [
      "Epoch 22/500: 100%|███████████████████████████| 11/11 [00:00<00:00, 1015.03it/s]\n"
     ]
    },
    {
     "name": "stdout",
     "output_type": "stream",
     "text": [
      "Epoch 22, Loss: 47.7107, Recon: 37.7923, KL: 9.9184\n",
      "\n",
      "===== Epoch 23 =====\n"
     ]
    },
    {
     "name": "stderr",
     "output_type": "stream",
     "text": [
      "Epoch 23/500: 100%|████████████████████████████| 11/11 [00:00<00:00, 985.92it/s]\n"
     ]
    },
    {
     "name": "stdout",
     "output_type": "stream",
     "text": [
      "Epoch 23, Loss: 46.9692, Recon: 36.9378, KL: 10.0314\n",
      "\n",
      "===== Epoch 24 =====\n"
     ]
    },
    {
     "name": "stderr",
     "output_type": "stream",
     "text": [
      "Epoch 24/500: 100%|███████████████████████████| 11/11 [00:00<00:00, 1083.14it/s]\n"
     ]
    },
    {
     "name": "stdout",
     "output_type": "stream",
     "text": [
      "Epoch 24, Loss: 46.4350, Recon: 36.3964, KL: 10.0386\n",
      "\n",
      "===== Epoch 25 =====\n"
     ]
    },
    {
     "name": "stderr",
     "output_type": "stream",
     "text": [
      "Epoch 25/500: 100%|███████████████████████████| 11/11 [00:00<00:00, 1040.02it/s]\n"
     ]
    },
    {
     "name": "stdout",
     "output_type": "stream",
     "text": [
      "Epoch 25, Loss: 46.0269, Recon: 35.7581, KL: 10.2688\n",
      "\n",
      "===== Epoch 26 =====\n"
     ]
    },
    {
     "name": "stderr",
     "output_type": "stream",
     "text": [
      "Epoch 26/500: 100%|███████████████████████████| 11/11 [00:00<00:00, 1044.16it/s]\n"
     ]
    },
    {
     "name": "stdout",
     "output_type": "stream",
     "text": [
      "Epoch 26, Loss: 45.5073, Recon: 34.9477, KL: 10.5596\n",
      "\n",
      "===== Epoch 27 =====\n"
     ]
    },
    {
     "name": "stderr",
     "output_type": "stream",
     "text": [
      "Epoch 27/500: 100%|████████████████████████████| 11/11 [00:00<00:00, 402.30it/s]\n"
     ]
    },
    {
     "name": "stdout",
     "output_type": "stream",
     "text": [
      "Epoch 27, Loss: 45.0179, Recon: 34.4031, KL: 10.6148\n",
      "\n",
      "===== Epoch 28 =====\n"
     ]
    },
    {
     "name": "stderr",
     "output_type": "stream",
     "text": [
      "Epoch 28/500: 100%|████████████████████████████| 11/11 [00:00<00:00, 931.41it/s]\n"
     ]
    },
    {
     "name": "stdout",
     "output_type": "stream",
     "text": [
      "Epoch 28, Loss: 44.4359, Recon: 33.6971, KL: 10.7388\n",
      "\n",
      "===== Epoch 29 =====\n"
     ]
    },
    {
     "name": "stderr",
     "output_type": "stream",
     "text": [
      "Epoch 29/500: 100%|███████████████████████████| 11/11 [00:00<00:00, 1039.04it/s]\n"
     ]
    },
    {
     "name": "stdout",
     "output_type": "stream",
     "text": [
      "Epoch 29, Loss: 43.8248, Recon: 33.1977, KL: 10.6271\n",
      "\n",
      "===== Epoch 30 =====\n"
     ]
    },
    {
     "name": "stderr",
     "output_type": "stream",
     "text": [
      "Epoch 30/500: 100%|███████████████████████████| 11/11 [00:00<00:00, 1029.48it/s]\n"
     ]
    },
    {
     "name": "stdout",
     "output_type": "stream",
     "text": [
      "Epoch 30, Loss: 43.6869, Recon: 33.1071, KL: 10.5798\n",
      "\n",
      "===== Epoch 31 =====\n"
     ]
    },
    {
     "name": "stderr",
     "output_type": "stream",
     "text": [
      "Epoch 31/500: 100%|███████████████████████████| 11/11 [00:00<00:00, 1030.93it/s]\n"
     ]
    },
    {
     "name": "stdout",
     "output_type": "stream",
     "text": [
      "Epoch 31, Loss: 43.3793, Recon: 32.6871, KL: 10.6922\n",
      "\n",
      "===== Epoch 32 =====\n"
     ]
    },
    {
     "name": "stderr",
     "output_type": "stream",
     "text": [
      "Epoch 32/500: 100%|███████████████████████████| 11/11 [00:00<00:00, 1029.55it/s]\n"
     ]
    },
    {
     "name": "stdout",
     "output_type": "stream",
     "text": [
      "Epoch 32, Loss: 42.9767, Recon: 32.3247, KL: 10.6519\n",
      "\n",
      "===== Epoch 33 =====\n"
     ]
    },
    {
     "name": "stderr",
     "output_type": "stream",
     "text": [
      "Epoch 33/500: 100%|███████████████████████████| 11/11 [00:00<00:00, 1016.33it/s]\n"
     ]
    },
    {
     "name": "stdout",
     "output_type": "stream",
     "text": [
      "Epoch 33, Loss: 43.0335, Recon: 32.3391, KL: 10.6944\n",
      "\n",
      "===== Epoch 34 =====\n"
     ]
    },
    {
     "name": "stderr",
     "output_type": "stream",
     "text": [
      "Epoch 34/500: 100%|███████████████████████████| 11/11 [00:00<00:00, 1071.39it/s]\n"
     ]
    },
    {
     "name": "stdout",
     "output_type": "stream",
     "text": [
      "Epoch 34, Loss: 42.8578, Recon: 31.9979, KL: 10.8599\n",
      "\n",
      "===== Epoch 35 =====\n"
     ]
    },
    {
     "name": "stderr",
     "output_type": "stream",
     "text": [
      "Epoch 35/500: 100%|███████████████████████████| 11/11 [00:00<00:00, 1044.42it/s]\n"
     ]
    },
    {
     "name": "stdout",
     "output_type": "stream",
     "text": [
      "Epoch 35, Loss: 42.5299, Recon: 31.5623, KL: 10.9676\n",
      "\n",
      "===== Epoch 36 =====\n"
     ]
    },
    {
     "name": "stderr",
     "output_type": "stream",
     "text": [
      "Epoch 36/500: 100%|███████████████████████████| 11/11 [00:00<00:00, 1030.36it/s]\n"
     ]
    },
    {
     "name": "stdout",
     "output_type": "stream",
     "text": [
      "Epoch 36, Loss: 42.3113, Recon: 31.2926, KL: 11.0187\n",
      "\n",
      "===== Epoch 37 =====\n"
     ]
    },
    {
     "name": "stderr",
     "output_type": "stream",
     "text": [
      "Epoch 37/500: 100%|███████████████████████████| 11/11 [00:00<00:00, 1024.50it/s]\n"
     ]
    },
    {
     "name": "stdout",
     "output_type": "stream",
     "text": [
      "Epoch 37, Loss: 42.1613, Recon: 31.1871, KL: 10.9742\n",
      "\n",
      "===== Epoch 38 =====\n"
     ]
    },
    {
     "name": "stderr",
     "output_type": "stream",
     "text": [
      "Epoch 38/500: 100%|███████████████████████████| 11/11 [00:00<00:00, 1017.68it/s]\n"
     ]
    },
    {
     "name": "stdout",
     "output_type": "stream",
     "text": [
      "Epoch 38, Loss: 41.4856, Recon: 30.5271, KL: 10.9585\n",
      "\n",
      "===== Epoch 39 =====\n"
     ]
    },
    {
     "name": "stderr",
     "output_type": "stream",
     "text": [
      "Epoch 39/500: 100%|███████████████████████████| 11/11 [00:00<00:00, 1058.10it/s]\n"
     ]
    },
    {
     "name": "stdout",
     "output_type": "stream",
     "text": [
      "Epoch 39, Loss: 41.7051, Recon: 30.8598, KL: 10.8452\n",
      "\n",
      "===== Epoch 40 =====\n"
     ]
    },
    {
     "name": "stderr",
     "output_type": "stream",
     "text": [
      "Epoch 40/500: 100%|███████████████████████████| 11/11 [00:00<00:00, 1035.19it/s]\n"
     ]
    },
    {
     "name": "stdout",
     "output_type": "stream",
     "text": [
      "Epoch 40, Loss: 42.0357, Recon: 31.0443, KL: 10.9914\n",
      "\n",
      "===== Epoch 41 =====\n"
     ]
    },
    {
     "name": "stderr",
     "output_type": "stream",
     "text": [
      "Epoch 41/500: 100%|███████████████████████████| 11/11 [00:00<00:00, 1082.71it/s]\n"
     ]
    },
    {
     "name": "stdout",
     "output_type": "stream",
     "text": [
      "Epoch 41, Loss: 41.6129, Recon: 30.5001, KL: 11.1128\n",
      "\n",
      "===== Epoch 42 =====\n"
     ]
    },
    {
     "name": "stderr",
     "output_type": "stream",
     "text": [
      "Epoch 42/500: 100%|███████████████████████████| 11/11 [00:00<00:00, 1081.72it/s]\n"
     ]
    },
    {
     "name": "stdout",
     "output_type": "stream",
     "text": [
      "Epoch 42, Loss: 40.9716, Recon: 29.7695, KL: 11.2021\n",
      "\n",
      "===== Epoch 43 =====\n"
     ]
    },
    {
     "name": "stderr",
     "output_type": "stream",
     "text": [
      "Epoch 43/500: 100%|███████████████████████████| 11/11 [00:00<00:00, 1093.15it/s]\n"
     ]
    },
    {
     "name": "stdout",
     "output_type": "stream",
     "text": [
      "Epoch 43, Loss: 40.8984, Recon: 29.7856, KL: 11.1128\n",
      "\n",
      "===== Epoch 44 =====\n"
     ]
    },
    {
     "name": "stderr",
     "output_type": "stream",
     "text": [
      "Epoch 44/500: 100%|███████████████████████████| 11/11 [00:00<00:00, 1057.88it/s]\n"
     ]
    },
    {
     "name": "stdout",
     "output_type": "stream",
     "text": [
      "Epoch 44, Loss: 41.0953, Recon: 30.0256, KL: 11.0697\n",
      "\n",
      "===== Epoch 45 =====\n"
     ]
    },
    {
     "name": "stderr",
     "output_type": "stream",
     "text": [
      "Epoch 45/500: 100%|███████████████████████████| 11/11 [00:00<00:00, 1080.55it/s]\n"
     ]
    },
    {
     "name": "stdout",
     "output_type": "stream",
     "text": [
      "Epoch 45, Loss: 40.6312, Recon: 29.5136, KL: 11.1176\n",
      "\n",
      "===== Epoch 46 =====\n"
     ]
    },
    {
     "name": "stderr",
     "output_type": "stream",
     "text": [
      "Epoch 46/500: 100%|███████████████████████████| 11/11 [00:00<00:00, 1033.94it/s]\n"
     ]
    },
    {
     "name": "stdout",
     "output_type": "stream",
     "text": [
      "Epoch 46, Loss: 40.8749, Recon: 29.6355, KL: 11.2394\n",
      "\n",
      "===== Epoch 47 =====\n"
     ]
    },
    {
     "name": "stderr",
     "output_type": "stream",
     "text": [
      "Epoch 47/500: 100%|███████████████████████████| 11/11 [00:00<00:00, 1058.32it/s]\n"
     ]
    },
    {
     "name": "stdout",
     "output_type": "stream",
     "text": [
      "Epoch 47, Loss: 40.6260, Recon: 29.3670, KL: 11.2591\n",
      "\n",
      "===== Epoch 48 =====\n"
     ]
    },
    {
     "name": "stderr",
     "output_type": "stream",
     "text": [
      "Epoch 48/500: 100%|███████████████████████████| 11/11 [00:00<00:00, 1036.77it/s]\n"
     ]
    },
    {
     "name": "stdout",
     "output_type": "stream",
     "text": [
      "Epoch 48, Loss: 40.4029, Recon: 29.2437, KL: 11.1592\n",
      "\n",
      "===== Epoch 49 =====\n"
     ]
    },
    {
     "name": "stderr",
     "output_type": "stream",
     "text": [
      "Epoch 49/500: 100%|███████████████████████████| 11/11 [00:00<00:00, 1075.46it/s]\n"
     ]
    },
    {
     "name": "stdout",
     "output_type": "stream",
     "text": [
      "Epoch 49, Loss: 40.0438, Recon: 28.7574, KL: 11.2864\n",
      "\n",
      "===== Epoch 50 =====\n"
     ]
    },
    {
     "name": "stderr",
     "output_type": "stream",
     "text": [
      "Epoch 50/500: 100%|███████████████████████████| 11/11 [00:00<00:00, 1071.07it/s]\n"
     ]
    },
    {
     "name": "stdout",
     "output_type": "stream",
     "text": [
      "Epoch 50, Loss: 39.9395, Recon: 28.7213, KL: 11.2183\n",
      "\n",
      "===== Epoch 51 =====\n"
     ]
    },
    {
     "name": "stderr",
     "output_type": "stream",
     "text": [
      "Epoch 51/500: 100%|███████████████████████████| 11/11 [00:00<00:00, 1024.68it/s]\n"
     ]
    },
    {
     "name": "stdout",
     "output_type": "stream",
     "text": [
      "Epoch 51, Loss: 39.5635, Recon: 28.4319, KL: 11.1316\n",
      "\n",
      "===== Epoch 52 =====\n"
     ]
    },
    {
     "name": "stderr",
     "output_type": "stream",
     "text": [
      "Epoch 52/500: 100%|███████████████████████████| 11/11 [00:00<00:00, 1087.81it/s]\n"
     ]
    },
    {
     "name": "stdout",
     "output_type": "stream",
     "text": [
      "Epoch 52, Loss: 39.7792, Recon: 28.5773, KL: 11.2019\n",
      "\n",
      "===== Epoch 53 =====\n"
     ]
    },
    {
     "name": "stderr",
     "output_type": "stream",
     "text": [
      "Epoch 53/500: 100%|███████████████████████████| 11/11 [00:00<00:00, 1061.68it/s]\n"
     ]
    },
    {
     "name": "stdout",
     "output_type": "stream",
     "text": [
      "Epoch 53, Loss: 39.5577, Recon: 28.3003, KL: 11.2574\n",
      "\n",
      "===== Epoch 54 =====\n"
     ]
    },
    {
     "name": "stderr",
     "output_type": "stream",
     "text": [
      "Epoch 54/500: 100%|███████████████████████████| 11/11 [00:00<00:00, 1020.87it/s]\n"
     ]
    },
    {
     "name": "stdout",
     "output_type": "stream",
     "text": [
      "Epoch 54, Loss: 39.4170, Recon: 28.2322, KL: 11.1848\n",
      "\n",
      "===== Epoch 55 =====\n"
     ]
    },
    {
     "name": "stderr",
     "output_type": "stream",
     "text": [
      "Epoch 55/500: 100%|███████████████████████████| 11/11 [00:00<00:00, 1071.07it/s]\n"
     ]
    },
    {
     "name": "stdout",
     "output_type": "stream",
     "text": [
      "Epoch 55, Loss: 39.3805, Recon: 28.0438, KL: 11.3367\n",
      "\n",
      "===== Epoch 56 =====\n"
     ]
    },
    {
     "name": "stderr",
     "output_type": "stream",
     "text": [
      "Epoch 56/500: 100%|███████████████████████████| 11/11 [00:00<00:00, 1052.72it/s]\n"
     ]
    },
    {
     "name": "stdout",
     "output_type": "stream",
     "text": [
      "Epoch 56, Loss: 39.1901, Recon: 27.9067, KL: 11.2834\n",
      "\n",
      "===== Epoch 57 =====\n"
     ]
    },
    {
     "name": "stderr",
     "output_type": "stream",
     "text": [
      "Epoch 57/500: 100%|███████████████████████████| 11/11 [00:00<00:00, 1107.77it/s]\n"
     ]
    },
    {
     "name": "stdout",
     "output_type": "stream",
     "text": [
      "Epoch 57, Loss: 39.0744, Recon: 27.7082, KL: 11.3662\n",
      "\n",
      "===== Epoch 58 =====\n"
     ]
    },
    {
     "name": "stderr",
     "output_type": "stream",
     "text": [
      "Epoch 58/500: 100%|███████████████████████████| 11/11 [00:00<00:00, 1097.12it/s]\n"
     ]
    },
    {
     "name": "stdout",
     "output_type": "stream",
     "text": [
      "Epoch 58, Loss: 38.8761, Recon: 27.4869, KL: 11.3892\n",
      "\n",
      "===== Epoch 59 =====\n"
     ]
    },
    {
     "name": "stderr",
     "output_type": "stream",
     "text": [
      "Epoch 59/500: 100%|███████████████████████████| 11/11 [00:00<00:00, 1083.09it/s]\n"
     ]
    },
    {
     "name": "stdout",
     "output_type": "stream",
     "text": [
      "Epoch 59, Loss: 38.7837, Recon: 27.3224, KL: 11.4613\n",
      "\n",
      "===== Epoch 60 =====\n"
     ]
    },
    {
     "name": "stderr",
     "output_type": "stream",
     "text": [
      "Epoch 60/500: 100%|███████████████████████████| 11/11 [00:00<00:00, 1117.78it/s]\n"
     ]
    },
    {
     "name": "stdout",
     "output_type": "stream",
     "text": [
      "Epoch 60, Loss: 38.9882, Recon: 27.5167, KL: 11.4715\n",
      "\n",
      "===== Epoch 61 =====\n"
     ]
    },
    {
     "name": "stderr",
     "output_type": "stream",
     "text": [
      "Epoch 61/500: 100%|███████████████████████████| 11/11 [00:00<00:00, 1031.30it/s]\n"
     ]
    },
    {
     "name": "stdout",
     "output_type": "stream",
     "text": [
      "Epoch 61, Loss: 38.4287, Recon: 26.8938, KL: 11.5349\n",
      "\n",
      "===== Epoch 62 =====\n"
     ]
    },
    {
     "name": "stderr",
     "output_type": "stream",
     "text": [
      "Epoch 62/500: 100%|███████████████████████████| 11/11 [00:00<00:00, 1037.35it/s]\n"
     ]
    },
    {
     "name": "stdout",
     "output_type": "stream",
     "text": [
      "Epoch 62, Loss: 38.3833, Recon: 26.8144, KL: 11.5689\n",
      "\n",
      "===== Epoch 63 =====\n"
     ]
    },
    {
     "name": "stderr",
     "output_type": "stream",
     "text": [
      "Epoch 63/500: 100%|███████████████████████████| 11/11 [00:00<00:00, 1047.69it/s]\n"
     ]
    },
    {
     "name": "stdout",
     "output_type": "stream",
     "text": [
      "Epoch 63, Loss: 38.3625, Recon: 26.9607, KL: 11.4018\n",
      "\n",
      "===== Epoch 64 =====\n"
     ]
    },
    {
     "name": "stderr",
     "output_type": "stream",
     "text": [
      "Epoch 64/500: 100%|███████████████████████████| 11/11 [00:00<00:00, 1050.41it/s]\n"
     ]
    },
    {
     "name": "stdout",
     "output_type": "stream",
     "text": [
      "Epoch 64, Loss: 38.2216, Recon: 26.6106, KL: 11.6109\n",
      "\n",
      "===== Epoch 65 =====\n"
     ]
    },
    {
     "name": "stderr",
     "output_type": "stream",
     "text": [
      "Epoch 65/500: 100%|███████████████████████████| 11/11 [00:00<00:00, 1065.28it/s]\n"
     ]
    },
    {
     "name": "stdout",
     "output_type": "stream",
     "text": [
      "Epoch 65, Loss: 37.8165, Recon: 26.2940, KL: 11.5225\n",
      "\n",
      "===== Epoch 66 =====\n"
     ]
    },
    {
     "name": "stderr",
     "output_type": "stream",
     "text": [
      "Epoch 66/500: 100%|███████████████████████████| 11/11 [00:00<00:00, 1042.35it/s]\n"
     ]
    },
    {
     "name": "stdout",
     "output_type": "stream",
     "text": [
      "Epoch 66, Loss: 37.8494, Recon: 26.3656, KL: 11.4838\n",
      "\n",
      "===== Epoch 67 =====\n"
     ]
    },
    {
     "name": "stderr",
     "output_type": "stream",
     "text": [
      "Epoch 67/500: 100%|███████████████████████████| 11/11 [00:00<00:00, 1120.76it/s]\n"
     ]
    },
    {
     "name": "stdout",
     "output_type": "stream",
     "text": [
      "Epoch 67, Loss: 37.9481, Recon: 26.4115, KL: 11.5366\n",
      "\n",
      "===== Epoch 68 =====\n"
     ]
    },
    {
     "name": "stderr",
     "output_type": "stream",
     "text": [
      "Epoch 68/500: 100%|███████████████████████████| 11/11 [00:00<00:00, 1076.64it/s]\n"
     ]
    },
    {
     "name": "stdout",
     "output_type": "stream",
     "text": [
      "Epoch 68, Loss: 37.8522, Recon: 26.3841, KL: 11.4682\n",
      "\n",
      "===== Epoch 69 =====\n"
     ]
    },
    {
     "name": "stderr",
     "output_type": "stream",
     "text": [
      "Epoch 69/500: 100%|███████████████████████████| 11/11 [00:00<00:00, 1070.15it/s]\n"
     ]
    },
    {
     "name": "stdout",
     "output_type": "stream",
     "text": [
      "Epoch 69, Loss: 37.9636, Recon: 26.3388, KL: 11.6248\n",
      "\n",
      "===== Epoch 70 =====\n"
     ]
    },
    {
     "name": "stderr",
     "output_type": "stream",
     "text": [
      "Epoch 70/500: 100%|███████████████████████████| 11/11 [00:00<00:00, 1041.66it/s]\n"
     ]
    },
    {
     "name": "stdout",
     "output_type": "stream",
     "text": [
      "Epoch 70, Loss: 37.5979, Recon: 25.8723, KL: 11.7256\n",
      "\n",
      "===== Epoch 71 =====\n"
     ]
    },
    {
     "name": "stderr",
     "output_type": "stream",
     "text": [
      "Epoch 71/500: 100%|███████████████████████████| 11/11 [00:00<00:00, 1070.57it/s]\n"
     ]
    },
    {
     "name": "stdout",
     "output_type": "stream",
     "text": [
      "Epoch 71, Loss: 37.5809, Recon: 25.7861, KL: 11.7948\n",
      "\n",
      "===== Epoch 72 =====\n"
     ]
    },
    {
     "name": "stderr",
     "output_type": "stream",
     "text": [
      "Epoch 72/500: 100%|███████████████████████████| 11/11 [00:00<00:00, 1072.56it/s]\n"
     ]
    },
    {
     "name": "stdout",
     "output_type": "stream",
     "text": [
      "Epoch 72, Loss: 37.6091, Recon: 25.8886, KL: 11.7205\n",
      "\n",
      "===== Epoch 73 =====\n"
     ]
    },
    {
     "name": "stderr",
     "output_type": "stream",
     "text": [
      "Epoch 73/500: 100%|███████████████████████████| 11/11 [00:00<00:00, 1016.64it/s]\n"
     ]
    },
    {
     "name": "stdout",
     "output_type": "stream",
     "text": [
      "Epoch 73, Loss: 37.5636, Recon: 25.7952, KL: 11.7683\n",
      "\n",
      "===== Epoch 74 =====\n"
     ]
    },
    {
     "name": "stderr",
     "output_type": "stream",
     "text": [
      "Epoch 74/500: 100%|███████████████████████████| 11/11 [00:00<00:00, 1021.91it/s]\n"
     ]
    },
    {
     "name": "stdout",
     "output_type": "stream",
     "text": [
      "Epoch 74, Loss: 37.4200, Recon: 25.6364, KL: 11.7836\n",
      "\n",
      "===== Epoch 75 =====\n"
     ]
    },
    {
     "name": "stderr",
     "output_type": "stream",
     "text": [
      "Epoch 75/500: 100%|███████████████████████████| 11/11 [00:00<00:00, 1034.31it/s]\n"
     ]
    },
    {
     "name": "stdout",
     "output_type": "stream",
     "text": [
      "Epoch 75, Loss: 37.3246, Recon: 25.5614, KL: 11.7632\n",
      "\n",
      "===== Epoch 76 =====\n"
     ]
    },
    {
     "name": "stderr",
     "output_type": "stream",
     "text": [
      "Epoch 76/500: 100%|███████████████████████████| 11/11 [00:00<00:00, 1059.53it/s]\n"
     ]
    },
    {
     "name": "stdout",
     "output_type": "stream",
     "text": [
      "Epoch 76, Loss: 36.9770, Recon: 25.1455, KL: 11.8315\n",
      "\n",
      "===== Epoch 77 =====\n"
     ]
    },
    {
     "name": "stderr",
     "output_type": "stream",
     "text": [
      "Epoch 77/500: 100%|███████████████████████████| 11/11 [00:00<00:00, 1062.93it/s]\n"
     ]
    },
    {
     "name": "stdout",
     "output_type": "stream",
     "text": [
      "Epoch 77, Loss: 37.1897, Recon: 25.4193, KL: 11.7704\n",
      "\n",
      "===== Epoch 78 =====\n"
     ]
    },
    {
     "name": "stderr",
     "output_type": "stream",
     "text": [
      "Epoch 78/500: 100%|███████████████████████████| 11/11 [00:00<00:00, 1045.44it/s]\n"
     ]
    },
    {
     "name": "stdout",
     "output_type": "stream",
     "text": [
      "Epoch 78, Loss: 36.8740, Recon: 25.1699, KL: 11.7041\n",
      "\n",
      "===== Epoch 79 =====\n"
     ]
    },
    {
     "name": "stderr",
     "output_type": "stream",
     "text": [
      "Epoch 79/500: 100%|███████████████████████████| 11/11 [00:00<00:00, 1070.45it/s]\n"
     ]
    },
    {
     "name": "stdout",
     "output_type": "stream",
     "text": [
      "Epoch 79, Loss: 36.7920, Recon: 25.0171, KL: 11.7749\n",
      "\n",
      "===== Epoch 80 =====\n"
     ]
    },
    {
     "name": "stderr",
     "output_type": "stream",
     "text": [
      "Epoch 80/500: 100%|███████████████████████████| 11/11 [00:00<00:00, 1056.28it/s]\n"
     ]
    },
    {
     "name": "stdout",
     "output_type": "stream",
     "text": [
      "Epoch 80, Loss: 37.0901, Recon: 25.3728, KL: 11.7173\n",
      "\n",
      "===== Epoch 81 =====\n"
     ]
    },
    {
     "name": "stderr",
     "output_type": "stream",
     "text": [
      "Epoch 81/500: 100%|███████████████████████████| 11/11 [00:00<00:00, 1063.44it/s]\n"
     ]
    },
    {
     "name": "stdout",
     "output_type": "stream",
     "text": [
      "Epoch 81, Loss: 37.1281, Recon: 25.3909, KL: 11.7372\n",
      "\n",
      "===== Epoch 82 =====\n"
     ]
    },
    {
     "name": "stderr",
     "output_type": "stream",
     "text": [
      "Epoch 82/500: 100%|███████████████████████████| 11/11 [00:00<00:00, 1090.85it/s]\n"
     ]
    },
    {
     "name": "stdout",
     "output_type": "stream",
     "text": [
      "Epoch 82, Loss: 37.0974, Recon: 25.1577, KL: 11.9396\n",
      "\n",
      "===== Epoch 83 =====\n"
     ]
    },
    {
     "name": "stderr",
     "output_type": "stream",
     "text": [
      "Epoch 83/500: 100%|███████████████████████████| 11/11 [00:00<00:00, 1046.22it/s]\n"
     ]
    },
    {
     "name": "stdout",
     "output_type": "stream",
     "text": [
      "Epoch 83, Loss: 36.7268, Recon: 24.6380, KL: 12.0888\n",
      "\n",
      "===== Epoch 84 =====\n"
     ]
    },
    {
     "name": "stderr",
     "output_type": "stream",
     "text": [
      "Epoch 84/500: 100%|███████████████████████████| 11/11 [00:00<00:00, 1085.12it/s]\n"
     ]
    },
    {
     "name": "stdout",
     "output_type": "stream",
     "text": [
      "Epoch 84, Loss: 36.7818, Recon: 24.8514, KL: 11.9304\n",
      "\n",
      "===== Epoch 85 =====\n"
     ]
    },
    {
     "name": "stderr",
     "output_type": "stream",
     "text": [
      "Epoch 85/500: 100%|███████████████████████████| 11/11 [00:00<00:00, 1031.88it/s]\n"
     ]
    },
    {
     "name": "stdout",
     "output_type": "stream",
     "text": [
      "Epoch 85, Loss: 36.5445, Recon: 24.6587, KL: 11.8857\n",
      "\n",
      "===== Epoch 86 =====\n"
     ]
    },
    {
     "name": "stderr",
     "output_type": "stream",
     "text": [
      "Epoch 86/500: 100%|███████████████████████████| 11/11 [00:00<00:00, 1053.03it/s]\n"
     ]
    },
    {
     "name": "stdout",
     "output_type": "stream",
     "text": [
      "Epoch 86, Loss: 36.5982, Recon: 24.7550, KL: 11.8433\n",
      "\n",
      "===== Epoch 87 =====\n"
     ]
    },
    {
     "name": "stderr",
     "output_type": "stream",
     "text": [
      "Epoch 87/500: 100%|███████████████████████████| 11/11 [00:00<00:00, 1057.90it/s]\n"
     ]
    },
    {
     "name": "stdout",
     "output_type": "stream",
     "text": [
      "Epoch 87, Loss: 36.7328, Recon: 24.8178, KL: 11.9150\n",
      "\n",
      "===== Epoch 88 =====\n"
     ]
    },
    {
     "name": "stderr",
     "output_type": "stream",
     "text": [
      "Epoch 88/500: 100%|███████████████████████████| 11/11 [00:00<00:00, 1062.80it/s]\n"
     ]
    },
    {
     "name": "stdout",
     "output_type": "stream",
     "text": [
      "Epoch 88, Loss: 36.5379, Recon: 24.4718, KL: 12.0661\n",
      "\n",
      "===== Epoch 89 =====\n"
     ]
    },
    {
     "name": "stderr",
     "output_type": "stream",
     "text": [
      "Epoch 89/500: 100%|███████████████████████████| 11/11 [00:00<00:00, 1059.41it/s]\n"
     ]
    },
    {
     "name": "stdout",
     "output_type": "stream",
     "text": [
      "Epoch 89, Loss: 36.6748, Recon: 24.5699, KL: 12.1048\n",
      "\n",
      "===== Epoch 90 =====\n"
     ]
    },
    {
     "name": "stderr",
     "output_type": "stream",
     "text": [
      "Epoch 90/500: 100%|███████████████████████████| 11/11 [00:00<00:00, 1050.73it/s]\n"
     ]
    },
    {
     "name": "stdout",
     "output_type": "stream",
     "text": [
      "Epoch 90, Loss: 36.2003, Recon: 24.0808, KL: 12.1195\n",
      "\n",
      "===== Epoch 91 =====\n"
     ]
    },
    {
     "name": "stderr",
     "output_type": "stream",
     "text": [
      "Epoch 91/500: 100%|███████████████████████████| 11/11 [00:00<00:00, 1049.91it/s]\n"
     ]
    },
    {
     "name": "stdout",
     "output_type": "stream",
     "text": [
      "Epoch 91, Loss: 36.2906, Recon: 24.3829, KL: 11.9077\n",
      "\n",
      "===== Epoch 92 =====\n"
     ]
    },
    {
     "name": "stderr",
     "output_type": "stream",
     "text": [
      "Epoch 92/500: 100%|███████████████████████████| 11/11 [00:00<00:00, 1082.07it/s]\n"
     ]
    },
    {
     "name": "stdout",
     "output_type": "stream",
     "text": [
      "Epoch 92, Loss: 36.1179, Recon: 24.2045, KL: 11.9134\n",
      "\n",
      "===== Epoch 93 =====\n"
     ]
    },
    {
     "name": "stderr",
     "output_type": "stream",
     "text": [
      "Epoch 93/500: 100%|███████████████████████████| 11/11 [00:00<00:00, 1045.20it/s]\n"
     ]
    },
    {
     "name": "stdout",
     "output_type": "stream",
     "text": [
      "Epoch 93, Loss: 36.2921, Recon: 24.2399, KL: 12.0522\n",
      "\n",
      "===== Epoch 94 =====\n"
     ]
    },
    {
     "name": "stderr",
     "output_type": "stream",
     "text": [
      "Epoch 94/500: 100%|███████████████████████████| 11/11 [00:00<00:00, 1084.39it/s]\n"
     ]
    },
    {
     "name": "stdout",
     "output_type": "stream",
     "text": [
      "Epoch 94, Loss: 36.3058, Recon: 24.2497, KL: 12.0561\n",
      "\n",
      "===== Epoch 95 =====\n"
     ]
    },
    {
     "name": "stderr",
     "output_type": "stream",
     "text": [
      "Epoch 95/500: 100%|███████████████████████████| 11/11 [00:00<00:00, 1083.95it/s]\n"
     ]
    },
    {
     "name": "stdout",
     "output_type": "stream",
     "text": [
      "Epoch 95, Loss: 36.0681, Recon: 24.0287, KL: 12.0395\n",
      "\n",
      "===== Epoch 96 =====\n"
     ]
    },
    {
     "name": "stderr",
     "output_type": "stream",
     "text": [
      "Epoch 96/500: 100%|███████████████████████████| 11/11 [00:00<00:00, 1113.46it/s]\n"
     ]
    },
    {
     "name": "stdout",
     "output_type": "stream",
     "text": [
      "Epoch 96, Loss: 36.0222, Recon: 23.9305, KL: 12.0917\n",
      "\n",
      "===== Epoch 97 =====\n"
     ]
    },
    {
     "name": "stderr",
     "output_type": "stream",
     "text": [
      "Epoch 97/500: 100%|███████████████████████████| 11/11 [00:00<00:00, 1060.85it/s]\n"
     ]
    },
    {
     "name": "stdout",
     "output_type": "stream",
     "text": [
      "Epoch 97, Loss: 35.7226, Recon: 23.6299, KL: 12.0926\n",
      "\n",
      "===== Epoch 98 =====\n"
     ]
    },
    {
     "name": "stderr",
     "output_type": "stream",
     "text": [
      "Epoch 98/500: 100%|███████████████████████████| 11/11 [00:00<00:00, 1057.27it/s]\n"
     ]
    },
    {
     "name": "stdout",
     "output_type": "stream",
     "text": [
      "Epoch 98, Loss: 35.9685, Recon: 23.9700, KL: 11.9984\n",
      "\n",
      "===== Epoch 99 =====\n"
     ]
    },
    {
     "name": "stderr",
     "output_type": "stream",
     "text": [
      "Epoch 99/500: 100%|████████████████████████████| 11/11 [00:00<00:00, 996.19it/s]\n"
     ]
    },
    {
     "name": "stdout",
     "output_type": "stream",
     "text": [
      "Epoch 99, Loss: 35.6721, Recon: 23.7292, KL: 11.9429\n",
      "\n",
      "===== Epoch 100 =====\n"
     ]
    },
    {
     "name": "stderr",
     "output_type": "stream",
     "text": [
      "Epoch 100/500: 100%|██████████████████████████| 11/11 [00:00<00:00, 1057.81it/s]\n"
     ]
    },
    {
     "name": "stdout",
     "output_type": "stream",
     "text": [
      "Epoch 100, Loss: 36.0939, Recon: 24.0850, KL: 12.0089\n",
      "\n",
      "===== Epoch 101 =====\n"
     ]
    },
    {
     "name": "stderr",
     "output_type": "stream",
     "text": [
      "Epoch 101/500: 100%|██████████████████████████| 11/11 [00:00<00:00, 1082.88it/s]\n"
     ]
    },
    {
     "name": "stdout",
     "output_type": "stream",
     "text": [
      "Epoch 101, Loss: 35.8398, Recon: 23.6923, KL: 12.1475\n",
      "\n",
      "===== Epoch 102 =====\n"
     ]
    },
    {
     "name": "stderr",
     "output_type": "stream",
     "text": [
      "Epoch 102/500: 100%|██████████████████████████| 11/11 [00:00<00:00, 1058.83it/s]\n"
     ]
    },
    {
     "name": "stdout",
     "output_type": "stream",
     "text": [
      "Epoch 102, Loss: 35.9274, Recon: 23.8215, KL: 12.1059\n",
      "\n",
      "===== Epoch 103 =====\n"
     ]
    },
    {
     "name": "stderr",
     "output_type": "stream",
     "text": [
      "Epoch 103/500: 100%|██████████████████████████| 11/11 [00:00<00:00, 1036.68it/s]\n"
     ]
    },
    {
     "name": "stdout",
     "output_type": "stream",
     "text": [
      "Epoch 103, Loss: 35.6560, Recon: 23.5241, KL: 12.1319\n",
      "\n",
      "===== Epoch 104 =====\n"
     ]
    },
    {
     "name": "stderr",
     "output_type": "stream",
     "text": [
      "Epoch 104/500: 100%|██████████████████████████| 11/11 [00:00<00:00, 1029.87it/s]\n"
     ]
    },
    {
     "name": "stdout",
     "output_type": "stream",
     "text": [
      "Epoch 104, Loss: 35.7084, Recon: 23.5635, KL: 12.1449\n",
      "\n",
      "===== Epoch 105 =====\n"
     ]
    },
    {
     "name": "stderr",
     "output_type": "stream",
     "text": [
      "Epoch 105/500: 100%|██████████████████████████| 11/11 [00:00<00:00, 1033.26it/s]\n"
     ]
    },
    {
     "name": "stdout",
     "output_type": "stream",
     "text": [
      "Epoch 105, Loss: 35.1905, Recon: 23.0059, KL: 12.1846\n",
      "\n",
      "===== Epoch 106 =====\n"
     ]
    },
    {
     "name": "stderr",
     "output_type": "stream",
     "text": [
      "Epoch 106/500: 100%|██████████████████████████| 11/11 [00:00<00:00, 1052.33it/s]\n"
     ]
    },
    {
     "name": "stdout",
     "output_type": "stream",
     "text": [
      "Epoch 106, Loss: 35.4610, Recon: 23.4058, KL: 12.0552\n",
      "\n",
      "===== Epoch 107 =====\n"
     ]
    },
    {
     "name": "stderr",
     "output_type": "stream",
     "text": [
      "Epoch 107/500: 100%|██████████████████████████| 11/11 [00:00<00:00, 1081.39it/s]\n"
     ]
    },
    {
     "name": "stdout",
     "output_type": "stream",
     "text": [
      "Epoch 107, Loss: 35.2926, Recon: 23.2693, KL: 12.0233\n",
      "\n",
      "===== Epoch 108 =====\n"
     ]
    },
    {
     "name": "stderr",
     "output_type": "stream",
     "text": [
      "Epoch 108/500: 100%|██████████████████████████| 11/11 [00:00<00:00, 1058.61it/s]\n"
     ]
    },
    {
     "name": "stdout",
     "output_type": "stream",
     "text": [
      "Epoch 108, Loss: 35.5945, Recon: 23.6205, KL: 11.9741\n",
      "\n",
      "===== Epoch 109 =====\n"
     ]
    },
    {
     "name": "stderr",
     "output_type": "stream",
     "text": [
      "Epoch 109/500: 100%|██████████████████████████| 11/11 [00:00<00:00, 1068.88it/s]\n"
     ]
    },
    {
     "name": "stdout",
     "output_type": "stream",
     "text": [
      "Epoch 109, Loss: 35.2990, Recon: 23.0823, KL: 12.2167\n",
      "\n",
      "===== Epoch 110 =====\n"
     ]
    },
    {
     "name": "stderr",
     "output_type": "stream",
     "text": [
      "Epoch 110/500: 100%|██████████████████████████| 11/11 [00:00<00:00, 1055.75it/s]\n"
     ]
    },
    {
     "name": "stdout",
     "output_type": "stream",
     "text": [
      "Epoch 110, Loss: 35.3923, Recon: 23.2385, KL: 12.1538\n",
      "\n",
      "===== Epoch 111 =====\n"
     ]
    },
    {
     "name": "stderr",
     "output_type": "stream",
     "text": [
      "Epoch 111/500: 100%|██████████████████████████| 11/11 [00:00<00:00, 1077.47it/s]\n"
     ]
    },
    {
     "name": "stdout",
     "output_type": "stream",
     "text": [
      "Epoch 111, Loss: 35.3272, Recon: 23.2143, KL: 12.1128\n",
      "\n",
      "===== Epoch 112 =====\n"
     ]
    },
    {
     "name": "stderr",
     "output_type": "stream",
     "text": [
      "Epoch 112/500: 100%|██████████████████████████| 11/11 [00:00<00:00, 1068.29it/s]\n"
     ]
    },
    {
     "name": "stdout",
     "output_type": "stream",
     "text": [
      "Epoch 112, Loss: 35.0518, Recon: 22.8791, KL: 12.1727\n",
      "\n",
      "===== Epoch 113 =====\n"
     ]
    },
    {
     "name": "stderr",
     "output_type": "stream",
     "text": [
      "Epoch 113/500: 100%|██████████████████████████| 11/11 [00:00<00:00, 1057.42it/s]\n"
     ]
    },
    {
     "name": "stdout",
     "output_type": "stream",
     "text": [
      "Epoch 113, Loss: 35.2293, Recon: 23.1453, KL: 12.0840\n",
      "\n",
      "===== Epoch 114 =====\n"
     ]
    },
    {
     "name": "stderr",
     "output_type": "stream",
     "text": [
      "Epoch 114/500: 100%|██████████████████████████| 11/11 [00:00<00:00, 1094.94it/s]\n"
     ]
    },
    {
     "name": "stdout",
     "output_type": "stream",
     "text": [
      "Epoch 114, Loss: 35.0723, Recon: 22.8055, KL: 12.2668\n",
      "\n",
      "===== Epoch 115 =====\n"
     ]
    },
    {
     "name": "stderr",
     "output_type": "stream",
     "text": [
      "Epoch 115/500: 100%|██████████████████████████| 11/11 [00:00<00:00, 1043.43it/s]\n"
     ]
    },
    {
     "name": "stdout",
     "output_type": "stream",
     "text": [
      "Epoch 115, Loss: 35.0033, Recon: 22.7550, KL: 12.2483\n",
      "\n",
      "===== Epoch 116 =====\n"
     ]
    },
    {
     "name": "stderr",
     "output_type": "stream",
     "text": [
      "Epoch 116/500: 100%|██████████████████████████| 11/11 [00:00<00:00, 1052.23it/s]\n"
     ]
    },
    {
     "name": "stdout",
     "output_type": "stream",
     "text": [
      "Epoch 116, Loss: 35.1052, Recon: 22.9001, KL: 12.2051\n",
      "\n",
      "===== Epoch 117 =====\n"
     ]
    },
    {
     "name": "stderr",
     "output_type": "stream",
     "text": [
      "Epoch 117/500: 100%|██████████████████████████| 11/11 [00:00<00:00, 1099.77it/s]\n"
     ]
    },
    {
     "name": "stdout",
     "output_type": "stream",
     "text": [
      "Epoch 117, Loss: 34.9084, Recon: 22.6412, KL: 12.2672\n",
      "\n",
      "===== Epoch 118 =====\n"
     ]
    },
    {
     "name": "stderr",
     "output_type": "stream",
     "text": [
      "Epoch 118/500: 100%|██████████████████████████| 11/11 [00:00<00:00, 1084.05it/s]\n"
     ]
    },
    {
     "name": "stdout",
     "output_type": "stream",
     "text": [
      "Epoch 118, Loss: 34.9685, Recon: 22.6278, KL: 12.3407\n",
      "\n",
      "===== Epoch 119 =====\n"
     ]
    },
    {
     "name": "stderr",
     "output_type": "stream",
     "text": [
      "Epoch 119/500: 100%|██████████████████████████| 11/11 [00:00<00:00, 1035.28it/s]\n"
     ]
    },
    {
     "name": "stdout",
     "output_type": "stream",
     "text": [
      "Epoch 119, Loss: 34.9237, Recon: 22.7619, KL: 12.1618\n",
      "\n",
      "===== Epoch 120 =====\n"
     ]
    },
    {
     "name": "stderr",
     "output_type": "stream",
     "text": [
      "Epoch 120/500: 100%|██████████████████████████| 11/11 [00:00<00:00, 1042.16it/s]\n"
     ]
    },
    {
     "name": "stdout",
     "output_type": "stream",
     "text": [
      "Epoch 120, Loss: 34.8842, Recon: 22.6478, KL: 12.2364\n",
      "\n",
      "===== Epoch 121 =====\n"
     ]
    },
    {
     "name": "stderr",
     "output_type": "stream",
     "text": [
      "Epoch 121/500: 100%|██████████████████████████| 11/11 [00:00<00:00, 1080.04it/s]\n"
     ]
    },
    {
     "name": "stdout",
     "output_type": "stream",
     "text": [
      "Epoch 121, Loss: 34.6165, Recon: 22.3826, KL: 12.2339\n",
      "\n",
      "===== Epoch 122 =====\n"
     ]
    },
    {
     "name": "stderr",
     "output_type": "stream",
     "text": [
      "Epoch 122/500: 100%|██████████████████████████| 11/11 [00:00<00:00, 1065.80it/s]\n"
     ]
    },
    {
     "name": "stdout",
     "output_type": "stream",
     "text": [
      "Epoch 122, Loss: 34.5965, Recon: 22.4008, KL: 12.1957\n",
      "\n",
      "===== Epoch 123 =====\n"
     ]
    },
    {
     "name": "stderr",
     "output_type": "stream",
     "text": [
      "Epoch 123/500: 100%|██████████████████████████| 11/11 [00:00<00:00, 1053.65it/s]\n"
     ]
    },
    {
     "name": "stdout",
     "output_type": "stream",
     "text": [
      "Epoch 123, Loss: 34.6252, Recon: 22.4398, KL: 12.1855\n",
      "\n",
      "===== Epoch 124 =====\n"
     ]
    },
    {
     "name": "stderr",
     "output_type": "stream",
     "text": [
      "Epoch 124/500: 100%|██████████████████████████| 11/11 [00:00<00:00, 1090.95it/s]\n"
     ]
    },
    {
     "name": "stdout",
     "output_type": "stream",
     "text": [
      "Epoch 124, Loss: 34.6946, Recon: 22.5316, KL: 12.1630\n",
      "\n",
      "===== Epoch 125 =====\n"
     ]
    },
    {
     "name": "stderr",
     "output_type": "stream",
     "text": [
      "Epoch 125/500: 100%|██████████████████████████| 11/11 [00:00<00:00, 1085.23it/s]\n"
     ]
    },
    {
     "name": "stdout",
     "output_type": "stream",
     "text": [
      "Epoch 125, Loss: 34.4526, Recon: 22.2624, KL: 12.1902\n",
      "\n",
      "===== Epoch 126 =====\n"
     ]
    },
    {
     "name": "stderr",
     "output_type": "stream",
     "text": [
      "Epoch 126/500: 100%|██████████████████████████| 11/11 [00:00<00:00, 1071.52it/s]\n"
     ]
    },
    {
     "name": "stdout",
     "output_type": "stream",
     "text": [
      "Epoch 126, Loss: 34.5607, Recon: 22.4040, KL: 12.1567\n",
      "\n",
      "===== Epoch 127 =====\n"
     ]
    },
    {
     "name": "stderr",
     "output_type": "stream",
     "text": [
      "Epoch 127/500: 100%|██████████████████████████| 11/11 [00:00<00:00, 1068.07it/s]\n"
     ]
    },
    {
     "name": "stdout",
     "output_type": "stream",
     "text": [
      "Epoch 127, Loss: 34.8063, Recon: 22.5010, KL: 12.3053\n",
      "\n",
      "===== Epoch 128 =====\n"
     ]
    },
    {
     "name": "stderr",
     "output_type": "stream",
     "text": [
      "Epoch 128/500: 100%|██████████████████████████| 11/11 [00:00<00:00, 1091.16it/s]\n"
     ]
    },
    {
     "name": "stdout",
     "output_type": "stream",
     "text": [
      "Epoch 128, Loss: 34.6899, Recon: 22.3248, KL: 12.3650\n",
      "\n",
      "===== Epoch 129 =====\n"
     ]
    },
    {
     "name": "stderr",
     "output_type": "stream",
     "text": [
      "Epoch 129/500: 100%|██████████████████████████| 11/11 [00:00<00:00, 1099.79it/s]\n"
     ]
    },
    {
     "name": "stdout",
     "output_type": "stream",
     "text": [
      "Epoch 129, Loss: 34.5394, Recon: 22.1660, KL: 12.3734\n",
      "\n",
      "===== Epoch 130 =====\n"
     ]
    },
    {
     "name": "stderr",
     "output_type": "stream",
     "text": [
      "Epoch 130/500: 100%|██████████████████████████| 11/11 [00:00<00:00, 1093.15it/s]\n"
     ]
    },
    {
     "name": "stdout",
     "output_type": "stream",
     "text": [
      "Epoch 130, Loss: 34.6059, Recon: 22.3130, KL: 12.2929\n",
      "\n",
      "===== Epoch 131 =====\n"
     ]
    },
    {
     "name": "stderr",
     "output_type": "stream",
     "text": [
      "Epoch 131/500: 100%|██████████████████████████| 11/11 [00:00<00:00, 1090.07it/s]\n"
     ]
    },
    {
     "name": "stdout",
     "output_type": "stream",
     "text": [
      "Epoch 131, Loss: 34.5617, Recon: 22.1798, KL: 12.3818\n",
      "\n",
      "===== Epoch 132 =====\n"
     ]
    },
    {
     "name": "stderr",
     "output_type": "stream",
     "text": [
      "Epoch 132/500: 100%|██████████████████████████| 11/11 [00:00<00:00, 1065.48it/s]\n"
     ]
    },
    {
     "name": "stdout",
     "output_type": "stream",
     "text": [
      "Epoch 132, Loss: 34.6375, Recon: 22.2109, KL: 12.4266\n",
      "\n",
      "===== Epoch 133 =====\n"
     ]
    },
    {
     "name": "stderr",
     "output_type": "stream",
     "text": [
      "Epoch 133/500: 100%|██████████████████████████| 11/11 [00:00<00:00, 1075.59it/s]\n"
     ]
    },
    {
     "name": "stdout",
     "output_type": "stream",
     "text": [
      "Epoch 133, Loss: 34.2873, Recon: 21.7850, KL: 12.5023\n",
      "\n",
      "===== Epoch 134 =====\n"
     ]
    },
    {
     "name": "stderr",
     "output_type": "stream",
     "text": [
      "Epoch 134/500: 100%|██████████████████████████| 11/11 [00:00<00:00, 1071.42it/s]\n"
     ]
    },
    {
     "name": "stdout",
     "output_type": "stream",
     "text": [
      "Epoch 134, Loss: 34.4252, Recon: 22.0231, KL: 12.4020\n",
      "\n",
      "===== Epoch 135 =====\n"
     ]
    },
    {
     "name": "stderr",
     "output_type": "stream",
     "text": [
      "Epoch 135/500: 100%|██████████████████████████| 11/11 [00:00<00:00, 1066.41it/s]\n"
     ]
    },
    {
     "name": "stdout",
     "output_type": "stream",
     "text": [
      "Epoch 135, Loss: 34.1855, Recon: 21.6916, KL: 12.4939\n",
      "\n",
      "===== Epoch 136 =====\n"
     ]
    },
    {
     "name": "stderr",
     "output_type": "stream",
     "text": [
      "Epoch 136/500: 100%|██████████████████████████| 11/11 [00:00<00:00, 1058.10it/s]\n"
     ]
    },
    {
     "name": "stdout",
     "output_type": "stream",
     "text": [
      "Epoch 136, Loss: 34.2377, Recon: 21.9071, KL: 12.3306\n",
      "\n",
      "===== Epoch 137 =====\n"
     ]
    },
    {
     "name": "stderr",
     "output_type": "stream",
     "text": [
      "Epoch 137/500: 100%|██████████████████████████| 11/11 [00:00<00:00, 1084.41it/s]\n"
     ]
    },
    {
     "name": "stdout",
     "output_type": "stream",
     "text": [
      "Epoch 137, Loss: 34.3356, Recon: 21.9889, KL: 12.3467\n",
      "\n",
      "===== Epoch 138 =====\n"
     ]
    },
    {
     "name": "stderr",
     "output_type": "stream",
     "text": [
      "Epoch 138/500: 100%|██████████████████████████| 11/11 [00:00<00:00, 1074.94it/s]\n"
     ]
    },
    {
     "name": "stdout",
     "output_type": "stream",
     "text": [
      "Epoch 138, Loss: 34.3258, Recon: 21.9124, KL: 12.4133\n",
      "\n",
      "===== Epoch 139 =====\n"
     ]
    },
    {
     "name": "stderr",
     "output_type": "stream",
     "text": [
      "Epoch 139/500: 100%|██████████████████████████| 11/11 [00:00<00:00, 1078.98it/s]\n"
     ]
    },
    {
     "name": "stdout",
     "output_type": "stream",
     "text": [
      "Epoch 139, Loss: 34.2727, Recon: 21.8662, KL: 12.4065\n",
      "\n",
      "===== Epoch 140 =====\n"
     ]
    },
    {
     "name": "stderr",
     "output_type": "stream",
     "text": [
      "Epoch 140/500: 100%|██████████████████████████| 11/11 [00:00<00:00, 1068.91it/s]\n"
     ]
    },
    {
     "name": "stdout",
     "output_type": "stream",
     "text": [
      "Epoch 140, Loss: 34.0598, Recon: 21.6725, KL: 12.3873\n",
      "\n",
      "===== Epoch 141 =====\n"
     ]
    },
    {
     "name": "stderr",
     "output_type": "stream",
     "text": [
      "Epoch 141/500: 100%|██████████████████████████| 11/11 [00:00<00:00, 1098.82it/s]\n"
     ]
    },
    {
     "name": "stdout",
     "output_type": "stream",
     "text": [
      "Epoch 141, Loss: 34.0450, Recon: 21.6504, KL: 12.3946\n",
      "\n",
      "===== Epoch 142 =====\n"
     ]
    },
    {
     "name": "stderr",
     "output_type": "stream",
     "text": [
      "Epoch 142/500: 100%|██████████████████████████| 11/11 [00:00<00:00, 1058.61it/s]\n"
     ]
    },
    {
     "name": "stdout",
     "output_type": "stream",
     "text": [
      "Epoch 142, Loss: 34.2171, Recon: 21.8344, KL: 12.3827\n",
      "\n",
      "===== Epoch 143 =====\n"
     ]
    },
    {
     "name": "stderr",
     "output_type": "stream",
     "text": [
      "Epoch 143/500: 100%|██████████████████████████| 11/11 [00:00<00:00, 1095.20it/s]\n"
     ]
    },
    {
     "name": "stdout",
     "output_type": "stream",
     "text": [
      "Epoch 143, Loss: 34.3173, Recon: 21.8757, KL: 12.4416\n",
      "\n",
      "===== Epoch 144 =====\n"
     ]
    },
    {
     "name": "stderr",
     "output_type": "stream",
     "text": [
      "Epoch 144/500: 100%|██████████████████████████| 11/11 [00:00<00:00, 1045.25it/s]\n"
     ]
    },
    {
     "name": "stdout",
     "output_type": "stream",
     "text": [
      "Epoch 144, Loss: 34.2685, Recon: 21.6523, KL: 12.6162\n",
      "\n",
      "===== Epoch 145 =====\n"
     ]
    },
    {
     "name": "stderr",
     "output_type": "stream",
     "text": [
      "Epoch 145/500: 100%|██████████████████████████| 11/11 [00:00<00:00, 1072.24it/s]\n"
     ]
    },
    {
     "name": "stdout",
     "output_type": "stream",
     "text": [
      "Epoch 145, Loss: 33.8005, Recon: 21.1922, KL: 12.6083\n",
      "\n",
      "===== Epoch 146 =====\n"
     ]
    },
    {
     "name": "stderr",
     "output_type": "stream",
     "text": [
      "Epoch 146/500: 100%|██████████████████████████| 11/11 [00:00<00:00, 1054.83it/s]\n"
     ]
    },
    {
     "name": "stdout",
     "output_type": "stream",
     "text": [
      "Epoch 146, Loss: 33.6913, Recon: 21.1728, KL: 12.5185\n",
      "\n",
      "===== Epoch 147 =====\n"
     ]
    },
    {
     "name": "stderr",
     "output_type": "stream",
     "text": [
      "Epoch 147/500: 100%|██████████████████████████| 11/11 [00:00<00:00, 1080.15it/s]\n"
     ]
    },
    {
     "name": "stdout",
     "output_type": "stream",
     "text": [
      "Epoch 147, Loss: 33.6628, Recon: 21.3225, KL: 12.3403\n",
      "\n",
      "===== Epoch 148 =====\n"
     ]
    },
    {
     "name": "stderr",
     "output_type": "stream",
     "text": [
      "Epoch 148/500: 100%|██████████████████████████| 11/11 [00:00<00:00, 1031.42it/s]\n"
     ]
    },
    {
     "name": "stdout",
     "output_type": "stream",
     "text": [
      "Epoch 148, Loss: 33.9956, Recon: 21.8164, KL: 12.1792\n",
      "\n",
      "===== Epoch 149 =====\n"
     ]
    },
    {
     "name": "stderr",
     "output_type": "stream",
     "text": [
      "Epoch 149/500: 100%|██████████████████████████| 11/11 [00:00<00:00, 1081.92it/s]\n"
     ]
    },
    {
     "name": "stdout",
     "output_type": "stream",
     "text": [
      "Epoch 149, Loss: 33.8977, Recon: 21.5654, KL: 12.3323\n",
      "\n",
      "===== Epoch 150 =====\n"
     ]
    },
    {
     "name": "stderr",
     "output_type": "stream",
     "text": [
      "Epoch 150/500: 100%|██████████████████████████| 11/11 [00:00<00:00, 1035.58it/s]\n"
     ]
    },
    {
     "name": "stdout",
     "output_type": "stream",
     "text": [
      "Epoch 150, Loss: 33.7380, Recon: 21.2531, KL: 12.4849\n",
      "\n",
      "===== Epoch 151 =====\n"
     ]
    },
    {
     "name": "stderr",
     "output_type": "stream",
     "text": [
      "Epoch 151/500: 100%|██████████████████████████| 11/11 [00:00<00:00, 1079.89it/s]\n"
     ]
    },
    {
     "name": "stdout",
     "output_type": "stream",
     "text": [
      "Epoch 151, Loss: 34.0439, Recon: 21.4342, KL: 12.6097\n",
      "\n",
      "===== Epoch 152 =====\n"
     ]
    },
    {
     "name": "stderr",
     "output_type": "stream",
     "text": [
      "Epoch 152/500: 100%|██████████████████████████| 11/11 [00:00<00:00, 1098.01it/s]\n"
     ]
    },
    {
     "name": "stdout",
     "output_type": "stream",
     "text": [
      "Epoch 152, Loss: 33.6872, Recon: 21.0500, KL: 12.6372\n",
      "\n",
      "===== Epoch 153 =====\n"
     ]
    },
    {
     "name": "stderr",
     "output_type": "stream",
     "text": [
      "Epoch 153/500: 100%|██████████████████████████| 11/11 [00:00<00:00, 1063.02it/s]\n"
     ]
    },
    {
     "name": "stdout",
     "output_type": "stream",
     "text": [
      "Epoch 153, Loss: 33.9469, Recon: 21.3770, KL: 12.5699\n",
      "\n",
      "===== Epoch 154 =====\n"
     ]
    },
    {
     "name": "stderr",
     "output_type": "stream",
     "text": [
      "Epoch 154/500: 100%|██████████████████████████| 11/11 [00:00<00:00, 1029.19it/s]\n"
     ]
    },
    {
     "name": "stdout",
     "output_type": "stream",
     "text": [
      "Epoch 154, Loss: 33.7733, Recon: 21.1927, KL: 12.5806\n",
      "\n",
      "===== Epoch 155 =====\n"
     ]
    },
    {
     "name": "stderr",
     "output_type": "stream",
     "text": [
      "Epoch 155/500: 100%|██████████████████████████| 11/11 [00:00<00:00, 1061.17it/s]\n"
     ]
    },
    {
     "name": "stdout",
     "output_type": "stream",
     "text": [
      "Epoch 155, Loss: 33.7098, Recon: 21.1693, KL: 12.5405\n",
      "\n",
      "===== Epoch 156 =====\n"
     ]
    },
    {
     "name": "stderr",
     "output_type": "stream",
     "text": [
      "Epoch 156/500: 100%|██████████████████████████| 11/11 [00:00<00:00, 1060.02it/s]\n"
     ]
    },
    {
     "name": "stdout",
     "output_type": "stream",
     "text": [
      "Epoch 156, Loss: 33.7317, Recon: 21.1080, KL: 12.6237\n",
      "\n",
      "===== Epoch 157 =====\n"
     ]
    },
    {
     "name": "stderr",
     "output_type": "stream",
     "text": [
      "Epoch 157/500: 100%|██████████████████████████| 11/11 [00:00<00:00, 1040.32it/s]\n"
     ]
    },
    {
     "name": "stdout",
     "output_type": "stream",
     "text": [
      "Epoch 157, Loss: 33.5595, Recon: 21.0410, KL: 12.5185\n",
      "\n",
      "===== Epoch 158 =====\n"
     ]
    },
    {
     "name": "stderr",
     "output_type": "stream",
     "text": [
      "Epoch 158/500: 100%|██████████████████████████| 11/11 [00:00<00:00, 1046.63it/s]\n"
     ]
    },
    {
     "name": "stdout",
     "output_type": "stream",
     "text": [
      "Epoch 158, Loss: 33.7745, Recon: 21.2738, KL: 12.5007\n",
      "\n",
      "===== Epoch 159 =====\n"
     ]
    },
    {
     "name": "stderr",
     "output_type": "stream",
     "text": [
      "Epoch 159/500: 100%|██████████████████████████| 11/11 [00:00<00:00, 1068.41it/s]\n"
     ]
    },
    {
     "name": "stdout",
     "output_type": "stream",
     "text": [
      "Epoch 159, Loss: 33.4833, Recon: 20.9072, KL: 12.5761\n",
      "\n",
      "===== Epoch 160 =====\n"
     ]
    },
    {
     "name": "stderr",
     "output_type": "stream",
     "text": [
      "Epoch 160/500: 100%|██████████████████████████| 11/11 [00:00<00:00, 1072.51it/s]\n"
     ]
    },
    {
     "name": "stdout",
     "output_type": "stream",
     "text": [
      "Epoch 160, Loss: 33.6028, Recon: 21.1458, KL: 12.4569\n",
      "\n",
      "===== Epoch 161 =====\n"
     ]
    },
    {
     "name": "stderr",
     "output_type": "stream",
     "text": [
      "Epoch 161/500: 100%|██████████████████████████| 11/11 [00:00<00:00, 1068.69it/s]\n"
     ]
    },
    {
     "name": "stdout",
     "output_type": "stream",
     "text": [
      "Epoch 161, Loss: 33.6779, Recon: 21.1567, KL: 12.5212\n",
      "\n",
      "===== Epoch 162 =====\n"
     ]
    },
    {
     "name": "stderr",
     "output_type": "stream",
     "text": [
      "Epoch 162/500: 100%|██████████████████████████| 11/11 [00:00<00:00, 1040.86it/s]\n"
     ]
    },
    {
     "name": "stdout",
     "output_type": "stream",
     "text": [
      "Epoch 162, Loss: 33.5815, Recon: 20.9870, KL: 12.5945\n",
      "\n",
      "===== Epoch 163 =====\n"
     ]
    },
    {
     "name": "stderr",
     "output_type": "stream",
     "text": [
      "Epoch 163/500: 100%|██████████████████████████| 11/11 [00:00<00:00, 1016.80it/s]\n"
     ]
    },
    {
     "name": "stdout",
     "output_type": "stream",
     "text": [
      "Epoch 163, Loss: 33.4515, Recon: 20.9157, KL: 12.5358\n",
      "\n",
      "===== Epoch 164 =====\n"
     ]
    },
    {
     "name": "stderr",
     "output_type": "stream",
     "text": [
      "Epoch 164/500: 100%|██████████████████████████| 11/11 [00:00<00:00, 1062.09it/s]\n"
     ]
    },
    {
     "name": "stdout",
     "output_type": "stream",
     "text": [
      "Epoch 164, Loss: 33.8427, Recon: 21.2796, KL: 12.5631\n",
      "\n",
      "===== Epoch 165 =====\n"
     ]
    },
    {
     "name": "stderr",
     "output_type": "stream",
     "text": [
      "Epoch 165/500: 100%|██████████████████████████| 11/11 [00:00<00:00, 1068.49it/s]\n"
     ]
    },
    {
     "name": "stdout",
     "output_type": "stream",
     "text": [
      "Epoch 165, Loss: 33.3565, Recon: 20.7342, KL: 12.6223\n",
      "\n",
      "===== Epoch 166 =====\n"
     ]
    },
    {
     "name": "stderr",
     "output_type": "stream",
     "text": [
      "Epoch 166/500: 100%|██████████████████████████| 11/11 [00:00<00:00, 1140.60it/s]\n"
     ]
    },
    {
     "name": "stdout",
     "output_type": "stream",
     "text": [
      "Epoch 166, Loss: 33.5626, Recon: 20.9879, KL: 12.5746\n",
      "\n",
      "===== Epoch 167 =====\n"
     ]
    },
    {
     "name": "stderr",
     "output_type": "stream",
     "text": [
      "Epoch 167/500: 100%|██████████████████████████| 11/11 [00:00<00:00, 1047.12it/s]\n"
     ]
    },
    {
     "name": "stdout",
     "output_type": "stream",
     "text": [
      "Epoch 167, Loss: 33.1987, Recon: 20.5957, KL: 12.6030\n",
      "\n",
      "===== Epoch 168 =====\n"
     ]
    },
    {
     "name": "stderr",
     "output_type": "stream",
     "text": [
      "Epoch 168/500: 100%|██████████████████████████| 11/11 [00:00<00:00, 1055.68it/s]\n"
     ]
    },
    {
     "name": "stdout",
     "output_type": "stream",
     "text": [
      "Epoch 168, Loss: 33.3636, Recon: 20.8363, KL: 12.5274\n",
      "\n",
      "===== Epoch 169 =====\n"
     ]
    },
    {
     "name": "stderr",
     "output_type": "stream",
     "text": [
      "Epoch 169/500: 100%|██████████████████████████| 11/11 [00:00<00:00, 1041.36it/s]\n"
     ]
    },
    {
     "name": "stdout",
     "output_type": "stream",
     "text": [
      "Epoch 169, Loss: 33.6580, Recon: 21.1068, KL: 12.5512\n",
      "\n",
      "===== Epoch 170 =====\n"
     ]
    },
    {
     "name": "stderr",
     "output_type": "stream",
     "text": [
      "Epoch 170/500: 100%|██████████████████████████| 11/11 [00:00<00:00, 1054.45it/s]\n"
     ]
    },
    {
     "name": "stdout",
     "output_type": "stream",
     "text": [
      "Epoch 170, Loss: 33.3076, Recon: 20.7032, KL: 12.6044\n",
      "\n",
      "===== Epoch 171 =====\n"
     ]
    },
    {
     "name": "stderr",
     "output_type": "stream",
     "text": [
      "Epoch 171/500: 100%|██████████████████████████| 11/11 [00:00<00:00, 1051.42it/s]\n"
     ]
    },
    {
     "name": "stdout",
     "output_type": "stream",
     "text": [
      "Epoch 171, Loss: 33.2049, Recon: 20.5319, KL: 12.6730\n",
      "\n",
      "===== Epoch 172 =====\n"
     ]
    },
    {
     "name": "stderr",
     "output_type": "stream",
     "text": [
      "Epoch 172/500: 100%|██████████████████████████| 11/11 [00:00<00:00, 1067.10it/s]\n"
     ]
    },
    {
     "name": "stdout",
     "output_type": "stream",
     "text": [
      "Epoch 172, Loss: 33.3498, Recon: 20.7905, KL: 12.5592\n",
      "\n",
      "===== Epoch 173 =====\n"
     ]
    },
    {
     "name": "stderr",
     "output_type": "stream",
     "text": [
      "Epoch 173/500: 100%|██████████████████████████| 11/11 [00:00<00:00, 1065.97it/s]\n"
     ]
    },
    {
     "name": "stdout",
     "output_type": "stream",
     "text": [
      "Epoch 173, Loss: 33.3173, Recon: 20.7160, KL: 12.6013\n",
      "\n",
      "===== Epoch 174 =====\n"
     ]
    },
    {
     "name": "stderr",
     "output_type": "stream",
     "text": [
      "Epoch 174/500: 100%|██████████████████████████| 11/11 [00:00<00:00, 1073.16it/s]\n"
     ]
    },
    {
     "name": "stdout",
     "output_type": "stream",
     "text": [
      "Epoch 174, Loss: 33.1144, Recon: 20.4791, KL: 12.6353\n",
      "\n",
      "===== Epoch 175 =====\n"
     ]
    },
    {
     "name": "stderr",
     "output_type": "stream",
     "text": [
      "Epoch 175/500: 100%|██████████████████████████| 11/11 [00:00<00:00, 1117.91it/s]\n"
     ]
    },
    {
     "name": "stdout",
     "output_type": "stream",
     "text": [
      "Epoch 175, Loss: 33.0138, Recon: 20.4494, KL: 12.5644\n",
      "\n",
      "===== Epoch 176 =====\n"
     ]
    },
    {
     "name": "stderr",
     "output_type": "stream",
     "text": [
      "Epoch 176/500: 100%|██████████████████████████| 11/11 [00:00<00:00, 1062.58it/s]\n"
     ]
    },
    {
     "name": "stdout",
     "output_type": "stream",
     "text": [
      "Epoch 176, Loss: 32.8967, Recon: 20.4307, KL: 12.4660\n",
      "\n",
      "===== Epoch 177 =====\n"
     ]
    },
    {
     "name": "stderr",
     "output_type": "stream",
     "text": [
      "Epoch 177/500: 100%|██████████████████████████| 11/11 [00:00<00:00, 1074.41it/s]\n"
     ]
    },
    {
     "name": "stdout",
     "output_type": "stream",
     "text": [
      "Epoch 177, Loss: 33.0385, Recon: 20.5947, KL: 12.4438\n",
      "\n",
      "===== Epoch 178 =====\n"
     ]
    },
    {
     "name": "stderr",
     "output_type": "stream",
     "text": [
      "Epoch 178/500: 100%|██████████████████████████| 11/11 [00:00<00:00, 1103.18it/s]\n"
     ]
    },
    {
     "name": "stdout",
     "output_type": "stream",
     "text": [
      "Epoch 178, Loss: 32.8990, Recon: 20.5146, KL: 12.3844\n",
      "\n",
      "===== Epoch 179 =====\n"
     ]
    },
    {
     "name": "stderr",
     "output_type": "stream",
     "text": [
      "Epoch 179/500: 100%|██████████████████████████| 11/11 [00:00<00:00, 1077.47it/s]\n"
     ]
    },
    {
     "name": "stdout",
     "output_type": "stream",
     "text": [
      "Epoch 179, Loss: 33.0950, Recon: 20.5979, KL: 12.4971\n",
      "\n",
      "===== Epoch 180 =====\n"
     ]
    },
    {
     "name": "stderr",
     "output_type": "stream",
     "text": [
      "Epoch 180/500: 100%|██████████████████████████| 11/11 [00:00<00:00, 1052.11it/s]\n"
     ]
    },
    {
     "name": "stdout",
     "output_type": "stream",
     "text": [
      "Epoch 180, Loss: 33.2886, Recon: 20.6935, KL: 12.5951\n",
      "\n",
      "===== Epoch 181 =====\n"
     ]
    },
    {
     "name": "stderr",
     "output_type": "stream",
     "text": [
      "Epoch 181/500: 100%|██████████████████████████| 11/11 [00:00<00:00, 1088.89it/s]\n"
     ]
    },
    {
     "name": "stdout",
     "output_type": "stream",
     "text": [
      "Epoch 181, Loss: 32.9438, Recon: 20.3379, KL: 12.6059\n",
      "\n",
      "===== Epoch 182 =====\n"
     ]
    },
    {
     "name": "stderr",
     "output_type": "stream",
     "text": [
      "Epoch 182/500: 100%|██████████████████████████| 11/11 [00:00<00:00, 1059.31it/s]\n"
     ]
    },
    {
     "name": "stdout",
     "output_type": "stream",
     "text": [
      "Epoch 182, Loss: 32.7691, Recon: 20.2141, KL: 12.5550\n",
      "\n",
      "===== Epoch 183 =====\n"
     ]
    },
    {
     "name": "stderr",
     "output_type": "stream",
     "text": [
      "Epoch 183/500: 100%|██████████████████████████| 11/11 [00:00<00:00, 1074.76it/s]\n"
     ]
    },
    {
     "name": "stdout",
     "output_type": "stream",
     "text": [
      "Epoch 183, Loss: 32.9033, Recon: 20.4013, KL: 12.5020\n",
      "\n",
      "===== Epoch 184 =====\n"
     ]
    },
    {
     "name": "stderr",
     "output_type": "stream",
     "text": [
      "Epoch 184/500: 100%|██████████████████████████| 11/11 [00:00<00:00, 1047.12it/s]\n"
     ]
    },
    {
     "name": "stdout",
     "output_type": "stream",
     "text": [
      "Epoch 184, Loss: 32.8798, Recon: 20.3564, KL: 12.5234\n",
      "\n",
      "===== Epoch 185 =====\n"
     ]
    },
    {
     "name": "stderr",
     "output_type": "stream",
     "text": [
      "Epoch 185/500: 100%|██████████████████████████| 11/11 [00:00<00:00, 1080.12it/s]\n"
     ]
    },
    {
     "name": "stdout",
     "output_type": "stream",
     "text": [
      "Epoch 185, Loss: 33.0390, Recon: 20.5532, KL: 12.4858\n",
      "\n",
      "===== Epoch 186 =====\n"
     ]
    },
    {
     "name": "stderr",
     "output_type": "stream",
     "text": [
      "Epoch 186/500: 100%|██████████████████████████| 11/11 [00:00<00:00, 1066.61it/s]\n"
     ]
    },
    {
     "name": "stdout",
     "output_type": "stream",
     "text": [
      "Epoch 186, Loss: 32.8837, Recon: 20.3090, KL: 12.5747\n",
      "\n",
      "===== Epoch 187 =====\n"
     ]
    },
    {
     "name": "stderr",
     "output_type": "stream",
     "text": [
      "Epoch 187/500: 100%|██████████████████████████| 11/11 [00:00<00:00, 1068.09it/s]\n"
     ]
    },
    {
     "name": "stdout",
     "output_type": "stream",
     "text": [
      "Epoch 187, Loss: 32.8184, Recon: 20.1260, KL: 12.6924\n",
      "\n",
      "===== Epoch 188 =====\n"
     ]
    },
    {
     "name": "stderr",
     "output_type": "stream",
     "text": [
      "Epoch 188/500: 100%|██████████████████████████| 11/11 [00:00<00:00, 1084.82it/s]\n"
     ]
    },
    {
     "name": "stdout",
     "output_type": "stream",
     "text": [
      "Epoch 188, Loss: 32.7770, Recon: 20.1607, KL: 12.6163\n",
      "\n",
      "===== Epoch 189 =====\n"
     ]
    },
    {
     "name": "stderr",
     "output_type": "stream",
     "text": [
      "Epoch 189/500: 100%|██████████████████████████| 11/11 [00:00<00:00, 1115.75it/s]\n"
     ]
    },
    {
     "name": "stdout",
     "output_type": "stream",
     "text": [
      "Epoch 189, Loss: 32.8594, Recon: 20.2965, KL: 12.5628\n",
      "\n",
      "===== Epoch 190 =====\n"
     ]
    },
    {
     "name": "stderr",
     "output_type": "stream",
     "text": [
      "Epoch 190/500: 100%|██████████████████████████| 11/11 [00:00<00:00, 1065.70it/s]\n"
     ]
    },
    {
     "name": "stdout",
     "output_type": "stream",
     "text": [
      "Epoch 190, Loss: 32.7998, Recon: 20.2571, KL: 12.5427\n",
      "\n",
      "===== Epoch 191 =====\n"
     ]
    },
    {
     "name": "stderr",
     "output_type": "stream",
     "text": [
      "Epoch 191/500: 100%|██████████████████████████| 11/11 [00:00<00:00, 1088.02it/s]\n"
     ]
    },
    {
     "name": "stdout",
     "output_type": "stream",
     "text": [
      "Epoch 191, Loss: 32.8819, Recon: 20.3842, KL: 12.4976\n",
      "\n",
      "===== Epoch 192 =====\n"
     ]
    },
    {
     "name": "stderr",
     "output_type": "stream",
     "text": [
      "Epoch 192/500: 100%|██████████████████████████| 11/11 [00:00<00:00, 1092.14it/s]\n"
     ]
    },
    {
     "name": "stdout",
     "output_type": "stream",
     "text": [
      "Epoch 192, Loss: 33.0561, Recon: 20.3930, KL: 12.6630\n",
      "\n",
      "===== Epoch 193 =====\n"
     ]
    },
    {
     "name": "stderr",
     "output_type": "stream",
     "text": [
      "Epoch 193/500: 100%|██████████████████████████| 11/11 [00:00<00:00, 1073.79it/s]\n"
     ]
    },
    {
     "name": "stdout",
     "output_type": "stream",
     "text": [
      "Epoch 193, Loss: 32.9335, Recon: 20.1436, KL: 12.7899\n",
      "\n",
      "===== Epoch 194 =====\n"
     ]
    },
    {
     "name": "stderr",
     "output_type": "stream",
     "text": [
      "Epoch 194/500: 100%|██████████████████████████| 11/11 [00:00<00:00, 1067.75it/s]\n"
     ]
    },
    {
     "name": "stdout",
     "output_type": "stream",
     "text": [
      "Epoch 194, Loss: 32.6041, Recon: 19.7810, KL: 12.8232\n",
      "\n",
      "===== Epoch 195 =====\n"
     ]
    },
    {
     "name": "stderr",
     "output_type": "stream",
     "text": [
      "Epoch 195/500: 100%|██████████████████████████| 11/11 [00:00<00:00, 1036.96it/s]\n"
     ]
    },
    {
     "name": "stdout",
     "output_type": "stream",
     "text": [
      "Epoch 195, Loss: 33.0497, Recon: 20.3361, KL: 12.7136\n",
      "\n",
      "===== Epoch 196 =====\n"
     ]
    },
    {
     "name": "stderr",
     "output_type": "stream",
     "text": [
      "Epoch 196/500: 100%|██████████████████████████| 11/11 [00:00<00:00, 1064.13it/s]\n"
     ]
    },
    {
     "name": "stdout",
     "output_type": "stream",
     "text": [
      "Epoch 196, Loss: 32.7971, Recon: 20.1694, KL: 12.6277\n",
      "\n",
      "===== Epoch 197 =====\n"
     ]
    },
    {
     "name": "stderr",
     "output_type": "stream",
     "text": [
      "Epoch 197/500: 100%|██████████████████████████| 11/11 [00:00<00:00, 1044.11it/s]\n"
     ]
    },
    {
     "name": "stdout",
     "output_type": "stream",
     "text": [
      "Epoch 197, Loss: 32.7807, Recon: 20.0909, KL: 12.6898\n",
      "\n",
      "===== Epoch 198 =====\n"
     ]
    },
    {
     "name": "stderr",
     "output_type": "stream",
     "text": [
      "Epoch 198/500: 100%|██████████████████████████| 11/11 [00:00<00:00, 1083.93it/s]\n"
     ]
    },
    {
     "name": "stdout",
     "output_type": "stream",
     "text": [
      "Epoch 198, Loss: 32.7254, Recon: 20.0250, KL: 12.7005\n",
      "\n",
      "===== Epoch 199 =====\n"
     ]
    },
    {
     "name": "stderr",
     "output_type": "stream",
     "text": [
      "Epoch 199/500: 100%|██████████████████████████| 11/11 [00:00<00:00, 1077.27it/s]\n"
     ]
    },
    {
     "name": "stdout",
     "output_type": "stream",
     "text": [
      "Epoch 199, Loss: 32.7110, Recon: 20.0414, KL: 12.6696\n",
      "\n",
      "===== Epoch 200 =====\n"
     ]
    },
    {
     "name": "stderr",
     "output_type": "stream",
     "text": [
      "Epoch 200/500: 100%|██████████████████████████| 11/11 [00:00<00:00, 1046.22it/s]\n"
     ]
    },
    {
     "name": "stdout",
     "output_type": "stream",
     "text": [
      "Epoch 200, Loss: 32.8198, Recon: 20.1575, KL: 12.6623\n",
      "\n",
      "===== Epoch 201 =====\n"
     ]
    },
    {
     "name": "stderr",
     "output_type": "stream",
     "text": [
      "Epoch 201/500: 100%|██████████████████████████| 11/11 [00:00<00:00, 1057.78it/s]\n"
     ]
    },
    {
     "name": "stdout",
     "output_type": "stream",
     "text": [
      "Epoch 201, Loss: 32.7659, Recon: 20.0173, KL: 12.7486\n",
      "\n",
      "===== Epoch 202 =====\n"
     ]
    },
    {
     "name": "stderr",
     "output_type": "stream",
     "text": [
      "Epoch 202/500: 100%|██████████████████████████| 11/11 [00:00<00:00, 1077.70it/s]\n"
     ]
    },
    {
     "name": "stdout",
     "output_type": "stream",
     "text": [
      "Epoch 202, Loss: 32.6524, Recon: 19.9108, KL: 12.7416\n",
      "\n",
      "===== Epoch 203 =====\n"
     ]
    },
    {
     "name": "stderr",
     "output_type": "stream",
     "text": [
      "Epoch 203/500: 100%|██████████████████████████| 11/11 [00:00<00:00, 1063.22it/s]\n"
     ]
    },
    {
     "name": "stdout",
     "output_type": "stream",
     "text": [
      "Epoch 203, Loss: 32.9168, Recon: 20.1223, KL: 12.7945\n",
      "\n",
      "===== Epoch 204 =====\n"
     ]
    },
    {
     "name": "stderr",
     "output_type": "stream",
     "text": [
      "Epoch 204/500: 100%|██████████████████████████| 11/11 [00:00<00:00, 1074.14it/s]\n"
     ]
    },
    {
     "name": "stdout",
     "output_type": "stream",
     "text": [
      "Epoch 204, Loss: 32.7529, Recon: 19.9227, KL: 12.8302\n",
      "\n",
      "===== Epoch 205 =====\n"
     ]
    },
    {
     "name": "stderr",
     "output_type": "stream",
     "text": [
      "Epoch 205/500: 100%|██████████████████████████| 11/11 [00:00<00:00, 1017.50it/s]\n"
     ]
    },
    {
     "name": "stdout",
     "output_type": "stream",
     "text": [
      "Epoch 205, Loss: 32.5936, Recon: 19.8232, KL: 12.7703\n",
      "\n",
      "===== Epoch 206 =====\n"
     ]
    },
    {
     "name": "stderr",
     "output_type": "stream",
     "text": [
      "Epoch 206/500: 100%|██████████████████████████| 11/11 [00:00<00:00, 1063.83it/s]\n"
     ]
    },
    {
     "name": "stdout",
     "output_type": "stream",
     "text": [
      "Epoch 206, Loss: 32.7963, Recon: 20.0616, KL: 12.7348\n",
      "\n",
      "===== Epoch 207 =====\n"
     ]
    },
    {
     "name": "stderr",
     "output_type": "stream",
     "text": [
      "Epoch 207/500: 100%|██████████████████████████| 11/11 [00:00<00:00, 1075.99it/s]\n"
     ]
    },
    {
     "name": "stdout",
     "output_type": "stream",
     "text": [
      "Epoch 207, Loss: 32.7707, Recon: 19.8799, KL: 12.8909\n",
      "\n",
      "===== Epoch 208 =====\n"
     ]
    },
    {
     "name": "stderr",
     "output_type": "stream",
     "text": [
      "Epoch 208/500: 100%|██████████████████████████| 11/11 [00:00<00:00, 1085.33it/s]\n"
     ]
    },
    {
     "name": "stdout",
     "output_type": "stream",
     "text": [
      "Epoch 208, Loss: 32.3768, Recon: 19.5259, KL: 12.8509\n",
      "\n",
      "===== Epoch 209 =====\n"
     ]
    },
    {
     "name": "stderr",
     "output_type": "stream",
     "text": [
      "Epoch 209/500: 100%|██████████████████████████| 11/11 [00:00<00:00, 1079.36it/s]\n"
     ]
    },
    {
     "name": "stdout",
     "output_type": "stream",
     "text": [
      "Epoch 209, Loss: 32.4512, Recon: 19.7831, KL: 12.6681\n",
      "\n",
      "===== Epoch 210 =====\n"
     ]
    },
    {
     "name": "stderr",
     "output_type": "stream",
     "text": [
      "Epoch 210/500: 100%|██████████████████████████| 11/11 [00:00<00:00, 1036.77it/s]\n"
     ]
    },
    {
     "name": "stdout",
     "output_type": "stream",
     "text": [
      "Epoch 210, Loss: 32.4917, Recon: 19.7435, KL: 12.7482\n",
      "\n",
      "===== Epoch 211 =====\n"
     ]
    },
    {
     "name": "stderr",
     "output_type": "stream",
     "text": [
      "Epoch 211/500: 100%|██████████████████████████| 11/11 [00:00<00:00, 1103.63it/s]\n"
     ]
    },
    {
     "name": "stdout",
     "output_type": "stream",
     "text": [
      "Epoch 211, Loss: 32.3411, Recon: 19.6294, KL: 12.7116\n",
      "\n",
      "===== Epoch 212 =====\n"
     ]
    },
    {
     "name": "stderr",
     "output_type": "stream",
     "text": [
      "Epoch 212/500: 100%|██████████████████████████| 11/11 [00:00<00:00, 1082.38it/s]\n"
     ]
    },
    {
     "name": "stdout",
     "output_type": "stream",
     "text": [
      "Epoch 212, Loss: 32.3045, Recon: 19.7427, KL: 12.5618\n",
      "\n",
      "===== Epoch 213 =====\n"
     ]
    },
    {
     "name": "stderr",
     "output_type": "stream",
     "text": [
      "Epoch 213/500: 100%|██████████████████████████| 11/11 [00:00<00:00, 1046.03it/s]\n"
     ]
    },
    {
     "name": "stdout",
     "output_type": "stream",
     "text": [
      "Epoch 213, Loss: 32.3933, Recon: 19.7841, KL: 12.6092\n",
      "\n",
      "===== Epoch 214 =====\n"
     ]
    },
    {
     "name": "stderr",
     "output_type": "stream",
     "text": [
      "Epoch 214/500: 100%|██████████████████████████| 11/11 [00:00<00:00, 1064.03it/s]\n"
     ]
    },
    {
     "name": "stdout",
     "output_type": "stream",
     "text": [
      "Epoch 214, Loss: 32.4144, Recon: 19.7687, KL: 12.6457\n",
      "\n",
      "===== Epoch 215 =====\n"
     ]
    },
    {
     "name": "stderr",
     "output_type": "stream",
     "text": [
      "Epoch 215/500: 100%|██████████████████████████| 11/11 [00:00<00:00, 1065.80it/s]\n"
     ]
    },
    {
     "name": "stdout",
     "output_type": "stream",
     "text": [
      "Epoch 215, Loss: 32.3992, Recon: 19.6648, KL: 12.7344\n",
      "\n",
      "===== Epoch 216 =====\n"
     ]
    },
    {
     "name": "stderr",
     "output_type": "stream",
     "text": [
      "Epoch 216/500: 100%|██████████████████████████| 11/11 [00:00<00:00, 1045.34it/s]\n"
     ]
    },
    {
     "name": "stdout",
     "output_type": "stream",
     "text": [
      "Epoch 216, Loss: 32.1443, Recon: 19.4164, KL: 12.7279\n",
      "\n",
      "===== Epoch 217 =====\n"
     ]
    },
    {
     "name": "stderr",
     "output_type": "stream",
     "text": [
      "Epoch 217/500: 100%|██████████████████████████| 11/11 [00:00<00:00, 1079.79it/s]\n"
     ]
    },
    {
     "name": "stdout",
     "output_type": "stream",
     "text": [
      "Epoch 217, Loss: 32.0322, Recon: 19.4151, KL: 12.6170\n",
      "\n",
      "===== Epoch 218 =====\n"
     ]
    },
    {
     "name": "stderr",
     "output_type": "stream",
     "text": [
      "Epoch 218/500: 100%|██████████████████████████| 11/11 [00:00<00:00, 1035.68it/s]\n"
     ]
    },
    {
     "name": "stdout",
     "output_type": "stream",
     "text": [
      "Epoch 218, Loss: 32.1324, Recon: 19.6120, KL: 12.5204\n",
      "\n",
      "===== Epoch 219 =====\n"
     ]
    },
    {
     "name": "stderr",
     "output_type": "stream",
     "text": [
      "Epoch 219/500: 100%|██████████████████████████| 11/11 [00:00<00:00, 1031.62it/s]\n"
     ]
    },
    {
     "name": "stdout",
     "output_type": "stream",
     "text": [
      "Epoch 219, Loss: 32.1436, Recon: 19.6821, KL: 12.4615\n",
      "\n",
      "===== Epoch 220 =====\n"
     ]
    },
    {
     "name": "stderr",
     "output_type": "stream",
     "text": [
      "Epoch 220/500: 100%|██████████████████████████| 11/11 [00:00<00:00, 1084.92it/s]\n"
     ]
    },
    {
     "name": "stdout",
     "output_type": "stream",
     "text": [
      "Epoch 220, Loss: 32.4105, Recon: 19.8199, KL: 12.5907\n",
      "\n",
      "===== Epoch 221 =====\n"
     ]
    },
    {
     "name": "stderr",
     "output_type": "stream",
     "text": [
      "Epoch 221/500: 100%|██████████████████████████| 11/11 [00:00<00:00, 1089.66it/s]\n"
     ]
    },
    {
     "name": "stdout",
     "output_type": "stream",
     "text": [
      "Epoch 221, Loss: 32.2314, Recon: 19.6016, KL: 12.6298\n",
      "\n",
      "===== Epoch 222 =====\n"
     ]
    },
    {
     "name": "stderr",
     "output_type": "stream",
     "text": [
      "Epoch 222/500: 100%|██████████████████████████| 11/11 [00:00<00:00, 1055.05it/s]\n"
     ]
    },
    {
     "name": "stdout",
     "output_type": "stream",
     "text": [
      "Epoch 222, Loss: 32.2955, Recon: 19.5369, KL: 12.7586\n",
      "\n",
      "===== Epoch 223 =====\n"
     ]
    },
    {
     "name": "stderr",
     "output_type": "stream",
     "text": [
      "Epoch 223/500: 100%|██████████████████████████| 11/11 [00:00<00:00, 1055.24it/s]\n"
     ]
    },
    {
     "name": "stdout",
     "output_type": "stream",
     "text": [
      "Epoch 223, Loss: 32.1915, Recon: 19.4179, KL: 12.7736\n",
      "\n",
      "===== Epoch 224 =====\n"
     ]
    },
    {
     "name": "stderr",
     "output_type": "stream",
     "text": [
      "Epoch 224/500: 100%|██████████████████████████| 11/11 [00:00<00:00, 1102.84it/s]\n"
     ]
    },
    {
     "name": "stdout",
     "output_type": "stream",
     "text": [
      "Epoch 224, Loss: 32.1126, Recon: 19.4209, KL: 12.6917\n",
      "\n",
      "===== Epoch 225 =====\n"
     ]
    },
    {
     "name": "stderr",
     "output_type": "stream",
     "text": [
      "Epoch 225/500: 100%|██████████████████████████| 11/11 [00:00<00:00, 1121.17it/s]\n"
     ]
    },
    {
     "name": "stdout",
     "output_type": "stream",
     "text": [
      "Epoch 225, Loss: 32.2419, Recon: 19.5357, KL: 12.7062\n",
      "\n",
      "===== Epoch 226 =====\n"
     ]
    },
    {
     "name": "stderr",
     "output_type": "stream",
     "text": [
      "Epoch 226/500: 100%|██████████████████████████| 11/11 [00:00<00:00, 1105.19it/s]\n"
     ]
    },
    {
     "name": "stdout",
     "output_type": "stream",
     "text": [
      "Epoch 226, Loss: 32.2687, Recon: 19.6275, KL: 12.6412\n",
      "\n",
      "===== Epoch 227 =====\n"
     ]
    },
    {
     "name": "stderr",
     "output_type": "stream",
     "text": [
      "Epoch 227/500: 100%|██████████████████████████| 11/11 [00:00<00:00, 1034.52it/s]\n"
     ]
    },
    {
     "name": "stdout",
     "output_type": "stream",
     "text": [
      "Epoch 227, Loss: 32.4396, Recon: 19.6845, KL: 12.7551\n",
      "\n",
      "===== Epoch 228 =====\n"
     ]
    },
    {
     "name": "stderr",
     "output_type": "stream",
     "text": [
      "Epoch 228/500: 100%|██████████████████████████| 11/11 [00:00<00:00, 1045.63it/s]\n"
     ]
    },
    {
     "name": "stdout",
     "output_type": "stream",
     "text": [
      "Epoch 228, Loss: 32.2606, Recon: 19.4129, KL: 12.8477\n",
      "\n",
      "===== Epoch 229 =====\n"
     ]
    },
    {
     "name": "stderr",
     "output_type": "stream",
     "text": [
      "Epoch 229/500: 100%|██████████████████████████| 11/11 [00:00<00:00, 1091.26it/s]\n"
     ]
    },
    {
     "name": "stdout",
     "output_type": "stream",
     "text": [
      "Epoch 229, Loss: 32.1394, Recon: 19.1664, KL: 12.9730\n",
      "\n",
      "===== Epoch 230 =====\n"
     ]
    },
    {
     "name": "stderr",
     "output_type": "stream",
     "text": [
      "Epoch 230/500: 100%|██████████████████████████| 11/11 [00:00<00:00, 1103.76it/s]\n"
     ]
    },
    {
     "name": "stdout",
     "output_type": "stream",
     "text": [
      "Epoch 230, Loss: 32.0847, Recon: 19.1697, KL: 12.9150\n",
      "\n",
      "===== Epoch 231 =====\n"
     ]
    },
    {
     "name": "stderr",
     "output_type": "stream",
     "text": [
      "Epoch 231/500: 100%|██████████████████████████| 11/11 [00:00<00:00, 1052.72it/s]\n"
     ]
    },
    {
     "name": "stdout",
     "output_type": "stream",
     "text": [
      "Epoch 231, Loss: 32.0233, Recon: 19.1833, KL: 12.8400\n",
      "\n",
      "===== Epoch 232 =====\n"
     ]
    },
    {
     "name": "stderr",
     "output_type": "stream",
     "text": [
      "Epoch 232/500: 100%|██████████████████████████| 11/11 [00:00<00:00, 1092.47it/s]\n"
     ]
    },
    {
     "name": "stdout",
     "output_type": "stream",
     "text": [
      "Epoch 232, Loss: 32.1038, Recon: 19.3997, KL: 12.7041\n",
      "\n",
      "===== Epoch 233 =====\n"
     ]
    },
    {
     "name": "stderr",
     "output_type": "stream",
     "text": [
      "Epoch 233/500: 100%|██████████████████████████| 11/11 [00:00<00:00, 1095.09it/s]\n"
     ]
    },
    {
     "name": "stdout",
     "output_type": "stream",
     "text": [
      "Epoch 233, Loss: 32.2169, Recon: 19.5566, KL: 12.6603\n",
      "\n",
      "===== Epoch 234 =====\n"
     ]
    },
    {
     "name": "stderr",
     "output_type": "stream",
     "text": [
      "Epoch 234/500: 100%|██████████████████████████| 11/11 [00:00<00:00, 1051.23it/s]\n"
     ]
    },
    {
     "name": "stdout",
     "output_type": "stream",
     "text": [
      "Epoch 234, Loss: 32.2574, Recon: 19.4528, KL: 12.8046\n",
      "\n",
      "===== Epoch 235 =====\n"
     ]
    },
    {
     "name": "stderr",
     "output_type": "stream",
     "text": [
      "Epoch 235/500: 100%|██████████████████████████| 11/11 [00:00<00:00, 1029.30it/s]\n"
     ]
    },
    {
     "name": "stdout",
     "output_type": "stream",
     "text": [
      "Epoch 235, Loss: 32.3089, Recon: 19.4288, KL: 12.8800\n",
      "\n",
      "===== Epoch 236 =====\n"
     ]
    },
    {
     "name": "stderr",
     "output_type": "stream",
     "text": [
      "Epoch 236/500: 100%|██████████████████████████| 11/11 [00:00<00:00, 1067.77it/s]\n"
     ]
    },
    {
     "name": "stdout",
     "output_type": "stream",
     "text": [
      "Epoch 236, Loss: 32.4271, Recon: 19.4161, KL: 13.0110\n",
      "\n",
      "===== Epoch 237 =====\n"
     ]
    },
    {
     "name": "stderr",
     "output_type": "stream",
     "text": [
      "Epoch 237/500: 100%|██████████████████████████| 11/11 [00:00<00:00, 1045.32it/s]\n"
     ]
    },
    {
     "name": "stdout",
     "output_type": "stream",
     "text": [
      "Epoch 237, Loss: 32.1675, Recon: 19.1971, KL: 12.9704\n",
      "\n",
      "===== Epoch 238 =====\n"
     ]
    },
    {
     "name": "stderr",
     "output_type": "stream",
     "text": [
      "Epoch 238/500: 100%|██████████████████████████| 11/11 [00:00<00:00, 1080.45it/s]\n"
     ]
    },
    {
     "name": "stdout",
     "output_type": "stream",
     "text": [
      "Epoch 238, Loss: 32.3598, Recon: 19.3630, KL: 12.9969\n",
      "\n",
      "===== Epoch 239 =====\n"
     ]
    },
    {
     "name": "stderr",
     "output_type": "stream",
     "text": [
      "Epoch 239/500: 100%|██████████████████████████| 11/11 [00:00<00:00, 1045.56it/s]\n"
     ]
    },
    {
     "name": "stdout",
     "output_type": "stream",
     "text": [
      "Epoch 239, Loss: 31.8890, Recon: 18.8551, KL: 13.0339\n",
      "\n",
      "===== Epoch 240 =====\n"
     ]
    },
    {
     "name": "stderr",
     "output_type": "stream",
     "text": [
      "Epoch 240/500: 100%|██████████████████████████| 11/11 [00:00<00:00, 1093.09it/s]\n"
     ]
    },
    {
     "name": "stdout",
     "output_type": "stream",
     "text": [
      "Epoch 240, Loss: 31.9565, Recon: 19.1778, KL: 12.7787\n",
      "\n",
      "===== Epoch 241 =====\n"
     ]
    },
    {
     "name": "stderr",
     "output_type": "stream",
     "text": [
      "Epoch 241/500: 100%|██████████████████████████| 11/11 [00:00<00:00, 1078.13it/s]\n"
     ]
    },
    {
     "name": "stdout",
     "output_type": "stream",
     "text": [
      "Epoch 241, Loss: 32.0198, Recon: 19.2515, KL: 12.7682\n",
      "\n",
      "===== Epoch 242 =====\n"
     ]
    },
    {
     "name": "stderr",
     "output_type": "stream",
     "text": [
      "Epoch 242/500: 100%|██████████████████████████| 11/11 [00:00<00:00, 1083.75it/s]\n"
     ]
    },
    {
     "name": "stdout",
     "output_type": "stream",
     "text": [
      "Epoch 242, Loss: 31.9585, Recon: 19.1618, KL: 12.7967\n",
      "\n",
      "===== Epoch 243 =====\n"
     ]
    },
    {
     "name": "stderr",
     "output_type": "stream",
     "text": [
      "Epoch 243/500: 100%|██████████████████████████| 11/11 [00:00<00:00, 1039.08it/s]\n"
     ]
    },
    {
     "name": "stdout",
     "output_type": "stream",
     "text": [
      "Epoch 243, Loss: 31.9228, Recon: 19.2137, KL: 12.7091\n",
      "\n",
      "===== Epoch 244 =====\n"
     ]
    },
    {
     "name": "stderr",
     "output_type": "stream",
     "text": [
      "Epoch 244/500: 100%|██████████████████████████| 11/11 [00:00<00:00, 1084.08it/s]\n"
     ]
    },
    {
     "name": "stdout",
     "output_type": "stream",
     "text": [
      "Epoch 244, Loss: 32.1754, Recon: 19.3569, KL: 12.8185\n",
      "\n",
      "===== Epoch 245 =====\n"
     ]
    },
    {
     "name": "stderr",
     "output_type": "stream",
     "text": [
      "Epoch 245/500: 100%|██████████████████████████| 11/11 [00:00<00:00, 1056.09it/s]\n"
     ]
    },
    {
     "name": "stdout",
     "output_type": "stream",
     "text": [
      "Epoch 245, Loss: 31.8609, Recon: 18.9083, KL: 12.9526\n",
      "\n",
      "===== Epoch 246 =====\n"
     ]
    },
    {
     "name": "stderr",
     "output_type": "stream",
     "text": [
      "Epoch 246/500: 100%|██████████████████████████| 11/11 [00:00<00:00, 1098.98it/s]\n"
     ]
    },
    {
     "name": "stdout",
     "output_type": "stream",
     "text": [
      "Epoch 246, Loss: 31.9074, Recon: 18.9911, KL: 12.9163\n",
      "\n",
      "===== Epoch 247 =====\n"
     ]
    },
    {
     "name": "stderr",
     "output_type": "stream",
     "text": [
      "Epoch 247/500: 100%|██████████████████████████| 11/11 [00:00<00:00, 1063.15it/s]\n"
     ]
    },
    {
     "name": "stdout",
     "output_type": "stream",
     "text": [
      "Epoch 247, Loss: 31.7852, Recon: 18.8985, KL: 12.8867\n",
      "\n",
      "===== Epoch 248 =====\n"
     ]
    },
    {
     "name": "stderr",
     "output_type": "stream",
     "text": [
      "Epoch 248/500: 100%|██████████████████████████| 11/11 [00:00<00:00, 1042.86it/s]\n"
     ]
    },
    {
     "name": "stdout",
     "output_type": "stream",
     "text": [
      "Epoch 248, Loss: 31.6658, Recon: 18.8333, KL: 12.8325\n",
      "\n",
      "===== Epoch 249 =====\n"
     ]
    },
    {
     "name": "stderr",
     "output_type": "stream",
     "text": [
      "Epoch 249/500: 100%|██████████████████████████| 11/11 [00:00<00:00, 1048.74it/s]\n"
     ]
    },
    {
     "name": "stdout",
     "output_type": "stream",
     "text": [
      "Epoch 249, Loss: 32.0718, Recon: 19.2960, KL: 12.7759\n",
      "\n",
      "===== Epoch 250 =====\n"
     ]
    },
    {
     "name": "stderr",
     "output_type": "stream",
     "text": [
      "Epoch 250/500: 100%|██████████████████████████| 11/11 [00:00<00:00, 1042.96it/s]\n"
     ]
    },
    {
     "name": "stdout",
     "output_type": "stream",
     "text": [
      "Epoch 250, Loss: 32.0933, Recon: 19.2858, KL: 12.8075\n",
      "\n",
      "===== Epoch 251 =====\n"
     ]
    },
    {
     "name": "stderr",
     "output_type": "stream",
     "text": [
      "Epoch 251/500: 100%|██████████████████████████| 11/11 [00:00<00:00, 1059.53it/s]\n"
     ]
    },
    {
     "name": "stdout",
     "output_type": "stream",
     "text": [
      "Epoch 251, Loss: 31.7339, Recon: 18.8221, KL: 12.9118\n",
      "\n",
      "===== Epoch 252 =====\n"
     ]
    },
    {
     "name": "stderr",
     "output_type": "stream",
     "text": [
      "Epoch 252/500: 100%|██████████████████████████| 11/11 [00:00<00:00, 1049.01it/s]\n"
     ]
    },
    {
     "name": "stdout",
     "output_type": "stream",
     "text": [
      "Epoch 252, Loss: 32.0500, Recon: 19.1375, KL: 12.9125\n",
      "\n",
      "===== Epoch 253 =====\n"
     ]
    },
    {
     "name": "stderr",
     "output_type": "stream",
     "text": [
      "Epoch 253/500: 100%|██████████████████████████| 11/11 [00:00<00:00, 1085.66it/s]\n"
     ]
    },
    {
     "name": "stdout",
     "output_type": "stream",
     "text": [
      "Epoch 253, Loss: 31.9460, Recon: 18.9009, KL: 13.0451\n",
      "\n",
      "===== Epoch 254 =====\n"
     ]
    },
    {
     "name": "stderr",
     "output_type": "stream",
     "text": [
      "Epoch 254/500: 100%|██████████████████████████| 11/11 [00:00<00:00, 1007.06it/s]\n"
     ]
    },
    {
     "name": "stdout",
     "output_type": "stream",
     "text": [
      "Epoch 254, Loss: 31.7120, Recon: 18.7340, KL: 12.9780\n",
      "\n",
      "===== Epoch 255 =====\n"
     ]
    },
    {
     "name": "stderr",
     "output_type": "stream",
     "text": [
      "Epoch 255/500: 100%|██████████████████████████| 11/11 [00:00<00:00, 1048.72it/s]\n"
     ]
    },
    {
     "name": "stdout",
     "output_type": "stream",
     "text": [
      "Epoch 255, Loss: 31.7236, Recon: 18.7875, KL: 12.9362\n",
      "\n",
      "===== Epoch 256 =====\n"
     ]
    },
    {
     "name": "stderr",
     "output_type": "stream",
     "text": [
      "Epoch 256/500: 100%|██████████████████████████| 11/11 [00:00<00:00, 1065.18it/s]\n"
     ]
    },
    {
     "name": "stdout",
     "output_type": "stream",
     "text": [
      "Epoch 256, Loss: 31.8110, Recon: 18.9701, KL: 12.8409\n",
      "\n",
      "===== Epoch 257 =====\n"
     ]
    },
    {
     "name": "stderr",
     "output_type": "stream",
     "text": [
      "Epoch 257/500: 100%|██████████████████████████| 11/11 [00:00<00:00, 1070.87it/s]\n"
     ]
    },
    {
     "name": "stdout",
     "output_type": "stream",
     "text": [
      "Epoch 257, Loss: 31.8440, Recon: 19.0236, KL: 12.8203\n",
      "\n",
      "===== Epoch 258 =====\n"
     ]
    },
    {
     "name": "stderr",
     "output_type": "stream",
     "text": [
      "Epoch 258/500: 100%|██████████████████████████| 11/11 [00:00<00:00, 1073.14it/s]\n"
     ]
    },
    {
     "name": "stdout",
     "output_type": "stream",
     "text": [
      "Epoch 258, Loss: 31.7325, Recon: 18.8053, KL: 12.9272\n",
      "\n",
      "===== Epoch 259 =====\n"
     ]
    },
    {
     "name": "stderr",
     "output_type": "stream",
     "text": [
      "Epoch 259/500: 100%|██████████████████████████| 11/11 [00:00<00:00, 1040.98it/s]\n"
     ]
    },
    {
     "name": "stdout",
     "output_type": "stream",
     "text": [
      "Epoch 259, Loss: 31.6661, Recon: 18.7459, KL: 12.9202\n",
      "\n",
      "===== Epoch 260 =====\n"
     ]
    },
    {
     "name": "stderr",
     "output_type": "stream",
     "text": [
      "Epoch 260/500: 100%|██████████████████████████| 11/11 [00:00<00:00, 1057.27it/s]\n"
     ]
    },
    {
     "name": "stdout",
     "output_type": "stream",
     "text": [
      "Epoch 260, Loss: 31.7655, Recon: 18.8762, KL: 12.8892\n",
      "\n",
      "===== Epoch 261 =====\n"
     ]
    },
    {
     "name": "stderr",
     "output_type": "stream",
     "text": [
      "Epoch 261/500: 100%|██████████████████████████| 11/11 [00:00<00:00, 1042.16it/s]\n"
     ]
    },
    {
     "name": "stdout",
     "output_type": "stream",
     "text": [
      "Epoch 261, Loss: 31.5503, Recon: 18.7281, KL: 12.8222\n",
      "\n",
      "===== Epoch 262 =====\n"
     ]
    },
    {
     "name": "stderr",
     "output_type": "stream",
     "text": [
      "Epoch 262/500: 100%|██████████████████████████| 11/11 [00:00<00:00, 1048.22it/s]\n"
     ]
    },
    {
     "name": "stdout",
     "output_type": "stream",
     "text": [
      "Epoch 262, Loss: 31.5661, Recon: 18.7833, KL: 12.7829\n",
      "\n",
      "===== Epoch 263 =====\n"
     ]
    },
    {
     "name": "stderr",
     "output_type": "stream",
     "text": [
      "Epoch 263/500: 100%|██████████████████████████| 11/11 [00:00<00:00, 1062.90it/s]\n"
     ]
    },
    {
     "name": "stdout",
     "output_type": "stream",
     "text": [
      "Epoch 263, Loss: 31.5404, Recon: 18.8002, KL: 12.7402\n",
      "\n",
      "===== Epoch 264 =====\n"
     ]
    },
    {
     "name": "stderr",
     "output_type": "stream",
     "text": [
      "Epoch 264/500: 100%|██████████████████████████| 11/11 [00:00<00:00, 1056.86it/s]\n"
     ]
    },
    {
     "name": "stdout",
     "output_type": "stream",
     "text": [
      "Epoch 264, Loss: 31.6648, Recon: 18.8932, KL: 12.7717\n",
      "\n",
      "===== Epoch 265 =====\n"
     ]
    },
    {
     "name": "stderr",
     "output_type": "stream",
     "text": [
      "Epoch 265/500: 100%|██████████████████████████| 11/11 [00:00<00:00, 1055.17it/s]\n"
     ]
    },
    {
     "name": "stdout",
     "output_type": "stream",
     "text": [
      "Epoch 265, Loss: 31.9366, Recon: 19.0720, KL: 12.8646\n",
      "\n",
      "===== Epoch 266 =====\n"
     ]
    },
    {
     "name": "stderr",
     "output_type": "stream",
     "text": [
      "Epoch 266/500: 100%|██████████████████████████| 11/11 [00:00<00:00, 1003.62it/s]\n"
     ]
    },
    {
     "name": "stdout",
     "output_type": "stream",
     "text": [
      "Epoch 266, Loss: 31.5859, Recon: 18.6252, KL: 12.9606\n",
      "\n",
      "===== Epoch 267 =====\n"
     ]
    },
    {
     "name": "stderr",
     "output_type": "stream",
     "text": [
      "Epoch 267/500: 100%|██████████████████████████| 11/11 [00:00<00:00, 1044.92it/s]\n"
     ]
    },
    {
     "name": "stdout",
     "output_type": "stream",
     "text": [
      "Epoch 267, Loss: 31.5142, Recon: 18.6410, KL: 12.8732\n",
      "\n",
      "===== Epoch 268 =====\n"
     ]
    },
    {
     "name": "stderr",
     "output_type": "stream",
     "text": [
      "Epoch 268/500: 100%|██████████████████████████| 11/11 [00:00<00:00, 1028.52it/s]\n"
     ]
    },
    {
     "name": "stdout",
     "output_type": "stream",
     "text": [
      "Epoch 268, Loss: 31.7913, Recon: 18.8635, KL: 12.9277\n",
      "\n",
      "===== Epoch 269 =====\n"
     ]
    },
    {
     "name": "stderr",
     "output_type": "stream",
     "text": [
      "Epoch 269/500: 100%|██████████████████████████| 11/11 [00:00<00:00, 1028.13it/s]\n"
     ]
    },
    {
     "name": "stdout",
     "output_type": "stream",
     "text": [
      "Epoch 269, Loss: 31.5791, Recon: 18.6906, KL: 12.8885\n",
      "\n",
      "===== Epoch 270 =====\n"
     ]
    },
    {
     "name": "stderr",
     "output_type": "stream",
     "text": [
      "Epoch 270/500: 100%|██████████████████████████| 11/11 [00:00<00:00, 1088.58it/s]\n"
     ]
    },
    {
     "name": "stdout",
     "output_type": "stream",
     "text": [
      "Epoch 270, Loss: 31.5606, Recon: 18.6712, KL: 12.8894\n",
      "\n",
      "===== Epoch 271 =====\n"
     ]
    },
    {
     "name": "stderr",
     "output_type": "stream",
     "text": [
      "Epoch 271/500: 100%|██████████████████████████| 11/11 [00:00<00:00, 1087.81it/s]\n"
     ]
    },
    {
     "name": "stdout",
     "output_type": "stream",
     "text": [
      "Epoch 271, Loss: 31.7412, Recon: 18.8399, KL: 12.9014\n",
      "\n",
      "===== Epoch 272 =====\n"
     ]
    },
    {
     "name": "stderr",
     "output_type": "stream",
     "text": [
      "Epoch 272/500: 100%|██████████████████████████| 11/11 [00:00<00:00, 1056.38it/s]\n"
     ]
    },
    {
     "name": "stdout",
     "output_type": "stream",
     "text": [
      "Epoch 272, Loss: 31.6206, Recon: 18.7021, KL: 12.9185\n",
      "\n",
      "===== Epoch 273 =====\n"
     ]
    },
    {
     "name": "stderr",
     "output_type": "stream",
     "text": [
      "Epoch 273/500: 100%|██████████████████████████| 11/11 [00:00<00:00, 1082.25it/s]\n"
     ]
    },
    {
     "name": "stdout",
     "output_type": "stream",
     "text": [
      "Epoch 273, Loss: 31.6179, Recon: 18.7008, KL: 12.9171\n",
      "\n",
      "===== Epoch 274 =====\n"
     ]
    },
    {
     "name": "stderr",
     "output_type": "stream",
     "text": [
      "Epoch 274/500: 100%|██████████████████████████| 11/11 [00:00<00:00, 1086.43it/s]\n"
     ]
    },
    {
     "name": "stdout",
     "output_type": "stream",
     "text": [
      "Epoch 274, Loss: 31.6648, Recon: 18.6834, KL: 12.9815\n",
      "\n",
      "===== Epoch 275 =====\n"
     ]
    },
    {
     "name": "stderr",
     "output_type": "stream",
     "text": [
      "Epoch 275/500: 100%|██████████████████████████| 11/11 [00:00<00:00, 1104.95it/s]\n"
     ]
    },
    {
     "name": "stdout",
     "output_type": "stream",
     "text": [
      "Epoch 275, Loss: 31.4384, Recon: 18.3965, KL: 13.0418\n",
      "\n",
      "===== Epoch 276 =====\n"
     ]
    },
    {
     "name": "stderr",
     "output_type": "stream",
     "text": [
      "Epoch 276/500: 100%|██████████████████████████| 11/11 [00:00<00:00, 1027.19it/s]\n"
     ]
    },
    {
     "name": "stdout",
     "output_type": "stream",
     "text": [
      "Epoch 276, Loss: 31.5652, Recon: 18.5937, KL: 12.9715\n",
      "\n",
      "===== Epoch 277 =====\n"
     ]
    },
    {
     "name": "stderr",
     "output_type": "stream",
     "text": [
      "Epoch 277/500: 100%|██████████████████████████| 11/11 [00:00<00:00, 1055.68it/s]\n"
     ]
    },
    {
     "name": "stdout",
     "output_type": "stream",
     "text": [
      "Epoch 277, Loss: 31.3282, Recon: 18.5035, KL: 12.8247\n",
      "\n",
      "===== Epoch 278 =====\n"
     ]
    },
    {
     "name": "stderr",
     "output_type": "stream",
     "text": [
      "Epoch 278/500: 100%|██████████████████████████| 11/11 [00:00<00:00, 1086.84it/s]\n"
     ]
    },
    {
     "name": "stdout",
     "output_type": "stream",
     "text": [
      "Epoch 278, Loss: 31.6029, Recon: 18.7345, KL: 12.8684\n",
      "\n",
      "===== Epoch 279 =====\n"
     ]
    },
    {
     "name": "stderr",
     "output_type": "stream",
     "text": [
      "Epoch 279/500: 100%|██████████████████████████| 11/11 [00:00<00:00, 1100.55it/s]\n"
     ]
    },
    {
     "name": "stdout",
     "output_type": "stream",
     "text": [
      "Epoch 279, Loss: 31.5048, Recon: 18.5193, KL: 12.9854\n",
      "\n",
      "===== Epoch 280 =====\n"
     ]
    },
    {
     "name": "stderr",
     "output_type": "stream",
     "text": [
      "Epoch 280/500: 100%|██████████████████████████| 11/11 [00:00<00:00, 1110.11it/s]\n"
     ]
    },
    {
     "name": "stdout",
     "output_type": "stream",
     "text": [
      "Epoch 280, Loss: 31.5508, Recon: 18.5155, KL: 13.0354\n",
      "\n",
      "===== Epoch 281 =====\n"
     ]
    },
    {
     "name": "stderr",
     "output_type": "stream",
     "text": [
      "Epoch 281/500: 100%|██████████████████████████| 11/11 [00:00<00:00, 1017.56it/s]\n"
     ]
    },
    {
     "name": "stdout",
     "output_type": "stream",
     "text": [
      "Epoch 281, Loss: 31.6536, Recon: 18.6513, KL: 13.0023\n",
      "\n",
      "===== Epoch 282 =====\n"
     ]
    },
    {
     "name": "stderr",
     "output_type": "stream",
     "text": [
      "Epoch 282/500: 100%|██████████████████████████| 11/11 [00:00<00:00, 1062.63it/s]\n"
     ]
    },
    {
     "name": "stdout",
     "output_type": "stream",
     "text": [
      "Epoch 282, Loss: 31.4601, Recon: 18.4880, KL: 12.9721\n",
      "\n",
      "===== Epoch 283 =====\n"
     ]
    },
    {
     "name": "stderr",
     "output_type": "stream",
     "text": [
      "Epoch 283/500: 100%|██████████████████████████| 11/11 [00:00<00:00, 1063.73it/s]\n"
     ]
    },
    {
     "name": "stdout",
     "output_type": "stream",
     "text": [
      "Epoch 283, Loss: 31.6307, Recon: 18.5631, KL: 13.0676\n",
      "\n",
      "===== Epoch 284 =====\n"
     ]
    },
    {
     "name": "stderr",
     "output_type": "stream",
     "text": [
      "Epoch 284/500: 100%|███████████████████████████| 11/11 [00:00<00:00, 974.06it/s]\n"
     ]
    },
    {
     "name": "stdout",
     "output_type": "stream",
     "text": [
      "Epoch 284, Loss: 31.1578, Recon: 18.1975, KL: 12.9603\n",
      "\n",
      "===== Epoch 285 =====\n"
     ]
    },
    {
     "name": "stderr",
     "output_type": "stream",
     "text": [
      "Epoch 285/500: 100%|███████████████████████████| 11/11 [00:00<00:00, 948.61it/s]\n"
     ]
    },
    {
     "name": "stdout",
     "output_type": "stream",
     "text": [
      "Epoch 285, Loss: 31.4425, Recon: 18.5610, KL: 12.8815\n",
      "\n",
      "===== Epoch 286 =====\n"
     ]
    },
    {
     "name": "stderr",
     "output_type": "stream",
     "text": [
      "Epoch 286/500: 100%|███████████████████████████| 11/11 [00:00<00:00, 942.98it/s]\n"
     ]
    },
    {
     "name": "stdout",
     "output_type": "stream",
     "text": [
      "Epoch 286, Loss: 31.3829, Recon: 18.4795, KL: 12.9034\n",
      "\n",
      "===== Epoch 287 =====\n"
     ]
    },
    {
     "name": "stderr",
     "output_type": "stream",
     "text": [
      "Epoch 287/500: 100%|███████████████████████████| 11/11 [00:00<00:00, 980.37it/s]\n"
     ]
    },
    {
     "name": "stdout",
     "output_type": "stream",
     "text": [
      "Epoch 287, Loss: 31.4736, Recon: 18.4613, KL: 13.0123\n",
      "\n",
      "===== Epoch 288 =====\n"
     ]
    },
    {
     "name": "stderr",
     "output_type": "stream",
     "text": [
      "Epoch 288/500: 100%|███████████████████████████| 11/11 [00:00<00:00, 961.35it/s]\n"
     ]
    },
    {
     "name": "stdout",
     "output_type": "stream",
     "text": [
      "Epoch 288, Loss: 31.7533, Recon: 18.6338, KL: 13.1195\n",
      "\n",
      "===== Epoch 289 =====\n"
     ]
    },
    {
     "name": "stderr",
     "output_type": "stream",
     "text": [
      "Epoch 289/500: 100%|███████████████████████████| 11/11 [00:00<00:00, 956.27it/s]\n"
     ]
    },
    {
     "name": "stdout",
     "output_type": "stream",
     "text": [
      "Epoch 289, Loss: 31.3912, Recon: 18.1792, KL: 13.2120\n",
      "\n",
      "===== Epoch 290 =====\n"
     ]
    },
    {
     "name": "stderr",
     "output_type": "stream",
     "text": [
      "Epoch 290/500: 100%|███████████████████████████| 11/11 [00:00<00:00, 992.80it/s]\n"
     ]
    },
    {
     "name": "stdout",
     "output_type": "stream",
     "text": [
      "Epoch 290, Loss: 31.3635, Recon: 18.2703, KL: 13.0932\n",
      "\n",
      "===== Epoch 291 =====\n"
     ]
    },
    {
     "name": "stderr",
     "output_type": "stream",
     "text": [
      "Epoch 291/500: 100%|███████████████████████████| 11/11 [00:00<00:00, 952.86it/s]\n"
     ]
    },
    {
     "name": "stdout",
     "output_type": "stream",
     "text": [
      "Epoch 291, Loss: 31.4113, Recon: 18.3545, KL: 13.0568\n",
      "\n",
      "===== Epoch 292 =====\n"
     ]
    },
    {
     "name": "stderr",
     "output_type": "stream",
     "text": [
      "Epoch 292/500: 100%|███████████████████████████| 11/11 [00:00<00:00, 959.54it/s]\n"
     ]
    },
    {
     "name": "stdout",
     "output_type": "stream",
     "text": [
      "Epoch 292, Loss: 31.1209, Recon: 18.1160, KL: 13.0049\n",
      "\n",
      "===== Epoch 293 =====\n"
     ]
    },
    {
     "name": "stderr",
     "output_type": "stream",
     "text": [
      "Epoch 293/500: 100%|███████████████████████████| 11/11 [00:00<00:00, 970.09it/s]\n"
     ]
    },
    {
     "name": "stdout",
     "output_type": "stream",
     "text": [
      "Epoch 293, Loss: 31.6258, Recon: 18.7155, KL: 12.9103\n",
      "\n",
      "===== Epoch 294 =====\n"
     ]
    },
    {
     "name": "stderr",
     "output_type": "stream",
     "text": [
      "Epoch 294/500: 100%|███████████████████████████| 11/11 [00:00<00:00, 953.47it/s]\n"
     ]
    },
    {
     "name": "stdout",
     "output_type": "stream",
     "text": [
      "Epoch 294, Loss: 31.4946, Recon: 18.4260, KL: 13.0686\n",
      "\n",
      "===== Epoch 295 =====\n"
     ]
    },
    {
     "name": "stderr",
     "output_type": "stream",
     "text": [
      "Epoch 295/500: 100%|███████████████████████████| 11/11 [00:00<00:00, 957.60it/s]\n"
     ]
    },
    {
     "name": "stdout",
     "output_type": "stream",
     "text": [
      "Epoch 295, Loss: 31.2449, Recon: 18.1192, KL: 13.1257\n",
      "\n",
      "===== Epoch 296 =====\n"
     ]
    },
    {
     "name": "stderr",
     "output_type": "stream",
     "text": [
      "Epoch 296/500: 100%|███████████████████████████| 11/11 [00:00<00:00, 951.91it/s]\n"
     ]
    },
    {
     "name": "stdout",
     "output_type": "stream",
     "text": [
      "Epoch 296, Loss: 31.3368, Recon: 18.3356, KL: 13.0012\n",
      "\n",
      "===== Epoch 297 =====\n"
     ]
    },
    {
     "name": "stderr",
     "output_type": "stream",
     "text": [
      "Epoch 297/500: 100%|███████████████████████████| 11/11 [00:00<00:00, 973.22it/s]\n"
     ]
    },
    {
     "name": "stdout",
     "output_type": "stream",
     "text": [
      "Epoch 297, Loss: 31.4652, Recon: 18.4354, KL: 13.0298\n",
      "\n",
      "===== Epoch 298 =====\n"
     ]
    },
    {
     "name": "stderr",
     "output_type": "stream",
     "text": [
      "Epoch 298/500: 100%|███████████████████████████| 11/11 [00:00<00:00, 970.19it/s]\n"
     ]
    },
    {
     "name": "stdout",
     "output_type": "stream",
     "text": [
      "Epoch 298, Loss: 31.1716, Recon: 18.1463, KL: 13.0253\n",
      "\n",
      "===== Epoch 299 =====\n"
     ]
    },
    {
     "name": "stderr",
     "output_type": "stream",
     "text": [
      "Epoch 299/500: 100%|███████████████████████████| 11/11 [00:00<00:00, 991.26it/s]\n"
     ]
    },
    {
     "name": "stdout",
     "output_type": "stream",
     "text": [
      "Epoch 299, Loss: 31.3800, Recon: 18.3709, KL: 13.0091\n",
      "\n",
      "===== Epoch 300 =====\n"
     ]
    },
    {
     "name": "stderr",
     "output_type": "stream",
     "text": [
      "Epoch 300/500: 100%|███████████████████████████| 11/11 [00:00<00:00, 970.35it/s]\n"
     ]
    },
    {
     "name": "stdout",
     "output_type": "stream",
     "text": [
      "Epoch 300, Loss: 31.0276, Recon: 18.0742, KL: 12.9533\n",
      "\n",
      "===== Epoch 301 =====\n"
     ]
    },
    {
     "name": "stderr",
     "output_type": "stream",
     "text": [
      "Epoch 301/500: 100%|███████████████████████████| 11/11 [00:00<00:00, 975.42it/s]\n"
     ]
    },
    {
     "name": "stdout",
     "output_type": "stream",
     "text": [
      "Epoch 301, Loss: 31.1037, Recon: 18.2522, KL: 12.8515\n",
      "\n",
      "===== Epoch 302 =====\n"
     ]
    },
    {
     "name": "stderr",
     "output_type": "stream",
     "text": [
      "Epoch 302/500: 100%|███████████████████████████| 11/11 [00:00<00:00, 997.37it/s]\n"
     ]
    },
    {
     "name": "stdout",
     "output_type": "stream",
     "text": [
      "Epoch 302, Loss: 31.0170, Recon: 18.1869, KL: 12.8301\n",
      "\n",
      "===== Epoch 303 =====\n"
     ]
    },
    {
     "name": "stderr",
     "output_type": "stream",
     "text": [
      "Epoch 303/500: 100%|███████████████████████████| 11/11 [00:00<00:00, 969.92it/s]\n"
     ]
    },
    {
     "name": "stdout",
     "output_type": "stream",
     "text": [
      "Epoch 303, Loss: 31.4693, Recon: 18.6367, KL: 12.8326\n",
      "\n",
      "===== Epoch 304 =====\n"
     ]
    },
    {
     "name": "stderr",
     "output_type": "stream",
     "text": [
      "Epoch 304/500: 100%|██████████████████████████| 11/11 [00:00<00:00, 1000.64it/s]\n"
     ]
    },
    {
     "name": "stdout",
     "output_type": "stream",
     "text": [
      "Epoch 304, Loss: 31.0765, Recon: 18.1311, KL: 12.9454\n",
      "\n",
      "===== Epoch 305 =====\n"
     ]
    },
    {
     "name": "stderr",
     "output_type": "stream",
     "text": [
      "Epoch 305/500: 100%|███████████████████████████| 11/11 [00:00<00:00, 995.39it/s]\n"
     ]
    },
    {
     "name": "stdout",
     "output_type": "stream",
     "text": [
      "Epoch 305, Loss: 30.9988, Recon: 17.9396, KL: 13.0592\n",
      "\n",
      "===== Epoch 306 =====\n"
     ]
    },
    {
     "name": "stderr",
     "output_type": "stream",
     "text": [
      "Epoch 306/500: 100%|███████████████████████████| 11/11 [00:00<00:00, 993.68it/s]\n"
     ]
    },
    {
     "name": "stdout",
     "output_type": "stream",
     "text": [
      "Epoch 306, Loss: 31.2650, Recon: 18.3073, KL: 12.9577\n",
      "\n",
      "===== Epoch 307 =====\n"
     ]
    },
    {
     "name": "stderr",
     "output_type": "stream",
     "text": [
      "Epoch 307/500: 100%|███████████████████████████| 11/11 [00:00<00:00, 953.47it/s]\n"
     ]
    },
    {
     "name": "stdout",
     "output_type": "stream",
     "text": [
      "Epoch 307, Loss: 31.1914, Recon: 18.1823, KL: 13.0091\n",
      "\n",
      "===== Epoch 308 =====\n"
     ]
    },
    {
     "name": "stderr",
     "output_type": "stream",
     "text": [
      "Epoch 308/500: 100%|███████████████████████████| 11/11 [00:00<00:00, 984.87it/s]\n"
     ]
    },
    {
     "name": "stdout",
     "output_type": "stream",
     "text": [
      "Epoch 308, Loss: 30.7982, Recon: 17.8135, KL: 12.9847\n",
      "\n",
      "===== Epoch 309 =====\n"
     ]
    },
    {
     "name": "stderr",
     "output_type": "stream",
     "text": [
      "Epoch 309/500: 100%|███████████████████████████| 11/11 [00:00<00:00, 959.85it/s]\n"
     ]
    },
    {
     "name": "stdout",
     "output_type": "stream",
     "text": [
      "Epoch 309, Loss: 31.0872, Recon: 18.1943, KL: 12.8928\n",
      "\n",
      "===== Epoch 310 =====\n"
     ]
    },
    {
     "name": "stderr",
     "output_type": "stream",
     "text": [
      "Epoch 310/500: 100%|███████████████████████████| 11/11 [00:00<00:00, 937.85it/s]\n"
     ]
    },
    {
     "name": "stdout",
     "output_type": "stream",
     "text": [
      "Epoch 310, Loss: 31.1047, Recon: 18.1631, KL: 12.9416\n",
      "\n",
      "===== Epoch 311 =====\n"
     ]
    },
    {
     "name": "stderr",
     "output_type": "stream",
     "text": [
      "Epoch 311/500: 100%|███████████████████████████| 11/11 [00:00<00:00, 940.01it/s]\n"
     ]
    },
    {
     "name": "stdout",
     "output_type": "stream",
     "text": [
      "Epoch 311, Loss: 30.9513, Recon: 18.0425, KL: 12.9088\n",
      "\n",
      "===== Epoch 312 =====\n"
     ]
    },
    {
     "name": "stderr",
     "output_type": "stream",
     "text": [
      "Epoch 312/500: 100%|███████████████████████████| 11/11 [00:00<00:00, 938.80it/s]\n"
     ]
    },
    {
     "name": "stdout",
     "output_type": "stream",
     "text": [
      "Epoch 312, Loss: 31.1215, Recon: 18.1100, KL: 13.0115\n",
      "\n",
      "===== Epoch 313 =====\n"
     ]
    },
    {
     "name": "stderr",
     "output_type": "stream",
     "text": [
      "Epoch 313/500: 100%|███████████████████████████| 11/11 [00:00<00:00, 934.98it/s]\n"
     ]
    },
    {
     "name": "stdout",
     "output_type": "stream",
     "text": [
      "Epoch 313, Loss: 31.3596, Recon: 18.3666, KL: 12.9929\n",
      "\n",
      "===== Epoch 314 =====\n"
     ]
    },
    {
     "name": "stderr",
     "output_type": "stream",
     "text": [
      "Epoch 314/500: 100%|███████████████████████████| 11/11 [00:00<00:00, 950.09it/s]\n"
     ]
    },
    {
     "name": "stdout",
     "output_type": "stream",
     "text": [
      "Epoch 314, Loss: 30.9945, Recon: 17.9854, KL: 13.0091\n",
      "\n",
      "===== Epoch 315 =====\n"
     ]
    },
    {
     "name": "stderr",
     "output_type": "stream",
     "text": [
      "Epoch 315/500: 100%|███████████████████████████| 11/11 [00:00<00:00, 987.28it/s]\n"
     ]
    },
    {
     "name": "stdout",
     "output_type": "stream",
     "text": [
      "Epoch 315, Loss: 31.0218, Recon: 18.0289, KL: 12.9930\n",
      "\n",
      "===== Epoch 316 =====\n"
     ]
    },
    {
     "name": "stderr",
     "output_type": "stream",
     "text": [
      "Epoch 316/500: 100%|███████████████████████████| 11/11 [00:00<00:00, 972.40it/s]\n"
     ]
    },
    {
     "name": "stdout",
     "output_type": "stream",
     "text": [
      "Epoch 316, Loss: 31.2420, Recon: 18.2106, KL: 13.0314\n",
      "\n",
      "===== Epoch 317 =====\n"
     ]
    },
    {
     "name": "stderr",
     "output_type": "stream",
     "text": [
      "Epoch 317/500: 100%|███████████████████████████| 11/11 [00:00<00:00, 947.61it/s]\n"
     ]
    },
    {
     "name": "stdout",
     "output_type": "stream",
     "text": [
      "Epoch 317, Loss: 31.1142, Recon: 18.0179, KL: 13.0963\n",
      "\n",
      "===== Epoch 318 =====\n"
     ]
    },
    {
     "name": "stderr",
     "output_type": "stream",
     "text": [
      "Epoch 318/500: 100%|███████████████████████████| 11/11 [00:00<00:00, 980.48it/s]\n"
     ]
    },
    {
     "name": "stdout",
     "output_type": "stream",
     "text": [
      "Epoch 318, Loss: 31.2194, Recon: 18.1074, KL: 13.1120\n",
      "\n",
      "===== Epoch 319 =====\n"
     ]
    },
    {
     "name": "stderr",
     "output_type": "stream",
     "text": [
      "Epoch 319/500: 100%|███████████████████████████| 11/11 [00:00<00:00, 978.29it/s]\n"
     ]
    },
    {
     "name": "stdout",
     "output_type": "stream",
     "text": [
      "Epoch 319, Loss: 31.0574, Recon: 17.9075, KL: 13.1499\n",
      "\n",
      "===== Epoch 320 =====\n"
     ]
    },
    {
     "name": "stderr",
     "output_type": "stream",
     "text": [
      "Epoch 320/500: 100%|███████████████████████████| 11/11 [00:00<00:00, 940.56it/s]\n"
     ]
    },
    {
     "name": "stdout",
     "output_type": "stream",
     "text": [
      "Epoch 320, Loss: 31.0506, Recon: 18.0111, KL: 13.0395\n",
      "\n",
      "===== Epoch 321 =====\n"
     ]
    },
    {
     "name": "stderr",
     "output_type": "stream",
     "text": [
      "Epoch 321/500: 100%|███████████████████████████| 11/11 [00:00<00:00, 935.30it/s]\n"
     ]
    },
    {
     "name": "stdout",
     "output_type": "stream",
     "text": [
      "Epoch 321, Loss: 30.9555, Recon: 17.9910, KL: 12.9644\n",
      "\n",
      "===== Epoch 322 =====\n"
     ]
    },
    {
     "name": "stderr",
     "output_type": "stream",
     "text": [
      "Epoch 322/500: 100%|███████████████████████████| 11/11 [00:00<00:00, 992.41it/s]\n"
     ]
    },
    {
     "name": "stdout",
     "output_type": "stream",
     "text": [
      "Epoch 322, Loss: 30.9879, Recon: 18.0030, KL: 12.9849\n",
      "\n",
      "===== Epoch 323 =====\n"
     ]
    },
    {
     "name": "stderr",
     "output_type": "stream",
     "text": [
      "Epoch 323/500: 100%|██████████████████████████| 11/11 [00:00<00:00, 1003.81it/s]\n"
     ]
    },
    {
     "name": "stdout",
     "output_type": "stream",
     "text": [
      "Epoch 323, Loss: 30.8233, Recon: 17.8637, KL: 12.9597\n",
      "\n",
      "===== Epoch 324 =====\n"
     ]
    },
    {
     "name": "stderr",
     "output_type": "stream",
     "text": [
      "Epoch 324/500: 100%|██████████████████████████| 11/11 [00:00<00:00, 1003.12it/s]\n"
     ]
    },
    {
     "name": "stdout",
     "output_type": "stream",
     "text": [
      "Epoch 324, Loss: 30.9745, Recon: 17.9980, KL: 12.9765\n",
      "\n",
      "===== Epoch 325 =====\n"
     ]
    },
    {
     "name": "stderr",
     "output_type": "stream",
     "text": [
      "Epoch 325/500: 100%|██████████████████████████| 11/11 [00:00<00:00, 1047.01it/s]\n"
     ]
    },
    {
     "name": "stdout",
     "output_type": "stream",
     "text": [
      "Epoch 325, Loss: 31.0594, Recon: 17.9504, KL: 13.1089\n",
      "\n",
      "===== Epoch 326 =====\n"
     ]
    },
    {
     "name": "stderr",
     "output_type": "stream",
     "text": [
      "Epoch 326/500: 100%|██████████████████████████| 11/11 [00:00<00:00, 1080.15it/s]\n"
     ]
    },
    {
     "name": "stdout",
     "output_type": "stream",
     "text": [
      "Epoch 326, Loss: 30.9030, Recon: 17.7839, KL: 13.1191\n",
      "\n",
      "===== Epoch 327 =====\n"
     ]
    },
    {
     "name": "stderr",
     "output_type": "stream",
     "text": [
      "Epoch 327/500: 100%|██████████████████████████| 11/11 [00:00<00:00, 1068.86it/s]\n"
     ]
    },
    {
     "name": "stdout",
     "output_type": "stream",
     "text": [
      "Epoch 327, Loss: 30.9426, Recon: 17.8072, KL: 13.1355\n",
      "\n",
      "===== Epoch 328 =====\n"
     ]
    },
    {
     "name": "stderr",
     "output_type": "stream",
     "text": [
      "Epoch 328/500: 100%|██████████████████████████| 11/11 [00:00<00:00, 1088.14it/s]\n"
     ]
    },
    {
     "name": "stdout",
     "output_type": "stream",
     "text": [
      "Epoch 328, Loss: 30.7026, Recon: 17.6543, KL: 13.0483\n",
      "\n",
      "===== Epoch 329 =====\n"
     ]
    },
    {
     "name": "stderr",
     "output_type": "stream",
     "text": [
      "Epoch 329/500: 100%|██████████████████████████| 11/11 [00:00<00:00, 1124.09it/s]\n"
     ]
    },
    {
     "name": "stdout",
     "output_type": "stream",
     "text": [
      "Epoch 329, Loss: 30.8534, Recon: 17.9211, KL: 12.9323\n",
      "\n",
      "===== Epoch 330 =====\n"
     ]
    },
    {
     "name": "stderr",
     "output_type": "stream",
     "text": [
      "Epoch 330/500: 100%|██████████████████████████| 11/11 [00:00<00:00, 1131.82it/s]\n"
     ]
    },
    {
     "name": "stdout",
     "output_type": "stream",
     "text": [
      "Epoch 330, Loss: 30.9912, Recon: 18.0844, KL: 12.9069\n",
      "\n",
      "===== Epoch 331 =====\n"
     ]
    },
    {
     "name": "stderr",
     "output_type": "stream",
     "text": [
      "Epoch 331/500: 100%|██████████████████████████| 11/11 [00:00<00:00, 1117.07it/s]\n"
     ]
    },
    {
     "name": "stdout",
     "output_type": "stream",
     "text": [
      "Epoch 331, Loss: 31.1160, Recon: 18.1252, KL: 12.9908\n",
      "\n",
      "===== Epoch 332 =====\n"
     ]
    },
    {
     "name": "stderr",
     "output_type": "stream",
     "text": [
      "Epoch 332/500: 100%|██████████████████████████| 11/11 [00:00<00:00, 1095.72it/s]\n"
     ]
    },
    {
     "name": "stdout",
     "output_type": "stream",
     "text": [
      "Epoch 332, Loss: 30.9500, Recon: 17.7653, KL: 13.1847\n",
      "\n",
      "===== Epoch 333 =====\n"
     ]
    },
    {
     "name": "stderr",
     "output_type": "stream",
     "text": [
      "Epoch 333/500: 100%|██████████████████████████| 11/11 [00:00<00:00, 1111.90it/s]\n"
     ]
    },
    {
     "name": "stdout",
     "output_type": "stream",
     "text": [
      "Epoch 333, Loss: 30.9144, Recon: 17.7408, KL: 13.1737\n",
      "\n",
      "===== Epoch 334 =====\n"
     ]
    },
    {
     "name": "stderr",
     "output_type": "stream",
     "text": [
      "Epoch 334/500: 100%|██████████████████████████| 11/11 [00:00<00:00, 1058.10it/s]\n"
     ]
    },
    {
     "name": "stdout",
     "output_type": "stream",
     "text": [
      "Epoch 334, Loss: 30.9049, Recon: 17.7763, KL: 13.1286\n",
      "\n",
      "===== Epoch 335 =====\n"
     ]
    },
    {
     "name": "stderr",
     "output_type": "stream",
     "text": [
      "Epoch 335/500: 100%|██████████████████████████| 11/11 [00:00<00:00, 1092.58it/s]\n"
     ]
    },
    {
     "name": "stdout",
     "output_type": "stream",
     "text": [
      "Epoch 335, Loss: 31.0475, Recon: 17.9634, KL: 13.0840\n",
      "\n",
      "===== Epoch 336 =====\n"
     ]
    },
    {
     "name": "stderr",
     "output_type": "stream",
     "text": [
      "Epoch 336/500: 100%|██████████████████████████| 11/11 [00:00<00:00, 1105.99it/s]\n"
     ]
    },
    {
     "name": "stdout",
     "output_type": "stream",
     "text": [
      "Epoch 336, Loss: 30.8844, Recon: 17.7626, KL: 13.1217\n",
      "\n",
      "===== Epoch 337 =====\n"
     ]
    },
    {
     "name": "stderr",
     "output_type": "stream",
     "text": [
      "Epoch 337/500: 100%|██████████████████████████| 11/11 [00:00<00:00, 1114.27it/s]\n"
     ]
    },
    {
     "name": "stdout",
     "output_type": "stream",
     "text": [
      "Epoch 337, Loss: 30.9045, Recon: 17.7125, KL: 13.1921\n",
      "\n",
      "===== Epoch 338 =====\n"
     ]
    },
    {
     "name": "stderr",
     "output_type": "stream",
     "text": [
      "Epoch 338/500: 100%|██████████████████████████| 11/11 [00:00<00:00, 1071.91it/s]\n"
     ]
    },
    {
     "name": "stdout",
     "output_type": "stream",
     "text": [
      "Epoch 338, Loss: 31.0542, Recon: 17.8723, KL: 13.1820\n",
      "\n",
      "===== Epoch 339 =====\n"
     ]
    },
    {
     "name": "stderr",
     "output_type": "stream",
     "text": [
      "Epoch 339/500: 100%|██████████████████████████| 11/11 [00:00<00:00, 1076.44it/s]\n"
     ]
    },
    {
     "name": "stdout",
     "output_type": "stream",
     "text": [
      "Epoch 339, Loss: 30.8873, Recon: 17.7729, KL: 13.1144\n",
      "\n",
      "===== Epoch 340 =====\n"
     ]
    },
    {
     "name": "stderr",
     "output_type": "stream",
     "text": [
      "Epoch 340/500: 100%|██████████████████████████| 11/11 [00:00<00:00, 1071.79it/s]\n"
     ]
    },
    {
     "name": "stdout",
     "output_type": "stream",
     "text": [
      "Epoch 340, Loss: 30.8171, Recon: 17.6427, KL: 13.1744\n",
      "\n",
      "===== Epoch 341 =====\n"
     ]
    },
    {
     "name": "stderr",
     "output_type": "stream",
     "text": [
      "Epoch 341/500: 100%|██████████████████████████| 11/11 [00:00<00:00, 1069.90it/s]\n"
     ]
    },
    {
     "name": "stdout",
     "output_type": "stream",
     "text": [
      "Epoch 341, Loss: 31.0352, Recon: 17.8876, KL: 13.1476\n",
      "\n",
      "===== Epoch 342 =====\n"
     ]
    },
    {
     "name": "stderr",
     "output_type": "stream",
     "text": [
      "Epoch 342/500: 100%|██████████████████████████| 11/11 [00:00<00:00, 1060.43it/s]\n"
     ]
    },
    {
     "name": "stdout",
     "output_type": "stream",
     "text": [
      "Epoch 342, Loss: 30.8312, Recon: 17.6496, KL: 13.1815\n",
      "\n",
      "===== Epoch 343 =====\n"
     ]
    },
    {
     "name": "stderr",
     "output_type": "stream",
     "text": [
      "Epoch 343/500: 100%|██████████████████████████| 11/11 [00:00<00:00, 1097.33it/s]\n"
     ]
    },
    {
     "name": "stdout",
     "output_type": "stream",
     "text": [
      "Epoch 343, Loss: 30.6902, Recon: 17.4196, KL: 13.2706\n",
      "\n",
      "===== Epoch 344 =====\n"
     ]
    },
    {
     "name": "stderr",
     "output_type": "stream",
     "text": [
      "Epoch 344/500: 100%|██████████████████████████| 11/11 [00:00<00:00, 1127.03it/s]\n"
     ]
    },
    {
     "name": "stdout",
     "output_type": "stream",
     "text": [
      "Epoch 344, Loss: 30.7603, Recon: 17.6764, KL: 13.0839\n",
      "\n",
      "===== Epoch 345 =====\n"
     ]
    },
    {
     "name": "stderr",
     "output_type": "stream",
     "text": [
      "Epoch 345/500: 100%|██████████████████████████| 11/11 [00:00<00:00, 1145.50it/s]\n"
     ]
    },
    {
     "name": "stdout",
     "output_type": "stream",
     "text": [
      "Epoch 345, Loss: 30.8212, Recon: 17.7014, KL: 13.1198\n",
      "\n",
      "===== Epoch 346 =====\n"
     ]
    },
    {
     "name": "stderr",
     "output_type": "stream",
     "text": [
      "Epoch 346/500: 100%|██████████████████████████| 11/11 [00:00<00:00, 1097.25it/s]\n"
     ]
    },
    {
     "name": "stdout",
     "output_type": "stream",
     "text": [
      "Epoch 346, Loss: 30.7050, Recon: 17.6364, KL: 13.0686\n",
      "\n",
      "===== Epoch 347 =====\n"
     ]
    },
    {
     "name": "stderr",
     "output_type": "stream",
     "text": [
      "Epoch 347/500: 100%|██████████████████████████| 11/11 [00:00<00:00, 1039.90it/s]\n"
     ]
    },
    {
     "name": "stdout",
     "output_type": "stream",
     "text": [
      "Epoch 347, Loss: 30.9908, Recon: 17.8662, KL: 13.1246\n",
      "\n",
      "===== Epoch 348 =====\n"
     ]
    },
    {
     "name": "stderr",
     "output_type": "stream",
     "text": [
      "Epoch 348/500: 100%|██████████████████████████| 11/11 [00:00<00:00, 1056.48it/s]\n"
     ]
    },
    {
     "name": "stdout",
     "output_type": "stream",
     "text": [
      "Epoch 348, Loss: 30.7835, Recon: 17.6530, KL: 13.1305\n",
      "\n",
      "===== Epoch 349 =====\n"
     ]
    },
    {
     "name": "stderr",
     "output_type": "stream",
     "text": [
      "Epoch 349/500: 100%|██████████████████████████| 11/11 [00:00<00:00, 1084.39it/s]\n"
     ]
    },
    {
     "name": "stdout",
     "output_type": "stream",
     "text": [
      "Epoch 349, Loss: 30.9836, Recon: 17.8233, KL: 13.1603\n",
      "\n",
      "===== Epoch 350 =====\n"
     ]
    },
    {
     "name": "stderr",
     "output_type": "stream",
     "text": [
      "Epoch 350/500: 100%|██████████████████████████| 11/11 [00:00<00:00, 1110.89it/s]\n"
     ]
    },
    {
     "name": "stdout",
     "output_type": "stream",
     "text": [
      "Epoch 350, Loss: 30.8850, Recon: 17.6275, KL: 13.2575\n",
      "\n",
      "===== Epoch 351 =====\n"
     ]
    },
    {
     "name": "stderr",
     "output_type": "stream",
     "text": [
      "Epoch 351/500: 100%|██████████████████████████| 11/11 [00:00<00:00, 1144.19it/s]\n"
     ]
    },
    {
     "name": "stdout",
     "output_type": "stream",
     "text": [
      "Epoch 351, Loss: 30.9745, Recon: 17.6715, KL: 13.3029\n",
      "\n",
      "===== Epoch 352 =====\n"
     ]
    },
    {
     "name": "stderr",
     "output_type": "stream",
     "text": [
      "Epoch 352/500: 100%|██████████████████████████| 11/11 [00:00<00:00, 1096.26it/s]\n"
     ]
    },
    {
     "name": "stdout",
     "output_type": "stream",
     "text": [
      "Epoch 352, Loss: 30.5279, Recon: 17.3124, KL: 13.2154\n",
      "\n",
      "===== Epoch 353 =====\n"
     ]
    },
    {
     "name": "stderr",
     "output_type": "stream",
     "text": [
      "Epoch 353/500: 100%|██████████████████████████| 11/11 [00:00<00:00, 1114.62it/s]\n"
     ]
    },
    {
     "name": "stdout",
     "output_type": "stream",
     "text": [
      "Epoch 353, Loss: 30.7174, Recon: 17.5826, KL: 13.1348\n",
      "\n",
      "===== Epoch 354 =====\n"
     ]
    },
    {
     "name": "stderr",
     "output_type": "stream",
     "text": [
      "Epoch 354/500: 100%|██████████████████████████| 11/11 [00:00<00:00, 1075.49it/s]\n"
     ]
    },
    {
     "name": "stdout",
     "output_type": "stream",
     "text": [
      "Epoch 354, Loss: 30.6220, Recon: 17.4764, KL: 13.1456\n",
      "\n",
      "===== Epoch 355 =====\n"
     ]
    },
    {
     "name": "stderr",
     "output_type": "stream",
     "text": [
      "Epoch 355/500: 100%|██████████████████████████| 11/11 [00:00<00:00, 1119.84it/s]\n"
     ]
    },
    {
     "name": "stdout",
     "output_type": "stream",
     "text": [
      "Epoch 355, Loss: 30.7200, Recon: 17.6390, KL: 13.0810\n",
      "\n",
      "===== Epoch 356 =====\n"
     ]
    },
    {
     "name": "stderr",
     "output_type": "stream",
     "text": [
      "Epoch 356/500: 100%|██████████████████████████| 11/11 [00:00<00:00, 1044.42it/s]\n"
     ]
    },
    {
     "name": "stdout",
     "output_type": "stream",
     "text": [
      "Epoch 356, Loss: 30.4218, Recon: 17.3947, KL: 13.0272\n",
      "\n",
      "===== Epoch 357 =====\n"
     ]
    },
    {
     "name": "stderr",
     "output_type": "stream",
     "text": [
      "Epoch 357/500: 100%|██████████████████████████| 11/11 [00:00<00:00, 1048.62it/s]\n"
     ]
    },
    {
     "name": "stdout",
     "output_type": "stream",
     "text": [
      "Epoch 357, Loss: 30.6440, Recon: 17.6452, KL: 12.9987\n",
      "\n",
      "===== Epoch 358 =====\n"
     ]
    },
    {
     "name": "stderr",
     "output_type": "stream",
     "text": [
      "Epoch 358/500: 100%|██████████████████████████| 11/11 [00:00<00:00, 1040.68it/s]\n"
     ]
    },
    {
     "name": "stdout",
     "output_type": "stream",
     "text": [
      "Epoch 358, Loss: 30.4476, Recon: 17.4232, KL: 13.0244\n",
      "\n",
      "===== Epoch 359 =====\n"
     ]
    },
    {
     "name": "stderr",
     "output_type": "stream",
     "text": [
      "Epoch 359/500: 100%|██████████████████████████| 11/11 [00:00<00:00, 1088.99it/s]\n"
     ]
    },
    {
     "name": "stdout",
     "output_type": "stream",
     "text": [
      "Epoch 359, Loss: 30.7711, Recon: 17.7285, KL: 13.0425\n",
      "\n",
      "===== Epoch 360 =====\n"
     ]
    },
    {
     "name": "stderr",
     "output_type": "stream",
     "text": [
      "Epoch 360/500: 100%|██████████████████████████| 11/11 [00:00<00:00, 1065.68it/s]\n"
     ]
    },
    {
     "name": "stdout",
     "output_type": "stream",
     "text": [
      "Epoch 360, Loss: 30.7558, Recon: 17.7063, KL: 13.0495\n",
      "\n",
      "===== Epoch 361 =====\n"
     ]
    },
    {
     "name": "stderr",
     "output_type": "stream",
     "text": [
      "Epoch 361/500: 100%|██████████████████████████| 11/11 [00:00<00:00, 1073.16it/s]\n"
     ]
    },
    {
     "name": "stdout",
     "output_type": "stream",
     "text": [
      "Epoch 361, Loss: 30.6056, Recon: 17.4750, KL: 13.1306\n",
      "\n",
      "===== Epoch 362 =====\n"
     ]
    },
    {
     "name": "stderr",
     "output_type": "stream",
     "text": [
      "Epoch 362/500: 100%|██████████████████████████| 11/11 [00:00<00:00, 1054.83it/s]\n"
     ]
    },
    {
     "name": "stdout",
     "output_type": "stream",
     "text": [
      "Epoch 362, Loss: 30.6954, Recon: 17.5545, KL: 13.1409\n",
      "\n",
      "===== Epoch 363 =====\n"
     ]
    },
    {
     "name": "stderr",
     "output_type": "stream",
     "text": [
      "Epoch 363/500: 100%|██████████████████████████| 11/11 [00:00<00:00, 1048.70it/s]\n"
     ]
    },
    {
     "name": "stdout",
     "output_type": "stream",
     "text": [
      "Epoch 363, Loss: 30.8394, Recon: 17.7284, KL: 13.1110\n",
      "\n",
      "===== Epoch 364 =====\n"
     ]
    },
    {
     "name": "stderr",
     "output_type": "stream",
     "text": [
      "Epoch 364/500: 100%|██████████████████████████| 11/11 [00:00<00:00, 1036.65it/s]\n"
     ]
    },
    {
     "name": "stdout",
     "output_type": "stream",
     "text": [
      "Epoch 364, Loss: 30.5023, Recon: 17.2506, KL: 13.2518\n",
      "\n",
      "===== Epoch 365 =====\n"
     ]
    },
    {
     "name": "stderr",
     "output_type": "stream",
     "text": [
      "Epoch 365/500: 100%|██████████████████████████| 11/11 [00:00<00:00, 1063.51it/s]\n"
     ]
    },
    {
     "name": "stdout",
     "output_type": "stream",
     "text": [
      "Epoch 365, Loss: 30.6185, Recon: 17.4582, KL: 13.1603\n",
      "\n",
      "===== Epoch 366 =====\n"
     ]
    },
    {
     "name": "stderr",
     "output_type": "stream",
     "text": [
      "Epoch 366/500: 100%|██████████████████████████| 11/11 [00:00<00:00, 1039.20it/s]\n"
     ]
    },
    {
     "name": "stdout",
     "output_type": "stream",
     "text": [
      "Epoch 366, Loss: 30.5019, Recon: 17.4317, KL: 13.0701\n",
      "\n",
      "===== Epoch 367 =====\n"
     ]
    },
    {
     "name": "stderr",
     "output_type": "stream",
     "text": [
      "Epoch 367/500: 100%|██████████████████████████| 11/11 [00:00<00:00, 1054.13it/s]\n"
     ]
    },
    {
     "name": "stdout",
     "output_type": "stream",
     "text": [
      "Epoch 367, Loss: 30.9581, Recon: 17.8088, KL: 13.1493\n",
      "\n",
      "===== Epoch 368 =====\n"
     ]
    },
    {
     "name": "stderr",
     "output_type": "stream",
     "text": [
      "Epoch 368/500: 100%|██████████████████████████| 11/11 [00:00<00:00, 1042.46it/s]\n"
     ]
    },
    {
     "name": "stdout",
     "output_type": "stream",
     "text": [
      "Epoch 368, Loss: 30.4951, Recon: 17.1950, KL: 13.3001\n",
      "\n",
      "===== Epoch 369 =====\n"
     ]
    },
    {
     "name": "stderr",
     "output_type": "stream",
     "text": [
      "Epoch 369/500: 100%|██████████████████████████| 11/11 [00:00<00:00, 1082.02it/s]\n"
     ]
    },
    {
     "name": "stdout",
     "output_type": "stream",
     "text": [
      "Epoch 369, Loss: 30.6631, Recon: 17.4969, KL: 13.1662\n",
      "\n",
      "===== Epoch 370 =====\n"
     ]
    },
    {
     "name": "stderr",
     "output_type": "stream",
     "text": [
      "Epoch 370/500: 100%|██████████████████████████| 11/11 [00:00<00:00, 1091.59it/s]\n"
     ]
    },
    {
     "name": "stdout",
     "output_type": "stream",
     "text": [
      "Epoch 370, Loss: 30.6452, Recon: 17.3920, KL: 13.2533\n",
      "\n",
      "===== Epoch 371 =====\n"
     ]
    },
    {
     "name": "stderr",
     "output_type": "stream",
     "text": [
      "Epoch 371/500: 100%|██████████████████████████| 11/11 [00:00<00:00, 1063.64it/s]\n"
     ]
    },
    {
     "name": "stdout",
     "output_type": "stream",
     "text": [
      "Epoch 371, Loss: 30.3027, Recon: 17.1021, KL: 13.2006\n",
      "\n",
      "===== Epoch 372 =====\n"
     ]
    },
    {
     "name": "stderr",
     "output_type": "stream",
     "text": [
      "Epoch 372/500: 100%|██████████████████████████| 11/11 [00:00<00:00, 1054.86it/s]\n"
     ]
    },
    {
     "name": "stdout",
     "output_type": "stream",
     "text": [
      "Epoch 372, Loss: 30.5547, Recon: 17.5072, KL: 13.0475\n",
      "\n",
      "===== Epoch 373 =====\n"
     ]
    },
    {
     "name": "stderr",
     "output_type": "stream",
     "text": [
      "Epoch 373/500: 100%|██████████████████████████| 11/11 [00:00<00:00, 1106.09it/s]\n"
     ]
    },
    {
     "name": "stdout",
     "output_type": "stream",
     "text": [
      "Epoch 373, Loss: 30.6327, Recon: 17.5412, KL: 13.0916\n",
      "\n",
      "===== Epoch 374 =====\n"
     ]
    },
    {
     "name": "stderr",
     "output_type": "stream",
     "text": [
      "Epoch 374/500: 100%|██████████████████████████| 11/11 [00:00<00:00, 1047.81it/s]\n"
     ]
    },
    {
     "name": "stdout",
     "output_type": "stream",
     "text": [
      "Epoch 374, Loss: 30.6730, Recon: 17.4464, KL: 13.2266\n",
      "\n",
      "===== Epoch 375 =====\n"
     ]
    },
    {
     "name": "stderr",
     "output_type": "stream",
     "text": [
      "Epoch 375/500: 100%|██████████████████████████| 11/11 [00:00<00:00, 1048.19it/s]\n"
     ]
    },
    {
     "name": "stdout",
     "output_type": "stream",
     "text": [
      "Epoch 375, Loss: 30.6156, Recon: 17.3892, KL: 13.2263\n",
      "\n",
      "===== Epoch 376 =====\n"
     ]
    },
    {
     "name": "stderr",
     "output_type": "stream",
     "text": [
      "Epoch 376/500: 100%|██████████████████████████| 11/11 [00:00<00:00, 1098.01it/s]\n"
     ]
    },
    {
     "name": "stdout",
     "output_type": "stream",
     "text": [
      "Epoch 376, Loss: 30.7825, Recon: 17.5183, KL: 13.2642\n",
      "\n",
      "===== Epoch 377 =====\n"
     ]
    },
    {
     "name": "stderr",
     "output_type": "stream",
     "text": [
      "Epoch 377/500: 100%|██████████████████████████| 11/11 [00:00<00:00, 1069.63it/s]\n"
     ]
    },
    {
     "name": "stdout",
     "output_type": "stream",
     "text": [
      "Epoch 377, Loss: 30.5139, Recon: 17.1353, KL: 13.3786\n",
      "\n",
      "===== Epoch 378 =====\n"
     ]
    },
    {
     "name": "stderr",
     "output_type": "stream",
     "text": [
      "Epoch 378/500: 100%|██████████████████████████| 11/11 [00:00<00:00, 1107.31it/s]\n"
     ]
    },
    {
     "name": "stdout",
     "output_type": "stream",
     "text": [
      "Epoch 378, Loss: 30.4602, Recon: 17.1895, KL: 13.2706\n",
      "\n",
      "===== Epoch 379 =====\n"
     ]
    },
    {
     "name": "stderr",
     "output_type": "stream",
     "text": [
      "Epoch 379/500: 100%|██████████████████████████| 11/11 [00:00<00:00, 1019.00it/s]\n"
     ]
    },
    {
     "name": "stdout",
     "output_type": "stream",
     "text": [
      "Epoch 379, Loss: 30.4153, Recon: 17.2695, KL: 13.1459\n",
      "\n",
      "===== Epoch 380 =====\n"
     ]
    },
    {
     "name": "stderr",
     "output_type": "stream",
     "text": [
      "Epoch 380/500: 100%|██████████████████████████| 11/11 [00:00<00:00, 1034.68it/s]\n"
     ]
    },
    {
     "name": "stdout",
     "output_type": "stream",
     "text": [
      "Epoch 380, Loss: 30.4349, Recon: 17.2583, KL: 13.1766\n",
      "\n",
      "===== Epoch 381 =====\n"
     ]
    },
    {
     "name": "stderr",
     "output_type": "stream",
     "text": [
      "Epoch 381/500: 100%|██████████████████████████| 11/11 [00:00<00:00, 1090.07it/s]\n"
     ]
    },
    {
     "name": "stdout",
     "output_type": "stream",
     "text": [
      "Epoch 381, Loss: 30.3609, Recon: 17.1915, KL: 13.1694\n",
      "\n",
      "===== Epoch 382 =====\n"
     ]
    },
    {
     "name": "stderr",
     "output_type": "stream",
     "text": [
      "Epoch 382/500: 100%|██████████████████████████| 11/11 [00:00<00:00, 1070.22it/s]\n"
     ]
    },
    {
     "name": "stdout",
     "output_type": "stream",
     "text": [
      "Epoch 382, Loss: 30.3799, Recon: 17.2286, KL: 13.1512\n",
      "\n",
      "===== Epoch 383 =====\n"
     ]
    },
    {
     "name": "stderr",
     "output_type": "stream",
     "text": [
      "Epoch 383/500: 100%|██████████████████████████| 11/11 [00:00<00:00, 1044.52it/s]\n"
     ]
    },
    {
     "name": "stdout",
     "output_type": "stream",
     "text": [
      "Epoch 383, Loss: 30.5128, Recon: 17.3838, KL: 13.1290\n",
      "\n",
      "===== Epoch 384 =====\n"
     ]
    },
    {
     "name": "stderr",
     "output_type": "stream",
     "text": [
      "Epoch 384/500: 100%|██████████████████████████| 11/11 [00:00<00:00, 1026.89it/s]\n"
     ]
    },
    {
     "name": "stdout",
     "output_type": "stream",
     "text": [
      "Epoch 384, Loss: 30.5662, Recon: 17.3973, KL: 13.1689\n",
      "\n",
      "===== Epoch 385 =====\n"
     ]
    },
    {
     "name": "stderr",
     "output_type": "stream",
     "text": [
      "Epoch 385/500: 100%|██████████████████████████| 11/11 [00:00<00:00, 1056.26it/s]\n"
     ]
    },
    {
     "name": "stdout",
     "output_type": "stream",
     "text": [
      "Epoch 385, Loss: 30.2718, Recon: 17.1046, KL: 13.1671\n",
      "\n",
      "===== Epoch 386 =====\n"
     ]
    },
    {
     "name": "stderr",
     "output_type": "stream",
     "text": [
      "Epoch 386/500: 100%|██████████████████████████| 11/11 [00:00<00:00, 1058.39it/s]\n"
     ]
    },
    {
     "name": "stdout",
     "output_type": "stream",
     "text": [
      "Epoch 386, Loss: 30.3670, Recon: 17.2357, KL: 13.1313\n",
      "\n",
      "===== Epoch 387 =====\n"
     ]
    },
    {
     "name": "stderr",
     "output_type": "stream",
     "text": [
      "Epoch 387/500: 100%|███████████████████████████| 11/11 [00:00<00:00, 925.39it/s]\n"
     ]
    },
    {
     "name": "stdout",
     "output_type": "stream",
     "text": [
      "Epoch 387, Loss: 30.5202, Recon: 17.2578, KL: 13.2623\n",
      "\n",
      "===== Epoch 388 =====\n"
     ]
    },
    {
     "name": "stderr",
     "output_type": "stream",
     "text": [
      "Epoch 388/500: 100%|██████████████████████████| 11/11 [00:00<00:00, 1118.13it/s]\n"
     ]
    },
    {
     "name": "stdout",
     "output_type": "stream",
     "text": [
      "Epoch 388, Loss: 30.3886, Recon: 17.1701, KL: 13.2186\n",
      "\n",
      "===== Epoch 389 =====\n"
     ]
    },
    {
     "name": "stderr",
     "output_type": "stream",
     "text": [
      "Epoch 389/500: 100%|██████████████████████████| 11/11 [00:00<00:00, 1103.42it/s]\n"
     ]
    },
    {
     "name": "stdout",
     "output_type": "stream",
     "text": [
      "Epoch 389, Loss: 30.1618, Recon: 16.9435, KL: 13.2184\n",
      "\n",
      "===== Epoch 390 =====\n"
     ]
    },
    {
     "name": "stderr",
     "output_type": "stream",
     "text": [
      "Epoch 390/500: 100%|██████████████████████████| 11/11 [00:00<00:00, 1110.00it/s]\n"
     ]
    },
    {
     "name": "stdout",
     "output_type": "stream",
     "text": [
      "Epoch 390, Loss: 30.4073, Recon: 17.2609, KL: 13.1465\n",
      "\n",
      "===== Epoch 391 =====\n"
     ]
    },
    {
     "name": "stderr",
     "output_type": "stream",
     "text": [
      "Epoch 391/500: 100%|██████████████████████████| 11/11 [00:00<00:00, 1049.41it/s]\n"
     ]
    },
    {
     "name": "stdout",
     "output_type": "stream",
     "text": [
      "Epoch 391, Loss: 30.3842, Recon: 17.2448, KL: 13.1394\n",
      "\n",
      "===== Epoch 392 =====\n"
     ]
    },
    {
     "name": "stderr",
     "output_type": "stream",
     "text": [
      "Epoch 392/500: 100%|██████████████████████████| 11/11 [00:00<00:00, 1074.01it/s]\n"
     ]
    },
    {
     "name": "stdout",
     "output_type": "stream",
     "text": [
      "Epoch 392, Loss: 30.5875, Recon: 17.4609, KL: 13.1266\n",
      "\n",
      "===== Epoch 393 =====\n"
     ]
    },
    {
     "name": "stderr",
     "output_type": "stream",
     "text": [
      "Epoch 393/500: 100%|██████████████████████████| 11/11 [00:00<00:00, 1098.80it/s]\n"
     ]
    },
    {
     "name": "stdout",
     "output_type": "stream",
     "text": [
      "Epoch 393, Loss: 30.3639, Recon: 17.0537, KL: 13.3102\n",
      "\n",
      "===== Epoch 394 =====\n"
     ]
    },
    {
     "name": "stderr",
     "output_type": "stream",
     "text": [
      "Epoch 394/500: 100%|██████████████████████████| 11/11 [00:00<00:00, 1120.85it/s]\n"
     ]
    },
    {
     "name": "stdout",
     "output_type": "stream",
     "text": [
      "Epoch 394, Loss: 30.4357, Recon: 17.1883, KL: 13.2473\n",
      "\n",
      "===== Epoch 395 =====\n"
     ]
    },
    {
     "name": "stderr",
     "output_type": "stream",
     "text": [
      "Epoch 395/500: 100%|██████████████████████████| 11/11 [00:00<00:00, 1066.19it/s]\n"
     ]
    },
    {
     "name": "stdout",
     "output_type": "stream",
     "text": [
      "Epoch 395, Loss: 30.1245, Recon: 16.8634, KL: 13.2611\n",
      "\n",
      "===== Epoch 396 =====\n"
     ]
    },
    {
     "name": "stderr",
     "output_type": "stream",
     "text": [
      "Epoch 396/500: 100%|██████████████████████████| 11/11 [00:00<00:00, 1052.21it/s]\n"
     ]
    },
    {
     "name": "stdout",
     "output_type": "stream",
     "text": [
      "Epoch 396, Loss: 30.4569, Recon: 17.2354, KL: 13.2215\n",
      "\n",
      "===== Epoch 397 =====\n"
     ]
    },
    {
     "name": "stderr",
     "output_type": "stream",
     "text": [
      "Epoch 397/500: 100%|██████████████████████████| 11/11 [00:00<00:00, 1111.66it/s]\n"
     ]
    },
    {
     "name": "stdout",
     "output_type": "stream",
     "text": [
      "Epoch 397, Loss: 30.3234, Recon: 17.0901, KL: 13.2332\n",
      "\n",
      "===== Epoch 398 =====\n"
     ]
    },
    {
     "name": "stderr",
     "output_type": "stream",
     "text": [
      "Epoch 398/500: 100%|██████████████████████████| 11/11 [00:00<00:00, 1070.79it/s]\n"
     ]
    },
    {
     "name": "stdout",
     "output_type": "stream",
     "text": [
      "Epoch 398, Loss: 30.3133, Recon: 17.0690, KL: 13.2443\n",
      "\n",
      "===== Epoch 399 =====\n"
     ]
    },
    {
     "name": "stderr",
     "output_type": "stream",
     "text": [
      "Epoch 399/500: 100%|██████████████████████████| 11/11 [00:00<00:00, 1122.02it/s]\n"
     ]
    },
    {
     "name": "stdout",
     "output_type": "stream",
     "text": [
      "Epoch 399, Loss: 30.1746, Recon: 17.0000, KL: 13.1745\n",
      "\n",
      "===== Epoch 400 =====\n"
     ]
    },
    {
     "name": "stderr",
     "output_type": "stream",
     "text": [
      "Epoch 400/500: 100%|██████████████████████████| 11/11 [00:00<00:00, 1080.98it/s]\n"
     ]
    },
    {
     "name": "stdout",
     "output_type": "stream",
     "text": [
      "Epoch 400, Loss: 30.1548, Recon: 16.9995, KL: 13.1553\n",
      "\n",
      "===== Epoch 401 =====\n"
     ]
    },
    {
     "name": "stderr",
     "output_type": "stream",
     "text": [
      "Epoch 401/500: 100%|██████████████████████████| 11/11 [00:00<00:00, 1121.91it/s]\n"
     ]
    },
    {
     "name": "stdout",
     "output_type": "stream",
     "text": [
      "Epoch 401, Loss: 30.1599, Recon: 17.0403, KL: 13.1196\n",
      "\n",
      "===== Epoch 402 =====\n"
     ]
    },
    {
     "name": "stderr",
     "output_type": "stream",
     "text": [
      "Epoch 402/500: 100%|██████████████████████████| 11/11 [00:00<00:00, 1123.82it/s]\n"
     ]
    },
    {
     "name": "stdout",
     "output_type": "stream",
     "text": [
      "Epoch 402, Loss: 30.2618, Recon: 17.1799, KL: 13.0819\n",
      "\n",
      "===== Epoch 403 =====\n"
     ]
    },
    {
     "name": "stderr",
     "output_type": "stream",
     "text": [
      "Epoch 403/500: 100%|██████████████████████████| 11/11 [00:00<00:00, 1085.89it/s]\n"
     ]
    },
    {
     "name": "stdout",
     "output_type": "stream",
     "text": [
      "Epoch 403, Loss: 30.3467, Recon: 17.2001, KL: 13.1466\n",
      "\n",
      "===== Epoch 404 =====\n"
     ]
    },
    {
     "name": "stderr",
     "output_type": "stream",
     "text": [
      "Epoch 404/500: 100%|██████████████████████████| 11/11 [00:00<00:00, 1096.39it/s]\n"
     ]
    },
    {
     "name": "stdout",
     "output_type": "stream",
     "text": [
      "Epoch 404, Loss: 30.3519, Recon: 17.1721, KL: 13.1798\n",
      "\n",
      "===== Epoch 405 =====\n"
     ]
    },
    {
     "name": "stderr",
     "output_type": "stream",
     "text": [
      "Epoch 405/500: 100%|██████████████████████████| 11/11 [00:00<00:00, 1127.14it/s]\n"
     ]
    },
    {
     "name": "stdout",
     "output_type": "stream",
     "text": [
      "Epoch 405, Loss: 30.3764, Recon: 17.1078, KL: 13.2686\n",
      "\n",
      "===== Epoch 406 =====\n"
     ]
    },
    {
     "name": "stderr",
     "output_type": "stream",
     "text": [
      "Epoch 406/500: 100%|██████████████████████████| 11/11 [00:00<00:00, 1104.32it/s]\n"
     ]
    },
    {
     "name": "stdout",
     "output_type": "stream",
     "text": [
      "Epoch 406, Loss: 30.1574, Recon: 16.8132, KL: 13.3442\n",
      "\n",
      "===== Epoch 407 =====\n"
     ]
    },
    {
     "name": "stderr",
     "output_type": "stream",
     "text": [
      "Epoch 407/500: 100%|██████████████████████████| 11/11 [00:00<00:00, 1075.69it/s]\n"
     ]
    },
    {
     "name": "stdout",
     "output_type": "stream",
     "text": [
      "Epoch 407, Loss: 30.2137, Recon: 16.9965, KL: 13.2171\n",
      "\n",
      "===== Epoch 408 =====\n"
     ]
    },
    {
     "name": "stderr",
     "output_type": "stream",
     "text": [
      "Epoch 408/500: 100%|██████████████████████████| 11/11 [00:00<00:00, 1082.91it/s]\n"
     ]
    },
    {
     "name": "stdout",
     "output_type": "stream",
     "text": [
      "Epoch 408, Loss: 30.2418, Recon: 17.0094, KL: 13.2324\n",
      "\n",
      "===== Epoch 409 =====\n"
     ]
    },
    {
     "name": "stderr",
     "output_type": "stream",
     "text": [
      "Epoch 409/500: 100%|██████████████████████████| 11/11 [00:00<00:00, 1067.85it/s]\n"
     ]
    },
    {
     "name": "stdout",
     "output_type": "stream",
     "text": [
      "Epoch 409, Loss: 30.5023, Recon: 17.2975, KL: 13.2048\n",
      "\n",
      "===== Epoch 410 =====\n"
     ]
    },
    {
     "name": "stderr",
     "output_type": "stream",
     "text": [
      "Epoch 410/500: 100%|██████████████████████████| 11/11 [00:00<00:00, 1067.03it/s]\n"
     ]
    },
    {
     "name": "stdout",
     "output_type": "stream",
     "text": [
      "Epoch 410, Loss: 30.4072, Recon: 17.0464, KL: 13.3608\n",
      "\n",
      "===== Epoch 411 =====\n"
     ]
    },
    {
     "name": "stderr",
     "output_type": "stream",
     "text": [
      "Epoch 411/500: 100%|██████████████████████████| 11/11 [00:00<00:00, 1117.78it/s]\n"
     ]
    },
    {
     "name": "stdout",
     "output_type": "stream",
     "text": [
      "Epoch 411, Loss: 30.0500, Recon: 16.5834, KL: 13.4666\n",
      "\n",
      "===== Epoch 412 =====\n"
     ]
    },
    {
     "name": "stderr",
     "output_type": "stream",
     "text": [
      "Epoch 412/500: 100%|██████████████████████████| 11/11 [00:00<00:00, 1122.89it/s]\n"
     ]
    },
    {
     "name": "stdout",
     "output_type": "stream",
     "text": [
      "Epoch 412, Loss: 30.2640, Recon: 16.9305, KL: 13.3335\n",
      "\n",
      "===== Epoch 413 =====\n"
     ]
    },
    {
     "name": "stderr",
     "output_type": "stream",
     "text": [
      "Epoch 413/500: 100%|██████████████████████████| 11/11 [00:00<00:00, 1096.81it/s]\n"
     ]
    },
    {
     "name": "stdout",
     "output_type": "stream",
     "text": [
      "Epoch 413, Loss: 30.3327, Recon: 17.0596, KL: 13.2731\n",
      "\n",
      "===== Epoch 414 =====\n"
     ]
    },
    {
     "name": "stderr",
     "output_type": "stream",
     "text": [
      "Epoch 414/500: 100%|██████████████████████████| 11/11 [00:00<00:00, 1083.75it/s]\n"
     ]
    },
    {
     "name": "stdout",
     "output_type": "stream",
     "text": [
      "Epoch 414, Loss: 30.4068, Recon: 17.0858, KL: 13.3210\n",
      "\n",
      "===== Epoch 415 =====\n"
     ]
    },
    {
     "name": "stderr",
     "output_type": "stream",
     "text": [
      "Epoch 415/500: 100%|██████████████████████████| 11/11 [00:00<00:00, 1073.16it/s]\n"
     ]
    },
    {
     "name": "stdout",
     "output_type": "stream",
     "text": [
      "Epoch 415, Loss: 30.2566, Recon: 16.8396, KL: 13.4170\n",
      "\n",
      "===== Epoch 416 =====\n"
     ]
    },
    {
     "name": "stderr",
     "output_type": "stream",
     "text": [
      "Epoch 416/500: 100%|██████████████████████████| 11/11 [00:00<00:00, 1117.67it/s]\n"
     ]
    },
    {
     "name": "stdout",
     "output_type": "stream",
     "text": [
      "Epoch 416, Loss: 30.4575, Recon: 17.1081, KL: 13.3494\n",
      "\n",
      "===== Epoch 417 =====\n"
     ]
    },
    {
     "name": "stderr",
     "output_type": "stream",
     "text": [
      "Epoch 417/500: 100%|██████████████████████████| 11/11 [00:00<00:00, 1087.27it/s]\n"
     ]
    },
    {
     "name": "stdout",
     "output_type": "stream",
     "text": [
      "Epoch 417, Loss: 30.1942, Recon: 16.8473, KL: 13.3469\n",
      "\n",
      "===== Epoch 418 =====\n"
     ]
    },
    {
     "name": "stderr",
     "output_type": "stream",
     "text": [
      "Epoch 418/500: 100%|██████████████████████████| 11/11 [00:00<00:00, 1092.27it/s]\n"
     ]
    },
    {
     "name": "stdout",
     "output_type": "stream",
     "text": [
      "Epoch 418, Loss: 30.2197, Recon: 16.8640, KL: 13.3557\n",
      "\n",
      "===== Epoch 419 =====\n"
     ]
    },
    {
     "name": "stderr",
     "output_type": "stream",
     "text": [
      "Epoch 419/500: 100%|██████████████████████████| 11/11 [00:00<00:00, 1115.40it/s]\n"
     ]
    },
    {
     "name": "stdout",
     "output_type": "stream",
     "text": [
      "Epoch 419, Loss: 30.1345, Recon: 16.7825, KL: 13.3521\n",
      "\n",
      "===== Epoch 420 =====\n"
     ]
    },
    {
     "name": "stderr",
     "output_type": "stream",
     "text": [
      "Epoch 420/500: 100%|██████████████████████████| 11/11 [00:00<00:00, 1084.28it/s]\n"
     ]
    },
    {
     "name": "stdout",
     "output_type": "stream",
     "text": [
      "Epoch 420, Loss: 30.3001, Recon: 17.0327, KL: 13.2673\n",
      "\n",
      "===== Epoch 421 =====\n"
     ]
    },
    {
     "name": "stderr",
     "output_type": "stream",
     "text": [
      "Epoch 421/500: 100%|██████████████████████████| 11/11 [00:00<00:00, 1084.72it/s]\n"
     ]
    },
    {
     "name": "stdout",
     "output_type": "stream",
     "text": [
      "Epoch 421, Loss: 30.0410, Recon: 16.6536, KL: 13.3875\n",
      "\n",
      "===== Epoch 422 =====\n"
     ]
    },
    {
     "name": "stderr",
     "output_type": "stream",
     "text": [
      "Epoch 422/500: 100%|██████████████████████████| 11/11 [00:00<00:00, 1065.90it/s]\n"
     ]
    },
    {
     "name": "stdout",
     "output_type": "stream",
     "text": [
      "Epoch 422, Loss: 29.9195, Recon: 16.6494, KL: 13.2701\n",
      "\n",
      "===== Epoch 423 =====\n"
     ]
    },
    {
     "name": "stderr",
     "output_type": "stream",
     "text": [
      "Epoch 423/500: 100%|██████████████████████████| 11/11 [00:00<00:00, 1127.50it/s]\n"
     ]
    },
    {
     "name": "stdout",
     "output_type": "stream",
     "text": [
      "Epoch 423, Loss: 29.9450, Recon: 16.8739, KL: 13.0710\n",
      "\n",
      "===== Epoch 424 =====\n"
     ]
    },
    {
     "name": "stderr",
     "output_type": "stream",
     "text": [
      "Epoch 424/500: 100%|██████████████████████████| 11/11 [00:00<00:00, 1132.84it/s]\n"
     ]
    },
    {
     "name": "stdout",
     "output_type": "stream",
     "text": [
      "Epoch 424, Loss: 30.0457, Recon: 16.9475, KL: 13.0982\n",
      "\n",
      "===== Epoch 425 =====\n"
     ]
    },
    {
     "name": "stderr",
     "output_type": "stream",
     "text": [
      "Epoch 425/500: 100%|██████████████████████████| 11/11 [00:00<00:00, 1124.62it/s]\n"
     ]
    },
    {
     "name": "stdout",
     "output_type": "stream",
     "text": [
      "Epoch 425, Loss: 30.0125, Recon: 16.8859, KL: 13.1266\n",
      "\n",
      "===== Epoch 426 =====\n"
     ]
    },
    {
     "name": "stderr",
     "output_type": "stream",
     "text": [
      "Epoch 426/500: 100%|██████████████████████████| 11/11 [00:00<00:00, 1107.74it/s]\n"
     ]
    },
    {
     "name": "stdout",
     "output_type": "stream",
     "text": [
      "Epoch 426, Loss: 29.9951, Recon: 16.8551, KL: 13.1399\n",
      "\n",
      "===== Epoch 427 =====\n"
     ]
    },
    {
     "name": "stderr",
     "output_type": "stream",
     "text": [
      "Epoch 427/500: 100%|██████████████████████████| 11/11 [00:00<00:00, 1091.16it/s]\n"
     ]
    },
    {
     "name": "stdout",
     "output_type": "stream",
     "text": [
      "Epoch 427, Loss: 30.1002, Recon: 16.8390, KL: 13.2612\n",
      "\n",
      "===== Epoch 428 =====\n"
     ]
    },
    {
     "name": "stderr",
     "output_type": "stream",
     "text": [
      "Epoch 428/500: 100%|██████████████████████████| 11/11 [00:00<00:00, 1096.84it/s]\n"
     ]
    },
    {
     "name": "stdout",
     "output_type": "stream",
     "text": [
      "Epoch 428, Loss: 29.9374, Recon: 16.6436, KL: 13.2939\n",
      "\n",
      "===== Epoch 429 =====\n"
     ]
    },
    {
     "name": "stderr",
     "output_type": "stream",
     "text": [
      "Epoch 429/500: 100%|██████████████████████████| 11/11 [00:00<00:00, 1146.21it/s]\n"
     ]
    },
    {
     "name": "stdout",
     "output_type": "stream",
     "text": [
      "Epoch 429, Loss: 30.3525, Recon: 17.0912, KL: 13.2613\n",
      "\n",
      "===== Epoch 430 =====\n"
     ]
    },
    {
     "name": "stderr",
     "output_type": "stream",
     "text": [
      "Epoch 430/500: 100%|██████████████████████████| 11/11 [00:00<00:00, 1086.10it/s]\n"
     ]
    },
    {
     "name": "stdout",
     "output_type": "stream",
     "text": [
      "Epoch 430, Loss: 30.2421, Recon: 16.8560, KL: 13.3861\n",
      "\n",
      "===== Epoch 431 =====\n"
     ]
    },
    {
     "name": "stderr",
     "output_type": "stream",
     "text": [
      "Epoch 431/500: 100%|██████████████████████████| 11/11 [00:00<00:00, 1059.51it/s]\n"
     ]
    },
    {
     "name": "stdout",
     "output_type": "stream",
     "text": [
      "Epoch 431, Loss: 30.1719, Recon: 16.7296, KL: 13.4424\n",
      "\n",
      "===== Epoch 432 =====\n"
     ]
    },
    {
     "name": "stderr",
     "output_type": "stream",
     "text": [
      "Epoch 432/500: 100%|██████████████████████████| 11/11 [00:00<00:00, 1100.21it/s]\n"
     ]
    },
    {
     "name": "stdout",
     "output_type": "stream",
     "text": [
      "Epoch 432, Loss: 30.1251, Recon: 16.7048, KL: 13.4202\n",
      "\n",
      "===== Epoch 433 =====\n"
     ]
    },
    {
     "name": "stderr",
     "output_type": "stream",
     "text": [
      "Epoch 433/500: 100%|██████████████████████████| 11/11 [00:00<00:00, 1085.87it/s]\n"
     ]
    },
    {
     "name": "stdout",
     "output_type": "stream",
     "text": [
      "Epoch 433, Loss: 29.9335, Recon: 16.5227, KL: 13.4107\n",
      "\n",
      "===== Epoch 434 =====\n"
     ]
    },
    {
     "name": "stderr",
     "output_type": "stream",
     "text": [
      "Epoch 434/500: 100%|██████████████████████████| 11/11 [00:00<00:00, 1062.19it/s]\n"
     ]
    },
    {
     "name": "stdout",
     "output_type": "stream",
     "text": [
      "Epoch 434, Loss: 30.4595, Recon: 17.0544, KL: 13.4051\n",
      "\n",
      "===== Epoch 435 =====\n"
     ]
    },
    {
     "name": "stderr",
     "output_type": "stream",
     "text": [
      "Epoch 435/500: 100%|██████████████████████████| 11/11 [00:00<00:00, 1066.02it/s]\n"
     ]
    },
    {
     "name": "stdout",
     "output_type": "stream",
     "text": [
      "Epoch 435, Loss: 30.0210, Recon: 16.5718, KL: 13.4492\n",
      "\n",
      "===== Epoch 436 =====\n"
     ]
    },
    {
     "name": "stderr",
     "output_type": "stream",
     "text": [
      "Epoch 436/500: 100%|██████████████████████████| 11/11 [00:00<00:00, 1114.13it/s]\n"
     ]
    },
    {
     "name": "stdout",
     "output_type": "stream",
     "text": [
      "Epoch 436, Loss: 30.2006, Recon: 16.8664, KL: 13.3342\n",
      "\n",
      "===== Epoch 437 =====\n"
     ]
    },
    {
     "name": "stderr",
     "output_type": "stream",
     "text": [
      "Epoch 437/500: 100%|██████████████████████████| 11/11 [00:00<00:00, 1136.84it/s]\n"
     ]
    },
    {
     "name": "stdout",
     "output_type": "stream",
     "text": [
      "Epoch 437, Loss: 30.1281, Recon: 16.8065, KL: 13.3216\n",
      "\n",
      "===== Epoch 438 =====\n"
     ]
    },
    {
     "name": "stderr",
     "output_type": "stream",
     "text": [
      "Epoch 438/500: 100%|██████████████████████████| 11/11 [00:00<00:00, 1080.65it/s]\n"
     ]
    },
    {
     "name": "stdout",
     "output_type": "stream",
     "text": [
      "Epoch 438, Loss: 30.0567, Recon: 16.6877, KL: 13.3689\n",
      "\n",
      "===== Epoch 439 =====\n"
     ]
    },
    {
     "name": "stderr",
     "output_type": "stream",
     "text": [
      "Epoch 439/500: 100%|██████████████████████████| 11/11 [00:00<00:00, 1063.10it/s]\n"
     ]
    },
    {
     "name": "stdout",
     "output_type": "stream",
     "text": [
      "Epoch 439, Loss: 30.0247, Recon: 16.6544, KL: 13.3703\n",
      "\n",
      "===== Epoch 440 =====\n"
     ]
    },
    {
     "name": "stderr",
     "output_type": "stream",
     "text": [
      "Epoch 440/500: 100%|██████████████████████████| 11/11 [00:00<00:00, 1069.85it/s]\n"
     ]
    },
    {
     "name": "stdout",
     "output_type": "stream",
     "text": [
      "Epoch 440, Loss: 29.8976, Recon: 16.5374, KL: 13.3602\n",
      "\n",
      "===== Epoch 441 =====\n"
     ]
    },
    {
     "name": "stderr",
     "output_type": "stream",
     "text": [
      "Epoch 441/500: 100%|██████████████████████████| 11/11 [00:00<00:00, 1106.09it/s]\n"
     ]
    },
    {
     "name": "stdout",
     "output_type": "stream",
     "text": [
      "Epoch 441, Loss: 29.8638, Recon: 16.5664, KL: 13.2974\n",
      "\n",
      "===== Epoch 442 =====\n"
     ]
    },
    {
     "name": "stderr",
     "output_type": "stream",
     "text": [
      "Epoch 442/500: 100%|██████████████████████████| 11/11 [00:00<00:00, 1125.66it/s]\n"
     ]
    },
    {
     "name": "stdout",
     "output_type": "stream",
     "text": [
      "Epoch 442, Loss: 29.9248, Recon: 16.7063, KL: 13.2185\n",
      "\n",
      "===== Epoch 443 =====\n"
     ]
    },
    {
     "name": "stderr",
     "output_type": "stream",
     "text": [
      "Epoch 443/500: 100%|██████████████████████████| 11/11 [00:00<00:00, 1105.32it/s]\n"
     ]
    },
    {
     "name": "stdout",
     "output_type": "stream",
     "text": [
      "Epoch 443, Loss: 30.2893, Recon: 17.0547, KL: 13.2346\n",
      "\n",
      "===== Epoch 444 =====\n"
     ]
    },
    {
     "name": "stderr",
     "output_type": "stream",
     "text": [
      "Epoch 444/500: 100%|██████████████████████████| 11/11 [00:00<00:00, 1118.94it/s]\n"
     ]
    },
    {
     "name": "stdout",
     "output_type": "stream",
     "text": [
      "Epoch 444, Loss: 30.1830, Recon: 16.7369, KL: 13.4460\n",
      "\n",
      "===== Epoch 445 =====\n"
     ]
    },
    {
     "name": "stderr",
     "output_type": "stream",
     "text": [
      "Epoch 445/500: 100%|██████████████████████████| 11/11 [00:00<00:00, 1083.11it/s]\n"
     ]
    },
    {
     "name": "stdout",
     "output_type": "stream",
     "text": [
      "Epoch 445, Loss: 29.8248, Recon: 16.2855, KL: 13.5394\n",
      "\n",
      "===== Epoch 446 =====\n"
     ]
    },
    {
     "name": "stderr",
     "output_type": "stream",
     "text": [
      "Epoch 446/500: 100%|██████████████████████████| 11/11 [00:00<00:00, 1076.87it/s]\n"
     ]
    },
    {
     "name": "stdout",
     "output_type": "stream",
     "text": [
      "Epoch 446, Loss: 30.0315, Recon: 16.6609, KL: 13.3706\n",
      "\n",
      "===== Epoch 447 =====\n"
     ]
    },
    {
     "name": "stderr",
     "output_type": "stream",
     "text": [
      "Epoch 447/500: 100%|██████████████████████████| 11/11 [00:00<00:00, 1068.49it/s]\n"
     ]
    },
    {
     "name": "stdout",
     "output_type": "stream",
     "text": [
      "Epoch 447, Loss: 29.8373, Recon: 16.4735, KL: 13.3638\n",
      "\n",
      "===== Epoch 448 =====\n"
     ]
    },
    {
     "name": "stderr",
     "output_type": "stream",
     "text": [
      "Epoch 448/500: 100%|██████████████████████████| 11/11 [00:00<00:00, 1133.90it/s]\n"
     ]
    },
    {
     "name": "stdout",
     "output_type": "stream",
     "text": [
      "Epoch 448, Loss: 29.9587, Recon: 16.6778, KL: 13.2809\n",
      "\n",
      "===== Epoch 449 =====\n"
     ]
    },
    {
     "name": "stderr",
     "output_type": "stream",
     "text": [
      "Epoch 449/500: 100%|██████████████████████████| 11/11 [00:00<00:00, 1089.12it/s]\n"
     ]
    },
    {
     "name": "stdout",
     "output_type": "stream",
     "text": [
      "Epoch 449, Loss: 29.6596, Recon: 16.3532, KL: 13.3064\n",
      "\n",
      "===== Epoch 450 =====\n"
     ]
    },
    {
     "name": "stderr",
     "output_type": "stream",
     "text": [
      "Epoch 450/500: 100%|██████████████████████████| 11/11 [00:00<00:00, 1068.07it/s]\n"
     ]
    },
    {
     "name": "stdout",
     "output_type": "stream",
     "text": [
      "Epoch 450, Loss: 29.7407, Recon: 16.5265, KL: 13.2142\n",
      "\n",
      "===== Epoch 451 =====\n"
     ]
    },
    {
     "name": "stderr",
     "output_type": "stream",
     "text": [
      "Epoch 451/500: 100%|██████████████████████████| 11/11 [00:00<00:00, 1038.01it/s]\n"
     ]
    },
    {
     "name": "stdout",
     "output_type": "stream",
     "text": [
      "Epoch 451, Loss: 29.9978, Recon: 16.9409, KL: 13.0569\n",
      "\n",
      "===== Epoch 452 =====\n"
     ]
    },
    {
     "name": "stderr",
     "output_type": "stream",
     "text": [
      "Epoch 452/500: 100%|██████████████████████████| 11/11 [00:00<00:00, 1106.54it/s]\n"
     ]
    },
    {
     "name": "stdout",
     "output_type": "stream",
     "text": [
      "Epoch 452, Loss: 30.0637, Recon: 16.7827, KL: 13.2810\n",
      "\n",
      "===== Epoch 453 =====\n"
     ]
    },
    {
     "name": "stderr",
     "output_type": "stream",
     "text": [
      "Epoch 453/500: 100%|██████████████████████████| 11/11 [00:00<00:00, 1134.04it/s]\n"
     ]
    },
    {
     "name": "stdout",
     "output_type": "stream",
     "text": [
      "Epoch 453, Loss: 29.7647, Recon: 16.3260, KL: 13.4387\n",
      "\n",
      "===== Epoch 454 =====\n"
     ]
    },
    {
     "name": "stderr",
     "output_type": "stream",
     "text": [
      "Epoch 454/500: 100%|██████████████████████████| 11/11 [00:00<00:00, 1110.22it/s]\n"
     ]
    },
    {
     "name": "stdout",
     "output_type": "stream",
     "text": [
      "Epoch 454, Loss: 29.9367, Recon: 16.6085, KL: 13.3282\n",
      "\n",
      "===== Epoch 455 =====\n"
     ]
    },
    {
     "name": "stderr",
     "output_type": "stream",
     "text": [
      "Epoch 455/500: 100%|██████████████████████████| 11/11 [00:00<00:00, 1084.05it/s]\n"
     ]
    },
    {
     "name": "stdout",
     "output_type": "stream",
     "text": [
      "Epoch 455, Loss: 29.8707, Recon: 16.5067, KL: 13.3640\n",
      "\n",
      "===== Epoch 456 =====\n"
     ]
    },
    {
     "name": "stderr",
     "output_type": "stream",
     "text": [
      "Epoch 456/500: 100%|██████████████████████████| 11/11 [00:00<00:00, 1078.83it/s]\n"
     ]
    },
    {
     "name": "stdout",
     "output_type": "stream",
     "text": [
      "Epoch 456, Loss: 29.8591, Recon: 16.4391, KL: 13.4199\n",
      "\n",
      "===== Epoch 457 =====\n"
     ]
    },
    {
     "name": "stderr",
     "output_type": "stream",
     "text": [
      "Epoch 457/500: 100%|██████████████████████████| 11/11 [00:00<00:00, 1077.07it/s]\n"
     ]
    },
    {
     "name": "stdout",
     "output_type": "stream",
     "text": [
      "Epoch 457, Loss: 30.0006, Recon: 16.6213, KL: 13.3793\n",
      "\n",
      "===== Epoch 458 =====\n"
     ]
    },
    {
     "name": "stderr",
     "output_type": "stream",
     "text": [
      "Epoch 458/500: 100%|██████████████████████████| 11/11 [00:00<00:00, 1099.14it/s]\n"
     ]
    },
    {
     "name": "stdout",
     "output_type": "stream",
     "text": [
      "Epoch 458, Loss: 29.8351, Recon: 16.4882, KL: 13.3468\n",
      "\n",
      "===== Epoch 459 =====\n"
     ]
    },
    {
     "name": "stderr",
     "output_type": "stream",
     "text": [
      "Epoch 459/500: 100%|██████████████████████████| 11/11 [00:00<00:00, 1117.32it/s]\n"
     ]
    },
    {
     "name": "stdout",
     "output_type": "stream",
     "text": [
      "Epoch 459, Loss: 29.7801, Recon: 16.4600, KL: 13.3201\n",
      "\n",
      "===== Epoch 460 =====\n"
     ]
    },
    {
     "name": "stderr",
     "output_type": "stream",
     "text": [
      "Epoch 460/500: 100%|██████████████████████████| 11/11 [00:00<00:00, 1054.66it/s]\n"
     ]
    },
    {
     "name": "stdout",
     "output_type": "stream",
     "text": [
      "Epoch 460, Loss: 29.7890, Recon: 16.4567, KL: 13.3323\n",
      "\n",
      "===== Epoch 461 =====\n"
     ]
    },
    {
     "name": "stderr",
     "output_type": "stream",
     "text": [
      "Epoch 461/500: 100%|██████████████████████████| 11/11 [00:00<00:00, 1121.88it/s]\n"
     ]
    },
    {
     "name": "stdout",
     "output_type": "stream",
     "text": [
      "Epoch 461, Loss: 29.7282, Recon: 16.4671, KL: 13.2611\n",
      "\n",
      "===== Epoch 462 =====\n"
     ]
    },
    {
     "name": "stderr",
     "output_type": "stream",
     "text": [
      "Epoch 462/500: 100%|██████████████████████████| 11/11 [00:00<00:00, 1175.44it/s]\n"
     ]
    },
    {
     "name": "stdout",
     "output_type": "stream",
     "text": [
      "Epoch 462, Loss: 29.6322, Recon: 16.4165, KL: 13.2157\n",
      "\n",
      "===== Epoch 463 =====\n"
     ]
    },
    {
     "name": "stderr",
     "output_type": "stream",
     "text": [
      "Epoch 463/500: 100%|██████████████████████████| 11/11 [00:00<00:00, 1118.24it/s]\n"
     ]
    },
    {
     "name": "stdout",
     "output_type": "stream",
     "text": [
      "Epoch 463, Loss: 29.8988, Recon: 16.6802, KL: 13.2187\n",
      "\n",
      "===== Epoch 464 =====\n"
     ]
    },
    {
     "name": "stderr",
     "output_type": "stream",
     "text": [
      "Epoch 464/500: 100%|██████████████████████████| 11/11 [00:00<00:00, 1122.70it/s]\n"
     ]
    },
    {
     "name": "stdout",
     "output_type": "stream",
     "text": [
      "Epoch 464, Loss: 29.7015, Recon: 16.3235, KL: 13.3780\n",
      "\n",
      "===== Epoch 465 =====\n"
     ]
    },
    {
     "name": "stderr",
     "output_type": "stream",
     "text": [
      "Epoch 465/500: 100%|██████████████████████████| 11/11 [00:00<00:00, 1086.43it/s]\n"
     ]
    },
    {
     "name": "stdout",
     "output_type": "stream",
     "text": [
      "Epoch 465, Loss: 29.6808, Recon: 16.3408, KL: 13.3400\n",
      "\n",
      "===== Epoch 466 =====\n"
     ]
    },
    {
     "name": "stderr",
     "output_type": "stream",
     "text": [
      "Epoch 466/500: 100%|██████████████████████████| 11/11 [00:00<00:00, 1129.02it/s]\n"
     ]
    },
    {
     "name": "stdout",
     "output_type": "stream",
     "text": [
      "Epoch 466, Loss: 30.1235, Recon: 16.7875, KL: 13.3360\n",
      "\n",
      "===== Epoch 467 =====\n"
     ]
    },
    {
     "name": "stderr",
     "output_type": "stream",
     "text": [
      "Epoch 467/500: 100%|██████████████████████████| 11/11 [00:00<00:00, 1092.45it/s]\n"
     ]
    },
    {
     "name": "stdout",
     "output_type": "stream",
     "text": [
      "Epoch 467, Loss: 29.5076, Recon: 16.1606, KL: 13.3470\n",
      "\n",
      "===== Epoch 468 =====\n"
     ]
    },
    {
     "name": "stderr",
     "output_type": "stream",
     "text": [
      "Epoch 468/500: 100%|██████████████████████████| 11/11 [00:00<00:00, 1081.18it/s]\n"
     ]
    },
    {
     "name": "stdout",
     "output_type": "stream",
     "text": [
      "Epoch 468, Loss: 29.6803, Recon: 16.3740, KL: 13.3063\n",
      "\n",
      "===== Epoch 469 =====\n"
     ]
    },
    {
     "name": "stderr",
     "output_type": "stream",
     "text": [
      "Epoch 469/500: 100%|██████████████████████████| 11/11 [00:00<00:00, 1119.05it/s]\n"
     ]
    },
    {
     "name": "stdout",
     "output_type": "stream",
     "text": [
      "Epoch 469, Loss: 29.8577, Recon: 16.5942, KL: 13.2635\n",
      "\n",
      "===== Epoch 470 =====\n"
     ]
    },
    {
     "name": "stderr",
     "output_type": "stream",
     "text": [
      "Epoch 470/500: 100%|██████████████████████████| 11/11 [00:00<00:00, 1148.84it/s]\n"
     ]
    },
    {
     "name": "stdout",
     "output_type": "stream",
     "text": [
      "Epoch 470, Loss: 29.8657, Recon: 16.5663, KL: 13.2995\n",
      "\n",
      "===== Epoch 471 =====\n"
     ]
    },
    {
     "name": "stderr",
     "output_type": "stream",
     "text": [
      "Epoch 471/500: 100%|██████████████████████████| 11/11 [00:00<00:00, 1072.41it/s]\n"
     ]
    },
    {
     "name": "stdout",
     "output_type": "stream",
     "text": [
      "Epoch 471, Loss: 29.4540, Recon: 16.0765, KL: 13.3775\n",
      "\n",
      "===== Epoch 472 =====\n"
     ]
    },
    {
     "name": "stderr",
     "output_type": "stream",
     "text": [
      "Epoch 472/500: 100%|██████████████████████████| 11/11 [00:00<00:00, 1061.17it/s]\n"
     ]
    },
    {
     "name": "stdout",
     "output_type": "stream",
     "text": [
      "Epoch 472, Loss: 29.6236, Recon: 16.3310, KL: 13.2925\n",
      "\n",
      "===== Epoch 473 =====\n"
     ]
    },
    {
     "name": "stderr",
     "output_type": "stream",
     "text": [
      "Epoch 473/500: 100%|██████████████████████████| 11/11 [00:00<00:00, 1068.46it/s]\n"
     ]
    },
    {
     "name": "stdout",
     "output_type": "stream",
     "text": [
      "Epoch 473, Loss: 29.7164, Recon: 16.4856, KL: 13.2309\n",
      "\n",
      "===== Epoch 474 =====\n"
     ]
    },
    {
     "name": "stderr",
     "output_type": "stream",
     "text": [
      "Epoch 474/500: 100%|██████████████████████████| 11/11 [00:00<00:00, 1100.55it/s]\n"
     ]
    },
    {
     "name": "stdout",
     "output_type": "stream",
     "text": [
      "Epoch 474, Loss: 29.7451, Recon: 16.5394, KL: 13.2057\n",
      "\n",
      "===== Epoch 475 =====\n"
     ]
    },
    {
     "name": "stderr",
     "output_type": "stream",
     "text": [
      "Epoch 475/500: 100%|██████████████████████████| 11/11 [00:00<00:00, 1141.22it/s]\n"
     ]
    },
    {
     "name": "stdout",
     "output_type": "stream",
     "text": [
      "Epoch 475, Loss: 29.7216, Recon: 16.3946, KL: 13.3269\n",
      "\n",
      "===== Epoch 476 =====\n"
     ]
    },
    {
     "name": "stderr",
     "output_type": "stream",
     "text": [
      "Epoch 476/500: 100%|██████████████████████████| 11/11 [00:00<00:00, 1086.07it/s]\n"
     ]
    },
    {
     "name": "stdout",
     "output_type": "stream",
     "text": [
      "Epoch 476, Loss: 29.9302, Recon: 16.4443, KL: 13.4859\n",
      "\n",
      "===== Epoch 477 =====\n"
     ]
    },
    {
     "name": "stderr",
     "output_type": "stream",
     "text": [
      "Epoch 477/500: 100%|██████████████████████████| 11/11 [00:00<00:00, 1091.70it/s]\n"
     ]
    },
    {
     "name": "stdout",
     "output_type": "stream",
     "text": [
      "Epoch 477, Loss: 29.4947, Recon: 16.0583, KL: 13.4364\n",
      "\n",
      "===== Epoch 478 =====\n"
     ]
    },
    {
     "name": "stderr",
     "output_type": "stream",
     "text": [
      "Epoch 478/500: 100%|██████████████████████████| 11/11 [00:00<00:00, 1054.38it/s]\n"
     ]
    },
    {
     "name": "stdout",
     "output_type": "stream",
     "text": [
      "Epoch 478, Loss: 29.7891, Recon: 16.4017, KL: 13.3874\n",
      "\n",
      "===== Epoch 479 =====\n"
     ]
    },
    {
     "name": "stderr",
     "output_type": "stream",
     "text": [
      "Epoch 479/500: 100%|███████████████████████████| 11/11 [00:00<00:00, 880.27it/s]\n"
     ]
    },
    {
     "name": "stdout",
     "output_type": "stream",
     "text": [
      "Epoch 479, Loss: 29.8396, Recon: 16.4358, KL: 13.4039\n",
      "\n",
      "===== Epoch 480 =====\n"
     ]
    },
    {
     "name": "stderr",
     "output_type": "stream",
     "text": [
      "Epoch 480/500: 100%|██████████████████████████| 11/11 [00:00<00:00, 1067.55it/s]\n"
     ]
    },
    {
     "name": "stdout",
     "output_type": "stream",
     "text": [
      "Epoch 480, Loss: 29.4246, Recon: 16.0496, KL: 13.3750\n",
      "\n",
      "===== Epoch 481 =====\n"
     ]
    },
    {
     "name": "stderr",
     "output_type": "stream",
     "text": [
      "Epoch 481/500: 100%|██████████████████████████| 11/11 [00:00<00:00, 1044.04it/s]\n"
     ]
    },
    {
     "name": "stdout",
     "output_type": "stream",
     "text": [
      "Epoch 481, Loss: 29.7945, Recon: 16.4455, KL: 13.3491\n",
      "\n",
      "===== Epoch 482 =====\n"
     ]
    },
    {
     "name": "stderr",
     "output_type": "stream",
     "text": [
      "Epoch 482/500: 100%|██████████████████████████| 11/11 [00:00<00:00, 1086.97it/s]\n"
     ]
    },
    {
     "name": "stdout",
     "output_type": "stream",
     "text": [
      "Epoch 482, Loss: 29.7161, Recon: 16.3593, KL: 13.3568\n",
      "\n",
      "===== Epoch 483 =====\n"
     ]
    },
    {
     "name": "stderr",
     "output_type": "stream",
     "text": [
      "Epoch 483/500: 100%|██████████████████████████| 11/11 [00:00<00:00, 1116.26it/s]\n"
     ]
    },
    {
     "name": "stdout",
     "output_type": "stream",
     "text": [
      "Epoch 483, Loss: 29.8031, Recon: 16.3448, KL: 13.4583\n",
      "\n",
      "===== Epoch 484 =====\n"
     ]
    },
    {
     "name": "stderr",
     "output_type": "stream",
     "text": [
      "Epoch 484/500: 100%|██████████████████████████| 11/11 [00:00<00:00, 1067.33it/s]\n"
     ]
    },
    {
     "name": "stdout",
     "output_type": "stream",
     "text": [
      "Epoch 484, Loss: 29.9408, Recon: 16.5364, KL: 13.4044\n",
      "\n",
      "===== Epoch 485 =====\n"
     ]
    },
    {
     "name": "stderr",
     "output_type": "stream",
     "text": [
      "Epoch 485/500: 100%|██████████████████████████| 11/11 [00:00<00:00, 1099.90it/s]\n"
     ]
    },
    {
     "name": "stdout",
     "output_type": "stream",
     "text": [
      "Epoch 485, Loss: 29.7268, Recon: 16.2144, KL: 13.5125\n",
      "\n",
      "===== Epoch 486 =====\n"
     ]
    },
    {
     "name": "stderr",
     "output_type": "stream",
     "text": [
      "Epoch 486/500: 100%|██████████████████████████| 11/11 [00:00<00:00, 1114.37it/s]\n"
     ]
    },
    {
     "name": "stdout",
     "output_type": "stream",
     "text": [
      "Epoch 486, Loss: 29.6729, Recon: 16.2007, KL: 13.4722\n",
      "\n",
      "===== Epoch 487 =====\n"
     ]
    },
    {
     "name": "stderr",
     "output_type": "stream",
     "text": [
      "Epoch 487/500: 100%|██████████████████████████| 11/11 [00:00<00:00, 1101.89it/s]\n"
     ]
    },
    {
     "name": "stdout",
     "output_type": "stream",
     "text": [
      "Epoch 487, Loss: 29.7377, Recon: 16.2751, KL: 13.4626\n",
      "\n",
      "===== Epoch 488 =====\n"
     ]
    },
    {
     "name": "stderr",
     "output_type": "stream",
     "text": [
      "Epoch 488/500: 100%|██████████████████████████| 11/11 [00:00<00:00, 1106.86it/s]\n"
     ]
    },
    {
     "name": "stdout",
     "output_type": "stream",
     "text": [
      "Epoch 488, Loss: 29.6258, Recon: 16.2319, KL: 13.3939\n",
      "\n",
      "===== Epoch 489 =====\n"
     ]
    },
    {
     "name": "stderr",
     "output_type": "stream",
     "text": [
      "Epoch 489/500: 100%|██████████████████████████| 11/11 [00:00<00:00, 1131.01it/s]\n"
     ]
    },
    {
     "name": "stdout",
     "output_type": "stream",
     "text": [
      "Epoch 489, Loss: 29.8576, Recon: 16.4760, KL: 13.3816\n",
      "\n",
      "===== Epoch 490 =====\n"
     ]
    },
    {
     "name": "stderr",
     "output_type": "stream",
     "text": [
      "Epoch 490/500: 100%|██████████████████████████| 11/11 [00:00<00:00, 1128.30it/s]\n"
     ]
    },
    {
     "name": "stdout",
     "output_type": "stream",
     "text": [
      "Epoch 490, Loss: 29.5551, Recon: 16.0925, KL: 13.4626\n",
      "\n",
      "===== Epoch 491 =====\n"
     ]
    },
    {
     "name": "stderr",
     "output_type": "stream",
     "text": [
      "Epoch 491/500: 100%|██████████████████████████| 11/11 [00:00<00:00, 1064.96it/s]\n"
     ]
    },
    {
     "name": "stdout",
     "output_type": "stream",
     "text": [
      "Epoch 491, Loss: 29.4227, Recon: 15.9658, KL: 13.4569\n",
      "\n",
      "===== Epoch 492 =====\n"
     ]
    },
    {
     "name": "stderr",
     "output_type": "stream",
     "text": [
      "Epoch 492/500: 100%|██████████████████████████| 11/11 [00:00<00:00, 1085.35it/s]\n"
     ]
    },
    {
     "name": "stdout",
     "output_type": "stream",
     "text": [
      "Epoch 492, Loss: 29.5326, Recon: 16.2251, KL: 13.3075\n",
      "\n",
      "===== Epoch 493 =====\n"
     ]
    },
    {
     "name": "stderr",
     "output_type": "stream",
     "text": [
      "Epoch 493/500: 100%|██████████████████████████| 11/11 [00:00<00:00, 1056.48it/s]\n"
     ]
    },
    {
     "name": "stdout",
     "output_type": "stream",
     "text": [
      "Epoch 493, Loss: 29.6137, Recon: 16.3013, KL: 13.3124\n",
      "\n",
      "===== Epoch 494 =====\n"
     ]
    },
    {
     "name": "stderr",
     "output_type": "stream",
     "text": [
      "Epoch 494/500: 100%|██████████████████████████| 11/11 [00:00<00:00, 1065.08it/s]\n"
     ]
    },
    {
     "name": "stdout",
     "output_type": "stream",
     "text": [
      "Epoch 494, Loss: 29.8812, Recon: 16.4951, KL: 13.3861\n",
      "\n",
      "===== Epoch 495 =====\n"
     ]
    },
    {
     "name": "stderr",
     "output_type": "stream",
     "text": [
      "Epoch 495/500: 100%|██████████████████████████| 11/11 [00:00<00:00, 1081.41it/s]\n"
     ]
    },
    {
     "name": "stdout",
     "output_type": "stream",
     "text": [
      "Epoch 495, Loss: 29.8619, Recon: 16.2470, KL: 13.6149\n",
      "\n",
      "===== Epoch 496 =====\n"
     ]
    },
    {
     "name": "stderr",
     "output_type": "stream",
     "text": [
      "Epoch 496/500: 100%|██████████████████████████| 11/11 [00:00<00:00, 1088.25it/s]\n"
     ]
    },
    {
     "name": "stdout",
     "output_type": "stream",
     "text": [
      "Epoch 496, Loss: 29.6097, Recon: 15.9205, KL: 13.6892\n",
      "\n",
      "===== Epoch 497 =====\n"
     ]
    },
    {
     "name": "stderr",
     "output_type": "stream",
     "text": [
      "Epoch 497/500: 100%|██████████████████████████| 11/11 [00:00<00:00, 1058.17it/s]\n"
     ]
    },
    {
     "name": "stdout",
     "output_type": "stream",
     "text": [
      "Epoch 497, Loss: 29.5368, Recon: 16.0093, KL: 13.5275\n",
      "\n",
      "===== Epoch 498 =====\n"
     ]
    },
    {
     "name": "stderr",
     "output_type": "stream",
     "text": [
      "Epoch 498/500: 100%|██████████████████████████| 11/11 [00:00<00:00, 1099.45it/s]\n"
     ]
    },
    {
     "name": "stdout",
     "output_type": "stream",
     "text": [
      "Epoch 498, Loss: 29.4426, Recon: 16.0011, KL: 13.4415\n",
      "\n",
      "===== Epoch 499 =====\n"
     ]
    },
    {
     "name": "stderr",
     "output_type": "stream",
     "text": [
      "Epoch 499/500: 100%|██████████████████████████| 11/11 [00:00<00:00, 1050.44it/s]\n"
     ]
    },
    {
     "name": "stdout",
     "output_type": "stream",
     "text": [
      "Epoch 499, Loss: 29.7384, Recon: 16.3677, KL: 13.3708\n",
      "\n",
      "===== Epoch 500 =====\n"
     ]
    },
    {
     "name": "stderr",
     "output_type": "stream",
     "text": [
      "Epoch 500/500: 100%|██████████████████████████| 11/11 [00:00<00:00, 1036.58it/s]\n"
     ]
    },
    {
     "name": "stdout",
     "output_type": "stream",
     "text": [
      "Epoch 500, Loss: 29.4809, Recon: 16.1058, KL: 13.3751\n"
     ]
    }
   ],
   "source": [
    "# Set up model, optimizer, and device\n",
    "input_dim = X_tensor.shape[1]\n",
    "latent_dim = 10\n",
    "NUM_EPOCH = 500\n",
    "LR = 3e-4\n",
    "device = torch.device(\"cuda\" if torch.cuda.is_available() else \"cpu\")\n",
    "model = VAE(input_dim=input_dim, latent_dim=latent_dim)\n",
    "optimizer = torch.optim.Adam(model.parameters(), lr=LR)\n",
    "total_loss_hist, recon_loss_hist, kld_loss_hist = train_vae(model, dataloader, optimizer, device=device, epochs=NUM_EPOCH)"
   ]
  },
  {
   "cell_type": "code",
   "execution_count": 11,
   "id": "f6dcdde0-7d83-457e-901f-c243eb756d48",
   "metadata": {},
   "outputs": [
    {
     "data": {
      "image/png": "[encoded data removed]",
      "text/plain": [
       "<Figure size 1000x600 with 1 Axes>"
      ]
     },
     "metadata": {},
     "output_type": "display_data"
    }
   ],
   "source": [
    "plot_vae_losses(total_loss_hist, recon_loss_hist, kld_loss_hist)"
   ]
  },
  {
   "cell_type": "code",
   "execution_count": 12,
   "id": "0604b710-ebdc-4385-a292-f984174e93b3",
   "metadata": {},
   "outputs": [
    {
     "name": "stdout",
     "output_type": "stream",
     "text": [
      "dim of latent mu: (331, 10)\n"
     ]
    },
    {
     "data": {
      "image/png": "[encoded data removed]",
      "text/plain": [
       "<Figure size 800x800 with 1 Axes>"
      ]
     },
     "metadata": {},
     "output_type": "display_data"
    }
   ],
   "source": [
    "mu_all = get_latent_mu(model, X_tensor, device=device)\n",
    "# 2d-TSNE\n",
    "z_2d = TSNE(n_components=2, perplexity=8).fit_transform(mu_all)\n",
    "plot_latent_embedding_by_condition_and_subject(z_2d, all_tms_type, all_subject_id)"
   ]
  },
  {
   "cell_type": "code",
   "execution_count": 14,
   "id": "ecbb910b-eb38-47b1-8e3a-9ffbc7e22fcb",
   "metadata": {},
   "outputs": [
    {
     "name": "stdout",
     "output_type": "stream",
     "text": [
      "Paired t-test: t = -2.211, p = 0.0322\n"
     ]
    },
    {
     "data": {
      "image/png": "[encoded data removed]",
      "text/plain": [
       "<Figure size 800x500 with 1 Axes>"
      ]
     },
     "metadata": {},
     "output_type": "display_data"
    }
   ],
   "source": [
    "df = compute_condition_distances(mu_all, all_tms_type, all_subject_id, condition_map)\n",
    "\n",
    "# Paired t-test\n",
    "t_stat, p_val_t = ttest_rel(df[\"d_null_sham\"], df[\"d_null_real\"])\n",
    "print(f\"Paired t-test: t = {t_stat:.3f}, p = {p_val_t:.4f}\")\n",
    "plot_subject_distance_comparison(df)"
   ]
  },
  {
   "cell_type": "code",
   "execution_count": null,
   "id": "b8cb99a9-b235-4b09-bcd2-78bbbbd5da0a",
   "metadata": {},
   "outputs": [],
   "source": []
  },
  {
   "cell_type": "code",
   "execution_count": null,
   "id": "1191dbc5-2f07-4e7e-9210-0eede750062b",
   "metadata": {},
   "outputs": [],
   "source": []
  }
 ],
 "metadata": {
  "kernelspec": {
   "display_name": "Python 3 (ipykernel)",
   "language": "python",
   "name": "python3"
  },
  "language_info": {
   "codemirror_mode": {
    "name": "ipython",
    "version": 3
   },
   "file_extension": ".py",
   "mimetype": "text/x-python",
   "name": "python",
   "nbconvert_exporter": "python",
   "pygments_lexer": "ipython3",
   "version": "3.9.6"
  }
 },
 "nbformat": 4,
 "nbformat_minor": 5
}
