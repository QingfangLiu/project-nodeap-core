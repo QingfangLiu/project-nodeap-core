{
 "cells": [
  {
   "cell_type": "code",
   "execution_count": 8,
   "id": "05ca6874-650f-47b0-a44f-97f86c5f8e9e",
   "metadata": {},
   "outputs": [
    {
     "name": "stdout",
     "output_type": "stream",
     "text": [
      "The autoreload extension is already loaded. To reload it, use:\n",
      "  %reload_ext autoreload\n"
     ]
    }
   ],
   "source": [
    "# Auto-Reload for Fast Iteration\n",
    "%load_ext autoreload\n",
    "%autoreload 2"
   ]
  },
  {
   "cell_type": "code",
   "execution_count": 9,
   "id": "8004c283-162a-43f1-ae97-3d7c5dadcdb9",
   "metadata": {},
   "outputs": [],
   "source": [
    "import numpy as np\n",
    "import nibabel as nib\n",
    "import pandas as pd\n",
    "import os\n",
    "from pathlib import Path\n",
    "import matplotlib.pyplot as plt\n",
    "import seaborn as sns\n",
    "\n",
    "from scipy.io import loadmat\n",
    "from scipy.spatial.distance import euclidean\n",
    "from scipy.stats import ttest_rel, wilcoxon"
   ]
  },
  {
   "cell_type": "code",
   "execution_count": 10,
   "id": "e63bf29d-56a8-4165-bccd-de3d8d15a8f1",
   "metadata": {},
   "outputs": [],
   "source": [
    "import torch\n",
    "import torch.nn as nn\n",
    "import torch.nn.functional as F\n",
    "from torch.utils.data import TensorDataset, DataLoader\n",
    "from tqdm import tqdm # progress bar"
   ]
  },
  {
   "cell_type": "code",
   "execution_count": 11,
   "id": "1256298c-0369-425a-9f31-792cb4db50da",
   "metadata": {},
   "outputs": [],
   "source": [
    "from sklearn.feature_selection import SelectPercentile, f_classif\n",
    "from sklearn.pipeline import Pipeline\n",
    "from sklearn.metrics import accuracy_score, classification_report\n",
    "from sklearn.metrics import confusion_matrix, ConfusionMatrixDisplay\n",
    "from sklearn.model_selection import cross_val_score\n",
    "from sklearn.model_selection import GroupKFold\n",
    "from sklearn.preprocessing import OneHotEncoder\n",
    "from sklearn.manifold import TSNE\n",
    "import umap.umap_ as umap"
   ]
  },
  {
   "cell_type": "code",
   "execution_count": 12,
   "id": "2cce3b35-1477-4ea8-8e6b-2bd02c6b0afd",
   "metadata": {},
   "outputs": [],
   "source": [
    "# import custom functions from .py scripts\n",
    "from models import VAE, CVAE \n",
    "from train_utils import train_vae, loss_function, get_latent_mu, compute_condition_distances, get_latent_mu_cvae, compute_per_session_dist_to_null\n",
    "from data_utils import load_all_fc_data, preprocess_for_torch\n",
    "from utils_plotting import plot_vae_losses, plot_latent_embedding_by_condition_and_subject, plot_subject_distance_comparison"
   ]
  },
  {
   "cell_type": "code",
   "execution_count": 13,
   "id": "8997caba-1575-4e03-b460-3ee50ee4831a",
   "metadata": {},
   "outputs": [],
   "source": [
    "sub_cond_path = '/Users/liuq13/NODEAP_scripts/data_input/SubConds.xlsx'\n",
    "base_nifti_folder = '/Volumes/X9Pro/NODEAP/FuncConn_AAL'\n",
    "condition_map = {'N': 0, 'S': 1, 'C': 2}"
   ]
  },
  {
   "cell_type": "code",
   "execution_count": 14,
   "id": "418d6c0c-c292-467d-b057-dd0c9447c689",
   "metadata": {},
   "outputs": [
    {
     "name": "stdout",
     "output_type": "stream",
     "text": [
      "[WARN] File not found: /Volumes/X9Pro/NODEAP/FuncConn_AAL/NODEAP_30/S3D2/conn_matrix_w_sphere.mat\n",
      "[WARN] File not found: /Volumes/X9Pro/NODEAP/FuncConn_AAL/NODEAP_44/S1D1/conn_matrix_w_sphere.mat\n",
      "[WARN] File not found: /Volumes/X9Pro/NODEAP/FuncConn_AAL/NODEAP_83/S3D1/conn_matrix_w_sphere.mat\n",
      "[WARN] File not found: /Volumes/X9Pro/NODEAP/FuncConn_AAL/NODEAP_87/D0/conn_matrix_w_sphere.mat\n",
      "[WARN] File not found: /Volumes/X9Pro/NODEAP/FuncConn_AAL/NODEAP_88/D0/conn_matrix_w_sphere.mat\n",
      "Columns with NaN: 14 / 116\n",
      "Tensor shape after preprocessing: torch.Size([331, 102])\n"
     ]
    }
   ],
   "source": [
    "# Load and preprocess\n",
    "use_roi = 0\n",
    "all_corr_data, all_tms_type, all_subject_id, all_stimloc, all_session = load_all_fc_data(sub_cond_path, \n",
    "                                                               base_nifti_folder, \n",
    "                                                               mat_filename='conn_matrix_w_sphere.mat',\n",
    "                                                               key_name='correlation_matrix',row_idx=use_roi)\n",
    "# One-hot encode subject ID as condition\n",
    "subject_arr = np.array(all_subject_id).reshape(-1, 1)\n",
    "subject_encoder = OneHotEncoder(sparse_output=False, drop=None)\n",
    "subject_ohe = subject_encoder.fit_transform(subject_arr)  # shape: [n_samples, n_subjects]\n",
    "\n",
    "# Convert to torch tensors\n",
    "X_tensor = preprocess_for_torch(all_corr_data)  \n",
    "subject_cond_tensor = torch.tensor(subject_ohe, dtype=torch.float32)\n",
    "dataset = TensorDataset(X_tensor, subject_cond_tensor)\n",
    "dataloader = DataLoader(dataset, batch_size=32, shuffle=True)"
   ]
  },
  {
   "cell_type": "code",
   "execution_count": 15,
   "id": "b2e2a3d8-7779-4f1a-b1c9-ba00f36719a0",
   "metadata": {},
   "outputs": [
    {
     "name": "stdout",
     "output_type": "stream",
     "text": [
      "\n",
      "===== Epoch 1 =====\n"
     ]
    },
    {
     "name": "stderr",
     "output_type": "stream",
     "text": [
      "Epoch 1/500: 100%|█████████████████████████████| 11/11 [00:00<00:00, 139.61it/s]\n"
     ]
    },
    {
     "name": "stdout",
     "output_type": "stream",
     "text": [
      "Epoch 1, Loss: 103.7976, Recon: 103.5943, KL: 0.2033\n",
      "\n",
      "===== Epoch 2 =====\n"
     ]
    },
    {
     "name": "stderr",
     "output_type": "stream",
     "text": [
      "Epoch 2/500: 100%|█████████████████████████████| 11/11 [00:00<00:00, 687.58it/s]\n"
     ]
    },
    {
     "name": "stdout",
     "output_type": "stream",
     "text": [
      "Epoch 2, Loss: 103.3219, Recon: 103.1183, KL: 0.2035\n",
      "\n",
      "===== Epoch 3 =====\n"
     ]
    },
    {
     "name": "stderr",
     "output_type": "stream",
     "text": [
      "Epoch 3/500: 100%|████████████████████████████| 11/11 [00:00<00:00, 1072.51it/s]\n"
     ]
    },
    {
     "name": "stdout",
     "output_type": "stream",
     "text": [
      "Epoch 3, Loss: 102.9714, Recon: 102.7313, KL: 0.2400\n",
      "\n",
      "===== Epoch 4 =====\n"
     ]
    },
    {
     "name": "stderr",
     "output_type": "stream",
     "text": [
      "Epoch 4/500: 100%|█████████████████████████████| 11/11 [00:00<00:00, 957.42it/s]\n"
     ]
    },
    {
     "name": "stdout",
     "output_type": "stream",
     "text": [
      "Epoch 4, Loss: 102.4603, Recon: 102.1536, KL: 0.3067\n",
      "\n",
      "===== Epoch 5 =====\n"
     ]
    },
    {
     "name": "stderr",
     "output_type": "stream",
     "text": [
      "Epoch 5/500: 100%|████████████████████████████| 11/11 [00:00<00:00, 1100.21it/s]\n"
     ]
    },
    {
     "name": "stdout",
     "output_type": "stream",
     "text": [
      "Epoch 5, Loss: 102.2670, Recon: 101.8697, KL: 0.3973\n",
      "\n",
      "===== Epoch 6 =====\n"
     ]
    },
    {
     "name": "stderr",
     "output_type": "stream",
     "text": [
      "Epoch 6/500: 100%|████████████████████████████| 11/11 [00:00<00:00, 1066.51it/s]\n"
     ]
    },
    {
     "name": "stdout",
     "output_type": "stream",
     "text": [
      "Epoch 6, Loss: 101.5642, Recon: 101.0249, KL: 0.5394\n",
      "\n",
      "===== Epoch 7 =====\n"
     ]
    },
    {
     "name": "stderr",
     "output_type": "stream",
     "text": [
      "Epoch 7/500: 100%|████████████████████████████| 11/11 [00:00<00:00, 1105.40it/s]\n"
     ]
    },
    {
     "name": "stdout",
     "output_type": "stream",
     "text": [
      "Epoch 7, Loss: 100.8273, Recon: 100.0405, KL: 0.7868\n",
      "\n",
      "===== Epoch 8 =====\n"
     ]
    },
    {
     "name": "stderr",
     "output_type": "stream",
     "text": [
      "Epoch 8/500: 100%|████████████████████████████| 11/11 [00:00<00:00, 1096.13it/s]\n"
     ]
    },
    {
     "name": "stdout",
     "output_type": "stream",
     "text": [
      "Epoch 8, Loss: 99.9339, Recon: 98.7485, KL: 1.1854\n",
      "\n",
      "===== Epoch 9 =====\n"
     ]
    },
    {
     "name": "stderr",
     "output_type": "stream",
     "text": [
      "Epoch 9/500: 100%|████████████████████████████| 11/11 [00:00<00:00, 1036.68it/s]\n"
     ]
    },
    {
     "name": "stdout",
     "output_type": "stream",
     "text": [
      "Epoch 9, Loss: 98.2000, Recon: 96.3530, KL: 1.8469\n",
      "\n",
      "===== Epoch 10 =====\n"
     ]
    },
    {
     "name": "stderr",
     "output_type": "stream",
     "text": [
      "Epoch 10/500: 100%|███████████████████████████| 11/11 [00:00<00:00, 1096.71it/s]\n"
     ]
    },
    {
     "name": "stdout",
     "output_type": "stream",
     "text": [
      "Epoch 10, Loss: 95.6554, Recon: 92.7788, KL: 2.8766\n",
      "\n",
      "===== Epoch 11 =====\n"
     ]
    },
    {
     "name": "stderr",
     "output_type": "stream",
     "text": [
      "Epoch 11/500: 100%|███████████████████████████| 11/11 [00:00<00:00, 1092.47it/s]\n"
     ]
    },
    {
     "name": "stdout",
     "output_type": "stream",
     "text": [
      "Epoch 11, Loss: 91.9819, Recon: 87.5000, KL: 4.4819\n",
      "\n",
      "===== Epoch 12 =====\n"
     ]
    },
    {
     "name": "stderr",
     "output_type": "stream",
     "text": [
      "Epoch 12/500: 100%|███████████████████████████| 11/11 [00:00<00:00, 1179.62it/s]\n"
     ]
    },
    {
     "name": "stdout",
     "output_type": "stream",
     "text": [
      "Epoch 12, Loss: 88.0619, Recon: 81.6366, KL: 6.4253\n",
      "\n",
      "===== Epoch 13 =====\n"
     ]
    },
    {
     "name": "stderr",
     "output_type": "stream",
     "text": [
      "Epoch 13/500: 100%|███████████████████████████| 11/11 [00:00<00:00, 1080.35it/s]\n"
     ]
    },
    {
     "name": "stdout",
     "output_type": "stream",
     "text": [
      "Epoch 13, Loss: 83.7075, Recon: 75.5160, KL: 8.1915\n",
      "\n",
      "===== Epoch 14 =====\n"
     ]
    },
    {
     "name": "stderr",
     "output_type": "stream",
     "text": [
      "Epoch 14/500: 100%|███████████████████████████| 11/11 [00:00<00:00, 1078.23it/s]\n"
     ]
    },
    {
     "name": "stdout",
     "output_type": "stream",
     "text": [
      "Epoch 14, Loss: 80.0519, Recon: 70.9792, KL: 9.0726\n",
      "\n",
      "===== Epoch 15 =====\n"
     ]
    },
    {
     "name": "stderr",
     "output_type": "stream",
     "text": [
      "Epoch 15/500: 100%|████████████████████████████| 11/11 [00:00<00:00, 630.59it/s]\n"
     ]
    },
    {
     "name": "stdout",
     "output_type": "stream",
     "text": [
      "Epoch 15, Loss: 76.9541, Recon: 67.8151, KL: 9.1389\n",
      "\n",
      "===== Epoch 16 =====\n"
     ]
    },
    {
     "name": "stderr",
     "output_type": "stream",
     "text": [
      "Epoch 16/500: 100%|████████████████████████████| 11/11 [00:00<00:00, 575.22it/s]\n"
     ]
    },
    {
     "name": "stdout",
     "output_type": "stream",
     "text": [
      "Epoch 16, Loss: 74.1818, Recon: 65.2086, KL: 8.9731\n",
      "\n",
      "===== Epoch 17 =====\n"
     ]
    },
    {
     "name": "stderr",
     "output_type": "stream",
     "text": [
      "Epoch 17/500: 100%|████████████████████████████| 11/11 [00:00<00:00, 977.34it/s]\n"
     ]
    },
    {
     "name": "stdout",
     "output_type": "stream",
     "text": [
      "Epoch 17, Loss: 72.0977, Recon: 63.3117, KL: 8.7860\n",
      "\n",
      "===== Epoch 18 =====\n"
     ]
    },
    {
     "name": "stderr",
     "output_type": "stream",
     "text": [
      "Epoch 18/500: 100%|███████████████████████████| 11/11 [00:00<00:00, 1068.69it/s]\n"
     ]
    },
    {
     "name": "stdout",
     "output_type": "stream",
     "text": [
      "Epoch 18, Loss: 70.9573, Recon: 62.4242, KL: 8.5331\n",
      "\n",
      "===== Epoch 19 =====\n"
     ]
    },
    {
     "name": "stderr",
     "output_type": "stream",
     "text": [
      "Epoch 19/500: 100%|████████████████████████████| 11/11 [00:00<00:00, 858.39it/s]\n"
     ]
    },
    {
     "name": "stdout",
     "output_type": "stream",
     "text": [
      "Epoch 19, Loss: 69.2178, Recon: 61.0369, KL: 8.1810\n",
      "\n",
      "===== Epoch 20 =====\n"
     ]
    },
    {
     "name": "stderr",
     "output_type": "stream",
     "text": [
      "Epoch 20/500: 100%|███████████████████████████| 11/11 [00:00<00:00, 1096.52it/s]\n"
     ]
    },
    {
     "name": "stdout",
     "output_type": "stream",
     "text": [
      "Epoch 20, Loss: 68.5966, Recon: 60.7064, KL: 7.8902\n",
      "\n",
      "===== Epoch 21 =====\n"
     ]
    },
    {
     "name": "stderr",
     "output_type": "stream",
     "text": [
      "Epoch 21/500: 100%|███████████████████████████| 11/11 [00:00<00:00, 1073.84it/s]\n"
     ]
    },
    {
     "name": "stdout",
     "output_type": "stream",
     "text": [
      "Epoch 21, Loss: 67.6679, Recon: 59.9660, KL: 7.7018\n",
      "\n",
      "===== Epoch 22 =====\n"
     ]
    },
    {
     "name": "stderr",
     "output_type": "stream",
     "text": [
      "Epoch 22/500: 100%|███████████████████████████| 11/11 [00:00<00:00, 1111.13it/s]\n"
     ]
    },
    {
     "name": "stdout",
     "output_type": "stream",
     "text": [
      "Epoch 22, Loss: 67.0697, Recon: 59.5921, KL: 7.4776\n",
      "\n",
      "===== Epoch 23 =====\n"
     ]
    },
    {
     "name": "stderr",
     "output_type": "stream",
     "text": [
      "Epoch 23/500: 100%|███████████████████████████| 11/11 [00:00<00:00, 1030.36it/s]\n"
     ]
    },
    {
     "name": "stdout",
     "output_type": "stream",
     "text": [
      "Epoch 23, Loss: 66.3823, Recon: 58.7763, KL: 7.6060\n",
      "\n",
      "===== Epoch 24 =====\n"
     ]
    },
    {
     "name": "stderr",
     "output_type": "stream",
     "text": [
      "Epoch 24/500: 100%|███████████████████████████| 11/11 [00:00<00:00, 1067.65it/s]\n"
     ]
    },
    {
     "name": "stdout",
     "output_type": "stream",
     "text": [
      "Epoch 24, Loss: 65.7484, Recon: 58.1463, KL: 7.6021\n",
      "\n",
      "===== Epoch 25 =====\n"
     ]
    },
    {
     "name": "stderr",
     "output_type": "stream",
     "text": [
      "Epoch 25/500: 100%|████████████████████████████| 11/11 [00:00<00:00, 775.52it/s]\n"
     ]
    },
    {
     "name": "stdout",
     "output_type": "stream",
     "text": [
      "Epoch 25, Loss: 65.1846, Recon: 57.8352, KL: 7.3494\n",
      "\n",
      "===== Epoch 26 =====\n"
     ]
    },
    {
     "name": "stderr",
     "output_type": "stream",
     "text": [
      "Epoch 26/500: 100%|███████████████████████████| 11/11 [00:00<00:00, 1053.12it/s]\n"
     ]
    },
    {
     "name": "stdout",
     "output_type": "stream",
     "text": [
      "Epoch 26, Loss: 64.4168, Recon: 57.1035, KL: 7.3133\n",
      "\n",
      "===== Epoch 27 =====\n"
     ]
    },
    {
     "name": "stderr",
     "output_type": "stream",
     "text": [
      "Epoch 27/500: 100%|███████████████████████████| 11/11 [00:00<00:00, 1057.30it/s]\n"
     ]
    },
    {
     "name": "stdout",
     "output_type": "stream",
     "text": [
      "Epoch 27, Loss: 63.6603, Recon: 56.1629, KL: 7.4974\n",
      "\n",
      "===== Epoch 28 =====\n"
     ]
    },
    {
     "name": "stderr",
     "output_type": "stream",
     "text": [
      "Epoch 28/500: 100%|███████████████████████████| 11/11 [00:00<00:00, 1006.03it/s]\n"
     ]
    },
    {
     "name": "stdout",
     "output_type": "stream",
     "text": [
      "Epoch 28, Loss: 63.2257, Recon: 55.5034, KL: 7.7223\n",
      "\n",
      "===== Epoch 29 =====\n"
     ]
    },
    {
     "name": "stderr",
     "output_type": "stream",
     "text": [
      "Epoch 29/500: 100%|███████████████████████████| 11/11 [00:00<00:00, 1051.01it/s]\n"
     ]
    },
    {
     "name": "stdout",
     "output_type": "stream",
     "text": [
      "Epoch 29, Loss: 62.2798, Recon: 54.4543, KL: 7.8255\n",
      "\n",
      "===== Epoch 30 =====\n"
     ]
    },
    {
     "name": "stderr",
     "output_type": "stream",
     "text": [
      "Epoch 30/500: 100%|███████████████████████████| 11/11 [00:00<00:00, 1022.19it/s]\n"
     ]
    },
    {
     "name": "stdout",
     "output_type": "stream",
     "text": [
      "Epoch 30, Loss: 61.8509, Recon: 54.1308, KL: 7.7201\n",
      "\n",
      "===== Epoch 31 =====\n"
     ]
    },
    {
     "name": "stderr",
     "output_type": "stream",
     "text": [
      "Epoch 31/500: 100%|████████████████████████████| 11/11 [00:00<00:00, 429.97it/s]\n"
     ]
    },
    {
     "name": "stdout",
     "output_type": "stream",
     "text": [
      "Epoch 31, Loss: 60.5358, Recon: 52.4342, KL: 8.1016\n",
      "\n",
      "===== Epoch 32 =====\n"
     ]
    },
    {
     "name": "stderr",
     "output_type": "stream",
     "text": [
      "Epoch 32/500: 100%|███████████████████████████| 11/11 [00:00<00:00, 1062.19it/s]\n"
     ]
    },
    {
     "name": "stdout",
     "output_type": "stream",
     "text": [
      "Epoch 32, Loss: 60.0187, Recon: 51.7830, KL: 8.2357\n",
      "\n",
      "===== Epoch 33 =====\n"
     ]
    },
    {
     "name": "stderr",
     "output_type": "stream",
     "text": [
      "Epoch 33/500: 100%|███████████████████████████| 11/11 [00:00<00:00, 1083.88it/s]\n"
     ]
    },
    {
     "name": "stdout",
     "output_type": "stream",
     "text": [
      "Epoch 33, Loss: 59.5588, Recon: 51.2491, KL: 8.3097\n",
      "\n",
      "===== Epoch 34 =====\n"
     ]
    },
    {
     "name": "stderr",
     "output_type": "stream",
     "text": [
      "Epoch 34/500: 100%|███████████████████████████| 11/11 [00:00<00:00, 1070.03it/s]\n"
     ]
    },
    {
     "name": "stdout",
     "output_type": "stream",
     "text": [
      "Epoch 34, Loss: 58.6871, Recon: 50.3413, KL: 8.3458\n",
      "\n",
      "===== Epoch 35 =====\n"
     ]
    },
    {
     "name": "stderr",
     "output_type": "stream",
     "text": [
      "Epoch 35/500: 100%|███████████████████████████| 11/11 [00:00<00:00, 1124.29it/s]\n"
     ]
    },
    {
     "name": "stdout",
     "output_type": "stream",
     "text": [
      "Epoch 35, Loss: 58.3186, Recon: 49.9593, KL: 8.3594\n",
      "\n",
      "===== Epoch 36 =====\n"
     ]
    },
    {
     "name": "stderr",
     "output_type": "stream",
     "text": [
      "Epoch 36/500: 100%|███████████████████████████| 11/11 [00:00<00:00, 1073.56it/s]\n"
     ]
    },
    {
     "name": "stdout",
     "output_type": "stream",
     "text": [
      "Epoch 36, Loss: 58.0009, Recon: 49.7637, KL: 8.2372\n",
      "\n",
      "===== Epoch 37 =====\n"
     ]
    },
    {
     "name": "stderr",
     "output_type": "stream",
     "text": [
      "Epoch 37/500: 100%|███████████████████████████| 11/11 [00:00<00:00, 1091.93it/s]\n"
     ]
    },
    {
     "name": "stdout",
     "output_type": "stream",
     "text": [
      "Epoch 37, Loss: 57.9513, Recon: 49.7420, KL: 8.2094\n",
      "\n",
      "===== Epoch 38 =====\n"
     ]
    },
    {
     "name": "stderr",
     "output_type": "stream",
     "text": [
      "Epoch 38/500: 100%|███████████████████████████| 11/11 [00:00<00:00, 1079.59it/s]\n"
     ]
    },
    {
     "name": "stdout",
     "output_type": "stream",
     "text": [
      "Epoch 38, Loss: 57.3043, Recon: 48.9708, KL: 8.3335\n",
      "\n",
      "===== Epoch 39 =====\n"
     ]
    },
    {
     "name": "stderr",
     "output_type": "stream",
     "text": [
      "Epoch 39/500: 100%|███████████████████████████| 11/11 [00:00<00:00, 1124.15it/s]\n"
     ]
    },
    {
     "name": "stdout",
     "output_type": "stream",
     "text": [
      "Epoch 39, Loss: 56.8543, Recon: 48.6215, KL: 8.2328\n",
      "\n",
      "===== Epoch 40 =====\n"
     ]
    },
    {
     "name": "stderr",
     "output_type": "stream",
     "text": [
      "Epoch 40/500: 100%|███████████████████████████| 11/11 [00:00<00:00, 1110.67it/s]\n"
     ]
    },
    {
     "name": "stdout",
     "output_type": "stream",
     "text": [
      "Epoch 40, Loss: 56.7599, Recon: 48.4287, KL: 8.3313\n",
      "\n",
      "===== Epoch 41 =====\n"
     ]
    },
    {
     "name": "stderr",
     "output_type": "stream",
     "text": [
      "Epoch 41/500: 100%|███████████████████████████| 11/11 [00:00<00:00, 1096.86it/s]\n"
     ]
    },
    {
     "name": "stdout",
     "output_type": "stream",
     "text": [
      "Epoch 41, Loss: 56.2110, Recon: 47.8554, KL: 8.3556\n",
      "\n",
      "===== Epoch 42 =====\n"
     ]
    },
    {
     "name": "stderr",
     "output_type": "stream",
     "text": [
      "Epoch 42/500: 100%|███████████████████████████| 11/11 [00:00<00:00, 1119.57it/s]\n"
     ]
    },
    {
     "name": "stdout",
     "output_type": "stream",
     "text": [
      "Epoch 42, Loss: 56.2113, Recon: 48.0120, KL: 8.1993\n",
      "\n",
      "===== Epoch 43 =====\n"
     ]
    },
    {
     "name": "stderr",
     "output_type": "stream",
     "text": [
      "Epoch 43/500: 100%|███████████████████████████| 11/11 [00:00<00:00, 1125.33it/s]\n"
     ]
    },
    {
     "name": "stdout",
     "output_type": "stream",
     "text": [
      "Epoch 43, Loss: 55.8879, Recon: 47.6226, KL: 8.2653\n",
      "\n",
      "===== Epoch 44 =====\n"
     ]
    },
    {
     "name": "stderr",
     "output_type": "stream",
     "text": [
      "Epoch 44/500: 100%|███████████████████████████| 11/11 [00:00<00:00, 1193.85it/s]\n"
     ]
    },
    {
     "name": "stdout",
     "output_type": "stream",
     "text": [
      "Epoch 44, Loss: 55.1955, Recon: 46.8849, KL: 8.3107\n",
      "\n",
      "===== Epoch 45 =====\n"
     ]
    },
    {
     "name": "stderr",
     "output_type": "stream",
     "text": [
      "Epoch 45/500: 100%|████████████████████████████| 11/11 [00:00<00:00, 706.80it/s]\n"
     ]
    },
    {
     "name": "stdout",
     "output_type": "stream",
     "text": [
      "Epoch 45, Loss: 55.0114, Recon: 46.8702, KL: 8.1413\n",
      "\n",
      "===== Epoch 46 =====\n"
     ]
    },
    {
     "name": "stderr",
     "output_type": "stream",
     "text": [
      "Epoch 46/500: 100%|████████████████████████████| 11/11 [00:00<00:00, 828.71it/s]\n"
     ]
    },
    {
     "name": "stdout",
     "output_type": "stream",
     "text": [
      "Epoch 46, Loss: 55.1923, Recon: 47.0571, KL: 8.1352\n",
      "\n",
      "===== Epoch 47 =====\n"
     ]
    },
    {
     "name": "stderr",
     "output_type": "stream",
     "text": [
      "Epoch 47/500: 100%|███████████████████████████| 11/11 [00:00<00:00, 1227.91it/s]\n"
     ]
    },
    {
     "name": "stdout",
     "output_type": "stream",
     "text": [
      "Epoch 47, Loss: 54.6394, Recon: 46.4391, KL: 8.2003\n",
      "\n",
      "===== Epoch 48 =====\n"
     ]
    },
    {
     "name": "stderr",
     "output_type": "stream",
     "text": [
      "Epoch 48/500: 100%|███████████████████████████| 11/11 [00:00<00:00, 1239.42it/s]\n"
     ]
    },
    {
     "name": "stdout",
     "output_type": "stream",
     "text": [
      "Epoch 48, Loss: 54.7458, Recon: 46.4477, KL: 8.2981\n",
      "\n",
      "===== Epoch 49 =====\n"
     ]
    },
    {
     "name": "stderr",
     "output_type": "stream",
     "text": [
      "Epoch 49/500: 100%|███████████████████████████| 11/11 [00:00<00:00, 1217.63it/s]\n"
     ]
    },
    {
     "name": "stdout",
     "output_type": "stream",
     "text": [
      "Epoch 49, Loss: 54.1564, Recon: 45.8830, KL: 8.2734\n",
      "\n",
      "===== Epoch 50 =====\n"
     ]
    },
    {
     "name": "stderr",
     "output_type": "stream",
     "text": [
      "Epoch 50/500: 100%|████████████████████████████| 11/11 [00:00<00:00, 967.69it/s]\n"
     ]
    },
    {
     "name": "stdout",
     "output_type": "stream",
     "text": [
      "Epoch 50, Loss: 53.8645, Recon: 45.6897, KL: 8.1747\n",
      "\n",
      "===== Epoch 51 =====\n"
     ]
    },
    {
     "name": "stderr",
     "output_type": "stream",
     "text": [
      "Epoch 51/500: 100%|███████████████████████████| 11/11 [00:00<00:00, 1180.13it/s]\n"
     ]
    },
    {
     "name": "stdout",
     "output_type": "stream",
     "text": [
      "Epoch 51, Loss: 53.3436, Recon: 45.2406, KL: 8.1030\n",
      "\n",
      "===== Epoch 52 =====\n"
     ]
    },
    {
     "name": "stderr",
     "output_type": "stream",
     "text": [
      "Epoch 52/500: 100%|███████████████████████████| 11/11 [00:00<00:00, 1145.25it/s]\n"
     ]
    },
    {
     "name": "stdout",
     "output_type": "stream",
     "text": [
      "Epoch 52, Loss: 53.5203, Recon: 45.3216, KL: 8.1986\n",
      "\n",
      "===== Epoch 53 =====\n"
     ]
    },
    {
     "name": "stderr",
     "output_type": "stream",
     "text": [
      "Epoch 53/500: 100%|███████████████████████████| 11/11 [00:00<00:00, 1177.99it/s]\n"
     ]
    },
    {
     "name": "stdout",
     "output_type": "stream",
     "text": [
      "Epoch 53, Loss: 53.0444, Recon: 44.7488, KL: 8.2956\n",
      "\n",
      "===== Epoch 54 =====\n"
     ]
    },
    {
     "name": "stderr",
     "output_type": "stream",
     "text": [
      "Epoch 54/500: 100%|███████████████████████████| 11/11 [00:00<00:00, 1156.06it/s]\n"
     ]
    },
    {
     "name": "stdout",
     "output_type": "stream",
     "text": [
      "Epoch 54, Loss: 52.3710, Recon: 44.0628, KL: 8.3083\n",
      "\n",
      "===== Epoch 55 =====\n"
     ]
    },
    {
     "name": "stderr",
     "output_type": "stream",
     "text": [
      "Epoch 55/500: 100%|███████████████████████████| 11/11 [00:00<00:00, 1165.61it/s]\n"
     ]
    },
    {
     "name": "stdout",
     "output_type": "stream",
     "text": [
      "Epoch 55, Loss: 52.1320, Recon: 43.8975, KL: 8.2344\n",
      "\n",
      "===== Epoch 56 =====\n"
     ]
    },
    {
     "name": "stderr",
     "output_type": "stream",
     "text": [
      "Epoch 56/500: 100%|███████████████████████████| 11/11 [00:00<00:00, 1150.50it/s]\n"
     ]
    },
    {
     "name": "stdout",
     "output_type": "stream",
     "text": [
      "Epoch 56, Loss: 52.0590, Recon: 43.8928, KL: 8.1662\n",
      "\n",
      "===== Epoch 57 =====\n"
     ]
    },
    {
     "name": "stderr",
     "output_type": "stream",
     "text": [
      "Epoch 57/500: 100%|███████████████████████████| 11/11 [00:00<00:00, 1059.82it/s]\n"
     ]
    },
    {
     "name": "stdout",
     "output_type": "stream",
     "text": [
      "Epoch 57, Loss: 51.8244, Recon: 43.6328, KL: 8.1916\n",
      "\n",
      "===== Epoch 58 =====\n"
     ]
    },
    {
     "name": "stderr",
     "output_type": "stream",
     "text": [
      "Epoch 58/500: 100%|███████████████████████████| 11/11 [00:00<00:00, 1155.46it/s]\n"
     ]
    },
    {
     "name": "stdout",
     "output_type": "stream",
     "text": [
      "Epoch 58, Loss: 51.7531, Recon: 43.4984, KL: 8.2547\n",
      "\n",
      "===== Epoch 59 =====\n"
     ]
    },
    {
     "name": "stderr",
     "output_type": "stream",
     "text": [
      "Epoch 59/500: 100%|███████████████████████████| 11/11 [00:00<00:00, 1197.50it/s]\n"
     ]
    },
    {
     "name": "stdout",
     "output_type": "stream",
     "text": [
      "Epoch 59, Loss: 51.7068, Recon: 43.1703, KL: 8.5365\n",
      "\n",
      "===== Epoch 60 =====\n"
     ]
    },
    {
     "name": "stderr",
     "output_type": "stream",
     "text": [
      "Epoch 60/500: 100%|███████████████████████████| 11/11 [00:00<00:00, 1272.37it/s]\n"
     ]
    },
    {
     "name": "stdout",
     "output_type": "stream",
     "text": [
      "Epoch 60, Loss: 51.2604, Recon: 42.5992, KL: 8.6613\n",
      "\n",
      "===== Epoch 61 =====\n"
     ]
    },
    {
     "name": "stderr",
     "output_type": "stream",
     "text": [
      "Epoch 61/500: 100%|███████████████████████████| 11/11 [00:00<00:00, 1225.75it/s]\n"
     ]
    },
    {
     "name": "stdout",
     "output_type": "stream",
     "text": [
      "Epoch 61, Loss: 50.6259, Recon: 42.0537, KL: 8.5723\n",
      "\n",
      "===== Epoch 62 =====\n"
     ]
    },
    {
     "name": "stderr",
     "output_type": "stream",
     "text": [
      "Epoch 62/500: 100%|███████████████████████████| 11/11 [00:00<00:00, 1197.63it/s]\n"
     ]
    },
    {
     "name": "stdout",
     "output_type": "stream",
     "text": [
      "Epoch 62, Loss: 50.7213, Recon: 42.0663, KL: 8.6550\n",
      "\n",
      "===== Epoch 63 =====\n"
     ]
    },
    {
     "name": "stderr",
     "output_type": "stream",
     "text": [
      "Epoch 63/500: 100%|███████████████████████████| 11/11 [00:00<00:00, 1175.83it/s]\n"
     ]
    },
    {
     "name": "stdout",
     "output_type": "stream",
     "text": [
      "Epoch 63, Loss: 50.4092, Recon: 41.7754, KL: 8.6338\n",
      "\n",
      "===== Epoch 64 =====\n"
     ]
    },
    {
     "name": "stderr",
     "output_type": "stream",
     "text": [
      "Epoch 64/500: 100%|███████████████████████████| 11/11 [00:00<00:00, 1217.63it/s]\n"
     ]
    },
    {
     "name": "stdout",
     "output_type": "stream",
     "text": [
      "Epoch 64, Loss: 50.4772, Recon: 41.7858, KL: 8.6914\n",
      "\n",
      "===== Epoch 65 =====\n"
     ]
    },
    {
     "name": "stderr",
     "output_type": "stream",
     "text": [
      "Epoch 65/500: 100%|███████████████████████████| 11/11 [00:00<00:00, 1174.19it/s]\n"
     ]
    },
    {
     "name": "stdout",
     "output_type": "stream",
     "text": [
      "Epoch 65, Loss: 49.7289, Recon: 40.9047, KL: 8.8242\n",
      "\n",
      "===== Epoch 66 =====\n"
     ]
    },
    {
     "name": "stderr",
     "output_type": "stream",
     "text": [
      "Epoch 66/500: 100%|███████████████████████████| 11/11 [00:00<00:00, 1188.56it/s]\n"
     ]
    },
    {
     "name": "stdout",
     "output_type": "stream",
     "text": [
      "Epoch 66, Loss: 49.7975, Recon: 41.0642, KL: 8.7333\n",
      "\n",
      "===== Epoch 67 =====\n"
     ]
    },
    {
     "name": "stderr",
     "output_type": "stream",
     "text": [
      "Epoch 67/500: 100%|███████████████████████████| 11/11 [00:00<00:00, 1151.19it/s]\n"
     ]
    },
    {
     "name": "stdout",
     "output_type": "stream",
     "text": [
      "Epoch 67, Loss: 49.0324, Recon: 40.3943, KL: 8.6381\n",
      "\n",
      "===== Epoch 68 =====\n"
     ]
    },
    {
     "name": "stderr",
     "output_type": "stream",
     "text": [
      "Epoch 68/500: 100%|███████████████████████████| 11/11 [00:00<00:00, 1147.38it/s]\n"
     ]
    },
    {
     "name": "stdout",
     "output_type": "stream",
     "text": [
      "Epoch 68, Loss: 49.4612, Recon: 40.8479, KL: 8.6133\n",
      "\n",
      "===== Epoch 69 =====\n"
     ]
    },
    {
     "name": "stderr",
     "output_type": "stream",
     "text": [
      "Epoch 69/500: 100%|███████████████████████████| 11/11 [00:00<00:00, 1131.93it/s]\n"
     ]
    },
    {
     "name": "stdout",
     "output_type": "stream",
     "text": [
      "Epoch 69, Loss: 49.7346, Recon: 40.9179, KL: 8.8167\n",
      "\n",
      "===== Epoch 70 =====\n"
     ]
    },
    {
     "name": "stderr",
     "output_type": "stream",
     "text": [
      "Epoch 70/500: 100%|███████████████████████████| 11/11 [00:00<00:00, 1018.24it/s]\n"
     ]
    },
    {
     "name": "stdout",
     "output_type": "stream",
     "text": [
      "Epoch 70, Loss: 48.7468, Recon: 39.8381, KL: 8.9087\n",
      "\n",
      "===== Epoch 71 =====\n"
     ]
    },
    {
     "name": "stderr",
     "output_type": "stream",
     "text": [
      "Epoch 71/500: 100%|████████████████████████████| 11/11 [00:00<00:00, 842.52it/s]\n"
     ]
    },
    {
     "name": "stdout",
     "output_type": "stream",
     "text": [
      "Epoch 71, Loss: 49.2455, Recon: 40.4706, KL: 8.7749\n",
      "\n",
      "===== Epoch 72 =====\n"
     ]
    },
    {
     "name": "stderr",
     "output_type": "stream",
     "text": [
      "Epoch 72/500: 100%|███████████████████████████| 11/11 [00:00<00:00, 1007.63it/s]\n"
     ]
    },
    {
     "name": "stdout",
     "output_type": "stream",
     "text": [
      "Epoch 72, Loss: 48.4457, Recon: 39.6429, KL: 8.8028\n",
      "\n",
      "===== Epoch 73 =====\n"
     ]
    },
    {
     "name": "stderr",
     "output_type": "stream",
     "text": [
      "Epoch 73/500: 100%|███████████████████████████| 11/11 [00:00<00:00, 1006.03it/s]\n"
     ]
    },
    {
     "name": "stdout",
     "output_type": "stream",
     "text": [
      "Epoch 73, Loss: 48.6159, Recon: 39.9010, KL: 8.7149\n",
      "\n",
      "===== Epoch 74 =====\n"
     ]
    },
    {
     "name": "stderr",
     "output_type": "stream",
     "text": [
      "Epoch 74/500: 100%|████████████████████████████| 11/11 [00:00<00:00, 991.63it/s]\n"
     ]
    },
    {
     "name": "stdout",
     "output_type": "stream",
     "text": [
      "Epoch 74, Loss: 48.2358, Recon: 39.4918, KL: 8.7439\n",
      "\n",
      "===== Epoch 75 =====\n"
     ]
    },
    {
     "name": "stderr",
     "output_type": "stream",
     "text": [
      "Epoch 75/500: 100%|███████████████████████████| 11/11 [00:00<00:00, 1008.16it/s]\n"
     ]
    },
    {
     "name": "stdout",
     "output_type": "stream",
     "text": [
      "Epoch 75, Loss: 48.1410, Recon: 39.3904, KL: 8.7507\n",
      "\n",
      "===== Epoch 76 =====\n"
     ]
    },
    {
     "name": "stderr",
     "output_type": "stream",
     "text": [
      "Epoch 76/500: 100%|████████████████████████████| 11/11 [00:00<00:00, 995.39it/s]\n"
     ]
    },
    {
     "name": "stdout",
     "output_type": "stream",
     "text": [
      "Epoch 76, Loss: 48.1092, Recon: 39.2815, KL: 8.8277\n",
      "\n",
      "===== Epoch 77 =====\n"
     ]
    },
    {
     "name": "stderr",
     "output_type": "stream",
     "text": [
      "Epoch 77/500: 100%|████████████████████████████| 11/11 [00:00<00:00, 942.12it/s]\n"
     ]
    },
    {
     "name": "stdout",
     "output_type": "stream",
     "text": [
      "Epoch 77, Loss: 47.5431, Recon: 38.6149, KL: 8.9282\n",
      "\n",
      "===== Epoch 78 =====\n"
     ]
    },
    {
     "name": "stderr",
     "output_type": "stream",
     "text": [
      "Epoch 78/500: 100%|████████████████████████████| 11/11 [00:00<00:00, 955.96it/s]\n"
     ]
    },
    {
     "name": "stdout",
     "output_type": "stream",
     "text": [
      "Epoch 78, Loss: 47.5083, Recon: 38.6251, KL: 8.8832\n",
      "\n",
      "===== Epoch 79 =====\n"
     ]
    },
    {
     "name": "stderr",
     "output_type": "stream",
     "text": [
      "Epoch 79/500: 100%|████████████████████████████| 11/11 [00:00<00:00, 993.42it/s]\n"
     ]
    },
    {
     "name": "stdout",
     "output_type": "stream",
     "text": [
      "Epoch 79, Loss: 47.7287, Recon: 38.8963, KL: 8.8324\n",
      "\n",
      "===== Epoch 80 =====\n"
     ]
    },
    {
     "name": "stderr",
     "output_type": "stream",
     "text": [
      "Epoch 80/500: 100%|████████████████████████████| 11/11 [00:00<00:00, 997.54it/s]\n"
     ]
    },
    {
     "name": "stdout",
     "output_type": "stream",
     "text": [
      "Epoch 80, Loss: 47.3718, Recon: 38.5233, KL: 8.8485\n",
      "\n",
      "===== Epoch 81 =====\n"
     ]
    },
    {
     "name": "stderr",
     "output_type": "stream",
     "text": [
      "Epoch 81/500: 100%|███████████████████████████| 11/11 [00:00<00:00, 1008.55it/s]\n"
     ]
    },
    {
     "name": "stdout",
     "output_type": "stream",
     "text": [
      "Epoch 81, Loss: 47.0820, Recon: 38.0364, KL: 9.0456\n",
      "\n",
      "===== Epoch 82 =====\n"
     ]
    },
    {
     "name": "stderr",
     "output_type": "stream",
     "text": [
      "Epoch 82/500: 100%|███████████████████████████| 11/11 [00:00<00:00, 1073.51it/s]\n"
     ]
    },
    {
     "name": "stdout",
     "output_type": "stream",
     "text": [
      "Epoch 82, Loss: 46.6110, Recon: 37.4933, KL: 9.1177\n",
      "\n",
      "===== Epoch 83 =====\n"
     ]
    },
    {
     "name": "stderr",
     "output_type": "stream",
     "text": [
      "Epoch 83/500: 100%|████████████████████████████| 11/11 [00:00<00:00, 968.82it/s]\n"
     ]
    },
    {
     "name": "stdout",
     "output_type": "stream",
     "text": [
      "Epoch 83, Loss: 46.3586, Recon: 37.3071, KL: 9.0515\n",
      "\n",
      "===== Epoch 84 =====\n"
     ]
    },
    {
     "name": "stderr",
     "output_type": "stream",
     "text": [
      "Epoch 84/500: 100%|████████████████████████████| 11/11 [00:00<00:00, 959.95it/s]\n"
     ]
    },
    {
     "name": "stdout",
     "output_type": "stream",
     "text": [
      "Epoch 84, Loss: 46.3502, Recon: 37.3398, KL: 9.0105\n",
      "\n",
      "===== Epoch 85 =====\n"
     ]
    },
    {
     "name": "stderr",
     "output_type": "stream",
     "text": [
      "Epoch 85/500: 100%|████████████████████████████| 11/11 [00:00<00:00, 862.14it/s]\n"
     ]
    },
    {
     "name": "stdout",
     "output_type": "stream",
     "text": [
      "Epoch 85, Loss: 46.0772, Recon: 37.1460, KL: 8.9312\n",
      "\n",
      "===== Epoch 86 =====\n"
     ]
    },
    {
     "name": "stderr",
     "output_type": "stream",
     "text": [
      "Epoch 86/500: 100%|███████████████████████████| 11/11 [00:00<00:00, 1101.97it/s]\n"
     ]
    },
    {
     "name": "stdout",
     "output_type": "stream",
     "text": [
      "Epoch 86, Loss: 45.9652, Recon: 37.0764, KL: 8.8888\n",
      "\n",
      "===== Epoch 87 =====\n"
     ]
    },
    {
     "name": "stderr",
     "output_type": "stream",
     "text": [
      "Epoch 87/500: 100%|███████████████████████████| 11/11 [00:00<00:00, 1106.62it/s]\n"
     ]
    },
    {
     "name": "stdout",
     "output_type": "stream",
     "text": [
      "Epoch 87, Loss: 45.5226, Recon: 36.5240, KL: 8.9986\n",
      "\n",
      "===== Epoch 88 =====\n"
     ]
    },
    {
     "name": "stderr",
     "output_type": "stream",
     "text": [
      "Epoch 88/500: 100%|███████████████████████████| 11/11 [00:00<00:00, 1006.49it/s]\n"
     ]
    },
    {
     "name": "stdout",
     "output_type": "stream",
     "text": [
      "Epoch 88, Loss: 45.6092, Recon: 36.6827, KL: 8.9265\n",
      "\n",
      "===== Epoch 89 =====\n"
     ]
    },
    {
     "name": "stderr",
     "output_type": "stream",
     "text": [
      "Epoch 89/500: 100%|███████████████████████████| 11/11 [00:00<00:00, 1009.44it/s]\n"
     ]
    },
    {
     "name": "stdout",
     "output_type": "stream",
     "text": [
      "Epoch 89, Loss: 45.5727, Recon: 36.5582, KL: 9.0144\n",
      "\n",
      "===== Epoch 90 =====\n"
     ]
    },
    {
     "name": "stderr",
     "output_type": "stream",
     "text": [
      "Epoch 90/500: 100%|███████████████████████████| 11/11 [00:00<00:00, 1008.44it/s]\n"
     ]
    },
    {
     "name": "stdout",
     "output_type": "stream",
     "text": [
      "Epoch 90, Loss: 45.7741, Recon: 36.7162, KL: 9.0578\n",
      "\n",
      "===== Epoch 91 =====\n"
     ]
    },
    {
     "name": "stderr",
     "output_type": "stream",
     "text": [
      "Epoch 91/500: 100%|████████████████████████████| 11/11 [00:00<00:00, 980.39it/s]\n"
     ]
    },
    {
     "name": "stdout",
     "output_type": "stream",
     "text": [
      "Epoch 91, Loss: 45.3027, Recon: 36.1762, KL: 9.1265\n",
      "\n",
      "===== Epoch 92 =====\n"
     ]
    },
    {
     "name": "stderr",
     "output_type": "stream",
     "text": [
      "Epoch 92/500: 100%|███████████████████████████| 11/11 [00:00<00:00, 1101.52it/s]\n"
     ]
    },
    {
     "name": "stdout",
     "output_type": "stream",
     "text": [
      "Epoch 92, Loss: 45.0716, Recon: 35.8608, KL: 9.2108\n",
      "\n",
      "===== Epoch 93 =====\n"
     ]
    },
    {
     "name": "stderr",
     "output_type": "stream",
     "text": [
      "Epoch 93/500: 100%|████████████████████████████| 11/11 [00:00<00:00, 437.93it/s]\n"
     ]
    },
    {
     "name": "stdout",
     "output_type": "stream",
     "text": [
      "Epoch 93, Loss: 44.9636, Recon: 35.8194, KL: 9.1442\n",
      "\n",
      "===== Epoch 94 =====\n"
     ]
    },
    {
     "name": "stderr",
     "output_type": "stream",
     "text": [
      "Epoch 94/500: 100%|████████████████████████████| 11/11 [00:00<00:00, 291.67it/s]\n"
     ]
    },
    {
     "name": "stdout",
     "output_type": "stream",
     "text": [
      "Epoch 94, Loss: 44.9118, Recon: 35.7659, KL: 9.1459\n",
      "\n",
      "===== Epoch 95 =====\n"
     ]
    },
    {
     "name": "stderr",
     "output_type": "stream",
     "text": [
      "Epoch 95/500: 100%|███████████████████████████| 11/11 [00:00<00:00, 1006.11it/s]\n"
     ]
    },
    {
     "name": "stdout",
     "output_type": "stream",
     "text": [
      "Epoch 95, Loss: 44.7583, Recon: 35.5561, KL: 9.2023\n",
      "\n",
      "===== Epoch 96 =====\n"
     ]
    },
    {
     "name": "stderr",
     "output_type": "stream",
     "text": [
      "Epoch 96/500: 100%|███████████████████████████| 11/11 [00:00<00:00, 1105.77it/s]\n"
     ]
    },
    {
     "name": "stdout",
     "output_type": "stream",
     "text": [
      "Epoch 96, Loss: 44.9694, Recon: 35.6833, KL: 9.2862\n",
      "\n",
      "===== Epoch 97 =====\n"
     ]
    },
    {
     "name": "stderr",
     "output_type": "stream",
     "text": [
      "Epoch 97/500: 100%|███████████████████████████| 11/11 [00:00<00:00, 1171.95it/s]\n"
     ]
    },
    {
     "name": "stdout",
     "output_type": "stream",
     "text": [
      "Epoch 97, Loss: 44.4733, Recon: 35.0942, KL: 9.3791\n",
      "\n",
      "===== Epoch 98 =====\n"
     ]
    },
    {
     "name": "stderr",
     "output_type": "stream",
     "text": [
      "Epoch 98/500: 100%|███████████████████████████| 11/11 [00:00<00:00, 1212.26it/s]\n"
     ]
    },
    {
     "name": "stdout",
     "output_type": "stream",
     "text": [
      "Epoch 98, Loss: 44.3017, Recon: 35.0174, KL: 9.2842\n",
      "\n",
      "===== Epoch 99 =====\n"
     ]
    },
    {
     "name": "stderr",
     "output_type": "stream",
     "text": [
      "Epoch 99/500: 100%|███████████████████████████| 11/11 [00:00<00:00, 1151.96it/s]\n"
     ]
    },
    {
     "name": "stdout",
     "output_type": "stream",
     "text": [
      "Epoch 99, Loss: 44.3337, Recon: 35.0335, KL: 9.3002\n",
      "\n",
      "===== Epoch 100 =====\n"
     ]
    },
    {
     "name": "stderr",
     "output_type": "stream",
     "text": [
      "Epoch 100/500: 100%|██████████████████████████| 11/11 [00:00<00:00, 1132.04it/s]\n"
     ]
    },
    {
     "name": "stdout",
     "output_type": "stream",
     "text": [
      "Epoch 100, Loss: 44.1895, Recon: 34.7976, KL: 9.3920\n",
      "\n",
      "===== Epoch 101 =====\n"
     ]
    },
    {
     "name": "stderr",
     "output_type": "stream",
     "text": [
      "Epoch 101/500: 100%|██████████████████████████| 11/11 [00:00<00:00, 1163.29it/s]\n"
     ]
    },
    {
     "name": "stdout",
     "output_type": "stream",
     "text": [
      "Epoch 101, Loss: 43.9668, Recon: 34.6317, KL: 9.3351\n",
      "\n",
      "===== Epoch 102 =====\n"
     ]
    },
    {
     "name": "stderr",
     "output_type": "stream",
     "text": [
      "Epoch 102/500: 100%|██████████████████████████| 11/11 [00:00<00:00, 1143.20it/s]\n"
     ]
    },
    {
     "name": "stdout",
     "output_type": "stream",
     "text": [
      "Epoch 102, Loss: 43.8665, Recon: 34.5331, KL: 9.3334\n",
      "\n",
      "===== Epoch 103 =====\n"
     ]
    },
    {
     "name": "stderr",
     "output_type": "stream",
     "text": [
      "Epoch 103/500: 100%|██████████████████████████| 11/11 [00:00<00:00, 1137.76it/s]\n"
     ]
    },
    {
     "name": "stdout",
     "output_type": "stream",
     "text": [
      "Epoch 103, Loss: 43.3299, Recon: 33.9451, KL: 9.3848\n",
      "\n",
      "===== Epoch 104 =====\n"
     ]
    },
    {
     "name": "stderr",
     "output_type": "stream",
     "text": [
      "Epoch 104/500: 100%|██████████████████████████| 11/11 [00:00<00:00, 1165.53it/s]\n"
     ]
    },
    {
     "name": "stdout",
     "output_type": "stream",
     "text": [
      "Epoch 104, Loss: 43.6019, Recon: 34.2614, KL: 9.3405\n",
      "\n",
      "===== Epoch 105 =====\n"
     ]
    },
    {
     "name": "stderr",
     "output_type": "stream",
     "text": [
      "Epoch 105/500: 100%|██████████████████████████| 11/11 [00:00<00:00, 1157.66it/s]\n"
     ]
    },
    {
     "name": "stdout",
     "output_type": "stream",
     "text": [
      "Epoch 105, Loss: 43.3971, Recon: 34.0161, KL: 9.3809\n",
      "\n",
      "===== Epoch 106 =====\n"
     ]
    },
    {
     "name": "stderr",
     "output_type": "stream",
     "text": [
      "Epoch 106/500: 100%|██████████████████████████| 11/11 [00:00<00:00, 1154.59it/s]\n"
     ]
    },
    {
     "name": "stdout",
     "output_type": "stream",
     "text": [
      "Epoch 106, Loss: 43.0749, Recon: 33.7285, KL: 9.3464\n",
      "\n",
      "===== Epoch 107 =====\n"
     ]
    },
    {
     "name": "stderr",
     "output_type": "stream",
     "text": [
      "Epoch 107/500: 100%|██████████████████████████| 11/11 [00:00<00:00, 1148.70it/s]\n"
     ]
    },
    {
     "name": "stdout",
     "output_type": "stream",
     "text": [
      "Epoch 107, Loss: 43.2723, Recon: 33.8824, KL: 9.3899\n",
      "\n",
      "===== Epoch 108 =====\n"
     ]
    },
    {
     "name": "stderr",
     "output_type": "stream",
     "text": [
      "Epoch 108/500: 100%|██████████████████████████| 11/11 [00:00<00:00, 1186.63it/s]\n"
     ]
    },
    {
     "name": "stdout",
     "output_type": "stream",
     "text": [
      "Epoch 108, Loss: 42.8763, Recon: 33.5179, KL: 9.3584\n",
      "\n",
      "===== Epoch 109 =====\n"
     ]
    },
    {
     "name": "stderr",
     "output_type": "stream",
     "text": [
      "Epoch 109/500: 100%|██████████████████████████| 11/11 [00:00<00:00, 1125.30it/s]\n"
     ]
    },
    {
     "name": "stdout",
     "output_type": "stream",
     "text": [
      "Epoch 109, Loss: 42.6942, Recon: 33.4424, KL: 9.2518\n",
      "\n",
      "===== Epoch 110 =====\n"
     ]
    },
    {
     "name": "stderr",
     "output_type": "stream",
     "text": [
      "Epoch 110/500: 100%|██████████████████████████| 11/11 [00:00<00:00, 1169.81it/s]\n"
     ]
    },
    {
     "name": "stdout",
     "output_type": "stream",
     "text": [
      "Epoch 110, Loss: 42.9265, Recon: 33.5998, KL: 9.3266\n",
      "\n",
      "===== Epoch 111 =====\n"
     ]
    },
    {
     "name": "stderr",
     "output_type": "stream",
     "text": [
      "Epoch 111/500: 100%|██████████████████████████| 11/11 [00:00<00:00, 1166.97it/s]\n"
     ]
    },
    {
     "name": "stdout",
     "output_type": "stream",
     "text": [
      "Epoch 111, Loss: 42.6924, Recon: 33.2756, KL: 9.4167\n",
      "\n",
      "===== Epoch 112 =====\n"
     ]
    },
    {
     "name": "stderr",
     "output_type": "stream",
     "text": [
      "Epoch 112/500: 100%|██████████████████████████| 11/11 [00:00<00:00, 1221.37it/s]\n"
     ]
    },
    {
     "name": "stdout",
     "output_type": "stream",
     "text": [
      "Epoch 112, Loss: 42.7345, Recon: 33.3343, KL: 9.4002\n",
      "\n",
      "===== Epoch 113 =====\n"
     ]
    },
    {
     "name": "stderr",
     "output_type": "stream",
     "text": [
      "Epoch 113/500: 100%|██████████████████████████| 11/11 [00:00<00:00, 1065.68it/s]\n"
     ]
    },
    {
     "name": "stdout",
     "output_type": "stream",
     "text": [
      "Epoch 113, Loss: 42.6482, Recon: 33.2419, KL: 9.4062\n",
      "\n",
      "===== Epoch 114 =====\n"
     ]
    },
    {
     "name": "stderr",
     "output_type": "stream",
     "text": [
      "Epoch 114/500: 100%|██████████████████████████| 11/11 [00:00<00:00, 1211.59it/s]\n"
     ]
    },
    {
     "name": "stdout",
     "output_type": "stream",
     "text": [
      "Epoch 114, Loss: 42.3084, Recon: 32.8214, KL: 9.4870\n",
      "\n",
      "===== Epoch 115 =====\n"
     ]
    },
    {
     "name": "stderr",
     "output_type": "stream",
     "text": [
      "Epoch 115/500: 100%|██████████████████████████| 11/11 [00:00<00:00, 1229.58it/s]\n"
     ]
    },
    {
     "name": "stdout",
     "output_type": "stream",
     "text": [
      "Epoch 115, Loss: 42.5159, Recon: 33.0280, KL: 9.4879\n",
      "\n",
      "===== Epoch 116 =====\n"
     ]
    },
    {
     "name": "stderr",
     "output_type": "stream",
     "text": [
      "Epoch 116/500: 100%|██████████████████████████| 11/11 [00:00<00:00, 1199.43it/s]\n"
     ]
    },
    {
     "name": "stdout",
     "output_type": "stream",
     "text": [
      "Epoch 116, Loss: 42.1672, Recon: 32.6814, KL: 9.4858\n",
      "\n",
      "===== Epoch 117 =====\n"
     ]
    },
    {
     "name": "stderr",
     "output_type": "stream",
     "text": [
      "Epoch 117/500: 100%|██████████████████████████| 11/11 [00:00<00:00, 1092.68it/s]\n"
     ]
    },
    {
     "name": "stdout",
     "output_type": "stream",
     "text": [
      "Epoch 117, Loss: 42.1214, Recon: 32.6951, KL: 9.4263\n",
      "\n",
      "===== Epoch 118 =====\n"
     ]
    },
    {
     "name": "stderr",
     "output_type": "stream",
     "text": [
      "Epoch 118/500: 100%|██████████████████████████| 11/11 [00:00<00:00, 1135.97it/s]\n"
     ]
    },
    {
     "name": "stdout",
     "output_type": "stream",
     "text": [
      "Epoch 118, Loss: 41.8111, Recon: 32.2765, KL: 9.5346\n",
      "\n",
      "===== Epoch 119 =====\n"
     ]
    },
    {
     "name": "stderr",
     "output_type": "stream",
     "text": [
      "Epoch 119/500: 100%|███████████████████████████| 11/11 [00:00<00:00, 965.32it/s]\n"
     ]
    },
    {
     "name": "stdout",
     "output_type": "stream",
     "text": [
      "Epoch 119, Loss: 41.7658, Recon: 32.2292, KL: 9.5366\n",
      "\n",
      "===== Epoch 120 =====\n"
     ]
    },
    {
     "name": "stderr",
     "output_type": "stream",
     "text": [
      "Epoch 120/500: 100%|██████████████████████████| 11/11 [00:00<00:00, 1110.19it/s]\n"
     ]
    },
    {
     "name": "stdout",
     "output_type": "stream",
     "text": [
      "Epoch 120, Loss: 41.6305, Recon: 32.1548, KL: 9.4757\n",
      "\n",
      "===== Epoch 121 =====\n"
     ]
    },
    {
     "name": "stderr",
     "output_type": "stream",
     "text": [
      "Epoch 121/500: 100%|██████████████████████████| 11/11 [00:00<00:00, 1212.55it/s]\n"
     ]
    },
    {
     "name": "stdout",
     "output_type": "stream",
     "text": [
      "Epoch 121, Loss: 41.3101, Recon: 31.8714, KL: 9.4387\n",
      "\n",
      "===== Epoch 122 =====\n"
     ]
    },
    {
     "name": "stderr",
     "output_type": "stream",
     "text": [
      "Epoch 122/500: 100%|██████████████████████████| 11/11 [00:00<00:00, 1197.22it/s]\n"
     ]
    },
    {
     "name": "stdout",
     "output_type": "stream",
     "text": [
      "Epoch 122, Loss: 42.0802, Recon: 32.5805, KL: 9.4997\n",
      "\n",
      "===== Epoch 123 =====\n"
     ]
    },
    {
     "name": "stderr",
     "output_type": "stream",
     "text": [
      "Epoch 123/500: 100%|██████████████████████████| 11/11 [00:00<00:00, 1082.78it/s]\n"
     ]
    },
    {
     "name": "stdout",
     "output_type": "stream",
     "text": [
      "Epoch 123, Loss: 41.5127, Recon: 31.8769, KL: 9.6357\n",
      "\n",
      "===== Epoch 124 =====\n"
     ]
    },
    {
     "name": "stderr",
     "output_type": "stream",
     "text": [
      "Epoch 124/500: 100%|██████████████████████████| 11/11 [00:00<00:00, 1165.38it/s]\n"
     ]
    },
    {
     "name": "stdout",
     "output_type": "stream",
     "text": [
      "Epoch 124, Loss: 41.2800, Recon: 31.6433, KL: 9.6367\n",
      "\n",
      "===== Epoch 125 =====\n"
     ]
    },
    {
     "name": "stderr",
     "output_type": "stream",
     "text": [
      "Epoch 125/500: 100%|██████████████████████████| 11/11 [00:00<00:00, 1122.59it/s]\n"
     ]
    },
    {
     "name": "stdout",
     "output_type": "stream",
     "text": [
      "Epoch 125, Loss: 41.1283, Recon: 31.4607, KL: 9.6676\n",
      "\n",
      "===== Epoch 126 =====\n"
     ]
    },
    {
     "name": "stderr",
     "output_type": "stream",
     "text": [
      "Epoch 126/500: 100%|██████████████████████████| 11/11 [00:00<00:00, 1165.85it/s]\n"
     ]
    },
    {
     "name": "stdout",
     "output_type": "stream",
     "text": [
      "Epoch 126, Loss: 41.6944, Recon: 32.0038, KL: 9.6906\n",
      "\n",
      "===== Epoch 127 =====\n"
     ]
    },
    {
     "name": "stderr",
     "output_type": "stream",
     "text": [
      "Epoch 127/500: 100%|██████████████████████████| 11/11 [00:00<00:00, 1175.83it/s]\n"
     ]
    },
    {
     "name": "stdout",
     "output_type": "stream",
     "text": [
      "Epoch 127, Loss: 41.0603, Recon: 31.4385, KL: 9.6218\n",
      "\n",
      "===== Epoch 128 =====\n"
     ]
    },
    {
     "name": "stderr",
     "output_type": "stream",
     "text": [
      "Epoch 128/500: 100%|██████████████████████████| 11/11 [00:00<00:00, 1132.29it/s]\n"
     ]
    },
    {
     "name": "stdout",
     "output_type": "stream",
     "text": [
      "Epoch 128, Loss: 40.8799, Recon: 31.3139, KL: 9.5660\n",
      "\n",
      "===== Epoch 129 =====\n"
     ]
    },
    {
     "name": "stderr",
     "output_type": "stream",
     "text": [
      "Epoch 129/500: 100%|██████████████████████████| 11/11 [00:00<00:00, 1110.78it/s]\n"
     ]
    },
    {
     "name": "stdout",
     "output_type": "stream",
     "text": [
      "Epoch 129, Loss: 41.1170, Recon: 31.4884, KL: 9.6286\n",
      "\n",
      "===== Epoch 130 =====\n"
     ]
    },
    {
     "name": "stderr",
     "output_type": "stream",
     "text": [
      "Epoch 130/500: 100%|██████████████████████████| 11/11 [00:00<00:00, 1220.44it/s]\n"
     ]
    },
    {
     "name": "stdout",
     "output_type": "stream",
     "text": [
      "Epoch 130, Loss: 41.0074, Recon: 31.4015, KL: 9.6059\n",
      "\n",
      "===== Epoch 131 =====\n"
     ]
    },
    {
     "name": "stderr",
     "output_type": "stream",
     "text": [
      "Epoch 131/500: 100%|██████████████████████████| 11/11 [00:00<00:00, 1199.96it/s]\n"
     ]
    },
    {
     "name": "stdout",
     "output_type": "stream",
     "text": [
      "Epoch 131, Loss: 40.7482, Recon: 31.0728, KL: 9.6754\n",
      "\n",
      "===== Epoch 132 =====\n"
     ]
    },
    {
     "name": "stderr",
     "output_type": "stream",
     "text": [
      "Epoch 132/500: 100%|██████████████████████████| 11/11 [00:00<00:00, 1218.82it/s]\n"
     ]
    },
    {
     "name": "stdout",
     "output_type": "stream",
     "text": [
      "Epoch 132, Loss: 41.0520, Recon: 31.3757, KL: 9.6762\n",
      "\n",
      "===== Epoch 133 =====\n"
     ]
    },
    {
     "name": "stderr",
     "output_type": "stream",
     "text": [
      "Epoch 133/500: 100%|██████████████████████████| 11/11 [00:00<00:00, 1177.09it/s]\n"
     ]
    },
    {
     "name": "stdout",
     "output_type": "stream",
     "text": [
      "Epoch 133, Loss: 40.4777, Recon: 30.7613, KL: 9.7164\n",
      "\n",
      "===== Epoch 134 =====\n"
     ]
    },
    {
     "name": "stderr",
     "output_type": "stream",
     "text": [
      "Epoch 134/500: 100%|██████████████████████████| 11/11 [00:00<00:00, 1218.44it/s]\n"
     ]
    },
    {
     "name": "stdout",
     "output_type": "stream",
     "text": [
      "Epoch 134, Loss: 40.3687, Recon: 30.7427, KL: 9.6260\n",
      "\n",
      "===== Epoch 135 =====\n"
     ]
    },
    {
     "name": "stderr",
     "output_type": "stream",
     "text": [
      "Epoch 135/500: 100%|██████████████████████████| 11/11 [00:00<00:00, 1230.99it/s]\n"
     ]
    },
    {
     "name": "stdout",
     "output_type": "stream",
     "text": [
      "Epoch 135, Loss: 40.2674, Recon: 30.6000, KL: 9.6675\n",
      "\n",
      "===== Epoch 136 =====\n"
     ]
    },
    {
     "name": "stderr",
     "output_type": "stream",
     "text": [
      "Epoch 136/500: 100%|██████████████████████████| 11/11 [00:00<00:00, 1208.26it/s]\n"
     ]
    },
    {
     "name": "stdout",
     "output_type": "stream",
     "text": [
      "Epoch 136, Loss: 39.9688, Recon: 30.3217, KL: 9.6472\n",
      "\n",
      "===== Epoch 137 =====\n"
     ]
    },
    {
     "name": "stderr",
     "output_type": "stream",
     "text": [
      "Epoch 137/500: 100%|██████████████████████████| 11/11 [00:00<00:00, 1230.99it/s]\n"
     ]
    },
    {
     "name": "stdout",
     "output_type": "stream",
     "text": [
      "Epoch 137, Loss: 40.1122, Recon: 30.6054, KL: 9.5068\n",
      "\n",
      "===== Epoch 138 =====\n"
     ]
    },
    {
     "name": "stderr",
     "output_type": "stream",
     "text": [
      "Epoch 138/500: 100%|██████████████████████████| 11/11 [00:00<00:00, 1173.08it/s]\n"
     ]
    },
    {
     "name": "stdout",
     "output_type": "stream",
     "text": [
      "Epoch 138, Loss: 39.7828, Recon: 30.2369, KL: 9.5459\n",
      "\n",
      "===== Epoch 139 =====\n"
     ]
    },
    {
     "name": "stderr",
     "output_type": "stream",
     "text": [
      "Epoch 139/500: 100%|██████████████████████████| 11/11 [00:00<00:00, 1181.01it/s]\n"
     ]
    },
    {
     "name": "stdout",
     "output_type": "stream",
     "text": [
      "Epoch 139, Loss: 40.2006, Recon: 30.6605, KL: 9.5401\n",
      "\n",
      "===== Epoch 140 =====\n"
     ]
    },
    {
     "name": "stderr",
     "output_type": "stream",
     "text": [
      "Epoch 140/500: 100%|██████████████████████████| 11/11 [00:00<00:00, 1146.07it/s]\n"
     ]
    },
    {
     "name": "stdout",
     "output_type": "stream",
     "text": [
      "Epoch 140, Loss: 40.0212, Recon: 30.4714, KL: 9.5498\n",
      "\n",
      "===== Epoch 141 =====\n"
     ]
    },
    {
     "name": "stderr",
     "output_type": "stream",
     "text": [
      "Epoch 141/500: 100%|██████████████████████████| 11/11 [00:00<00:00, 1199.71it/s]\n"
     ]
    },
    {
     "name": "stdout",
     "output_type": "stream",
     "text": [
      "Epoch 141, Loss: 39.8932, Recon: 30.3332, KL: 9.5600\n",
      "\n",
      "===== Epoch 142 =====\n"
     ]
    },
    {
     "name": "stderr",
     "output_type": "stream",
     "text": [
      "Epoch 142/500: 100%|██████████████████████████| 11/11 [00:00<00:00, 1213.34it/s]\n"
     ]
    },
    {
     "name": "stdout",
     "output_type": "stream",
     "text": [
      "Epoch 142, Loss: 39.6814, Recon: 30.0719, KL: 9.6095\n",
      "\n",
      "===== Epoch 143 =====\n"
     ]
    },
    {
     "name": "stderr",
     "output_type": "stream",
     "text": [
      "Epoch 143/500: 100%|██████████████████████████| 11/11 [00:00<00:00, 1201.15it/s]\n"
     ]
    },
    {
     "name": "stdout",
     "output_type": "stream",
     "text": [
      "Epoch 143, Loss: 39.8546, Recon: 30.1786, KL: 9.6760\n",
      "\n",
      "===== Epoch 144 =====\n"
     ]
    },
    {
     "name": "stderr",
     "output_type": "stream",
     "text": [
      "Epoch 144/500: 100%|██████████████████████████| 11/11 [00:00<00:00, 1110.08it/s]\n"
     ]
    },
    {
     "name": "stdout",
     "output_type": "stream",
     "text": [
      "Epoch 144, Loss: 39.4416, Recon: 29.6960, KL: 9.7456\n",
      "\n",
      "===== Epoch 145 =====\n"
     ]
    },
    {
     "name": "stderr",
     "output_type": "stream",
     "text": [
      "Epoch 145/500: 100%|██████████████████████████| 11/11 [00:00<00:00, 1095.43it/s]\n"
     ]
    },
    {
     "name": "stdout",
     "output_type": "stream",
     "text": [
      "Epoch 145, Loss: 39.5741, Recon: 29.8307, KL: 9.7434\n",
      "\n",
      "===== Epoch 146 =====\n"
     ]
    },
    {
     "name": "stderr",
     "output_type": "stream",
     "text": [
      "Epoch 146/500: 100%|██████████████████████████| 11/11 [00:00<00:00, 1199.31it/s]\n"
     ]
    },
    {
     "name": "stdout",
     "output_type": "stream",
     "text": [
      "Epoch 146, Loss: 39.4419, Recon: 29.7181, KL: 9.7238\n",
      "\n",
      "===== Epoch 147 =====\n"
     ]
    },
    {
     "name": "stderr",
     "output_type": "stream",
     "text": [
      "Epoch 147/500: 100%|██████████████████████████| 11/11 [00:00<00:00, 1183.40it/s]\n"
     ]
    },
    {
     "name": "stdout",
     "output_type": "stream",
     "text": [
      "Epoch 147, Loss: 39.2930, Recon: 29.6556, KL: 9.6374\n",
      "\n",
      "===== Epoch 148 =====\n"
     ]
    },
    {
     "name": "stderr",
     "output_type": "stream",
     "text": [
      "Epoch 148/500: 100%|██████████████████████████| 11/11 [00:00<00:00, 1203.00it/s]\n"
     ]
    },
    {
     "name": "stdout",
     "output_type": "stream",
     "text": [
      "Epoch 148, Loss: 39.2781, Recon: 29.7344, KL: 9.5437\n",
      "\n",
      "===== Epoch 149 =====\n"
     ]
    },
    {
     "name": "stderr",
     "output_type": "stream",
     "text": [
      "Epoch 149/500: 100%|██████████████████████████| 11/11 [00:00<00:00, 1028.34it/s]\n"
     ]
    },
    {
     "name": "stdout",
     "output_type": "stream",
     "text": [
      "Epoch 149, Loss: 39.2516, Recon: 29.7293, KL: 9.5223\n",
      "\n",
      "===== Epoch 150 =====\n"
     ]
    },
    {
     "name": "stderr",
     "output_type": "stream",
     "text": [
      "Epoch 150/500: 100%|██████████████████████████| 11/11 [00:00<00:00, 1154.50it/s]\n"
     ]
    },
    {
     "name": "stdout",
     "output_type": "stream",
     "text": [
      "Epoch 150, Loss: 39.2764, Recon: 29.7043, KL: 9.5722\n",
      "\n",
      "===== Epoch 151 =====\n"
     ]
    },
    {
     "name": "stderr",
     "output_type": "stream",
     "text": [
      "Epoch 151/500: 100%|██████████████████████████| 11/11 [00:00<00:00, 1192.15it/s]\n"
     ]
    },
    {
     "name": "stdout",
     "output_type": "stream",
     "text": [
      "Epoch 151, Loss: 39.3730, Recon: 29.7320, KL: 9.6410\n",
      "\n",
      "===== Epoch 152 =====\n"
     ]
    },
    {
     "name": "stderr",
     "output_type": "stream",
     "text": [
      "Epoch 152/500: 100%|██████████████████████████| 11/11 [00:00<00:00, 1242.09it/s]\n"
     ]
    },
    {
     "name": "stdout",
     "output_type": "stream",
     "text": [
      "Epoch 152, Loss: 39.0242, Recon: 29.3589, KL: 9.6653\n",
      "\n",
      "===== Epoch 153 =====\n"
     ]
    },
    {
     "name": "stderr",
     "output_type": "stream",
     "text": [
      "Epoch 153/500: 100%|██████████████████████████| 11/11 [00:00<00:00, 1218.44it/s]\n"
     ]
    },
    {
     "name": "stdout",
     "output_type": "stream",
     "text": [
      "Epoch 153, Loss: 39.2891, Recon: 29.6455, KL: 9.6436\n",
      "\n",
      "===== Epoch 154 =====\n"
     ]
    },
    {
     "name": "stderr",
     "output_type": "stream",
     "text": [
      "Epoch 154/500: 100%|██████████████████████████| 11/11 [00:00<00:00, 1207.72it/s]\n"
     ]
    },
    {
     "name": "stdout",
     "output_type": "stream",
     "text": [
      "Epoch 154, Loss: 39.1050, Recon: 29.3139, KL: 9.7911\n",
      "\n",
      "===== Epoch 155 =====\n"
     ]
    },
    {
     "name": "stderr",
     "output_type": "stream",
     "text": [
      "Epoch 155/500: 100%|██████████████████████████| 11/11 [00:00<00:00, 1217.63it/s]\n"
     ]
    },
    {
     "name": "stdout",
     "output_type": "stream",
     "text": [
      "Epoch 155, Loss: 38.8348, Recon: 28.9960, KL: 9.8388\n",
      "\n",
      "===== Epoch 156 =====\n"
     ]
    },
    {
     "name": "stderr",
     "output_type": "stream",
     "text": [
      "Epoch 156/500: 100%|██████████████████████████| 11/11 [00:00<00:00, 1253.26it/s]\n"
     ]
    },
    {
     "name": "stdout",
     "output_type": "stream",
     "text": [
      "Epoch 156, Loss: 38.8694, Recon: 29.0519, KL: 9.8175\n",
      "\n",
      "===== Epoch 157 =====\n"
     ]
    },
    {
     "name": "stderr",
     "output_type": "stream",
     "text": [
      "Epoch 157/500: 100%|███████████████████████████| 11/11 [00:00<00:00, 225.47it/s]\n"
     ]
    },
    {
     "name": "stdout",
     "output_type": "stream",
     "text": [
      "Epoch 157, Loss: 38.7560, Recon: 28.9057, KL: 9.8503\n",
      "\n",
      "===== Epoch 158 =====\n"
     ]
    },
    {
     "name": "stderr",
     "output_type": "stream",
     "text": [
      "Epoch 158/500: 100%|████████████████████████████| 11/11 [00:00<00:00, 81.32it/s]\n"
     ]
    },
    {
     "name": "stdout",
     "output_type": "stream",
     "text": [
      "Epoch 158, Loss: 38.8797, Recon: 29.0819, KL: 9.7978\n",
      "\n",
      "===== Epoch 159 =====\n"
     ]
    },
    {
     "name": "stderr",
     "output_type": "stream",
     "text": [
      "Epoch 159/500: 100%|██████████████████████████| 11/11 [00:00<00:00, 1244.20it/s]\n"
     ]
    },
    {
     "name": "stdout",
     "output_type": "stream",
     "text": [
      "Epoch 159, Loss: 38.3002, Recon: 28.5755, KL: 9.7247\n",
      "\n",
      "===== Epoch 160 =====\n"
     ]
    },
    {
     "name": "stderr",
     "output_type": "stream",
     "text": [
      "Epoch 160/500: 100%|██████████████████████████| 11/11 [00:00<00:00, 1223.83it/s]\n"
     ]
    },
    {
     "name": "stdout",
     "output_type": "stream",
     "text": [
      "Epoch 160, Loss: 38.3528, Recon: 28.6307, KL: 9.7221\n",
      "\n",
      "===== Epoch 161 =====\n"
     ]
    },
    {
     "name": "stderr",
     "output_type": "stream",
     "text": [
      "Epoch 161/500: 100%|██████████████████████████| 11/11 [00:00<00:00, 1264.80it/s]\n"
     ]
    },
    {
     "name": "stdout",
     "output_type": "stream",
     "text": [
      "Epoch 161, Loss: 38.7721, Recon: 28.9384, KL: 9.8337\n",
      "\n",
      "===== Epoch 162 =====\n"
     ]
    },
    {
     "name": "stderr",
     "output_type": "stream",
     "text": [
      "Epoch 162/500: 100%|██████████████████████████| 11/11 [00:00<00:00, 1260.76it/s]\n"
     ]
    },
    {
     "name": "stdout",
     "output_type": "stream",
     "text": [
      "Epoch 162, Loss: 38.3595, Recon: 28.4978, KL: 9.8617\n",
      "\n",
      "===== Epoch 163 =====\n"
     ]
    },
    {
     "name": "stderr",
     "output_type": "stream",
     "text": [
      "Epoch 163/500: 100%|██████████████████████████| 11/11 [00:00<00:00, 1161.21it/s]\n"
     ]
    },
    {
     "name": "stdout",
     "output_type": "stream",
     "text": [
      "Epoch 163, Loss: 38.2860, Recon: 28.4862, KL: 9.7997\n",
      "\n",
      "===== Epoch 164 =====\n"
     ]
    },
    {
     "name": "stderr",
     "output_type": "stream",
     "text": [
      "Epoch 164/500: 100%|██████████████████████████| 11/11 [00:00<00:00, 1221.44it/s]\n"
     ]
    },
    {
     "name": "stdout",
     "output_type": "stream",
     "text": [
      "Epoch 164, Loss: 38.2862, Recon: 28.5982, KL: 9.6880\n",
      "\n",
      "===== Epoch 165 =====\n"
     ]
    },
    {
     "name": "stderr",
     "output_type": "stream",
     "text": [
      "Epoch 165/500: 100%|██████████████████████████| 11/11 [00:00<00:00, 1202.43it/s]\n"
     ]
    },
    {
     "name": "stdout",
     "output_type": "stream",
     "text": [
      "Epoch 165, Loss: 38.4310, Recon: 28.6972, KL: 9.7337\n",
      "\n",
      "===== Epoch 166 =====\n"
     ]
    },
    {
     "name": "stderr",
     "output_type": "stream",
     "text": [
      "Epoch 166/500: 100%|██████████████████████████| 11/11 [00:00<00:00, 1203.62it/s]\n"
     ]
    },
    {
     "name": "stdout",
     "output_type": "stream",
     "text": [
      "Epoch 166, Loss: 38.3958, Recon: 28.5591, KL: 9.8367\n",
      "\n",
      "===== Epoch 167 =====\n"
     ]
    },
    {
     "name": "stderr",
     "output_type": "stream",
     "text": [
      "Epoch 167/500: 100%|██████████████████████████| 11/11 [00:00<00:00, 1121.09it/s]\n"
     ]
    },
    {
     "name": "stdout",
     "output_type": "stream",
     "text": [
      "Epoch 167, Loss: 38.1389, Recon: 28.3256, KL: 9.8132\n",
      "\n",
      "===== Epoch 168 =====\n"
     ]
    },
    {
     "name": "stderr",
     "output_type": "stream",
     "text": [
      "Epoch 168/500: 100%|██████████████████████████| 11/11 [00:00<00:00, 1191.93it/s]\n"
     ]
    },
    {
     "name": "stdout",
     "output_type": "stream",
     "text": [
      "Epoch 168, Loss: 38.1244, Recon: 28.2782, KL: 9.8462\n",
      "\n",
      "===== Epoch 169 =====\n"
     ]
    },
    {
     "name": "stderr",
     "output_type": "stream",
     "text": [
      "Epoch 169/500: 100%|██████████████████████████| 11/11 [00:00<00:00, 1285.52it/s]\n"
     ]
    },
    {
     "name": "stdout",
     "output_type": "stream",
     "text": [
      "Epoch 169, Loss: 37.9238, Recon: 28.0919, KL: 9.8319\n",
      "\n",
      "===== Epoch 170 =====\n"
     ]
    },
    {
     "name": "stderr",
     "output_type": "stream",
     "text": [
      "Epoch 170/500: 100%|██████████████████████████| 11/11 [00:00<00:00, 1262.20it/s]\n"
     ]
    },
    {
     "name": "stdout",
     "output_type": "stream",
     "text": [
      "Epoch 170, Loss: 37.8208, Recon: 28.0784, KL: 9.7424\n",
      "\n",
      "===== Epoch 171 =====\n"
     ]
    },
    {
     "name": "stderr",
     "output_type": "stream",
     "text": [
      "Epoch 171/500: 100%|██████████████████████████| 11/11 [00:00<00:00, 1230.30it/s]\n"
     ]
    },
    {
     "name": "stdout",
     "output_type": "stream",
     "text": [
      "Epoch 171, Loss: 37.7233, Recon: 27.9671, KL: 9.7562\n",
      "\n",
      "===== Epoch 172 =====\n"
     ]
    },
    {
     "name": "stderr",
     "output_type": "stream",
     "text": [
      "Epoch 172/500: 100%|██████████████████████████| 11/11 [00:00<00:00, 1245.88it/s]\n"
     ]
    },
    {
     "name": "stdout",
     "output_type": "stream",
     "text": [
      "Epoch 172, Loss: 37.8454, Recon: 28.0533, KL: 9.7922\n",
      "\n",
      "===== Epoch 173 =====\n"
     ]
    },
    {
     "name": "stderr",
     "output_type": "stream",
     "text": [
      "Epoch 173/500: 100%|██████████████████████████| 11/11 [00:00<00:00, 1270.79it/s]\n"
     ]
    },
    {
     "name": "stdout",
     "output_type": "stream",
     "text": [
      "Epoch 173, Loss: 37.6732, Recon: 27.8660, KL: 9.8071\n",
      "\n",
      "===== Epoch 174 =====\n"
     ]
    },
    {
     "name": "stderr",
     "output_type": "stream",
     "text": [
      "Epoch 174/500: 100%|██████████████████████████| 11/11 [00:00<00:00, 1250.67it/s]\n"
     ]
    },
    {
     "name": "stdout",
     "output_type": "stream",
     "text": [
      "Epoch 174, Loss: 37.6548, Recon: 27.9436, KL: 9.7112\n",
      "\n",
      "===== Epoch 175 =====\n"
     ]
    },
    {
     "name": "stderr",
     "output_type": "stream",
     "text": [
      "Epoch 175/500: 100%|██████████████████████████| 11/11 [00:00<00:00, 1245.04it/s]\n"
     ]
    },
    {
     "name": "stdout",
     "output_type": "stream",
     "text": [
      "Epoch 175, Loss: 37.4190, Recon: 27.6926, KL: 9.7264\n",
      "\n",
      "===== Epoch 176 =====\n"
     ]
    },
    {
     "name": "stderr",
     "output_type": "stream",
     "text": [
      "Epoch 176/500: 100%|██████████████████████████| 11/11 [00:00<00:00, 1199.84it/s]\n"
     ]
    },
    {
     "name": "stdout",
     "output_type": "stream",
     "text": [
      "Epoch 176, Loss: 37.3741, Recon: 27.7127, KL: 9.6614\n",
      "\n",
      "===== Epoch 177 =====\n"
     ]
    },
    {
     "name": "stderr",
     "output_type": "stream",
     "text": [
      "Epoch 177/500: 100%|██████████████████████████| 11/11 [00:00<00:00, 1214.65it/s]\n"
     ]
    },
    {
     "name": "stdout",
     "output_type": "stream",
     "text": [
      "Epoch 177, Loss: 37.2686, Recon: 27.6349, KL: 9.6337\n",
      "\n",
      "===== Epoch 178 =====\n"
     ]
    },
    {
     "name": "stderr",
     "output_type": "stream",
     "text": [
      "Epoch 178/500: 100%|██████████████████████████| 11/11 [00:00<00:00, 1216.29it/s]\n"
     ]
    },
    {
     "name": "stdout",
     "output_type": "stream",
     "text": [
      "Epoch 178, Loss: 37.1179, Recon: 27.4293, KL: 9.6887\n",
      "\n",
      "===== Epoch 179 =====\n"
     ]
    },
    {
     "name": "stderr",
     "output_type": "stream",
     "text": [
      "Epoch 179/500: 100%|██████████████████████████| 11/11 [00:00<00:00, 1149.07it/s]\n"
     ]
    },
    {
     "name": "stdout",
     "output_type": "stream",
     "text": [
      "Epoch 179, Loss: 37.6706, Recon: 27.9851, KL: 9.6854\n",
      "\n",
      "===== Epoch 180 =====\n"
     ]
    },
    {
     "name": "stderr",
     "output_type": "stream",
     "text": [
      "Epoch 180/500: 100%|██████████████████████████| 11/11 [00:00<00:00, 1234.44it/s]\n"
     ]
    },
    {
     "name": "stdout",
     "output_type": "stream",
     "text": [
      "Epoch 180, Loss: 37.1216, Recon: 27.3352, KL: 9.7864\n",
      "\n",
      "===== Epoch 181 =====\n"
     ]
    },
    {
     "name": "stderr",
     "output_type": "stream",
     "text": [
      "Epoch 181/500: 100%|██████████████████████████| 11/11 [00:00<00:00, 1234.54it/s]\n"
     ]
    },
    {
     "name": "stdout",
     "output_type": "stream",
     "text": [
      "Epoch 181, Loss: 37.2806, Recon: 27.5103, KL: 9.7703\n",
      "\n",
      "===== Epoch 182 =====\n"
     ]
    },
    {
     "name": "stderr",
     "output_type": "stream",
     "text": [
      "Epoch 182/500: 100%|██████████████████████████| 11/11 [00:00<00:00, 1192.24it/s]\n"
     ]
    },
    {
     "name": "stdout",
     "output_type": "stream",
     "text": [
      "Epoch 182, Loss: 37.2176, Recon: 27.4500, KL: 9.7676\n",
      "\n",
      "===== Epoch 183 =====\n"
     ]
    },
    {
     "name": "stderr",
     "output_type": "stream",
     "text": [
      "Epoch 183/500: 100%|██████████████████████████| 11/11 [00:00<00:00, 1219.37it/s]\n"
     ]
    },
    {
     "name": "stdout",
     "output_type": "stream",
     "text": [
      "Epoch 183, Loss: 36.7353, Recon: 26.9781, KL: 9.7572\n",
      "\n",
      "===== Epoch 184 =====\n"
     ]
    },
    {
     "name": "stderr",
     "output_type": "stream",
     "text": [
      "Epoch 184/500: 100%|██████████████████████████| 11/11 [00:00<00:00, 1254.65it/s]\n"
     ]
    },
    {
     "name": "stdout",
     "output_type": "stream",
     "text": [
      "Epoch 184, Loss: 37.0297, Recon: 27.2236, KL: 9.8061\n",
      "\n",
      "===== Epoch 185 =====\n"
     ]
    },
    {
     "name": "stderr",
     "output_type": "stream",
     "text": [
      "Epoch 185/500: 100%|██████████████████████████| 11/11 [00:00<00:00, 1229.05it/s]\n"
     ]
    },
    {
     "name": "stdout",
     "output_type": "stream",
     "text": [
      "Epoch 185, Loss: 37.1488, Recon: 27.3205, KL: 9.8282\n",
      "\n",
      "===== Epoch 186 =====\n"
     ]
    },
    {
     "name": "stderr",
     "output_type": "stream",
     "text": [
      "Epoch 186/500: 100%|██████████████████████████| 11/11 [00:00<00:00, 1253.56it/s]\n"
     ]
    },
    {
     "name": "stdout",
     "output_type": "stream",
     "text": [
      "Epoch 186, Loss: 36.8344, Recon: 27.0144, KL: 9.8200\n",
      "\n",
      "===== Epoch 187 =====\n"
     ]
    },
    {
     "name": "stderr",
     "output_type": "stream",
     "text": [
      "Epoch 187/500: 100%|██████████████████████████| 11/11 [00:00<00:00, 1238.05it/s]\n"
     ]
    },
    {
     "name": "stdout",
     "output_type": "stream",
     "text": [
      "Epoch 187, Loss: 37.1264, Recon: 27.2008, KL: 9.9256\n",
      "\n",
      "===== Epoch 188 =====\n"
     ]
    },
    {
     "name": "stderr",
     "output_type": "stream",
     "text": [
      "Epoch 188/500: 100%|██████████████████████████| 11/11 [00:00<00:00, 1245.61it/s]\n"
     ]
    },
    {
     "name": "stdout",
     "output_type": "stream",
     "text": [
      "Epoch 188, Loss: 36.6873, Recon: 26.7266, KL: 9.9607\n",
      "\n",
      "===== Epoch 189 =====\n"
     ]
    },
    {
     "name": "stderr",
     "output_type": "stream",
     "text": [
      "Epoch 189/500: 100%|██████████████████████████| 11/11 [00:00<00:00, 1195.64it/s]\n"
     ]
    },
    {
     "name": "stdout",
     "output_type": "stream",
     "text": [
      "Epoch 189, Loss: 36.7865, Recon: 26.9284, KL: 9.8581\n",
      "\n",
      "===== Epoch 190 =====\n"
     ]
    },
    {
     "name": "stderr",
     "output_type": "stream",
     "text": [
      "Epoch 190/500: 100%|██████████████████████████| 11/11 [00:00<00:00, 1177.87it/s]\n"
     ]
    },
    {
     "name": "stdout",
     "output_type": "stream",
     "text": [
      "Epoch 190, Loss: 36.8478, Recon: 26.9684, KL: 9.8795\n",
      "\n",
      "===== Epoch 191 =====\n"
     ]
    },
    {
     "name": "stderr",
     "output_type": "stream",
     "text": [
      "Epoch 191/500: 100%|██████████████████████████| 11/11 [00:00<00:00, 1154.24it/s]\n"
     ]
    },
    {
     "name": "stdout",
     "output_type": "stream",
     "text": [
      "Epoch 191, Loss: 36.5166, Recon: 26.6221, KL: 9.8944\n",
      "\n",
      "===== Epoch 192 =====\n"
     ]
    },
    {
     "name": "stderr",
     "output_type": "stream",
     "text": [
      "Epoch 192/500: 100%|██████████████████████████| 11/11 [00:00<00:00, 1156.09it/s]\n"
     ]
    },
    {
     "name": "stdout",
     "output_type": "stream",
     "text": [
      "Epoch 192, Loss: 36.4069, Recon: 26.6012, KL: 9.8056\n",
      "\n",
      "===== Epoch 193 =====\n"
     ]
    },
    {
     "name": "stderr",
     "output_type": "stream",
     "text": [
      "Epoch 193/500: 100%|██████████████████████████| 11/11 [00:00<00:00, 1099.24it/s]\n"
     ]
    },
    {
     "name": "stdout",
     "output_type": "stream",
     "text": [
      "Epoch 193, Loss: 36.4805, Recon: 26.7042, KL: 9.7763\n",
      "\n",
      "===== Epoch 194 =====\n"
     ]
    },
    {
     "name": "stderr",
     "output_type": "stream",
     "text": [
      "Epoch 194/500: 100%|██████████████████████████| 11/11 [00:00<00:00, 1250.74it/s]\n"
     ]
    },
    {
     "name": "stdout",
     "output_type": "stream",
     "text": [
      "Epoch 194, Loss: 36.5199, Recon: 26.7100, KL: 9.8099\n",
      "\n",
      "===== Epoch 195 =====\n"
     ]
    },
    {
     "name": "stderr",
     "output_type": "stream",
     "text": [
      "Epoch 195/500: 100%|██████████████████████████| 11/11 [00:00<00:00, 1269.60it/s]\n"
     ]
    },
    {
     "name": "stdout",
     "output_type": "stream",
     "text": [
      "Epoch 195, Loss: 36.6663, Recon: 26.8597, KL: 9.8065\n",
      "\n",
      "===== Epoch 196 =====\n"
     ]
    },
    {
     "name": "stderr",
     "output_type": "stream",
     "text": [
      "Epoch 196/500: 100%|██████████████████████████| 11/11 [00:00<00:00, 1280.10it/s]\n"
     ]
    },
    {
     "name": "stdout",
     "output_type": "stream",
     "text": [
      "Epoch 196, Loss: 36.0303, Recon: 26.1753, KL: 9.8550\n",
      "\n",
      "===== Epoch 197 =====\n"
     ]
    },
    {
     "name": "stderr",
     "output_type": "stream",
     "text": [
      "Epoch 197/500: 100%|██████████████████████████| 11/11 [00:00<00:00, 1279.03it/s]\n"
     ]
    },
    {
     "name": "stdout",
     "output_type": "stream",
     "text": [
      "Epoch 197, Loss: 35.9110, Recon: 26.0833, KL: 9.8277\n",
      "\n",
      "===== Epoch 198 =====\n"
     ]
    },
    {
     "name": "stderr",
     "output_type": "stream",
     "text": [
      "Epoch 198/500: 100%|██████████████████████████| 11/11 [00:00<00:00, 1215.20it/s]\n"
     ]
    },
    {
     "name": "stdout",
     "output_type": "stream",
     "text": [
      "Epoch 198, Loss: 36.2853, Recon: 26.5769, KL: 9.7084\n",
      "\n",
      "===== Epoch 199 =====\n"
     ]
    },
    {
     "name": "stderr",
     "output_type": "stream",
     "text": [
      "Epoch 199/500: 100%|██████████████████████████| 11/11 [00:00<00:00, 1192.15it/s]\n"
     ]
    },
    {
     "name": "stdout",
     "output_type": "stream",
     "text": [
      "Epoch 199, Loss: 36.2822, Recon: 26.5966, KL: 9.6856\n",
      "\n",
      "===== Epoch 200 =====\n"
     ]
    },
    {
     "name": "stderr",
     "output_type": "stream",
     "text": [
      "Epoch 200/500: 100%|██████████████████████████| 11/11 [00:00<00:00, 1241.99it/s]\n"
     ]
    },
    {
     "name": "stdout",
     "output_type": "stream",
     "text": [
      "Epoch 200, Loss: 35.9934, Recon: 26.2383, KL: 9.7551\n",
      "\n",
      "===== Epoch 201 =====\n"
     ]
    },
    {
     "name": "stderr",
     "output_type": "stream",
     "text": [
      "Epoch 201/500: 100%|██████████████████████████| 11/11 [00:00<00:00, 1239.58it/s]\n"
     ]
    },
    {
     "name": "stdout",
     "output_type": "stream",
     "text": [
      "Epoch 201, Loss: 36.2482, Recon: 26.4895, KL: 9.7587\n",
      "\n",
      "===== Epoch 202 =====\n"
     ]
    },
    {
     "name": "stderr",
     "output_type": "stream",
     "text": [
      "Epoch 202/500: 100%|██████████████████████████| 11/11 [00:00<00:00, 1171.44it/s]\n"
     ]
    },
    {
     "name": "stdout",
     "output_type": "stream",
     "text": [
      "Epoch 202, Loss: 35.7533, Recon: 25.9886, KL: 9.7647\n",
      "\n",
      "===== Epoch 203 =====\n"
     ]
    },
    {
     "name": "stderr",
     "output_type": "stream",
     "text": [
      "Epoch 203/500: 100%|██████████████████████████| 11/11 [00:00<00:00, 1227.12it/s]\n"
     ]
    },
    {
     "name": "stdout",
     "output_type": "stream",
     "text": [
      "Epoch 203, Loss: 36.0405, Recon: 26.2945, KL: 9.7460\n",
      "\n",
      "===== Epoch 204 =====\n"
     ]
    },
    {
     "name": "stderr",
     "output_type": "stream",
     "text": [
      "Epoch 204/500: 100%|██████████████████████████| 11/11 [00:00<00:00, 1283.09it/s]\n"
     ]
    },
    {
     "name": "stdout",
     "output_type": "stream",
     "text": [
      "Epoch 204, Loss: 35.9417, Recon: 26.1557, KL: 9.7860\n",
      "\n",
      "===== Epoch 205 =====\n"
     ]
    },
    {
     "name": "stderr",
     "output_type": "stream",
     "text": [
      "Epoch 205/500: 100%|██████████████████████████| 11/11 [00:00<00:00, 1268.03it/s]\n"
     ]
    },
    {
     "name": "stdout",
     "output_type": "stream",
     "text": [
      "Epoch 205, Loss: 35.8302, Recon: 25.9813, KL: 9.8488\n",
      "\n",
      "===== Epoch 206 =====\n"
     ]
    },
    {
     "name": "stderr",
     "output_type": "stream",
     "text": [
      "Epoch 206/500: 100%|██████████████████████████| 11/11 [00:00<00:00, 1246.28it/s]\n"
     ]
    },
    {
     "name": "stdout",
     "output_type": "stream",
     "text": [
      "Epoch 206, Loss: 35.7825, Recon: 26.0220, KL: 9.7605\n",
      "\n",
      "===== Epoch 207 =====\n"
     ]
    },
    {
     "name": "stderr",
     "output_type": "stream",
     "text": [
      "Epoch 207/500: 100%|██████████████████████████| 11/11 [00:00<00:00, 1241.65it/s]\n"
     ]
    },
    {
     "name": "stdout",
     "output_type": "stream",
     "text": [
      "Epoch 207, Loss: 35.6867, Recon: 25.9992, KL: 9.6876\n",
      "\n",
      "===== Epoch 208 =====\n"
     ]
    },
    {
     "name": "stderr",
     "output_type": "stream",
     "text": [
      "Epoch 208/500: 100%|██████████████████████████| 11/11 [00:00<00:00, 1284.41it/s]\n"
     ]
    },
    {
     "name": "stdout",
     "output_type": "stream",
     "text": [
      "Epoch 208, Loss: 36.0780, Recon: 26.3352, KL: 9.7428\n",
      "\n",
      "===== Epoch 209 =====\n"
     ]
    },
    {
     "name": "stderr",
     "output_type": "stream",
     "text": [
      "Epoch 209/500: 100%|██████████████████████████| 11/11 [00:00<00:00, 1273.42it/s]\n"
     ]
    },
    {
     "name": "stdout",
     "output_type": "stream",
     "text": [
      "Epoch 209, Loss: 35.7298, Recon: 25.9039, KL: 9.8259\n",
      "\n",
      "===== Epoch 210 =====\n"
     ]
    },
    {
     "name": "stderr",
     "output_type": "stream",
     "text": [
      "Epoch 210/500: 100%|██████████████████████████| 11/11 [00:00<00:00, 1257.87it/s]\n"
     ]
    },
    {
     "name": "stdout",
     "output_type": "stream",
     "text": [
      "Epoch 210, Loss: 35.7830, Recon: 25.9256, KL: 9.8574\n",
      "\n",
      "===== Epoch 211 =====\n"
     ]
    },
    {
     "name": "stderr",
     "output_type": "stream",
     "text": [
      "Epoch 211/500: 100%|██████████████████████████| 11/11 [00:00<00:00, 1225.75it/s]\n"
     ]
    },
    {
     "name": "stdout",
     "output_type": "stream",
     "text": [
      "Epoch 211, Loss: 35.3742, Recon: 25.5618, KL: 9.8124\n",
      "\n",
      "===== Epoch 212 =====\n"
     ]
    },
    {
     "name": "stderr",
     "output_type": "stream",
     "text": [
      "Epoch 212/500: 100%|██████████████████████████| 11/11 [00:00<00:00, 1239.32it/s]\n"
     ]
    },
    {
     "name": "stdout",
     "output_type": "stream",
     "text": [
      "Epoch 212, Loss: 35.5981, Recon: 25.7544, KL: 9.8438\n",
      "\n",
      "===== Epoch 213 =====\n"
     ]
    },
    {
     "name": "stderr",
     "output_type": "stream",
     "text": [
      "Epoch 213/500: 100%|██████████████████████████| 11/11 [00:00<00:00, 1223.54it/s]\n"
     ]
    },
    {
     "name": "stdout",
     "output_type": "stream",
     "text": [
      "Epoch 213, Loss: 35.6102, Recon: 25.7736, KL: 9.8367\n",
      "\n",
      "===== Epoch 214 =====\n"
     ]
    },
    {
     "name": "stderr",
     "output_type": "stream",
     "text": [
      "Epoch 214/500: 100%|██████████████████████████| 11/11 [00:00<00:00, 1260.45it/s]\n"
     ]
    },
    {
     "name": "stdout",
     "output_type": "stream",
     "text": [
      "Epoch 214, Loss: 35.2588, Recon: 25.4187, KL: 9.8401\n",
      "\n",
      "===== Epoch 215 =====\n"
     ]
    },
    {
     "name": "stderr",
     "output_type": "stream",
     "text": [
      "Epoch 215/500: 100%|██████████████████████████| 11/11 [00:00<00:00, 1205.92it/s]\n"
     ]
    },
    {
     "name": "stdout",
     "output_type": "stream",
     "text": [
      "Epoch 215, Loss: 35.6385, Recon: 25.8126, KL: 9.8259\n",
      "\n",
      "===== Epoch 216 =====\n"
     ]
    },
    {
     "name": "stderr",
     "output_type": "stream",
     "text": [
      "Epoch 216/500: 100%|██████████████████████████| 11/11 [00:00<00:00, 1237.92it/s]\n"
     ]
    },
    {
     "name": "stdout",
     "output_type": "stream",
     "text": [
      "Epoch 216, Loss: 35.8217, Recon: 26.0153, KL: 9.8065\n",
      "\n",
      "===== Epoch 217 =====\n"
     ]
    },
    {
     "name": "stderr",
     "output_type": "stream",
     "text": [
      "Epoch 217/500: 100%|██████████████████████████| 11/11 [00:00<00:00, 1251.96it/s]\n"
     ]
    },
    {
     "name": "stdout",
     "output_type": "stream",
     "text": [
      "Epoch 217, Loss: 35.2305, Recon: 25.3924, KL: 9.8381\n",
      "\n",
      "===== Epoch 218 =====\n"
     ]
    },
    {
     "name": "stderr",
     "output_type": "stream",
     "text": [
      "Epoch 218/500: 100%|██████████████████████████| 11/11 [00:00<00:00, 1223.02it/s]\n"
     ]
    },
    {
     "name": "stdout",
     "output_type": "stream",
     "text": [
      "Epoch 218, Loss: 35.3738, Recon: 25.4657, KL: 9.9081\n",
      "\n",
      "===== Epoch 219 =====\n"
     ]
    },
    {
     "name": "stderr",
     "output_type": "stream",
     "text": [
      "Epoch 219/500: 100%|██████████████████████████| 11/11 [00:00<00:00, 1222.47it/s]\n"
     ]
    },
    {
     "name": "stdout",
     "output_type": "stream",
     "text": [
      "Epoch 219, Loss: 35.2295, Recon: 25.2456, KL: 9.9839\n",
      "\n",
      "===== Epoch 220 =====\n"
     ]
    },
    {
     "name": "stderr",
     "output_type": "stream",
     "text": [
      "Epoch 220/500: 100%|██████████████████████████| 11/11 [00:00<00:00, 1228.20it/s]\n"
     ]
    },
    {
     "name": "stdout",
     "output_type": "stream",
     "text": [
      "Epoch 220, Loss: 35.0002, Recon: 25.0988, KL: 9.9014\n",
      "\n",
      "===== Epoch 221 =====\n"
     ]
    },
    {
     "name": "stderr",
     "output_type": "stream",
     "text": [
      "Epoch 221/500: 100%|██████████████████████████| 11/11 [00:00<00:00, 1259.17it/s]\n"
     ]
    },
    {
     "name": "stdout",
     "output_type": "stream",
     "text": [
      "Epoch 221, Loss: 35.3527, Recon: 25.5218, KL: 9.8309\n",
      "\n",
      "===== Epoch 222 =====\n"
     ]
    },
    {
     "name": "stderr",
     "output_type": "stream",
     "text": [
      "Epoch 222/500: 100%|██████████████████████████| 11/11 [00:00<00:00, 1247.33it/s]\n"
     ]
    },
    {
     "name": "stdout",
     "output_type": "stream",
     "text": [
      "Epoch 222, Loss: 35.3810, Recon: 25.5315, KL: 9.8494\n",
      "\n",
      "===== Epoch 223 =====\n"
     ]
    },
    {
     "name": "stderr",
     "output_type": "stream",
     "text": [
      "Epoch 223/500: 100%|██████████████████████████| 11/11 [00:00<00:00, 1257.56it/s]\n"
     ]
    },
    {
     "name": "stdout",
     "output_type": "stream",
     "text": [
      "Epoch 223, Loss: 35.1482, Recon: 25.2622, KL: 9.8860\n",
      "\n",
      "===== Epoch 224 =====\n"
     ]
    },
    {
     "name": "stderr",
     "output_type": "stream",
     "text": [
      "Epoch 224/500: 100%|██████████████████████████| 11/11 [00:00<00:00, 1263.07it/s]\n"
     ]
    },
    {
     "name": "stdout",
     "output_type": "stream",
     "text": [
      "Epoch 224, Loss: 34.9978, Recon: 25.1466, KL: 9.8512\n",
      "\n",
      "===== Epoch 225 =====\n"
     ]
    },
    {
     "name": "stderr",
     "output_type": "stream",
     "text": [
      "Epoch 225/500: 100%|██████████████████████████| 11/11 [00:00<00:00, 1177.09it/s]\n"
     ]
    },
    {
     "name": "stdout",
     "output_type": "stream",
     "text": [
      "Epoch 225, Loss: 34.9737, Recon: 25.1135, KL: 9.8602\n",
      "\n",
      "===== Epoch 226 =====\n"
     ]
    },
    {
     "name": "stderr",
     "output_type": "stream",
     "text": [
      "Epoch 226/500: 100%|██████████████████████████| 11/11 [00:00<00:00, 1259.00it/s]\n"
     ]
    },
    {
     "name": "stdout",
     "output_type": "stream",
     "text": [
      "Epoch 226, Loss: 34.5666, Recon: 24.6614, KL: 9.9051\n",
      "\n",
      "===== Epoch 227 =====\n"
     ]
    },
    {
     "name": "stderr",
     "output_type": "stream",
     "text": [
      "Epoch 227/500: 100%|██████████████████████████| 11/11 [00:00<00:00, 1211.72it/s]\n"
     ]
    },
    {
     "name": "stdout",
     "output_type": "stream",
     "text": [
      "Epoch 227, Loss: 34.8420, Recon: 25.0240, KL: 9.8181\n",
      "\n",
      "===== Epoch 228 =====\n"
     ]
    },
    {
     "name": "stderr",
     "output_type": "stream",
     "text": [
      "Epoch 228/500: 100%|██████████████████████████| 11/11 [00:00<00:00, 1226.18it/s]\n"
     ]
    },
    {
     "name": "stdout",
     "output_type": "stream",
     "text": [
      "Epoch 228, Loss: 34.8362, Recon: 25.0687, KL: 9.7674\n",
      "\n",
      "===== Epoch 229 =====\n"
     ]
    },
    {
     "name": "stderr",
     "output_type": "stream",
     "text": [
      "Epoch 229/500: 100%|██████████████████████████| 11/11 [00:00<00:00, 1226.73it/s]\n"
     ]
    },
    {
     "name": "stdout",
     "output_type": "stream",
     "text": [
      "Epoch 229, Loss: 34.3613, Recon: 24.6032, KL: 9.7581\n",
      "\n",
      "===== Epoch 230 =====\n"
     ]
    },
    {
     "name": "stderr",
     "output_type": "stream",
     "text": [
      "Epoch 230/500: 100%|██████████████████████████| 11/11 [00:00<00:00, 1198.12it/s]\n"
     ]
    },
    {
     "name": "stdout",
     "output_type": "stream",
     "text": [
      "Epoch 230, Loss: 34.7885, Recon: 25.0507, KL: 9.7379\n",
      "\n",
      "===== Epoch 231 =====\n"
     ]
    },
    {
     "name": "stderr",
     "output_type": "stream",
     "text": [
      "Epoch 231/500: 100%|██████████████████████████| 11/11 [00:00<00:00, 1246.75it/s]\n"
     ]
    },
    {
     "name": "stdout",
     "output_type": "stream",
     "text": [
      "Epoch 231, Loss: 34.5668, Recon: 24.7852, KL: 9.7816\n",
      "\n",
      "===== Epoch 232 =====\n"
     ]
    },
    {
     "name": "stderr",
     "output_type": "stream",
     "text": [
      "Epoch 232/500: 100%|██████████████████████████| 11/11 [00:00<00:00, 1224.13it/s]\n"
     ]
    },
    {
     "name": "stdout",
     "output_type": "stream",
     "text": [
      "Epoch 232, Loss: 34.4920, Recon: 24.7447, KL: 9.7473\n",
      "\n",
      "===== Epoch 233 =====\n"
     ]
    },
    {
     "name": "stderr",
     "output_type": "stream",
     "text": [
      "Epoch 233/500: 100%|██████████████████████████| 11/11 [00:00<00:00, 1244.67it/s]\n"
     ]
    },
    {
     "name": "stdout",
     "output_type": "stream",
     "text": [
      "Epoch 233, Loss: 34.5422, Recon: 24.8157, KL: 9.7265\n",
      "\n",
      "===== Epoch 234 =====\n"
     ]
    },
    {
     "name": "stderr",
     "output_type": "stream",
     "text": [
      "Epoch 234/500: 100%|██████████████████████████| 11/11 [00:00<00:00, 1282.66it/s]\n"
     ]
    },
    {
     "name": "stdout",
     "output_type": "stream",
     "text": [
      "Epoch 234, Loss: 34.5465, Recon: 24.8465, KL: 9.7000\n",
      "\n",
      "===== Epoch 235 =====\n"
     ]
    },
    {
     "name": "stderr",
     "output_type": "stream",
     "text": [
      "Epoch 235/500: 100%|██████████████████████████| 11/11 [00:00<00:00, 1120.85it/s]\n"
     ]
    },
    {
     "name": "stdout",
     "output_type": "stream",
     "text": [
      "Epoch 235, Loss: 34.4186, Recon: 24.6922, KL: 9.7265\n",
      "\n",
      "===== Epoch 236 =====\n"
     ]
    },
    {
     "name": "stderr",
     "output_type": "stream",
     "text": [
      "Epoch 236/500: 100%|███████████████████████████| 11/11 [00:00<00:00, 655.34it/s]\n"
     ]
    },
    {
     "name": "stdout",
     "output_type": "stream",
     "text": [
      "Epoch 236, Loss: 34.4677, Recon: 24.7543, KL: 9.7134\n",
      "\n",
      "===== Epoch 237 =====\n"
     ]
    },
    {
     "name": "stderr",
     "output_type": "stream",
     "text": [
      "Epoch 237/500: 100%|██████████████████████████| 11/11 [00:00<00:00, 1267.72it/s]\n"
     ]
    },
    {
     "name": "stdout",
     "output_type": "stream",
     "text": [
      "Epoch 237, Loss: 34.5125, Recon: 24.8546, KL: 9.6579\n",
      "\n",
      "===== Epoch 238 =====\n"
     ]
    },
    {
     "name": "stderr",
     "output_type": "stream",
     "text": [
      "Epoch 238/500: 100%|██████████████████████████| 11/11 [00:00<00:00, 1041.48it/s]\n"
     ]
    },
    {
     "name": "stdout",
     "output_type": "stream",
     "text": [
      "Epoch 238, Loss: 34.4103, Recon: 24.7077, KL: 9.7026\n",
      "\n",
      "===== Epoch 239 =====\n"
     ]
    },
    {
     "name": "stderr",
     "output_type": "stream",
     "text": [
      "Epoch 239/500: 100%|███████████████████████████| 11/11 [00:00<00:00, 679.85it/s]\n"
     ]
    },
    {
     "name": "stdout",
     "output_type": "stream",
     "text": [
      "Epoch 239, Loss: 34.0372, Recon: 24.2892, KL: 9.7480\n",
      "\n",
      "===== Epoch 240 =====\n"
     ]
    },
    {
     "name": "stderr",
     "output_type": "stream",
     "text": [
      "Epoch 240/500: 100%|██████████████████████████| 11/11 [00:00<00:00, 1173.05it/s]\n"
     ]
    },
    {
     "name": "stdout",
     "output_type": "stream",
     "text": [
      "Epoch 240, Loss: 34.6170, Recon: 24.8629, KL: 9.7541\n",
      "\n",
      "===== Epoch 241 =====\n"
     ]
    },
    {
     "name": "stderr",
     "output_type": "stream",
     "text": [
      "Epoch 241/500: 100%|██████████████████████████| 11/11 [00:00<00:00, 1121.53it/s]\n"
     ]
    },
    {
     "name": "stdout",
     "output_type": "stream",
     "text": [
      "Epoch 241, Loss: 34.1573, Recon: 24.3588, KL: 9.7986\n",
      "\n",
      "===== Epoch 242 =====\n"
     ]
    },
    {
     "name": "stderr",
     "output_type": "stream",
     "text": [
      "Epoch 242/500: 100%|██████████████████████████| 11/11 [00:00<00:00, 1193.85it/s]\n"
     ]
    },
    {
     "name": "stdout",
     "output_type": "stream",
     "text": [
      "Epoch 242, Loss: 34.1003, Recon: 24.3190, KL: 9.7813\n",
      "\n",
      "===== Epoch 243 =====\n"
     ]
    },
    {
     "name": "stderr",
     "output_type": "stream",
     "text": [
      "Epoch 243/500: 100%|███████████████████████████| 11/11 [00:00<00:00, 667.76it/s]\n"
     ]
    },
    {
     "name": "stdout",
     "output_type": "stream",
     "text": [
      "Epoch 243, Loss: 33.9587, Recon: 24.1832, KL: 9.7756\n",
      "\n",
      "===== Epoch 244 =====\n"
     ]
    },
    {
     "name": "stderr",
     "output_type": "stream",
     "text": [
      "Epoch 244/500: 100%|████████████████████████████| 11/11 [00:00<00:00, 67.81it/s]\n"
     ]
    },
    {
     "name": "stdout",
     "output_type": "stream",
     "text": [
      "Epoch 244, Loss: 34.1630, Recon: 24.3960, KL: 9.7670\n",
      "\n",
      "===== Epoch 245 =====\n"
     ]
    },
    {
     "name": "stderr",
     "output_type": "stream",
     "text": [
      "Epoch 245/500: 100%|████████████████████████████| 11/11 [00:00<00:00, 58.33it/s]\n"
     ]
    },
    {
     "name": "stdout",
     "output_type": "stream",
     "text": [
      "Epoch 245, Loss: 34.0191, Recon: 24.2385, KL: 9.7806\n",
      "\n",
      "===== Epoch 246 =====\n"
     ]
    },
    {
     "name": "stderr",
     "output_type": "stream",
     "text": [
      "Epoch 246/500: 100%|██████████████████████████| 11/11 [00:00<00:00, 1152.43it/s]\n"
     ]
    },
    {
     "name": "stdout",
     "output_type": "stream",
     "text": [
      "Epoch 246, Loss: 34.0195, Recon: 24.2509, KL: 9.7685\n",
      "\n",
      "===== Epoch 247 =====\n"
     ]
    },
    {
     "name": "stderr",
     "output_type": "stream",
     "text": [
      "Epoch 247/500: 100%|██████████████████████████| 11/11 [00:00<00:00, 1168.95it/s]\n"
     ]
    },
    {
     "name": "stdout",
     "output_type": "stream",
     "text": [
      "Epoch 247, Loss: 33.8063, Recon: 24.0570, KL: 9.7493\n",
      "\n",
      "===== Epoch 248 =====\n"
     ]
    },
    {
     "name": "stderr",
     "output_type": "stream",
     "text": [
      "Epoch 248/500: 100%|██████████████████████████| 11/11 [00:00<00:00, 1205.23it/s]\n"
     ]
    },
    {
     "name": "stdout",
     "output_type": "stream",
     "text": [
      "Epoch 248, Loss: 34.1580, Recon: 24.4351, KL: 9.7228\n",
      "\n",
      "===== Epoch 249 =====\n"
     ]
    },
    {
     "name": "stderr",
     "output_type": "stream",
     "text": [
      "Epoch 249/500: 100%|██████████████████████████| 11/11 [00:00<00:00, 1171.18it/s]\n"
     ]
    },
    {
     "name": "stdout",
     "output_type": "stream",
     "text": [
      "Epoch 249, Loss: 33.9918, Recon: 24.2465, KL: 9.7453\n",
      "\n",
      "===== Epoch 250 =====\n"
     ]
    },
    {
     "name": "stderr",
     "output_type": "stream",
     "text": [
      "Epoch 250/500: 100%|██████████████████████████| 11/11 [00:00<00:00, 1186.90it/s]\n"
     ]
    },
    {
     "name": "stdout",
     "output_type": "stream",
     "text": [
      "Epoch 250, Loss: 33.7280, Recon: 23.9326, KL: 9.7954\n",
      "\n",
      "===== Epoch 251 =====\n"
     ]
    },
    {
     "name": "stderr",
     "output_type": "stream",
     "text": [
      "Epoch 251/500: 100%|██████████████████████████| 11/11 [00:00<00:00, 1211.72it/s]\n"
     ]
    },
    {
     "name": "stdout",
     "output_type": "stream",
     "text": [
      "Epoch 251, Loss: 33.9553, Recon: 24.2118, KL: 9.7435\n",
      "\n",
      "===== Epoch 252 =====\n"
     ]
    },
    {
     "name": "stderr",
     "output_type": "stream",
     "text": [
      "Epoch 252/500: 100%|██████████████████████████| 11/11 [00:00<00:00, 1206.43it/s]\n"
     ]
    },
    {
     "name": "stdout",
     "output_type": "stream",
     "text": [
      "Epoch 252, Loss: 33.8248, Recon: 24.0169, KL: 9.8079\n",
      "\n",
      "===== Epoch 253 =====\n"
     ]
    },
    {
     "name": "stderr",
     "output_type": "stream",
     "text": [
      "Epoch 253/500: 100%|██████████████████████████| 11/11 [00:00<00:00, 1210.92it/s]\n"
     ]
    },
    {
     "name": "stdout",
     "output_type": "stream",
     "text": [
      "Epoch 253, Loss: 33.7128, Recon: 23.8675, KL: 9.8453\n",
      "\n",
      "===== Epoch 254 =====\n"
     ]
    },
    {
     "name": "stderr",
     "output_type": "stream",
     "text": [
      "Epoch 254/500: 100%|██████████████████████████| 11/11 [00:00<00:00, 1233.59it/s]\n"
     ]
    },
    {
     "name": "stdout",
     "output_type": "stream",
     "text": [
      "Epoch 254, Loss: 33.6614, Recon: 23.8984, KL: 9.7631\n",
      "\n",
      "===== Epoch 255 =====\n"
     ]
    },
    {
     "name": "stderr",
     "output_type": "stream",
     "text": [
      "Epoch 255/500: 100%|██████████████████████████| 11/11 [00:00<00:00, 1169.87it/s]\n"
     ]
    },
    {
     "name": "stdout",
     "output_type": "stream",
     "text": [
      "Epoch 255, Loss: 33.7374, Recon: 24.0178, KL: 9.7196\n",
      "\n",
      "===== Epoch 256 =====\n"
     ]
    },
    {
     "name": "stderr",
     "output_type": "stream",
     "text": [
      "Epoch 256/500: 100%|██████████████████████████| 11/11 [00:00<00:00, 1188.95it/s]\n"
     ]
    },
    {
     "name": "stdout",
     "output_type": "stream",
     "text": [
      "Epoch 256, Loss: 33.4505, Recon: 23.6992, KL: 9.7513\n",
      "\n",
      "===== Epoch 257 =====\n"
     ]
    },
    {
     "name": "stderr",
     "output_type": "stream",
     "text": [
      "Epoch 257/500: 100%|██████████████████████████| 11/11 [00:00<00:00, 1204.54it/s]\n"
     ]
    },
    {
     "name": "stdout",
     "output_type": "stream",
     "text": [
      "Epoch 257, Loss: 33.6670, Recon: 23.9035, KL: 9.7636\n",
      "\n",
      "===== Epoch 258 =====\n"
     ]
    },
    {
     "name": "stderr",
     "output_type": "stream",
     "text": [
      "Epoch 258/500: 100%|██████████████████████████| 11/11 [00:00<00:00, 1221.40it/s]\n"
     ]
    },
    {
     "name": "stdout",
     "output_type": "stream",
     "text": [
      "Epoch 258, Loss: 33.3520, Recon: 23.5897, KL: 9.7623\n",
      "\n",
      "===== Epoch 259 =====\n"
     ]
    },
    {
     "name": "stderr",
     "output_type": "stream",
     "text": [
      "Epoch 259/500: 100%|██████████████████████████| 11/11 [00:00<00:00, 1125.19it/s]\n"
     ]
    },
    {
     "name": "stdout",
     "output_type": "stream",
     "text": [
      "Epoch 259, Loss: 33.5203, Recon: 23.8332, KL: 9.6871\n",
      "\n",
      "===== Epoch 260 =====\n"
     ]
    },
    {
     "name": "stderr",
     "output_type": "stream",
     "text": [
      "Epoch 260/500: 100%|██████████████████████████| 11/11 [00:00<00:00, 1192.30it/s]\n"
     ]
    },
    {
     "name": "stdout",
     "output_type": "stream",
     "text": [
      "Epoch 260, Loss: 33.4773, Recon: 23.8182, KL: 9.6591\n",
      "\n",
      "===== Epoch 261 =====\n"
     ]
    },
    {
     "name": "stderr",
     "output_type": "stream",
     "text": [
      "Epoch 261/500: 100%|██████████████████████████| 11/11 [00:00<00:00, 1185.56it/s]\n"
     ]
    },
    {
     "name": "stdout",
     "output_type": "stream",
     "text": [
      "Epoch 261, Loss: 33.5536, Recon: 23.8261, KL: 9.7274\n",
      "\n",
      "===== Epoch 262 =====\n"
     ]
    },
    {
     "name": "stderr",
     "output_type": "stream",
     "text": [
      "Epoch 262/500: 100%|██████████████████████████| 11/11 [00:00<00:00, 1188.92it/s]\n"
     ]
    },
    {
     "name": "stdout",
     "output_type": "stream",
     "text": [
      "Epoch 262, Loss: 33.5523, Recon: 23.7791, KL: 9.7732\n",
      "\n",
      "===== Epoch 263 =====\n"
     ]
    },
    {
     "name": "stderr",
     "output_type": "stream",
     "text": [
      "Epoch 263/500: 100%|██████████████████████████| 11/11 [00:00<00:00, 1238.59it/s]\n"
     ]
    },
    {
     "name": "stdout",
     "output_type": "stream",
     "text": [
      "Epoch 263, Loss: 33.3240, Recon: 23.5435, KL: 9.7804\n",
      "\n",
      "===== Epoch 264 =====\n"
     ]
    },
    {
     "name": "stderr",
     "output_type": "stream",
     "text": [
      "Epoch 264/500: 100%|██████████████████████████| 11/11 [00:00<00:00, 1209.21it/s]\n"
     ]
    },
    {
     "name": "stdout",
     "output_type": "stream",
     "text": [
      "Epoch 264, Loss: 33.3665, Recon: 23.6366, KL: 9.7299\n",
      "\n",
      "===== Epoch 265 =====\n"
     ]
    },
    {
     "name": "stderr",
     "output_type": "stream",
     "text": [
      "Epoch 265/500: 100%|██████████████████████████| 11/11 [00:00<00:00, 1232.24it/s]\n"
     ]
    },
    {
     "name": "stdout",
     "output_type": "stream",
     "text": [
      "Epoch 265, Loss: 33.2933, Recon: 23.5549, KL: 9.7385\n",
      "\n",
      "===== Epoch 266 =====\n"
     ]
    },
    {
     "name": "stderr",
     "output_type": "stream",
     "text": [
      "Epoch 266/500: 100%|██████████████████████████| 11/11 [00:00<00:00, 1216.41it/s]\n"
     ]
    },
    {
     "name": "stdout",
     "output_type": "stream",
     "text": [
      "Epoch 266, Loss: 33.1991, Recon: 23.4830, KL: 9.7161\n",
      "\n",
      "===== Epoch 267 =====\n"
     ]
    },
    {
     "name": "stderr",
     "output_type": "stream",
     "text": [
      "Epoch 267/500: 100%|██████████████████████████| 11/11 [00:00<00:00, 1206.27it/s]\n"
     ]
    },
    {
     "name": "stdout",
     "output_type": "stream",
     "text": [
      "Epoch 267, Loss: 33.2385, Recon: 23.4929, KL: 9.7456\n",
      "\n",
      "===== Epoch 268 =====\n"
     ]
    },
    {
     "name": "stderr",
     "output_type": "stream",
     "text": [
      "Epoch 268/500: 100%|██████████████████████████| 11/11 [00:00<00:00, 1207.34it/s]\n"
     ]
    },
    {
     "name": "stdout",
     "output_type": "stream",
     "text": [
      "Epoch 268, Loss: 33.0345, Recon: 23.3303, KL: 9.7042\n",
      "\n",
      "===== Epoch 269 =====\n"
     ]
    },
    {
     "name": "stderr",
     "output_type": "stream",
     "text": [
      "Epoch 269/500: 100%|██████████████████████████| 11/11 [00:00<00:00, 1234.58it/s]\n"
     ]
    },
    {
     "name": "stdout",
     "output_type": "stream",
     "text": [
      "Epoch 269, Loss: 33.1675, Recon: 23.5181, KL: 9.6494\n",
      "\n",
      "===== Epoch 270 =====\n"
     ]
    },
    {
     "name": "stderr",
     "output_type": "stream",
     "text": [
      "Epoch 270/500: 100%|██████████████████████████| 11/11 [00:00<00:00, 1207.06it/s]\n"
     ]
    },
    {
     "name": "stdout",
     "output_type": "stream",
     "text": [
      "Epoch 270, Loss: 32.9594, Recon: 23.2706, KL: 9.6888\n",
      "\n",
      "===== Epoch 271 =====\n"
     ]
    },
    {
     "name": "stderr",
     "output_type": "stream",
     "text": [
      "Epoch 271/500: 100%|██████████████████████████| 11/11 [00:00<00:00, 1251.25it/s]\n"
     ]
    },
    {
     "name": "stdout",
     "output_type": "stream",
     "text": [
      "Epoch 271, Loss: 33.1636, Recon: 23.4388, KL: 9.7248\n",
      "\n",
      "===== Epoch 272 =====\n"
     ]
    },
    {
     "name": "stderr",
     "output_type": "stream",
     "text": [
      "Epoch 272/500: 100%|██████████████████████████| 11/11 [00:00<00:00, 1221.86it/s]\n"
     ]
    },
    {
     "name": "stdout",
     "output_type": "stream",
     "text": [
      "Epoch 272, Loss: 33.0600, Recon: 23.2823, KL: 9.7777\n",
      "\n",
      "===== Epoch 273 =====\n"
     ]
    },
    {
     "name": "stderr",
     "output_type": "stream",
     "text": [
      "Epoch 273/500: 100%|██████████████████████████| 11/11 [00:00<00:00, 1231.08it/s]\n"
     ]
    },
    {
     "name": "stdout",
     "output_type": "stream",
     "text": [
      "Epoch 273, Loss: 33.2693, Recon: 23.5333, KL: 9.7361\n",
      "\n",
      "===== Epoch 274 =====\n"
     ]
    },
    {
     "name": "stderr",
     "output_type": "stream",
     "text": [
      "Epoch 274/500: 100%|██████████████████████████| 11/11 [00:00<00:00, 1210.38it/s]\n"
     ]
    },
    {
     "name": "stdout",
     "output_type": "stream",
     "text": [
      "Epoch 274, Loss: 33.0385, Recon: 23.2877, KL: 9.7508\n",
      "\n",
      "===== Epoch 275 =====\n"
     ]
    },
    {
     "name": "stderr",
     "output_type": "stream",
     "text": [
      "Epoch 275/500: 100%|██████████████████████████| 11/11 [00:00<00:00, 1207.44it/s]\n"
     ]
    },
    {
     "name": "stdout",
     "output_type": "stream",
     "text": [
      "Epoch 275, Loss: 32.9412, Recon: 23.2137, KL: 9.7275\n",
      "\n",
      "===== Epoch 276 =====\n"
     ]
    },
    {
     "name": "stderr",
     "output_type": "stream",
     "text": [
      "Epoch 276/500: 100%|██████████████████████████| 11/11 [00:00<00:00, 1169.01it/s]\n"
     ]
    },
    {
     "name": "stdout",
     "output_type": "stream",
     "text": [
      "Epoch 276, Loss: 32.9439, Recon: 23.2033, KL: 9.7406\n",
      "\n",
      "===== Epoch 277 =====\n"
     ]
    },
    {
     "name": "stderr",
     "output_type": "stream",
     "text": [
      "Epoch 277/500: 100%|██████████████████████████| 11/11 [00:00<00:00, 1119.02it/s]\n"
     ]
    },
    {
     "name": "stdout",
     "output_type": "stream",
     "text": [
      "Epoch 277, Loss: 32.9531, Recon: 23.1590, KL: 9.7941\n",
      "\n",
      "===== Epoch 278 =====\n"
     ]
    },
    {
     "name": "stderr",
     "output_type": "stream",
     "text": [
      "Epoch 278/500: 100%|██████████████████████████| 11/11 [00:00<00:00, 1137.87it/s]\n"
     ]
    },
    {
     "name": "stdout",
     "output_type": "stream",
     "text": [
      "Epoch 278, Loss: 32.8847, Recon: 23.1411, KL: 9.7436\n",
      "\n",
      "===== Epoch 279 =====\n"
     ]
    },
    {
     "name": "stderr",
     "output_type": "stream",
     "text": [
      "Epoch 279/500: 100%|██████████████████████████| 11/11 [00:00<00:00, 1168.95it/s]\n"
     ]
    },
    {
     "name": "stdout",
     "output_type": "stream",
     "text": [
      "Epoch 279, Loss: 32.6847, Recon: 23.0203, KL: 9.6644\n",
      "\n",
      "===== Epoch 280 =====\n"
     ]
    },
    {
     "name": "stderr",
     "output_type": "stream",
     "text": [
      "Epoch 280/500: 100%|██████████████████████████| 11/11 [00:00<00:00, 1202.06it/s]\n"
     ]
    },
    {
     "name": "stdout",
     "output_type": "stream",
     "text": [
      "Epoch 280, Loss: 32.6997, Recon: 23.0585, KL: 9.6412\n",
      "\n",
      "===== Epoch 281 =====\n"
     ]
    },
    {
     "name": "stderr",
     "output_type": "stream",
     "text": [
      "Epoch 281/500: 100%|██████████████████████████| 11/11 [00:00<00:00, 1215.07it/s]\n"
     ]
    },
    {
     "name": "stdout",
     "output_type": "stream",
     "text": [
      "Epoch 281, Loss: 32.8962, Recon: 23.1636, KL: 9.7326\n",
      "\n",
      "===== Epoch 282 =====\n"
     ]
    },
    {
     "name": "stderr",
     "output_type": "stream",
     "text": [
      "Epoch 282/500: 100%|██████████████████████████| 11/11 [00:00<00:00, 1219.92it/s]\n"
     ]
    },
    {
     "name": "stdout",
     "output_type": "stream",
     "text": [
      "Epoch 282, Loss: 32.9071, Recon: 23.1029, KL: 9.8042\n",
      "\n",
      "===== Epoch 283 =====\n"
     ]
    },
    {
     "name": "stderr",
     "output_type": "stream",
     "text": [
      "Epoch 283/500: 100%|██████████████████████████| 11/11 [00:00<00:00, 1237.36it/s]\n"
     ]
    },
    {
     "name": "stdout",
     "output_type": "stream",
     "text": [
      "Epoch 283, Loss: 32.5975, Recon: 22.8067, KL: 9.7908\n",
      "\n",
      "===== Epoch 284 =====\n"
     ]
    },
    {
     "name": "stderr",
     "output_type": "stream",
     "text": [
      "Epoch 284/500: 100%|██████████████████████████| 11/11 [00:00<00:00, 1192.03it/s]\n"
     ]
    },
    {
     "name": "stdout",
     "output_type": "stream",
     "text": [
      "Epoch 284, Loss: 32.6774, Recon: 22.9287, KL: 9.7487\n",
      "\n",
      "===== Epoch 285 =====\n"
     ]
    },
    {
     "name": "stderr",
     "output_type": "stream",
     "text": [
      "Epoch 285/500: 100%|██████████████████████████| 11/11 [00:00<00:00, 1198.00it/s]\n"
     ]
    },
    {
     "name": "stdout",
     "output_type": "stream",
     "text": [
      "Epoch 285, Loss: 32.5526, Recon: 22.8112, KL: 9.7414\n",
      "\n",
      "===== Epoch 286 =====\n"
     ]
    },
    {
     "name": "stderr",
     "output_type": "stream",
     "text": [
      "Epoch 286/500: 100%|██████████████████████████| 11/11 [00:00<00:00, 1211.34it/s]\n"
     ]
    },
    {
     "name": "stdout",
     "output_type": "stream",
     "text": [
      "Epoch 286, Loss: 32.5786, Recon: 22.8159, KL: 9.7627\n",
      "\n",
      "===== Epoch 287 =====\n"
     ]
    },
    {
     "name": "stderr",
     "output_type": "stream",
     "text": [
      "Epoch 287/500: 100%|██████████████████████████| 11/11 [00:00<00:00, 1192.15it/s]\n"
     ]
    },
    {
     "name": "stdout",
     "output_type": "stream",
     "text": [
      "Epoch 287, Loss: 32.6491, Recon: 22.8584, KL: 9.7907\n",
      "\n",
      "===== Epoch 288 =====\n"
     ]
    },
    {
     "name": "stderr",
     "output_type": "stream",
     "text": [
      "Epoch 288/500: 100%|██████████████████████████| 11/11 [00:00<00:00, 1206.52it/s]\n"
     ]
    },
    {
     "name": "stdout",
     "output_type": "stream",
     "text": [
      "Epoch 288, Loss: 32.3591, Recon: 22.5891, KL: 9.7700\n",
      "\n",
      "===== Epoch 289 =====\n"
     ]
    },
    {
     "name": "stderr",
     "output_type": "stream",
     "text": [
      "Epoch 289/500: 100%|██████████████████████████| 11/11 [00:00<00:00, 1208.26it/s]\n"
     ]
    },
    {
     "name": "stdout",
     "output_type": "stream",
     "text": [
      "Epoch 289, Loss: 32.5170, Recon: 22.7644, KL: 9.7527\n",
      "\n",
      "===== Epoch 290 =====\n"
     ]
    },
    {
     "name": "stderr",
     "output_type": "stream",
     "text": [
      "Epoch 290/500: 100%|██████████████████████████| 11/11 [00:00<00:00, 1186.75it/s]\n"
     ]
    },
    {
     "name": "stdout",
     "output_type": "stream",
     "text": [
      "Epoch 290, Loss: 32.6882, Recon: 22.9442, KL: 9.7440\n",
      "\n",
      "===== Epoch 291 =====\n"
     ]
    },
    {
     "name": "stderr",
     "output_type": "stream",
     "text": [
      "Epoch 291/500: 100%|██████████████████████████| 11/11 [00:00<00:00, 1221.53it/s]\n"
     ]
    },
    {
     "name": "stdout",
     "output_type": "stream",
     "text": [
      "Epoch 291, Loss: 32.4409, Recon: 22.7535, KL: 9.6875\n",
      "\n",
      "===== Epoch 292 =====\n"
     ]
    },
    {
     "name": "stderr",
     "output_type": "stream",
     "text": [
      "Epoch 292/500: 100%|██████████████████████████| 11/11 [00:00<00:00, 1226.86it/s]\n"
     ]
    },
    {
     "name": "stdout",
     "output_type": "stream",
     "text": [
      "Epoch 292, Loss: 32.2841, Recon: 22.5512, KL: 9.7329\n",
      "\n",
      "===== Epoch 293 =====\n"
     ]
    },
    {
     "name": "stderr",
     "output_type": "stream",
     "text": [
      "Epoch 293/500: 100%|██████████████████████████| 11/11 [00:00<00:00, 1231.28it/s]\n"
     ]
    },
    {
     "name": "stdout",
     "output_type": "stream",
     "text": [
      "Epoch 293, Loss: 32.3536, Recon: 22.6369, KL: 9.7167\n",
      "\n",
      "===== Epoch 294 =====\n"
     ]
    },
    {
     "name": "stderr",
     "output_type": "stream",
     "text": [
      "Epoch 294/500: 100%|██████████████████████████| 11/11 [00:00<00:00, 1214.14it/s]\n"
     ]
    },
    {
     "name": "stdout",
     "output_type": "stream",
     "text": [
      "Epoch 294, Loss: 32.3089, Recon: 22.6286, KL: 9.6803\n",
      "\n",
      "===== Epoch 295 =====\n"
     ]
    },
    {
     "name": "stderr",
     "output_type": "stream",
     "text": [
      "Epoch 295/500: 100%|██████████████████████████| 11/11 [00:00<00:00, 1209.87it/s]\n"
     ]
    },
    {
     "name": "stdout",
     "output_type": "stream",
     "text": [
      "Epoch 295, Loss: 32.3492, Recon: 22.6502, KL: 9.6990\n",
      "\n",
      "===== Epoch 296 =====\n"
     ]
    },
    {
     "name": "stderr",
     "output_type": "stream",
     "text": [
      "Epoch 296/500: 100%|██████████████████████████| 11/11 [00:00<00:00, 1219.11it/s]\n"
     ]
    },
    {
     "name": "stdout",
     "output_type": "stream",
     "text": [
      "Epoch 296, Loss: 32.1486, Recon: 22.4615, KL: 9.6871\n",
      "\n",
      "===== Epoch 297 =====\n"
     ]
    },
    {
     "name": "stderr",
     "output_type": "stream",
     "text": [
      "Epoch 297/500: 100%|██████████████████████████| 11/11 [00:00<00:00, 1173.98it/s]\n"
     ]
    },
    {
     "name": "stdout",
     "output_type": "stream",
     "text": [
      "Epoch 297, Loss: 32.2845, Recon: 22.5693, KL: 9.7152\n",
      "\n",
      "===== Epoch 298 =====\n"
     ]
    },
    {
     "name": "stderr",
     "output_type": "stream",
     "text": [
      "Epoch 298/500: 100%|██████████████████████████| 11/11 [00:00<00:00, 1233.75it/s]\n"
     ]
    },
    {
     "name": "stdout",
     "output_type": "stream",
     "text": [
      "Epoch 298, Loss: 32.3517, Recon: 22.6059, KL: 9.7457\n",
      "\n",
      "===== Epoch 299 =====\n"
     ]
    },
    {
     "name": "stderr",
     "output_type": "stream",
     "text": [
      "Epoch 299/500: 100%|██████████████████████████| 11/11 [00:00<00:00, 1234.15it/s]\n"
     ]
    },
    {
     "name": "stdout",
     "output_type": "stream",
     "text": [
      "Epoch 299, Loss: 32.4831, Recon: 22.7679, KL: 9.7152\n",
      "\n",
      "===== Epoch 300 =====\n"
     ]
    },
    {
     "name": "stderr",
     "output_type": "stream",
     "text": [
      "Epoch 300/500: 100%|██████████████████████████| 11/11 [00:00<00:00, 1245.61it/s]\n"
     ]
    },
    {
     "name": "stdout",
     "output_type": "stream",
     "text": [
      "Epoch 300, Loss: 31.9360, Recon: 22.2139, KL: 9.7221\n",
      "\n",
      "===== Epoch 301 =====\n"
     ]
    },
    {
     "name": "stderr",
     "output_type": "stream",
     "text": [
      "Epoch 301/500: 100%|██████████████████████████| 11/11 [00:00<00:00, 1210.26it/s]\n"
     ]
    },
    {
     "name": "stdout",
     "output_type": "stream",
     "text": [
      "Epoch 301, Loss: 32.1852, Recon: 22.4747, KL: 9.7105\n",
      "\n",
      "===== Epoch 302 =====\n"
     ]
    },
    {
     "name": "stderr",
     "output_type": "stream",
     "text": [
      "Epoch 302/500: 100%|██████████████████████████| 11/11 [00:00<00:00, 1175.50it/s]\n"
     ]
    },
    {
     "name": "stdout",
     "output_type": "stream",
     "text": [
      "Epoch 302, Loss: 31.9166, Recon: 22.1860, KL: 9.7306\n",
      "\n",
      "===== Epoch 303 =====\n"
     ]
    },
    {
     "name": "stderr",
     "output_type": "stream",
     "text": [
      "Epoch 303/500: 100%|██████████████████████████| 11/11 [00:00<00:00, 1203.53it/s]\n"
     ]
    },
    {
     "name": "stdout",
     "output_type": "stream",
     "text": [
      "Epoch 303, Loss: 32.2478, Recon: 22.5782, KL: 9.6696\n",
      "\n",
      "===== Epoch 304 =====\n"
     ]
    },
    {
     "name": "stderr",
     "output_type": "stream",
     "text": [
      "Epoch 304/500: 100%|██████████████████████████| 11/11 [00:00<00:00, 1184.95it/s]\n"
     ]
    },
    {
     "name": "stdout",
     "output_type": "stream",
     "text": [
      "Epoch 304, Loss: 31.9432, Recon: 22.2537, KL: 9.6895\n",
      "\n",
      "===== Epoch 305 =====\n"
     ]
    },
    {
     "name": "stderr",
     "output_type": "stream",
     "text": [
      "Epoch 305/500: 100%|██████████████████████████| 11/11 [00:00<00:00, 1249.89it/s]\n"
     ]
    },
    {
     "name": "stdout",
     "output_type": "stream",
     "text": [
      "Epoch 305, Loss: 31.8024, Recon: 22.1224, KL: 9.6800\n",
      "\n",
      "===== Epoch 306 =====\n"
     ]
    },
    {
     "name": "stderr",
     "output_type": "stream",
     "text": [
      "Epoch 306/500: 100%|██████████████████████████| 11/11 [00:00<00:00, 1238.75it/s]\n"
     ]
    },
    {
     "name": "stdout",
     "output_type": "stream",
     "text": [
      "Epoch 306, Loss: 31.6661, Recon: 22.0497, KL: 9.6164\n",
      "\n",
      "===== Epoch 307 =====\n"
     ]
    },
    {
     "name": "stderr",
     "output_type": "stream",
     "text": [
      "Epoch 307/500: 100%|██████████████████████████| 11/11 [00:00<00:00, 1227.68it/s]\n"
     ]
    },
    {
     "name": "stdout",
     "output_type": "stream",
     "text": [
      "Epoch 307, Loss: 31.7370, Recon: 22.1925, KL: 9.5445\n",
      "\n",
      "===== Epoch 308 =====\n"
     ]
    },
    {
     "name": "stderr",
     "output_type": "stream",
     "text": [
      "Epoch 308/500: 100%|██████████████████████████| 11/11 [00:00<00:00, 1193.57it/s]\n"
     ]
    },
    {
     "name": "stdout",
     "output_type": "stream",
     "text": [
      "Epoch 308, Loss: 31.6935, Recon: 22.2256, KL: 9.4680\n",
      "\n",
      "===== Epoch 309 =====\n"
     ]
    },
    {
     "name": "stderr",
     "output_type": "stream",
     "text": [
      "Epoch 309/500: 100%|██████████████████████████| 11/11 [00:00<00:00, 1201.40it/s]\n"
     ]
    },
    {
     "name": "stdout",
     "output_type": "stream",
     "text": [
      "Epoch 309, Loss: 31.8220, Recon: 22.3604, KL: 9.4615\n",
      "\n",
      "===== Epoch 310 =====\n"
     ]
    },
    {
     "name": "stderr",
     "output_type": "stream",
     "text": [
      "Epoch 310/500: 100%|██████████████████████████| 11/11 [00:00<00:00, 1224.52it/s]\n"
     ]
    },
    {
     "name": "stdout",
     "output_type": "stream",
     "text": [
      "Epoch 310, Loss: 31.6342, Recon: 22.1100, KL: 9.5242\n",
      "\n",
      "===== Epoch 311 =====\n"
     ]
    },
    {
     "name": "stderr",
     "output_type": "stream",
     "text": [
      "Epoch 311/500: 100%|██████████████████████████| 11/11 [00:00<00:00, 1222.93it/s]\n"
     ]
    },
    {
     "name": "stdout",
     "output_type": "stream",
     "text": [
      "Epoch 311, Loss: 31.5712, Recon: 22.0661, KL: 9.5052\n",
      "\n",
      "===== Epoch 312 =====\n"
     ]
    },
    {
     "name": "stderr",
     "output_type": "stream",
     "text": [
      "Epoch 312/500: 100%|██████████████████████████| 11/11 [00:00<00:00, 1212.55it/s]\n"
     ]
    },
    {
     "name": "stdout",
     "output_type": "stream",
     "text": [
      "Epoch 312, Loss: 31.7154, Recon: 22.2296, KL: 9.4858\n",
      "\n",
      "===== Epoch 313 =====\n"
     ]
    },
    {
     "name": "stderr",
     "output_type": "stream",
     "text": [
      "Epoch 313/500: 100%|██████████████████████████| 11/11 [00:00<00:00, 1233.49it/s]\n"
     ]
    },
    {
     "name": "stdout",
     "output_type": "stream",
     "text": [
      "Epoch 313, Loss: 31.9723, Recon: 22.4014, KL: 9.5710\n",
      "\n",
      "===== Epoch 314 =====\n"
     ]
    },
    {
     "name": "stderr",
     "output_type": "stream",
     "text": [
      "Epoch 314/500: 100%|██████████████████████████| 11/11 [00:00<00:00, 1220.31it/s]\n"
     ]
    },
    {
     "name": "stdout",
     "output_type": "stream",
     "text": [
      "Epoch 314, Loss: 31.4566, Recon: 21.8198, KL: 9.6369\n",
      "\n",
      "===== Epoch 315 =====\n"
     ]
    },
    {
     "name": "stderr",
     "output_type": "stream",
     "text": [
      "Epoch 315/500: 100%|██████████████████████████| 11/11 [00:00<00:00, 1239.85it/s]\n"
     ]
    },
    {
     "name": "stdout",
     "output_type": "stream",
     "text": [
      "Epoch 315, Loss: 31.4199, Recon: 21.8369, KL: 9.5829\n",
      "\n",
      "===== Epoch 316 =====\n"
     ]
    },
    {
     "name": "stderr",
     "output_type": "stream",
     "text": [
      "Epoch 316/500: 100%|██████████████████████████| 11/11 [00:00<00:00, 1229.77it/s]\n"
     ]
    },
    {
     "name": "stdout",
     "output_type": "stream",
     "text": [
      "Epoch 316, Loss: 31.4947, Recon: 21.9589, KL: 9.5358\n",
      "\n",
      "===== Epoch 317 =====\n"
     ]
    },
    {
     "name": "stderr",
     "output_type": "stream",
     "text": [
      "Epoch 317/500: 100%|██████████████████████████| 11/11 [00:00<00:00, 1243.33it/s]\n"
     ]
    },
    {
     "name": "stdout",
     "output_type": "stream",
     "text": [
      "Epoch 317, Loss: 31.8178, Recon: 22.2565, KL: 9.5613\n",
      "\n",
      "===== Epoch 318 =====\n"
     ]
    },
    {
     "name": "stderr",
     "output_type": "stream",
     "text": [
      "Epoch 318/500: 100%|██████████████████████████| 11/11 [00:00<00:00, 1232.50it/s]\n"
     ]
    },
    {
     "name": "stdout",
     "output_type": "stream",
     "text": [
      "Epoch 318, Loss: 31.5003, Recon: 21.8469, KL: 9.6534\n",
      "\n",
      "===== Epoch 319 =====\n"
     ]
    },
    {
     "name": "stderr",
     "output_type": "stream",
     "text": [
      "Epoch 319/500: 100%|██████████████████████████| 11/11 [00:00<00:00, 1233.45it/s]\n"
     ]
    },
    {
     "name": "stdout",
     "output_type": "stream",
     "text": [
      "Epoch 319, Loss: 31.5157, Recon: 21.9056, KL: 9.6101\n",
      "\n",
      "===== Epoch 320 =====\n"
     ]
    },
    {
     "name": "stderr",
     "output_type": "stream",
     "text": [
      "Epoch 320/500: 100%|██████████████████████████| 11/11 [00:00<00:00, 1237.66it/s]\n"
     ]
    },
    {
     "name": "stdout",
     "output_type": "stream",
     "text": [
      "Epoch 320, Loss: 31.6949, Recon: 22.0745, KL: 9.6203\n",
      "\n",
      "===== Epoch 321 =====\n"
     ]
    },
    {
     "name": "stderr",
     "output_type": "stream",
     "text": [
      "Epoch 321/500: 100%|██████████████████████████| 11/11 [00:00<00:00, 1206.65it/s]\n"
     ]
    },
    {
     "name": "stdout",
     "output_type": "stream",
     "text": [
      "Epoch 321, Loss: 31.2997, Recon: 21.6853, KL: 9.6145\n",
      "\n",
      "===== Epoch 322 =====\n"
     ]
    },
    {
     "name": "stderr",
     "output_type": "stream",
     "text": [
      "Epoch 322/500: 100%|██████████████████████████| 11/11 [00:00<00:00, 1211.08it/s]\n"
     ]
    },
    {
     "name": "stdout",
     "output_type": "stream",
     "text": [
      "Epoch 322, Loss: 31.2889, Recon: 21.6925, KL: 9.5965\n",
      "\n",
      "===== Epoch 323 =====\n"
     ]
    },
    {
     "name": "stderr",
     "output_type": "stream",
     "text": [
      "Epoch 323/500: 100%|██████████████████████████| 11/11 [00:00<00:00, 1214.52it/s]\n"
     ]
    },
    {
     "name": "stdout",
     "output_type": "stream",
     "text": [
      "Epoch 323, Loss: 31.2697, Recon: 21.7089, KL: 9.5608\n",
      "\n",
      "===== Epoch 324 =====\n"
     ]
    },
    {
     "name": "stderr",
     "output_type": "stream",
     "text": [
      "Epoch 324/500: 100%|██████████████████████████| 11/11 [00:00<00:00, 1230.99it/s]\n"
     ]
    },
    {
     "name": "stdout",
     "output_type": "stream",
     "text": [
      "Epoch 324, Loss: 31.3698, Recon: 21.8927, KL: 9.4770\n",
      "\n",
      "===== Epoch 325 =====\n"
     ]
    },
    {
     "name": "stderr",
     "output_type": "stream",
     "text": [
      "Epoch 325/500: 100%|██████████████████████████| 11/11 [00:00<00:00, 1242.09it/s]\n"
     ]
    },
    {
     "name": "stdout",
     "output_type": "stream",
     "text": [
      "Epoch 325, Loss: 31.4161, Recon: 21.8969, KL: 9.5192\n",
      "\n",
      "===== Epoch 326 =====\n"
     ]
    },
    {
     "name": "stderr",
     "output_type": "stream",
     "text": [
      "Epoch 326/500: 100%|██████████████████████████| 11/11 [00:00<00:00, 1221.57it/s]\n"
     ]
    },
    {
     "name": "stdout",
     "output_type": "stream",
     "text": [
      "Epoch 326, Loss: 31.3878, Recon: 21.7497, KL: 9.6381\n",
      "\n",
      "===== Epoch 327 =====\n"
     ]
    },
    {
     "name": "stderr",
     "output_type": "stream",
     "text": [
      "Epoch 327/500: 100%|██████████████████████████| 11/11 [00:00<00:00, 1222.34it/s]\n"
     ]
    },
    {
     "name": "stdout",
     "output_type": "stream",
     "text": [
      "Epoch 327, Loss: 31.2412, Recon: 21.5932, KL: 9.6480\n",
      "\n",
      "===== Epoch 328 =====\n"
     ]
    },
    {
     "name": "stderr",
     "output_type": "stream",
     "text": [
      "Epoch 328/500: 100%|██████████████████████████| 11/11 [00:00<00:00, 1219.92it/s]\n"
     ]
    },
    {
     "name": "stdout",
     "output_type": "stream",
     "text": [
      "Epoch 328, Loss: 31.2764, Recon: 21.7395, KL: 9.5369\n",
      "\n",
      "===== Epoch 329 =====\n"
     ]
    },
    {
     "name": "stderr",
     "output_type": "stream",
     "text": [
      "Epoch 329/500: 100%|██████████████████████████| 11/11 [00:00<00:00, 1219.40it/s]\n"
     ]
    },
    {
     "name": "stdout",
     "output_type": "stream",
     "text": [
      "Epoch 329, Loss: 31.2009, Recon: 21.6841, KL: 9.5169\n",
      "\n",
      "===== Epoch 330 =====\n"
     ]
    },
    {
     "name": "stderr",
     "output_type": "stream",
     "text": [
      "Epoch 330/500: 100%|██████████████████████████| 11/11 [00:00<00:00, 1232.50it/s]\n"
     ]
    },
    {
     "name": "stdout",
     "output_type": "stream",
     "text": [
      "Epoch 330, Loss: 31.4490, Recon: 21.8338, KL: 9.6153\n",
      "\n",
      "===== Epoch 331 =====\n"
     ]
    },
    {
     "name": "stderr",
     "output_type": "stream",
     "text": [
      "Epoch 331/500: 100%|██████████████████████████| 11/11 [00:00<00:00, 1210.00it/s]\n"
     ]
    },
    {
     "name": "stdout",
     "output_type": "stream",
     "text": [
      "Epoch 331, Loss: 31.4000, Recon: 21.6934, KL: 9.7066\n",
      "\n",
      "===== Epoch 332 =====\n"
     ]
    },
    {
     "name": "stderr",
     "output_type": "stream",
     "text": [
      "Epoch 332/500: 100%|██████████████████████████| 11/11 [00:00<00:00, 1233.88it/s]\n"
     ]
    },
    {
     "name": "stdout",
     "output_type": "stream",
     "text": [
      "Epoch 332, Loss: 31.0747, Recon: 21.4737, KL: 9.6010\n",
      "\n",
      "===== Epoch 333 =====\n"
     ]
    },
    {
     "name": "stderr",
     "output_type": "stream",
     "text": [
      "Epoch 333/500: 100%|██████████████████████████| 11/11 [00:00<00:00, 1174.46it/s]\n"
     ]
    },
    {
     "name": "stdout",
     "output_type": "stream",
     "text": [
      "Epoch 333, Loss: 31.2930, Recon: 21.7010, KL: 9.5920\n",
      "\n",
      "===== Epoch 334 =====\n"
     ]
    },
    {
     "name": "stderr",
     "output_type": "stream",
     "text": [
      "Epoch 334/500: 100%|██████████████████████████| 11/11 [00:00<00:00, 1219.82it/s]\n"
     ]
    },
    {
     "name": "stdout",
     "output_type": "stream",
     "text": [
      "Epoch 334, Loss: 31.1974, Recon: 21.6117, KL: 9.5857\n",
      "\n",
      "===== Epoch 335 =====\n"
     ]
    },
    {
     "name": "stderr",
     "output_type": "stream",
     "text": [
      "Epoch 335/500: 100%|██████████████████████████| 11/11 [00:00<00:00, 1197.35it/s]\n"
     ]
    },
    {
     "name": "stdout",
     "output_type": "stream",
     "text": [
      "Epoch 335, Loss: 31.0024, Recon: 21.3399, KL: 9.6625\n",
      "\n",
      "===== Epoch 336 =====\n"
     ]
    },
    {
     "name": "stderr",
     "output_type": "stream",
     "text": [
      "Epoch 336/500: 100%|██████████████████████████| 11/11 [00:00<00:00, 1194.62it/s]\n"
     ]
    },
    {
     "name": "stdout",
     "output_type": "stream",
     "text": [
      "Epoch 336, Loss: 31.1309, Recon: 21.4785, KL: 9.6523\n",
      "\n",
      "===== Epoch 337 =====\n"
     ]
    },
    {
     "name": "stderr",
     "output_type": "stream",
     "text": [
      "Epoch 337/500: 100%|██████████████████████████| 11/11 [00:00<00:00, 1211.18it/s]\n"
     ]
    },
    {
     "name": "stdout",
     "output_type": "stream",
     "text": [
      "Epoch 337, Loss: 31.0476, Recon: 21.4299, KL: 9.6177\n",
      "\n",
      "===== Epoch 338 =====\n"
     ]
    },
    {
     "name": "stderr",
     "output_type": "stream",
     "text": [
      "Epoch 338/500: 100%|██████████████████████████| 11/11 [00:00<00:00, 1210.51it/s]\n"
     ]
    },
    {
     "name": "stdout",
     "output_type": "stream",
     "text": [
      "Epoch 338, Loss: 31.0789, Recon: 21.4676, KL: 9.6113\n",
      "\n",
      "===== Epoch 339 =====\n"
     ]
    },
    {
     "name": "stderr",
     "output_type": "stream",
     "text": [
      "Epoch 339/500: 100%|██████████████████████████| 11/11 [00:00<00:00, 1205.23it/s]\n"
     ]
    },
    {
     "name": "stdout",
     "output_type": "stream",
     "text": [
      "Epoch 339, Loss: 31.2793, Recon: 21.6732, KL: 9.6061\n",
      "\n",
      "===== Epoch 340 =====\n"
     ]
    },
    {
     "name": "stderr",
     "output_type": "stream",
     "text": [
      "Epoch 340/500: 100%|██████████████████████████| 11/11 [00:00<00:00, 1195.14it/s]\n"
     ]
    },
    {
     "name": "stdout",
     "output_type": "stream",
     "text": [
      "Epoch 340, Loss: 30.9699, Recon: 21.3525, KL: 9.6175\n",
      "\n",
      "===== Epoch 341 =====\n"
     ]
    },
    {
     "name": "stderr",
     "output_type": "stream",
     "text": [
      "Epoch 341/500: 100%|██████████████████████████| 11/11 [00:00<00:00, 1200.87it/s]\n"
     ]
    },
    {
     "name": "stdout",
     "output_type": "stream",
     "text": [
      "Epoch 341, Loss: 31.2481, Recon: 21.5977, KL: 9.6505\n",
      "\n",
      "===== Epoch 342 =====\n"
     ]
    },
    {
     "name": "stderr",
     "output_type": "stream",
     "text": [
      "Epoch 342/500: 100%|██████████████████████████| 11/11 [00:00<00:00, 1228.92it/s]\n"
     ]
    },
    {
     "name": "stdout",
     "output_type": "stream",
     "text": [
      "Epoch 342, Loss: 30.7457, Recon: 21.0840, KL: 9.6616\n",
      "\n",
      "===== Epoch 343 =====\n"
     ]
    },
    {
     "name": "stderr",
     "output_type": "stream",
     "text": [
      "Epoch 343/500: 100%|██████████████████████████| 11/11 [00:00<00:00, 1197.87it/s]\n"
     ]
    },
    {
     "name": "stdout",
     "output_type": "stream",
     "text": [
      "Epoch 343, Loss: 30.9444, Recon: 21.3522, KL: 9.5922\n",
      "\n",
      "===== Epoch 344 =====\n"
     ]
    },
    {
     "name": "stderr",
     "output_type": "stream",
     "text": [
      "Epoch 344/500: 100%|██████████████████████████| 11/11 [00:00<00:00, 1246.45it/s]\n"
     ]
    },
    {
     "name": "stdout",
     "output_type": "stream",
     "text": [
      "Epoch 344, Loss: 30.8033, Recon: 21.1825, KL: 9.6208\n",
      "\n",
      "===== Epoch 345 =====\n"
     ]
    },
    {
     "name": "stderr",
     "output_type": "stream",
     "text": [
      "Epoch 345/500: 100%|██████████████████████████| 11/11 [00:00<00:00, 1250.98it/s]\n"
     ]
    },
    {
     "name": "stdout",
     "output_type": "stream",
     "text": [
      "Epoch 345, Loss: 30.9105, Recon: 21.3094, KL: 9.6011\n",
      "\n",
      "===== Epoch 346 =====\n"
     ]
    },
    {
     "name": "stderr",
     "output_type": "stream",
     "text": [
      "Epoch 346/500: 100%|██████████████████████████| 11/11 [00:00<00:00, 1162.33it/s]\n"
     ]
    },
    {
     "name": "stdout",
     "output_type": "stream",
     "text": [
      "Epoch 346, Loss: 30.7214, Recon: 21.1340, KL: 9.5875\n",
      "\n",
      "===== Epoch 347 =====\n"
     ]
    },
    {
     "name": "stderr",
     "output_type": "stream",
     "text": [
      "Epoch 347/500: 100%|██████████████████████████| 11/11 [00:00<00:00, 1158.39it/s]\n"
     ]
    },
    {
     "name": "stdout",
     "output_type": "stream",
     "text": [
      "Epoch 347, Loss: 30.7633, Recon: 21.2169, KL: 9.5463\n",
      "\n",
      "===== Epoch 348 =====\n"
     ]
    },
    {
     "name": "stderr",
     "output_type": "stream",
     "text": [
      "Epoch 348/500: 100%|██████████████████████████| 11/11 [00:00<00:00, 1214.65it/s]\n"
     ]
    },
    {
     "name": "stdout",
     "output_type": "stream",
     "text": [
      "Epoch 348, Loss: 30.9395, Recon: 21.3477, KL: 9.5918\n",
      "\n",
      "===== Epoch 349 =====\n"
     ]
    },
    {
     "name": "stderr",
     "output_type": "stream",
     "text": [
      "Epoch 349/500: 100%|██████████████████████████| 11/11 [00:00<00:00, 1157.05it/s]\n"
     ]
    },
    {
     "name": "stdout",
     "output_type": "stream",
     "text": [
      "Epoch 349, Loss: 30.7041, Recon: 21.1309, KL: 9.5732\n",
      "\n",
      "===== Epoch 350 =====\n"
     ]
    },
    {
     "name": "stderr",
     "output_type": "stream",
     "text": [
      "Epoch 350/500: 100%|██████████████████████████| 11/11 [00:00<00:00, 1196.32it/s]\n"
     ]
    },
    {
     "name": "stdout",
     "output_type": "stream",
     "text": [
      "Epoch 350, Loss: 30.6269, Recon: 21.0418, KL: 9.5851\n",
      "\n",
      "===== Epoch 351 =====\n"
     ]
    },
    {
     "name": "stderr",
     "output_type": "stream",
     "text": [
      "Epoch 351/500: 100%|██████████████████████████| 11/11 [00:00<00:00, 1207.31it/s]\n"
     ]
    },
    {
     "name": "stdout",
     "output_type": "stream",
     "text": [
      "Epoch 351, Loss: 30.8753, Recon: 21.2925, KL: 9.5828\n",
      "\n",
      "===== Epoch 352 =====\n"
     ]
    },
    {
     "name": "stderr",
     "output_type": "stream",
     "text": [
      "Epoch 352/500: 100%|██████████████████████████| 11/11 [00:00<00:00, 1209.75it/s]\n"
     ]
    },
    {
     "name": "stdout",
     "output_type": "stream",
     "text": [
      "Epoch 352, Loss: 30.3664, Recon: 20.8133, KL: 9.5531\n",
      "\n",
      "===== Epoch 353 =====\n"
     ]
    },
    {
     "name": "stderr",
     "output_type": "stream",
     "text": [
      "Epoch 353/500: 100%|██████████████████████████| 11/11 [00:00<00:00, 1191.78it/s]\n"
     ]
    },
    {
     "name": "stdout",
     "output_type": "stream",
     "text": [
      "Epoch 353, Loss: 30.4794, Recon: 21.0544, KL: 9.4251\n",
      "\n",
      "===== Epoch 354 =====\n"
     ]
    },
    {
     "name": "stderr",
     "output_type": "stream",
     "text": [
      "Epoch 354/500: 100%|██████████████████████████| 11/11 [00:00<00:00, 1224.00it/s]\n"
     ]
    },
    {
     "name": "stdout",
     "output_type": "stream",
     "text": [
      "Epoch 354, Loss: 30.5308, Recon: 21.0627, KL: 9.4681\n",
      "\n",
      "===== Epoch 355 =====\n"
     ]
    },
    {
     "name": "stderr",
     "output_type": "stream",
     "text": [
      "Epoch 355/500: 100%|██████████████████████████| 11/11 [00:00<00:00, 1207.75it/s]\n"
     ]
    },
    {
     "name": "stdout",
     "output_type": "stream",
     "text": [
      "Epoch 355, Loss: 30.7297, Recon: 21.2060, KL: 9.5237\n",
      "\n",
      "===== Epoch 356 =====\n"
     ]
    },
    {
     "name": "stderr",
     "output_type": "stream",
     "text": [
      "Epoch 356/500: 100%|██████████████████████████| 11/11 [00:00<00:00, 1208.35it/s]\n"
     ]
    },
    {
     "name": "stdout",
     "output_type": "stream",
     "text": [
      "Epoch 356, Loss: 30.4195, Recon: 20.9050, KL: 9.5145\n",
      "\n",
      "===== Epoch 357 =====\n"
     ]
    },
    {
     "name": "stderr",
     "output_type": "stream",
     "text": [
      "Epoch 357/500: 100%|██████████████████████████| 11/11 [00:00<00:00, 1226.31it/s]\n"
     ]
    },
    {
     "name": "stdout",
     "output_type": "stream",
     "text": [
      "Epoch 357, Loss: 30.2935, Recon: 20.8649, KL: 9.4286\n",
      "\n",
      "===== Epoch 358 =====\n"
     ]
    },
    {
     "name": "stderr",
     "output_type": "stream",
     "text": [
      "Epoch 358/500: 100%|██████████████████████████| 11/11 [00:00<00:00, 1231.51it/s]\n"
     ]
    },
    {
     "name": "stdout",
     "output_type": "stream",
     "text": [
      "Epoch 358, Loss: 30.4723, Recon: 21.0600, KL: 9.4123\n",
      "\n",
      "===== Epoch 359 =====\n"
     ]
    },
    {
     "name": "stderr",
     "output_type": "stream",
     "text": [
      "Epoch 359/500: 100%|██████████████████████████| 11/11 [00:00<00:00, 1224.39it/s]\n"
     ]
    },
    {
     "name": "stdout",
     "output_type": "stream",
     "text": [
      "Epoch 359, Loss: 30.1892, Recon: 20.7669, KL: 9.4223\n",
      "\n",
      "===== Epoch 360 =====\n"
     ]
    },
    {
     "name": "stderr",
     "output_type": "stream",
     "text": [
      "Epoch 360/500: 100%|██████████████████████████| 11/11 [00:00<00:00, 1256.74it/s]\n"
     ]
    },
    {
     "name": "stdout",
     "output_type": "stream",
     "text": [
      "Epoch 360, Loss: 30.3152, Recon: 20.9087, KL: 9.4065\n",
      "\n",
      "===== Epoch 361 =====\n"
     ]
    },
    {
     "name": "stderr",
     "output_type": "stream",
     "text": [
      "Epoch 361/500: 100%|██████████████████████████| 11/11 [00:00<00:00, 1232.93it/s]\n"
     ]
    },
    {
     "name": "stdout",
     "output_type": "stream",
     "text": [
      "Epoch 361, Loss: 30.3691, Recon: 20.9636, KL: 9.4055\n",
      "\n",
      "===== Epoch 362 =====\n"
     ]
    },
    {
     "name": "stderr",
     "output_type": "stream",
     "text": [
      "Epoch 362/500: 100%|██████████████████████████| 11/11 [00:00<00:00, 1218.98it/s]\n"
     ]
    },
    {
     "name": "stdout",
     "output_type": "stream",
     "text": [
      "Epoch 362, Loss: 30.3708, Recon: 20.9403, KL: 9.4305\n",
      "\n",
      "===== Epoch 363 =====\n"
     ]
    },
    {
     "name": "stderr",
     "output_type": "stream",
     "text": [
      "Epoch 363/500: 100%|██████████████████████████| 11/11 [00:00<00:00, 1172.46it/s]\n"
     ]
    },
    {
     "name": "stdout",
     "output_type": "stream",
     "text": [
      "Epoch 363, Loss: 30.5753, Recon: 21.1260, KL: 9.4494\n",
      "\n",
      "===== Epoch 364 =====\n"
     ]
    },
    {
     "name": "stderr",
     "output_type": "stream",
     "text": [
      "Epoch 364/500: 100%|██████████████████████████| 11/11 [00:00<00:00, 1234.31it/s]\n"
     ]
    },
    {
     "name": "stdout",
     "output_type": "stream",
     "text": [
      "Epoch 364, Loss: 30.2634, Recon: 20.7850, KL: 9.4785\n",
      "\n",
      "===== Epoch 365 =====\n"
     ]
    },
    {
     "name": "stderr",
     "output_type": "stream",
     "text": [
      "Epoch 365/500: 100%|██████████████████████████| 11/11 [00:00<00:00, 1225.75it/s]\n"
     ]
    },
    {
     "name": "stdout",
     "output_type": "stream",
     "text": [
      "Epoch 365, Loss: 30.5663, Recon: 21.0396, KL: 9.5267\n",
      "\n",
      "===== Epoch 366 =====\n"
     ]
    },
    {
     "name": "stderr",
     "output_type": "stream",
     "text": [
      "Epoch 366/500: 100%|██████████████████████████| 11/11 [00:00<00:00, 1215.45it/s]\n"
     ]
    },
    {
     "name": "stdout",
     "output_type": "stream",
     "text": [
      "Epoch 366, Loss: 30.2651, Recon: 20.7452, KL: 9.5199\n",
      "\n",
      "===== Epoch 367 =====\n"
     ]
    },
    {
     "name": "stderr",
     "output_type": "stream",
     "text": [
      "Epoch 367/500: 100%|██████████████████████████| 11/11 [00:00<00:00, 1195.27it/s]\n"
     ]
    },
    {
     "name": "stdout",
     "output_type": "stream",
     "text": [
      "Epoch 367, Loss: 30.3668, Recon: 20.8050, KL: 9.5618\n",
      "\n",
      "===== Epoch 368 =====\n"
     ]
    },
    {
     "name": "stderr",
     "output_type": "stream",
     "text": [
      "Epoch 368/500: 100%|██████████████████████████| 11/11 [00:00<00:00, 1245.04it/s]\n"
     ]
    },
    {
     "name": "stdout",
     "output_type": "stream",
     "text": [
      "Epoch 368, Loss: 30.2230, Recon: 20.6449, KL: 9.5781\n",
      "\n",
      "===== Epoch 369 =====\n"
     ]
    },
    {
     "name": "stderr",
     "output_type": "stream",
     "text": [
      "Epoch 369/500: 100%|██████████████████████████| 11/11 [00:00<00:00, 1221.28it/s]\n"
     ]
    },
    {
     "name": "stdout",
     "output_type": "stream",
     "text": [
      "Epoch 369, Loss: 30.2740, Recon: 20.7342, KL: 9.5397\n",
      "\n",
      "===== Epoch 370 =====\n"
     ]
    },
    {
     "name": "stderr",
     "output_type": "stream",
     "text": [
      "Epoch 370/500: 100%|██████████████████████████| 11/11 [00:00<00:00, 1228.33it/s]\n"
     ]
    },
    {
     "name": "stdout",
     "output_type": "stream",
     "text": [
      "Epoch 370, Loss: 29.8938, Recon: 20.3530, KL: 9.5409\n",
      "\n",
      "===== Epoch 371 =====\n"
     ]
    },
    {
     "name": "stderr",
     "output_type": "stream",
     "text": [
      "Epoch 371/500: 100%|██████████████████████████| 11/11 [00:00<00:00, 1209.91it/s]\n"
     ]
    },
    {
     "name": "stdout",
     "output_type": "stream",
     "text": [
      "Epoch 371, Loss: 30.2757, Recon: 20.7760, KL: 9.4996\n",
      "\n",
      "===== Epoch 372 =====\n"
     ]
    },
    {
     "name": "stderr",
     "output_type": "stream",
     "text": [
      "Epoch 372/500: 100%|██████████████████████████| 11/11 [00:00<00:00, 1230.43it/s]\n"
     ]
    },
    {
     "name": "stdout",
     "output_type": "stream",
     "text": [
      "Epoch 372, Loss: 30.1160, Recon: 20.5795, KL: 9.5365\n",
      "\n",
      "===== Epoch 373 =====\n"
     ]
    },
    {
     "name": "stderr",
     "output_type": "stream",
     "text": [
      "Epoch 373/500: 100%|██████████████████████████| 11/11 [00:00<00:00, 1214.65it/s]\n"
     ]
    },
    {
     "name": "stdout",
     "output_type": "stream",
     "text": [
      "Epoch 373, Loss: 30.0300, Recon: 20.5576, KL: 9.4724\n",
      "\n",
      "===== Epoch 374 =====\n"
     ]
    },
    {
     "name": "stderr",
     "output_type": "stream",
     "text": [
      "Epoch 374/500: 100%|██████████████████████████| 11/11 [00:00<00:00, 1247.43it/s]\n"
     ]
    },
    {
     "name": "stdout",
     "output_type": "stream",
     "text": [
      "Epoch 374, Loss: 30.2689, Recon: 20.8065, KL: 9.4624\n",
      "\n",
      "===== Epoch 375 =====\n"
     ]
    },
    {
     "name": "stderr",
     "output_type": "stream",
     "text": [
      "Epoch 375/500: 100%|██████████████████████████| 11/11 [00:00<00:00, 1198.81it/s]\n"
     ]
    },
    {
     "name": "stdout",
     "output_type": "stream",
     "text": [
      "Epoch 375, Loss: 30.2728, Recon: 20.7338, KL: 9.5390\n",
      "\n",
      "===== Epoch 376 =====\n"
     ]
    },
    {
     "name": "stderr",
     "output_type": "stream",
     "text": [
      "Epoch 376/500: 100%|██████████████████████████| 11/11 [00:00<00:00, 1223.67it/s]\n"
     ]
    },
    {
     "name": "stdout",
     "output_type": "stream",
     "text": [
      "Epoch 376, Loss: 30.0891, Recon: 20.5611, KL: 9.5280\n",
      "\n",
      "===== Epoch 377 =====\n"
     ]
    },
    {
     "name": "stderr",
     "output_type": "stream",
     "text": [
      "Epoch 377/500: 100%|██████████████████████████| 11/11 [00:00<00:00, 1200.84it/s]\n"
     ]
    },
    {
     "name": "stdout",
     "output_type": "stream",
     "text": [
      "Epoch 377, Loss: 30.1934, Recon: 20.6625, KL: 9.5309\n",
      "\n",
      "===== Epoch 378 =====\n"
     ]
    },
    {
     "name": "stderr",
     "output_type": "stream",
     "text": [
      "Epoch 378/500: 100%|██████████████████████████| 11/11 [00:00<00:00, 1232.07it/s]\n"
     ]
    },
    {
     "name": "stdout",
     "output_type": "stream",
     "text": [
      "Epoch 378, Loss: 30.0396, Recon: 20.5716, KL: 9.4680\n",
      "\n",
      "===== Epoch 379 =====\n"
     ]
    },
    {
     "name": "stderr",
     "output_type": "stream",
     "text": [
      "Epoch 379/500: 100%|██████████████████████████| 11/11 [00:00<00:00, 1190.89it/s]\n"
     ]
    },
    {
     "name": "stdout",
     "output_type": "stream",
     "text": [
      "Epoch 379, Loss: 30.0614, Recon: 20.5328, KL: 9.5286\n",
      "\n",
      "===== Epoch 380 =====\n"
     ]
    },
    {
     "name": "stderr",
     "output_type": "stream",
     "text": [
      "Epoch 380/500: 100%|██████████████████████████| 11/11 [00:00<00:00, 1193.60it/s]\n"
     ]
    },
    {
     "name": "stdout",
     "output_type": "stream",
     "text": [
      "Epoch 380, Loss: 29.7583, Recon: 20.1935, KL: 9.5648\n",
      "\n",
      "===== Epoch 381 =====\n"
     ]
    },
    {
     "name": "stderr",
     "output_type": "stream",
     "text": [
      "Epoch 381/500: 100%|██████████████████████████| 11/11 [00:00<00:00, 1204.66it/s]\n"
     ]
    },
    {
     "name": "stdout",
     "output_type": "stream",
     "text": [
      "Epoch 381, Loss: 30.1722, Recon: 20.6798, KL: 9.4924\n",
      "\n",
      "===== Epoch 382 =====\n"
     ]
    },
    {
     "name": "stderr",
     "output_type": "stream",
     "text": [
      "Epoch 382/500: 100%|██████████████████████████| 11/11 [00:00<00:00, 1172.34it/s]\n"
     ]
    },
    {
     "name": "stdout",
     "output_type": "stream",
     "text": [
      "Epoch 382, Loss: 29.8313, Recon: 20.3258, KL: 9.5055\n",
      "\n",
      "===== Epoch 383 =====\n"
     ]
    },
    {
     "name": "stderr",
     "output_type": "stream",
     "text": [
      "Epoch 383/500: 100%|██████████████████████████| 11/11 [00:00<00:00, 1244.63it/s]\n"
     ]
    },
    {
     "name": "stdout",
     "output_type": "stream",
     "text": [
      "Epoch 383, Loss: 29.8153, Recon: 20.3386, KL: 9.4767\n",
      "\n",
      "===== Epoch 384 =====\n"
     ]
    },
    {
     "name": "stderr",
     "output_type": "stream",
     "text": [
      "Epoch 384/500: 100%|██████████████████████████| 11/11 [00:00<00:00, 1210.26it/s]\n"
     ]
    },
    {
     "name": "stdout",
     "output_type": "stream",
     "text": [
      "Epoch 384, Loss: 29.6909, Recon: 20.2569, KL: 9.4341\n",
      "\n",
      "===== Epoch 385 =====\n"
     ]
    },
    {
     "name": "stderr",
     "output_type": "stream",
     "text": [
      "Epoch 385/500: 100%|██████████████████████████| 11/11 [00:00<00:00, 1209.59it/s]\n"
     ]
    },
    {
     "name": "stdout",
     "output_type": "stream",
     "text": [
      "Epoch 385, Loss: 30.1957, Recon: 20.8050, KL: 9.3907\n",
      "\n",
      "===== Epoch 386 =====\n"
     ]
    },
    {
     "name": "stderr",
     "output_type": "stream",
     "text": [
      "Epoch 386/500: 100%|██████████████████████████| 11/11 [00:00<00:00, 1188.52it/s]\n"
     ]
    },
    {
     "name": "stdout",
     "output_type": "stream",
     "text": [
      "Epoch 386, Loss: 29.8808, Recon: 20.4651, KL: 9.4157\n",
      "\n",
      "===== Epoch 387 =====\n"
     ]
    },
    {
     "name": "stderr",
     "output_type": "stream",
     "text": [
      "Epoch 387/500: 100%|██████████████████████████| 11/11 [00:00<00:00, 1223.45it/s]\n"
     ]
    },
    {
     "name": "stdout",
     "output_type": "stream",
     "text": [
      "Epoch 387, Loss: 29.7264, Recon: 20.2306, KL: 9.4958\n",
      "\n",
      "===== Epoch 388 =====\n"
     ]
    },
    {
     "name": "stderr",
     "output_type": "stream",
     "text": [
      "Epoch 388/500: 100%|██████████████████████████| 11/11 [00:00<00:00, 1215.07it/s]\n"
     ]
    },
    {
     "name": "stdout",
     "output_type": "stream",
     "text": [
      "Epoch 388, Loss: 29.8378, Recon: 20.3421, KL: 9.4957\n",
      "\n",
      "===== Epoch 389 =====\n"
     ]
    },
    {
     "name": "stderr",
     "output_type": "stream",
     "text": [
      "Epoch 389/500: 100%|██████████████████████████| 11/11 [00:00<00:00, 1226.44it/s]\n"
     ]
    },
    {
     "name": "stdout",
     "output_type": "stream",
     "text": [
      "Epoch 389, Loss: 29.8865, Recon: 20.3843, KL: 9.5022\n",
      "\n",
      "===== Epoch 390 =====\n"
     ]
    },
    {
     "name": "stderr",
     "output_type": "stream",
     "text": [
      "Epoch 390/500: 100%|██████████████████████████| 11/11 [00:00<00:00, 1233.19it/s]\n"
     ]
    },
    {
     "name": "stdout",
     "output_type": "stream",
     "text": [
      "Epoch 390, Loss: 29.9935, Recon: 20.4566, KL: 9.5369\n",
      "\n",
      "===== Epoch 391 =====\n"
     ]
    },
    {
     "name": "stderr",
     "output_type": "stream",
     "text": [
      "Epoch 391/500: 100%|██████████████████████████| 11/11 [00:00<00:00, 1230.30it/s]\n"
     ]
    },
    {
     "name": "stdout",
     "output_type": "stream",
     "text": [
      "Epoch 391, Loss: 29.6355, Recon: 20.0948, KL: 9.5407\n",
      "\n",
      "===== Epoch 392 =====\n"
     ]
    },
    {
     "name": "stderr",
     "output_type": "stream",
     "text": [
      "Epoch 392/500: 100%|██████████████████████████| 11/11 [00:00<00:00, 1217.63it/s]\n"
     ]
    },
    {
     "name": "stdout",
     "output_type": "stream",
     "text": [
      "Epoch 392, Loss: 29.9443, Recon: 20.4300, KL: 9.5142\n",
      "\n",
      "===== Epoch 393 =====\n"
     ]
    },
    {
     "name": "stderr",
     "output_type": "stream",
     "text": [
      "Epoch 393/500: 100%|██████████████████████████| 11/11 [00:00<00:00, 1200.09it/s]\n"
     ]
    },
    {
     "name": "stdout",
     "output_type": "stream",
     "text": [
      "Epoch 393, Loss: 29.8040, Recon: 20.2631, KL: 9.5409\n",
      "\n",
      "===== Epoch 394 =====\n"
     ]
    },
    {
     "name": "stderr",
     "output_type": "stream",
     "text": [
      "Epoch 394/500: 100%|██████████████████████████| 11/11 [00:00<00:00, 1212.39it/s]\n"
     ]
    },
    {
     "name": "stdout",
     "output_type": "stream",
     "text": [
      "Epoch 394, Loss: 29.5463, Recon: 20.0373, KL: 9.5091\n",
      "\n",
      "===== Epoch 395 =====\n"
     ]
    },
    {
     "name": "stderr",
     "output_type": "stream",
     "text": [
      "Epoch 395/500: 100%|██████████████████████████| 11/11 [00:00<00:00, 1229.18it/s]\n"
     ]
    },
    {
     "name": "stdout",
     "output_type": "stream",
     "text": [
      "Epoch 395, Loss: 29.5149, Recon: 20.0618, KL: 9.4531\n",
      "\n",
      "===== Epoch 396 =====\n"
     ]
    },
    {
     "name": "stderr",
     "output_type": "stream",
     "text": [
      "Epoch 396/500: 100%|██████████████████████████| 11/11 [00:00<00:00, 1215.74it/s]\n"
     ]
    },
    {
     "name": "stdout",
     "output_type": "stream",
     "text": [
      "Epoch 396, Loss: 29.7323, Recon: 20.2889, KL: 9.4435\n",
      "\n",
      "===== Epoch 397 =====\n"
     ]
    },
    {
     "name": "stderr",
     "output_type": "stream",
     "text": [
      "Epoch 397/500: 100%|██████████████████████████| 11/11 [00:00<00:00, 1228.23it/s]\n"
     ]
    },
    {
     "name": "stdout",
     "output_type": "stream",
     "text": [
      "Epoch 397, Loss: 29.5970, Recon: 20.1504, KL: 9.4465\n",
      "\n",
      "===== Epoch 398 =====\n"
     ]
    },
    {
     "name": "stderr",
     "output_type": "stream",
     "text": [
      "Epoch 398/500: 100%|██████████████████████████| 11/11 [00:00<00:00, 1208.92it/s]\n"
     ]
    },
    {
     "name": "stdout",
     "output_type": "stream",
     "text": [
      "Epoch 398, Loss: 29.4013, Recon: 19.9833, KL: 9.4180\n",
      "\n",
      "===== Epoch 399 =====\n"
     ]
    },
    {
     "name": "stderr",
     "output_type": "stream",
     "text": [
      "Epoch 399/500: 100%|██████████████████████████| 11/11 [00:00<00:00, 1201.90it/s]\n"
     ]
    },
    {
     "name": "stdout",
     "output_type": "stream",
     "text": [
      "Epoch 399, Loss: 29.5418, Recon: 20.1094, KL: 9.4324\n",
      "\n",
      "===== Epoch 400 =====\n"
     ]
    },
    {
     "name": "stderr",
     "output_type": "stream",
     "text": [
      "Epoch 400/500: 100%|██████████████████████████| 11/11 [00:00<00:00, 1234.84it/s]\n"
     ]
    },
    {
     "name": "stdout",
     "output_type": "stream",
     "text": [
      "Epoch 400, Loss: 29.6057, Recon: 20.1656, KL: 9.4401\n",
      "\n",
      "===== Epoch 401 =====\n"
     ]
    },
    {
     "name": "stderr",
     "output_type": "stream",
     "text": [
      "Epoch 401/500: 100%|██████████████████████████| 11/11 [00:00<00:00, 1220.98it/s]\n"
     ]
    },
    {
     "name": "stdout",
     "output_type": "stream",
     "text": [
      "Epoch 401, Loss: 29.6371, Recon: 20.1963, KL: 9.4408\n",
      "\n",
      "===== Epoch 402 =====\n"
     ]
    },
    {
     "name": "stderr",
     "output_type": "stream",
     "text": [
      "Epoch 402/500: 100%|██████████████████████████| 11/11 [00:00<00:00, 1220.69it/s]\n"
     ]
    },
    {
     "name": "stdout",
     "output_type": "stream",
     "text": [
      "Epoch 402, Loss: 29.3045, Recon: 19.8270, KL: 9.4775\n",
      "\n",
      "===== Epoch 403 =====\n"
     ]
    },
    {
     "name": "stderr",
     "output_type": "stream",
     "text": [
      "Epoch 403/500: 100%|██████████████████████████| 11/11 [00:00<00:00, 1228.10it/s]\n"
     ]
    },
    {
     "name": "stdout",
     "output_type": "stream",
     "text": [
      "Epoch 403, Loss: 29.4947, Recon: 20.0131, KL: 9.4816\n",
      "\n",
      "===== Epoch 404 =====\n"
     ]
    },
    {
     "name": "stderr",
     "output_type": "stream",
     "text": [
      "Epoch 404/500: 100%|██████████████████████████| 11/11 [00:00<00:00, 1214.94it/s]\n"
     ]
    },
    {
     "name": "stdout",
     "output_type": "stream",
     "text": [
      "Epoch 404, Loss: 29.4274, Recon: 19.9725, KL: 9.4549\n",
      "\n",
      "===== Epoch 405 =====\n"
     ]
    },
    {
     "name": "stderr",
     "output_type": "stream",
     "text": [
      "Epoch 405/500: 100%|██████████████████████████| 11/11 [00:00<00:00, 1229.18it/s]\n"
     ]
    },
    {
     "name": "stdout",
     "output_type": "stream",
     "text": [
      "Epoch 405, Loss: 29.4847, Recon: 20.0658, KL: 9.4189\n",
      "\n",
      "===== Epoch 406 =====\n"
     ]
    },
    {
     "name": "stderr",
     "output_type": "stream",
     "text": [
      "Epoch 406/500: 100%|██████████████████████████| 11/11 [00:00<00:00, 1195.42it/s]\n"
     ]
    },
    {
     "name": "stdout",
     "output_type": "stream",
     "text": [
      "Epoch 406, Loss: 29.3439, Recon: 19.9928, KL: 9.3512\n",
      "\n",
      "===== Epoch 407 =====\n"
     ]
    },
    {
     "name": "stderr",
     "output_type": "stream",
     "text": [
      "Epoch 407/500: 100%|██████████████████████████| 11/11 [00:00<00:00, 1148.98it/s]\n"
     ]
    },
    {
     "name": "stdout",
     "output_type": "stream",
     "text": [
      "Epoch 407, Loss: 29.2476, Recon: 19.8960, KL: 9.3516\n",
      "\n",
      "===== Epoch 408 =====\n"
     ]
    },
    {
     "name": "stderr",
     "output_type": "stream",
     "text": [
      "Epoch 408/500: 100%|██████████████████████████| 11/11 [00:00<00:00, 1215.20it/s]\n"
     ]
    },
    {
     "name": "stdout",
     "output_type": "stream",
     "text": [
      "Epoch 408, Loss: 29.5910, Recon: 20.2129, KL: 9.3780\n",
      "\n",
      "===== Epoch 409 =====\n"
     ]
    },
    {
     "name": "stderr",
     "output_type": "stream",
     "text": [
      "Epoch 409/500: 100%|██████████████████████████| 11/11 [00:00<00:00, 1193.85it/s]\n"
     ]
    },
    {
     "name": "stdout",
     "output_type": "stream",
     "text": [
      "Epoch 409, Loss: 29.4465, Recon: 20.0155, KL: 9.4310\n",
      "\n",
      "===== Epoch 410 =====\n"
     ]
    },
    {
     "name": "stderr",
     "output_type": "stream",
     "text": [
      "Epoch 410/500: 100%|██████████████████████████| 11/11 [00:00<00:00, 1228.69it/s]\n"
     ]
    },
    {
     "name": "stdout",
     "output_type": "stream",
     "text": [
      "Epoch 410, Loss: 29.2659, Recon: 19.8047, KL: 9.4612\n",
      "\n",
      "===== Epoch 411 =====\n"
     ]
    },
    {
     "name": "stderr",
     "output_type": "stream",
     "text": [
      "Epoch 411/500: 100%|██████████████████████████| 11/11 [00:00<00:00, 1220.89it/s]\n"
     ]
    },
    {
     "name": "stdout",
     "output_type": "stream",
     "text": [
      "Epoch 411, Loss: 29.3761, Recon: 19.9400, KL: 9.4361\n",
      "\n",
      "===== Epoch 412 =====\n"
     ]
    },
    {
     "name": "stderr",
     "output_type": "stream",
     "text": [
      "Epoch 412/500: 100%|██████████████████████████| 11/11 [00:00<00:00, 1211.02it/s]\n"
     ]
    },
    {
     "name": "stdout",
     "output_type": "stream",
     "text": [
      "Epoch 412, Loss: 29.2568, Recon: 19.8259, KL: 9.4309\n",
      "\n",
      "===== Epoch 413 =====\n"
     ]
    },
    {
     "name": "stderr",
     "output_type": "stream",
     "text": [
      "Epoch 413/500: 100%|██████████████████████████| 11/11 [00:00<00:00, 1185.23it/s]\n"
     ]
    },
    {
     "name": "stdout",
     "output_type": "stream",
     "text": [
      "Epoch 413, Loss: 29.4169, Recon: 19.9436, KL: 9.4734\n",
      "\n",
      "===== Epoch 414 =====\n"
     ]
    },
    {
     "name": "stderr",
     "output_type": "stream",
     "text": [
      "Epoch 414/500: 100%|██████████████████████████| 11/11 [00:00<00:00, 1179.23it/s]\n"
     ]
    },
    {
     "name": "stdout",
     "output_type": "stream",
     "text": [
      "Epoch 414, Loss: 29.0799, Recon: 19.6206, KL: 9.4593\n",
      "\n",
      "===== Epoch 415 =====\n"
     ]
    },
    {
     "name": "stderr",
     "output_type": "stream",
     "text": [
      "Epoch 415/500: 100%|██████████████████████████| 11/11 [00:00<00:00, 1205.64it/s]\n"
     ]
    },
    {
     "name": "stdout",
     "output_type": "stream",
     "text": [
      "Epoch 415, Loss: 29.1236, Recon: 19.7841, KL: 9.3395\n",
      "\n",
      "===== Epoch 416 =====\n"
     ]
    },
    {
     "name": "stderr",
     "output_type": "stream",
     "text": [
      "Epoch 416/500: 100%|██████████████████████████| 11/11 [00:00<00:00, 1217.47it/s]\n"
     ]
    },
    {
     "name": "stdout",
     "output_type": "stream",
     "text": [
      "Epoch 416, Loss: 29.3285, Recon: 19.9950, KL: 9.3335\n",
      "\n",
      "===== Epoch 417 =====\n"
     ]
    },
    {
     "name": "stderr",
     "output_type": "stream",
     "text": [
      "Epoch 417/500: 100%|██████████████████████████| 11/11 [00:00<00:00, 1227.81it/s]\n"
     ]
    },
    {
     "name": "stdout",
     "output_type": "stream",
     "text": [
      "Epoch 417, Loss: 29.1644, Recon: 19.7453, KL: 9.4191\n",
      "\n",
      "===== Epoch 418 =====\n"
     ]
    },
    {
     "name": "stderr",
     "output_type": "stream",
     "text": [
      "Epoch 418/500: 100%|██████████████████████████| 11/11 [00:00<00:00, 1215.20it/s]\n"
     ]
    },
    {
     "name": "stdout",
     "output_type": "stream",
     "text": [
      "Epoch 418, Loss: 29.0489, Recon: 19.6247, KL: 9.4242\n",
      "\n",
      "===== Epoch 419 =====\n"
     ]
    },
    {
     "name": "stderr",
     "output_type": "stream",
     "text": [
      "Epoch 419/500: 100%|██████████████████████████| 11/11 [00:00<00:00, 1203.62it/s]\n"
     ]
    },
    {
     "name": "stdout",
     "output_type": "stream",
     "text": [
      "Epoch 419, Loss: 29.1850, Recon: 19.8313, KL: 9.3537\n",
      "\n",
      "===== Epoch 420 =====\n"
     ]
    },
    {
     "name": "stderr",
     "output_type": "stream",
     "text": [
      "Epoch 420/500: 100%|██████████████████████████| 11/11 [00:00<00:00, 1220.21it/s]\n"
     ]
    },
    {
     "name": "stdout",
     "output_type": "stream",
     "text": [
      "Epoch 420, Loss: 29.2459, Recon: 19.9039, KL: 9.3420\n",
      "\n",
      "===== Epoch 421 =====\n"
     ]
    },
    {
     "name": "stderr",
     "output_type": "stream",
     "text": [
      "Epoch 421/500: 100%|██████████████████████████| 11/11 [00:00<00:00, 1212.23it/s]\n"
     ]
    },
    {
     "name": "stdout",
     "output_type": "stream",
     "text": [
      "Epoch 421, Loss: 29.2661, Recon: 19.8638, KL: 9.4022\n",
      "\n",
      "===== Epoch 422 =====\n"
     ]
    },
    {
     "name": "stderr",
     "output_type": "stream",
     "text": [
      "Epoch 422/500: 100%|██████████████████████████| 11/11 [00:00<00:00, 1237.19it/s]\n"
     ]
    },
    {
     "name": "stdout",
     "output_type": "stream",
     "text": [
      "Epoch 422, Loss: 29.0597, Recon: 19.6404, KL: 9.4192\n",
      "\n",
      "===== Epoch 423 =====\n"
     ]
    },
    {
     "name": "stderr",
     "output_type": "stream",
     "text": [
      "Epoch 423/500: 100%|██████████████████████████| 11/11 [00:00<00:00, 1211.08it/s]\n"
     ]
    },
    {
     "name": "stdout",
     "output_type": "stream",
     "text": [
      "Epoch 423, Loss: 28.8591, Recon: 19.4771, KL: 9.3820\n",
      "\n",
      "===== Epoch 424 =====\n"
     ]
    },
    {
     "name": "stderr",
     "output_type": "stream",
     "text": [
      "Epoch 424/500: 100%|██████████████████████████| 11/11 [00:00<00:00, 1232.60it/s]\n"
     ]
    },
    {
     "name": "stdout",
     "output_type": "stream",
     "text": [
      "Epoch 424, Loss: 29.1722, Recon: 19.8827, KL: 9.2895\n",
      "\n",
      "===== Epoch 425 =====\n"
     ]
    },
    {
     "name": "stderr",
     "output_type": "stream",
     "text": [
      "Epoch 425/500: 100%|██████████████████████████| 11/11 [00:00<00:00, 1207.31it/s]\n"
     ]
    },
    {
     "name": "stdout",
     "output_type": "stream",
     "text": [
      "Epoch 425, Loss: 29.0843, Recon: 19.7800, KL: 9.3043\n",
      "\n",
      "===== Epoch 426 =====\n"
     ]
    },
    {
     "name": "stderr",
     "output_type": "stream",
     "text": [
      "Epoch 426/500: 100%|██████████████████████████| 11/11 [00:00<00:00, 1220.47it/s]\n"
     ]
    },
    {
     "name": "stdout",
     "output_type": "stream",
     "text": [
      "Epoch 426, Loss: 28.9660, Recon: 19.6415, KL: 9.3245\n",
      "\n",
      "===== Epoch 427 =====\n"
     ]
    },
    {
     "name": "stderr",
     "output_type": "stream",
     "text": [
      "Epoch 427/500: 100%|██████████████████████████| 11/11 [00:00<00:00, 1216.80it/s]\n"
     ]
    },
    {
     "name": "stdout",
     "output_type": "stream",
     "text": [
      "Epoch 427, Loss: 29.2209, Recon: 19.8676, KL: 9.3534\n",
      "\n",
      "===== Epoch 428 =====\n"
     ]
    },
    {
     "name": "stderr",
     "output_type": "stream",
     "text": [
      "Epoch 428/500: 100%|██████████████████████████| 11/11 [00:00<00:00, 1175.47it/s]\n"
     ]
    },
    {
     "name": "stdout",
     "output_type": "stream",
     "text": [
      "Epoch 428, Loss: 28.7514, Recon: 19.4002, KL: 9.3511\n",
      "\n",
      "===== Epoch 429 =====\n"
     ]
    },
    {
     "name": "stderr",
     "output_type": "stream",
     "text": [
      "Epoch 429/500: 100%|██████████████████████████| 11/11 [00:00<00:00, 1180.89it/s]\n"
     ]
    },
    {
     "name": "stdout",
     "output_type": "stream",
     "text": [
      "Epoch 429, Loss: 28.9751, Recon: 19.6523, KL: 9.3228\n",
      "\n",
      "===== Epoch 430 =====\n"
     ]
    },
    {
     "name": "stderr",
     "output_type": "stream",
     "text": [
      "Epoch 430/500: 100%|██████████████████████████| 11/11 [00:00<00:00, 1171.09it/s]\n"
     ]
    },
    {
     "name": "stdout",
     "output_type": "stream",
     "text": [
      "Epoch 430, Loss: 28.7462, Recon: 19.4203, KL: 9.3260\n",
      "\n",
      "===== Epoch 431 =====\n"
     ]
    },
    {
     "name": "stderr",
     "output_type": "stream",
     "text": [
      "Epoch 431/500: 100%|██████████████████████████| 11/11 [00:00<00:00, 1219.82it/s]\n"
     ]
    },
    {
     "name": "stdout",
     "output_type": "stream",
     "text": [
      "Epoch 431, Loss: 28.9342, Recon: 19.6345, KL: 9.2997\n",
      "\n",
      "===== Epoch 432 =====\n"
     ]
    },
    {
     "name": "stderr",
     "output_type": "stream",
     "text": [
      "Epoch 432/500: 100%|██████████████████████████| 11/11 [00:00<00:00, 1221.53it/s]\n"
     ]
    },
    {
     "name": "stdout",
     "output_type": "stream",
     "text": [
      "Epoch 432, Loss: 28.9722, Recon: 19.7064, KL: 9.2658\n",
      "\n",
      "===== Epoch 433 =====\n"
     ]
    },
    {
     "name": "stderr",
     "output_type": "stream",
     "text": [
      "Epoch 433/500: 100%|██████████████████████████| 11/11 [00:00<00:00, 1227.51it/s]\n"
     ]
    },
    {
     "name": "stdout",
     "output_type": "stream",
     "text": [
      "Epoch 433, Loss: 28.9960, Recon: 19.7088, KL: 9.2872\n",
      "\n",
      "===== Epoch 434 =====\n"
     ]
    },
    {
     "name": "stderr",
     "output_type": "stream",
     "text": [
      "Epoch 434/500: 100%|██████████████████████████| 11/11 [00:00<00:00, 1208.92it/s]\n"
     ]
    },
    {
     "name": "stdout",
     "output_type": "stream",
     "text": [
      "Epoch 434, Loss: 29.0345, Recon: 19.6995, KL: 9.3349\n",
      "\n",
      "===== Epoch 435 =====\n"
     ]
    },
    {
     "name": "stderr",
     "output_type": "stream",
     "text": [
      "Epoch 435/500: 100%|██████████████████████████| 11/11 [00:00<00:00, 1231.54it/s]\n"
     ]
    },
    {
     "name": "stdout",
     "output_type": "stream",
     "text": [
      "Epoch 435, Loss: 29.0214, Recon: 19.6412, KL: 9.3802\n",
      "\n",
      "===== Epoch 436 =====\n"
     ]
    },
    {
     "name": "stderr",
     "output_type": "stream",
     "text": [
      "Epoch 436/500: 100%|██████████████████████████| 11/11 [00:00<00:00, 1212.67it/s]\n"
     ]
    },
    {
     "name": "stdout",
     "output_type": "stream",
     "text": [
      "Epoch 436, Loss: 28.8444, Recon: 19.4369, KL: 9.4075\n",
      "\n",
      "===== Epoch 437 =====\n"
     ]
    },
    {
     "name": "stderr",
     "output_type": "stream",
     "text": [
      "Epoch 437/500: 100%|██████████████████████████| 11/11 [00:00<00:00, 1183.56it/s]\n"
     ]
    },
    {
     "name": "stdout",
     "output_type": "stream",
     "text": [
      "Epoch 437, Loss: 29.0575, Recon: 19.6399, KL: 9.4176\n",
      "\n",
      "===== Epoch 438 =====\n"
     ]
    },
    {
     "name": "stderr",
     "output_type": "stream",
     "text": [
      "Epoch 438/500: 100%|██████████████████████████| 11/11 [00:00<00:00, 1193.44it/s]\n"
     ]
    },
    {
     "name": "stdout",
     "output_type": "stream",
     "text": [
      "Epoch 438, Loss: 28.9636, Recon: 19.5680, KL: 9.3956\n",
      "\n",
      "===== Epoch 439 =====\n"
     ]
    },
    {
     "name": "stderr",
     "output_type": "stream",
     "text": [
      "Epoch 439/500: 100%|██████████████████████████| 11/11 [00:00<00:00, 1216.12it/s]\n"
     ]
    },
    {
     "name": "stdout",
     "output_type": "stream",
     "text": [
      "Epoch 439, Loss: 28.8117, Recon: 19.4019, KL: 9.4098\n",
      "\n",
      "===== Epoch 440 =====\n"
     ]
    },
    {
     "name": "stderr",
     "output_type": "stream",
     "text": [
      "Epoch 440/500: 100%|██████████████████████████| 11/11 [00:00<00:00, 1185.75it/s]\n"
     ]
    },
    {
     "name": "stdout",
     "output_type": "stream",
     "text": [
      "Epoch 440, Loss: 28.9660, Recon: 19.5797, KL: 9.3863\n",
      "\n",
      "===== Epoch 441 =====\n"
     ]
    },
    {
     "name": "stderr",
     "output_type": "stream",
     "text": [
      "Epoch 441/500: 100%|██████████████████████████| 11/11 [00:00<00:00, 1224.42it/s]\n"
     ]
    },
    {
     "name": "stdout",
     "output_type": "stream",
     "text": [
      "Epoch 441, Loss: 28.7445, Recon: 19.3765, KL: 9.3680\n",
      "\n",
      "===== Epoch 442 =====\n"
     ]
    },
    {
     "name": "stderr",
     "output_type": "stream",
     "text": [
      "Epoch 442/500: 100%|██████████████████████████| 11/11 [00:00<00:00, 1194.09it/s]\n"
     ]
    },
    {
     "name": "stdout",
     "output_type": "stream",
     "text": [
      "Epoch 442, Loss: 28.8040, Recon: 19.4299, KL: 9.3740\n",
      "\n",
      "===== Epoch 443 =====\n"
     ]
    },
    {
     "name": "stderr",
     "output_type": "stream",
     "text": [
      "Epoch 443/500: 100%|██████████████████████████| 11/11 [00:00<00:00, 1240.45it/s]\n"
     ]
    },
    {
     "name": "stdout",
     "output_type": "stream",
     "text": [
      "Epoch 443, Loss: 28.6460, Recon: 19.3100, KL: 9.3360\n",
      "\n",
      "===== Epoch 444 =====\n"
     ]
    },
    {
     "name": "stderr",
     "output_type": "stream",
     "text": [
      "Epoch 444/500: 100%|██████████████████████████| 11/11 [00:00<00:00, 1230.30it/s]\n"
     ]
    },
    {
     "name": "stdout",
     "output_type": "stream",
     "text": [
      "Epoch 444, Loss: 28.7428, Recon: 19.4055, KL: 9.3373\n",
      "\n",
      "===== Epoch 445 =====\n"
     ]
    },
    {
     "name": "stderr",
     "output_type": "stream",
     "text": [
      "Epoch 445/500: 100%|██████████████████████████| 11/11 [00:00<00:00, 1230.00it/s]\n"
     ]
    },
    {
     "name": "stdout",
     "output_type": "stream",
     "text": [
      "Epoch 445, Loss: 28.3915, Recon: 19.0516, KL: 9.3399\n",
      "\n",
      "===== Epoch 446 =====\n"
     ]
    },
    {
     "name": "stderr",
     "output_type": "stream",
     "text": [
      "Epoch 446/500: 100%|██████████████████████████| 11/11 [00:00<00:00, 1238.75it/s]\n"
     ]
    },
    {
     "name": "stdout",
     "output_type": "stream",
     "text": [
      "Epoch 446, Loss: 28.8405, Recon: 19.5566, KL: 9.2839\n",
      "\n",
      "===== Epoch 447 =====\n"
     ]
    },
    {
     "name": "stderr",
     "output_type": "stream",
     "text": [
      "Epoch 447/500: 100%|██████████████████████████| 11/11 [00:00<00:00, 1241.69it/s]\n"
     ]
    },
    {
     "name": "stdout",
     "output_type": "stream",
     "text": [
      "Epoch 447, Loss: 28.9727, Recon: 19.6667, KL: 9.3059\n",
      "\n",
      "===== Epoch 448 =====\n"
     ]
    },
    {
     "name": "stderr",
     "output_type": "stream",
     "text": [
      "Epoch 448/500: 100%|██████████████████████████| 11/11 [00:00<00:00, 1220.21it/s]\n"
     ]
    },
    {
     "name": "stdout",
     "output_type": "stream",
     "text": [
      "Epoch 448, Loss: 28.7164, Recon: 19.3463, KL: 9.3700\n",
      "\n",
      "===== Epoch 449 =====\n"
     ]
    },
    {
     "name": "stderr",
     "output_type": "stream",
     "text": [
      "Epoch 449/500: 100%|██████████████████████████| 11/11 [00:00<00:00, 1197.25it/s]\n"
     ]
    },
    {
     "name": "stdout",
     "output_type": "stream",
     "text": [
      "Epoch 449, Loss: 28.6948, Recon: 19.3487, KL: 9.3462\n",
      "\n",
      "===== Epoch 450 =====\n"
     ]
    },
    {
     "name": "stderr",
     "output_type": "stream",
     "text": [
      "Epoch 450/500: 100%|██████████████████████████| 11/11 [00:00<00:00, 1184.47it/s]\n"
     ]
    },
    {
     "name": "stdout",
     "output_type": "stream",
     "text": [
      "Epoch 450, Loss: 28.4523, Recon: 19.0995, KL: 9.3528\n",
      "\n",
      "===== Epoch 451 =====\n"
     ]
    },
    {
     "name": "stderr",
     "output_type": "stream",
     "text": [
      "Epoch 451/500: 100%|██████████████████████████| 11/11 [00:00<00:00, 1182.68it/s]\n"
     ]
    },
    {
     "name": "stdout",
     "output_type": "stream",
     "text": [
      "Epoch 451, Loss: 28.6662, Recon: 19.3368, KL: 9.3294\n",
      "\n",
      "===== Epoch 452 =====\n"
     ]
    },
    {
     "name": "stderr",
     "output_type": "stream",
     "text": [
      "Epoch 452/500: 100%|██████████████████████████| 11/11 [00:00<00:00, 1176.49it/s]\n"
     ]
    },
    {
     "name": "stdout",
     "output_type": "stream",
     "text": [
      "Epoch 452, Loss: 28.6486, Recon: 19.3320, KL: 9.3166\n",
      "\n",
      "===== Epoch 453 =====\n"
     ]
    },
    {
     "name": "stderr",
     "output_type": "stream",
     "text": [
      "Epoch 453/500: 100%|██████████████████████████| 11/11 [00:00<00:00, 1142.64it/s]\n"
     ]
    },
    {
     "name": "stdout",
     "output_type": "stream",
     "text": [
      "Epoch 453, Loss: 28.6582, Recon: 19.3687, KL: 9.2895\n",
      "\n",
      "===== Epoch 454 =====\n"
     ]
    },
    {
     "name": "stderr",
     "output_type": "stream",
     "text": [
      "Epoch 454/500: 100%|██████████████████████████| 11/11 [00:00<00:00, 1183.04it/s]\n"
     ]
    },
    {
     "name": "stdout",
     "output_type": "stream",
     "text": [
      "Epoch 454, Loss: 28.8174, Recon: 19.5212, KL: 9.2962\n",
      "\n",
      "===== Epoch 455 =====\n"
     ]
    },
    {
     "name": "stderr",
     "output_type": "stream",
     "text": [
      "Epoch 455/500: 100%|██████████████████████████| 11/11 [00:00<00:00, 1180.74it/s]\n"
     ]
    },
    {
     "name": "stdout",
     "output_type": "stream",
     "text": [
      "Epoch 455, Loss: 28.6467, Recon: 19.3233, KL: 9.3234\n",
      "\n",
      "===== Epoch 456 =====\n"
     ]
    },
    {
     "name": "stderr",
     "output_type": "stream",
     "text": [
      "Epoch 456/500: 100%|██████████████████████████| 11/11 [00:00<00:00, 1184.47it/s]\n"
     ]
    },
    {
     "name": "stdout",
     "output_type": "stream",
     "text": [
      "Epoch 456, Loss: 28.4896, Recon: 19.1057, KL: 9.3839\n",
      "\n",
      "===== Epoch 457 =====\n"
     ]
    },
    {
     "name": "stderr",
     "output_type": "stream",
     "text": [
      "Epoch 457/500: 100%|██████████████████████████| 11/11 [00:00<00:00, 1211.46it/s]\n"
     ]
    },
    {
     "name": "stdout",
     "output_type": "stream",
     "text": [
      "Epoch 457, Loss: 28.6882, Recon: 19.3151, KL: 9.3732\n",
      "\n",
      "===== Epoch 458 =====\n"
     ]
    },
    {
     "name": "stderr",
     "output_type": "stream",
     "text": [
      "Epoch 458/500: 100%|██████████████████████████| 11/11 [00:00<00:00, 1234.97it/s]\n"
     ]
    },
    {
     "name": "stdout",
     "output_type": "stream",
     "text": [
      "Epoch 458, Loss: 28.6804, Recon: 19.3482, KL: 9.3322\n",
      "\n",
      "===== Epoch 459 =====\n"
     ]
    },
    {
     "name": "stderr",
     "output_type": "stream",
     "text": [
      "Epoch 459/500: 100%|██████████████████████████| 11/11 [00:00<00:00, 1231.84it/s]\n"
     ]
    },
    {
     "name": "stdout",
     "output_type": "stream",
     "text": [
      "Epoch 459, Loss: 28.6332, Recon: 19.3312, KL: 9.3020\n",
      "\n",
      "===== Epoch 460 =====\n"
     ]
    },
    {
     "name": "stderr",
     "output_type": "stream",
     "text": [
      "Epoch 460/500: 100%|██████████████████████████| 11/11 [00:00<00:00, 1260.00it/s]\n"
     ]
    },
    {
     "name": "stdout",
     "output_type": "stream",
     "text": [
      "Epoch 460, Loss: 28.4129, Recon: 19.0269, KL: 9.3860\n",
      "\n",
      "===== Epoch 461 =====\n"
     ]
    },
    {
     "name": "stderr",
     "output_type": "stream",
     "text": [
      "Epoch 461/500: 100%|██████████████████████████| 11/11 [00:00<00:00, 1156.93it/s]\n"
     ]
    },
    {
     "name": "stdout",
     "output_type": "stream",
     "text": [
      "Epoch 461, Loss: 28.6028, Recon: 19.2523, KL: 9.3506\n",
      "\n",
      "===== Epoch 462 =====\n"
     ]
    },
    {
     "name": "stderr",
     "output_type": "stream",
     "text": [
      "Epoch 462/500: 100%|██████████████████████████| 11/11 [00:00<00:00, 1164.29it/s]\n"
     ]
    },
    {
     "name": "stdout",
     "output_type": "stream",
     "text": [
      "Epoch 462, Loss: 28.5808, Recon: 19.2254, KL: 9.3554\n",
      "\n",
      "===== Epoch 463 =====\n"
     ]
    },
    {
     "name": "stderr",
     "output_type": "stream",
     "text": [
      "Epoch 463/500: 100%|██████████████████████████| 11/11 [00:00<00:00, 1171.33it/s]\n"
     ]
    },
    {
     "name": "stdout",
     "output_type": "stream",
     "text": [
      "Epoch 463, Loss: 28.4467, Recon: 19.0727, KL: 9.3740\n",
      "\n",
      "===== Epoch 464 =====\n"
     ]
    },
    {
     "name": "stderr",
     "output_type": "stream",
     "text": [
      "Epoch 464/500: 100%|██████████████████████████| 11/11 [00:00<00:00, 1189.32it/s]\n"
     ]
    },
    {
     "name": "stdout",
     "output_type": "stream",
     "text": [
      "Epoch 464, Loss: 28.4821, Recon: 19.1640, KL: 9.3181\n",
      "\n",
      "===== Epoch 465 =====\n"
     ]
    },
    {
     "name": "stderr",
     "output_type": "stream",
     "text": [
      "Epoch 465/500: 100%|██████████████████████████| 11/11 [00:00<00:00, 1164.50it/s]\n"
     ]
    },
    {
     "name": "stdout",
     "output_type": "stream",
     "text": [
      "Epoch 465, Loss: 28.4734, Recon: 19.1180, KL: 9.3554\n",
      "\n",
      "===== Epoch 466 =====\n"
     ]
    },
    {
     "name": "stderr",
     "output_type": "stream",
     "text": [
      "Epoch 466/500: 100%|██████████████████████████| 11/11 [00:00<00:00, 1177.96it/s]\n"
     ]
    },
    {
     "name": "stdout",
     "output_type": "stream",
     "text": [
      "Epoch 466, Loss: 28.4181, Recon: 19.0650, KL: 9.3530\n",
      "\n",
      "===== Epoch 467 =====\n"
     ]
    },
    {
     "name": "stderr",
     "output_type": "stream",
     "text": [
      "Epoch 467/500: 100%|██████████████████████████| 11/11 [00:00<00:00, 1212.96it/s]\n"
     ]
    },
    {
     "name": "stdout",
     "output_type": "stream",
     "text": [
      "Epoch 467, Loss: 28.3311, Recon: 18.9843, KL: 9.3467\n",
      "\n",
      "===== Epoch 468 =====\n"
     ]
    },
    {
     "name": "stderr",
     "output_type": "stream",
     "text": [
      "Epoch 468/500: 100%|██████████████████████████| 11/11 [00:00<00:00, 1210.13it/s]\n"
     ]
    },
    {
     "name": "stdout",
     "output_type": "stream",
     "text": [
      "Epoch 468, Loss: 28.4986, Recon: 19.1727, KL: 9.3259\n",
      "\n",
      "===== Epoch 469 =====\n"
     ]
    },
    {
     "name": "stderr",
     "output_type": "stream",
     "text": [
      "Epoch 469/500: 100%|██████████████████████████| 11/11 [00:00<00:00, 1188.95it/s]\n"
     ]
    },
    {
     "name": "stdout",
     "output_type": "stream",
     "text": [
      "Epoch 469, Loss: 28.6098, Recon: 19.2535, KL: 9.3563\n",
      "\n",
      "===== Epoch 470 =====\n"
     ]
    },
    {
     "name": "stderr",
     "output_type": "stream",
     "text": [
      "Epoch 470/500: 100%|██████████████████████████| 11/11 [00:00<00:00, 1197.35it/s]\n"
     ]
    },
    {
     "name": "stdout",
     "output_type": "stream",
     "text": [
      "Epoch 470, Loss: 28.5266, Recon: 19.1450, KL: 9.3815\n",
      "\n",
      "===== Epoch 471 =====\n"
     ]
    },
    {
     "name": "stderr",
     "output_type": "stream",
     "text": [
      "Epoch 471/500: 100%|██████████████████████████| 11/11 [00:00<00:00, 1232.60it/s]\n"
     ]
    },
    {
     "name": "stdout",
     "output_type": "stream",
     "text": [
      "Epoch 471, Loss: 28.1864, Recon: 18.7753, KL: 9.4110\n",
      "\n",
      "===== Epoch 472 =====\n"
     ]
    },
    {
     "name": "stderr",
     "output_type": "stream",
     "text": [
      "Epoch 472/500: 100%|██████████████████████████| 11/11 [00:00<00:00, 1209.49it/s]\n"
     ]
    },
    {
     "name": "stdout",
     "output_type": "stream",
     "text": [
      "Epoch 472, Loss: 28.1491, Recon: 18.8254, KL: 9.3237\n",
      "\n",
      "===== Epoch 473 =====\n"
     ]
    },
    {
     "name": "stderr",
     "output_type": "stream",
     "text": [
      "Epoch 473/500: 100%|██████████████████████████| 11/11 [00:00<00:00, 1152.94it/s]\n"
     ]
    },
    {
     "name": "stdout",
     "output_type": "stream",
     "text": [
      "Epoch 473, Loss: 28.4400, Recon: 19.1506, KL: 9.2893\n",
      "\n",
      "===== Epoch 474 =====\n"
     ]
    },
    {
     "name": "stderr",
     "output_type": "stream",
     "text": [
      "Epoch 474/500: 100%|██████████████████████████| 11/11 [00:00<00:00, 1220.21it/s]\n"
     ]
    },
    {
     "name": "stdout",
     "output_type": "stream",
     "text": [
      "Epoch 474, Loss: 28.3750, Recon: 19.0063, KL: 9.3687\n",
      "\n",
      "===== Epoch 475 =====\n"
     ]
    },
    {
     "name": "stderr",
     "output_type": "stream",
     "text": [
      "Epoch 475/500: 100%|██████████████████████████| 11/11 [00:00<00:00, 1181.01it/s]\n"
     ]
    },
    {
     "name": "stdout",
     "output_type": "stream",
     "text": [
      "Epoch 475, Loss: 28.5143, Recon: 19.1809, KL: 9.3334\n",
      "\n",
      "===== Epoch 476 =====\n"
     ]
    },
    {
     "name": "stderr",
     "output_type": "stream",
     "text": [
      "Epoch 476/500: 100%|██████████████████████████| 11/11 [00:00<00:00, 1216.93it/s]\n"
     ]
    },
    {
     "name": "stdout",
     "output_type": "stream",
     "text": [
      "Epoch 476, Loss: 28.2982, Recon: 18.9301, KL: 9.3682\n",
      "\n",
      "===== Epoch 477 =====\n"
     ]
    },
    {
     "name": "stderr",
     "output_type": "stream",
     "text": [
      "Epoch 477/500: 100%|██████████████████████████| 11/11 [00:00<00:00, 1223.96it/s]\n"
     ]
    },
    {
     "name": "stdout",
     "output_type": "stream",
     "text": [
      "Epoch 477, Loss: 28.1572, Recon: 18.7488, KL: 9.4085\n",
      "\n",
      "===== Epoch 478 =====\n"
     ]
    },
    {
     "name": "stderr",
     "output_type": "stream",
     "text": [
      "Epoch 478/500: 100%|██████████████████████████| 11/11 [00:00<00:00, 1112.71it/s]\n"
     ]
    },
    {
     "name": "stdout",
     "output_type": "stream",
     "text": [
      "Epoch 478, Loss: 28.1663, Recon: 18.8385, KL: 9.3278\n",
      "\n",
      "===== Epoch 479 =====\n"
     ]
    },
    {
     "name": "stderr",
     "output_type": "stream",
     "text": [
      "Epoch 479/500: 100%|██████████████████████████| 11/11 [00:00<00:00, 1183.40it/s]\n"
     ]
    },
    {
     "name": "stdout",
     "output_type": "stream",
     "text": [
      "Epoch 479, Loss: 28.0961, Recon: 18.8269, KL: 9.2692\n",
      "\n",
      "===== Epoch 480 =====\n"
     ]
    },
    {
     "name": "stderr",
     "output_type": "stream",
     "text": [
      "Epoch 480/500: 100%|██████████████████████████| 11/11 [00:00<00:00, 1176.19it/s]\n"
     ]
    },
    {
     "name": "stdout",
     "output_type": "stream",
     "text": [
      "Epoch 480, Loss: 28.2964, Recon: 19.0049, KL: 9.2915\n",
      "\n",
      "===== Epoch 481 =====\n"
     ]
    },
    {
     "name": "stderr",
     "output_type": "stream",
     "text": [
      "Epoch 481/500: 100%|██████████████████████████| 11/11 [00:00<00:00, 1213.47it/s]\n"
     ]
    },
    {
     "name": "stdout",
     "output_type": "stream",
     "text": [
      "Epoch 481, Loss: 28.1898, Recon: 18.8970, KL: 9.2928\n",
      "\n",
      "===== Epoch 482 =====\n"
     ]
    },
    {
     "name": "stderr",
     "output_type": "stream",
     "text": [
      "Epoch 482/500: 100%|██████████████████████████| 11/11 [00:00<00:00, 1206.27it/s]\n"
     ]
    },
    {
     "name": "stdout",
     "output_type": "stream",
     "text": [
      "Epoch 482, Loss: 28.2860, Recon: 18.9681, KL: 9.3179\n",
      "\n",
      "===== Epoch 483 =====\n"
     ]
    },
    {
     "name": "stderr",
     "output_type": "stream",
     "text": [
      "Epoch 483/500: 100%|██████████████████████████| 11/11 [00:00<00:00, 1214.52it/s]\n"
     ]
    },
    {
     "name": "stdout",
     "output_type": "stream",
     "text": [
      "Epoch 483, Loss: 28.2346, Recon: 18.8977, KL: 9.3369\n",
      "\n",
      "===== Epoch 484 =====\n"
     ]
    },
    {
     "name": "stderr",
     "output_type": "stream",
     "text": [
      "Epoch 484/500: 100%|██████████████████████████| 11/11 [00:00<00:00, 1205.51it/s]\n"
     ]
    },
    {
     "name": "stdout",
     "output_type": "stream",
     "text": [
      "Epoch 484, Loss: 28.2542, Recon: 18.9167, KL: 9.3375\n",
      "\n",
      "===== Epoch 485 =====\n"
     ]
    },
    {
     "name": "stderr",
     "output_type": "stream",
     "text": [
      "Epoch 485/500: 100%|██████████████████████████| 11/11 [00:00<00:00, 1126.02it/s]\n"
     ]
    },
    {
     "name": "stdout",
     "output_type": "stream",
     "text": [
      "Epoch 485, Loss: 28.0272, Recon: 18.6724, KL: 9.3549\n",
      "\n",
      "===== Epoch 486 =====\n"
     ]
    },
    {
     "name": "stderr",
     "output_type": "stream",
     "text": [
      "Epoch 486/500: 100%|██████████████████████████| 11/11 [00:00<00:00, 1125.66it/s]\n"
     ]
    },
    {
     "name": "stdout",
     "output_type": "stream",
     "text": [
      "Epoch 486, Loss: 28.0991, Recon: 18.7868, KL: 9.3123\n",
      "\n",
      "===== Epoch 487 =====\n"
     ]
    },
    {
     "name": "stderr",
     "output_type": "stream",
     "text": [
      "Epoch 487/500: 100%|██████████████████████████| 11/11 [00:00<00:00, 1179.86it/s]\n"
     ]
    },
    {
     "name": "stdout",
     "output_type": "stream",
     "text": [
      "Epoch 487, Loss: 28.1482, Recon: 18.8781, KL: 9.2701\n",
      "\n",
      "===== Epoch 488 =====\n"
     ]
    },
    {
     "name": "stderr",
     "output_type": "stream",
     "text": [
      "Epoch 488/500: 100%|██████████████████████████| 11/11 [00:00<00:00, 1167.89it/s]\n"
     ]
    },
    {
     "name": "stdout",
     "output_type": "stream",
     "text": [
      "Epoch 488, Loss: 28.2694, Recon: 19.0203, KL: 9.2491\n",
      "\n",
      "===== Epoch 489 =====\n"
     ]
    },
    {
     "name": "stderr",
     "output_type": "stream",
     "text": [
      "Epoch 489/500: 100%|██████████████████████████| 11/11 [00:00<00:00, 1227.68it/s]\n"
     ]
    },
    {
     "name": "stdout",
     "output_type": "stream",
     "text": [
      "Epoch 489, Loss: 28.1743, Recon: 18.8910, KL: 9.2833\n",
      "\n",
      "===== Epoch 490 =====\n"
     ]
    },
    {
     "name": "stderr",
     "output_type": "stream",
     "text": [
      "Epoch 490/500: 100%|██████████████████████████| 11/11 [00:00<00:00, 1219.66it/s]\n"
     ]
    },
    {
     "name": "stdout",
     "output_type": "stream",
     "text": [
      "Epoch 490, Loss: 28.2378, Recon: 18.8755, KL: 9.3622\n",
      "\n",
      "===== Epoch 491 =====\n"
     ]
    },
    {
     "name": "stderr",
     "output_type": "stream",
     "text": [
      "Epoch 491/500: 100%|██████████████████████████| 11/11 [00:00<00:00, 1216.99it/s]\n"
     ]
    },
    {
     "name": "stdout",
     "output_type": "stream",
     "text": [
      "Epoch 491, Loss: 28.3062, Recon: 18.9296, KL: 9.3766\n",
      "\n",
      "===== Epoch 492 =====\n"
     ]
    },
    {
     "name": "stderr",
     "output_type": "stream",
     "text": [
      "Epoch 492/500: 100%|██████████████████████████| 11/11 [00:00<00:00, 1233.82it/s]\n"
     ]
    },
    {
     "name": "stdout",
     "output_type": "stream",
     "text": [
      "Epoch 492, Loss: 27.8728, Recon: 18.5288, KL: 9.3441\n",
      "\n",
      "===== Epoch 493 =====\n"
     ]
    },
    {
     "name": "stderr",
     "output_type": "stream",
     "text": [
      "Epoch 493/500: 100%|██████████████████████████| 11/11 [00:00<00:00, 1205.32it/s]\n"
     ]
    },
    {
     "name": "stdout",
     "output_type": "stream",
     "text": [
      "Epoch 493, Loss: 28.0592, Recon: 18.7273, KL: 9.3319\n",
      "\n",
      "===== Epoch 494 =====\n"
     ]
    },
    {
     "name": "stderr",
     "output_type": "stream",
     "text": [
      "Epoch 494/500: 100%|██████████████████████████| 11/11 [00:00<00:00, 1197.59it/s]\n"
     ]
    },
    {
     "name": "stdout",
     "output_type": "stream",
     "text": [
      "Epoch 494, Loss: 28.0730, Recon: 18.7893, KL: 9.2836\n",
      "\n",
      "===== Epoch 495 =====\n"
     ]
    },
    {
     "name": "stderr",
     "output_type": "stream",
     "text": [
      "Epoch 495/500: 100%|██████████████████████████| 11/11 [00:00<00:00, 1202.75it/s]\n"
     ]
    },
    {
     "name": "stdout",
     "output_type": "stream",
     "text": [
      "Epoch 495, Loss: 28.3682, Recon: 19.0120, KL: 9.3562\n",
      "\n",
      "===== Epoch 496 =====\n"
     ]
    },
    {
     "name": "stderr",
     "output_type": "stream",
     "text": [
      "Epoch 496/500: 100%|██████████████████████████| 11/11 [00:00<00:00, 1185.35it/s]\n"
     ]
    },
    {
     "name": "stdout",
     "output_type": "stream",
     "text": [
      "Epoch 496, Loss: 28.0211, Recon: 18.6773, KL: 9.3438\n",
      "\n",
      "===== Epoch 497 =====\n"
     ]
    },
    {
     "name": "stderr",
     "output_type": "stream",
     "text": [
      "Epoch 497/500: 100%|██████████████████████████| 11/11 [00:00<00:00, 1228.33it/s]\n"
     ]
    },
    {
     "name": "stdout",
     "output_type": "stream",
     "text": [
      "Epoch 497, Loss: 27.9259, Recon: 18.6149, KL: 9.3111\n",
      "\n",
      "===== Epoch 498 =====\n"
     ]
    },
    {
     "name": "stderr",
     "output_type": "stream",
     "text": [
      "Epoch 498/500: 100%|██████████████████████████| 11/11 [00:00<00:00, 1179.98it/s]\n"
     ]
    },
    {
     "name": "stdout",
     "output_type": "stream",
     "text": [
      "Epoch 498, Loss: 28.0591, Recon: 18.7165, KL: 9.3425\n",
      "\n",
      "===== Epoch 499 =====\n"
     ]
    },
    {
     "name": "stderr",
     "output_type": "stream",
     "text": [
      "Epoch 499/500: 100%|██████████████████████████| 11/11 [00:00<00:00, 1196.41it/s]\n"
     ]
    },
    {
     "name": "stdout",
     "output_type": "stream",
     "text": [
      "Epoch 499, Loss: 28.0990, Recon: 18.7289, KL: 9.3701\n",
      "\n",
      "===== Epoch 500 =====\n"
     ]
    },
    {
     "name": "stderr",
     "output_type": "stream",
     "text": [
      "Epoch 500/500: 100%|██████████████████████████| 11/11 [00:00<00:00, 1188.80it/s]"
     ]
    },
    {
     "name": "stdout",
     "output_type": "stream",
     "text": [
      "Epoch 500, Loss: 28.0154, Recon: 18.6811, KL: 9.3343\n"
     ]
    },
    {
     "name": "stderr",
     "output_type": "stream",
     "text": [
      "\n"
     ]
    }
   ],
   "source": [
    "# Set up model, optimizer, and device\n",
    "input_dim = X_tensor.shape[1]\n",
    "cond_dim = subject_cond_tensor.shape[1]\n",
    "latent_dim = 10\n",
    "hidden_dim = 64 \n",
    "NUM_EPOCH = 500\n",
    "LR = 3e-4\n",
    "device = torch.device(\"cuda\" if torch.cuda.is_available() else \"cpu\")\n",
    "model = CVAE(input_dim=input_dim, cond_dim=cond_dim, latent_dim=latent_dim, hidden_dim=hidden_dim).to(device)\n",
    "optimizer = torch.optim.Adam(model.parameters(), lr=LR)\n",
    "total_loss_hist, recon_loss_hist, kld_loss_hist = train_vae(model, dataloader, optimizer, device=device, epochs=NUM_EPOCH)"
   ]
  },
  {
   "cell_type": "code",
   "execution_count": 16,
   "id": "f6dcdde0-7d83-457e-901f-c243eb756d48",
   "metadata": {},
   "outputs": [
    {
     "data": {
      "image/png": "[encoded data removed]",
      "text/plain": [
       "<Figure size 1000x600 with 1 Axes>"
      ]
     },
     "metadata": {},
     "output_type": "display_data"
    }
   ],
   "source": [
    "plot_vae_losses(total_loss_hist, recon_loss_hist, kld_loss_hist)"
   ]
  },
  {
   "cell_type": "code",
   "execution_count": 17,
   "id": "0604b710-ebdc-4385-a292-f984174e93b3",
   "metadata": {},
   "outputs": [
    {
     "name": "stdout",
     "output_type": "stream",
     "text": [
      "dim of latent mu: (331, 10)\n"
     ]
    },
    {
     "data": {
      "image/png": "[encoded data removed]",
      "text/plain": [
       "<Figure size 800x800 with 1 Axes>"
      ]
     },
     "metadata": {},
     "output_type": "display_data"
    }
   ],
   "source": [
    "mu_all = get_latent_mu_cvae(model, X_tensor, subject_cond_tensor, device=device)\n",
    "# 2d-TSNE\n",
    "z_2d = TSNE(n_components=2, perplexity=8).fit_transform(mu_all)\n",
    "plot_latent_embedding_by_condition_and_subject(z_2d, all_tms_type, all_subject_id)"
   ]
  },
  {
   "cell_type": "code",
   "execution_count": 18,
   "id": "e7ddf46d-25c3-45da-9a53-47c917b0430a",
   "metadata": {},
   "outputs": [
    {
     "name": "stdout",
     "output_type": "stream",
     "text": [
      "Paired t-test: t = -2.669, p = 0.0105\n"
     ]
    },
    {
     "data": {
      "image/png": "[encoded data removed]",
      "text/plain": [
       "<Figure size 800x500 with 1 Axes>"
      ]
     },
     "metadata": {},
     "output_type": "display_data"
    }
   ],
   "source": [
    "df = compute_condition_distances(mu_all, all_tms_type, all_subject_id, condition_map)\n",
    "\n",
    "# Paired t-test\n",
    "t_stat, p_val_t = ttest_rel(df[\"d_null_sham\"], df[\"d_null_real\"])\n",
    "print(f\"Paired t-test: t = {t_stat:.3f}, p = {p_val_t:.4f}\")\n",
    "plot_subject_distance_comparison(df)"
   ]
  },
  {
   "cell_type": "code",
   "execution_count": 22,
   "id": "af00b423-220e-46a9-8ea0-84c613832ae6",
   "metadata": {},
   "outputs": [],
   "source": [
    "output_filename = f\"../../data_mri_processed/dist_summary_roi_{use_roi}.csv\"\n",
    "\n",
    "# Save DataFrame to CSV\n",
    "df.to_csv(output_filename, index=False)"
   ]
  },
  {
   "cell_type": "code",
   "execution_count": 19,
   "id": "18ef521d-531b-4a5e-b417-742359b5334c",
   "metadata": {},
   "outputs": [],
   "source": [
    "df_session_dists = compute_per_session_dist_to_null(mu_all, all_subject_id, all_tms_type, all_session)\n",
    "df_session_dists.head(10)\n",
    "\n",
    "output_filename = f\"../../data_mri_processed/session_distances_roi_{use_roi}.csv\"\n",
    "\n",
    "# Save to CSV\n",
    "df_session_dists.to_csv(output_filename, index=False)"
   ]
  },
  {
   "cell_type": "code",
   "execution_count": null,
   "id": "1a1205a9-5ad3-45c4-8c0c-1237c95bf2d2",
   "metadata": {},
   "outputs": [],
   "source": []
  }
 ],
 "metadata": {
  "kernelspec": {
   "display_name": "Python 3 (ipykernel)",
   "language": "python",
   "name": "python3"
  },
  "language_info": {
   "codemirror_mode": {
    "name": "ipython",
    "version": 3
   },
   "file_extension": ".py",
   "mimetype": "text/x-python",
   "name": "python",
   "nbconvert_exporter": "python",
   "pygments_lexer": "ipython3",
   "version": "3.13.3"
  }
 },
 "nbformat": 4,
 "nbformat_minor": 5
}
